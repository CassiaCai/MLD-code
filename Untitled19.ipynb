{
 "cells": [
  {
   "cell_type": "code",
   "execution_count": null,
   "metadata": {},
   "outputs": [],
   "source": [
    "season = fall_list_reindex #spring #summer #fall #winter\n",
    "variable = 'tempatmld'\n",
    "\n",
    "variablelist_003 = []; yearlist = []; latlist = []; lonlist = []; bottomdepthlist = []; ratiolist = []; mltlist = []\n",
    "for ii in range(len(season)):\n",
    "    variablelist_003.append(season['003densmld'][ii])\n",
    "    yearlist.append(season['year'][ii])\n",
    "    latlist.append(season['obs_lat'][ii])\n",
    "    lonlist.append(season['obs_lon'][ii])\n",
    "    bottomdepthlist.append(season['bottomdepth'][ii])\n",
    "    ratiolist.append((season['003densmld'][ii])/(season['bottomdepth'][ii]))\n",
    "    mltlist.append(season[variable][ii])\n",
    "\n",
    "pandas = pd.DataFrame({'year': yearlist, 'mld': variablelist_003, 'lon': lonlist, 'lat': latlist, 'bottomdepth': bottomdepthlist, 'ratio': ratiolist, 'mlt': mltlist})\n",
    "\n",
    "print(len(pandas))"
   ]
  },
  {
   "cell_type": "code",
   "execution_count": null,
   "metadata": {},
   "outputs": [],
   "source": [
    "import numpy as np\n",
    "from matplotlib.path import Path\n",
    "\n",
    "nx = np.arange(-76,-65,0.05) # 0.05 resolution here\n",
    "ny = np.arange(35,46,0.05) # 0.05 resolution here\n",
    "\n",
    "poly_verts_w = df_w_plottable.values  #df_w_plottable are points of eco-region shapes\n",
    "poly_verts_v = df_v_plottable.values \n",
    "poly_verts_x = df_x_plottable.values \n",
    "poly_verts_y = df_y_plottable.values \n",
    "poly_verts_t = df_t_plottable.values \n",
    "\n",
    "full_pandas = df_w_plottable.append(df_v_plottable)\n",
    "full_pandas = full_pandas.append(df_x_plottable)\n",
    "full_pandas = full_pandas.append(df_y_plottable)\n",
    "full_pandas = full_pandas.append(df_t_plottable)\n",
    "poly_verts_full = full_pandas.values\n",
    "\n",
    "newlon = [-69.5,-68,-67.5, -67, -66.5, -66, -65.7, -66,-66, -66.5, -67,\n",
    "         -68, -69, -70,-70.5, -70.5,-69.5, -72, -74, -74.25, -76, -75.5, -75, -74.75, -74.5, -72, -71.4, -69.5]\n",
    "newlat = [40,40.3,40.4, 40.6, 40.8, 41.45, 41.8, 42.1, 43, 44.2, 44.2, 44.2, 43.9, 43.7,\n",
    "         43, 42.2, 41, 41, 40.5, 39.4, 37, 36, 35.5, 36, 37.4, 39.5, 40, 40]\n",
    "\n",
    "newpath = list(zip(newlon,newlat))\n",
    "newpd = pd.DataFrame(newpath, columns=['lon','lat'])\n",
    "path_new = Path(newpath)\n",
    "\n",
    "x, y = np.meshgrid(nx, ny)\n",
    "x, y = x.flatten(), y.flatten()\n",
    "\n",
    "points = np.vstack((x,y)).T\n",
    "\n",
    "path_w = Path(poly_verts_w)\n",
    "path_v = Path(poly_verts_v)\n",
    "path_x = Path(poly_verts_x)\n",
    "path_y = Path(poly_verts_y)\n",
    "path_t = Path(poly_verts_t)\n",
    "path_full = Path(poly_verts_full)\n",
    "\n",
    "grid = path_new.contains_points(points) \n",
    "grid = grid.reshape((220,220))"
   ]
  },
  {
   "cell_type": "code",
   "execution_count": null,
   "metadata": {},
   "outputs": [],
   "source": [
    "yearlist = list(df.year.unique())\n",
    "yearlistint = [int(i) for i in yearlist]\n",
    "print(yearlistint)"
   ]
  },
  {
   "cell_type": "code",
   "execution_count": null,
   "metadata": {},
   "outputs": [],
   "source": [
    "# interpolation happens here\n",
    "full_of_zi = []\n",
    "for i in range(len(yearlistint)):\n",
    "    df_new = df[df.year == yearlistint[i]]\n",
    "    x = df_new['lon']*-1\n",
    "    y = df_new['lat']\n",
    "    z = df_new['mlt']\n",
    "    \n",
    "    xi = np.arange(-76,-65,0.05)\n",
    "    yi = np.arange(35,46,0.05)\n",
    "\n",
    "    xi,yi = np.meshgrid(xi,yi)\n",
    "    zi = griddata((x,y),z,(xi,yi),method='linear') \n",
    "    zi = zi.reshape((220,220)) \n",
    "    full_of_zi.append(zi)"
   ]
  },
  {
   "cell_type": "code",
   "execution_count": null,
   "metadata": {},
   "outputs": [],
   "source": [
    "meangrid = np.nanmean(full_of_zi,axis = 0)\n",
    "meangrid_nangrid = np.where(grid == False, np.nan, grid)\n",
    "try_meangrid = np.where(meangrid_nangrid == 1., meangrid, meangrid_nangrid)"
   ]
  },
  {
   "cell_type": "code",
   "execution_count": null,
   "metadata": {},
   "outputs": [],
   "source": [
    "fig = plt.figure()\n",
    "ax = fig.add_subplot(111)\n",
    "ax.imshow(try_meangrid)"
   ]
  },
  {
   "cell_type": "code",
   "execution_count": null,
   "metadata": {},
   "outputs": [],
   "source": [
    "from matplotlib.pyplot import * ; import cartopy.feature as cfeature\n",
    "from matplotlib import cm, colors\n",
    "import cmocean\n",
    "\n",
    "plt.figure(figsize=(12, 8))\n",
    "ax = plt.axes(projection=ccrs.PlateCarree())\n",
    "ax.set_extent([-75.75, -65.75, 35, 44.75], ccrs.PlateCarree())\n",
    "\n",
    "gl = ax.gridlines(crs=ccrs.PlateCarree(), draw_labels=True,linewidth=1, color='black', alpha=0.2, linestyle='--', zorder = 20)\n",
    "gl.xlabels_top = False\n",
    "gl.ylabels_left = True\n",
    "gl.ylabels_right = False\n",
    "gl.xformatter = LONGITUDE_FORMATTER\n",
    "gl.yformatter = LATITUDE_FORMATTER\n",
    "gl.xlabel_style = {'size': 12, 'color': 'black'}\n",
    "gl.ylabel_style = {'size': 12, 'color': 'black'}\n",
    "\n",
    "# --------------\n",
    "cmin = 0#0 #6#0#0 #30.0\n",
    "cmax = 26#1 #26#12#24.5 #34.5\n",
    "clev = 52#25 #40#24 #49 #45.\n",
    "dc = (cmax - cmin)/clev ; vcs = np.arange(cmin,cmax+dc,dc)\n",
    "pal_norms = colors.BoundaryNorm(vcs,ncolors=256, clip = False)\n",
    "# --------------\n",
    "plt.text(-68.85, 35.85, 'd. Fall', dict(size=20))\n",
    "\n",
    "cf = plt.pcolor(xi,yi,try_meangrid, cmap = cm.gist_stern, norm = pal_norms,zorder =2)\n",
    "\n",
    "\n",
    "ax.contour(lonNC, latNC, depthNC, [-400,-300], linewidths=1,colors='black', alpha = 1,zorder=5) #alpha = 0.7\n",
    "ax.contour(lonNC, latNC, depthNC, [-200,-100], linewidths=0.6,colors='black', alpha = 1,zorder=5) #alpha = 0.7\n",
    "ax.contour(lonNC, latNC, depthNC, [-75,-50,-25], linewidths=0.6,colors='black',zorder=5)\n",
    "\n",
    "feature = cfeature.NaturalEarthFeature(name='coastline', category='physical',scale='50m',edgecolor='black', facecolor='dimgray')\n",
    "ax.add_feature(feature,zorder=10)\n",
    "cbar = plt.colorbar(cf, ticks=np.arange(0.,27,2))\n",
    "cbar.ax.get_yaxis().labelpad = 20\n",
    "\n",
    "########## cbar.ax.set_ylabel('MLD / Bottom Depth', rotation=270, fontsize = 15)\n",
    "cbar.ax.tick_params(labelsize=12)\n",
    "\n",
    "plt.show()"
   ]
  }
 ],
 "metadata": {
  "kernelspec": {
   "display_name": "Python 3",
   "language": "python",
   "name": "python3"
  },
  "language_info": {
   "codemirror_mode": {
    "name": "ipython",
    "version": 3
   },
   "file_extension": ".py",
   "mimetype": "text/x-python",
   "name": "python",
   "nbconvert_exporter": "python",
   "pygments_lexer": "ipython3",
   "version": "3.7.1"
  }
 },
 "nbformat": 4,
 "nbformat_minor": 2
}
