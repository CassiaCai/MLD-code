{
 "cells": [
  {
   "cell_type": "code",
   "execution_count": 1439,
   "metadata": {},
   "outputs": [],
   "source": [
    "import matplotlib.pyplot as plt; import numpy as np; import netCDF4; from netCDF4 import Dataset\n",
    "import pandas as pd; import numpy.ma as ma; import time as timeit; import os; import math; import re\n",
    "import itertools; import scipy.io; import mat73; import collections\n",
    "import cartopy; import cartopy.crs as ccrs\n",
    "from cartopy.mpl.gridliner import LONGITUDE_FORMATTER, LATITUDE_FORMATTER\n",
    "from matplotlib.ticker import FuncFormatter\n",
    "from matplotlib.ticker import AutoMinorLocator; from matplotlib.ticker import FixedLocator\n",
    "from shapely.geometry import Point; from shapely.geometry.polygon import Polygon\n",
    "%matplotlib inline\n",
    "import statistics; import xarray as xr; from scipy.interpolate import griddata\n",
    "from matplotlib.path import Path; from numpy import nan; import gsw"
   ]
  },
  {
   "cell_type": "code",
   "execution_count": 1440,
   "metadata": {},
   "outputs": [],
   "source": [
    "import matplotlib as mpl"
   ]
  },
  {
   "cell_type": "code",
   "execution_count": 1441,
   "metadata": {},
   "outputs": [],
   "source": [
    "neww = [['', '', '40.00', '', '', '69.50'], ['', '', '40.30', '', '', '68.00'], ['', '', '40.40', '', '', '67.50'], ['', '', '40.60', '', '', '67.00'], ['', '', '40.80', '', '', '66.50'], ['', '', '41.45', '', '', '66.00'], ['', '', '41.80', '', '', '65.70'], ['', '', '42.10', '', '', '66.00'], ['', '', '42.10', '', '', '67.00'], ['', '', '42.10', '', '', '67.50'], ['', '', '41.80', '', '', '68.00'], ['', '', '41.10', '', '', '69.00'], ['', '', '41.00', '', '', '69.50'], ['', '', '40.00', '', '', '69.50']]\n",
    "lon_w = []; lat_w = []\n",
    "for i in range(14): \n",
    "    w1 = neww[i][2]\n",
    "    lat_w.append(w1)\n",
    "    w3 = neww[i][5]\n",
    "    lon_w.append(w3)\n",
    "lonlist_w = [float(i) for i in lon_w]; latlist_w = [float(i) for i in lat_w]\n",
    "lonlist_wneg = [float(i)*-1 for i in lon_w]\n",
    "df_w = pd.DataFrame({'lon': lonlist_w, 'lat': latlist_w,})\n",
    "df_w_plottable = pd.DataFrame({'lon': lonlist_wneg, 'lat': latlist_w,})\n",
    "\n",
    "lonlist_w_plot = [float(i)*-1 for i in lon_w]; latlist_w = [float(i) for i in lat_w]\n",
    "df_w_plot = pd.DataFrame({'lon': lonlist_w_plot, 'lat': latlist_w,})\n",
    "x_w = df_w_plot['lon']; y_w = df_w_plot['lat']\n",
    "polygon_w = Polygon(df_w.values)"
   ]
  },
  {
   "cell_type": "code",
   "execution_count": 1442,
   "metadata": {},
   "outputs": [],
   "source": [
    "newv = [['', '', '37.00', '', '', '76.00'], ['', '', '36.00', '', '', '75.50'], ['', '', '35.50', '', '', '75.00'], ['', '', '36.00', '', '', '74.75'], ['', '', '37.40', '', '', '74.50'], ['', '', '39.50', '', '', '72.00'], ['', '', '40.50', '', '', '74.00'], ['', '', '39.40', '', '', '74.25'], ['', '', '37.00', '', '', '76.00']]\n",
    "lon_v = []; lat_v = []\n",
    "for i in range(9): \n",
    "    v1 = newv[i][2]\n",
    "    lat_v.append(v1)\n",
    "    v3 = newv[i][5]\n",
    "    lon_v.append(v3)\n",
    "lonlist_v = [float(i) for i in lon_v]; latlist_v = [float(i) for i in lat_v]\n",
    "df_v = pd.DataFrame({'lon': lonlist_v, 'lat': latlist_v,})\n",
    "lonlist_v_plot = [float(i)*-1 for i in lon_v]; latlist_v = [float(i) for i in lat_v]\n",
    "df_v_plot = pd.DataFrame({'lon': lonlist_v_plot, 'lat': latlist_v,})\n",
    "x_v = df_v_plot['lon']; y_v = df_v_plot['lat']\n",
    "\n",
    "lonlist_vneg = [float(i)*-1 for i in lon_v]\n",
    "df_v_plottable = pd.DataFrame({'lon': lonlist_vneg, 'lat': latlist_v,})\n",
    "polygon_v = Polygon(df_v.values.tolist())"
   ]
  },
  {
   "cell_type": "code",
   "execution_count": 1443,
   "metadata": {},
   "outputs": [],
   "source": [
    "newx = [['', '', '40.50', '', '', '74.00'], ['', '', '39.50', '', '', '72.00'], ['', '', '40.00', '', '', '71.40'], ['', '', '40.00', '', '', '69.50'], ['', '', '41.00', '', '', '69.50'], ['', '', '41.10', '', '', '70.00'], ['', '', '41.00', '', '', '72.00'], ['', '', '40.50', '', '', '74.00']]\n",
    "lon_x = []; lat_x = []\n",
    "for i in range(8): \n",
    "    x1 = newx[i][2]\n",
    "    lat_x.append(x1)\n",
    "    x3 = newx[i][5]\n",
    "    lon_x.append(x3)\n",
    "lonlist_x = [float(i) for i in lon_x]; latlist_x = [float(i) for i in lat_x]\n",
    "df_x = pd.DataFrame({'lon': lonlist_x, 'lat': latlist_x,})\n",
    "lonlist_x_plot = [float(i)*-1 for i in lon_x]; latlist_x = [float(i) for i in lat_x]\n",
    "df_x_plot = pd.DataFrame({'lon': lonlist_x_plot, 'lat': latlist_x,})\n",
    "x_x = df_x_plot['lon']; y_x = df_x_plot['lat']\n",
    "\n",
    "lonlist_xneg = [float(i)*-1 for i in lon_x]\n",
    "df_x_plottable = pd.DataFrame({'lon': lonlist_xneg, 'lat': latlist_x,})\n",
    "polygon_x = Polygon(df_x.values.tolist())"
   ]
  },
  {
   "cell_type": "code",
   "execution_count": 1444,
   "metadata": {},
   "outputs": [],
   "source": [
    "newy = [['', '', '41.80', '', '', '68.00'], ['', '', '42.10', '', '', '67.50'], ['', '', '42.10', '', '', '67.00'], ['', '', '42.10', '', '', '66.00'], ['', '', '43.00', '', '', '66.00'], ['', '', '44.20', '', '', '66.50'], ['', '', '44.20', '', '', '67.00'], ['', '', '44.20', '', '', '68.00'], ['', '', '41.80', '', '', '68.00']]\n",
    "lon_y = []; lat_y = []\n",
    "for i in range(9): \n",
    "    y1 = newy[i][2]\n",
    "    lat_y.append(y1)\n",
    "    y3 = newy[i][5]\n",
    "    lon_y.append(y3)\n",
    "lonlist_y = [float(i) for i in lon_y]; latlist_y = [float(i) for i in lat_y]\n",
    "df_y = pd.DataFrame({'lon': lonlist_y, 'lat': latlist_y,})\n",
    "lonlist_y_plot = [float(i)*-1 for i in lon_y]; latlist_y = [float(i) for i in lat_y]\n",
    "df_y_plot = pd.DataFrame({'lon': lonlist_y_plot, 'lat': latlist_y,})\n",
    "x_y = df_y_plot['lon']; y_y = df_y_plot['lat']\n",
    "\n",
    "lonlist_yneg = [float(i)*-1 for i in lon_y]\n",
    "df_y_plottable = pd.DataFrame({'lon': lonlist_yneg, 'lat': latlist_y,})\n",
    "polygon_y = Polygon(df_y.values)"
   ]
  },
  {
   "cell_type": "code",
   "execution_count": 1445,
   "metadata": {},
   "outputs": [],
   "source": [
    "newt = [['', '', '42.20', '', '', '70.50'], ['', '', '42.00', '', '', '70.00'], ['', '', '41.10', '', '', '69.00'], ['', '', '41.80', '', '', '68.00'], ['', '', '44.20', '', '', '68.00'], ['', '', '43.90', '', '', '69.00'], ['', '', '43.70', '', '', '70.00'], ['', '', '43.00', '', '', '70.50'], ['', '', '42.20', '', '', '70.50']]\n",
    "lon_t = []; lat_t = []\n",
    "for i in range(9): \n",
    "    t1 = newt[i][2]\n",
    "    lat_t.append(t1)\n",
    "    t3 = newt[i][5]\n",
    "    lon_t.append(t3)\n",
    "lonlist_t = [float(i) for i in lon_t]; latlist_t = [float(i) for i in lat_t]\n",
    "df_t = pd.DataFrame({'lon': lonlist_t, 'lat': latlist_t,})\n",
    "lonlist_t_plot = [float(i)*-1 for i in lon_t]; latlist_t = [float(i) for i in lat_t]\n",
    "df_t_plot = pd.DataFrame({'lon': lonlist_t_plot, 'lat': latlist_t,})\n",
    "x_t = df_t_plot['lon']; y_t = df_t_plot['lat']\n",
    "\n",
    "lonlist_tneg = [float(i)*-1 for i in lon_t]\n",
    "df_t_plottable = pd.DataFrame({'lon': lonlist_tneg, 'lat': latlist_t,})\n",
    "polygon_t = Polygon(df_t.values)"
   ]
  },
  {
   "cell_type": "code",
   "execution_count": 1536,
   "metadata": {
    "scrolled": true
   },
   "outputs": [
    {
     "name": "stdout",
     "output_type": "stream",
     "text": [
      "1993\n",
      "1994\n",
      "1995\n",
      "1996\n",
      "1997\n",
      "1998\n",
      "1999\n",
      "2000\n"
     ]
    },
    {
     "name": "stderr",
     "output_type": "stream",
     "text": [
      "/anaconda3/lib/python3.7/site-packages/numpy/core/fromnumeric.py:3373: RuntimeWarning: Mean of empty slice.\n",
      "  out=out, **kwargs)\n",
      "/anaconda3/lib/python3.7/site-packages/numpy/core/_methods.py:170: RuntimeWarning: invalid value encountered in double_scalars\n",
      "  ret = ret.dtype.type(ret / rcount)\n"
     ]
    },
    {
     "name": "stdout",
     "output_type": "stream",
     "text": [
      "2001\n",
      "2002\n",
      "2003\n",
      "2004\n",
      "2005\n",
      "2006\n",
      "2007\n",
      "2008\n",
      "2009\n",
      "2010\n",
      "2011\n",
      "2012\n",
      "2013\n",
      "2014\n",
      "2015\n",
      "2016\n",
      "2017\n",
      "2018\n"
     ]
    }
   ],
   "source": [
    "years = []\n",
    "seasonyeardepth = []; countwithinpolygon = []; correctedwospatdiffmean = [] ; latlat = []; ydyd = []\n",
    "ratio_of_water_column = []; now = []; later = []; ratio_of_water_column_corrected = [] ; lonlon = []\n",
    "for year in range(1993,2019):\n",
    "    filename = 'casts_{}.mat'.format(year)\n",
    "    file = scipy.io.loadmat(filename,squeeze_me=True)\n",
    "    npfile = file['casts_{}'.format(year)]\n",
    "    \n",
    "    lat_intermediate = []; lon_intermediate = []; yd_intermediate = []\n",
    "    p_intermediate = []; t_intermediate = []; sal_intermediate = []\n",
    "    floor_intermediate = []; surfaceval_list = []\n",
    "    seasonyeardepth2 = []; ratio_of_water_column2 = []\n",
    "    \n",
    "    for i in range(len(npfile)):\n",
    "        yd = npfile[i]['yd']\n",
    "        p = npfile[i]['p']\n",
    "        s = npfile[i]['s']\n",
    "        t = npfile[i]['t']\n",
    "        gear = npfile[i]['gear']\n",
    "        floordepth = npfile[i]['depth']\n",
    "        if (yd > 334 and yd <= 365) or (yd >= 0 and yd <= 59) :\n",
    "#         if yd > 243 and yd <= 334:\n",
    "#         if yd > 334 and yd <= 365 and floordepth <= 200:\n",
    "            lat_intermediate.append(npfile[i]['lat'])\n",
    "            lon_intermediate.append(npfile[i]['lon'])\n",
    "            p_intermediate.append(npfile[i]['p'])\n",
    "            t_intermediate.append(npfile[i]['t'])\n",
    "            yd_intermediate.append(npfile[i]['yd'])\n",
    "            sal_intermediate.append(npfile[i]['s'])\n",
    "            floor_intermediate.append(npfile[i]['depth'])\n",
    "    month_df = pd.DataFrame({'day': yd_intermediate,'lon': lon_intermediate,'lat': lat_intermediate, 'p': p_intermediate, 't': t_intermediate,'depth': floor_intermediate, 's': sal_intermediate})\n",
    "    newdf = pd.DataFrame({'lon': lon_intermediate,'lat': lat_intermediate,'date': yd_intermediate})\n",
    "    for ii in range(len(month_df)):\n",
    "        new = newdf.iloc[ii].values\n",
    "        point = Point(new)\n",
    "        if isinstance(month_df['p'].iloc[ii], int) or isinstance(month_df['p'].iloc[ii], float) or isinstance(month_df['t'].iloc[ii], int) or isinstance(month_df['t'].iloc[ii], float):\n",
    "            pass\n",
    "        elif polygon_t.contains(point) == True:\n",
    "            CT = gsw.CT_from_pt(month_df['s'].iloc[ii],month_df['t'].iloc[ii])\n",
    "            DENS = gsw.sigma0(month_df['s'].iloc[ii],CT)\n",
    "            pt_df = pd.DataFrame({'p': month_df['p'].iloc[ii],'t': month_df['t'].iloc[ii], 's': month_df['s'].iloc[ii], 'CT': CT, 'DENSMLD': DENS}) \n",
    "            df_ptsnew = pt_df.dropna()\n",
    "            df_final = pd.DataFrame(df_ptsnew.values)\n",
    "            countwithinpolygon.append(1)\n",
    "            l=[i for i in df_final[0] if i<=4] \n",
    "            if len(l) > 0:\n",
    "                surfaceval = []\n",
    "                numrange = []\n",
    "                for iii in range(len(l)):\n",
    "                    val = df_final[1][iii]\n",
    "                    numrange.append(iii)\n",
    "                    surfaceval.append(val)            \n",
    "            surfacevalmean = statistics.mean(surfaceval)\n",
    "            densfin = []; tempfin = []; pressurefin = []; salfin = []\n",
    "            for iii in range(numrange[-1],len(df_final)):\n",
    "                tempfin.append(df_final[1][iii])\n",
    "                pressurefin.append(df_final[0][iii])\n",
    "                salfin.append(df_final[2][iii])\n",
    "                densfin.append(df_final[4][iii])\n",
    "            d = {'temp': list(reversed(tempfin)), 'sal': list(reversed(salfin)), 'pressure': list(reversed(pressurefin)),'density': list(reversed(densfin))}\n",
    "            dunreversed = {'temp': list(tempfin), 'sal': list(salfin), 'pressure': list(pressurefin), 'density': list(densfin)}\n",
    "            dffinunreversed = pd.DataFrame(dunreversed)\n",
    "            dffin = pd.DataFrame(d)\n",
    "            \n",
    "            for ix in range(len(dffinunreversed)):\n",
    "                if dffinunreversed.at[ix,'temp'] >= (surfacevalmean - 0.2) and dffinunreversed.at[ix,'temp'] <= (surfacevalmean + 0.2):\n",
    "                    if dffinunreversed.at[len(dffinunreversed)-1,'temp'] <= (surfacevalmean + 0.2) and dffinunreversed.at[len(dffinunreversed)-1,'temp'] >= (surfacevalmean - 0.2):\n",
    "                        looknow = list(dffinunreversed['temp'].values)\n",
    "                        looknow2 = [i for i in looknow if i >= (surfacevalmean + 0.2)]\n",
    "                        looknow3 = [i for i in looknow if i <= (surfacevalmean - 0.2)]\n",
    "                        if len(looknow2) == 0 and len(looknow3) == 0:\n",
    "                            if dffinunreversed.at[len(dffinunreversed)-1,'pressure'] >= (month_df['depth'].iloc[ii] - (month_df['depth'].iloc[ii]*0.15)):\n",
    "                                if dffinunreversed.at[ix,'pressure'] <= (month_df['depth'].iloc[ii] - (month_df['depth'].iloc[ii]*0.15)):\n",
    "                                    seasonyeardepth.append(month_df['depth'].iloc[ii])\n",
    "                                    seasonyeardepth2.append(month_df['depth'].iloc[ii])\n",
    "                                    ratio_of_water_column.append(1.0)\n",
    "                                    ratio_of_water_column2.append(1.0)\n",
    "                                    latlat.append(month_df['lat'].iloc[ii])\n",
    "                                    lonlon.append(month_df['lat'].iloc[ii])\n",
    "                                    ydyd.append(month_df['day'].iloc[ii])\n",
    "                                    years.append(year)\n",
    "#                                     fig, (ax1) = plt.subplots(1,1)\n",
    "#                                     ax1.plot(df_final[1],df_final[0]*-1,color='purple')\n",
    "#                                     ax1.axhline(y=month_df['depth'].iloc[ii]*-1, color='r', linestyle='--')\n",
    "#                                     ax1.axhline(y=month_df['depth'].iloc[ii]*-1, color='green', linestyle='--')\n",
    "                                    break\n",
    "                                else:\n",
    "                                    seasonyeardepth.append(month_df['depth'].iloc[ii])\n",
    "                                    seasonyeardepth2.append(month_df['depth'].iloc[ii])\n",
    "                                    ratio_of_water_column.append(1.0)\n",
    "                                    ratio_of_water_column2.append(1.0)\n",
    "                                    latlat.append(month_df['lat'].iloc[ii])\n",
    "                                    lonlon.append(month_df['lat'].iloc[ii])\n",
    "                                    ydyd.append(month_df['day'].iloc[ii])\n",
    "                                    years.append(year)\n",
    "#                                     fig, (ax1) = plt.subplots(1,1)\n",
    "#                                     ax1.plot(df_final[1],df_final[0]*-1,color='green')\n",
    "#                                     ax1.axhline(y=dffinunreversed.at[ix,'pressure']*-1, color='r', linestyle='--')\n",
    "#                                     ax1.axhline(y=month_df['depth'].iloc[ii]*-1, color='green', linestyle='--')\n",
    "                                    break\n",
    "                            else:\n",
    "                                if dffinunreversed.at[len(dffinunreversed)-1,'pressure'] >= (month_df['depth'].iloc[ii] - (month_df['depth'].iloc[ii]*0.15)):\n",
    "#                                     fig, (ax1) = plt.subplots(1,1)\n",
    "#                                     ax1.plot(df_final[1],df_final[0]*-1,color='blue')\n",
    "#                                     ax1.axhline(y=month_df['depth'].iloc[ii]*-1, color='r', linestyle='--')\n",
    "                                    seasonyeardepth.append(month_df['depth'].iloc[ii])\n",
    "                                    seasonyeardepth2.append(month_df['depth'].iloc[ii])\n",
    "                                    ratio_val = 1.0\n",
    "                                    ratio_of_water_column.append(ratio_val)\n",
    "                                    ratio_of_water_column2.append(ratio_val)\n",
    "                                    latlat.append(month_df['lat'].iloc[ii])\n",
    "                                    lonlon.append(month_df['lat'].iloc[ii])\n",
    "                                    ydyd.append(month_df['day'].iloc[ii])\n",
    "                                    years.append(year)\n",
    "                                    break\n",
    "                        else:\n",
    "                            if dffinunreversed.at[len(dffinunreversed)-1,'pressure'] >= (month_df['depth'].iloc[ii] - (month_df['depth'].iloc[ii]*0.15)):\n",
    "                                for ix in range(len(dffinunreversed['temp'])):\n",
    "                                    if dffinunreversed.at[ix,'temp'] >= (surfacevalmean - 0.2) and dffinunreversed.at[ix,'temp'] <= (surfacevalmean + 0.2):\n",
    "                                        pass\n",
    "                                    else:\n",
    "                                        if dffinunreversed.at[ix,'pressure'] >= 5:\n",
    "                                            seasonyeardepth.append(dffinunreversed.at[ix,'pressure'])\n",
    "                                            seasonyeardepth2.append(dffinunreversed.at[ix,'pressure'])\n",
    "                                            ratio_val = 1.0\n",
    "                                            ratio_of_water_column.append(ratio_val)\n",
    "                                            ratio_of_water_column2.append(ratio_val)\n",
    "                                            latlat.append(month_df['lat'].iloc[ii])\n",
    "                                            lonlon.append(month_df['lat'].iloc[ii])\n",
    "                                            ydyd.append(month_df['day'].iloc[ii])\n",
    "                                            years.append(year)\n",
    "#                                             fig, (ax1) = plt.subplots(1,1)                                \n",
    "#                                             ax1.plot(df_final[1],df_final[0]*-1,color='black')\n",
    "#                                             ax1.axhline(y=dffinunreversed.at[ix,'temp']*-1, color='r', linestyle='--')\n",
    "#                                             ax1.axhline(y=month_df['depth'].iloc[ii]*-1, color='green', linestyle='--')\n",
    "                                            break\n",
    "                                        else:\n",
    "#                                             seasonyeardepth.append('pass2')\n",
    "                                            break\n",
    "                                break \n",
    "                    else:\n",
    "                        if dffinunreversed.at[ix,'temp'] <= (surfacevalmean - 0.2) or dffinunreversed.at[ix,'temp'] >= (surfacevalmean + 0.2):\n",
    "                            if dffinunreversed.at[ix,'pressure'] <= (month_df['depth'].iloc[ii] - (month_df['depth'].iloc[ii]*0.15)):\n",
    "                                pass\n",
    "                            else:\n",
    "#                                 seasonyeardepth.append(5)\n",
    "                                seasonyeardepth.append(dffinunreversed.at[ix,'pressure'])\n",
    "                                seasonyeardepth2.append(dffinunreversed.at[ix,'pressure'])\n",
    "                                ratio_val = (dffinunreversed.at[ix,'pressure'])/(month_df['depth'].iloc[ii])\n",
    "                                ratio_of_water_column.append(ratio_val)\n",
    "                                ratio_of_water_column2.append(ratio_val)\n",
    "                                latlat.append(month_df['lat'].iloc[ii])\n",
    "                                lonlon.append(month_df['lat'].iloc[ii])\n",
    "                                ydyd.append(month_df['day'].iloc[ii])\n",
    "                                years.append(year)\n",
    "#                                 fig, (ax1) = plt.subplots(1,1)\n",
    "#                                 ax1.plot(df_final[1],df_final[0]*-1,color='orange')\n",
    "#                                 ax1.axhline(y=dffinunreversed.at[ix,'pressure']*-1, color='r', linestyle='--')\n",
    "                                break           \n",
    "                        else: \n",
    "                            if dffinunreversed.at[ix,'temp'] >= (surfacevalmean + 0.2) or dffinunreversed.at[ix,'temp'] <= (surfacevalmean - 0.2):\n",
    "                                seasonyeardepth.append('pass4')\n",
    "                                break\n",
    "#                                 pass\n",
    "                elif dffinunreversed.at[ix,'temp'] <= (surfacevalmean - 0.2) or dffinunreversed.at[ix,'temp'] >= (surfacevalmean + 0.2):\n",
    "                    if dffinunreversed.at[ix,'pressure'] <= (month_df['depth'].iloc[ii] - (month_df['depth'].iloc[ii]*0.15)):\n",
    "                        pass\n",
    "                    else:\n",
    "                        for ix in range(len(dffinunreversed['temp'])):\n",
    "                            if dffinunreversed.at[ix,'temp'] >= (surfacevalmean - 0.2) and dffinunreversed.at[ix,'temp'] <= (surfacevalmean + 0.2):\n",
    "                                pass\n",
    "                            else:\n",
    "                                if dffinunreversed.at[ix,'pressure'] >= 5.0:\n",
    "                                    seasonyeardepth.append(dffinunreversed.at[ix,'pressure'])\n",
    "                                    seasonyeardepth2.append(dffinunreversed.at[ix,'pressure'])\n",
    "                                    ratio_val = (dffinunreversed.at[ix,'pressure'])/(month_df['depth'].iloc[ii])\n",
    "                                    ratio_of_water_column.append(ratio_val)\n",
    "                                    ratio_of_water_column2.append(ratio_val)\n",
    "                                    latlat.append(month_df['lat'].iloc[ii])\n",
    "                                    lonlon.append(month_df['lat'].iloc[ii])\n",
    "                                    ydyd.append(month_df['day'].iloc[ii])\n",
    "                                    years.append(year)\n",
    "#                                     fig, (ax1) = plt.subplots(1,1)\n",
    "#                                     ax1.plot(df_final[1],df_final[0]*-1,color='pink')\n",
    "#                                     ax1.axhline(y=dffinunreversed.at[ix,'pressure']*-1, color='r', linestyle='--')\n",
    "#                                     ax1.axhline(y=month_df['depth'].iloc[ii]*-1, color='green', linestyle='--')\n",
    "                                    break\n",
    "                                else:\n",
    "                                    break\n",
    "                        break\n",
    "                else: \n",
    "#                     fig, (ax1) = plt.subplots(1,1)\n",
    "#                     ax1.plot(df_final[1],df_final[0]*-1,color='grey')\n",
    "#                     ax1.axhline(y=dffinunreversed.at[ix,'pressure']*-1, color='r', linestyle='--')\n",
    "#                     pass\n",
    "                    seasonyeardepth.append('pass9')\n",
    "                    break\n",
    "                            \n",
    "    print(year)\n",
    "#     print(seasonyeardepth2)\n",
    "#     print(ratio_of_water_column2)\n",
    "    correctedwospatdiffmean.append(np.mean(np.mean(seasonyeardepth2)))\n",
    "    ratio_of_water_column_corrected.append(np.mean(np.mean(ratio_of_water_column2)))"
   ]
  },
  {
   "cell_type": "code",
   "execution_count": 1447,
   "metadata": {},
   "outputs": [
    {
     "name": "stdout",
     "output_type": "stream",
     "text": [
      "478\n",
      "576\n",
      "98\n",
      "82.84148456315813\n",
      "17.948999348077272\n",
      "123.0\n",
      "48.851851851851855\n",
      "70.17504743833018\n",
      "92.84326923076924\n"
     ]
    }
   ],
   "source": [
    "q75, q25 = np.nanpercentile(correctedwospatdiffmean, [75 ,25])\n",
    "print(len(seasonyeardepth))\n",
    "print(len(countwithinpolygon))\n",
    "difference = len(countwithinpolygon) - len(seasonyeardepth)\n",
    "print(difference)\n",
    "print(np.nanmean(correctedwospatdiffmean))\n",
    "print(np.nanstd(correctedwospatdiffmean))\n",
    "print(np.nanmax(correctedwospatdiffmean))\n",
    "print(np.nanmin(correctedwospatdiffmean))\n",
    "print(q25)\n",
    "print(q75)"
   ]
  },
  {
   "cell_type": "code",
   "execution_count": 1448,
   "metadata": {},
   "outputs": [
    {
     "name": "stdout",
     "output_type": "stream",
     "text": [
      "76.6663179916318\n",
      "37.3452250234151\n",
      "201.0\n",
      "5.0\n",
      "48.0\n",
      "101.0\n"
     ]
    }
   ],
   "source": [
    "seaq75, seaq25 = np.nanpercentile(seasonyeardepth, [75 ,25])\n",
    "print(np.nanmean(seasonyeardepth))\n",
    "print(np.nanstd(seasonyeardepth))\n",
    "print(np.nanmax(seasonyeardepth))\n",
    "print(np.nanmin(seasonyeardepth))\n",
    "print(seaq25)\n",
    "print(seaq75)"
   ]
  },
  {
   "cell_type": "code",
   "execution_count": 1449,
   "metadata": {},
   "outputs": [
    {
     "name": "stdout",
     "output_type": "stream",
     "text": [
      "0.609005987727315\n",
      "0.12116792343684195\n",
      "0.8666666666666667\n",
      "0.3445498977870478\n",
      "0.5568172763253427\n",
      "0.6906259338398597\n"
     ]
    }
   ],
   "source": [
    "rq75, rq25 = np.nanpercentile(ratio_of_water_column_corrected, [75 ,25])\n",
    "print(np.nanmean(ratio_of_water_column_corrected))\n",
    "print(np.nanstd(ratio_of_water_column_corrected))\n",
    "print(np.nanmax(ratio_of_water_column_corrected))\n",
    "print(np.nanmin(ratio_of_water_column_corrected))\n",
    "print(rq25)\n",
    "print(rq75)"
   ]
  },
  {
   "cell_type": "code",
   "execution_count": 1450,
   "metadata": {},
   "outputs": [
    {
     "name": "stdout",
     "output_type": "stream",
     "text": [
      "0.5940942859831152\n",
      "0.29289187677210876\n",
      "1.0\n",
      "0.023255813953488372\n",
      "0.3720620185660676\n",
      "0.9136913331413764\n"
     ]
    }
   ],
   "source": [
    "rwc_rq75, rwc_rq25 = np.nanpercentile(ratio_of_water_column, [75 ,25])\n",
    "print(np.nanmean(ratio_of_water_column))\n",
    "print(np.nanstd(ratio_of_water_column))\n",
    "print(np.nanmax(ratio_of_water_column))\n",
    "print(np.nanmin(ratio_of_water_column))\n",
    "print(rwc_rq25)\n",
    "print(rwc_rq75)"
   ]
  },
  {
   "cell_type": "code",
   "execution_count": 1319,
   "metadata": {},
   "outputs": [],
   "source": [
    "# t_seasonyeardepth_len = []; t_countwithinpolygon_list = []; t_diff = []\n",
    "# t_sea_mld_mean = []; t_sea_mld_std = []; t_sea_mld_max = []; t_sea_mld_min = []; t_sea_mld_q25 = []; t_sea_mld_q75 = []\n",
    "# t_csd_ratio_mean = []; t_csd_ratio_std = []; t_csd_ratio_max = []; t_csd_ratio_min = []; t_csd_ratio_q25 = []; t_csd_ratio_q75 = []\n",
    "# t_rcc_ratio_mean = []; t_rcc_ratio_std = []; t_rcc_ratio_max = []; t_rcc_ratio_min = []; t_rcc_ratio_q25 = []; t_rcc_ratio_q75 = []\n",
    "# t_rwc_ratio_mean = []; t_rwc_ratio_std = []; t_rwc_ratio_max = []; t_rwc_ratio_min = []; t_rwc_ratio_q25 = []; t_rwc_ratio_q75 = []"
   ]
  },
  {
   "cell_type": "code",
   "execution_count": 1320,
   "metadata": {},
   "outputs": [],
   "source": [
    "# t_seasonyeardepth_len.append(len(seasonyeardepth))\n",
    "# t_countwithinpolygon_list.append(len(countwithinpolygon))\n",
    "# t_diff.append(difference)\n",
    "# t_sea_mld_mean.append(np.nanmean(seasonyeardepth))\n",
    "# t_sea_mld_std.append(np.nanstd(seasonyeardepth))\n",
    "# t_sea_mld_max.append(np.nanmax(seasonyeardepth))\n",
    "# t_sea_mld_min.append(np.nanmin(seasonyeardepth))\n",
    "# t_sea_mld_q25.append(seaq25)\n",
    "# t_sea_mld_q75.append(seaq75)\n",
    "\n",
    "# t_csd_ratio_mean.append(np.nanmean(correctedwospatdiffmean))\n",
    "# t_csd_ratio_std.append(np.nanstd(correctedwospatdiffmean))\n",
    "# t_csd_ratio_max.append(np.nanmax(correctedwospatdiffmean))\n",
    "# t_csd_ratio_min.append(np.nanmin(correctedwospatdiffmean))\n",
    "# t_csd_ratio_q25.append(q25)\n",
    "# t_csd_ratio_q75.append(q75)\n",
    "\n",
    "# t_rwc_ratio_mean.append(np.nanmean(ratio_of_water_column))\n",
    "# t_rwc_ratio_std.append(np.nanstd(ratio_of_water_column))\n",
    "# t_rwc_ratio_max.append(np.nanmax(ratio_of_water_column))\n",
    "# t_rwc_ratio_min.append(np.nanmin(ratio_of_water_column))\n",
    "# t_rwc_ratio_q25.append(rwc_rq25)\n",
    "# t_rwc_ratio_q75.append(rwc_rq75)\n",
    "\n",
    "# t_rcc_ratio_mean.append(np.nanmean(ratio_of_water_column_corrected))\n",
    "# t_rcc_ratio_std.append(np.nanstd(ratio_of_water_column_corrected))\n",
    "# t_rcc_ratio_max.append(np.nanmax(ratio_of_water_column_corrected))\n",
    "# t_rcc_ratio_min.append(np.nanmin(ratio_of_water_column_corrected))\n",
    "# t_rcc_ratio_q25.append(rq25)\n",
    "# t_rcc_ratio_q75.append(rq75)"
   ]
  },
  {
   "cell_type": "code",
   "execution_count": 1321,
   "metadata": {
    "scrolled": true
   },
   "outputs": [
    {
     "name": "stdout",
     "output_type": "stream",
     "text": [
      "t_usable=  [129, 576, 644, 272, 267, 240, 155, 321, 629, 360, 336, 41]\n",
      "t_countwithinpolygon=  [147, 663, 1000, 341, 363, 389, 299, 449, 938, 460, 405, 68]\n",
      "t_diff=  [18, 87, 356, 69, 96, 149, 144, 128, 309, 100, 69, 27]\n",
      "\n",
      "t_abs_mean=  [43.41860465116279, 41.03993055555556, 33.31211180124224, 30.919117647058822, 12.348314606741573, 9.825, 7.445161290322581, 8.98753894080997, 16.931637519872815, 25.469444444444445, 35.142857142857146, 41.46341463414634]\n",
      "t_abs_std=  [17.336477506015097, 19.973944903177678, 20.491714183998386, 19.259854294795364, 9.386939436840436, 6.871635540393568, 2.0764173099242775, 5.050508180767321, 8.45224689681372, 12.905604283162422, 16.937660810793698, 13.837202524575815]\n",
      "t_abs_max=  [86.0, 107.0, 103.0, 85.0, 57.0, 58.0, 16.0, 45.0, 56.0, 65.0, 157.0, 66.0]\n",
      "t_abs_min=  [10.0, 5.0, 5.0, 5.0, 5.0, 5.0, 5.0, 5.0, 5.0, 5.0, 5.0, 13.0]\n",
      "t_abs_q25=  [31.0, 25.0, 16.0, 14.0, 7.0, 6.0, 6.0, 6.0, 11.0, 15.0, 24.0, 31.0]\n",
      "t_abs_q75=  [57.0, 55.0, 48.25, 43.25, 14.0, 11.0, 9.0, 10.0, 21.0, 34.25, 45.0, 50.0]\n",
      "\n",
      "t_abs_c_mean=  [52.67151014328273, 41.45218256773642, 32.33645888646196, 33.865309571893626, 11.241295075552504, 10.655513336277266, 7.337869769119768, 8.851221970364168, 16.988462024560818, 25.924006816407804, 35.87996745695565, 38.08998968008256]\n",
      "t_abs_c_std=  [17.528539880468568, 9.544260348502783, 10.516153002359076, 12.33908122733314, 3.8760570892136963, 4.826613271052373, 0.8470430142847104, 2.2639573327781517, 4.522371663473388, 6.548672862360122, 6.50835255409061, 9.971191434194013]\n",
      "t_abs_c_max=  [79.0, 58.166666666666664, 49.77777777777778, 67.0, 18.38095238095238, 26.5, 9.142857142857142, 15.105263157894736, 25.62962962962963, 38.4, 48.72727272727273, 50.76470588235294]\n",
      "t_abs_c_min=  [30.375, 19.433333333333334, 13.421052631578947, 15.076923076923077, 6.4, 5.0, 5.8, 6.333333333333333, 9.857142857142858, 13.416666666666666, 26.22222222222222, 26.4]\n",
      "t_abs_c_q25=  [41.925943396226415, 34.421052631578945, 23.133333333333333, 25.585714285714285, 7.697115384615385, 7.16, 6.845833333333332, 7.0, 13.642316017316018, 23.642857142857142, 29.3125, 31.75263157894737]\n",
      "t_abs_c_q75=  [65.94736842105263, 47.72463768115942, 38.67567567567568, 41.25, 13.41086956521739, 11.4, 7.85, 9.466954022988507, 20.32391304347826, 30.071428571428573, 40.333333333333336, 43.93498452012384]\n",
      "\n",
      "t_ratio_mean=  [0.6754611128679662, 0.6290000720937612, 0.5853654400808361, 0.507385497959194, 0.23155750852502993, 0.18665593005566458, 0.1338510731748397, 0.1498641189987851, 0.3357953085583843, 0.40635440682504337, 0.625160411443775, 0.7544275002827671]\n",
      "t_ratio_std=  [0.30315703909020386, 0.3269294714371446, 0.34242989966128845, 0.34417895099829215, 0.233899158853928, 0.1821696620470467, 0.04876976179618971, 0.11220772841425594, 0.24848524617308793, 0.2805277847254265, 0.3177803186626149, 0.3102360129859529]\n",
      "t_ratio_max=  [1.0, 1.0, 1.0, 1.0, 1.0, 1.0, 0.2926829268292683, 1.0, 1.0, 1.0, 1.0, 1.0]\n",
      "t_ratio_min=  [0.0847457627118644, 0.03571428571428571, 0.03496503496503497, 0.02577319587628866, 0.026595744680851064, 0.029069767441860465, 0.03067484662576687, 0.03597122302158273, 0.025380710659898477, 0.03205128205128205, 0.046153846153846156, 0.1262135922330097]\n",
      "t_ratio_q25=  [0.4691358024691358, 0.3333333333333333, 0.26779426559356134, 0.2037037037037037, 0.09796081567373051, 0.09433962264150944, 0.09740670461733081, 0.09433962264150944, 0.1595744680851064, 0.18604651162790697, 0.3318965517241379, 0.5921052631578947]\n",
      "t_ratio_q75=  [1.0, 1.0, 1.0, 1.0, 0.23809523809523808, 0.19754098360655736, 0.16100230414746544, 0.16981132075471697, 0.4186046511627907, 0.5494204425711275, 1.0, 1.0]\n",
      "\n",
      "t_ratio_c_mean=  [0.6643992270781768, 0.6395963135070405, 0.5959725457149417, 0.5459133599846864, 0.208238903961004, 0.2063361119737348, 0.12800415925161845, 0.14722368085659104, 0.3398606995337861, 0.42760155849775744, 0.6347509921936197, 0.680387216447591]\n",
      "t_ratio_c_std=  [0.10668558897359602, 0.12611304363888615, 0.16142351593987933, 0.16248482368281048, 0.07722261338615623, 0.10407565313131285, 0.02689621418519955, 0.04825704958335025, 0.10455114380883745, 0.16896972212631467, 0.1075109217839321, 0.16665374608566721]\n",
      "t_ratio_c_max=  [0.766701176775718, 0.8663739837398374, 1.0, 0.8913857677902621, 0.36963570926435624, 0.5482162764771461, 0.1914993459345246, 0.28616407420132867, 0.5859301745573577, 0.9055335968379445, 0.8271805941693703, 0.8096685842494958]\n",
      "t_ratio_c_min=  [0.42297006955871996, 0.3478986997138998, 0.26495368103426564, 0.3, 0.11152708601199234, 0.09981503767606639, 0.08819491875124505, 0.07608695652173914, 0.20133719678002118, 0.2313760258923664, 0.4439686234233752, 0.44508618981573206]\n",
      "t_ratio_c_q25=  [0.6657775998211365, 0.5396542068965061, 0.5078965872562121, 0.4048297213250407, 0.1344826386548233, 0.14066006755441052, 0.11505643141249525, 0.11592781288978601, 0.26379630443717317, 0.28465067738370387, 0.5458269854293081, 0.6157465325466387]\n",
      "t_ratio_c_q75=  [0.7256536370026545, 0.7143053433016296, 0.6954300906359904, 0.6317474876409521, 0.25130325021750854, 0.2478829239205564, 0.1503085299279813, 0.16151118015239183, 0.3960026863429826, 0.4725717988688557, 0.7151831180730783, 0.7980377297635206]\n"
     ]
    }
   ],
   "source": [
    "# print('t_usable= ' ,t_seasonyeardepth_len)\n",
    "# print('t_countwithinpolygon= ' ,t_countwithinpolygon_list)\n",
    "# print('t_diff= ' ,t_diff)\n",
    "# print('')\n",
    "# print('t_abs_mean= ' ,t_sea_mld_mean)\n",
    "# print('t_abs_std= ' ,t_sea_mld_std)\n",
    "# print('t_abs_max= ' ,t_sea_mld_max)\n",
    "# print('t_abs_min= ' ,t_sea_mld_min)\n",
    "# print('t_abs_q25= ' ,t_sea_mld_q25)\n",
    "# print('t_abs_q75= ' ,t_sea_mld_q75)\n",
    "# print('')\n",
    "# print('t_abs_c_mean= ' ,t_csd_ratio_mean)\n",
    "# print('t_abs_c_std= ' ,t_csd_ratio_std)\n",
    "# print('t_abs_c_max= ' ,t_csd_ratio_max)\n",
    "# print('t_abs_c_min= ' ,t_csd_ratio_min)\n",
    "# print('t_abs_c_q25= ' ,t_csd_ratio_q25)\n",
    "# print('t_abs_c_q75= ' ,t_csd_ratio_q75)\n",
    "# print('')\n",
    "# print('t_ratio_mean= ' ,t_rwc_ratio_mean)\n",
    "# print('t_ratio_std= ' ,t_rwc_ratio_std)\n",
    "# print('t_ratio_max= ' ,t_rwc_ratio_max)\n",
    "# print('t_ratio_min= ' ,t_rwc_ratio_min)\n",
    "# print('t_ratio_q25= ' ,t_rwc_ratio_q25)\n",
    "# print('t_ratio_q75= ' ,t_rwc_ratio_q75)\n",
    "# print('')\n",
    "# print('t_ratio_c_mean= ' ,t_rcc_ratio_mean)\n",
    "# print('t_ratio_c_std= ' ,t_rcc_ratio_std)\n",
    "# print('t_ratio_c_max= ' ,t_rcc_ratio_max)\n",
    "# print('t_ratio_c_min= ' ,t_rcc_ratio_min)\n",
    "# print('t_ratio_c_q25= ' ,t_rcc_ratio_q25)\n",
    "# print('t_ratio_c_q75= ' ,t_rcc_ratio_q75)"
   ]
  },
  {
   "cell_type": "code",
   "execution_count": 1487,
   "metadata": {
    "scrolled": true
   },
   "outputs": [
    {
     "name": "stdout",
     "output_type": "stream",
     "text": [
      "917\n",
      "917\n",
      "917\n",
      "917\n",
      "917\n",
      "917\n"
     ]
    }
   ],
   "source": [
    "print(len(lonlon))\n",
    "print(len(latlat))\n",
    "print(len(years))\n",
    "print(len(ydyd))\n",
    "print(len(seasonyeardepth))\n",
    "print(len(ratio_of_water_column))"
   ]
  },
  {
   "cell_type": "code",
   "execution_count": 1509,
   "metadata": {},
   "outputs": [],
   "source": [
    "tempdf = pd.DataFrame({'lon': lonlon,'lat': latlat,'years': years, 'day': ydyd, 'mean': seasonyeardepth, 'ratio': ratio_of_water_column})\n"
   ]
  },
  {
   "cell_type": "code",
   "execution_count": 1510,
   "metadata": {},
   "outputs": [
    {
     "name": "stdout",
     "output_type": "stream",
     "text": [
      "            lon        lat  years  day   mean     ratio\n",
      "0     43.983300  43.983300   1993  262   18.0  0.461538\n",
      "1     41.545000  41.545000   1993  279    5.0  0.081967\n",
      "2     41.663300  41.663300   1993  279   17.0  0.089474\n",
      "3     41.810000  41.810000   1993  279   25.0  0.121951\n",
      "4     41.871700  41.871700   1993  279   27.0  0.133005\n",
      "...         ...        ...    ...  ...    ...       ...\n",
      "2561  43.830000  43.830000   2018  315   27.0  0.360000\n",
      "2562  43.750000  43.750000   2018  315   40.0  0.363636\n",
      "2563  43.463333  43.463333   2018  315   69.0  0.522727\n",
      "2564  43.328333  43.328333   2018  315  100.0  0.625000\n",
      "2565  43.280000  43.280000   2018  315    9.0  0.083333\n",
      "\n",
      "[2566 rows x 6 columns]\n"
     ]
    }
   ],
   "source": [
    "print(tempdf)"
   ]
  },
  {
   "cell_type": "code",
   "execution_count": 1511,
   "metadata": {
    "scrolled": true
   },
   "outputs": [
    {
     "name": "stdout",
     "output_type": "stream",
     "text": [
      "1993\n",
      "1994\n",
      "1995\n",
      "1996\n",
      "1997\n",
      "1998\n",
      "1999\n",
      "2000\n",
      "2001\n",
      "2002\n",
      "2003\n",
      "2004\n",
      "2005\n",
      "2006\n",
      "2007\n",
      "2008\n",
      "2009\n",
      "2010\n",
      "2011\n",
      "2012\n",
      "2013\n",
      "2014\n",
      "2015\n",
      "2016\n",
      "2017\n",
      "2018\n"
     ]
    }
   ],
   "source": [
    "years = []\n",
    "seasonyeardepth = []; countwithinpolygon = []; correctedwospatdiffmean = [] ; latlat = []; ydyd = []\n",
    "ratio_of_water_column = []; now = []; later = []; ratio_of_water_column_corrected = [] ; lonlon = []\n",
    "for year in range(1993,2019):\n",
    "    filename = 'casts_{}.mat'.format(year)\n",
    "    file = scipy.io.loadmat(filename,squeeze_me=True)\n",
    "    npfile = file['casts_{}'.format(year)]\n",
    "    \n",
    "    lat_intermediate = []; lon_intermediate = []; yd_intermediate = []\n",
    "    p_intermediate = []; t_intermediate = []; sal_intermediate = []\n",
    "    floor_intermediate = []; surfaceval_list = []\n",
    "    seasonyeardepth2 = []; ratio_of_water_column2 = []\n",
    "    \n",
    "    for i in range(len(npfile)):\n",
    "        yd = npfile[i]['yd']\n",
    "        p = npfile[i]['p']\n",
    "        s = npfile[i]['s']\n",
    "        t = npfile[i]['t']\n",
    "        gear = npfile[i]['gear']\n",
    "        floordepth = npfile[i]['depth']\n",
    "#         if (yd > 334 and yd <= 365) or (yd >= 0 and yd <= 59) :\n",
    "#         if yd > 334 and yd <= 365 and floordepth <= 200:\n",
    "        if yd > 243 and yd <= 334:\n",
    "            lat_intermediate.append(npfile[i]['lat'])\n",
    "            lon_intermediate.append(npfile[i]['lon'])\n",
    "            p_intermediate.append(npfile[i]['p'])\n",
    "            t_intermediate.append(npfile[i]['t'])\n",
    "            yd_intermediate.append(npfile[i]['yd'])\n",
    "            sal_intermediate.append(npfile[i]['s'])\n",
    "            floor_intermediate.append(npfile[i]['depth'])\n",
    "    month_df = pd.DataFrame({'day': yd_intermediate,'lon': lon_intermediate,'lat': lat_intermediate, 'p': p_intermediate, 't': t_intermediate,'depth': floor_intermediate, 's': sal_intermediate})\n",
    "    newdf = pd.DataFrame({'lon': lon_intermediate,'lat': lat_intermediate,'date': yd_intermediate})\n",
    "    for ii in range(len(month_df)):\n",
    "        new = newdf.iloc[ii].values\n",
    "        point = Point(new)\n",
    "        if isinstance(month_df['p'].iloc[ii], int) or isinstance(month_df['p'].iloc[ii], float) or isinstance(month_df['t'].iloc[ii], int) or isinstance(month_df['t'].iloc[ii], float):\n",
    "            pass\n",
    "        elif polygon_t.contains(point) == True:\n",
    "            CT = gsw.CT_from_pt(month_df['s'].iloc[ii],month_df['t'].iloc[ii])\n",
    "            DENS = gsw.sigma0(month_df['s'].iloc[ii],CT)\n",
    "            pt_df = pd.DataFrame({'p': month_df['p'].iloc[ii],'t': month_df['t'].iloc[ii], 's': month_df['s'].iloc[ii], 'CT': CT, 'DENSMLD': DENS}) \n",
    "            df_ptsnew = pt_df.dropna()\n",
    "            df_final = pd.DataFrame(df_ptsnew.values)\n",
    "            countwithinpolygon.append(1)\n",
    "            l=[i for i in df_final[0] if i<=4] \n",
    "            if len(l) > 0:\n",
    "                surfaceval = []\n",
    "                numrange = []\n",
    "                for iii in range(len(l)):\n",
    "                    val = df_final[4][iii]\n",
    "                    numrange.append(iii)\n",
    "                    surfaceval.append(val)            \n",
    "            surfacevalmean = statistics.mean(surfaceval)\n",
    "            densfin = []; tempfin = []; pressurefin = []; salfin = []\n",
    "            for iii in range(numrange[-1],len(df_final)):\n",
    "                tempfin.append(df_final[1][iii])\n",
    "                pressurefin.append(df_final[0][iii])\n",
    "                salfin.append(df_final[2][iii])\n",
    "                densfin.append(df_final[4][iii])\n",
    "            d = {'temp': list(reversed(tempfin)), 'sal': list(reversed(salfin)), 'pressure': list(reversed(pressurefin)),'density': list(reversed(densfin))}\n",
    "            dunreversed = {'temp': list(tempfin), 'sal': list(salfin), 'pressure': list(pressurefin), 'density': list(densfin)}\n",
    "            dffinunreversed = pd.DataFrame(dunreversed)\n",
    "            dffin = pd.DataFrame(d)\n",
    "            \n",
    "            for ix in range(len(dffinunreversed)):\n",
    "                if dffinunreversed.at[ix,'density'] >= (surfacevalmean - 0.03) and dffinunreversed.at[ix,'density'] <= (surfacevalmean + 0.03):\n",
    "                    if dffinunreversed.at[len(dffinunreversed)-1,'density'] <= (surfacevalmean + 0.03) and dffinunreversed.at[len(dffinunreversed)-1,'density'] >= (surfacevalmean - 0.03):\n",
    "                        looknow = list(dffinunreversed['density'].values)\n",
    "                        looknow2 = [i for i in looknow if i >= (surfacevalmean + 0.03)]\n",
    "                        looknow3 = [i for i in looknow if i <= (surfacevalmean - 0.03)]\n",
    "                        if len(looknow2) == 0 and len(looknow3) == 0:\n",
    "                            if dffinunreversed.at[len(dffinunreversed)-1,'pressure'] >= (month_df['depth'].iloc[ii] - (month_df['depth'].iloc[ii]*0.15)):\n",
    "                                if dffinunreversed.at[ix,'pressure'] <= (month_df['depth'].iloc[ii] - (month_df['depth'].iloc[ii]*0.15)):\n",
    "                                    seasonyeardepth.append(month_df['depth'].iloc[ii])\n",
    "                                    seasonyeardepth2.append(month_df['depth'].iloc[ii])\n",
    "                                    ratio_of_water_column.append(1.0)\n",
    "                                    ratio_of_water_column2.append(1.0)\n",
    "                                    latlat.append(month_df['lat'].iloc[ii])\n",
    "                                    lonlon.append(month_df['lat'].iloc[ii])\n",
    "                                    ydyd.append(month_df['day'].iloc[ii])\n",
    "                                    years.append(year)\n",
    "#                                     fig, (ax1) = plt.subplots(1,1)\n",
    "#                                     ax1.plot(df_final[1],df_final[0]*-1,color='purple')\n",
    "#                                     ax1.axhline(y=month_df['depth'].iloc[ii]*-1, color='r', linestyle='--')\n",
    "#                                     ax1.axhline(y=month_df['depth'].iloc[ii]*-1, color='green', linestyle='--')\n",
    "                                    break\n",
    "                                else:\n",
    "                                    seasonyeardepth.append(month_df['depth'].iloc[ii])\n",
    "                                    seasonyeardepth2.append(month_df['depth'].iloc[ii])\n",
    "                                    ratio_of_water_column.append(1.0)\n",
    "                                    ratio_of_water_column2.append(1.0)\n",
    "                                    latlat.append(month_df['lat'].iloc[ii])\n",
    "                                    lonlon.append(month_df['lat'].iloc[ii])\n",
    "                                    ydyd.append(month_df['day'].iloc[ii])\n",
    "                                    years.append(year)\n",
    "#                                     fig, (ax1) = plt.subplots(1,1)\n",
    "#                                     ax1.plot(df_final[1],df_final[0]*-1,color='green')\n",
    "#                                     ax1.axhline(y=dffinunreversed.at[ix,'pressure']*-1, color='r', linestyle='--')\n",
    "#                                     ax1.axhline(y=month_df['depth'].iloc[ii]*-1, color='green', linestyle='--')\n",
    "                                    break\n",
    "                            else:\n",
    "                                if dffinunreversed.at[len(dffinunreversed)-1,'pressure'] >= (month_df['depth'].iloc[ii] - (month_df['depth'].iloc[ii]*0.15)):\n",
    "#                                     fig, (ax1) = plt.subplots(1,1)\n",
    "#                                     ax1.plot(df_final[1],df_final[0]*-1,color='blue')\n",
    "#                                     ax1.axhline(y=month_df['depth'].iloc[ii]*-1, color='r', linestyle='--')\n",
    "                                    seasonyeardepth.append(month_df['depth'].iloc[ii])\n",
    "                                    seasonyeardepth2.append(month_df['depth'].iloc[ii])\n",
    "                                    ratio_val = 1.0\n",
    "                                    ratio_of_water_column.append(ratio_val)\n",
    "                                    ratio_of_water_column2.append(ratio_val)\n",
    "                                    latlat.append(month_df['lat'].iloc[ii])\n",
    "                                    lonlon.append(month_df['lat'].iloc[ii])\n",
    "                                    ydyd.append(month_df['day'].iloc[ii])\n",
    "                                    years.append(year)\n",
    "                                    break\n",
    "                        else:\n",
    "                            if dffinunreversed.at[len(dffinunreversed)-1,'pressure'] >= (month_df['depth'].iloc[ii] - (month_df['depth'].iloc[ii]*0.15)):\n",
    "                                for ix in range(len(dffinunreversed['density'])):\n",
    "                                    if dffinunreversed.at[ix,'density'] >= (surfacevalmean - 0.03) and dffinunreversed.at[ix,'density'] <= (surfacevalmean + 0.03):\n",
    "                                        pass\n",
    "                                    else:\n",
    "                                        if dffinunreversed.at[ix,'pressure'] >= 5:\n",
    "                                            seasonyeardepth.append(dffinunreversed.at[ix,'pressure'])\n",
    "                                            seasonyeardepth2.append(dffinunreversed.at[ix,'pressure'])\n",
    "                                            ratio_val = 1.0\n",
    "                                            ratio_of_water_column.append(ratio_val)\n",
    "                                            ratio_of_water_column2.append(ratio_val)\n",
    "                                            latlat.append(month_df['lat'].iloc[ii])\n",
    "                                            lonlon.append(month_df['lat'].iloc[ii])\n",
    "                                            ydyd.append(month_df['day'].iloc[ii])\n",
    "                                            years.append(year)\n",
    "#                                             fig, (ax1) = plt.subplots(1,1)                                \n",
    "#                                             ax1.plot(df_final[1],df_final[0]*-1,color='black')\n",
    "#                                             ax1.axhline(y=dffinunreversed.at[ix,'temp']*-1, color='r', linestyle='--')\n",
    "#                                             ax1.axhline(y=month_df['depth'].iloc[ii]*-1, color='green', linestyle='--')\n",
    "                                            break\n",
    "                                        else:\n",
    "#                                             seasonyeardepth.append('pass2')\n",
    "                                            break\n",
    "                                break \n",
    "                    else:\n",
    "                        if dffinunreversed.at[ix,'density'] <= (surfacevalmean - 0.03) or dffinunreversed.at[ix,'density'] >= (surfacevalmean + 0.03):\n",
    "                            if dffinunreversed.at[ix,'pressure'] <= (month_df['depth'].iloc[ii] - (month_df['depth'].iloc[ii]*0.15)):\n",
    "                                pass\n",
    "                            else:\n",
    "#                                 seasonyeardepth.append(5)\n",
    "                                seasonyeardepth.append(dffinunreversed.at[ix,'pressure'])\n",
    "                                seasonyeardepth2.append(dffinunreversed.at[ix,'pressure'])\n",
    "                                ratio_val = (dffinunreversed.at[ix,'pressure'])/(month_df['depth'].iloc[ii])\n",
    "                                ratio_of_water_column.append(ratio_val)\n",
    "                                ratio_of_water_column2.append(ratio_val)\n",
    "                                latlat.append(month_df['lat'].iloc[ii])\n",
    "                                lonlon.append(month_df['lat'].iloc[ii])\n",
    "                                ydyd.append(month_df['day'].iloc[ii])\n",
    "                                years.append(year)\n",
    "#                                 fig, (ax1) = plt.subplots(1,1)\n",
    "#                                 ax1.plot(df_final[1],df_final[0]*-1,color='orange')\n",
    "#                                 ax1.axhline(y=dffinunreversed.at[ix,'pressure']*-1, color='r', linestyle='--')\n",
    "                                break           \n",
    "                        else: \n",
    "                            if dffinunreversed.at[ix,'density'] >= (surfacevalmean + 0.03) or dffinunreversed.at[ix,'density'] <= (surfacevalmean - 0.03):\n",
    "                                seasonyeardepth.append('pass4')\n",
    "                                break\n",
    "#                                 pass\n",
    "                elif dffinunreversed.at[ix,'density'] <= (surfacevalmean - 0.03) or dffinunreversed.at[ix,'density'] >= (surfacevalmean + 0.03):\n",
    "                    if dffinunreversed.at[ix,'pressure'] <= (month_df['depth'].iloc[ii] - (month_df['depth'].iloc[ii]*0.15)):\n",
    "                        pass\n",
    "                    else:\n",
    "                        for ix in range(len(dffinunreversed['density'])):\n",
    "                            if dffinunreversed.at[ix,'density'] >= (surfacevalmean - 0.03) and dffinunreversed.at[ix,'density'] <= (surfacevalmean + 0.03):\n",
    "                                pass\n",
    "                            else:\n",
    "                                if dffinunreversed.at[ix,'pressure'] >= 5.0:\n",
    "                                    seasonyeardepth.append(dffinunreversed.at[ix,'pressure'])\n",
    "                                    seasonyeardepth2.append(dffinunreversed.at[ix,'pressure'])\n",
    "                                    ratio_val = (dffinunreversed.at[ix,'pressure'])/(month_df['depth'].iloc[ii])\n",
    "                                    ratio_of_water_column.append(ratio_val)\n",
    "                                    ratio_of_water_column2.append(ratio_val)\n",
    "                                    latlat.append(month_df['lat'].iloc[ii])\n",
    "                                    lonlon.append(month_df['lat'].iloc[ii])\n",
    "                                    ydyd.append(month_df['day'].iloc[ii])\n",
    "                                    years.append(year)\n",
    "#                                     fig, (ax1) = plt.subplots(1,1)\n",
    "#                                     ax1.plot(df_final[1],df_final[0]*-1,color='pink')\n",
    "#                                     ax1.axhline(y=dffinunreversed.at[ix,'pressure']*-1, color='r', linestyle='--')\n",
    "#                                     ax1.axhline(y=month_df['depth'].iloc[ii]*-1, color='green', linestyle='--')\n",
    "                                    break\n",
    "                                else:\n",
    "                                    break\n",
    "                        break\n",
    "                else: \n",
    "#                     fig, (ax1) = plt.subplots(1,1)\n",
    "#                     ax1.plot(df_final[1],df_final[0]*-1,color='grey')\n",
    "#                     ax1.axhline(y=dffinunreversed.at[ix,'pressure']*-1, color='r', linestyle='--')\n",
    "#                     pass\n",
    "                    seasonyeardepth.append('pass9')\n",
    "                    break\n",
    "                            \n",
    "    print(year)\n",
    "#     print(seasonyeardepth2)\n",
    "#     print(ratio_of_water_column2)\n",
    "    correctedwospatdiffmean.append(np.mean(np.mean(seasonyeardepth2)))\n",
    "    ratio_of_water_column_corrected.append(np.mean(np.mean(ratio_of_water_column2)))"
   ]
  },
  {
   "cell_type": "code",
   "execution_count": 1420,
   "metadata": {},
   "outputs": [
    {
     "name": "stdout",
     "output_type": "stream",
     "text": [
      "474\n",
      "576\n",
      "102\n",
      "74.03818396963808\n",
      "21.13011014974157\n",
      "109.22222222222223\n",
      "41.285714285714285\n",
      "55.13243006993007\n",
      "89.36346153846154\n"
     ]
    }
   ],
   "source": [
    "q75, q25 = np.nanpercentile(correctedwospatdiffmean, [75 ,25])\n",
    "print(len(seasonyeardepth))\n",
    "print(len(countwithinpolygon))\n",
    "difference = len(countwithinpolygon) - len(seasonyeardepth)\n",
    "print(difference)\n",
    "print(np.nanmean(correctedwospatdiffmean))\n",
    "print(np.nanstd(correctedwospatdiffmean))\n",
    "print(np.nanmax(correctedwospatdiffmean))\n",
    "print(np.nanmin(correctedwospatdiffmean))\n",
    "print(q25)\n",
    "print(q75)"
   ]
  },
  {
   "cell_type": "code",
   "execution_count": 1421,
   "metadata": {},
   "outputs": [
    {
     "name": "stdout",
     "output_type": "stream",
     "text": [
      "68.03248945147679\n",
      "39.80149000832507\n",
      "187.0\n",
      "5.0\n",
      "34.0\n",
      "95.0\n"
     ]
    }
   ],
   "source": [
    "seaq75, seaq25 = np.nanpercentile(seasonyeardepth, [75 ,25])\n",
    "print(np.nanmean(seasonyeardepth))\n",
    "print(np.nanstd(seasonyeardepth))\n",
    "print(np.nanmax(seasonyeardepth))\n",
    "print(np.nanmin(seasonyeardepth))\n",
    "print(seaq25)\n",
    "print(seaq75)"
   ]
  },
  {
   "cell_type": "code",
   "execution_count": 1422,
   "metadata": {},
   "outputs": [
    {
     "name": "stdout",
     "output_type": "stream",
     "text": [
      "0.5397101493644495\n",
      "0.12993714581068613\n",
      "0.8391025641025641\n",
      "0.27393478129858034\n",
      "0.44577255826873724\n",
      "0.6168044582881385\n"
     ]
    }
   ],
   "source": [
    "rq75, rq25 = np.nanpercentile(ratio_of_water_column_corrected, [75 ,25])\n",
    "print(np.nanmean(ratio_of_water_column_corrected))\n",
    "print(np.nanstd(ratio_of_water_column_corrected))\n",
    "print(np.nanmax(ratio_of_water_column_corrected))\n",
    "print(np.nanmin(ratio_of_water_column_corrected))\n",
    "print(rq25)\n",
    "print(rq75)"
   ]
  },
  {
   "cell_type": "code",
   "execution_count": 1423,
   "metadata": {},
   "outputs": [
    {
     "name": "stdout",
     "output_type": "stream",
     "text": [
      "0.518553170520453\n",
      "0.3014138438583783\n",
      "1.0\n",
      "0.03184713375796178\n",
      "0.26352480647431387\n",
      "0.739521204393073\n"
     ]
    }
   ],
   "source": [
    "rwc_rq75, rwc_rq25 = np.nanpercentile(ratio_of_water_column, [75 ,25])\n",
    "print(np.nanmean(ratio_of_water_column))\n",
    "print(np.nanstd(ratio_of_water_column))\n",
    "print(np.nanmax(ratio_of_water_column))\n",
    "print(np.nanmin(ratio_of_water_column))\n",
    "print(rwc_rq25)\n",
    "print(rwc_rq75)"
   ]
  },
  {
   "cell_type": "code",
   "execution_count": 1416,
   "metadata": {},
   "outputs": [],
   "source": [
    "# d_seasonyeardepth_len = []; d_countwithinpolygon_list = []; d_diff = []\n",
    "# d_sea_mld_mean = []; d_sea_mld_std = []; d_sea_mld_max = []; d_sea_mld_min = []; d_sea_mld_q25 = []; d_sea_mld_q75 = []\n",
    "# d_csd_ratio_mean = []; d_csd_ratio_std = []; d_csd_ratio_max = []; d_csd_ratio_min = []; d_csd_ratio_q25 = []; d_csd_ratio_q75 = []\n",
    "# d_rcc_ratio_mean = []; d_rcc_ratio_std = []; d_rcc_ratio_max = []; d_rcc_ratio_min = []; d_rcc_ratio_q25 = []; d_rcc_ratio_q75 = []\n",
    "# d_rwc_ratio_mean = []; d_rwc_ratio_std = []; d_rwc_ratio_max = []; d_rwc_ratio_min = []; d_rwc_ratio_q25 = []; d_rwc_ratio_q75 = []"
   ]
  },
  {
   "cell_type": "code",
   "execution_count": 1417,
   "metadata": {},
   "outputs": [],
   "source": [
    "d_seasonyeardepth_len.append(len(seasonyeardepth))\n",
    "d_countwithinpolygon_list.append(len(countwithinpolygon))\n",
    "d_diff.append(difference)\n",
    "d_sea_mld_mean.append(np.nanmean(seasonyeardepth))\n",
    "d_sea_mld_std.append(np.nanstd(seasonyeardepth))\n",
    "d_sea_mld_max.append(np.nanmax(seasonyeardepth))\n",
    "d_sea_mld_min.append(np.nanmin(seasonyeardepth))\n",
    "d_sea_mld_q25.append(seaq25)\n",
    "d_sea_mld_q75.append(seaq75)\n",
    "\n",
    "d_csd_ratio_mean.append(np.nanmean(correctedwospatdiffmean))\n",
    "d_csd_ratio_std.append(np.nanstd(correctedwospatdiffmean))\n",
    "d_csd_ratio_max.append(np.nanmax(correctedwospatdiffmean))\n",
    "d_csd_ratio_min.append(np.nanmin(correctedwospatdiffmean))\n",
    "d_csd_ratio_q25.append(q25)\n",
    "d_csd_ratio_q75.append(q75)\n",
    "\n",
    "d_rwc_ratio_mean.append(np.nanmean(ratio_of_water_column))\n",
    "d_rwc_ratio_std.append(np.nanstd(ratio_of_water_column))\n",
    "d_rwc_ratio_max.append(np.nanmax(ratio_of_water_column))\n",
    "d_rwc_ratio_min.append(np.nanmin(ratio_of_water_column))\n",
    "d_rwc_ratio_q25.append(rwc_rq25)\n",
    "d_rwc_ratio_q75.append(rwc_rq75)\n",
    "\n",
    "d_rcc_ratio_mean.append(np.nanmean(ratio_of_water_column_corrected))\n",
    "d_rcc_ratio_std.append(np.nanstd(ratio_of_water_column_corrected))\n",
    "d_rcc_ratio_max.append(np.nanmax(ratio_of_water_column_corrected))\n",
    "d_rcc_ratio_min.append(np.nanmin(ratio_of_water_column_corrected))\n",
    "d_rcc_ratio_q25.append(rq25)\n",
    "d_rcc_ratio_q75.append(rq75)"
   ]
  },
  {
   "cell_type": "code",
   "execution_count": 1418,
   "metadata": {},
   "outputs": [
    {
     "name": "stdout",
     "output_type": "stream",
     "text": [
      "d_usable=  [130, 569, 628, 268, 249, 207, 116, 260, 591, 347, 330, 41]\n",
      "d_countwithinpolygon=  [147, 663, 1000, 341, 363, 389, 299, 449, 938, 460, 405, 68]\n",
      "d_diff=  [17, 94, 372, 73, 114, 182, 183, 189, 347, 113, 75, 27]\n",
      "\n",
      "d_abs_mean=  [44.261538461538464, 38.13005272407733, 27.794585987261147, 25.682835820895523, 10.152610441767068, 9.304347826086957, 6.887931034482759, 8.388461538461538, 14.346869712351946, 22.29394812680115, 30.496969696969696, 41.78048780487805]\n",
      "d_abs_std=  [18.027566005833247, 20.655019607128388, 19.46475262859222, 15.545556672458767, 6.7859412913530415, 5.9942911999775355, 1.972970592979277, 5.002216964128307, 7.789955321237922, 12.635663504275293, 15.551526960953499, 14.304207457302853]\n",
      "d_abs_max=  [93.0, 107.0, 96.0, 84.0, 49.0, 42.0, 14.0, 45.0, 57.0, 60.0, 78.0, 66.0]\n",
      "d_abs_min=  [5.0, 5.0, 5.0, 5.0, 5.0, 5.0, 5.0, 5.0, 5.0, 5.0, 5.0, 6.0]\n",
      "d_abs_q25=  [30.25, 20.0, 12.0, 12.0, 6.0, 6.0, 5.0, 5.75, 8.0, 11.0, 18.25, 33.0]\n",
      "d_abs_q75=  [57.0, 54.0, 41.0, 35.0, 12.0, 10.5, 8.0, 9.0, 18.0, 30.5, 40.0, 52.0]\n",
      "\n",
      "d_abs_c_mean=  [48.66135129490393, 38.98122621961879, 27.10194874447916, 28.460179789080648, 9.626018246655864, 10.150006455633443, 6.814348672161172, 8.08471531822151, 14.199875849819259, 22.34921729247595, 31.106949119712848, 39.603508771929825]\n",
      "d_abs_c_std=  [11.401730026343996, 11.501141698557191, 10.934267582203343, 9.288503262806348, 2.6061400288919603, 4.002149380268777, 0.8460055436177472, 2.2926864545875265, 4.353555908629032, 5.338934802635864, 7.230314123112538, 8.27543543509976]\n",
      "d_abs_c_max=  [70.0, 59.8421052631579, 55.1, 55.0, 14.666666666666666, 22.333333333333332, 8.333333333333334, 14.764705882352942, 25.03846153846154, 30.0, 48.8235294117647, 51.0]\n",
      "d_abs_c_min=  [31.5625, 13.857142857142858, 11.0, 15.583333333333334, 6.25, 5.5, 5.333333333333333, 5.0, 8.714285714285714, 11.833333333333334, 18.5, 31.6]\n",
      "d_abs_c_q25=  [43.08611111111111, 34.12903225806452, 19.0, 22.40833333333333, 7.197435897435898, 7.163043478260869, 6.357692307692308, 6.326666666666666, 10.521306818181818, 19.96551724137931, 26.434782608695652, 33.90526315789474]\n",
      "d_abs_c_q75=  [54.421052631578945, 49.666666666666664, 32.72222222222222, 32.636160714285715, 11.128623188405797, 11.375, 7.240625, 8.666666666666666, 17.028409090909093, 26.055555555555557, 35.76470588235294, 43.60526315789474]\n",
      "\n",
      "d_ratio_mean=  [0.6965398430371553, 0.5716224459524574, 0.4561770700831625, 0.3953285454475228, 0.1809896436480022, 0.17639235331140532, 0.12201248928001883, 0.14098123367664345, 0.28158152156193156, 0.3488094870314341, 0.5077711268393423, 0.7399163170204794]\n",
      "d_ratio_std=  [0.3131533944938912, 0.33427699850109843, 0.31257199020260984, 0.2779307572777819, 0.16936413704699307, 0.17022234866526426, 0.04719266462154916, 0.11550855949593565, 0.20779508681686693, 0.25929948769683087, 0.2968924939261113, 0.31348279931181583]\n",
      "d_ratio_max=  [1.0, 1.0, 1.0, 1.0, 1.0, 1.0, 0.27586206896551724, 1.0, 1.0, 1.0, 1.0, 1.0]\n",
      "d_ratio_min=  [0.0625, 0.03571428571428571, 0.025380710659898477, 0.02577319587628866, 0.026595744680851064, 0.029069767441860465, 0.03067484662576687, 0.03597122302158273, 0.025380710659898477, 0.0273224043715847, 0.034482758620689655, 0.1]\n",
      "d_ratio_q25=  [0.45513322884012536, 0.2627118644067797, 0.19170795686388808, 0.18136363636363634, 0.08928571428571429, 0.09053651266766022, 0.0847457627118644, 0.08676911544227886, 0.13134999631349997, 0.16345083487940631, 0.2608695652173913, 0.5128205128205128]\n",
      "d_ratio_q75=  [1.0, 1.0, 0.6739332096474953, 0.5440058479532164, 0.20512820512820512, 0.18350340136054422, 0.14532930107526884, 0.15741978609625668, 0.36576576576576575, 0.45553359683794464, 0.7158848614072495, 1.0]\n",
      "\n",
      "d_ratio_c_mean=  [0.6411719517008103, 0.5914758138888861, 0.45590372907659243, 0.4462097227536974, 0.1701975887987377, 0.18947829338976746, 0.11913560634511647, 0.1372998209456863, 0.2828467462617923, 0.36369703706206946, 0.5221549102933548, 0.6823632389895118]\n",
      "d_ratio_c_std=  [0.1417868569300309, 0.16194492083990955, 0.15172708451385097, 0.14301271960908957, 0.05076585690365435, 0.09833366839811226, 0.025341024609078566, 0.05065565770207912, 0.0990201953584372, 0.13601869587373797, 0.12771072205247488, 0.1350193224424036]\n",
      "d_ratio_c_max=  [0.8122963414109939, 0.8566654780205877, 0.9246753246753245, 0.7470588235294118, 0.2609250398724083, 0.5108279193736465, 0.17008644473068266, 0.2854547744427033, 0.5576051369291471, 0.7059288537549409, 0.7397455627276875, 0.8100664253187024]\n",
      "d_ratio_c_min=  [0.43333333333333335, 0.185016508709988, 0.1956620146868166, 0.22913870972650208, 0.08851206403947232, 0.06928549334982988, 0.0768358637601146, 0.06521739130434782, 0.1554418244615193, 0.17966870423521886, 0.3252811846444965, 0.495571626708936]\n",
      "d_ratio_c_q25=  [0.5294846103100915, 0.5151677012434108, 0.35991859997678277, 0.33542692355906095, 0.1275251848722779, 0.14103783715811113, 0.10435496686629674, 0.10251574631804716, 0.2220311711464666, 0.2767976328783381, 0.42396532528276804, 0.6185116458249165]\n",
      "d_ratio_c_q75=  [0.7515184411570031, 0.6947605038454416, 0.5439024390243903, 0.5268244974993401, 0.2109278673599284, 0.20182503138597208, 0.13405101495514082, 0.15791465104316352, 0.3212939704763311, 0.41850059036639786, 0.5976473255429251, 0.7757590451297997]\n"
     ]
    }
   ],
   "source": [
    "print('d_usable= ' ,d_seasonyeardepth_len)\n",
    "print('d_countwithinpolygon= ' ,d_countwithinpolygon_list)\n",
    "print('d_diff= ' ,d_diff)\n",
    "print('')\n",
    "print('d_abs_mean= ' ,d_sea_mld_mean)\n",
    "print('d_abs_std= ' ,d_sea_mld_std)\n",
    "print('d_abs_max= ' ,d_sea_mld_max)\n",
    "print('d_abs_min= ' ,d_sea_mld_min)\n",
    "print('d_abs_q25= ' ,d_sea_mld_q25)\n",
    "print('d_abs_q75= ' ,d_sea_mld_q75)\n",
    "print('')\n",
    "print('d_abs_c_mean= ' ,d_csd_ratio_mean)\n",
    "print('d_abs_c_std= ' ,d_csd_ratio_std)\n",
    "print('d_abs_c_max= ' ,d_csd_ratio_max)\n",
    "print('d_abs_c_min= ' ,d_csd_ratio_min)\n",
    "print('d_abs_c_q25= ' ,d_csd_ratio_q25)\n",
    "print('d_abs_c_q75= ' ,d_csd_ratio_q75)\n",
    "print('')\n",
    "print('d_ratio_mean= ' ,d_rwc_ratio_mean)\n",
    "print('d_ratio_std= ' ,d_rwc_ratio_std)\n",
    "print('d_ratio_max= ' ,d_rwc_ratio_max)\n",
    "print('d_ratio_min= ' ,d_rwc_ratio_min)\n",
    "print('d_ratio_q25= ' ,d_rwc_ratio_q25)\n",
    "print('d_ratio_q75= ' ,d_rwc_ratio_q75)\n",
    "print('')\n",
    "print('d_ratio_c_mean= ' ,d_rcc_ratio_mean)\n",
    "print('d_ratio_c_std= ' ,d_rcc_ratio_std)\n",
    "print('d_ratio_c_max= ' ,d_rcc_ratio_max)\n",
    "print('d_ratio_c_min= ' ,d_rcc_ratio_min)\n",
    "print('d_ratio_c_q25= ' ,d_rcc_ratio_q25)\n",
    "print('d_ratio_c_q75= ' ,d_rcc_ratio_q75)"
   ]
  },
  {
   "cell_type": "code",
   "execution_count": 514,
   "metadata": {},
   "outputs": [
    {
     "name": "stdout",
     "output_type": "stream",
     "text": [
      "202\n",
      "202\n",
      "202\n",
      "202\n",
      "202\n",
      "202\n"
     ]
    }
   ],
   "source": [
    "print(len(lonlon))\n",
    "print(len(latlat))\n",
    "print(len(years))\n",
    "print(len(ydyd))\n",
    "print(len(seasonyeardepth))\n",
    "print(len(ratio_of_water_column))"
   ]
  },
  {
   "cell_type": "code",
   "execution_count": 1532,
   "metadata": {},
   "outputs": [
    {
     "name": "stdout",
     "output_type": "stream",
     "text": [
      "            lon        lat  years  day  mean     ratio\n",
      "0     43.983300  43.983300   1993  262  13.0  0.333333\n",
      "1     41.545000  41.545000   1993  279   5.0  0.081967\n",
      "2     41.663300  41.663300   1993  279  15.0  0.078947\n",
      "3     41.810000  41.810000   1993  279  18.0  0.087805\n",
      "4     41.871700  41.871700   1993  279   7.0  0.034483\n",
      "...         ...        ...    ...  ...   ...       ...\n",
      "2476  43.830000  43.830000   2018  315  28.0  0.373333\n",
      "2477  43.750000  43.750000   2018  315  40.0  0.363636\n",
      "2478  43.463333  43.463333   2018  315  67.0  0.507576\n",
      "2479  43.328333  43.328333   2018  315  67.0  0.418750\n",
      "2480  43.280000  43.280000   2018  315   9.0  0.083333\n",
      "\n",
      "[2481 rows x 6 columns]\n"
     ]
    }
   ],
   "source": [
    "densdf = pd.DataFrame({'lon': lonlon,'lat': latlat,'years': years, 'day': ydyd, 'mean': seasonyeardepth, 'ratio': ratio_of_water_column})\n",
    "print(densdf)"
   ]
  },
  {
   "cell_type": "code",
   "execution_count": 1531,
   "metadata": {},
   "outputs": [
    {
     "name": "stdout",
     "output_type": "stream",
     "text": [
      "            lon        lat  years  day   mean     ratio\n",
      "0     43.983300  43.983300   1993  262   18.0  0.461538\n",
      "1     41.545000  41.545000   1993  279    5.0  0.081967\n",
      "2     41.663300  41.663300   1993  279   17.0  0.089474\n",
      "3     41.810000  41.810000   1993  279   25.0  0.121951\n",
      "4     41.871700  41.871700   1993  279   27.0  0.133005\n",
      "...         ...        ...    ...  ...    ...       ...\n",
      "2561  43.830000  43.830000   2018  315   27.0  0.360000\n",
      "2562  43.750000  43.750000   2018  315   40.0  0.363636\n",
      "2563  43.463333  43.463333   2018  315   69.0  0.522727\n",
      "2564  43.328333  43.328333   2018  315  100.0  0.625000\n",
      "2565  43.280000  43.280000   2018  315    9.0  0.083333\n",
      "\n",
      "[2566 rows x 6 columns]\n"
     ]
    }
   ],
   "source": [
    "print(tempdf)"
   ]
  },
  {
   "cell_type": "code",
   "execution_count": 1527,
   "metadata": {},
   "outputs": [],
   "source": [
    "result = pd.merge(densdf, tempdf, on=['lon', 'lat', 'years', 'day'])"
   ]
  },
  {
   "cell_type": "code",
   "execution_count": 1533,
   "metadata": {},
   "outputs": [
    {
     "name": "stdout",
     "output_type": "stream",
     "text": [
      "            lon        lat  years  day  mean_x   ratio_x  mean_y   ratio_y\n",
      "0     43.983300  43.983300   1993  262    13.0  0.333333    18.0  0.461538\n",
      "1     41.545000  41.545000   1993  279     5.0  0.081967     5.0  0.081967\n",
      "2     41.663300  41.663300   1993  279    15.0  0.078947    17.0  0.089474\n",
      "3     41.810000  41.810000   1993  279    18.0  0.087805    25.0  0.121951\n",
      "4     41.871700  41.871700   1993  279     7.0  0.034483    27.0  0.133005\n",
      "...         ...        ...    ...  ...     ...       ...     ...       ...\n",
      "2648  43.830000  43.830000   2018  315    28.0  0.373333    27.0  0.360000\n",
      "2649  43.750000  43.750000   2018  315    40.0  0.363636    40.0  0.363636\n",
      "2650  43.463333  43.463333   2018  315    67.0  0.507576    69.0  0.522727\n",
      "2651  43.328333  43.328333   2018  315    67.0  0.418750   100.0  0.625000\n",
      "2652  43.280000  43.280000   2018  315     9.0  0.083333     9.0  0.083333\n",
      "\n",
      "[2653 rows x 8 columns]\n"
     ]
    }
   ],
   "source": [
    "print(result)"
   ]
  },
  {
   "cell_type": "code",
   "execution_count": 1528,
   "metadata": {},
   "outputs": [
    {
     "name": "stdout",
     "output_type": "stream",
     "text": [
      "2653\n"
     ]
    }
   ],
   "source": [
    "print(len(result))"
   ]
  },
  {
   "cell_type": "code",
   "execution_count": 1529,
   "metadata": {},
   "outputs": [],
   "source": [
    "resultnew = result.dropna()"
   ]
  },
  {
   "cell_type": "code",
   "execution_count": 1530,
   "metadata": {},
   "outputs": [
    {
     "name": "stdout",
     "output_type": "stream",
     "text": [
      "2653\n"
     ]
    }
   ],
   "source": [
    "print(len(resultnew))"
   ]
  },
  {
   "cell_type": "code",
   "execution_count": 1519,
   "metadata": {},
   "outputs": [],
   "source": [
    "merged = densdf.merge(tempdf, on=['lon', 'lat', 'years', 'day'], how = 'inner',indicator=True)\n",
    "# uniques_l = merged[merged['_merge']=='left_only']"
   ]
  },
  {
   "cell_type": "code",
   "execution_count": 1526,
   "metadata": {},
   "outputs": [
    {
     "name": "stdout",
     "output_type": "stream",
     "text": [
      "0\n",
      "0\n"
     ]
    }
   ],
   "source": [
    "uniques_l = merged[merged['_merge']=='left_only']\n",
    "print(len(uniques_l))\n",
    "uniques_r = merged[merged['_merge']=='right_only']\n",
    "print(len(uniques_r))\n"
   ]
  },
  {
   "cell_type": "code",
   "execution_count": 1521,
   "metadata": {},
   "outputs": [],
   "source": [
    "mergednew = merged.dropna()"
   ]
  },
  {
   "cell_type": "code",
   "execution_count": 1522,
   "metadata": {},
   "outputs": [
    {
     "name": "stdout",
     "output_type": "stream",
     "text": [
      "            lon        lat  years  day  mean_x   ratio_x  mean_y   ratio_y  \\\n",
      "0     43.983300  43.983300   1993  262    13.0  0.333333    18.0  0.461538   \n",
      "1     41.545000  41.545000   1993  279     5.0  0.081967     5.0  0.081967   \n",
      "2     41.663300  41.663300   1993  279    15.0  0.078947    17.0  0.089474   \n",
      "3     41.810000  41.810000   1993  279    18.0  0.087805    25.0  0.121951   \n",
      "4     41.871700  41.871700   1993  279     7.0  0.034483    27.0  0.133005   \n",
      "...         ...        ...    ...  ...     ...       ...     ...       ...   \n",
      "2648  43.830000  43.830000   2018  315    28.0  0.373333    27.0  0.360000   \n",
      "2649  43.750000  43.750000   2018  315    40.0  0.363636    40.0  0.363636   \n",
      "2650  43.463333  43.463333   2018  315    67.0  0.507576    69.0  0.522727   \n",
      "2651  43.328333  43.328333   2018  315    67.0  0.418750   100.0  0.625000   \n",
      "2652  43.280000  43.280000   2018  315     9.0  0.083333     9.0  0.083333   \n",
      "\n",
      "     _merge  \n",
      "0      both  \n",
      "1      both  \n",
      "2      both  \n",
      "3      both  \n",
      "4      both  \n",
      "...     ...  \n",
      "2648   both  \n",
      "2649   both  \n",
      "2650   both  \n",
      "2651   both  \n",
      "2652   both  \n",
      "\n",
      "[2653 rows x 9 columns]\n"
     ]
    }
   ],
   "source": [
    "print(mergednew)"
   ]
  },
  {
   "cell_type": "code",
   "execution_count": 1438,
   "metadata": {
    "collapsed": true
   },
   "outputs": [
    {
     "data": {
      "image/png": "[encoded data removed]",
      "text/plain": [
       "<Figure size 432x288 with 4 Axes>"
      ]
     },
     "metadata": {
      "needs_background": "light"
     },
     "output_type": "display_data"
    }
   ],
   "source": [
    "# df = pd.DataFrame({\n",
    "#     'mean_y': merged['mean_y'],\n",
    "#     'years': merged['years'],\n",
    "#     'lat': merged['lat'],\n",
    "#     'lon': merged['lon']\n",
    "#     })\n",
    "# hist = df.hist(bins=100)"
   ]
  },
  {
   "cell_type": "code",
   "execution_count": 1459,
   "metadata": {},
   "outputs": [
    {
     "name": "stdout",
     "output_type": "stream",
     "text": [
      "76.54019607843138\n",
      "201.0\n"
     ]
    }
   ],
   "source": [
    "print(np.mean(merged['mean_y']))\n",
    "print(np.max(merged['mean_y']))"
   ]
  },
  {
   "cell_type": "code",
   "execution_count": 1479,
   "metadata": {},
   "outputs": [
    {
     "name": "stdout",
     "output_type": "stream",
     "text": [
      "15\n"
     ]
    }
   ],
   "source": [
    "print(len(uniques_l))"
   ]
  },
  {
   "cell_type": "code",
   "execution_count": 1516,
   "metadata": {},
   "outputs": [],
   "source": [
    "t_mean_y_fall = merged['mean_y']\n",
    "t_mean_x_fall = merged['mean_x']\n",
    "\n",
    "t_ratio_y_fall = merged['ratio_y']\n",
    "t_ratio_x_fall = merged['ratio_x']"
   ]
  },
  {
   "cell_type": "code",
   "execution_count": 1506,
   "metadata": {},
   "outputs": [],
   "source": [
    "t_mean_y_summr = merged['mean_y']\n",
    "t_mean_x_summer = merged['mean_x']\n",
    "\n",
    "t_ratio_y_summer = merged['ratio_y']\n",
    "t_ratio_x_summer = merged['ratio_x']"
   ]
  },
  {
   "cell_type": "code",
   "execution_count": 1461,
   "metadata": {},
   "outputs": [],
   "source": [
    "t_mean_y_winter = merged['mean_y']\n",
    "t_mean_x_winter = merged['mean_x']\n",
    "\n",
    "t_ratio_y_winter = merged['ratio_y']\n",
    "t_ratio_x_winter = merged['ratio_x']"
   ]
  },
  {
   "cell_type": "code",
   "execution_count": 1480,
   "metadata": {},
   "outputs": [],
   "source": [
    "t_mean_y_spring = merged['mean_y']\n",
    "t_mean_x_spring = merged['mean_x']\n",
    "\n",
    "t_ratio_y_spring = merged['ratio_y']\n",
    "t_ratio_x_spring = merged['ratio_x']"
   ]
  },
  {
   "cell_type": "code",
   "execution_count": 520,
   "metadata": {},
   "outputs": [],
   "source": [
    "y_mean_y_winter = merged['mean_y']\n",
    "y_mean_x_winter = merged['mean_x']\n",
    "\n",
    "y_ratio_y_winter = merged['ratio_y']\n",
    "y_ratio_x_winter = merged['ratio_x']"
   ]
  },
  {
   "cell_type": "code",
   "execution_count": 443,
   "metadata": {},
   "outputs": [],
   "source": [
    "y_mean_y_spring = merged['mean_y']\n",
    "y_mean_x_spring = merged['mean_x']\n",
    "\n",
    "y_ratio_y_spring = merged['ratio_y']\n",
    "y_ratio_x_spring = merged['ratio_x']"
   ]
  },
  {
   "cell_type": "code",
   "execution_count": 460,
   "metadata": {},
   "outputs": [],
   "source": [
    "y_mean_y_summer = merged['mean_y']\n",
    "y_mean_x_summer = merged['mean_x']\n",
    "\n",
    "y_ratio_y_summer = merged['ratio_y']\n",
    "y_ratio_x_summer = merged['ratio_x']"
   ]
  },
  {
   "cell_type": "code",
   "execution_count": 479,
   "metadata": {},
   "outputs": [],
   "source": [
    "y_mean_y_fall = merged['mean_y']\n",
    "y_mean_x_fall = merged['mean_x']\n",
    "\n",
    "y_ratio_y_fall = merged['ratio_y']\n",
    "y_ratio_x_fall = merged['ratio_x']"
   ]
  },
  {
   "cell_type": "code",
   "execution_count": 480,
   "metadata": {},
   "outputs": [
    {
     "name": "stdout",
     "output_type": "stream",
     "text": [
      "224.0\n",
      "220.0\n",
      "175.0\n",
      "112.0\n",
      "81.0\n",
      "81.0\n",
      "196.0\n",
      "196.0\n"
     ]
    }
   ],
   "source": [
    "print(np.max(t_mean_y_spring))\n",
    "print(np.max(t_mean_x_spring))\n",
    "\n",
    "print(np.max(y_mean_y_spring))\n",
    "print(np.max(y_mean_x_spring))\n",
    "\n",
    "print(np.max(y_mean_y_summer))\n",
    "print(np.max(y_mean_x_summer))\n",
    "\n",
    "print(np.max(y_mean_y_fall))\n",
    "print(np.max(y_mean_x_fall))"
   ]
  },
  {
   "cell_type": "code",
   "execution_count": 521,
   "metadata": {},
   "outputs": [
    {
     "name": "stdout",
     "output_type": "stream",
     "text": [
      "941\n",
      "641\n",
      "1438\n",
      "206\n"
     ]
    }
   ],
   "source": [
    "print(len(y_mean_y_spring))\n",
    "print(len(y_mean_y_summer))\n",
    "print(len(y_mean_y_fall))\n",
    "print(len(y_mean_y_winter))"
   ]
  },
  {
   "cell_type": "code",
   "execution_count": 1518,
   "metadata": {},
   "outputs": [
    {
     "data": {
      "image/png": "[encoded data removed]",
      "text/plain": [
       "<Figure size 504x504 with 1 Axes>"
      ]
     },
     "metadata": {
      "needs_background": "light"
     },
     "output_type": "display_data"
    }
   ],
   "source": [
    "plt.figure(figsize=(7,7))\n",
    "plt.figure(1)\n",
    "plt.xlim((0,200))\n",
    "plt.ylim((0,200))\n",
    "\n",
    "xlist = [0,200]\n",
    "ylist = [0,200]\n",
    "# y is temp, x is dens\n",
    "\n",
    "plt.scatter(t_mean_y_spring,t_mean_x_spring, color='green', s = 15, alpha = 0.3)\n",
    "# plt.scatter(y_mean_y_spring,y_mean_x_spring, color='blue', s = 15, alpha = 0.3)\n",
    "# plt.plot(xlist,ylist, linestyle='--', color='black', linewidth=0.5,alpha = 0.6, zorder= 0)\n",
    "plt.scatter(t_mean_y_fall,t_mean_x_fall, color='orange', s = 15, alpha= 0.2)\n",
    "# plt.scatter(y_mean_y_spring,y_mean_x_spring, color='green', s = 15, alpha = 0.2)\n",
    "plt.scatter(t_mean_y_summr,t_mean_x_summer, color='red', s = 15, alpha = 0.2)\n",
    "plt.scatter(t_mean_y_winter,t_mean_x_winter, color='blue', s = 15, alpha = 0.2)\n",
    "\n",
    "plt.grid(b=True, which='both', color='black', linestyle='--',alpha = 0.6)\n",
    "plt.xlabel('Temp-based MLDs', fontsize = 15)\n",
    "plt.ylabel('Density-based MLDs', fontsize = 15)\n",
    "plt.xticks([0,20,40,60,80,100,120,140,160,180,200], fontsize = 15) \n",
    "plt.yticks([0,20,40,60,80,100,120,140,160,180,200], fontsize = 15) \n",
    "mpl.rcParams['axes.linewidth'] = 2\n",
    "# plt.savefig('seasonal_EGoM')\n",
    "plt.show()"
   ]
  },
  {
   "cell_type": "code",
   "execution_count": 539,
   "metadata": {
    "collapsed": true
   },
   "outputs": [
    {
     "data": {
      "image/png": "[encoded data removed]",
      "text/plain": [
       "<Figure size 1080x1080 with 1 Axes>"
      ]
     },
     "metadata": {
      "needs_background": "light"
     },
     "output_type": "display_data"
    }
   ],
   "source": [
    "plt.figure(figsize=(15,15))\n",
    "plt.figure(1)\n",
    "plt.xlim((0,1.05))\n",
    "plt.ylim((0,1.05))\n",
    "\n",
    "plt.scatter(y_ratio_y_fall,y_ratio_x_fall, color='orange', s = 15, alpha= 0.2)\n",
    "plt.scatter(y_ratio_y_spring,y_ratio_x_spring, color='green', s = 15, alpha = 0.2)\n",
    "plt.scatter(y_ratio_y_summer,y_ratio_x_summer, color='red', s = 15, alpha = 0.2)\n",
    "plt.scatter(y_ratio_y_winter,y_ratio_x_winter, color='blue', s = 15, alpha = 0.2)\n",
    "\n",
    "plt.grid(b=True, which='both', color='black', linestyle='--',alpha = 0.6)\n",
    "plt.xlabel('Temp-based MLD / bottom depth (%)', fontsize = 15)\n",
    "plt.ylabel('Density-based MLD / bottom depth (%)', fontsize = 15)\n",
    "plt.xticks([0.0,0.2,0.4,0.6,0.8,1.0], fontsize = 15) \n",
    "plt.yticks([0.0,0.2,0.4,0.6,0.8,1.0], fontsize = 15) \n",
    "plt.show()"
   ]
  },
  {
   "cell_type": "code",
   "execution_count": 598,
   "metadata": {},
   "outputs": [
    {
     "data": {
      "text/plain": [
       "0.8635406082304431"
      ]
     },
     "execution_count": 598,
     "metadata": {},
     "output_type": "execute_result"
    }
   ],
   "source": [
    "import numpy\n",
    "numpy.corrcoef(x, y)[0, 1]"
   ]
  },
  {
   "cell_type": "code",
   "execution_count": 1465,
   "metadata": {},
   "outputs": [],
   "source": [
    "df_merged_new = merged.dropna()"
   ]
  },
  {
   "cell_type": "code",
   "execution_count": 1466,
   "metadata": {},
   "outputs": [],
   "source": [
    "x = df_merged_new['mean_x']\n",
    "y = df_merged_new['mean_y']"
   ]
  },
  {
   "cell_type": "code",
   "execution_count": 1467,
   "metadata": {},
   "outputs": [
    {
     "name": "stdout",
     "output_type": "stream",
     "text": [
      "510\n"
     ]
    }
   ],
   "source": [
    "print(len(y))"
   ]
  },
  {
   "cell_type": "code",
   "execution_count": 601,
   "metadata": {
    "collapsed": true
   },
   "outputs": [
    {
     "data": {
      "text/plain": [
       "(0       54.0\n",
       " 1       23.0\n",
       " 2       31.0\n",
       " 3       35.0\n",
       " 4       25.0\n",
       "         ... \n",
       " 1433    54.0\n",
       " 1434    55.0\n",
       " 1435    12.0\n",
       " 1436    25.0\n",
       " 1437    29.0\n",
       " Name: mean_y, Length: 1438, dtype: float64, 0       47.0\n",
       " 1       17.0\n",
       " 2       28.0\n",
       " 3       29.0\n",
       " 4       20.0\n",
       "         ... \n",
       " 1433    36.0\n",
       " 1434    11.0\n",
       " 1435    11.0\n",
       " 1436    23.0\n",
       " 1437    17.0\n",
       " Name: mean_x, Length: 1438, dtype: float64)"
      ]
     },
     "execution_count": 601,
     "metadata": {},
     "output_type": "execute_result"
    }
   ],
   "source": [
    "y_mean_y_fall,y_mean_x_fall"
   ]
  },
  {
   "cell_type": "code",
   "execution_count": 1468,
   "metadata": {},
   "outputs": [],
   "source": [
    "new = pd.DataFrame({'temp': df_merged_new['mean_y'],'dens': df_merged_new['mean_x']})"
   ]
  },
  {
   "cell_type": "code",
   "execution_count": 1469,
   "metadata": {},
   "outputs": [],
   "source": [
    "templist = list(range(0, 200, 1))\n",
    "denslist = list(range(0, 200, 1))\n",
    "\n",
    "how = pd.DataFrame({'temp': templist,'dens': denslist})"
   ]
  },
  {
   "cell_type": "code",
   "execution_count": 1485,
   "metadata": {},
   "outputs": [
    {
     "name": "stdout",
     "output_type": "stream",
     "text": [
      "4303\n"
     ]
    }
   ],
   "source": [
    "print(len(x))"
   ]
  },
  {
   "cell_type": "code",
   "execution_count": 1484,
   "metadata": {},
   "outputs": [
    {
     "name": "stdout",
     "output_type": "stream",
     "text": [
      "1256\n",
      "2337\n"
     ]
    }
   ],
   "source": [
    "x = t_mean_x_spring\n",
    "y = t_mean_y_spring\n",
    "xydiff = [a_i - b_i for a_i, b_i in zip(x, y)]\n",
    "listpos=[]\n",
    "listneg=[]\n",
    "[listpos.append(i) for i in xydiff if i >0]\n",
    "[listneg.append(i) for i in xydiff if i <0]\n",
    "\n",
    "print(len(listpos))\n",
    "print(len(listneg))\n",
    "\n",
    "\n",
    "# if len(listpos)==len(listneg):\n",
    "#     print(\"The ratio is 1:1\")\n",
    "# else:\n",
    "#     above=(len(listpos)/len(deviationxy))*100\n",
    "#     below=(len(listneg)/len(deviationxy))*100\n",
    "#     print(\"{0}% of the values are above the line y=x ; {1}% of the values are below the line\".format(above,below))\n"
   ]
  },
  {
   "cell_type": "code",
   "execution_count": null,
   "metadata": {},
   "outputs": [],
   "source": []
  }
 ],
 "metadata": {
  "kernelspec": {
   "display_name": "Python 3",
   "language": "python",
   "name": "python3"
  },
  "language_info": {
   "codemirror_mode": {
    "name": "ipython",
    "version": 3
   },
   "file_extension": ".py",
   "mimetype": "text/x-python",
   "name": "python",
   "nbconvert_exporter": "python",
   "pygments_lexer": "ipython3",
   "version": "3.7.1"
  }
 },
 "nbformat": 4,
 "nbformat_minor": 2
}
