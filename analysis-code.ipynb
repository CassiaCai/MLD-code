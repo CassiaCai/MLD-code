{
 "cells": [
  {
   "cell_type": "code",
   "execution_count": null,
   "metadata": {},
   "outputs": [],
   "source": [
    "# Import libraries\n",
    "import matplotlib.pyplot as plt; import numpy as np; import netCDF4; from netCDF4 import Dataset\n",
    "import pandas as pd; import numpy.ma as ma; import time as timeit; import os; import math\n",
    "import itertools; import scipy.io; import mat73; import collections\n",
    "import cartopy; import cartopy.crs as ccrs\n",
    "from cartopy.mpl.gridliner import LONGITUDE_FORMATTER, LATITUDE_FORMATTER\n",
    "from matplotlib.ticker import FuncFormatter\n",
    "from matplotlib.ticker import AutoMinorLocator; from matplotlib.ticker import FixedLocator\n",
    "from shapely.geometry import Point\n",
    "from shapely.geometry.polygon import Polygon\n",
    "%matplotlib inline\n",
    "import statistics; import xarray as xr"
   ]
  },
  {
   "cell_type": "code",
   "execution_count": null,
   "metadata": {},
   "outputs": [],
   "source": [
    "import numpy as np\n",
    "from matplotlib.path import Path\n",
    "\n",
    "# nx = np.arange(-76*100,-65*100,25)\n",
    "# ny = np.arange(35*100,46*100,25)\n",
    "\n",
    "nx = np.arange(-76,-65,0.5)\n",
    "ny = np.arange(35,46,0.5)\n",
    "\n",
    "# poly_verts = df_w_plottable.values \n",
    "\n",
    "poly_verts_w = df_w_plottable.values \n",
    "poly_verts_v = df_v_plottable.values \n",
    "poly_verts_x = df_x_plottable.values \n",
    "poly_verts_y = df_y_plottable.values \n",
    "poly_verts_t = df_t_plottable.values \n",
    "\n",
    "full_pandas = df_w_plottable.append(df_v_plottable)\n",
    "full_pandas = full_pandas.append(df_x_plottable)\n",
    "full_pandas = full_pandas.append(df_y_plottable)\n",
    "full_pandas = full_pandas.append(df_t_plottable)\n",
    "poly_verts_full = full_pandas.values\n",
    "\n",
    "# print(df_w_plottable.values )\n",
    "\n",
    "newlon = [-69.5,-68,-67.5, -67, -66.5, -66, -65.7, -66,-66, -66.5, -67,\n",
    "         -68, -69, -70,-70.5, -70.5,-69.5, -72, -74, -74.25, -76, -75.5, -75, -74.75, -74.5, -72, -71.4, -69.5]\n",
    "newlat = [40,40.3,40.4, 40.6, 40.8, 41.45, 41.8, 42.1, 43, 44.2, 44.2, 44.2, 43.9, 43.7,\n",
    "         43, 42.2, 41, 41, 40.5, 39.4, 37, 36, 35.5, 36, 37.4, 39.5, 40, 40]\n",
    "newpath = list(zip(newlon,newlat))\n",
    "newpd = pd.DataFrame(newpath, columns=['lon','lat'])\n",
    "path_new = Path(newpath)\n",
    "\n",
    "# full_numpyarray = poly_verts_w.append(poly_verts_v,poly_verts_x,poly_verts_y,poly_verts_t)\n",
    "\n",
    "# Create vertex coordinates for each grid cell...\n",
    "# (<0,0> is at the top left of the grid in this system)\n",
    "x, y = np.meshgrid(nx, ny)\n",
    "x, y = x.flatten(), y.flatten()\n",
    "\n",
    "points = np.vstack((x,y)).T\n",
    "\n",
    "# path = Path(poly_verts)\n",
    "path_w = Path(poly_verts_w)\n",
    "path_v = Path(poly_verts_v)\n",
    "path_x = Path(poly_verts_x)\n",
    "path_y = Path(poly_verts_y)\n",
    "path_t = Path(poly_verts_t)\n",
    "path_full = Path(poly_verts_full)\n",
    "\n",
    "# grid = path.contains_points(points)\n",
    "# grid = path_w.contains_points(points) \n",
    "# grid = path_full.contains_points(points) \n",
    "grid = path_new.contains_points(points) \n",
    "\n",
    "# grid = path_w.contains_points(points) or path_v.contains_points(points) or path_x.contains_points(points) or path_y.contains_points(points) or path_t.contains_points(points)\n",
    "\n",
    "grid = grid.reshape((22,22))\n",
    "\n",
    "print(grid)"
   ]
  },
  {
   "cell_type": "code",
   "execution_count": null,
   "metadata": {},
   "outputs": [],
   "source": [
    "def onelist(n):\n",
    "    listofzeros = [1] * n\n",
    "    return onelist"
   ]
  }
 ],
 "metadata": {
  "kernelspec": {
   "display_name": "Python 3",
   "language": "python",
   "name": "python3"
  },
  "language_info": {
   "codemirror_mode": {
    "name": "ipython",
    "version": 3
   },
   "file_extension": ".py",
   "mimetype": "text/x-python",
   "name": "python",
   "nbconvert_exporter": "python",
   "pygments_lexer": "ipython3",
   "version": "3.7.1"
  }
 },
 "nbformat": 4,
 "nbformat_minor": 2
}
