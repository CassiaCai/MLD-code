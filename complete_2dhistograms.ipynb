{
 "cells": [
  {
   "cell_type": "code",
   "execution_count": 1,
   "metadata": {},
   "outputs": [],
   "source": [
    "import matplotlib.pyplot as plt; import numpy as np; import netCDF4; from netCDF4 import Dataset\n",
    "import pandas as pd; import numpy.ma as ma; import time as timeit; import os; import math\n",
    "import itertools; import scipy.io; import mat73; import collections\n",
    "import cartopy; import cartopy.crs as ccrs\n",
    "from cartopy.mpl.gridliner import LONGITUDE_FORMATTER, LATITUDE_FORMATTER\n",
    "from matplotlib.ticker import FuncFormatter\n",
    "from matplotlib.ticker import AutoMinorLocator; from matplotlib.ticker import FixedLocator\n",
    "from shapely.geometry import Point\n",
    "from shapely.geometry.polygon import Polygon\n",
    "%matplotlib inline\n",
    "import statistics; import xarray as xr; from scipy.interpolate import griddata\n",
    "from matplotlib.path import Path"
   ]
  },
  {
   "cell_type": "code",
   "execution_count": 112,
   "metadata": {},
   "outputs": [],
   "source": [
    "x = open(\"bndmbn.txt\", \"r\", encoding=\"utf-8\")\n",
    "x.read()\n",
    "x = '  40.50   74.00\\n  39.50   72.00\\n  40.00   71.40\\n  40.00   69.50\\n  41.00   69.50\\n  41.10   70.00\\n  41.00   72.00\\n  40.50   74.00\\n'\n",
    "output1x = x.split('\\n')\n",
    "\n",
    "newx = [] \n",
    "for string in output1x:\n",
    "    output2x = string.split(' ')\n",
    "    newx.append(output2x)\n",
    "newx = [['', '', '40.50', '', '', '74.00'], ['', '', '39.50', '', '', '72.00'], ['', '', '40.00', '', '', '71.40'], ['', '', '40.00', '', '', '69.50'], ['', '', '41.00', '', '', '69.50'], ['', '', '41.10', '', '', '70.00'], ['', '', '41.00', '', '', '72.00'], ['', '', '40.50', '', '', '74.00']]\n",
    "lon_x = []; lat_x = []\n",
    "\n",
    "for i in range(8): \n",
    "    x1 = newx[i][2]\n",
    "    lat_x.append(x1)\n",
    "    x3 = newx[i][5]\n",
    "    lon_x.append(x3)\n",
    "lonlist_x = [float(i) for i in lon_x]; latlist_x = [float(i) for i in lat_x]\n",
    "df_x = pd.DataFrame({'lon': lonlist_x, 'lat': latlist_x,})\n",
    "\n",
    "lonlist_x_plot = [float(i)*-1 for i in lon_x]; latlist_x = [float(i) for i in lat_x]\n",
    "df_x_plot = pd.DataFrame({'lon': lonlist_x_plot, 'lat': latlist_x,})\n",
    "x_x = df_x_plot['lon']; y_x = df_x_plot['lat']\n",
    "\n",
    "lonlist_xneg = [float(i)*-1 for i in lon_x]\n",
    "df_x_plottable = pd.DataFrame({'lon': lonlist_xneg, 'lat': latlist_x,})"
   ]
  },
  {
   "cell_type": "code",
   "execution_count": 113,
   "metadata": {},
   "outputs": [
    {
     "name": "stdout",
     "output_type": "stream",
     "text": [
      "POLYGON ((74 40.5, 72 39.5, 71.40000000000001 40, 69.5 40, 69.5 41, 70 41.1, 72 41, 74 40.5))\n"
     ]
    }
   ],
   "source": [
    "polygon_x = Polygon(df_x.values.tolist())\n",
    "print(polygon_x)"
   ]
  },
  {
   "cell_type": "code",
   "execution_count": 101,
   "metadata": {},
   "outputs": [],
   "source": [
    "y = open(\"bndgme.txt\", \"r\", encoding=\"utf-8\")\n",
    "y.read()\n",
    "y = '  41.80   68.00\\n  42.10   67.50\\n  42.10   67.00\\n  42.10   66.00\\n  43.00   66.00\\n  44.20   66.50\\n  44.20   67.00\\n  44.20   68.00\\n  41.80   68.00\\n'\n",
    "output1y = y.split('\\n')\n",
    "\n",
    "newy = [] \n",
    "for string in output1y:\n",
    "    output2y = string.split(' ')\n",
    "    newy.append(output2y)\n",
    "newy = [['', '', '41.80', '', '', '68.00'], ['', '', '42.10', '', '', '67.50'], ['', '', '42.10', '', '', '67.00'], ['', '', '42.10', '', '', '66.00'], ['', '', '43.00', '', '', '66.00'], ['', '', '44.20', '', '', '66.50'], ['', '', '44.20', '', '', '67.00'], ['', '', '44.20', '', '', '68.00'], ['', '', '41.80', '', '', '68.00']]\n",
    "lon_y = []; lat_y = []\n",
    "\n",
    "for i in range(9): \n",
    "    y1 = newy[i][2]\n",
    "    lat_y.append(y1)\n",
    "    y3 = newy[i][5]\n",
    "    lon_y.append(y3)\n",
    "lonlist_y = [float(i) for i in lon_y]; latlist_y = [float(i) for i in lat_y]\n",
    "df_y = pd.DataFrame({'lon': lonlist_y, 'lat': latlist_y,})\n",
    "\n",
    "lonlist_y_plot = [float(i)*-1 for i in lon_y]; latlist_y = [float(i) for i in lat_y]\n",
    "df_y_plot = pd.DataFrame({'lon': lonlist_y_plot, 'lat': latlist_y,})\n",
    "x_y = df_y_plot['lon']; y_y = df_y_plot['lat']\n",
    "\n",
    "lonlist_yneg = [float(i)*-1 for i in lon_y]\n",
    "df_y_plottable = pd.DataFrame({'lon': lonlist_yneg, 'lat': latlist_y,})"
   ]
  },
  {
   "cell_type": "code",
   "execution_count": 102,
   "metadata": {},
   "outputs": [
    {
     "name": "stdout",
     "output_type": "stream",
     "text": [
      "POLYGON ((68 41.8, 67.5 42.1, 67 42.1, 66 42.1, 66 43, 66.5 44.2, 67 44.2, 68 44.2, 68 41.8))\n"
     ]
    }
   ],
   "source": [
    "polygon_y = Polygon(df_y.values)\n",
    "print(polygon_y)"
   ]
  },
  {
   "cell_type": "code",
   "execution_count": 114,
   "metadata": {
    "scrolled": false
   },
   "outputs": [
    {
     "name": "stdout",
     "output_type": "stream",
     "text": [
      "filtereddepth_ 1982 29.5\n",
      "filtereddepth_ 1987 20.718446601941746\n",
      "filtereddepth_ 1988 24.964285714285715\n",
      "filtereddepth_ 1989 23.732142857142858\n",
      "filtereddepth_ 1990 33.94871794871795\n",
      "filtereddepth_ 1991 31.305194805194805\n",
      "filtereddepth_ 1992 35.505376344086024\n",
      "filtereddepth_ 1993 32.735849056603776\n",
      "filtereddepth_ 1994 20.357142857142858\n",
      "filtereddepth_ 1995 27.253333333333334\n",
      "filtereddepth_ 1996 21.177777777777777\n",
      "filtereddepth_ 1997 21.32\n",
      "filtereddepth_ 1998 29.220338983050848\n",
      "filtereddepth_ 1999 27.388489208633093\n",
      "filtereddepth_ 2000 23.73780487804878\n",
      "filtereddepth_ 2001 32.63333333333333\n",
      "filtereddepth_ 2002 26.62992125984252\n",
      "filtereddepth_ 2003 22.779816513761467\n",
      "filtereddepth_ 2004 24.11842105263158\n",
      "filtereddepth_ 2005 25.852713178294575\n",
      "filtereddepth_ 2006 26.360544217687075\n",
      "filtereddepth_ 2007 27.659574468085108\n",
      "filtereddepth_ 2008 27.53125\n",
      "filtereddepth_ 2009 30.16751269035533\n",
      "filtereddepth_ 2010 31.706586826347305\n",
      "filtereddepth_ 2011 27.953757225433527\n",
      "filtereddepth_ 2012 24.26178010471204\n",
      "filtereddepth_ 2013 21.96062992125984\n",
      "filtereddepth_ 2014 28.860869565217392\n",
      "filtereddepth_ 2015 27.917910447761194\n",
      "filtereddepth_ 2016 21.389705882352942\n",
      "filtereddepth_ 2017 34.65384615384615\n",
      "filtereddepth_ 2018 18.65714285714286\n",
      "filtereddepth_ 2019 28.029411764705884\n"
     ]
    }
   ],
   "source": [
    "years = []; filteredMLDlist = []; filteredMLDstdlist = []; filteredfloorslist = []\n",
    "for year in range(1977,2020):\n",
    "    filename = 'casts_{}.mat'.format(year)\n",
    "    file = scipy.io.loadmat(filename,squeeze_me=True)\n",
    "    npfile = file['casts_{}'.format(year)]\n",
    "    \n",
    "    lat_intermediate = []; lon_intermediate = []; p_intermediate = []; t_intermediate = []; yd_intermediate = []\n",
    "    seasonyeardepth = []; seasonyeartemp = [];counterii = []; floors = []; floor_intermediate = []\n",
    "        \n",
    "    for i in range(len(npfile)):\n",
    "        yd = npfile[i]['yd']\n",
    "        p = npfile[i]['p']\n",
    "        s = npfile[i]['s']\n",
    "        t = npfile[i]['t']\n",
    "        gear = npfile[i]['gear']\n",
    "        floordepth = npfile[i]['depth']\n",
    "#         if gear == 'Bottle':\n",
    "#             pass\n",
    "#         if yd > 334 and yd <= 365 or yd >= 0 and yd <= 59:\n",
    "        if yd >=0 and yd <= 365:\n",
    "            if gear == 'Bottle':\n",
    "                pass\n",
    "            else:\n",
    "#         elif yd > 243 and yd <= 334:\n",
    "                lat_intermediate.append(npfile[i]['lat'])\n",
    "                lon_intermediate.append(npfile[i]['lon'])\n",
    "                p_intermediate.append(npfile[i]['p'])\n",
    "                t_intermediate.append(npfile[i]['t'])\n",
    "                yd_intermediate.append(npfile[i]['yd'])\n",
    "                floor_intermediate.append(npfile[i]['depth'])\n",
    "    month_df = pd.DataFrame({'day': yd_intermediate,'lon': lon_intermediate,'lat': lat_intermediate, 'p': p_intermediate, 't': t_intermediate, \n",
    "                            'depth': floor_intermediate})\n",
    "    newdf = pd.DataFrame({'lon': lon_intermediate,'lat': lat_intermediate})\n",
    "    for ii in range(len(month_df)):\n",
    "        new = newdf.iloc[ii].values\n",
    "        point = Point(new)\n",
    "        if isinstance(month_df['p'].iloc[ii], int) or isinstance(month_df['p'].iloc[ii], float) or isinstance(month_df['t'].iloc[ii], int) or isinstance(month_df['t'].iloc[ii], float):\n",
    "            pass\n",
    "        elif polygon_x.contains(point) == True:\n",
    "            pt_df = pd.DataFrame({'p': month_df['p'].iloc[ii],'temp': month_df['t'].iloc[ii]}) \n",
    "            df_ptsnew = pt_df.dropna()\n",
    "            df_final = pd.DataFrame(df_ptsnew.values)\n",
    "            l=[i for i in df_final[0] if i<=6]\n",
    "#             print(month_df['depth'].iloc[ii])\n",
    "            if len(l) > 0:\n",
    "                surfaceval = []\n",
    "                numrange = []\n",
    "                for x in range(len(l)):\n",
    "                    val = df_final[1][x]\n",
    "                    numrange.append(x)\n",
    "                    surfaceval.append(val)      \n",
    "            surfacevalmean = statistics.mean(surfaceval)\n",
    "            tempfin = []\n",
    "            pressurefin = []\n",
    "            for iii in range(numrange[-1],len(df_final)):\n",
    "                tempfin.append(df_final[1][iii])\n",
    "                pressurefin.append(df_final[0][iii])\n",
    "            d = {'temp': list(reversed(tempfin)), 'pressure': list(reversed(pressurefin))}\n",
    "            dffin = pd.DataFrame(d)\n",
    "            pnew = []; allmixedcount = []\n",
    "            inconclusivecount = []\n",
    "            pnew = []\n",
    "            for ix in range(len(dffin)):\n",
    "                b = dffin.at[ix,'temp']\n",
    "                \n",
    "                if b > (surfacevalmean + 0.2) or b < (surfacevalmean - 0.2):\n",
    "                    pass\n",
    "                \n",
    "                if b <= (surfacevalmean + 0.2) and b >= (surfacevalmean - 0.2):\n",
    "                    if dffin.at[ix,'pressure'] >= floordepth - 6:\n",
    "                        seasonyeartemp.append(dffin.at[ix,'temp'])\n",
    "                        seasonyeardepth.append(dffin.at[ix,'pressure'])\n",
    "                        counterii.append(ix)\n",
    "#                         print(month_df['depth'].iloc[ii]) \n",
    "                        floors.append(month_df['depth'].iloc[ii])\n",
    "#                         print(ii)\n",
    "#                         print(month_df.at[ii,'depth'])\n",
    "                        pnew.append(dffin.at[ix,'pressure'])\n",
    "#                         if len(pnew) > 0:\n",
    "#                             yplottable = pnew[0]*-1\n",
    "\n",
    "#                         plt.style.use('seaborn-white')  \n",
    "#                         plt.plot(df_final[1],df_final[0]*-1,color='blue')\n",
    "#                         plt.axhline(y=yplottable, color='r', linestyle='--')\n",
    "#                         plt.xlabel('Temperature (°C)')\n",
    "#                         plt.ylabel('Pressure (m)')\n",
    "#                         plt.grid(False)\n",
    "#                         plt.show()\n",
    "                    elif dffin.at[ix,'pressure'] == df_final[0].iloc[-1]:\n",
    "                        pass\n",
    "                    elif dffin.at[ix,'pressure'] == 0:\n",
    "                        pass\n",
    "                    else:\n",
    "                        seasonyeartemp.append(dffin.at[ix,'temp'])\n",
    "                        seasonyeardepth.append(dffin.at[ix,'pressure'])\n",
    "                        np.array(seasonyeartemp)\n",
    "                        np.array(seasonyeardepth)\n",
    "                        counterii.append(ii)\n",
    "                        floors.append(month_df['depth'].iloc[ii])\n",
    "                        pnew.append(dffin.at[ix,'pressure'])\n",
    "#                         if len(pnew) > 0:\n",
    "#                             yplottable = pnew[0]*-1\n",
    "\n",
    "#                         plt.style.use('seaborn-white')  \n",
    "#                         plt.plot(df_final[1],df_final[0]*-1,color='blue')\n",
    "#                         plt.axhline(y=yplottable, color='r', linestyle='--')\n",
    "#                         plt.xlabel('Temperature (°C)')\n",
    "#                         plt.ylabel('Pressure (m)')\n",
    "#                         plt.grid(False)\n",
    "#                         plt.show()\n",
    "#                         print(month_df['depth'].iloc[ii])  \n",
    "\n",
    "#                         print(ii)\n",
    "#                         print(month_df.at[ii,'depth'])\n",
    "                    break  \n",
    "#     print(year, seasonyeartemp)\n",
    "    monthly = []\n",
    "    if len(seasonyeartemp) > 0:\n",
    "#         print('depth_',year,np.mean(seasonyeardepth))\n",
    "#         print(seasonyeardepth)\n",
    "#         print(floors)\n",
    "        bottomandmixeddepths = pd.DataFrame({'MLD': seasonyeardepth,'bottomd': floors}) \n",
    "#         print(bottomandmixeddepths)\n",
    "        bottomandmixeddepths = bottomandmixeddepths[bottomandmixeddepths.bottomd <= 200]\n",
    "#         print(bottomandmixeddepths)\n",
    "        filteredMLD = bottomandmixeddepths['MLD'].tolist()\n",
    "        filteredfloors = bottomandmixeddepths['bottomd'].tolist()\n",
    "#         print('filtereddepthstd_',year,np.std(filteredMLD))\n",
    "#         print(filteredMLD)\n",
    "#         print(filteredfloors)\n",
    "        new = np.mean(filteredMLD)\n",
    "        newstd = np.std(filteredMLD)\n",
    "        print('filtereddepth_',year,np.mean(filteredMLD))\n",
    "        filteredMLDlist.append(new)\n",
    "        filteredMLDstdlist.append(filteredMLD)\n",
    "        filteredfloorslist.append(filteredfloors)\n",
    "    years.append(year)\n",
    "#     filteredMLDlist.append(np.mean(filteredMLD))"
   ]
  },
  {
   "cell_type": "code",
   "execution_count": 115,
   "metadata": {},
   "outputs": [
    {
     "name": "stdout",
     "output_type": "stream",
     "text": [
      "4546\n",
      "4546\n"
     ]
    }
   ],
   "source": [
    "flat_filteredfloorslist = sum(filteredfloorslist, []) \n",
    "flat_filteredMLDstdlist = sum(filteredMLDstdlist, []) \n",
    "print(len(flat_filteredfloorslist))\n",
    "print(len(flat_filteredMLDstdlist))"
   ]
  },
  {
   "cell_type": "code",
   "execution_count": 120,
   "metadata": {},
   "outputs": [
    {
     "data": {
      "image/png": "[encoded data removed]",
      "text/plain": [
       "<Figure size 936x1008 with 2 Axes>"
      ]
     },
     "metadata": {},
     "output_type": "display_data"
    }
   ],
   "source": [
    "x = flat_filteredMLDstdlist\n",
    "y = flat_filteredfloorslist\n",
    "plt.style.use('seaborn-white')\n",
    "plt.figure(figsize=(13, 14))\n",
    "# plt.scatter(x, y, marker='.', c='red')\n",
    "plt.hist2d(x, y, bins=(70, 70), cmap='inferno')\n",
    "# plt.ylim((30,200))\n",
    "# plt.xlim((4,180))\n",
    "# plt.scatter(x, y, marker='.', c='red')\n",
    "plt.ylabel('Bottom depth (m)', fontsize = 20)\n",
    "plt.xlabel('Mixed layer depth (m)', fontsize = 20)\n",
    "plt.xticks([20, 40,60,80,100,120,140,160,180], fontsize = 15) \n",
    "plt.yticks([20,40,60,80,100,120,140,160,180,200], fontsize = 15) \n",
    "cbar = plt.colorbar()\n",
    "# cbar.ax.set_yticklabels(fontsize=15)\n",
    "cbar.ax.set_yticklabels([0,5, 10,15, 20,25, 30,35, 40], fontsize=15)\n",
    "# cbar.set_label('Count', rotation=270, fontsize = 20)\n",
    "\n",
    "# plt.grid(b=True, which='major', color='white', linestyle='--',alpha = 0.15)\n",
    "plt.savefig('2dhist')\n",
    "plt.show()"
   ]
  },
  {
   "cell_type": "code",
   "execution_count": null,
   "metadata": {},
   "outputs": [],
   "source": []
  }
 ],
 "metadata": {
  "kernelspec": {
   "display_name": "Python 3",
   "language": "python",
   "name": "python3"
  },
  "language_info": {
   "codemirror_mode": {
    "name": "ipython",
    "version": 3
   },
   "file_extension": ".py",
   "mimetype": "text/x-python",
   "name": "python",
   "nbconvert_exporter": "python",
   "pygments_lexer": "ipython3",
   "version": "3.7.1"
  }
 },
 "nbformat": 4,
 "nbformat_minor": 2
}
