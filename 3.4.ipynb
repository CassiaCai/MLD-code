{
 "cells": [
  {
   "cell_type": "code",
   "execution_count": 13,
   "metadata": {},
   "outputs": [],
   "source": [
    "import matplotlib.pyplot as plt; import numpy as np; import netCDF4; from netCDF4 import Dataset\n",
    "import pandas as pd; import numpy.ma as ma; import time as timeit; import os; import math\n",
    "import itertools; import scipy.io; import mat73; import collections\n",
    "import cartopy; import cartopy.crs as ccrs\n",
    "from cartopy.mpl.gridliner import LONGITUDE_FORMATTER, LATITUDE_FORMATTER\n",
    "from matplotlib.ticker import FuncFormatter\n",
    "from matplotlib.ticker import AutoMinorLocator; from matplotlib.ticker import FixedLocator\n",
    "from shapely.geometry import Point\n",
    "from shapely.geometry.polygon import Polygon\n",
    "%matplotlib inline\n",
    "import statistics; import xarray as xr; import matplotlib as mpl; import gsw"
   ]
  },
  {
   "cell_type": "code",
   "execution_count": 14,
   "metadata": {},
   "outputs": [],
   "source": [
    "filenow = 'glorys12v1_depth.nc'\n",
    "BC=Dataset(filenow); BS=xr.open_dataset(filenow)\n",
    "glorysdepth = np.asarray(BS['depth'].values)"
   ]
  },
  {
   "cell_type": "code",
   "execution_count": 15,
   "metadata": {},
   "outputs": [],
   "source": [
    "newv = [['', '', '37.00', '', '', '76.00'], ['', '', '36.00', '', '', '75.50'], ['', '', '35.50', '', '', '75.00'], ['', '', '36.00', '', '', '74.75'], ['', '', '37.40', '', '', '74.50'], ['', '', '39.50', '', '', '72.00'], ['', '', '40.50', '', '', '74.00'], ['', '', '39.40', '', '', '74.25'], ['', '', '37.00', '', '', '76.00']]\n",
    "lon_v = []; lat_v = []\n",
    "for i in range(9): \n",
    "    v1 = newv[i][2]\n",
    "    lat_v.append(v1)\n",
    "    v3 = newv[i][5]\n",
    "    lon_v.append(v3)\n",
    "lonlist_v = [float(i) for i in lon_v]; latlist_v = [float(i) for i in lat_v]\n",
    "df_v = pd.DataFrame({'lon': lonlist_v, 'lat': latlist_v,})\n",
    "lonlist_v_plot = [float(i)*-1 for i in lon_v]; latlist_v = [float(i) for i in lat_v]\n",
    "df_v_plot = pd.DataFrame({'lon': lonlist_v_plot, 'lat': latlist_v,})\n",
    "x_v = df_v_plot['lon']; y_v = df_v_plot['lat']\n",
    "\n",
    "lonlist_vneg = [float(i)*-1 for i in lon_v]\n",
    "df_v_plottable = pd.DataFrame({'lon': lonlist_vneg, 'lat': latlist_v,})\n",
    "polygon_v = Polygon(df_v.values.tolist())"
   ]
  },
  {
   "cell_type": "code",
   "execution_count": 16,
   "metadata": {},
   "outputs": [],
   "source": [
    "neww = [['', '', '40.00', '', '', '69.50'], ['', '', '40.30', '', '', '68.00'], ['', '', '40.40', '', '', '67.50'], ['', '', '40.60', '', '', '67.00'], ['', '', '40.80', '', '', '66.50'], ['', '', '41.45', '', '', '66.00'], ['', '', '41.80', '', '', '65.70'], ['', '', '42.10', '', '', '66.00'], ['', '', '42.10', '', '', '67.00'], ['', '', '42.10', '', '', '67.50'], ['', '', '41.80', '', '', '68.00'], ['', '', '41.10', '', '', '69.00'], ['', '', '41.00', '', '', '69.50'], ['', '', '40.00', '', '', '69.50']]\n",
    "lon_w = []; lat_w = []\n",
    "for i in range(14): \n",
    "    w1 = neww[i][2]\n",
    "    lat_w.append(w1)\n",
    "    w3 = neww[i][5]\n",
    "    lon_w.append(w3)\n",
    "lonlist_w = [float(i) for i in lon_w]; latlist_w = [float(i) for i in lat_w]\n",
    "lonlist_wneg = [float(i)*-1 for i in lon_w]\n",
    "df_w = pd.DataFrame({'lon': lonlist_w, 'lat': latlist_w,})\n",
    "df_w_plottable = pd.DataFrame({'lon': lonlist_wneg, 'lat': latlist_w,})\n",
    "\n",
    "lonlist_w_plot = [float(i)*-1 for i in lon_w]; latlist_w = [float(i) for i in lat_w]\n",
    "df_w_plot = pd.DataFrame({'lon': lonlist_w_plot, 'lat': latlist_w,})\n",
    "x_w = df_w_plot['lon']; y_w = df_w_plot['lat']\n",
    "polygon_w = Polygon(df_w.values)"
   ]
  },
  {
   "cell_type": "code",
   "execution_count": 17,
   "metadata": {},
   "outputs": [],
   "source": [
    "newy = [['', '', '41.80', '', '', '68.00'], ['', '', '42.10', '', '', '67.50'], ['', '', '42.10', '', '', '67.00'], ['', '', '42.10', '', '', '66.00'], ['', '', '43.00', '', '', '66.00'], ['', '', '44.20', '', '', '66.50'], ['', '', '44.20', '', '', '67.00'], ['', '', '44.20', '', '', '68.00'], ['', '', '41.80', '', '', '68.00']]\n",
    "lon_y = []; lat_y = []\n",
    "for i in range(9): \n",
    "    y1 = newy[i][2]\n",
    "    lat_y.append(y1)\n",
    "    y3 = newy[i][5]\n",
    "    lon_y.append(y3)\n",
    "lonlist_y = [float(i) for i in lon_y]; latlist_y = [float(i) for i in lat_y]\n",
    "df_y = pd.DataFrame({'lon': lonlist_y, 'lat': latlist_y,})\n",
    "lonlist_y_plot = [float(i)*-1 for i in lon_y]; latlist_y = [float(i) for i in lat_y]\n",
    "df_y_plot = pd.DataFrame({'lon': lonlist_y_plot, 'lat': latlist_y,})\n",
    "x_y = df_y_plot['lon']; y_y = df_y_plot['lat']\n",
    "\n",
    "lonlist_yneg = [float(i)*-1 for i in lon_y]\n",
    "df_y_plottable = pd.DataFrame({'lon': lonlist_yneg, 'lat': latlist_y,})\n",
    "polygon_y = Polygon(df_y.values)"
   ]
  },
  {
   "cell_type": "code",
   "execution_count": 18,
   "metadata": {},
   "outputs": [],
   "source": [
    "newt = [['', '', '42.20', '', '', '70.50'], ['', '', '42.00', '', '', '70.00'], ['', '', '41.10', '', '', '69.00'], ['', '', '41.80', '', '', '68.00'], ['', '', '44.20', '', '', '68.00'], ['', '', '43.90', '', '', '69.00'], ['', '', '43.70', '', '', '70.00'], ['', '', '43.00', '', '', '70.50'], ['', '', '42.20', '', '', '70.50']]\n",
    "lon_t = []; lat_t = []\n",
    "for i in range(9): \n",
    "    t1 = newt[i][2]\n",
    "    lat_t.append(t1)\n",
    "    t3 = newt[i][5]\n",
    "    lon_t.append(t3)\n",
    "lonlist_t = [float(i) for i in lon_t]; latlist_t = [float(i) for i in lat_t]\n",
    "df_t = pd.DataFrame({'lon': lonlist_t, 'lat': latlist_t,})\n",
    "lonlist_t_plot = [float(i)*-1 for i in lon_t]; latlist_t = [float(i) for i in lat_t]\n",
    "df_t_plot = pd.DataFrame({'lon': lonlist_t_plot, 'lat': latlist_t,})\n",
    "x_t = df_t_plot['lon']; y_t = df_t_plot['lat']\n",
    "\n",
    "lonlist_tneg = [float(i)*-1 for i in lon_t]\n",
    "df_t_plottable = pd.DataFrame({'lon': lonlist_tneg, 'lat': latlist_t,})\n",
    "polygon_t = Polygon(df_t.values)"
   ]
  },
  {
   "cell_type": "code",
   "execution_count": 19,
   "metadata": {},
   "outputs": [],
   "source": [
    "newx = [['', '', '40.50', '', '', '74.00'], ['', '', '39.50', '', '', '72.00'], ['', '', '40.00', '', '', '71.40'], ['', '', '40.00', '', '', '69.50'], ['', '', '41.00', '', '', '69.50'], ['', '', '41.10', '', '', '70.00'], ['', '', '41.00', '', '', '72.00'], ['', '', '40.50', '', '', '74.00']]\n",
    "lon_x = []; lat_x = []\n",
    "for i in range(8): \n",
    "    x1 = newx[i][2]\n",
    "    lat_x.append(x1)\n",
    "    x3 = newx[i][5]\n",
    "    lon_x.append(x3)\n",
    "lonlist_x = [float(i) for i in lon_x]; latlist_x = [float(i) for i in lat_x]\n",
    "df_x = pd.DataFrame({'lon': lonlist_x, 'lat': latlist_x,})\n",
    "lonlist_x_plot = [float(i)*-1 for i in lon_x]; latlist_x = [float(i) for i in lat_x]\n",
    "df_x_plot = pd.DataFrame({'lon': lonlist_x_plot, 'lat': latlist_x,})\n",
    "x_x = df_x_plot['lon']; y_x = df_x_plot['lat']\n",
    "\n",
    "lonlist_xneg = [float(i)*-1 for i in lon_x]\n",
    "df_x_plottable = pd.DataFrame({'lon': lonlist_xneg, 'lat': latlist_x,})\n",
    "polygon_x = Polygon(df_x.values.tolist())"
   ]
  },
  {
   "cell_type": "code",
   "execution_count": 814,
   "metadata": {},
   "outputs": [],
   "source": [
    "# Method starting at 5m\n",
    "jan = pd.read_csv('analysisdata/sbsl_final_01_full.csv'); feb = pd.read_csv('analysisdata/sbsl_final_02_full.csv')\n",
    "march = pd.read_csv('analysisdata/sbsl_final_03_full.csv'); april = pd.read_csv('analysisdata/sbsl_final_04_full.csv')\n",
    "may = pd.read_csv('analysisdata/sbsl_final_05_full.csv'); june = pd.read_csv('analysisdata/sbsl_final_06_full.csv')\n",
    "july = pd.read_csv('analysisdata/sbsl_final_07_full.csv'); aug = pd.read_csv('analysisdata/sbsl_final_08_full.csv')\n",
    "sept = pd.read_csv('analysisdata/sbsl_final_09_full.csv'); octob = pd.read_csv('analysisdata/sbsl_final_10_full.csv')\n",
    "nov = pd.read_csv('analysisdata/sbsl_final_11_full.csv'); dec = pd.read_csv('analysisdata/sbsl_final_12_full.csv')"
   ]
  },
  {
   "cell_type": "code",
   "execution_count": 1133,
   "metadata": {},
   "outputs": [],
   "source": [
    "file = dec.drop(columns =['glorysmld_new001', 'glorysmld_new003'])\n",
    "file_new = file.assign(location=[*zip(file.glorys_lat_index, file.glorys_lon_index, file.year, file.obs_lon, file.obs_lat,file.date_no)])\n",
    "\n"
   ]
  },
  {
   "cell_type": "code",
   "execution_count": 1134,
   "metadata": {},
   "outputs": [
    {
     "name": "stdout",
     "output_type": "stream",
     "text": [
      "(258, 14)\n",
      "(258, 9)\n"
     ]
    }
   ],
   "source": [
    "print(file.shape)\n",
    "ZC = pd.read_csv('12.csv') # change according to month\n",
    "print(ZC.shape)\n",
    "file_in ='12.nc' # change according to month\n",
    "NC=Dataset(file_in); DS=xr.open_dataset(file_in)"
   ]
  },
  {
   "cell_type": "code",
   "execution_count": 1135,
   "metadata": {},
   "outputs": [
    {
     "name": "stdout",
     "output_type": "stream",
     "text": [
      "[1, 2, 3, 4, 5]\n"
     ]
    }
   ],
   "source": [
    "listnow = [1,2,3,4,5,6,7,8]\n",
    "print(listnow[0:5])"
   ]
  },
  {
   "cell_type": "code",
   "execution_count": 1143,
   "metadata": {},
   "outputs": [],
   "source": [
    "newnewslens = []\n",
    "glorysdens_myway = []; indices = []; news = []; newnews = []\n",
    "for i in range(len(DS['T'])):\n",
    "    a = np.asarray(DS['T'][i])\n",
    "    b = np.asarray(DS['S'][i])\n",
    "    ctemp = []; density = []\n",
    "    for ii in range(len(a)):\n",
    "        CT = gsw.CT_from_pt(b[ii],a[ii])\n",
    "        ctemp.append(CT)\n",
    "        DENS = gsw.sigma0(b[ii],CT)\n",
    "        density.append(DENS)\n",
    "    dffinunreversed = pd.DataFrame({'temp': a,'sal': b, 's': b, 'CT': ctemp, 'density': density, 'depth':glorysdepth})\n",
    "    newnews.append(dffinunreversed)\n",
    "#     print(dffinunreversed)\n",
    "    surfacevalmean = np.mean(dffinunreversed['density'][0:5])\n",
    "    #print(surfacevalmean)\n",
    "    news.append(surfacevalmean)\n",
    "    newnewslens.append(len(newnews))\n",
    "for v in range(len(newnews)):\n",
    "    dffinunreversednow = newnews[v]\n",
    "    for ix in range(4, len(dffinunreversednow)):\n",
    "        if dffinunreversednow.at[ix,'density'] >= (news[v] - 0.03) and dffinunreversednow.at[ix,'density'] <= (news[v] + 0.03):\n",
    "            pass\n",
    "        else:\n",
    "            if dffinunreversednow.at[ix,'depth'] >= 5.5:\n",
    "                glorysdens_myway.append(dffinunreversednow.at[ix,'depth'])\n",
    "#                 plt.plot(dffinunreversednow['density'][:18],dffinunreversed['depth'][:18]*-1)\n",
    "#                 plt.axhline(y=dffinunreversednow.at[ix,'depth']*-1, color='r', linestyle='--')\n",
    "#                 plt.show()\n",
    "                indices.append(v)\n",
    "                break\n",
    "            break"
   ]
  },
  {
   "cell_type": "code",
   "execution_count": 1144,
   "metadata": {},
   "outputs": [],
   "source": [
    "myglorysmld = pd.DataFrame({'indices': indices,'glorysmld_new003':glorysdens_myway})"
   ]
  },
  {
   "cell_type": "code",
   "execution_count": 1145,
   "metadata": {},
   "outputs": [
    {
     "name": "stdout",
     "output_type": "stream",
     "text": [
      "92.32607\n",
      "7.92956\n",
      "258\n",
      "44.034763\n",
      "258\n"
     ]
    }
   ],
   "source": [
    "print(np.nanmax(glorysdens_myway))\n",
    "print(np.nanmin(glorysdens_myway))\n",
    "print(len(glorysdens_myway))\n",
    "print(np.nanmean(glorysdens_myway))\n",
    "print(len(myglorysmld))"
   ]
  },
  {
   "cell_type": "code",
   "execution_count": 1146,
   "metadata": {},
   "outputs": [],
   "source": [
    "ZC = ZC.assign(location=[*zip(ZC.glorys_index_lat, ZC.glorys_index_lon, ZC.year, ZC.obs_lon, ZC.obs_lat, ZC.date)])"
   ]
  },
  {
   "cell_type": "code",
   "execution_count": 1147,
   "metadata": {},
   "outputs": [],
   "source": [
    "merged_large = pd.merge(ZC, myglorysmld, left_on=['Unnamed: 0'], \n",
    "                        right_on = ['indices'], left_index=True, how='inner', sort=False)"
   ]
  },
  {
   "cell_type": "code",
   "execution_count": 1148,
   "metadata": {},
   "outputs": [],
   "source": [
    "merged_large = merged_large.drop_duplicates(subset=['location'])"
   ]
  },
  {
   "cell_type": "code",
   "execution_count": 1142,
   "metadata": {},
   "outputs": [],
   "source": [
    "fullpandasdataframe = pd.merge(file_new, merged_large, left_on=['location'], \n",
    "                        right_on = ['location'], left_index=True, how='outer', sort=False)"
   ]
  },
  {
   "cell_type": "code",
   "execution_count": 1149,
   "metadata": {},
   "outputs": [],
   "source": [
    "fullpandasdataframefull = pd.merge(fullpandasdataframe, merged_large, left_on=['location'], \n",
    "                        right_on = ['location'], left_index=True, how='outer', sort=False)"
   ]
  },
  {
   "cell_type": "code",
   "execution_count": 1150,
   "metadata": {},
   "outputs": [
    {
     "name": "stdout",
     "output_type": "stream",
     "text": [
      "(258, 26) (258, 37)\n"
     ]
    }
   ],
   "source": [
    "print(fullpandasdataframe.shape, fullpandasdataframefull.shape)"
   ]
  },
  {
   "cell_type": "code",
   "execution_count": 1151,
   "metadata": {},
   "outputs": [
    {
     "name": "stdout",
     "output_type": "stream",
     "text": [
      "Unnamed: 0_x\n",
      "001densmld\n",
      "003densmld\n",
      "glorys_lat_index\n",
      "glorys_lon_index\n",
      "bottomdepth\n",
      "date_no\n",
      "02tempmld\n",
      "glorys_mld\n",
      "obs_lat_x\n",
      "obs_lon_x\n",
      "year_x\n",
      "glorys_lat_x\n",
      "glorys_lon_x\n",
      "location\n",
      "Unnamed: 0_y\n",
      "obs_lat_y\n",
      "obs_lon_y\n",
      "date_x\n",
      "year_y\n",
      "glorys_index_lat_x\n",
      "glorys_index_lon_x\n",
      "glorys_lat_y\n",
      "glorys_lon_y\n",
      "indices_x\n",
      "glorysmld_new001\n",
      "Unnamed: 0\n",
      "obs_lat\n",
      "obs_lon\n",
      "date_y\n",
      "year\n",
      "glorys_index_lat_y\n",
      "glorys_index_lon_y\n",
      "glorys_lat\n",
      "glorys_lon\n",
      "indices_y\n",
      "glorysmld_new003\n"
     ]
    }
   ],
   "source": [
    "for col in fullpandasdataframefull.columns: \n",
    "    print(col)"
   ]
  },
  {
   "cell_type": "code",
   "execution_count": 1152,
   "metadata": {},
   "outputs": [],
   "source": [
    "fullpandasdataframefull = fullpandasdataframefull.drop(columns=['indices_y', 'Unnamed: 0_y','location','Unnamed: 0_x','indices_x'])"
   ]
  },
  {
   "cell_type": "code",
   "execution_count": 1153,
   "metadata": {},
   "outputs": [],
   "source": [
    "fullpandasdataframefull.obs_lat = fullpandasdataframefull.obs_lat.combine_first(fullpandasdataframefull.obs_lat_x) \n",
    "fullpandasdataframefull.obs_lat = fullpandasdataframefull.obs_lat.combine_first(fullpandasdataframefull.obs_lat_y) \n",
    "\n",
    "fullpandasdataframefull.obs_lon = fullpandasdataframefull.obs_lon.combine_first(fullpandasdataframefull.obs_lon_x) \n",
    "fullpandasdataframefull.obs_lon = fullpandasdataframefull.obs_lon.combine_first(fullpandasdataframefull.obs_lon_y)\n",
    "\n",
    "fullpandasdataframefull.glorys_lat_index = fullpandasdataframefull.glorys_lat_index.combine_first(fullpandasdataframefull.glorys_index_lat_x) \n",
    "fullpandasdataframefull.glorys_lat_index = fullpandasdataframefull.glorys_lat_index.combine_first(fullpandasdataframefull.glorys_index_lat_y) \n",
    "\n",
    "\n",
    "fullpandasdataframefull.glorys_lon_index = fullpandasdataframefull.glorys_lon_index.combine_first(fullpandasdataframefull.glorys_index_lon_x) \n",
    "fullpandasdataframefull.glorys_lon_index = fullpandasdataframefull.glorys_lon_index.combine_first(fullpandasdataframefull.glorys_index_lon_y) \n",
    "\n",
    "fullpandasdataframefull.glorys_lat = fullpandasdataframefull.glorys_lat.combine_first(fullpandasdataframefull.glorys_lat_x) \n",
    "fullpandasdataframefull.glorys_lat = fullpandasdataframefull.glorys_lat.combine_first(fullpandasdataframefull.glorys_lat_y) \n",
    "\n",
    "fullpandasdataframefull.glorys_lon = fullpandasdataframefull.glorys_lon.combine_first(fullpandasdataframefull.glorys_lon_x) \n",
    "fullpandasdataframefull.glorys_lon = fullpandasdataframefull.glorys_lon.combine_first(fullpandasdataframefull.glorys_lon_y) \n",
    "\n",
    "fullpandasdataframefull.date_no = fullpandasdataframefull.date_no.combine_first(fullpandasdataframefull.date_x) \n",
    "fullpandasdataframefull.date_no = fullpandasdataframefull.date_no.combine_first(fullpandasdataframefull.date_y) \n",
    "\n",
    "fullpandasdataframefull.year = fullpandasdataframefull.year.combine_first(fullpandasdataframefull.year_x) \n",
    "fullpandasdataframefull.year = fullpandasdataframefull.year.combine_first(fullpandasdataframefull.year_y) "
   ]
  },
  {
   "cell_type": "code",
   "execution_count": 1154,
   "metadata": {},
   "outputs": [],
   "source": [
    "fullpandasdataframefull = fullpandasdataframefull.drop(columns=['year_x','year_y','date_x','date_y','glorys_lon_x',\n",
    "                                                               'glorys_lon_y','glorys_lat_y','glorys_lat_x','glorys_index_lon_y','glorys_index_lon_x',\n",
    "                                                               'glorys_index_lat_y','glorys_index_lat_x','obs_lon_x','obs_lon_y','obs_lat_y','obs_lat_x'])"
   ]
  },
  {
   "cell_type": "code",
   "execution_count": 1155,
   "metadata": {},
   "outputs": [
    {
     "name": "stdout",
     "output_type": "stream",
     "text": [
      "(258, 16)\n"
     ]
    }
   ],
   "source": [
    "print(fullpandasdataframefull.shape)"
   ]
  },
  {
   "cell_type": "code",
   "execution_count": 1156,
   "metadata": {},
   "outputs": [
    {
     "name": "stdout",
     "output_type": "stream",
     "text": [
      "(258, 15)\n"
     ]
    }
   ],
   "source": [
    "fullpandasdataframefull = fullpandasdataframefull.drop(columns=['Unnamed: 0'])\n",
    "print(fullpandasdataframefull.shape)"
   ]
  },
  {
   "cell_type": "code",
   "execution_count": 1157,
   "metadata": {},
   "outputs": [],
   "source": [
    "fullpandasdataframefull.to_csv('12_final.csv')"
   ]
  },
  {
   "cell_type": "markdown",
   "metadata": {},
   "source": [
    "# Start Analysis Here"
   ]
  },
  {
   "cell_type": "code",
   "execution_count": 67,
   "metadata": {},
   "outputs": [],
   "source": [
    "jan = pd.read_csv('01_final.csv'); feb = pd.read_csv('02_final.csv')\n",
    "march = pd.read_csv('03_final.csv'); april = pd.read_csv('04_final.csv')\n",
    "may = pd.read_csv('05_final.csv'); june = pd.read_csv('06_final.csv')\n",
    "july = pd.read_csv('07_final.csv'); aug = pd.read_csv('08_final.csv')\n",
    "sept = pd.read_csv('09_final.csv'); octob = pd.read_csv('10_final.csv')\n",
    "nov = pd.read_csv('11_final.csv'); dec = pd.read_csv('12_final.csv')"
   ]
  },
  {
   "cell_type": "code",
   "execution_count": 68,
   "metadata": {},
   "outputs": [
    {
     "name": "stdout",
     "output_type": "stream",
     "text": [
      "      Unnamed: 0  001densmld  003densmld  glorys_lat_index  glorys_lon_index  \\\n",
      "0            0.0        53.0        53.0              71.0              82.0   \n",
      "1            1.0        46.0        49.0              68.0              83.0   \n",
      "2            2.0        33.0        45.0              68.0              89.0   \n",
      "3            3.0        32.0        36.0              70.0              91.0   \n",
      "4            4.0        54.0        54.0              71.0              88.0   \n",
      "...          ...         ...         ...               ...               ...   \n",
      "1152       455.0         NaN         NaN              70.0             131.0   \n",
      "1153       461.0         NaN         NaN              75.0             121.0   \n",
      "1154       484.0         NaN         NaN              82.0             142.0   \n",
      "1155       503.0         NaN         NaN              82.0             116.0   \n",
      "1156       509.0         NaN         NaN              76.0             113.0   \n",
      "\n",
      "      bottomdepth  date_no  02tempmld  glorys_mld  glorysmld_new003  obs_lat  \\\n",
      "0            53.0      6.0       53.0   36.469620         55.764290  40.9517   \n",
      "1            61.0      6.0       50.0   29.602957         40.344051  40.6983   \n",
      "2            62.0      6.0       33.0   47.151100         55.764290  40.6517   \n",
      "3            51.0      6.0       37.0   44.251842         55.764290  40.8317   \n",
      "4            54.0      6.0       54.0   15.106663         25.211411  40.9017   \n",
      "...           ...      ...        ...         ...               ...      ...   \n",
      "1152          NaN     10.0        NaN         NaN         21.598820  40.8730   \n",
      "1153          NaN     10.0        NaN         NaN         40.344051  41.2370   \n",
      "1154          NaN     13.0        NaN         NaN         18.495560  41.8030   \n",
      "1155          NaN     16.0        NaN         NaN         92.326073  41.8370   \n",
      "1156          NaN     18.0        NaN         NaN         40.344051  41.3070   \n",
      "\n",
      "      obs_lon    year  glorys_lat  glorys_lon  glorysmld_new001  \n",
      "0     71.1700  1993.0   40.916668  -71.166664         25.211411  \n",
      "1     71.0500  1993.0   40.666668  -71.083336         34.434151  \n",
      "2     70.5500  1993.0   40.666668  -70.583336         47.373692  \n",
      "3     70.3833  1993.0   40.833332  -70.416664         47.373692  \n",
      "4     70.6833  1993.0   40.916668  -70.666664         15.810070  \n",
      "...       ...     ...         ...         ...               ...  \n",
      "1152  67.0720  1998.0   40.833332  -67.083336         11.405000  \n",
      "1153  67.9580  1998.0   41.250000  -67.916664         13.467140  \n",
      "1154  66.1800  1998.0   41.833332  -66.166664         15.810070  \n",
      "1155  68.3030  1998.0   41.833332  -68.333336         92.326073  \n",
      "1156  68.5970  1998.0   41.333332  -68.583336         34.434151  \n",
      "\n",
      "[1157 rows x 16 columns]\n"
     ]
    }
   ],
   "source": [
    "print(jan)"
   ]
  },
  {
   "cell_type": "code",
   "execution_count": 71,
   "metadata": {
    "scrolled": false
   },
   "outputs": [
    {
     "name": "stdout",
     "output_type": "stream",
     "text": [
      "0.0 6.0 1993.0 71.17 40.9517 53.0 53.0 53.0\n",
      "1.0 6.0 1993.0 71.05 40.6983 50.0 49.0 61.0\n",
      "-12.0 6.0 1993.0 70.55 40.6517 33.0 45.0 62.0\n",
      "1.0 6.0 1993.0 70.3833 40.8317 37.0 36.0 51.0\n",
      "0.0 6.0 1993.0 70.6833 40.9017 54.0 54.0 54.0\n",
      "0.0 6.0 1993.0 70.8967 41.0517 37.0 37.0 37.0\n",
      "-15.0 6.0 1993.0 70.3667 41.035 25.0 40.0 40.0\n",
      "0.0 6.0 1993.0 69.9817 40.9367 24.0 24.0 24.0\n",
      "0.0 6.0 1993.0 70.1 40.7833 36.0 36.0 36.0\n",
      "0.0 7.0 1993.0 70.26 40.6917 48.0 48.0 48.0\n",
      "-3.0 7.0 1993.0 70.1183 40.5567 12.0 15.0 60.0\n",
      "-2.0 7.0 1993.0 70.0217 40.3883 53.0 55.0 80.0\n",
      "-2.0 7.0 1993.0 70.435 40.37 12.0 14.0 85.0\n",
      "-1.0 7.0 1993.0 70.4 40.1667 34.0 35.0 118.0\n",
      "6.0 7.0 1993.0 70.03 40.035 35.0 29.0 159.0\n",
      "-23.0 7.0 1993.0 69.8 40.2 70.0 93.0 93.0\n",
      "6.0 7.0 1993.0 69.4317 40.2367 39.0 33.0 82.0\n",
      "-13.0 7.0 1993.0 69.6467 40.4283 37.0 50.0 69.0\n",
      "0.0 7.0 1993.0 69.8333 40.5633 43.0 43.0 65.0\n",
      "0.0 7.0 1993.0 69.7533 40.7167 46.0 46.0 46.0\n",
      "0.0 7.0 1993.0 69.9067 40.8183 31.0 31.0 31.0\n",
      "0.0 7.0 1993.0 69.7833 40.95 36.0 36.0 36.0\n",
      "0.0 7.0 1993.0 69.6133 40.8683 37.0 37.0 37.0\n",
      "0.0 7.0 1993.0 69.485 40.8667 45.0 45.0 45.0\n",
      "0.0 8.0 1993.0 69.45 40.7183 45.0 45.0 45.0\n",
      "0.0 8.0 1993.0 69.255 40.6517 56.0 56.0 56.0\n",
      "0.0 8.0 1993.0 69.4417 40.5533 57.0 57.0 57.0\n",
      "3.0 8.0 1993.0 69.22 40.3683 51.0 48.0 83.0\n",
      "11.0 8.0 1993.0 69.035 40.215 31.0 20.0 128.0\n",
      "26.0 8.0 1993.0 68.7867 40.4 76.0 50.0 86.0\n",
      "0.0 8.0 1993.0 68.9533 40.62 66.0 66.0 66.0\n",
      "33.0 8.0 1993.0 68.8317 40.8333 72.0 39.0 72.0\n",
      "0.0 8.0 1993.0 69.2783 40.845 53.0 53.0 53.0\n",
      "0.0 8.0 1993.0 69.2633 41.0317 59.0 59.0 59.0\n",
      "5.0 8.0 1993.0 69.8667 41.915 18.0 13.0 56.0\n",
      "3.0 9.0 1993.0 70.0167 42.0833 27.0 24.0 54.0\n",
      "3.0 9.0 1993.0 69.9633 42.3067 85.0 82.0 235.0\n",
      "0.0 9.0 1993.0 70.1767 42.3667 49.0 49.0 75.0\n",
      "-21.0 9.0 1993.0 70.1367 42.5483 39.0 60.0 87.0\n",
      "8.0 9.0 1993.0 70.4667 42.3833 46.0 38.0 86.0\n",
      "0.0 9.0 1993.0 70.3683 42.195 56.0 56.0 56.0\n",
      "10.0 10.0 1993.0 69.7133 42.0533 57.0 47.0 199.0\n",
      "0.0 10.0 1993.0 69.5 41.9167 75.0 75.0 208.0\n",
      "2.0 11.0 1993.0 69.4833 41.7167 77.0 75.0 161.0\n",
      "4.0 11.0 1993.0 69.2683 41.535 111.0 107.0 142.0\n",
      "31.0 11.0 1993.0 69.02 41.42 91.0 60.0 153.0\n",
      "0.0 11.0 1993.0 69.0667 41.2 133.0 133.0 133.0\n",
      "0.0 11.0 1993.0 68.8483 41.0833 72.0 72.0 72.0\n",
      "0.0 11.0 1993.0 68.665 41.25 64.0 64.0 64.0\n",
      "0.0 11.0 1993.0 68.4683 41.3333 66.0 66.0 66.0\n",
      "0.0 11.0 1993.0 68.3183 41.5 53.0 53.0 53.0\n",
      "0.0 11.0 1993.0 68.2517 41.3033 48.0 48.0 48.0\n",
      "0.0 11.0 1993.0 68.35 41.1367 48.0 48.0 48.0\n",
      "0.0 11.0 1993.0 68.1817 41.1383 47.0 47.0 47.0\n",
      "0.0 11.0 1993.0 67.9667 41.32 38.0 38.0 38.0\n",
      "0.0 11.0 1993.0 67.8517 41.4333 43.0 43.0 43.0\n",
      "0.0 11.0 1993.0 68.0517 41.565 33.0 33.0 33.0\n",
      "0.0 11.0 1993.0 68.0183 41.7483 35.0 35.0 35.0\n",
      "0.0 12.0 1993.0 67.8033 41.8317 36.0 36.0 36.0\n",
      "0.0 12.0 1993.0 67.7883 41.6367 31.0 31.0 31.0\n",
      "0.0 12.0 1993.0 67.635 41.5067 42.0 42.0 42.0\n",
      "0.0 12.0 1993.0 67.6967 41.305 38.0 38.0 38.0\n",
      "0.0 12.0 1993.0 67.4633 41.3517 39.0 39.0 39.0\n",
      "0.0 12.0 1993.0 67.165 41.4167 53.0 53.0 53.0\n",
      "0.0 12.0 1993.0 67.1667 41.5817 49.0 49.0 49.0\n",
      "0.0 12.0 1993.0 67.4033 41.5333 45.0 45.0 45.0\n",
      "0.0 12.0 1993.0 67.4 41.7 46.0 46.0 46.0\n",
      "0.0 12.0 1993.0 67.5883 41.7517 31.0 31.0 31.0\n",
      "0.0 12.0 1993.0 67.485 41.9017 57.0 57.0 57.0\n",
      "0.0 12.0 1993.0 67.3183 41.8333 50.0 50.0 50.0\n",
      "0.0 12.0 1993.0 67.22 41.9133 59.0 59.0 59.0\n",
      "0.0 12.0 1993.0 67.1167 41.79 68.0 68.0 68.0\n",
      "0.0 12.0 1993.0 66.9683 41.67 63.0 63.0 63.0\n",
      "nan 12.0 1993.0 66.7983 41.735 nan nan 70.0\n",
      "45.0 12.0 1993.0 66.8317 41.885 66.0 21.0 66.0\n",
      "0.0 12.0 1993.0 66.9533 41.9817 53.0 53.0 53.0\n",
      "0.0 13.0 1993.0 66.6317 41.9517 74.0 74.0 74.0\n",
      "0.0 13.0 1993.0 66.4283 41.8883 86.0 86.0 86.0\n",
      "0.0 13.0 1993.0 66.3817 41.7567 76.0 76.0 76.0\n",
      "0.0 15.0 1993.0 68.62 40.9617 48.0 48.0 48.0\n",
      "0.0 15.0 1993.0 68.265 40.9533 54.0 54.0 54.0\n",
      "0.0 15.0 1993.0 67.895 41.085 49.0 49.0 49.0\n",
      "0.0 15.0 1993.0 67.6467 40.9833 66.0 66.0 66.0\n",
      "0.0 15.0 1993.0 67.4533 41.1817 50.0 50.0 50.0\n",
      "0.0 15.0 1993.0 67.3233 41.0333 68.0 68.0 68.0\n",
      "0.0 15.0 1993.0 67.1383 41.18 63.0 63.0 63.0\n",
      "-1.0 15.0 1993.0 66.735 41.22 8.0 9.0 75.0\n",
      "0.0 15.0 1993.0 66.7333 41.355 22.0 22.0 77.0\n",
      "2.0 15.0 1993.0 66.8333 41.4867 22.0 20.0 72.0\n",
      "0.0 15.0 1993.0 66.5317 41.565 86.0 86.0 86.0\n",
      "-3.0 16.0 1993.0 66.2483 41.715 32.0 35.0 89.0\n",
      "1.0 16.0 1993.0 66.1167 41.9267 6.0 5.0 94.0\n",
      "3.0 16.0 1993.0 66.1133 41.8017 9.0 6.0 91.0\n",
      "-2.0 16.0 1993.0 66.085 41.5617 5.0 7.0 103.0\n",
      "14.0 16.0 1993.0 66.4017 41.3483 45.0 31.0 98.0\n",
      "4.0 16.0 1993.0 66.5217 41.06 33.0 29.0 95.0\n",
      "1.0 16.0 1993.0 66.9317 41.0333 25.0 24.0 73.0\n",
      "-6.0 16.0 1993.0 66.9983 40.7833 25.0 31.0 103.0\n",
      "9.0 16.0 1993.0 67.405 40.8167 71.0 62.0 89.0\n",
      "3.0 16.0 1993.0 67.3417 40.6033 13.0 10.0 104.0\n",
      "1.0 16.0 1993.0 67.5867 40.5167 15.0 14.0 133.0\n",
      "14.0 16.0 1993.0 67.6383 40.705 43.0 29.0 81.0\n",
      "0.0 16.0 1993.0 67.8333 40.855 68.0 68.0 68.0\n",
      "1.0 16.0 1993.0 67.935 40.6333 23.0 22.0 89.0\n",
      "-1.0 17.0 1993.0 68.13 40.7483 12.0 13.0 69.0\n",
      "0.0 17.0 1993.0 68.5583 40.635 65.0 65.0 65.0\n",
      "-1.0 17.0 1993.0 68.3067 40.4517 32.0 33.0 108.0\n",
      "1.0 17.0 1993.0 68.5717 40.3183 38.0 37.0 108.0\n",
      "-2.0 17.0 1993.0 70.7617 40.1683 23.0 25.0 132.0\n",
      "0.0 17.0 1993.0 70.8533 40.3467 72.0 72.0 98.0\n",
      "-23.0 17.0 1993.0 71.085 40.465 38.0 61.0 81.0\n",
      "-17.0 17.0 1993.0 71.3367 40.6333 15.0 32.0 63.0\n",
      "2.0 18.0 1993.0 71.6 40.5167 60.0 58.0 75.0\n",
      "1.0 18.0 1993.0 71.6517 40.6983 26.0 25.0 71.0\n",
      "2.0 18.0 1993.0 71.4333 40.865 33.0 31.0 62.0\n",
      "3.0 18.0 1993.0 72.13 40.8167 20.0 17.0 40.0\n",
      "0.0 18.0 1993.0 71.9183 40.6333 52.0 52.0 52.0\n",
      "0.0 18.0 1993.0 72.22 40.6333 43.0 43.0 49.0\n",
      "2.0 18.0 1993.0 72.6683 40.7333 18.0 16.0 27.0\n",
      "5.0 18.0 1993.0 72.6533 40.5983 20.0 15.0 38.0\n",
      "0.0 18.0 1993.0 72.4683 40.5667 43.0 43.0 43.0\n",
      "0.0 19.0 1993.0 72.4483 40.4183 50.0 50.0 50.0\n",
      "0.0 19.0 1993.0 72.5783 40.2017 62.0 62.0 62.0\n",
      "0.0 19.0 1993.0 72.7183 40.3117 51.0 51.0 51.0\n",
      "0.0 19.0 1993.0 73.0167 40.3167 40.0 40.0 40.0\n",
      "2.0 19.0 1993.0 72.8533 40.4667 22.0 20.0 44.0\n",
      "0.0 19.0 1993.0 73.2183 40.4633 30.0 30.0 30.0\n",
      "1.0 19.0 1993.0 73.8333 40.4333 13.0 12.0 26.0\n",
      "0.0 19.0 1993.0 73.3167 40.265 37.0 37.0 37.0\n",
      "0.0 19.0 1993.0 73.3867 40.0983 42.0 42.0 42.0\n",
      "0.0 19.0 1993.0 73.035 40.0683 49.0 49.0 49.0\n",
      "0.0 19.0 1993.0 73.0867 39.8683 60.0 60.0 69.0\n",
      "0.0 19.0 1993.0 72.6183 39.965 60.0 60.0 60.0\n",
      "-10.0 20.0 1993.0 72.7633 39.8183 47.0 57.0 57.0\n",
      "1.0 20.0 1993.0 72.7667 39.6533 11.0 10.0 70.0\n",
      "-4.0 20.0 1993.0 72.5567 39.4683 37.0 41.0 108.0\n",
      "-1.0 20.0 1993.0 72.4567 39.8483 61.0 62.0 70.0\n",
      "-1.0 20.0 1993.0 72.2883 39.6967 52.0 53.0 116.0\n",
      "-1.0 20.0 1993.0 72.135 39.5683 31.0 32.0 156.0\n",
      "0.0 20.0 1993.0 72.0367 39.7667 36.0 36.0 133.0\n",
      "7.0 20.0 1993.0 71.82 39.8667 63.0 56.0 167.0\n",
      "-17.0 20.0 1993.0 71.9483 40.02 70.0 87.0 87.0\n",
      "4.0 20.0 1993.0 72.2683 40.1333 51.0 47.0 71.0\n",
      "0.0 20.0 1993.0 72.2017 40.3483 62.0 62.0 62.0\n",
      "-5.0 20.0 1993.0 71.8017 40.385 42.0 47.0 74.0\n",
      "2.0 21.0 1993.0 71.9483 40.235 57.0 55.0 68.0\n",
      "42.0 21.0 1993.0 71.7733 40.155 47.0 5.0 80.0\n",
      "-7.0 21.0 1993.0 71.5017 40.065 86.0 93.0 93.0\n",
      "1.0 21.0 1993.0 71.1017 40.0983 17.0 16.0 171.0\n",
      "3.0 21.0 1993.0 71.32 40.2883 68.0 65.0 89.0\n",
      "nan 6.0 1994.0 71.1667 40.95 nan nan 52.0\n",
      "0.0 6.0 1994.0 71.0567 40.7033 62.0 62.0 62.0\n",
      "0.0 7.0 1994.0 70.5617 40.65 60.0 60.0 60.0\n",
      "-14.0 7.0 1994.0 70.39 40.8267 36.0 50.0 50.0\n",
      "0.0 7.0 1994.0 70.6833 40.9033 57.0 57.0 57.0\n",
      "0.0 7.0 1994.0 70.9 41.0517 37.0 37.0 37.0\n",
      "0.0 7.0 1994.0 70.365 41.0333 40.0 40.0 40.0\n",
      "0.0 7.0 1994.0 70.0417 41.0667 26.0 26.0 26.0\n",
      "0.0 7.0 1994.0 70.1367 40.9333 25.0 25.0 25.0\n",
      "0.0 7.0 1994.0 69.9883 40.93 22.0 22.0 22.0\n",
      "0.0 7.0 1994.0 70.1017 40.7817 36.0 36.0 36.0\n",
      "0.0 7.0 1994.0 70.2683 40.685 48.0 48.0 48.0\n",
      "0.0 7.0 1994.0 70.1167 40.555 60.0 60.0 60.0\n",
      "-6.0 7.0 1994.0 70.0233 40.385 11.0 17.0 80.0\n",
      "0.0 7.0 1994.0 70.4367 40.37 57.0 57.0 84.0\n",
      "-1.0 7.0 1994.0 70.4033 40.1683 10.0 11.0 118.0\n",
      "-3.0 8.0 1994.0 70.0367 40.03 25.0 28.0 159.0\n",
      "-1.0 8.0 1994.0 69.8033 40.195 52.0 53.0 92.0\n",
      "21.0 8.0 1994.0 69.4367 40.2433 63.0 42.0 82.0\n",
      "-4.0 8.0 1994.0 69.6483 40.4367 38.0 42.0 69.0\n",
      "1.0 8.0 1994.0 69.83 40.565 46.0 45.0 66.0\n",
      "0.0 8.0 1994.0 69.75 40.71 47.0 47.0 47.0\n",
      "0.0 8.0 1994.0 69.8967 40.815 33.0 33.0 33.0\n",
      "-11.0 8.0 1994.0 69.7883 40.9483 27.0 38.0 38.0\n",
      "0.0 11.0 1994.0 69.615 40.8683 40.0 40.0 40.0\n",
      "0.0 11.0 1994.0 69.485 40.8717 40.0 40.0 40.0\n",
      "0.0 11.0 1994.0 69.4433 40.7183 44.0 44.0 44.0\n",
      "0.0 11.0 1994.0 69.25 40.65 61.0 61.0 61.0\n",
      "0.0 11.0 1994.0 69.4433 40.55 57.0 57.0 57.0\n",
      "-1.0 11.0 1994.0 69.215 40.3667 67.0 68.0 82.0\n",
      "2.0 11.0 1994.0 69.0367 40.2167 39.0 37.0 126.0\n",
      "1.0 11.0 1994.0 68.7883 40.3983 50.0 49.0 85.0\n",
      "62.0 11.0 1994.0 68.95 40.6117 67.0 5.0 67.0\n",
      "0.0 11.0 1994.0 68.835 40.835 71.0 71.0 71.0\n",
      "0.0 11.0 1994.0 69.2783 40.845 55.0 55.0 55.0\n",
      "0.0 11.0 1994.0 69.2667 41.03 59.0 59.0 59.0\n",
      "14.0 12.0 1994.0 69.8717 41.9117 31.0 17.0 54.0\n",
      "2.0 12.0 1994.0 70.015 42.08 25.0 23.0 52.0\n",
      "0.0 12.0 1994.0 70.3667 42.2 55.0 55.0 55.0\n",
      "4.0 12.0 1994.0 70.4667 42.385 36.0 32.0 89.0\n",
      "-8.0 12.0 1994.0 70.1367 42.5533 54.0 62.0 90.0\n",
      "0.0 12.0 1994.0 70.1833 42.3633 71.0 71.0 71.0\n",
      "52.0 12.0 1994.0 69.9617 42.3183 74.0 22.0 226.0\n",
      "3.0 12.0 1994.0 69.7183 42.055 38.0 35.0 197.0\n",
      "-1.0 13.0 1994.0 69.5017 41.92 71.0 72.0 210.0\n",
      "29.0 13.0 1994.0 69.4783 41.72 38.0 9.0 162.0\n",
      "82.0 13.0 1994.0 69.27 41.5333 143.0 61.0 143.0\n",
      "9.0 13.0 1994.0 69.025 41.415 71.0 62.0 153.0\n",
      "42.0 13.0 1994.0 69.0617 41.1967 121.0 79.0 121.0\n",
      "0.0 13.0 1994.0 68.855 41.0817 72.0 72.0 72.0\n",
      "0.0 13.0 1994.0 68.67 41.2467 65.0 65.0 65.0\n",
      "0.0 13.0 1994.0 68.47 41.3317 68.0 68.0 68.0\n",
      "0.0 13.0 1994.0 68.3167 41.5 55.0 55.0 55.0\n",
      "0.0 13.0 1994.0 68.2467 41.3 48.0 48.0 48.0\n",
      "0.0 13.0 1994.0 68.355 41.135 47.0 47.0 47.0\n",
      "0.0 13.0 1994.0 68.1883 41.13 46.0 46.0 46.0\n",
      "34.0 13.0 1994.0 67.9717 41.3117 39.0 5.0 39.0\n",
      "0.0 13.0 1994.0 67.855 41.43 40.0 40.0 40.0\n",
      "0.0 13.0 1994.0 68.05 41.565 33.0 33.0 33.0\n",
      "0.0 14.0 1994.0 68.02 41.75 37.0 37.0 37.0\n",
      "0.0 14.0 1994.0 67.8017 41.835 38.0 38.0 38.0\n",
      "0.0 14.0 1994.0 67.7833 41.6167 37.0 37.0 37.0\n",
      "0.0 14.0 1994.0 67.6317 41.5 40.0 40.0 40.0\n",
      "0.0 14.0 1994.0 67.69 41.2967 40.0 40.0 40.0\n",
      "0.0 14.0 1994.0 67.4667 41.35 41.0 41.0 41.0\n",
      "0.0 14.0 1994.0 67.17 41.4117 53.0 53.0 53.0\n",
      "0.0 14.0 1994.0 67.1667 41.58 54.0 54.0 54.0\n",
      "0.0 14.0 1994.0 67.4067 41.5483 39.0 39.0 39.0\n",
      "0.0 14.0 1994.0 67.4017 41.6933 46.0 46.0 46.0\n"
     ]
    },
    {
     "name": "stdout",
     "output_type": "stream",
     "text": [
      "0.0 14.0 1994.0 67.6017 41.75 43.0 43.0 43.0\n",
      "0.0 14.0 1994.0 67.4833 41.9 58.0 58.0 58.0\n",
      "0.0 14.0 1994.0 67.3267 41.8333 52.0 52.0 52.0\n",
      "0.0 14.0 1994.0 67.22 41.9133 58.0 58.0 58.0\n",
      "0.0 14.0 1994.0 67.1217 41.7883 61.0 61.0 61.0\n",
      "0.0 14.0 1994.0 66.9717 41.67 64.0 64.0 64.0\n",
      "48.0 14.0 1994.0 66.8367 41.485 71.0 23.0 71.0\n",
      "39.0 14.0 1994.0 66.7383 41.3467 75.0 36.0 75.0\n",
      "-1.0 9.0 1995.0 67.7167 43.4017 13.0 14.0 252.0\n",
      "0.0 9.0 1995.0 67.6933 42.59 55.0 55.0 207.0\n",
      "-7.0 9.0 1995.0 67.7017 42.2983 69.0 76.0 233.0\n",
      "0.0 9.0 1995.0 67.71 41.8017 32.0 32.0 32.0\n",
      "0.0 9.0 1995.0 67.485 41.505 52.0 52.0 52.0\n",
      "0.0 9.0 1995.0 67.6817 41.2667 39.0 39.0 39.0\n",
      "5.0 10.0 1995.0 67.6833 40.9283 43.0 38.0 67.0\n",
      "1.0 10.0 1995.0 67.6817 40.6133 65.0 64.0 80.0\n",
      "9.0 10.0 1995.0 67.655 40.37 47.0 38.0 720.0\n",
      "-35.0 10.0 1995.0 66.3183 41.1717 49.0 84.0 155.0\n",
      "0.0 11.0 1995.0 66.3283 41.5033 87.0 87.0 87.0\n",
      "0.0 11.0 1995.0 66.3333 41.8633 81.0 81.0 81.0\n",
      "0.0 11.0 1995.0 66.335 42.1483 11.0 11.0 175.0\n",
      "0.0 11.0 1995.0 66.3317 42.2833 9.0 9.0 240.0\n",
      "1.0 11.0 1995.0 66.335 42.47 20.0 19.0 254.0\n",
      "1.0 11.0 1995.0 66.3383 42.6533 22.0 21.0 110.0\n",
      "14.0 11.0 1995.0 66.335 43.0183 19.0 5.0 132.0\n",
      "5.0 11.0 1995.0 66.3333 43.2833 58.0 53.0 83.0\n",
      "-13.0 11.0 1995.0 66.325 43.5383 9.0 22.0 66.0\n",
      "0.0 13.0 1995.0 69.3667 43.6667 90.0 90.0 90.0\n",
      "-16.0 13.0 1995.0 69.3383 43.2783 96.0 112.0 165.0\n",
      "6.0 14.0 1995.0 69.2867 42.965 24.0 18.0 179.0\n",
      "-2.0 14.0 1995.0 69.2317 42.5767 18.0 20.0 228.0\n",
      "-1.0 14.0 1995.0 69.2033 42.18 108.0 109.0 197.0\n",
      "0.0 14.0 1995.0 69.17 41.9017 118.0 118.0 217.0\n",
      "108.0 14.0 1995.0 69.15 41.6533 172.0 64.0 172.0\n",
      "0.0 14.0 1995.0 69.1167 41.3283 159.0 159.0 159.0\n",
      "59.0 14.0 1995.0 69.1 41.06 86.0 27.0 86.0\n",
      "0.0 14.0 1995.0 69.1033 40.9067 71.0 71.0 71.0\n",
      "53.0 14.0 1995.0 69.09 40.6483 82.0 29.0 82.0\n",
      "54.0 14.0 1995.0 69.0667 40.415 60.0 6.0 83.0\n",
      "-1.0 25.0 1995.0 69.1683 41.7683 59.0 60.0 190.0\n",
      "-1.0 25.0 1995.0 69.0967 41.8483 92.0 93.0 185.0\n",
      "43.0 25.0 1995.0 68.8817 41.9033 152.0 109.0 152.0\n",
      "88.0 25.0 1995.0 68.8317 41.7683 165.0 77.0 165.0\n",
      "48.0 26.0 1995.0 68.6133 41.945 171.0 123.0 171.0\n",
      "20.0 26.0 1995.0 68.4717 41.5517 78.0 58.0 78.0\n",
      "44.0 26.0 1995.0 68.69 41.555 145.0 101.0 145.0\n",
      "17.0 26.0 1995.0 68.9483 41.5367 152.0 135.0 152.0\n",
      "-42.0 26.0 1995.0 69.1483 41.4333 64.0 106.0 152.0\n",
      "0.0 26.0 1995.0 68.9483 41.3 137.0 137.0 137.0\n",
      "0.0 27.0 1995.0 68.6183 41.2917 70.0 70.0 70.0\n",
      "0.0 27.0 1995.0 68.5717 41.21 63.0 63.0 63.0\n",
      "0.0 27.0 1995.0 68.7917 41.12 72.0 72.0 72.0\n",
      "0.0 28.0 1995.0 70.325 40.91 44.0 44.0 44.0\n",
      "0.0 28.0 1995.0 70.2283 40.6983 46.0 46.0 46.0\n",
      "5.0 29.0 1995.0 70.125 40.5717 59.0 54.0 59.0\n",
      "1.0 29.0 1995.0 70.055 40.4033 55.0 54.0 78.0\n",
      "0.0 29.0 1995.0 69.9933 40.235 71.0 71.0 95.0\n",
      "-1.0 29.0 1995.0 69.94 40.0817 29.0 30.0 137.0\n",
      "-3.0 29.0 1995.0 70.2633 40.0333 28.0 31.0 208.0\n",
      "-6.0 29.0 1995.0 70.6083 40.0133 76.0 82.0 219.0\n",
      "-6.0 29.0 1995.0 70.53 40.1367 39.0 45.0 121.0\n",
      "-2.0 30.0 1995.0 70.6483 40.2133 56.0 58.0 120.0\n",
      "4.0 30.0 1995.0 70.7633 40.2867 60.0 56.0 116.0\n",
      "-4.0 30.0 1995.0 70.7383 40.375 64.0 68.0 92.0\n",
      "0.0 30.0 1995.0 70.79 40.455 83.0 83.0 83.0\n",
      "0.0 30.0 1995.0 70.8617 40.5067 78.0 78.0 78.0\n",
      "0.0 31.0 1995.0 71.0317 41.0117 46.0 46.0 46.0\n",
      "-18.0 31.0 1995.0 71.0583 40.955 33.0 51.0 51.0\n",
      "0.0 31.0 1995.0 71.0333 40.86 58.0 58.0 58.0\n",
      "-18.0 31.0 1995.0 71.0683 40.7333 43.0 61.0 61.0\n",
      "-20.0 31.0 1995.0 71.05 40.61 39.0 59.0 71.0\n",
      "0.0 31.0 1995.0 71.175 40.6983 59.0 59.0 59.0\n",
      "3.0 31.0 1995.0 71.2933 40.82 62.0 59.0 62.0\n",
      "0.0 12.0 1996.0 69.095 41.045 83.0 83.0 83.0\n",
      "0.0 12.0 1996.0 68.992 40.652 67.0 67.0 67.0\n",
      "0.0 12.0 1996.0 69.0767 41.0533 85.0 85.0 85.0\n",
      "0.0 12.0 1996.0 68.442 40.527 92.0 92.0 92.0\n",
      "0.0 12.0 1996.0 68.9867 40.8283 80.0 80.0 80.0\n",
      "0.0 12.0 1996.0 68.245 41.005 55.0 55.0 55.0\n",
      "0.0 12.0 1996.0 68.99 40.655 67.0 67.0 67.0\n",
      "0.0 12.0 1996.0 68.72 40.5883 63.0 63.0 63.0\n",
      "0.0 13.0 1996.0 67.758 40.66 18.0 18.0 72.0\n",
      "0.0 12.0 1996.0 68.4467 40.53 90.0 90.0 90.0\n",
      "1.0 14.0 1996.0 67.063 40.852 47.0 46.0 92.0\n",
      "0.0 12.0 1996.0 68.3417 40.77 45.0 45.0 45.0\n",
      "0.0 12.0 1996.0 68.2533 40.99 54.0 54.0 54.0\n",
      "0.0 14.0 1996.0 67.652 41.087 58.0 58.0 58.0\n",
      "0.0 12.0 1996.0 68.1233 40.9233 60.0 60.0 60.0\n",
      "0.0 14.0 1996.0 67.962 41.22 50.0 50.0 50.0\n",
      "0.0 13.0 1996.0 68.005 40.8483 66.0 66.0 66.0\n",
      "0.0 14.0 1996.0 67.547 41.402 43.0 43.0 43.0\n",
      "0.0 13.0 1996.0 68.0083 40.845 66.0 66.0 66.0\n",
      "0.0 13.0 1996.0 67.885 40.76 75.0 75.0 75.0\n",
      "0.0 15.0 1996.0 66.958 41.187 68.0 68.0 68.0\n",
      "0.0 13.0 1996.0 67.7717 40.6667 41.0 41.0 72.0\n",
      "3.0 15.0 1996.0 66.703 41.025 56.0 53.0 76.0\n",
      "0.0 13.0 1996.0 67.7683 40.6633 28.0 28.0 72.0\n",
      "4.0 15.0 1996.0 66.452 40.922 55.0 51.0 800.0\n",
      "-18.0 13.0 1996.0 67.5333 40.465 93.0 111.0 137.0\n",
      "0.0 15.0 1996.0 66.488 41.205 96.0 96.0 96.0\n",
      "0.0 15.0 1996.0 66.71 41.41 87.0 87.0 87.0\n",
      "0.0 16.0 1996.0 66.98 41.595 66.0 66.0 66.0\n",
      "-3.0 13.0 1996.0 67.18 40.6583 27.0 30.0 110.0\n",
      "0.0 16.0 1996.0 66.528 41.753 75.0 75.0 75.0\n",
      "-1.0 14.0 1996.0 67.0517 40.8667 53.0 54.0 92.0\n",
      "0.0 16.0 1996.0 66.388 41.537 90.0 90.0 90.0\n",
      "0.0 14.0 1996.0 67.0583 40.8583 19.0 19.0 92.0\n",
      "1.0 16.0 1996.0 66.02 41.56 13.0 12.0 116.0\n",
      "-6.0 14.0 1996.0 67.185 40.9167 45.0 51.0 87.0\n",
      "-8.0 14.0 1996.0 67.3267 40.9733 45.0 53.0 79.0\n",
      "-8.0 14.0 1996.0 67.3317 40.9733 45.0 53.0 79.0\n",
      "0.0 14.0 1996.0 67.485 41.025 65.0 65.0 65.0\n",
      "0.0 14.0 1996.0 67.645 41.0817 58.0 58.0 58.0\n",
      "0.0 18.0 1996.0 66.442 42.055 87.0 87.0 87.0\n",
      "0.0 14.0 1996.0 67.805 41.1567 45.0 45.0 45.0\n",
      "0.0 18.0 1996.0 66.685 41.962 67.0 67.0 67.0\n",
      "0.0 14.0 1996.0 67.96 41.2283 50.0 50.0 50.0\n",
      "0.0 14.0 1996.0 67.7533 41.3167 44.0 44.0 44.0\n",
      "0.0 21.0 1996.0 68.002 41.82 53.0 53.0 53.0\n",
      "0.0 14.0 1996.0 67.545 41.405 42.0 42.0 42.0\n",
      "7.0 21.0 1996.0 68.325 41.853 128.0 121.0 217.0\n",
      "0.0 15.0 1996.0 67.3533 41.3367 44.0 44.0 44.0\n",
      "0.0 21.0 1996.0 68.292 41.4 49.0 49.0 49.0\n",
      "0.0 15.0 1996.0 67.1667 41.265 59.0 59.0 59.0\n",
      "0.0 21.0 1996.0 68.97 41.492 155.0 155.0 155.0\n",
      "0.0 15.0 1996.0 67.1617 41.26 59.0 59.0 59.0\n",
      "0.0 15.0 1996.0 67.0583 41.235 68.0 68.0 68.0\n",
      "0.0 15.0 1996.0 66.9533 41.1983 69.0 69.0 69.0\n",
      "0.0 15.0 1996.0 66.955 41.1917 70.0 70.0 70.0\n",
      "0.0 15.0 1996.0 66.8283 41.1183 71.0 71.0 71.0\n",
      "10.0 15.0 1996.0 66.7033 41.0367 66.0 56.0 79.0\n",
      "2.0 15.0 1996.0 66.7033 41.03 63.0 61.0 78.0\n",
      "16.0 15.0 1996.0 66.5717 40.9733 49.0 33.0 105.0\n",
      "1.0 15.0 1996.0 66.4483 40.9183 39.0 38.0 800.0\n",
      "1.0 15.0 1996.0 66.5117 40.9133 53.0 52.0 383.0\n",
      "3.0 15.0 1996.0 66.4517 41.055 81.0 78.0 143.0\n",
      "0.0 15.0 1996.0 66.45 41.195 98.0 98.0 98.0\n",
      "0.0 15.0 1996.0 66.4633 41.1983 97.0 97.0 97.0\n",
      "0.0 15.0 1996.0 66.4733 41.2017 97.0 97.0 97.0\n",
      "0.0 15.0 1996.0 66.58 41.305 90.0 90.0 90.0\n",
      "0.0 15.0 1996.0 66.7033 41.4117 87.0 87.0 87.0\n",
      "0.0 15.0 1996.0 66.7 41.4133 87.0 87.0 87.0\n",
      "0.0 16.0 1996.0 66.8367 41.5017 74.0 74.0 74.0\n",
      "0.0 16.0 1996.0 66.9783 41.5983 66.0 66.0 66.0\n",
      "0.0 16.0 1996.0 66.53 41.7367 75.0 75.0 75.0\n",
      "0.0 16.0 1996.0 66.4633 41.635 82.0 82.0 82.0\n",
      "0.0 16.0 1996.0 66.4017 41.5433 90.0 90.0 90.0\n",
      "0.0 16.0 1996.0 66.2217 41.545 9.0 9.0 92.0\n",
      "1.0 16.0 1996.0 66.0283 41.5533 9.0 8.0 116.0\n",
      "0.0 17.0 1996.0 66.1083 41.675 26.0 26.0 99.0\n",
      "0.0 17.0 1996.0 66.1867 41.7983 87.0 87.0 87.0\n",
      "0.0 17.0 1996.0 66.0717 41.9233 95.0 95.0 95.0\n",
      "68.0 18.0 1996.0 66.2183 42.0983 82.0 14.0 100.0\n",
      "0.0 18.0 1996.0 66.4267 42.0667 87.0 87.0 87.0\n",
      "0.0 18.0 1996.0 66.5683 42.0033 80.0 80.0 80.0\n",
      "0.0 18.0 1996.0 66.6983 41.94 70.0 70.0 70.0\n",
      "0.0 18.0 1996.0 66.7967 42.015 67.0 67.0 67.0\n",
      "0.0 18.0 1996.0 66.895 42.0967 67.0 67.0 67.0\n",
      "0.0 21.0 1996.0 68.0033 41.8333 59.0 59.0 59.0\n",
      "85.0 21.0 1996.0 68.3 41.85 114.0 29.0 214.0\n",
      "0.0 21.0 1996.0 68.3 41.4017 53.0 53.0 53.0\n",
      "0.0 21.0 1996.0 68.9517 41.49 156.0 156.0 156.0\n",
      "0.0 14.0 1997.0 68.438 40.53 43.9 43.9 87.0\n",
      "1.0 14.0 1997.0 68.4617 40.53 47.0 46.0 87.0\n",
      "0.0 14.0 1997.0 68.263 40.997 50.0 50.0 50.0\n",
      "0.0 14.0 1997.0 68.2533 40.9983 52.0 52.0 52.0\n",
      "0.0 15.0 1997.0 67.30199999999999 40.963 76.0 76.0 76.0\n",
      "nan 15.0 1997.0 67.30199999999999 40.963 nan nan nan\n",
      "0.0 15.0 1997.0 67.3117 40.9517 76.0 76.0 76.0\n",
      "0.0 15.0 1997.0 67.523 41.367 36.0 36.0 36.0\n",
      "0.0 15.0 1997.0 67.525 41.3767 34.0 34.0 34.0\n",
      "0.0 15.0 1997.0 67.192 41.28 53.0 53.0 53.0\n",
      "0.0 15.0 1997.0 67.18 41.2717 54.0 54.0 54.0\n",
      "28.099999999999998 15.0 1997.0 66.465 40.905 58.4 30.3 700.0\n",
      "41.0 15.0 1997.0 66.455 40.9133 63.0 22.0 790.0\n",
      "47.8 16.0 1997.0 66.47 41.188 91.0 43.2 91.0\n",
      "48.0 16.0 1997.0 66.4567 41.1967 91.0 43.0 91.0\n",
      "0.0 16.0 1997.0 66.693 41.418 82.0 82.0 82.0\n",
      "0.0 16.0 1997.0 66.69 41.3917 81.0 81.0 81.0\n",
      "0.0 16.0 1997.0 66.52 41.727 71.0 71.0 71.0\n",
      "0.0 16.0 1997.0 66.5367 41.73 71.0 71.0 71.0\n",
      "0.0 16.0 1997.0 66.19800000000001 41.792 83.0 83.0 83.0\n",
      "nan 16.0 1997.0 66.19800000000001 41.792 nan nan nan\n",
      "0.0 16.0 1997.0 66.1917 41.8 81.0 81.0 81.0\n",
      "46.5 18.0 1997.0 66.722 41.955 76.0 29.5 76.0\n",
      "0.0 18.0 1997.0 66.6983 41.9433 67.0 67.0 67.0\n",
      "-0.9000000000000057 18.0 1997.0 66.873 42.308 68.6 69.5 286.0\n",
      "9.0 18.0 1997.0 66.895 42.2983 82.0 73.0 286.0\n",
      "0.0 18.0 1997.0 67.212 41.94300000000001 55.0 55.0 55.0\n",
      "16.200000000000003 19.0 1997.0 67.66199999999999 42.17 64.5 48.3 182.0\n",
      "nan 19.0 1997.0 67.66199999999999 42.17 nan nan nan\n",
      "30.0 19.0 1997.0 67.67 42.1667 74.0 44.0 181.0\n",
      "1.0999999999999943 19.0 1997.0 68.308 41.837 94.1 93.0 194.0\n",
      "0.0 19.0 1997.0 68.298 41.43 52.0 52.0 52.0\n",
      "0.0 19.0 1997.0 68.3083 41.41 48.0 48.0 48.0\n",
      "-4.900000000000006 20.0 1997.0 68.955 41.488 90.0 94.9 148.0\n",
      "-2.0 20.0 1997.0 68.9517 41.4917 94.0 96.0 148.0\n",
      "0.0 27.0 1997.0 69.6767 41.8233 101.0 101.0 154.0\n",
      "-1.0 28.0 1997.0 68.6233 41.525 105.0 106.0 118.0\n",
      "5.0 28.0 1997.0 66.7317 42.3817 62.0 57.0 326.0\n",
      "0.0 28.0 1997.0 66.7333 42.38 58.0 58.0 364.0\n",
      "6.0 28.0 1997.0 67.5283 42.5767 92.0 86.0 222.0\n",
      "-3.0 29.0 1997.0 68.5267 42.63 102.0 105.0 207.0\n",
      "11.0 29.0 1997.0 67.1733 43.125 43.0 32.0 78.0\n",
      "-7.0 29.0 1997.0 67.1767 44.1267 107.0 114.0 167.0\n",
      "0.0 30.0 1997.0 68.325 43.43 89.0 89.0 163.0\n",
      "-2.0 30.0 1997.0 68.7167 43.7667 71.0 73.0 108.0\n",
      "-4.0 30.0 1997.0 69.225 43.5767 95.0 99.0 140.0\n",
      "1.0 30.0 1997.0 69.8267 43.6267 7.0 6.0 46.0\n",
      "4.0 30.0 1997.0 69.96 43.2367 72.0 68.0 129.0\n",
      "-2.0 31.0 1997.0 69.4317 42.9233 88.0 90.0 154.0\n",
      "-3.0 31.0 1997.0 69.725 42.525 103.0 106.0 256.0\n",
      "0.0 8.0 1998.0 68.992 41.002 82.0 82.0 82.0\n",
      "0.0 8.0 1998.0 68.99 40.9867 82.0 82.0 82.0\n",
      "1.8999999999999986 8.0 1998.0 68.987 40.653 29.0 27.1 63.0\n",
      "0.0 8.0 1998.0 68.9733 40.8067 73.0 73.0 73.0\n",
      "27.0 8.0 1998.0 68.993 40.3 46.0 19.0 97.0\n",
      "1.0 8.0 1998.0 68.985 40.6617 29.0 28.0 66.0\n",
      "0.0 9.0 1998.0 68.447 40.533 22.0 22.0 90.0\n",
      "1.0 8.0 1998.0 69.0083 40.5 36.0 35.0 76.0\n",
      "0.0 9.0 1998.0 68.26 41.01300000000001 50.0 50.0 50.0\n",
      "32.0 8.0 1998.0 68.9883 40.305 46.0 14.0 96.0\n",
      "0.0 9.0 1998.0 68.005 40.85 63.0 63.0 63.0\n",
      "13.0 9.0 1998.0 68.735 40.4133 36.0 23.0 86.0\n",
      "16.1 9.0 1998.0 67.775 40.66 26.5 10.4 80.0\n",
      "0.0 9.0 1998.0 68.46 40.5267 21.0 21.0 91.0\n",
      "0.0 9.0 1998.0 68.3633 40.76 57.0 57.0 57.0\n",
      "0.0 9.0 1998.0 68.2583 40.995 55.0 55.0 55.0\n",
      "14.0 9.0 1998.0 67.8883 40.7533 24.0 10.0 73.0\n",
      "15.0 9.0 1998.0 67.7733 40.6667 24.0 9.0 78.0\n",
      "14.0 9.0 1998.0 67.5967 40.5467 22.0 8.0 120.0\n",
      "15.0 10.0 1998.0 67.1783 40.6967 31.0 16.0 103.0\n",
      "37.0 10.0 1998.0 67.07 40.865 91.0 54.0 91.0\n",
      "63.0 10.0 1998.0 67.3117 40.96 77.0 14.0 77.0\n",
      "0.0 11.0 1998.0 67.775 41.325 41.0 41.0 41.0\n",
      "0.0 11.0 1998.0 67.5467 41.405 41.0 41.0 41.0\n",
      "0.0 11.0 1998.0 67.34 41.3217 47.0 47.0 47.0\n",
      "0.0 11.0 1998.0 67.1717 41.2683 57.0 57.0 57.0\n",
      "0.0 11.0 1998.0 67.0767 41.2117 64.0 64.0 64.0\n",
      "0.0 11.0 1998.0 66.9717 41.2017 69.0 69.0 69.0\n",
      "-1.0 11.0 1998.0 66.8633 41.1233 17.0 18.0 72.0\n",
      "17.0 11.0 1998.0 66.57 40.9933 30.0 13.0 100.0\n",
      "15.0 11.0 1998.0 66.4567 40.9217 32.0 17.0 840.0\n",
      "23.0 12.0 1998.0 66.4933 41.0667 33.0 10.0 101.0\n",
      "3.0 12.0 1998.0 66.46 41.1967 41.0 38.0 97.0\n",
      "13.0 12.0 1998.0 66.5767 41.3 26.0 13.0 88.0\n",
      "0.0 12.0 1998.0 66.6983 41.4083 83.0 83.0 83.0\n",
      "0.0 12.0 1998.0 66.8583 41.5183 69.0 69.0 69.0\n",
      "0.0 12.0 1998.0 66.9633 41.5917 65.0 65.0 65.0\n",
      "0.0 12.0 1998.0 66.5467 41.7233 74.0 74.0 74.0\n",
      "0.0 12.0 1998.0 66.4283 41.6283 83.0 83.0 83.0\n",
      "0.0 12.0 1998.0 66.4083 41.5417 89.0 89.0 89.0\n",
      "2.0 12.0 1998.0 66.22 41.5517 11.0 9.0 93.0\n",
      "0.0 13.0 1998.0 66.0617 41.55 9.0 9.0 107.0\n",
      "8.0 13.0 1998.0 66.0933 41.685 17.0 9.0 98.0\n",
      "0.0 13.0 1998.0 66.19 41.7967 9.0 9.0 85.0\n",
      "0.0 13.0 1998.0 66.07 41.835 5.0 5.0 98.0\n",
      "-1.0 13.0 1998.0 66.0033 41.8733 10.0 11.0 99.0\n",
      "nan 13.0 1998.0 66.0117 42.1283 nan 41.0 217.0\n",
      "2.0 14.0 1998.0 66.195 42.095 20.0 18.0 100.0\n",
      "23.0 14.0 1998.0 66.435 42.0717 85.0 62.0 85.0\n",
      "8.0 14.0 1998.0 66.4317 42.0833 84.0 76.0 84.0\n",
      "0.0 14.0 1998.0 66.5883 41.99 73.0 73.0 73.0\n",
      "0.0 14.0 1998.0 66.695 41.94 68.0 68.0 68.0\n",
      "0.0 14.0 1998.0 66.6617 41.9233 72.0 72.0 72.0\n",
      "0.0 14.0 1998.0 66.825 42.01 66.0 66.0 66.0\n",
      "0.0 14.0 1998.0 66.895 42.2983 34.0 34.0 291.0\n",
      "0.0 15.0 1998.0 67.0683 42.11 61.0 61.0 61.0\n",
      "0.0 15.0 1998.0 67.2317 41.915 64.0 64.0 64.0\n",
      "0.0 15.0 1998.0 67.435 41.98 34.0 34.0 34.0\n",
      "0.0 15.0 1998.0 67.6133 42.0017 49.0 49.0 49.0\n",
      "0.0 15.0 1998.0 67.7133 41.865 36.0 36.0 36.0\n",
      "0.0 15.0 1998.0 67.6567 41.7033 53.0 53.0 53.0\n",
      "0.0 15.0 1998.0 67.8033 41.7933 36.0 36.0 36.0\n",
      "0.0 15.0 1998.0 67.9883 41.8267 57.0 57.0 57.0\n",
      "0.0 15.0 1998.0 68.1467 41.8433 87.0 87.0 87.0\n",
      "-4.0 16.0 1998.0 68.3 41.8533 80.0 84.0 200.0\n",
      "nan 18.0 1998.0 68.375 41.7233 nan 82.0 97.0\n",
      "-20.0 18.0 1998.0 68.45 41.6067 45.0 65.0 75.0\n",
      "0.0 18.0 1998.0 68.355 41.5017 48.0 48.0 48.0\n",
      "0.0 18.0 1998.0 68.295 41.4017 53.0 53.0 53.0\n",
      "28.0 18.0 1998.0 68.4367 41.34 65.0 37.0 65.0\n",
      "34.0 18.0 1998.0 68.5933 41.3017 70.0 36.0 70.0\n",
      "27.0 18.0 1998.0 68.76 41.4117 106.0 79.0 130.0\n",
      "-1.0 18.0 1998.0 68.9417 41.4867 106.0 107.0 153.0\n",
      "0.0 25.0 1998.0 70.2067 42.3833 68.0 68.0 68.0\n",
      "1.0 25.0 1998.0 70.0367 42.8633 28.0 27.0 156.0\n",
      "8.0 25.0 1998.0 68.96 43.52 50.0 42.0 107.0\n",
      "nan 25.0 1998.0 67.91 43.9 nan nan 197.0\n",
      "5.0 25.0 1998.0 67.9017 43.9017 68.0 63.0 187.0\n",
      "6.0 25.0 1998.0 67.5533 43.8933 54.0 48.0 211.0\n",
      "2.0 26.0 1998.0 66.905 43.7733 72.0 70.0 151.0\n",
      "2.0 26.0 1998.0 67.1333 43.5567 40.0 38.0 222.0\n",
      "6.0 26.0 1998.0 67.3133 43.3167 55.0 49.0 207.0\n",
      "52.0 26.0 1998.0 66.46 43.1383 76.0 24.0 92.0\n",
      "1.0 26.0 1998.0 66.2383 42.9067 44.0 43.0 163.0\n",
      "0.0 26.0 1998.0 66.47 42.555 15.0 15.0 212.0\n",
      "1.0 27.0 1998.0 67.3117 42.4033 31.0 30.0 330.0\n",
      "-2.0 27.0 1998.0 68.0867 42.2533 28.0 30.0 188.0\n",
      "1.0 27.0 1998.0 68.0833 42.2533 24.0 23.0 188.0\n",
      "-1.0 27.0 1998.0 68.7383 42.3167 24.0 25.0 221.0\n",
      "-30.0 27.0 1998.0 68.6867 42.14 80.0 110.0 196.0\n",
      "0.0 27.0 1998.0 68.4883 41.8367 134.0 134.0 208.0\n",
      "0.0 27.0 1998.0 68.4283 41.4717 72.0 72.0 72.0\n",
      "0.0 27.0 1998.0 68.6533 41.2 63.0 63.0 63.0\n",
      "-16.0 27.0 1998.0 68.9583 41.325 59.0 75.0 142.0\n",
      "0.0 27.0 1998.0 69.22 41.5767 160.0 160.0 160.0\n",
      "14.0 28.0 1998.0 69.2833 41.9533 77.0 63.0 206.0\n",
      "58.0 13.0 1999.0 69.0017 41.0017 80.0 22.0 80.0\n",
      "43.0 13.0 1999.0 69.003 40.995 78.0 35.0 78.0\n",
      "0.0 13.0 1999.0 69.0183 40.8117 42.0 42.0 70.0\n",
      "51.0 21.0 1999.0 69.2517 41.825 96.0 45.0 191.0\n"
     ]
    },
    {
     "name": "stdout",
     "output_type": "stream",
     "text": [
      "11.0 14.0 1999.0 68.447 40.503 40.0 29.0 86.0\n",
      "28.0 13.0 1999.0 68.9917 40.6533 60.0 32.0 60.0\n",
      "8.0 21.0 1999.0 68.93 41.875 79.0 71.0 162.0\n",
      "1.0 17.0 1999.0 66.712 41.028 60.0 59.0 69.0\n",
      "-26.0 13.0 1999.0 69.0017 40.4317 31.0 57.0 73.0\n",
      "30.0 21.0 1999.0 68.405 41.7933 123.0 93.0 214.0\n",
      "nan 17.0 1999.0 66.457 40.915 nan 18.0 700.0\n",
      "2.0 13.0 1999.0 68.9917 40.31 41.0 39.0 86.0\n",
      "nan 21.0 1999.0 68.8883 42.485 nan 40.0 223.0\n",
      "21.0 17.0 1999.0 66.45 41.187 73.0 52.0 87.0\n",
      "25.0 13.0 1999.0 68.7317 40.4217 50.0 25.0 78.0\n",
      "40.0 21.0 1999.0 68.8917 42.4817 75.0 35.0 217.0\n",
      "0.0 18.0 1999.0 66.688 41.433 77.0 77.0 77.0\n",
      "7.0 14.0 1999.0 68.455 40.5183 26.0 19.0 85.0\n",
      "13.0 21.0 1999.0 68.3917 42.6183 96.0 83.0 206.0\n",
      "0.0 18.0 1999.0 66.985 41.588 57.0 57.0 57.0\n",
      "0.0 14.0 1999.0 68.2517 40.99 49.0 49.0 49.0\n",
      "11.0 21.0 1999.0 67.7583 43.1633 69.0 58.0 179.0\n",
      "0.0 14.0 1999.0 68.1283 40.9283 51.0 51.0 51.0\n",
      "0.0 18.0 1999.0 66.398 41.54 83.0 83.0 83.0\n",
      "0.0 14.0 1999.0 68.0 40.8483 56.0 56.0 56.0\n",
      "23.0 18.0 1999.0 66.032 41.527 56.0 33.0 113.0\n",
      "0.0 14.0 1999.0 67.9 40.7667 55.0 55.0 62.0\n",
      "37.0 22.0 1999.0 67.015 42.6983 42.0 5.0 229.0\n",
      "2.0 19.0 1999.0 66.205 41.812 17.0 15.0 78.0\n",
      "-4.0 14.0 1999.0 67.775 40.6717 44.0 48.0 70.0\n",
      "12.0 22.0 1999.0 66.9667 42.4983 55.0 43.0 334.0\n",
      "0.0 14.0 1999.0 67.555 40.5617 28.0 28.0 100.0\n",
      "4.0 22.0 1999.0 66.5433 42.4983 15.0 11.0 272.0\n",
      "44.0 20.0 1999.0 66.435 42.077 77.0 33.0 77.0\n",
      "-1.0 15.0 1999.0 67.2217 40.6667 59.0 60.0 97.0\n",
      "0.0 20.0 1999.0 66.67699999999999 41.933 65.0 65.0 65.0\n",
      "nan 20.0 1999.0 66.67699999999999 41.933 nan nan nan\n",
      "0.0 15.0 1999.0 67.0433 40.865 84.0 84.0 84.0\n",
      "71.0 20.0 1999.0 66.922 42.31 84.0 13.0 288.0\n",
      "0.0 15.0 1999.0 67.1833 40.91 80.0 80.0 80.0\n",
      "0.0 21.0 1999.0 67.64699999999999 41.708 57.0 57.0 57.0\n",
      "nan 21.0 1999.0 67.64699999999999 41.708 nan nan nan\n",
      "27.0 15.0 1999.0 67.32 40.9633 72.0 45.0 72.0\n",
      "0.0 22.0 1999.0 66.52 43.2917 9.0 9.0 69.0\n",
      "0.0 22.0 1999.0 67.252 41.922 49.0 49.0 49.0\n",
      "0.0 15.0 1999.0 67.49 41.0133 61.0 61.0 61.0\n",
      "36.0 22.0 1999.0 67.66 42.18 71.0 35.0 182.0\n",
      "0.0 16.0 1999.0 67.64 41.08 52.0 52.0 52.0\n",
      "5.0 23.0 1999.0 66.9283 43.9033 81.0 76.0 150.0\n",
      "0.0 22.0 1999.0 67.988 41.825 51.0 51.0 51.0\n",
      "0.0 16.0 1999.0 67.7917 41.1517 34.0 34.0 34.0\n",
      "3.0 23.0 1999.0 66.9733 44.0983 42.0 39.0 162.0\n",
      "0.0 23.0 1999.0 68.328 41.37 53.0 53.0 53.0\n",
      "0.0 16.0 1999.0 67.955 41.2283 44.0 44.0 44.0\n",
      "9.0 23.0 1999.0 68.58 41.303 62.0 53.0 62.0\n",
      "0.0 16.0 1999.0 67.7483 41.3017 35.0 35.0 35.0\n",
      "82.0 23.0 1999.0 68.968 41.462 119.0 37.0 141.0\n",
      "0.0 16.0 1999.0 67.5467 41.4067 36.0 36.0 36.0\n",
      "29.0 23.0 1999.0 67.5383 44.1083 40.0 11.0 197.0\n",
      "0.0 16.0 1999.0 67.5517 41.41 35.0 35.0 35.0\n",
      "98.0 23.0 1999.0 67.8017 43.6683 123.0 25.0 237.0\n",
      "0.0 16.0 1999.0 67.375 41.3433 40.0 40.0 40.0\n",
      "-1.0 23.0 1999.0 68.3667 43.7833 23.0 24.0 153.0\n",
      "0.0 16.0 1999.0 67.1667 41.2683 50.0 50.0 50.0\n",
      "0.0 17.0 1999.0 67.06 41.2333 60.0 60.0 60.0\n",
      "43.0 23.0 1999.0 69.0067 43.6117 67.0 24.0 110.0\n",
      "31.0 17.0 1999.0 66.9517 41.2 62.0 31.0 62.0\n",
      "34.0 24.0 1999.0 69.2717 43.76 39.0 5.0 64.0\n",
      "38.0 17.0 1999.0 66.8333 41.115 66.0 28.0 66.0\n",
      "39.0 24.0 1999.0 69.885 43.2383 121.0 82.0 173.0\n",
      "0.0 17.0 1999.0 66.71 41.035 60.0 60.0 72.0\n",
      "67.0 24.0 1999.0 70.3433 43.1283 91.0 24.0 114.0\n",
      "-2.0 17.0 1999.0 66.575 40.9617 27.0 29.0 101.0\n",
      "-2.0 17.0 1999.0 66.44 40.9233 13.0 15.0 700.0\n",
      "1.0 25.0 1999.0 70.1667 42.85 36.0 35.0 60.0\n",
      "2.0 17.0 1999.0 66.4483 41.055 37.0 35.0 135.0\n",
      "21.0 17.0 1999.0 66.4483 41.18 74.0 53.0 83.0\n",
      "33.0 26.0 1999.0 69.2167 43.0133 93.0 60.0 205.0\n",
      "0.0 18.0 1999.0 66.5683 41.3017 83.0 83.0 83.0\n",
      "0.0 26.0 1999.0 69.82 42.0783 74.0 74.0 179.0\n",
      "0.0 18.0 1999.0 66.6917 41.405 76.0 76.0 76.0\n",
      "0.0 18.0 1999.0 66.8017 41.5067 64.0 64.0 64.0\n",
      "3.0 26.0 1999.0 70.23 42.34 38.0 35.0 46.0\n",
      "0.0 18.0 1999.0 66.9783 41.5883 55.0 55.0 55.0\n",
      "-1.0 26.0 1999.0 70.3833 42.3683 42.0 43.0 47.0\n",
      "0.0 18.0 1999.0 66.7683 41.6583 65.0 65.0 65.0\n",
      "0.0 18.0 1999.0 66.54 41.7183 69.0 69.0 69.0\n",
      "0.0 18.0 1999.0 66.4917 41.645 76.0 76.0 76.0\n",
      "0.0 18.0 1999.0 66.3883 41.5483 81.0 81.0 81.0\n",
      "0.0 18.0 1999.0 66.2117 41.52 85.0 85.0 85.0\n",
      "44.0 18.0 1999.0 66.0317 41.5367 68.0 24.0 110.0\n",
      "6.0 19.0 1999.0 66.12 41.675 30.0 24.0 90.0\n",
      "1.0 19.0 1999.0 66.1883 41.7933 17.0 16.0 79.0\n",
      "0.0 19.0 1999.0 66.0917 41.8317 12.0 12.0 88.0\n",
      "1.0 19.0 1999.0 65.9917 41.8683 14.0 13.0 86.0\n",
      "0.0 20.0 1999.0 66.425 42.07 78.0 78.0 78.0\n",
      "0.0 20.0 1999.0 66.5667 42.0133 72.0 72.0 72.0\n",
      "0.0 20.0 1999.0 66.6883 41.9433 63.0 63.0 63.0\n",
      "0.0 20.0 1999.0 66.8017 42.0217 62.0 62.0 62.0\n",
      "0.0 20.0 1999.0 66.895 42.095 61.0 61.0 61.0\n",
      "25.0 20.0 1999.0 66.9217 42.1783 33.0 8.0 175.0\n",
      "3.0 20.0 1999.0 66.9033 42.2933 69.0 66.0 287.0\n",
      "-2.0 21.0 1999.0 67.0567 42.125 18.0 20.0 55.0\n",
      "0.0 21.0 1999.0 67.655 41.7067 62.0 62.0 62.0\n",
      "0.0 22.0 1999.0 67.4617 41.7983 33.0 33.0 33.0\n",
      "0.0 22.0 1999.0 67.235 41.9133 49.0 49.0 49.0\n",
      "0.0 22.0 1999.0 67.4367 42.0367 43.0 43.0 43.0\n",
      "69.0 22.0 1999.0 67.645 42.1683 75.0 6.0 182.0\n",
      "6.0 22.0 1999.0 67.6383 42.0917 39.0 33.0 161.0\n",
      "0.0 22.0 1999.0 67.615 42.0 45.0 45.0 45.0\n",
      "0.0 22.0 1999.0 67.8167 41.9117 41.0 41.0 41.0\n",
      "0.0 22.0 1999.0 67.9783 41.8383 52.0 52.0 52.0\n",
      "62.0 23.0 1999.0 68.145 41.8383 98.0 36.0 98.0\n",
      "46.0 23.0 1999.0 68.295 41.8617 110.0 64.0 210.0\n",
      "87.0 23.0 1999.0 68.415 41.7367 95.0 8.0 166.0\n",
      "49.0 23.0 1999.0 68.4633 41.5983 72.0 23.0 72.0\n",
      "0.0 23.0 1999.0 68.3767 41.5017 41.0 41.0 41.0\n",
      "15.0 23.0 1999.0 68.33 41.3733 53.0 38.0 53.0\n",
      "4.0 23.0 1999.0 68.4417 41.3417 20.0 16.0 61.0\n",
      "0.0 23.0 1999.0 68.5783 41.3067 62.0 62.0 62.0\n",
      "95.0 23.0 1999.0 68.7617 41.3917 116.0 21.0 116.0\n",
      "89.0 24.0 1999.0 68.9683 41.4583 112.0 23.0 142.0\n",
      "-4.0 30.0 2001.0 72.5 39.235 50.0 54.0 117.0\n",
      "67.0 30.0 2001.0 72.75 39.1333 72.0 5.0 124.0\n",
      "-12.0 30.0 2001.0 72.7967 39.0767 34.0 46.0 122.0\n",
      "0.0 30.0 2001.0 72.9117 38.9883 22.0 22.0 95.0\n",
      "-5.0 30.0 2001.0 73.04 38.9017 37.0 42.0 82.0\n",
      "0.0 31.0 2001.0 73.475 39.0633 56.0 56.0 56.0\n",
      "7.0 31.0 2001.0 73.44 39.0017 57.0 50.0 57.0\n",
      "0.0 31.0 2001.0 73.4583 38.9083 66.0 66.0 66.0\n",
      "-2.0 31.0 2001.0 73.2533 38.7483 67.0 69.0 79.0\n",
      "-3.0 31.0 2001.0 73.1117 38.7617 40.0 43.0 119.0\n",
      "1.0 31.0 2001.0 73.0567 38.7067 25.0 24.0 268.0\n",
      "1.0 31.0 2001.0 73.2333 38.5783 41.0 40.0 163.0\n",
      "17.0 31.0 2001.0 73.3817 38.6117 57.0 40.0 83.0\n",
      "0.0 31.0 2001.0 73.7433 38.6517 57.0 57.0 57.0\n",
      "12.0 23.0 2002.0 70.3183 42.6783 41.0 29.0 91.0\n",
      "0.0 23.0 2002.0 70.0317 43.025 66.0 66.0 66.0\n",
      "0.0 23.0 2002.0 70.2083 43.2717 109.0 109.0 109.0\n",
      "-47.0 23.0 2002.0 69.9217 43.5233 47.0 94.0 102.0\n",
      "-2.0 23.0 2002.0 69.4133 42.9833 100.0 102.0 187.0\n",
      "-1.0 24.0 2002.0 69.0517 43.1467 88.0 89.0 168.0\n",
      "14.0 24.0 2002.0 68.6083 43.2167 71.0 57.0 179.0\n",
      "0.0 24.0 2002.0 68.8783 43.5283 137.0 137.0 137.0\n",
      "0.0 24.0 2002.0 68.6417 43.9467 89.0 89.0 89.0\n",
      "57.0 24.0 2002.0 67.9833 43.4283 79.0 22.0 244.0\n",
      "8.0 24.0 2002.0 67.9867 43.43 70.0 62.0 244.0\n",
      "9.0 24.0 2002.0 67.6967 43.765 69.0 60.0 232.0\n",
      "4.0 24.0 2002.0 67.6983 43.765 63.0 59.0 233.0\n",
      "51.0 25.0 2002.0 67.5017 44.0417 70.0 19.0 211.0\n",
      "8.0 25.0 2002.0 66.8983 43.945 34.0 26.0 150.0\n",
      "9.0 25.0 2002.0 66.9667 43.6933 20.0 11.0 142.0\n",
      "0.0 27.0 2002.0 66.3883 43.5167 79.0 79.0 79.0\n",
      "8.0 27.0 2002.0 66.045 43.0733 46.0 38.0 89.0\n",
      "7.0 27.0 2002.0 66.035 43.0767 22.0 15.0 109.0\n",
      "3.0 27.0 2002.0 66.0717 42.0667 12.0 9.0 95.0\n",
      "1.0 27.0 2002.0 65.9033 41.815 6.0 5.0 119.0\n",
      "93.0 27.0 2002.0 65.98 41.6267 102.0 9.0 102.0\n",
      "64.0 27.0 2002.0 66.235 41.4167 81.0 17.0 162.0\n",
      "0.0 27.0 2002.0 66.5083 41.5367 87.0 87.0 87.0\n",
      "0.0 28.0 2002.0 66.5317 41.7367 74.0 74.0 74.0\n",
      "0.0 28.0 2002.0 66.5117 41.975 85.0 85.0 85.0\n",
      "4.0 28.0 2002.0 66.4083 42.5333 30.0 26.0 219.0\n",
      "12.0 28.0 2002.0 66.4083 42.5317 25.0 13.0 222.0\n",
      "12.0 28.0 2002.0 67.1067 42.9833 21.0 9.0 190.0\n",
      "7.0 28.0 2002.0 67.45 42.8033 31.0 24.0 238.0\n",
      "11.0 28.0 2002.0 67.455 42.8033 20.0 9.0 240.0\n",
      "31.0 28.0 2002.0 67.2333 42.3733 104.0 73.0 340.0\n",
      "24.0 28.0 2002.0 67.225 42.38 103.0 79.0 338.0\n",
      "0.0 28.0 2002.0 67.04 42.035 68.0 68.0 68.0\n",
      "0.0 29.0 2002.0 67.0767 41.765 60.0 60.0 60.0\n",
      "0.0 29.0 2002.0 67.3967 41.8583 55.0 55.0 55.0\n",
      "0.0 29.0 2002.0 67.435 41.7083 46.0 46.0 46.0\n",
      "0.0 29.0 2002.0 67.5617 41.57 43.0 43.0 43.0\n",
      "0.0 29.0 2002.0 67.785 41.825 35.0 35.0 35.0\n",
      "0.0 29.0 2002.0 67.81 41.4433 36.0 36.0 36.0\n",
      "0.0 29.0 2002.0 68.1383 41.6183 35.0 35.0 35.0\n",
      "40.0 29.0 2002.0 68.2633 42.1367 70.0 30.0 194.0\n",
      "16.0 30.0 2002.0 68.2917 42.7417 103.0 87.0 156.0\n",
      "22.0 30.0 2002.0 68.8333 41.97 131.0 109.0 131.0\n",
      "0.0 30.0 2002.0 69.5083 42.41 53.0 53.0 249.0\n",
      "-2.0 30.0 2002.0 69.5117 42.41 58.0 60.0 245.0\n",
      "18.0 30.0 2002.0 69.905 42.1983 27.0 9.0 184.0\n",
      "nan 30.0 2002.0 69.2367 41.61 nan 28.0 166.0\n",
      "0.0 30.0 2003.0 68.0283 41.5517 35.0 35.0 35.0\n",
      "0.0 30.0 2003.0 68.3617 41.5483 24.0 24.0 40.0\n",
      "0.0 30.0 2003.0 68.39 41.2983 53.0 53.0 53.0\n",
      "0.0 30.0 2003.0 68.0033 41.1883 43.0 43.0 43.0\n",
      "50.0 30.0 2003.0 67.3967 40.8717 83.0 33.0 83.0\n",
      "-27.0 30.0 2003.0 67.7767 40.4667 19.0 46.0 129.0\n",
      "1.0 30.0 2003.0 68.1533 40.675 14.0 13.0 79.0\n",
      "0.0 30.0 2003.0 68.15 40.6767 8.0 8.0 80.0\n"
     ]
    },
    {
     "name": "stdout",
     "output_type": "stream",
     "text": [
      "0.0 30.0 2003.0 68.66 40.785 63.0 63.0 63.0\n",
      "0.0 30.0 2003.0 68.775 41.01 63.0 63.0 63.0\n",
      "0.0 30.0 2003.0 68.8883 41.255 101.0 101.0 101.0\n",
      "38.0 30.0 2003.0 69.1733 41.46 156.0 118.0 156.0\n",
      "-22.0 31.0 2003.0 68.835 41.7917 143.0 165.0 165.0\n",
      "-19.0 26.0 2004.0 69.6633 42.13 110.0 129.0 210.0\n",
      "-4.0 26.0 2004.0 69.6683 42.5017 162.0 166.0 248.0\n",
      "-27.0 26.0 2004.0 69.6667 42.5017 139.0 166.0 251.0\n",
      "10.0 26.0 2004.0 68.855 42.1717 79.0 69.0 179.0\n",
      "6.0 26.0 2004.0 68.5917 42.4933 106.0 100.0 199.0\n",
      "nan 26.0 2004.0 68.0167 42.435 nan nan 175.0\n",
      "-5.0 26.0 2004.0 68.015 42.4333 66.0 71.0 175.0\n",
      "9.0 27.0 2004.0 67.0083 42.4183 39.0 30.0 358.0\n",
      "-1.0 19.0 2005.0 71.9783 39.62 36.0 37.0 306.0\n",
      "-4.0 19.0 2005.0 71.9817 39.6033 33.0 37.0 336.0\n",
      "-2.0 26.0 2005.0 69.5117 41.8533 115.0 117.0 185.0\n",
      "2.0 19.0 2005.0 72.4117 39.645 15.0 13.0 142.0\n",
      "0.0 26.0 2005.0 69.4783 42.065 25.0 25.0 195.0\n",
      "4.0 19.0 2005.0 72.6583 39.4367 18.0 14.0 87.0\n",
      "202.0 26.0 2005.0 69.6683 42.4967 251.0 49.0 251.0\n",
      "-20.0 19.0 2005.0 72.5667 39.4067 30.0 50.0 112.0\n",
      "nan 26.0 2005.0 69.6667 42.4967 nan 81.0 250.0\n",
      "-4.0 19.0 2005.0 72.2517 39.3483 32.0 36.0 258.0\n",
      "2.0 20.0 2005.0 72.3617 39.2817 13.0 11.0 212.0\n",
      "22.0 29.0 2005.0 69.445 43.27 125.0 103.0 156.0\n",
      "22.0 29.0 2005.0 69.1433 42.4817 131.0 109.0 222.0\n",
      "44.0 29.0 2005.0 69.1567 42.4833 130.0 86.0 223.0\n",
      "26.0 29.0 2005.0 68.9817 42.6867 138.0 112.0 151.0\n",
      "6.0 29.0 2005.0 68.6483 43.02 88.0 82.0 188.0\n",
      "-15.0 29.0 2005.0 68.6483 43.0183 87.0 102.0 187.0\n",
      "50.0 29.0 2005.0 68.5433 43.6467 155.0 105.0 155.0\n",
      "0.0 29.0 2005.0 68.4433 43.8567 117.0 117.0 117.0\n",
      "5.0 25.0 2005.0 74.7383 36.6033 31.0 26.0 96.0\n",
      "2.0 30.0 2005.0 67.4217 43.9817 18.0 16.0 188.0\n",
      "-23.0 25.0 2005.0 74.7183 36.6717 56.0 79.0 96.0\n",
      "6.0 25.0 2005.0 74.8983 36.6333 43.0 37.0 43.0\n",
      "-8.0 30.0 2005.0 67.175 43.5683 45.0 53.0 209.0\n",
      "-2.0 30.0 2005.0 67.6983 43.4017 86.0 88.0 244.0\n",
      "-5.0 30.0 2005.0 67.7017 43.4033 77.0 82.0 245.0\n",
      "1.0 30.0 2005.0 68.0433 43.185 46.0 45.0 192.0\n",
      "5.0 30.0 2005.0 67.5467 43.0183 21.0 16.0 191.0\n",
      "24.0 30.0 2005.0 67.38 42.9333 60.0 36.0 243.0\n",
      "21.0 30.0 2005.0 67.38 42.9283 56.0 35.0 243.0\n",
      "0.0 31.0 2005.0 66.9167 43.0617 14.0 14.0 181.0\n",
      "0.0 31.0 2005.0 66.2133 42.8533 23.0 23.0 133.0\n",
      "0.0 31.0 2005.0 66.08 42.7283 28.0 28.0 67.0\n",
      "2.0 31.0 2005.0 66.085 42.5217 15.0 13.0 191.0\n",
      "4.0 31.0 2005.0 65.9767 42.0617 15.0 11.0 169.0\n",
      "16.0 31.0 2005.0 66.2117 42.1033 27.0 11.0 97.0\n",
      "-2.0 31.0 2005.0 66.9983 42.4167 25.0 27.0 357.0\n",
      "5.0 17.0 2006.0 74.7433 36.56 62.0 57.0 100.0\n",
      "7.0 17.0 2006.0 74.9133 36.6383 34.0 27.0 34.0\n",
      "47.0 17.0 2006.0 74.7367 36.62 61.0 14.0 93.0\n",
      "48.0 19.0 2006.0 72.415 39.5833 54.0 6.0 440.0\n",
      "16.0 25.0 2006.0 68.2167 42.9033 45.0 29.0 177.0\n",
      "60.0 25.0 2006.0 68.68 42.7317 74.0 14.0 191.0\n",
      "nan 25.0 2006.0 69.1433 42.52 nan 50.0 211.0\n",
      "3.0 25.0 2006.0 69.135 42.515 54.0 51.0 208.0\n",
      "7.0 25.0 2006.0 69.3 42.705 40.0 33.0 190.0\n",
      "26.0 25.0 2006.0 69.3817 42.6667 86.0 60.0 219.0\n",
      "11.0 25.0 2006.0 69.3833 42.6667 91.0 80.0 226.0\n",
      "0.0 25.0 2006.0 69.7467 42.6467 18.0 18.0 238.0\n",
      "0.0 25.0 2006.0 69.75 42.6417 20.0 20.0 243.0\n",
      "-1.0 26.0 2006.0 70.005 42.845 29.0 30.0 182.0\n",
      "7.0 26.0 2006.0 69.78 43.4783 18.0 11.0 130.0\n",
      "2.0 26.0 2006.0 69.0917 43.8333 7.0 5.0 65.0\n",
      "-41.0 27.0 2006.0 68.555 43.9817 44.0 85.0 85.0\n",
      "0.0 27.0 2006.0 67.9717 44.125 20.0 20.0 94.0\n",
      "6.0 28.0 2006.0 68.2367 43.5617 30.0 24.0 180.0\n",
      "19.0 28.0 2006.0 67.7017 43.4 98.0 79.0 247.0\n",
      "9.0 28.0 2006.0 67.6983 43.3983 97.0 88.0 246.0\n",
      "2.0 28.0 2006.0 66.955 43.6817 87.0 85.0 146.0\n",
      "16.0 28.0 2006.0 67.215 43.9867 41.0 25.0 166.0\n",
      "17.0 28.0 2006.0 66.43 43.795 53.0 36.0 53.0\n",
      "35.0 28.0 2006.0 66.4217 43.7933 68.0 33.0 68.0\n",
      "6.0 28.0 2006.0 67.1733 43.1517 46.0 40.0 188.0\n",
      "3.0 29.0 2006.0 67.6017 43.1433 19.0 16.0 187.0\n",
      "8.0 29.0 2006.0 67.3767 42.605 47.0 39.0 266.0\n",
      "21.0 29.0 2006.0 67.3733 42.6033 49.0 28.0 267.0\n",
      "1.0 29.0 2006.0 67.365 42.6017 42.0 41.0 267.0\n",
      "3.0 29.0 2006.0 66.5783 42.6917 34.0 31.0 166.0\n",
      "6.0 29.0 2006.0 66.9917 42.415 33.0 27.0 361.0\n",
      "2.0 29.0 2006.0 67.0 42.4117 29.0 27.0 361.0\n",
      "0.0 29.0 2006.0 66.7733 42.1067 70.0 70.0 70.0\n",
      "0.0 29.0 2006.0 67.17 41.855 59.0 59.0 59.0\n",
      "0.0 29.0 2006.0 67.1667 41.8533 57.0 57.0 57.0\n",
      "0.0 29.0 2006.0 67.7067 41.8917 36.0 36.0 36.0\n",
      "0.0 29.0 2006.0 67.7467 41.8233 35.0 35.0 35.0\n",
      "4.0 29.0 2006.0 68.0867 42.1033 99.0 95.0 218.0\n",
      "1.0 30.0 2006.0 68.0733 42.11 98.0 97.0 219.0\n",
      "13.0 30.0 2006.0 68.3083 42.2667 101.0 88.0 205.0\n",
      "73.0 30.0 2006.0 68.4983 42.1883 87.0 14.0 153.0\n",
      "54.0 30.0 2006.0 68.5067 42.185 82.0 28.0 160.0\n",
      "nan 30.0 2006.0 68.765 42.2367 nan nan 206.0\n",
      "18.0 30.0 2006.0 68.7617 42.235 82.0 64.0 198.0\n",
      "20.0 30.0 2006.0 69.1 41.4783 66.0 46.0 143.0\n",
      "24.0 30.0 2006.0 69.48 41.6467 50.0 26.0 107.0\n",
      "-3.0 30.0 2007.0 69.34 41.87 78.0 81.0 195.0\n",
      "-32.0 30.0 2007.0 69.3833 42.0083 68.0 100.0 211.0\n",
      "-6.0 17.0 2007.0 72.3683 39.5917 45.0 51.0 103.0\n",
      "-5.0 30.0 2007.0 69.645 42.0583 103.0 108.0 220.0\n",
      "-4.0 17.0 2007.0 72.3867 39.6333 52.0 56.0 129.0\n",
      "2.0 31.0 2007.0 69.6667 42.4967 125.0 123.0 251.0\n",
      "-3.0 18.0 2007.0 72.4133 39.6567 54.0 57.0 101.0\n",
      "-2.0 31.0 2007.0 69.665 42.4967 121.0 123.0 255.0\n",
      "-5.0 18.0 2007.0 72.43 39.66 51.0 56.0 101.0\n",
      "-3.0 31.0 2007.0 69.7817 42.6117 92.0 95.0 232.0\n",
      "-5.0 18.0 2007.0 72.4667 39.69 54.0 59.0 87.0\n",
      "-7.0 31.0 2007.0 69.7817 42.61 88.0 95.0 232.0\n",
      "-4.0 18.0 2007.0 72.5767 39.6833 64.0 68.0 73.0\n",
      "-2.0 18.0 2007.0 72.6017 39.595 6.0 8.0 75.0\n",
      "3.0 18.0 2007.0 72.4567 39.57 64.0 61.0 100.0\n",
      "0.0 31.0 2007.0 70.4133 42.5967 96.0 96.0 96.0\n",
      "3.0 18.0 2007.0 72.4983 39.4883 47.0 44.0 111.0\n",
      "0.0 31.0 2007.0 70.13 42.89 65.0 65.0 65.0\n",
      "0.0 18.0 2007.0 72.44 39.455 47.0 47.0 118.0\n",
      "-14.0 19.0 2007.0 74.0 38.5883 30.0 44.0 52.0\n",
      "0.0 31.0 2007.0 69.6433 43.17 76.0 76.0 76.0\n",
      "2.0 19.0 2007.0 74.76 38.2683 18.0 16.0 23.0\n",
      "0.0 20.0 2007.0 75.6117 37.0217 23.0 23.0 23.0\n",
      "0.0 20.0 2007.0 75.5083 36.7767 20.0 20.0 20.0\n",
      "6.0 22.0 2007.0 75.2733 35.7767 18.0 12.0 34.0\n",
      "-1.0 23.0 2007.0 74.9233 36.6267 17.0 18.0 32.0\n",
      "0.0 23.0 2007.0 74.9333 37.2883 40.0 40.0 40.0\n",
      "-9.0 24.0 2007.0 72.335 39.3933 91.0 100.0 145.0\n",
      "-67.0 24.0 2007.0 72.3067 39.4233 41.0 108.0 154.0\n",
      "-15.0 24.0 2007.0 72.4233 39.44 78.0 93.0 126.0\n",
      "-15.0 24.0 2007.0 72.465 39.5483 71.0 86.0 103.0\n",
      "-19.0 24.0 2007.0 72.5983 39.5817 32.0 51.0 79.0\n",
      "-15.0 24.0 2007.0 72.5833 39.67 48.0 63.0 73.0\n",
      "-5.0 24.0 2007.0 72.46 39.6783 82.0 87.0 91.0\n",
      "39.0 11.0 2008.0 72.4367 39.5817 58.0 19.0 137.0\n",
      "8.0 11.0 2008.0 72.335 39.6683 49.0 41.0 113.0\n",
      "40.0 11.0 2008.0 72.4767 39.645 63.0 23.0 99.0\n",
      "33.0 11.0 2008.0 72.4483 39.6633 86.0 53.0 95.0\n",
      "2.0 11.0 2008.0 72.0817 39.8917 42.0 40.0 90.0\n",
      "4.0 12.0 2008.0 73.765 39.89 17.0 13.0 30.0\n",
      "30.0 12.0 2008.0 73.3467 39.085 60.0 30.0 60.0\n",
      "19.0 12.0 2008.0 72.9133 39.0867 41.0 22.0 85.0\n",
      "0.0 13.0 2008.0 73.8967 39.095 38.0 38.0 38.0\n",
      "24.0 13.0 2008.0 74.055 38.19 50.0 26.0 72.0\n",
      "17.0 13.0 2008.0 74.22 38.1833 50.0 33.0 50.0\n",
      "0.0 13.0 2008.0 74.5133 38.1833 34.0 34.0 34.0\n",
      "12.0 13.0 2008.0 74.235 38.1817 44.0 32.0 44.0\n",
      "31.0 13.0 2008.0 74.0633 38.1883 56.0 25.0 72.0\n",
      "2.0 14.0 2008.0 74.665 37.0317 14.0 12.0 93.0\n",
      "0.0 14.0 2008.0 75.0383 37.025 45.0 45.0 45.0\n",
      "0.0 14.0 2008.0 75.2817 37.0267 34.0 34.0 34.0\n",
      "0.0 14.0 2008.0 75.2767 37.0217 34.0 34.0 34.0\n",
      "0.0 14.0 2008.0 75.0617 37.045 44.0 44.0 44.0\n",
      "4.0 14.0 2008.0 74.6533 37.0133 14.0 10.0 105.0\n",
      "10.0 15.0 2008.0 75.0033 36.0483 36.0 26.0 36.0\n",
      "11.0 15.0 2008.0 75.275 36.0567 34.0 23.0 34.0\n",
      "0.0 15.0 2008.0 75.2783 36.06 34.0 34.0 34.0\n",
      "0.0 15.0 2008.0 75.0133 36.0617 45.0 45.0 45.0\n",
      "2.0 15.0 2008.0 74.8783 36.0583 37.0 35.0 86.0\n",
      "0.0 16.0 2008.0 75.0533 37.7233 33.0 33.0 33.0\n",
      "0.0 16.0 2008.0 74.7183 37.7267 49.0 49.0 49.0\n",
      "0.0 16.0 2008.0 74.5083 37.7283 58.0 58.0 58.0\n",
      "0.0 16.0 2008.0 74.7 37.7217 50.0 50.0 50.0\n",
      "0.0 16.0 2008.0 75.045 37.7267 31.0 31.0 31.0\n",
      "0.0 17.0 2008.0 73.0033 39.8917 54.0 54.0 54.0\n",
      "1.0 23.0 2008.0 71.5133 41.02 25.0 24.0 48.0\n",
      "2.0 23.0 2008.0 71.7783 40.8533 28.0 26.0 50.0\n",
      "0.0 23.0 2008.0 71.9767 40.36 65.0 65.0 65.0\n",
      "0.0 23.0 2008.0 72.5133 40.3133 52.0 52.0 52.0\n",
      "4.0 23.0 2008.0 73.315 40.3117 14.0 10.0 33.0\n",
      "3.0 23.0 2008.0 73.9117 40.3933 9.0 6.0 20.0\n",
      "2.0 23.0 2008.0 73.9117 40.3917 8.0 6.0 19.0\n",
      "5.0 24.0 2008.0 74.01 40.0667 24.0 19.0 24.0\n",
      "0.0 24.0 2008.0 73.145 40.0617 18.0 18.0 43.0\n",
      "0.0 24.0 2008.0 72.6133 39.8967 57.0 57.0 57.0\n",
      "5.0 24.0 2008.0 72.2883 39.73 33.0 28.0 100.0\n",
      "0.0 24.0 2008.0 72.61 39.65 41.0 41.0 73.0\n",
      "0.0 24.0 2008.0 72.725 39.6483 60.0 60.0 71.0\n",
      "0.0 24.0 2008.0 73.4117 39.1083 45.0 45.0 56.0\n",
      "0.0 24.0 2008.0 73.78 39.1867 42.0 42.0 42.0\n",
      "0.0 24.0 2008.0 73.88 39.2717 36.0 36.0 36.0\n",
      "21.0 24.0 2008.0 74.08 39.31 26.0 5.0 26.0\n",
      "0.0 24.0 2008.0 74.0817 39.31 27.0 27.0 27.0\n",
      "0.0 24.0 2008.0 74.4117 39.0217 26.0 26.0 26.0\n",
      "0.0 25.0 2008.0 73.4667 39.8 35.0 35.0 35.0\n",
      "0.0 26.0 2008.0 70.545 40.7283 57.0 57.0 57.0\n",
      "0.0 26.0 2008.0 70.5433 40.7283 57.0 57.0 57.0\n",
      "0.0 26.0 2008.0 70.3117 40.7317 48.0 48.0 48.0\n",
      "0.0 26.0 2008.0 70.81 40.9733 49.0 49.0 49.0\n",
      "0.0 29.0 2008.0 69.7433 40.69 53.0 53.0 53.0\n"
     ]
    },
    {
     "name": "stdout",
     "output_type": "stream",
     "text": [
      "nan 30.0 2008.0 70.4433 40.5633 nan nan 65.0\n",
      "0.0 30.0 2008.0 70.4417 40.5617 64.0 64.0 64.0\n",
      "-3.0 30.0 2008.0 70.6767 40.4783 21.0 24.0 77.0\n",
      "-1.0 30.0 2008.0 70.8433 40.3133 25.0 26.0 109.0\n",
      "2.0 30.0 2008.0 71.18 40.2283 18.0 16.0 108.0\n",
      "1.0 30.0 2008.0 71.2133 40.06 31.0 30.0 184.0\n",
      "-23.0 30.0 2008.0 71.6733 40.2267 54.0 77.0 84.0\n",
      "1.0 30.0 2008.0 71.7083 39.89 31.0 30.0 212.0\n",
      "-5.0 31.0 2008.0 68.61 40.3167 53.0 58.0 101.0\n",
      "-2.0 31.0 2008.0 68.2767 40.44 18.0 20.0 108.0\n",
      "-21.0 31.0 2008.0 68.7467 40.4367 59.0 80.0 80.0\n",
      "2.0 31.0 2008.0 68.9433 40.4783 26.0 24.0 74.0\n",
      "19.0 31.0 2008.0 69.33 40.49 49.0 30.0 67.0\n",
      "39.0 31.0 2008.0 69.0133 40.6917 72.0 33.0 72.0\n",
      "nan 31.0 2008.0 68.8783 40.815 nan 5.0 68.0\n",
      "0.0 31.0 2008.0 68.88 40.8167 70.0 70.0 70.0\n",
      "0.0 31.0 2008.0 68.7133 41.0217 63.0 63.0 63.0\n",
      "-3.0 15.0 2009.0 73.0067 39.8883 42.0 45.0 50.0\n",
      "0.0 16.0 2009.0 73.8833 39.0733 30.0 30.0 30.0\n",
      "0.0 16.0 2009.0 74.55 38.1833 36.0 36.0 36.0\n",
      "0.0 17.0 2009.0 75.2783 37.03 33.0 33.0 33.0\n",
      "0.0 17.0 2009.0 75.0433 37.0283 44.0 44.0 44.0\n",
      "0.0 17.0 2009.0 74.665 37.0283 91.0 91.0 91.0\n",
      "-24.0 17.0 2009.0 74.6 36.945 28.0 52.0 570.0\n",
      "-5.0 18.0 2009.0 74.6217 36.8767 39.0 44.0 418.0\n",
      "0.0 18.0 2009.0 74.8767 36.06 86.0 86.0 86.0\n",
      "-29.0 18.0 2009.0 75.0133 36.0583 15.0 44.0 44.0\n",
      "5.0 19.0 2009.0 75.2767 36.0583 14.0 9.0 34.0\n",
      "0.0 19.0 2009.0 74.2167 38.1867 60.0 60.0 60.0\n",
      "2.0 19.0 2009.0 74.0533 38.1817 14.0 12.0 70.0\n",
      "-8.0 20.0 2009.0 73.3467 39.0817 40.0 48.0 59.0\n",
      "0.0 20.0 2009.0 72.9017 39.0883 54.0 54.0 85.0\n",
      "-3.0 20.0 2009.0 72.4033 39.4333 10.0 13.0 128.0\n",
      "69.0 20.0 2009.0 72.33 39.3967 148.0 79.0 148.0\n",
      "-69.0 20.0 2009.0 72.3317 39.3533 45.0 114.0 163.0\n",
      "0.0 21.0 2009.0 72.2383 39.3683 9.0 9.0 285.0\n",
      "-3.0 21.0 2009.0 72.1517 39.4783 43.0 46.0 488.0\n",
      "-1.0 27.0 2009.0 71.45 40.9817 22.0 23.0 50.0\n",
      "-6.0 27.0 2009.0 70.8467 40.64 40.0 46.0 68.0\n",
      "-4.0 27.0 2009.0 70.8467 40.395 72.0 76.0 88.0\n",
      "0.0 27.0 2009.0 70.285 40.1883 13.0 13.0 108.0\n",
      "2.0 27.0 2009.0 70.28 40.145 24.0 22.0 118.0\n",
      "-3.0 27.0 2009.0 70.845 40.1483 33.0 36.0 135.0\n",
      "1.0 27.0 2009.0 71.855 39.845 16.0 15.0 158.0\n",
      "2.0 27.0 2009.0 71.8617 39.8417 15.0 13.0 158.0\n",
      "-17.0 27.0 2009.0 71.965 39.925 33.0 50.0 96.0\n",
      "-4.0 27.0 2009.0 72.17 40.015 42.0 46.0 80.0\n",
      "33.0 30.0 2009.0 71.6133 40.4367 55.0 22.0 78.0\n",
      "1.0 30.0 2009.0 72.245 40.5183 26.0 25.0 54.0\n",
      "-2.0 30.0 2009.0 72.2467 40.5017 26.0 28.0 55.0\n",
      "-9.0 30.0 2009.0 72.7783 40.3967 22.0 31.0 46.0\n",
      "-1.0 30.0 2009.0 72.9083 40.3967 23.0 24.0 41.0\n",
      "-9.0 30.0 2009.0 73.1483 40.1867 26.0 35.0 43.0\n",
      "0.0 30.0 2009.0 73.6767 39.8517 16.0 16.0 34.0\n",
      "nan 30.0 2009.0 73.8033 39.7133 nan 9.0 23.0\n",
      "5.0 30.0 2009.0 73.8017 39.7117 11.0 6.0 22.0\n",
      "0.0 30.0 2009.0 72.95 39.605 62.0 62.0 62.0\n",
      "-2.0 30.0 2009.0 73.0733 39.4833 12.0 14.0 67.0\n",
      "3.0 31.0 2009.0 73.8717 38.9783 19.0 16.0 41.0\n",
      "1.0 31.0 2009.0 73.6433 38.9783 17.0 16.0 52.0\n",
      "5.0 31.0 2009.0 73.2733 39.02 71.0 66.0 71.0\n",
      "-122.0 31.0 2009.0 73.0467 38.77 6.0 128.0 181.0\n",
      "-17.0 31.0 2009.0 73.0767 38.735 38.0 55.0 147.0\n",
      "0.0 31.0 2009.0 74.1067 38.56 46.0 46.0 54.0\n",
      "-3.0 31.0 2009.0 74.0433 38.11 48.0 51.0 83.0\n",
      "-5.0 31.0 2009.0 74.045 37.8983 34.0 39.0 158.0\n",
      "-8.0 31.0 2009.0 74.0417 37.8933 40.0 48.0 166.0\n",
      "0.0 12.0 2011.0 73.765 39.8883 30.0 30.0 30.0\n",
      "0.0 12.0 2011.0 73.8767 39.0883 38.0 38.0 38.0\n",
      "61.0 13.0 2011.0 73.3433 39.085 66.0 5.0 66.0\n",
      "4.0 13.0 2011.0 72.9167 39.0883 68.0 64.0 87.0\n",
      "2.0 14.0 2011.0 72.41 39.6517 92.0 90.0 108.0\n",
      "7.0 14.0 2011.0 72.4417 39.5733 60.0 53.0 109.0\n",
      "8.0 14.0 2011.0 72.33 39.67 78.0 70.0 115.0\n",
      "11.0 14.0 2011.0 72.4783 39.6517 70.0 59.0 105.0\n",
      "0.0 14.0 2011.0 72.4433 39.6617 58.0 58.0 99.0\n",
      "1.0 14.0 2011.0 72.405 39.4367 19.0 18.0 130.0\n",
      "1.0 14.0 2011.0 72.35 39.3583 44.0 43.0 153.0\n",
      "0.0 14.0 2011.0 72.27 39.3267 28.0 28.0 262.0\n",
      "1.0 14.0 2011.0 72.24 39.4533 31.0 30.0 290.0\n",
      "0.0 14.0 2011.0 72.3317 39.3967 27.0 27.0 150.0\n",
      "0.0 14.0 2011.0 72.33 39.3983 27.0 27.0 149.0\n",
      "1.0 15.0 2011.0 72.1833 39.375 24.0 23.0 508.0\n",
      "1.0 15.0 2011.0 72.1217 39.4217 33.0 32.0 908.0\n",
      "2.0 15.0 2011.0 72.1867 39.6533 21.0 19.0 416.0\n",
      "2.0 15.0 2011.0 72.3883 39.52 56.0 54.0 505.0\n",
      "-7.0 16.0 2011.0 74.055 38.1883 37.0 44.0 72.0\n",
      "0.0 16.0 2011.0 74.2083 38.185 62.0 62.0 62.0\n",
      "1.0 16.0 2011.0 74.5533 38.1867 26.0 25.0 38.0\n",
      "-58.0 17.0 2011.0 74.6483 37.0067 46.0 104.0 104.0\n",
      "4.0 17.0 2011.0 75.0467 37.11 26.0 22.0 45.0\n",
      "-1.0 17.0 2011.0 75.28 37.0267 27.0 28.0 33.0\n",
      "0.0 17.0 2011.0 75.2817 37.0317 35.0 35.0 35.0\n",
      "0.0 17.0 2011.0 75.2817 37.03 36.0 36.0 36.0\n",
      "0.0 17.0 2011.0 75.2817 37.0283 36.0 36.0 36.0\n",
      "3.0 17.0 2011.0 74.615 36.87 209.0 206.0 560.0\n",
      "5.0 17.0 2011.0 74.6267 36.8883 90.0 85.0 312.0\n",
      "12.0 18.0 2011.0 74.5967 36.9533 214.0 202.0 605.0\n",
      "9.0 20.0 2012.0 72.33 39.4133 110.0 101.0 147.0\n",
      "39.0 20.0 2012.0 72.4017 39.435 129.0 90.0 129.0\n",
      "14.0 21.0 2012.0 72.16 39.4983 125.0 111.0 250.0\n",
      "-12.0 21.0 2012.0 72.145 39.3983 65.0 77.0 1478.0\n",
      "27.0 21.0 2012.0 72.255 39.6283 79.0 52.0 120.0\n",
      "-6.0 23.0 2012.0 74.6083 36.9117 61.0 67.0 479.0\n",
      "37.0 23.0 2012.0 75.0433 37.0267 46.0 9.0 46.0\n",
      "0.0 24.0 2012.0 75.28 37.0267 34.0 34.0 34.0\n",
      "6.0 24.0 2012.0 75.045 37.73 21.0 15.0 33.0\n",
      "-2.0 24.0 2012.0 74.7117 37.73 15.0 17.0 50.0\n",
      "0.0 24.0 2012.0 74.51 37.73 59.0 59.0 59.0\n",
      "19.0 24.0 2012.0 74.55 38.185 25.0 6.0 36.0\n",
      "21.0 24.0 2012.0 74.215 38.1883 61.0 40.0 61.0\n",
      "4.0 25.0 2012.0 73.685 38.14 13.0 9.0 723.0\n",
      "-7.0 25.0 2012.0 73.6683 38.1783 31.0 38.0 540.0\n",
      "1.0 25.0 2012.0 73.7117 38.2 10.0 9.0 129.0\n",
      "13.0 25.0 2012.0 72.2383 39.3383 47.0 34.0 301.0\n",
      "-4.0 26.0 2012.0 72.2383 39.3667 17.0 21.0 293.0\n",
      "-10.0 26.0 2012.0 72.255 39.3433 41.0 51.0 262.0\n",
      "-14.0 26.0 2012.0 72.365 39.35 59.0 73.0 151.0\n",
      "-8.0 26.0 2012.0 72.4117 39.6517 10.0 18.0 106.0\n",
      "-12.0 26.0 2012.0 72.445 39.5833 50.0 62.0 106.0\n",
      "-1.0 26.0 2012.0 72.475 39.6467 25.0 26.0 105.0\n",
      "10.0 26.0 2012.0 72.445 39.6617 28.0 18.0 96.0\n",
      "0.0 6.0 1993.0 70.13 40.9333 25.0 25.0 25.0\n",
      "0.0 13.0 1996.0 68.008 40.843 66.0 66.0 66.0\n",
      "nan 12.0 2008.0 73.895 39.0883 nan 42.0 42.0\n",
      "nan 29.0 1997.0 66.3833 43.38 56.0 nan 56.0\n",
      "nan 10.0 1998.0 67.1617 40.9383 83.0 nan 83.0\n",
      "nan 6.0 1993.0 70.0333 41.0683 nan nan nan\n",
      "nan 18.0 1993.0 72.4183 40.7817 nan nan nan\n",
      "nan 19.0 1993.0 72.9717 40.6333 nan nan nan\n",
      "nan 19.0 1993.0 73.3517 40.5517 nan nan nan\n",
      "nan 19.0 1993.0 73.565 40.415 nan nan nan\n",
      "nan 19.0 1993.0 73.6 40.2633 nan nan nan\n",
      "nan 9.0 1995.0 67.7 42.9867 nan nan nan\n",
      "nan 11.0 1995.0 66.3267 42.8333 nan nan nan\n",
      "nan 14.0 1996.0 67.337 40.98 nan nan nan\n",
      "nan 14.0 1996.0 67.652 41.086999999999996 nan nan nan\n",
      "nan 15.0 1996.0 67.155 41.25 nan nan nan\n",
      "nan 17.0 1996.0 66.17 41.783 nan nan nan\n",
      "nan 18.0 1996.0 66.685 41.961999999999996 nan nan nan\n",
      "nan 18.0 1997.0 67.212 41.94300000000001 nan nan nan\n",
      "nan 18.0 1997.0 67.2317 41.9233 nan nan nan\n",
      "nan 19.0 1997.0 68.308 41.836999999999996 nan nan nan\n",
      "nan 19.0 1997.0 68.3 41.85 nan nan nan\n",
      "nan 27.0 1997.0 69.675 41.825 nan nan nan\n",
      "nan 29.0 1997.0 68.1283 42.9267 nan nan nan\n",
      "nan 29.0 1997.0 67.17 43.1317 nan nan nan\n",
      "nan 30.0 1997.0 69.23 43.5783 nan nan nan\n",
      "nan 31.0 1997.0 69.4267 42.9233 nan nan nan\n",
      "nan 8.0 1998.0 68.992 41.001999999999995 nan nan nan\n",
      "nan 9.0 1998.0 68.26 41.01300000000001 nan nan nan\n",
      "nan 10.0 1998.0 67.072 40.87300000000001 nan nan nan\n",
      "nan 10.0 1998.0 67.325 40.97 nan nan nan\n",
      "nan 10.0 1998.0 67.652 41.078 nan nan nan\n",
      "nan 10.0 1998.0 67.958 41.236999999999995 nan nan nan\n",
      "nan 11.0 1998.0 67.542 41.398 nan nan nan\n",
      "nan 11.0 1998.0 67.175 41.255 nan nan nan\n",
      "nan 11.0 1998.0 66.98 41.203 nan nan nan\n",
      "nan 11.0 1998.0 66.688 41.043 nan nan nan\n",
      "nan 11.0 1998.0 66.465 40.91 nan nan nan\n",
      "nan 12.0 1998.0 66.477 41.21 nan nan nan\n",
      "nan 10.0 1998.0 67.9467 41.2333 nan nan nan\n",
      "nan 12.0 1998.0 66.682 41.397 nan nan nan\n",
      "nan 12.0 1998.0 66.965 41.603 nan nan nan\n",
      "nan 12.0 1998.0 66.502 41.72 nan nan nan\n",
      "nan 12.0 1998.0 66.41199999999999 41.543 nan nan nan\n",
      "nan 13.0 1998.0 66.048 41.558 nan nan nan\n",
      "nan 13.0 1998.0 66.18 41.803000000000004 nan nan nan\n",
      "nan 13.0 1998.0 66.007 41.865 nan nan nan\n",
      "nan 11.0 1998.0 66.7117 41.0383 nan nan nan\n",
      "nan 13.0 1998.0 66.003 42.117 nan nan nan\n",
      "nan 14.0 1998.0 66.435 42.073 nan nan nan\n",
      "nan 15.0 1998.0 66.877 42.305 nan nan nan\n",
      "nan 15.0 1998.0 67.21 41.895 nan nan nan\n",
      "nan 15.0 1998.0 67.617 42.012 nan nan nan\n",
      "nan 15.0 1998.0 67.663 41.705 nan nan nan\n",
      "nan 15.0 1998.0 67.995 41.823 nan nan nan\n",
      "nan 16.0 1998.0 68.303 41.836999999999996 nan nan nan\n",
      "nan 18.0 1998.0 68.443 41.602 nan nan nan\n",
      "nan 12.0 1998.0 66.7617 41.6667 nan nan nan\n",
      "nan 18.0 1998.0 68.30199999999999 41.38 nan nan nan\n",
      "nan 18.0 1998.0 68.597 41.306999999999995 nan nan nan\n",
      "nan 18.0 1998.0 68.932 41.477 nan nan nan\n",
      "nan 10.0 1998.0 67.6533 41.0783 nan nan nan\n",
      "nan 26.0 1998.0 67.3133 43.32 nan nan nan\n",
      "nan 27.0 1998.0 68.8467 42.4933 nan nan nan\n",
      "nan 27.0 1998.0 68.43 41.4733 nan nan nan\n",
      "nan 28.0 1998.0 69.385 42.2417 nan nan nan\n"
     ]
    },
    {
     "name": "stdout",
     "output_type": "stream",
     "text": [
      "nan 18.0 1999.0 66.548 41.732 nan nan nan\n",
      "nan 22.0 1999.0 66.9967 43.065 nan nan nan\n",
      "nan 23.0 1999.0 68.58 41.303000000000004 nan nan nan\n",
      "nan 23.0 1999.0 68.968 41.461999999999996 nan nan nan\n",
      "nan 29.0 2002.0 67.935 41.7367 nan nan nan\n",
      "nan 29.0 2002.0 67.94 41.7417 nan nan nan\n",
      "nan 23.0 2003.0 70.2917 42.3117 nan nan nan\n",
      "nan 23.0 2003.0 69.4417 42.1983 nan nan nan\n",
      "nan 23.0 2003.0 68.8283 42.4967 nan nan nan\n",
      "nan 24.0 2003.0 69.1467 42.615 nan nan nan\n",
      "nan 24.0 2003.0 69.8833 42.665 nan nan nan\n",
      "nan 24.0 2003.0 70.355 43.07 nan nan nan\n",
      "nan 24.0 2003.0 69.97 43.0583 nan nan nan\n",
      "nan 24.0 2003.0 69.4283 43.1533 nan nan nan\n",
      "nan 24.0 2003.0 68.7867 43.2583 nan nan nan\n",
      "nan 25.0 2003.0 69.015 43.5 nan nan nan\n",
      "nan 25.0 2003.0 68.63 43.7417 nan nan nan\n",
      "nan 25.0 2003.0 68.0967 43.7933 nan nan nan\n",
      "nan 25.0 2003.0 67.9933 43.3983 nan nan nan\n",
      "nan 25.0 2003.0 68.3333 43.1817 nan nan nan\n",
      "nan 25.0 2003.0 68.2433 42.8167 nan nan nan\n",
      "nan 25.0 2003.0 67.62 42.8267 nan nan nan\n",
      "nan 25.0 2003.0 67.3433 42.93 nan nan nan\n",
      "nan 25.0 2003.0 67.3317 42.9267 nan nan nan\n",
      "nan 26.0 2003.0 67.41 43.615 nan nan nan\n",
      "nan 26.0 2003.0 66.79 43.9483 nan nan nan\n",
      "nan 26.0 2003.0 66.4967 44.1483 nan nan nan\n",
      "nan 26.0 2003.0 66.6983 43.76 nan nan nan\n",
      "nan 26.0 2003.0 66.5033 43.3117 nan nan nan\n",
      "nan 26.0 2003.0 66.4 42.5767 nan nan nan\n",
      "nan 27.0 2003.0 66.2617 41.9867 nan nan nan\n",
      "nan 27.0 2003.0 66.095 41.6283 nan nan nan\n",
      "nan 27.0 2003.0 65.9533 41.5233 nan nan nan\n",
      "nan 27.0 2003.0 66.515 41.3467 nan nan nan\n",
      "nan 27.0 2003.0 66.5433 40.87 nan nan nan\n",
      "nan 27.0 2003.0 66.5433 40.8583 nan nan nan\n",
      "nan 28.0 2003.0 67.3267 41.3883 nan nan nan\n",
      "nan 28.0 2003.0 66.91 41.4917 nan nan nan\n",
      "nan 29.0 2003.0 66.6117 41.8133 nan nan nan\n",
      "nan 29.0 2003.0 66.805 42.0933 nan nan nan\n",
      "nan 29.0 2003.0 66.8817 42.2117 nan nan nan\n",
      "nan 29.0 2003.0 67.4067 42.1333 nan nan nan\n",
      "nan 29.0 2003.0 67.4917 41.9917 nan nan nan\n",
      "nan 29.0 2003.0 67.725 42.125 nan nan nan\n",
      "nan 29.0 2003.0 68.0617 42.1233 nan nan nan\n",
      "nan 29.0 2003.0 68.0567 42.1233 nan nan nan\n",
      "nan 29.0 2003.0 68.3833 42.3083 nan nan nan\n",
      "nan 29.0 2003.0 68.1683 41.925 nan nan nan\n",
      "nan 30.0 2003.0 67.9533 41.645 nan nan nan\n",
      "nan 28.0 2005.0 70.285 43.0167 nan nan nan\n",
      "nan 26.0 2006.0 69.0933 43.8383 nan nan nan\n",
      "nan 18.0 2007.0 72.3683 39.4233 nan nan nan\n",
      "nan 19.0 2007.0 74.6067 38.5783 nan nan nan\n",
      "nan 11.0 2008.0 72.41 39.6483 nan nan nan\n",
      "nan 31.0 2008.0 68.8783 40.8167 nan nan nan\n",
      "nan 15.0 2009.0 73.0067 39.89 nan nan nan\n",
      "nan 18.0 2009.0 74.875 36.0617 nan nan nan\n",
      "nan 24.0 2012.0 74.8533 38.0433 nan nan nan\n",
      "nan 10.0 1998.0 67.072 40.87300000000001 nan nan nan\n",
      "nan 10.0 1998.0 67.958 41.237 nan nan nan\n",
      "nan 13.0 1998.0 66.18 41.803 nan nan nan\n",
      "nan 16.0 1998.0 68.303 41.837 nan nan nan\n",
      "nan 18.0 1998.0 68.597 41.307 nan nan nan\n"
     ]
    }
   ],
   "source": [
    "for i in range(len(jan)):\n",
    "    diff = jan['02tempmld'][i] - jan['003densmld'][i] \n",
    "    print(diff, jan['date_no'][i],jan['year'][i], jan['obs_lon'][i],jan['obs_lat'][i],jan['02tempmld'][i],jan['003densmld'][i], jan['bottomdepth'][i])"
   ]
  },
  {
   "cell_type": "code",
   "execution_count": 56,
   "metadata": {},
   "outputs": [
    {
     "name": "stdout",
     "output_type": "stream",
     "text": [
      "10\n"
     ]
    }
   ],
   "source": [
    "sixmeter = []\n",
    "for i in range(len(dec)):\n",
    "    if dec['003densmld'][i]==5:\n",
    "        sixmeter.append(1)\n",
    "print(len(sixmeter))"
   ]
  },
  {
   "cell_type": "code",
   "execution_count": 55,
   "metadata": {},
   "outputs": [
    {
     "name": "stdout",
     "output_type": "stream",
     "text": [
      "2408\n"
     ]
    }
   ],
   "source": [
    "print(9 + 56 + 152 + 177 + 361 + 388 + 220 + 495 + 336 + 141 + 70 + 3)"
   ]
  },
  {
   "cell_type": "code",
   "execution_count": 21,
   "metadata": {},
   "outputs": [],
   "source": [
    "winter = [dec, jan, feb]; winter_season = pd.concat(winter)\n",
    "spring = [march, april, may]; spring_season = pd.concat(spring)\n",
    "summer = [june, july, aug]; summer_season = pd.concat(summer)\n",
    "fall = [sept, octob, nov];fall_season = pd.concat(fall)"
   ]
  },
  {
   "cell_type": "code",
   "execution_count": 22,
   "metadata": {},
   "outputs": [
    {
     "name": "stdout",
     "output_type": "stream",
     "text": [
      "4870\n",
      "12999\n",
      "9432\n",
      "12007\n"
     ]
    }
   ],
   "source": [
    "print(len(winter_season))\n",
    "print(len(spring_season))\n",
    "print(len(summer_season))\n",
    "print(len(fall_season))"
   ]
  },
  {
   "cell_type": "code",
   "execution_count": 23,
   "metadata": {},
   "outputs": [
    {
     "name": "stdout",
     "output_type": "stream",
     "text": [
      "      Unnamed: 0  001densmld  003densmld  glorys_lat_index  glorys_lon_index  \\\n",
      "0            0.0        32.0        53.0              71.0              88.0   \n",
      "1            1.0        40.0        40.0              72.0              92.0   \n",
      "2            2.0        18.0        25.0              73.0              96.0   \n",
      "3            3.0        24.0        24.0              71.0              94.0   \n",
      "4            4.0        22.0        22.0              71.0              96.0   \n",
      "...          ...         ...         ...               ...               ...   \n",
      "3450      3280.0         NaN         NaN              69.0             131.0   \n",
      "3451      3291.0         NaN         NaN              84.0             137.0   \n",
      "3452      3297.0         NaN         NaN              84.0             123.0   \n",
      "3453      3301.0         NaN         NaN              86.0             110.0   \n",
      "3454         NaN         NaN         NaN              88.0              92.0   \n",
      "\n",
      "      bottomdepth  date_no  02tempmld  glorys_mld  glorysmld_new001  \\\n",
      "0            53.0    335.0       53.0   50.965916         55.764290   \n",
      "1            40.0    335.0       40.0   37.079990         40.344051   \n",
      "2            25.0    335.0       25.0   19.837032         21.598820   \n",
      "3            24.0    335.0       24.0   25.940735         29.444731   \n",
      "4            22.0    335.0       22.0   21.668144         21.598820   \n",
      "...           ...      ...        ...         ...               ...   \n",
      "3450          NaN     50.0        NaN         NaN         47.373692   \n",
      "3451          NaN     51.0        NaN         NaN         92.326073   \n",
      "3452          NaN     51.0        NaN         NaN         77.853851   \n",
      "3453          NaN     52.0        NaN         NaN         77.853851   \n",
      "3454          NaN     52.0        NaN         NaN               NaN   \n",
      "\n",
      "        obs_lat    obs_lon    year  glorys_lat  glorys_lon  glorysmld_new003  \n",
      "0     40.900000  70.683300  1993.0   40.916668  -70.666664         55.764290  \n",
      "1     41.035000  70.366700  1993.0   41.000000  -70.333336         40.344051  \n",
      "2     41.065000  70.030000  1993.0   41.083332  -70.000000         21.598820  \n",
      "3     40.931700  70.133300  1993.0   40.916668  -70.166664         29.444731  \n",
      "4     40.930000  69.985000  1993.0   40.916668  -70.000000         21.598820  \n",
      "...         ...        ...     ...         ...         ...               ...  \n",
      "3450  40.746667  67.086667  2017.0   40.750000  -67.083336         55.764290  \n",
      "3451  42.005000  66.588333  2017.0   42.000000  -66.583336         92.326073  \n",
      "3452  41.998333  67.755000  2017.0   42.000000  -67.750000         77.853851  \n",
      "3453  42.161667  68.831667  2017.0   42.166668  -68.833336         92.326073  \n",
      "3454  42.338333  70.328333  2017.0   42.333332  -70.333336               NaN  \n",
      "\n",
      "[4870 rows x 16 columns]\n"
     ]
    }
   ],
   "source": [
    "print(winter_season)"
   ]
  },
  {
   "cell_type": "code",
   "execution_count": 16,
   "metadata": {},
   "outputs": [],
   "source": [
    "season = nov\n",
    "variablelist_003 = []; yearlist = []\n",
    "variablelist_02 = []; variablelist_001 = []\n",
    "latlist = []; longlist = []; bottomdepthlist = []\n",
    "variablelist_gmld = []; variablelist_gmld003 = []; variablelist_gmld001 = []\n",
    "variable = '003densmld'\n",
    "newdf = pd.DataFrame({'lon': list(season['obs_lon']),'lat': list(season['obs_lat'])})\n",
    "for ii in range(len(season)):\n",
    "    new = newdf.iloc[ii].values\n",
    "    point = Point(new)\n",
    "#     if polygon_x.contains(point) == True and (season[variable][ii]>5) and (season['bottomdepth'][ii]<=200):\n",
    "    if polygon_x.contains(point) == True and (season['bottomdepth'][ii]<=200) and (season[variable][ii]>5):\n",
    "        variablelist_003.append(season['003densmld'][ii])\n",
    "        variablelist_001.append(season['001densmld'][ii])\n",
    "        variablelist_02.append(season['02tempmld'][ii])\n",
    "        variablelist_gmld.append(season['glorys_mld'][ii])\n",
    "        variablelist_gmld003.append(season['glorysmld_new003'][ii])\n",
    "        variablelist_gmld001.append(season['glorysmld_new001'][ii])\n",
    "        yearlist.append(season['year'][ii])\n",
    "        latlist.append(season['obs_lat'][ii])\n",
    "        longlist.append(-1*season['obs_lon'][ii])\n",
    "        bottomdepthlist.append(season['bottomdepth'][ii])\n",
    "    elif polygon_v.contains(point) == True and (season[variable][ii]>5) and (season['bottomdepth'][ii]<=200):\n",
    "        variablelist_003.append(season['003densmld'][ii])\n",
    "        variablelist_001.append(season['001densmld'][ii])\n",
    "        variablelist_02.append(season['02tempmld'][ii])\n",
    "        variablelist_gmld.append(season['glorys_mld'][ii])\n",
    "        variablelist_gmld003.append(season['glorysmld_new003'][ii])\n",
    "        variablelist_gmld001.append(season['glorysmld_new001'][ii])\n",
    "        yearlist.append(season['year'][ii])\n",
    "        latlist.append(season['obs_lat'][ii])\n",
    "        longlist.append(-1*season['obs_lon'][ii])\n",
    "        bottomdepthlist.append(season['bottomdepth'][ii])\n",
    "    elif (polygon_w.contains(point) == True or polygon_t.contains(point) == True or polygon_y.contains(point) == True) and (season[variable][ii]>5):\n",
    "        variablelist_003.append(season['003densmld'][ii])\n",
    "        variablelist_001.append(season['001densmld'][ii])\n",
    "        variablelist_02.append(season['02tempmld'][ii])\n",
    "        variablelist_gmld.append(season['glorys_mld'][ii])\n",
    "        variablelist_gmld003.append(season['glorysmld_new003'][ii])\n",
    "        variablelist_gmld001.append(season['glorysmld_new001'][ii])\n",
    "        yearlist.append(season['year'][ii])\n",
    "        latlist.append(season['obs_lat'][ii])\n",
    "        longlist.append(-1*season['obs_lon'][ii])\n",
    "        bottomdepthlist.append(season['bottomdepth'][ii])"
   ]
  },
  {
   "cell_type": "code",
   "execution_count": 1185,
   "metadata": {},
   "outputs": [],
   "source": [
    "month1 = pd.DataFrame({'gmld':variablelist_gmld,'gmld003': variablelist_gmld003, 'gmld001':variablelist_gmld001,'year':yearlist,'lon': longlist,'lat': latlist, '003mld':variablelist_003, '001mld':variablelist_001, '02mld': variablelist_02,'bottomdepth':bottomdepthlist})\n"
   ]
  },
  {
   "cell_type": "code",
   "execution_count": 1187,
   "metadata": {},
   "outputs": [],
   "source": [
    "month2 = pd.DataFrame({'gmld':variablelist_gmld,'gmld003': variablelist_gmld003, 'gmld001':variablelist_gmld001,'year':yearlist,'lon': longlist,'lat': latlist, '003mld':variablelist_003, '001mld':variablelist_001, '02mld': variablelist_02,'bottomdepth':bottomdepthlist})\n"
   ]
  },
  {
   "cell_type": "code",
   "execution_count": 1189,
   "metadata": {},
   "outputs": [],
   "source": [
    "month3 = pd.DataFrame({'gmld':variablelist_gmld,'gmld003': variablelist_gmld003, 'gmld001':variablelist_gmld001,'year':yearlist,'lon': longlist,'lat': latlist, '003mld':variablelist_003, '001mld':variablelist_001, '02mld': variablelist_02,'bottomdepth':bottomdepthlist})\n"
   ]
  },
  {
   "cell_type": "code",
   "execution_count": 1190,
   "metadata": {},
   "outputs": [
    {
     "name": "stdout",
     "output_type": "stream",
     "text": [
      "4166\n",
      "10060\n",
      "5153\n",
      "9666\n"
     ]
    }
   ],
   "source": [
    "# winter = [month1,month2,month3]; winter_season_use = pd.concat(winter)\n",
    "# spring = [month1,month2,month3]; spring_season_use = pd.concat(spring)\n",
    "# summer = [month1,month2,month3]; summer_season_use = pd.concat(summer)\n",
    "# fall = [month1,month2,month3]; fall_season_use = pd.concat(fall)\n",
    "\n",
    "print(len(winter_season_use))\n",
    "print(len(spring_season_use))\n",
    "print(len(summer_season_use))\n",
    "print(len(fall_season_use))"
   ]
  },
  {
   "cell_type": "code",
   "execution_count": 1867,
   "metadata": {},
   "outputs": [
    {
     "name": "stdout",
     "output_type": "stream",
     "text": [
      "     Unnamed: 0  001densmld  003densmld  glorys_lat_index  glorys_lon_index  \\\n",
      "0             0        32.0        53.0              71.0              88.0   \n",
      "1             1        40.0        40.0              72.0              92.0   \n",
      "2             2        18.0        25.0              73.0              96.0   \n",
      "3             3        24.0        24.0              71.0              94.0   \n",
      "4             4        22.0        22.0              71.0              96.0   \n",
      "..          ...         ...         ...               ...               ...   \n",
      "253         241         NaN         NaN              70.0              94.0   \n",
      "254         249         NaN         NaN              71.0              94.0   \n",
      "255         250         NaN         NaN              71.0              95.0   \n",
      "256         251         NaN         NaN              72.0              95.0   \n",
      "257         252         NaN         NaN              72.0              94.0   \n",
      "\n",
      "     bottomdepth  date_no  02tempmld  glorys_mld  glorysmld_new001  obs_lat  \\\n",
      "0           53.0    335.0       53.0   50.965916         55.764290  40.9000   \n",
      "1           40.0    335.0       40.0   37.079990         40.344051  41.0350   \n",
      "2           25.0    335.0       25.0   19.837032         21.598820  41.0650   \n",
      "3           24.0    335.0       24.0   25.940735         29.444731  40.9317   \n",
      "4           22.0    335.0       22.0   21.668144         21.598820  40.9300   \n",
      "..           ...      ...        ...         ...               ...      ...   \n",
      "253          NaN    341.0        NaN         NaN         34.434151  40.8733   \n",
      "254          NaN    342.0        NaN         NaN         29.444731  40.9533   \n",
      "255          NaN    342.0        NaN         NaN         25.211411  40.9550   \n",
      "256          NaN    342.0        NaN         NaN         25.211411  41.0350   \n",
      "257          NaN    342.0        NaN         NaN         25.211411  41.0383   \n",
      "\n",
      "     obs_lon  year  glorys_lat  glorys_lon  glorysmld_new003  \n",
      "0    70.6833  1993   40.916668  -70.666664         55.764290  \n",
      "1    70.3667  1993   41.000000  -70.333336         40.344051  \n",
      "2    70.0300  1993   41.083332  -70.000000         21.598820  \n",
      "3    70.1333  1993   40.916668  -70.166664         29.444731  \n",
      "4    69.9850  1993   40.916668  -70.000000         21.598820  \n",
      "..       ...   ...         ...         ...               ...  \n",
      "253  70.1467  2011   40.833332  -70.166664         34.434151  \n",
      "254  70.1817  2011   40.916668  -70.166664         29.444731  \n",
      "255  70.1133  2011   40.916668  -70.083336         25.211411  \n",
      "256  70.0950  2011   41.000000  -70.083336         25.211411  \n",
      "257  70.1633  2011   41.000000  -70.166664         25.211411  \n",
      "\n",
      "[258 rows x 16 columns]\n"
     ]
    }
   ],
   "source": [
    "print(dec)"
   ]
  },
  {
   "cell_type": "code",
   "execution_count": 33,
   "metadata": {},
   "outputs": [],
   "source": [
    "season = dec.reset_index()\n",
    "\n",
    "densmld_1 = []; gmld_1 = []; gmld001_1 = []; gmld003_1 = []; diff_1 = []; yearlist_1 = []; diff_1_gmldminusobs = []; diff_1_gmld003minusobs = []\n",
    "densmld_2 = []; gmld_2 = []; gmld001_2 = []; gmld003_2 = []; diff_2 = []; yearlist_2 = []; diff_2_gmldminusobs = []; diff_2_gmld003minusobs = []\n",
    "densmld_3 = []; gmld_3 = []; gmld001_3 = []; gmld003_3 = []; diff_3 = []; yearlist_3 = []; diff_3_gmldminusobs = []; diff_3_gmld003minusobs = []\n",
    "densmld_4 = []; gmld_4 = []; gmld001_4 = []; gmld003_4 = []; diff_4 = []; yearlist_4 = []; diff_4_gmldminusobs = []; diff_4_gmld003minusobs = []\n",
    "densmld_5 = []; gmld_5 = []; gmld001_5 = []; gmld003_5 = []; diff_5 = []; yearlist_5 = []; diff_5_gmldminusobs = []; diff_5_gmld003minusobs = []\n",
    "\n",
    "newdf = pd.DataFrame({'lon': list(season['obs_lon']),'lat': list(season['obs_lat'])})\n",
    "# newdf = pd.DataFrame({'lon': list(season['lon']*-1),'lat': list(season['lat'])})\n",
    "for ii in (season['index']):\n",
    "    new = newdf.iloc[ii].values\n",
    "    point = Point(new)\n",
    "    if polygon_x.contains(point) == True and season['bottomdepth'][ii] <= 200:\n",
    "        densmld_1.append(season['003densmld'][ii])\n",
    "        gmld_1.append(season['glorys_mld'][ii])\n",
    "        gmld001_1.append(season['glorysmld_new001'][ii])\n",
    "        gmld003_1.append(season['glorysmld_new003'][ii])\n",
    "        yearlist_1.append(season['year'][ii])\n",
    "        diff_1_gmldminusobs.append(season['glorys_mld'][ii]-season['003densmld'][ii])\n",
    "        diff_1_gmld003minusobs.append(season['glorysmld_new003'][ii] - season['003densmld'][ii])\n",
    "    elif polygon_v.contains(point) == True and season['bottomdepth'][ii] <= 200:\n",
    "        densmld_2.append(season['003densmld'][ii])\n",
    "        gmld_2.append(season['glorys_mld'][ii])\n",
    "        gmld001_2.append(season['glorysmld_new001'][ii])\n",
    "        gmld003_2.append(season['glorysmld_new003'][ii])\n",
    "        yearlist_2.append(season['year'][ii])\n",
    "        diff_2_gmldminusobs.append(season['glorys_mld'][ii]-season['003densmld'][ii])\n",
    "        diff_2_gmld003minusobs.append(season['glorysmld_new003'][ii] - season['003densmld'][ii])\n",
    "    elif polygon_w.contains(point) == True:\n",
    "        densmld_3.append(season['003densmld'][ii])\n",
    "        gmld_3.append(season['glorys_mld'][ii])\n",
    "        gmld001_3.append(season['glorysmld_new001'][ii])\n",
    "        gmld003_3.append(season['glorysmld_new003'][ii])\n",
    "        yearlist_3.append(season['year'][ii])\n",
    "        diff_3_gmldminusobs.append(season['glorys_mld'][ii]-season['003densmld'][ii])\n",
    "        diff_3_gmld003minusobs.append(season['glorysmld_new003'][ii] - season['003densmld'][ii])\n",
    "    elif polygon_y.contains(point) == True:\n",
    "        densmld_4.append(season['003densmld'][ii])\n",
    "        gmld_4.append(season['glorys_mld'][ii])\n",
    "        gmld001_4.append(season['glorysmld_new001'][ii])\n",
    "        gmld003_4.append(season['glorysmld_new003'][ii])\n",
    "        yearlist_4.append(season['year'][ii])\n",
    "        diff_4_gmldminusobs.append(season['glorys_mld'][ii]-season['003densmld'][ii])\n",
    "        diff_4_gmld003minusobs.append(season['glorysmld_new003'][ii] - season['003densmld'][ii])\n",
    "    elif polygon_t.contains(point) == True:\n",
    "        densmld_5.append(season['003densmld'][ii])\n",
    "        gmld_5.append(season['glorys_mld'][ii])\n",
    "        gmld001_5.append(season['glorysmld_new001'][ii])\n",
    "        gmld003_5.append(season['glorysmld_new003'][ii])\n",
    "        yearlist_5.append(season['year'][ii])\n",
    "        diff_5_gmldminusobs.append(season['glorys_mld'][ii]-season['003densmld'][ii])\n",
    "        diff_5_gmld003minusobs.append(season['glorysmld_new003'][ii] - season['003densmld'][ii])"
   ]
  },
  {
   "cell_type": "code",
   "execution_count": 34,
   "metadata": {},
   "outputs": [
    {
     "name": "stdout",
     "output_type": "stream",
     "text": [
      "34.765625\n"
     ]
    }
   ],
   "source": [
    "print(np.nanmean(densmld_5))"
   ]
  },
  {
   "cell_type": "code",
   "execution_count": 25,
   "metadata": {},
   "outputs": [],
   "source": [
    "df1 = pd.DataFrame({'densmld': densmld_1,'gmld': gmld_1,'gmld001': gmld001_1, 'diff_gmldminusobs': diff_1_gmldminusobs,'diff_gmld003minusobs': diff_1_gmld003minusobs,'gmld003': gmld003_1,'year': yearlist_1})\n",
    "df2 = pd.DataFrame({'densmld': densmld_2,'gmld': gmld_2,'gmld001': gmld001_2, 'diff_gmldminusobs': diff_2_gmldminusobs,'diff_gmld003minusobs': diff_2_gmld003minusobs,'gmld003': gmld003_2,'year': yearlist_2})\n",
    "df3 = pd.DataFrame({'densmld': densmld_3,'gmld': gmld_3,'gmld001': gmld001_3, 'diff_gmldminusobs': diff_3_gmldminusobs,'diff_gmld003minusobs': diff_3_gmld003minusobs,'gmld003': gmld003_3,'year': yearlist_3})\n",
    "df4 = pd.DataFrame({'densmld': densmld_4,'gmld': gmld_4,'gmld001': gmld001_4, 'diff_gmldminusobs': diff_4_gmldminusobs,'diff_gmld003minusobs': diff_4_gmld003minusobs,'gmld003': gmld003_4,'year': yearlist_4})\n",
    "df5 = pd.DataFrame({'densmld': densmld_5,'gmld': gmld_5,'gmld001': gmld001_5, 'diff_gmldminusobs': diff_5_gmldminusobs,'diff_gmld003minusobs': diff_5_gmld003minusobs,'gmld003': gmld003_5,'year': yearlist_5})\n"
   ]
  },
  {
   "cell_type": "code",
   "execution_count": 26,
   "metadata": {},
   "outputs": [
    {
     "name": "stdout",
     "output_type": "stream",
     "text": [
      "43.09285714285714\n",
      "18.135559555970787\n",
      "47.95428108314264\n",
      "11.754930624691829\n"
     ]
    }
   ],
   "source": [
    "print(np.nanmean(df1['densmld']))\n",
    "print(np.nanstd(df1['densmld']))\n",
    "df_1grouped = (df1.groupby(['year']).mean())['densmld']\n",
    "print(np.nanmean(df_1grouped))\n",
    "print(np.nanstd(df_1grouped))"
   ]
  },
  {
   "cell_type": "code",
   "execution_count": 27,
   "metadata": {},
   "outputs": [],
   "source": [
    "df_1grouped = (df1.groupby(['year']).mean())['densmld']\n",
    "df_2grouped = (df2.groupby(['year']).mean())['densmld']\n",
    "df_3grouped = (df3.groupby(['year']).mean())['densmld']\n",
    "df_4grouped = (df4.groupby(['year']).mean())['densmld']\n",
    "df_5grouped = (df5.groupby(['year']).mean())['densmld']\n",
    "\n",
    "df_1grouped1 = np.nanmean(df_1grouped)\n",
    "df_2grouped2 = np.nanmean(df_2grouped)\n",
    "df_3grouped3 = np.nanmean(df_3grouped)\n",
    "df_4grouped4 = np.nanmean(df_4grouped)\n",
    "df_5grouped5 = np.nanmean(df_5grouped)\n",
    "\n",
    "df_1groupedstd = np.nanstd(df_1grouped)\n",
    "df_2groupedstd = np.nanstd(df_2grouped)\n",
    "df_3groupedstd = np.nanstd(df_3grouped)\n",
    "df_4groupedstd = np.nanstd(df_4grouped)\n",
    "df_5groupedstd = np.nanstd(df_5grouped)\n"
   ]
  },
  {
   "cell_type": "code",
   "execution_count": 28,
   "metadata": {},
   "outputs": [
    {
     "name": "stdout",
     "output_type": "stream",
     "text": [
      "year\n",
      "1993.0    42.466667\n",
      "1994.0    40.608696\n",
      "1995.0    56.842105\n",
      "2008.0    42.200000\n",
      "2009.0    31.562500\n",
      "2011.0    70.000000\n",
      "2012.0    52.000000\n",
      "Name: densmld, dtype: float64\n"
     ]
    }
   ],
   "source": [
    "print(df_1grouped)"
   ]
  },
  {
   "cell_type": "code",
   "execution_count": 460,
   "metadata": {},
   "outputs": [],
   "source": [
    "# df_1groupedstd = (df1.groupby(['year']).std())['densmld']\n",
    "# df_2groupedstd = (df2.groupby(['year']).std())['densmld']\n",
    "# df_3groupedstd = (df3.groupby(['year']).std())['densmld']\n",
    "# df_4groupedstd = (df4.groupby(['year']).std())['densmld']\n",
    "# df_5groupedstd = (df5.groupby(['year']).std())['densmld']\n",
    "\n",
    "# df_1groupedstd = np.nanmean(df_1groupedstd)\n",
    "# df_2groupedstd = np.nanmean(df_2groupedstd)\n",
    "# df_3groupedstd = np.nanmean(df_3groupedstd)\n",
    "# df_4groupedstd = np.nanmean(df_4groupedstd)\n",
    "# df_5groupedstd = np.nanmean(df_5groupedstd)"
   ]
  },
  {
   "cell_type": "code",
   "execution_count": 31,
   "metadata": {},
   "outputs": [
    {
     "name": "stdout",
     "output_type": "stream",
     "text": [
      "78.47011783874858\n",
      "11.754930624691829\n"
     ]
    }
   ],
   "source": [
    "print(df_5grouped5)\n",
    "print(df_1groupedstd)"
   ]
  },
  {
   "cell_type": "code",
   "execution_count": 462,
   "metadata": {},
   "outputs": [],
   "source": [
    "# smab = []\n",
    "# nmab = []\n",
    "# gb = []\n",
    "# wgom = []\n",
    "# egom = []"
   ]
  },
  {
   "cell_type": "code",
   "execution_count": 463,
   "metadata": {},
   "outputs": [],
   "source": [
    "# smabstd = []\n",
    "# nmabstd = []\n",
    "# gbstd = []\n",
    "# wgomstd = []\n",
    "# egomstd = []"
   ]
  },
  {
   "cell_type": "code",
   "execution_count": 464,
   "metadata": {},
   "outputs": [],
   "source": [
    "smab.append(df_2grouped2)\n",
    "nmab.append(df_1grouped1)\n",
    "gb.append(df_3grouped3)\n",
    "wgom.append(df_5grouped5)\n",
    "egom.append(df_4grouped4)"
   ]
  },
  {
   "cell_type": "code",
   "execution_count": 465,
   "metadata": {},
   "outputs": [],
   "source": [
    "smabstd.append(df_2groupedstd)\n",
    "nmabstd.append(df_1groupedstd)\n",
    "gbstd.append(df_3groupedstd)\n",
    "wgomstd.append(df_5groupedstd)\n",
    "egomstd.append(df_4groupedstd)"
   ]
  },
  {
   "cell_type": "code",
   "execution_count": 466,
   "metadata": {},
   "outputs": [
    {
     "name": "stdout",
     "output_type": "stream",
     "text": [
      "[40.94397781374525, 34.61609161057704, 22.476575602225218, 24.136890953996218, 7.91789786669169, 6.739732384497306, 6.938718287509077, 7.231172314059849, 10.1524329349834, 18.98999503968254, 21.34946051106202, nan]\n",
      "[6.364552953614028, 6.979038059108148, 5.889548259146783, 5.213661699753476, 2.630663685969752, 0.9940845478856649, 1.3311551007288387, 1.084616467437535, 1.2889461683615517, 7.126471967625479, 6.399262931537553, nan]\n",
      "\n",
      "[47.95428108314264, 38.39111098483736, 23.150570468604982, 27.75329761680694, 8.874135264603163, 8.936927838325142, 6.112160676226079, 7.312891275554213, 13.420082815394045, 21.67080080984377, 29.77278586235132, 37.3969696969697]\n",
      "[11.754930624691829, 10.061305838484161, 8.408922580594988, 7.743750487420244, 2.387197431465033, 3.9229208706373973, 0.8161136537954217, 1.8979866854439895, 4.439324312818671, 5.802721556811772, 7.232025682878207, 10.450751177961072]\n",
      "\n",
      "[44.69927365689866, 42.441091599998146, 45.48448753443097, 35.748133571743324, 22.993552576825614, 21.448191550364516, 8.309998368756913, 12.89967973336888, 17.87292238207037, 25.443396938457223, 33.39796881857627, 29.822018447018447]\n",
      "[11.863760527335655, 13.731475033149984, 8.241429336928896, 5.5604258548221175, 9.861330082267994, 7.702708991255266, 3.410182537652575, 2.487974726580832, 6.189757974290499, 5.024947673688074, 6.958931033449344, 10.062844576232598]\n",
      "\n",
      "[78.47011783874858, 71.10030172368411, 46.980435903965315, 22.081537472236974, 11.81159163177427, 9.108162199926408, 6.5276932323807335, 7.139193371397115, 12.911233799593596, 21.037857911166157, 29.13744823351575, 26.245197510822507]\n",
      "[22.89544475450366, 20.732589186539126, 24.587951604640136, 7.488159825316355, 5.836144273725155, 2.830905390175328, 1.549163387588525, 1.0852817042391274, 5.994534640482456, 4.478441957831122, 8.767000330128386, 12.3817773073622]\n",
      "\n",
      "[39.05299505007806, 42.86016062970398, 36.90424036281179, 22.32427437304246, 14.26580143369617, 9.237851679598794, 7.032485569985568, 7.3023851556348784, 14.294694344887004, 21.032975650187304, 28.06767952431907, 30.0]\n",
      "[11.028140814765338, 15.57114477751483, 10.4631217450631, 6.474066947112383, 4.160570462758169, 2.111365647014771, 1.7121743261061166, 1.209229834695007, 8.312548675878205, 6.8937951656415875, 7.356468927374565, 0.0]\n"
     ]
    }
   ],
   "source": [
    "print(smab)\n",
    "print(smabstd)\n",
    "print('')\n",
    "print(nmab)\n",
    "print(nmabstd)\n",
    "print('')\n",
    "print(gb)\n",
    "print(gbstd)\n",
    "print('')\n",
    "print(wgom)\n",
    "print(wgomstd)\n",
    "print('')\n",
    "print(egom)\n",
    "print(egomstd)"
   ]
  },
  {
   "cell_type": "code",
   "execution_count": 8,
   "metadata": {},
   "outputs": [],
   "source": [
    "import numpy as np"
   ]
  },
  {
   "cell_type": "code",
   "execution_count": 9,
   "metadata": {},
   "outputs": [],
   "source": [
    "smab = [40.94397781374525, 34.61609161057704, 22.476575602225218, 24.136890953996218, 7.91789786669169, 6.739732384497306, 6.938718287509077, 7.231172314059849, 10.1524329349834, 18.98999503968254, 21.34946051106202, np.nan]\n",
    "smabstd = [6.364552953614028, 6.979038059108148, 5.889548259146783, 5.213661699753476, 2.630663685969752, 0.9940845478856649, 1.3311551007288387, 1.084616467437535, 1.2889461683615517, 7.126471967625479, 6.399262931537553, np.nan]\n",
    "\n",
    "nmab = [47.95428108314264, 38.39111098483736, 23.150570468604982, 27.75329761680694, 8.874135264603163, 8.936927838325142, 6.112160676226079, 7.312891275554213, 13.420082815394045, 21.67080080984377, 29.77278586235132, 37.3969696969697]\n",
    "nmabstd = [11.754930624691829, 10.061305838484161, 8.408922580594988, 7.743750487420244, 2.387197431465033, 3.9229208706373973, 0.8161136537954217, 1.8979866854439895, 4.439324312818671, 5.802721556811772, 7.232025682878207, 10.450751177961072]\n",
    "\n",
    "gb = [44.69927365689866, 42.441091599998146, 45.48448753443097, 35.748133571743324, 22.993552576825614, 21.448191550364516, 8.309998368756913, 12.89967973336888, 17.87292238207037, 25.443396938457223, 33.39796881857627, 29.822018447018447]\n",
    "gbstd = [11.863760527335655, 13.731475033149984, 8.241429336928896, 5.5604258548221175, 9.861330082267994, 7.702708991255266, 3.410182537652575, 2.487974726580832, 6.189757974290499, 5.024947673688074, 6.958931033449344, 10.062844576232598]\n",
    "\n",
    "wgom = [78.47011783874858, 71.10030172368411, 46.980435903965315, 22.081537472236974, 11.81159163177427, 9.108162199926408, 6.5276932323807335, 7.139193371397115, 12.911233799593596, 21.037857911166157, 29.13744823351575, 26.245197510822507]\n",
    "wgomstd = [22.89544475450366, 20.732589186539126, 24.587951604640136, 7.488159825316355, 5.836144273725155, 2.830905390175328, 1.549163387588525, 1.0852817042391274, 5.994534640482456, 4.478441957831122, 8.767000330128386, 12.3817773073622]\n",
    "\n",
    "egom = [39.05299505007806, 42.86016062970398, 36.90424036281179, 22.32427437304246, 14.26580143369617, 9.237851679598794, 7.032485569985568, 7.3023851556348784, 14.294694344887004, 21.032975650187304, 28.06767952431907, 30.0]\n",
    "egomstd = [11.028140814765338, 15.57114477751483, 10.4631217450631, 6.474066947112383, 4.160570462758169, 2.111365647014771, 1.7121743261061166, 1.209229834695007, 8.312548675878205, 6.8937951656415875, 7.356468927374565, 0.0]"
   ]
  },
  {
   "cell_type": "code",
   "execution_count": 11,
   "metadata": {},
   "outputs": [
    {
     "name": "stdout",
     "output_type": "stream",
     "text": [
      "6.739732384497306\n",
      "6.112160676226079\n",
      "8.309998368756913\n",
      "6.5276932323807335\n",
      "7.032485569985568\n"
     ]
    }
   ],
   "source": [
    "print(np.nanmin(smab))\n",
    "print(np.nanmin(nmab))\n",
    "print(np.nanmin(gb),)\n",
    "print(np.nanmin(wgom))\n",
    "print(np.nanmin(egom))"
   ]
  },
  {
   "cell_type": "code",
   "execution_count": 467,
   "metadata": {},
   "outputs": [],
   "source": [
    "month = [1,2,3,4,5,6,7,8,9,10,11,12]"
   ]
  },
  {
   "cell_type": "code",
   "execution_count": 479,
   "metadata": {},
   "outputs": [
    {
     "data": {
      "image/png": "[encoded data removed]",
      "text/plain": [
       "<Figure size 720x720 with 1 Axes>"
      ]
     },
     "metadata": {
      "needs_background": "light"
     },
     "output_type": "display_data"
    }
   ],
   "source": [
    "plt.figure(figsize=(10,10))\n",
    "plt.figure(1)\n",
    "\n",
    "seasonal_cycle_full_mean = egom\n",
    "seasonal_cycle_full_std = egomstd\n",
    "plt.subplot(211)\n",
    "plt.ylim(0,100)\n",
    "plt.xlim(0.5,12.5)\n",
    "plt.plot(month, seasonal_cycle_full_mean, linestyle='-', color='darkblue', linewidth=3,alpha = 1, zorder= 30)\n",
    "plt.errorbar(month,seasonal_cycle_full_mean, seasonal_cycle_full_std,linestyle='None', marker='o',color='darkblue',alpha= 0.8, markersize=6, zorder = 30, linewidth=2)\n",
    "plt.fill_between(month, np.asarray(seasonal_cycle_full_mean) - np.asarray(seasonal_cycle_full_std), np.asarray(seasonal_cycle_full_mean) + np.asarray(seasonal_cycle_full_std),color = 'darkblue', alpha = 0.1,zorder = 30)\n",
    "\n",
    "# plt.plot(month, seasonal_cycle_inter_mean, linestyle='-', color='red', linewidth=3,alpha = 0.6, zorder= 30)\n",
    "# plt.errorbar(month,seasonal_cycle_inter_mean, seasonal_cycle_inter_std,linestyle='None', marker='o',color='red',alpha= 0.7, markersize=6, zorder = 30,linewidth = 2)\n",
    "# plt.fill_between(month, np.asarray(seasonal_cycle_inter_mean) - np.asarray(seasonal_cycle_inter_std), np.asarray(seasonal_cycle_inter_mean) + np.asarray(seasonal_cycle_inter_std),color = 'red', alpha = 0.1,zorder = 30)\n",
    "\n",
    "# plt.xlabel('Month', fontsize = 20)\n",
    "plt.ylabel('MLD (m)', fontsize = 20)\n",
    "plt.xticks([1,2,3,4,5,6,7,8,9,10,11,12], fontsize = 15) \n",
    "plt.yticks([0,20,40,60,80,100], fontsize = 15) \n",
    "mpl.rcParams['axes.linewidth'] = 2\n",
    "# plt.axhline(y=0, color='black', linestyle='-',alpha = 0.5)\n",
    "plt.text(10.25, 75, 'EGOM', dict(size=30))\n",
    "plt.grid(b=True, which='both', color='black', linestyle='--',alpha = 0.6)\n",
    "plt.savefig('seasonal_WGOM')\n",
    "plt.show()"
   ]
  },
  {
   "cell_type": "code",
   "execution_count": 295,
   "metadata": {},
   "outputs": [
    {
     "name": "stdout",
     "output_type": "stream",
     "text": [
      "12\n"
     ]
    }
   ],
   "source": [
    "print(len(egom))"
   ]
  },
  {
   "cell_type": "code",
   "execution_count": 2054,
   "metadata": {},
   "outputs": [],
   "source": [
    "smab = [-0.5237974321726477, -5.923402629618533, -4.9053157346955905, -10.475637041938578, 2.4736326874268086, 3.9908501112927937, 3.633665337211152, 3.4490704589513106, 1.852470608539648, -0.7702183046571344, -0.46074382896176047, nan]\n",
    "\n",
    "nmab = [-5.680802114986608, -10.385178193139193, -8.189534993794286, -11.187802637147744, 1.9163980846315287, 1.5738505340675832, 4.4065181498280115, 3.3190385742194515, -0.741836097540045, -3.0524497902213117, -4.148720868933391, -1.0967099995536593]\n",
    "\n",
    "gb = [-2.513131838442496, -5.216003101018307, -17.34409173286621, -16.70925377468286, -11.930763544035914, -10.770335414025192, 2.218780764459569, -2.159877098574277, -3.6662312033518716, -3.820301258410039, 0.8489058908926134, 1.1697691501712617]\n",
    "\n",
    "wgom = [-11.351977490861438, -13.82275252309426, -11.977005526673032, -8.275405054284624, -0.850949710067131, 1.5561708871077007, 3.9984109744594636, 3.4153809668231907, -0.9320719086845198, -0.2976587087316138, 1.0991317623093597, 5.786182794220003]\n",
    "\n",
    "egom =[-0.28412934352625363, -0.9615691508938302, -9.5919890580426, -6.624576034540836, -2.292037353778156, 1.403577383672453, 3.4964002713840574, 3.2620840266457654, -2.4217268190324455, 0.36308611881264635, 5.505446447438345, 12.603841400146484]"
   ]
  },
  {
   "cell_type": "code",
   "execution_count": 2060,
   "metadata": {},
   "outputs": [
    {
     "name": "stdout",
     "output_type": "stream",
     "text": [
      "-0.6963114335111389\n",
      "-2.7722691127141386\n",
      "-5.8243777633236435\n",
      "-2.6377119614564077\n",
      "0.3715339906904691\n"
     ]
    }
   ],
   "source": [
    "print(np.nanmean(smab))\n",
    "print(np.nanmean(nmab))\n",
    "print(np.nanmean(gb))\n",
    "print(np.nanmean(wgom))\n",
    "print(np.nanmean(egom))"
   ]
  },
  {
   "cell_type": "code",
   "execution_count": 2055,
   "metadata": {},
   "outputs": [],
   "source": [
    "month = [1,2,3,4,5,6,7,8,9,10,11,12]"
   ]
  },
  {
   "cell_type": "code",
   "execution_count": 2057,
   "metadata": {},
   "outputs": [
    {
     "data": {
      "image/png": "[encoded data removed]",
      "text/plain": [
       "<Figure size 1296x432 with 1 Axes>"
      ]
     },
     "metadata": {
      "needs_background": "light"
     },
     "output_type": "display_data"
    }
   ],
   "source": [
    "plt.figure(figsize=(18,6))\n",
    "plt.figure(1)\n",
    "\n",
    "plt.ylim(-20,25)\n",
    "plt.xlim(0.5,12.5)\n",
    "\n",
    "plt.plot(month, wgom, linestyle='-', color='tab:purple', linewidth=5,alpha = 0.5, zorder= 30, label='WGOM')\n",
    "# plt.fill_between(month, np.asarray(meandiff_WGOM) - np.asarray(stddiff_WGOM ), np.asarray(meandiff_WGOM) + np.asarray(stddiff_WGOM ),color = 'tab:purple', alpha = 0.1,zorder = 30)\n",
    "\n",
    "plt.plot(month, egom, linestyle='-', color='tab:red', linewidth=5,alpha = 0.5, zorder= 30,label='EGOM')\n",
    "# plt.fill_between(month, np.asarray(meandiff_EGOM) - np.asarray(stddiff_EGOM ), np.asarray(meandiff_EGOM) + np.asarray(stddiff_EGOM ),color = 'tab:red', alpha = 0.1,zorder = 30)\n",
    "\n",
    "plt.plot(month, gb, linestyle='-', color='tab:blue', linewidth=5,alpha = 0.5, zorder= 30,label='GB')\n",
    "# plt.fill_between(month, np.asarray(meandiff_GB) - np.asarray(stddiff_GB ), np.asarray(meandiff_GB) + np.asarray(stddiff_GB),color = 'tab:blue', alpha = 0.1,zorder = 30)\n",
    "\n",
    "plt.plot(month, nmab, linestyle='-', color='tab:green', linewidth=5,alpha =0.5, zorder= 30,label='NMAB')\n",
    "# plt.fill_between(month, np.asarray(meandiff_NMAB) - np.asarray(stddiff_NMAB ), np.asarray(meandiff_NMAB) + np.asarray(stddiff_NMAB),color = 'tab:green', alpha = 0.1,zorder = 30)\n",
    "\n",
    "plt.plot(month, smab, linestyle='-', color='tab:orange', linewidth=5,alpha = 0.5, zorder= 30,label='SMAB')\n",
    "# plt.fill_between(month, np.asarray(meandiff_SMAB) - np.asarray(stddiff_SMAB ), np.asarray(meandiff_SMAB) + np.asarray(stddiff_SMAB),color = 'tab:orange', alpha = 0.1,zorder = 30)\n",
    "\n",
    "plt.xlabel('Month', fontsize = 20)\n",
    "plt.ylabel('MLD (m)', fontsize = 20)\n",
    "plt.xticks([1,2,3,4,5,6,7,8,9,10,11,12], fontsize = 15) \n",
    "plt.yticks([-20,-15,-10,-5,0,5,10,15,20,25], fontsize = 15) \n",
    "mpl.rcParams['axes.linewidth'] = 2\n",
    "plt.axhline(y=0, color='black', linestyle='-',alpha = 0.5)\n",
    "plt.grid(b=True, which='both', color='black', linestyle='--',alpha = 0.6)\n",
    "# plt.savefig('seasonal_SMAB')\n",
    "plt.legend(fontsize = 15)\n",
    "plt.text(11.5, -15, '(a)', dict(size=40))\n",
    "\n",
    "\n",
    "plt.savefig('diff_seasonalcycle-gmld-obs')\n",
    "\n",
    "\n",
    "\n",
    "plt.show()"
   ]
  },
  {
   "cell_type": "code",
   "execution_count": 1856,
   "metadata": {},
   "outputs": [],
   "source": [
    "import scipy.stats"
   ]
  },
  {
   "cell_type": "code",
   "execution_count": 1857,
   "metadata": {},
   "outputs": [
    {
     "name": "stdout",
     "output_type": "stream",
     "text": [
      "2440\n",
      "1541\n",
      "63.15573770491803\n"
     ]
    }
   ],
   "source": [
    "df = pd.DataFrame({'densmld': densmld_1,'gmld': gmld_1,'gmld001': gmld001_1, 'gmld003': gmld003_1,'year': yearlist_1})\n",
    "df_droppedna = df.dropna(subset = ['gmld001'])\n",
    "print(len(df))\n",
    "print(len(df_droppedna))\n",
    "\n",
    "print(100*len(df_droppedna)/len(df))"
   ]
  },
  {
   "cell_type": "code",
   "execution_count": 1858,
   "metadata": {},
   "outputs": [
    {
     "name": "stdout",
     "output_type": "stream",
     "text": [
      "          densmld       gmld    gmld001    gmld003\n",
      "year                                              \n",
      "1993.0  13.968085  10.769138   9.549407  10.215986\n",
      "1994.0  15.926606  11.630632  13.494441  13.468220\n",
      "1995.0  23.024390  15.676877  14.120084  22.221258\n",
      "1996.0  23.227273  14.591085  19.283139  21.564264\n",
      "1997.0  27.595745  18.556582  20.903598  26.186792\n",
      "1998.0  37.289474  21.192295  28.956820  33.827203\n",
      "1999.0  24.113636  12.473554  11.318715  17.147631\n",
      "2000.0  17.888889  11.907871  16.777750  17.205054\n",
      "2001.0  28.387755  18.349656  23.432053  26.109697\n",
      "2002.0  31.027523  21.432954  29.520948  26.744008\n",
      "2003.0  15.653846  12.677389  14.236431  18.193675\n",
      "2004.0  40.000000  18.358370  30.641715  38.286173\n",
      "2005.0  27.513514  16.298535  19.683180  22.495128\n",
      "2006.0  27.614754  22.143022  23.570209  27.776752\n",
      "2007.0  25.068182  18.708557  26.341668  26.733335\n",
      "2008.0  20.814815  12.054812  16.584780  19.369334\n",
      "2009.0  36.950495  20.610571  22.750022  29.889753\n",
      "2010.0  16.029412  12.804310   7.267806  15.137206\n",
      "2011.0  26.274510  15.929466  19.231191  22.118884\n",
      "2012.0  21.744186  11.746078  13.585406  17.755999\n",
      "2013.0  26.518519  11.879613  10.965425  15.696874\n",
      "2014.0  37.807692  27.595777  28.883958  36.178346\n",
      "2015.0  26.072289  11.802942  10.933419  12.610039\n",
      "2017.0  35.307692  10.517148   7.185087   9.024602\n",
      "2018.0   9.500000  11.686046   9.572997   9.775869\n",
      "25\n",
      "25.41277122365774\n",
      "7.889926833169423\n",
      "\n",
      "15.655731256913544\n",
      "4.4177853719892415\n",
      "\n",
      "17.951609939194537\n",
      "7.1811981216776655\n",
      "\n",
      "21.42928326388038\n",
      "7.909111612940272\n"
     ]
    }
   ],
   "source": [
    "df_grouped = df.groupby(['year']).mean()\n",
    "df_groupedstd = df.groupby(['year']).std()\n",
    "\n",
    "\n",
    "# print (df.groupby('year').mean().std(axis=1))\n",
    "\n",
    "print(df_grouped)\n",
    "print(len(df_grouped))\n",
    "print(np.nanmean(df_grouped['densmld']))\n",
    "print(np.nanstd(df_grouped['densmld']))\n",
    "print('')\n",
    "print(np.nanmean(df_grouped['gmld']))\n",
    "print(np.nanstd(df_grouped['gmld']))\n",
    "print('')\n",
    "print(np.nanmean(df_grouped['gmld001']))\n",
    "print(np.nanstd(df_grouped['gmld001']))\n",
    "print('')\n",
    "print(np.nanmean(df_grouped['gmld003']))\n",
    "print(np.nanstd(df_grouped['gmld003']))"
   ]
  },
  {
   "cell_type": "code",
   "execution_count": 1859,
   "metadata": {},
   "outputs": [
    {
     "name": "stdout",
     "output_type": "stream",
     "text": [
      "          densmld       gmld    gmld001    gmld003\n",
      "year                                              \n",
      "1993.0   6.775116   1.970151   5.552812   5.474185\n",
      "1994.0  10.382238   2.956719   5.682688   6.672407\n",
      "1995.0  12.564808   6.622311   7.908075  12.366551\n",
      "1996.0  18.550385   6.077870  12.082476  16.344970\n",
      "1997.0  17.215848   8.055355   9.245054  12.367332\n",
      "1998.0  23.618836  13.171341  21.155492  22.225591\n",
      "1999.0  14.332820   2.998774   4.512475  10.087495\n",
      "2000.0   9.656604   3.645609   6.203195  10.479025\n",
      "2001.0  22.171140  11.086317  17.123072  19.976864\n",
      "2002.0  18.959733  17.042861  22.598671  22.001436\n",
      "2003.0  14.051692   4.259002   9.587268   8.439889\n",
      "2004.0  25.045697   9.306361  17.979688  19.874054\n",
      "2005.0  15.937300  10.263408  16.791853  15.663295\n",
      "2006.0  12.519371  10.525603  11.527780  14.730575\n",
      "2007.0  17.475039  10.728472  17.513921  18.478271\n",
      "2008.0  11.836502   1.861379   9.029862  13.374781\n",
      "2009.0  24.843662   7.067664   8.663116  11.182393\n",
      "2010.0  11.705508   6.146614   0.746810  14.927512\n",
      "2011.0  16.899562   8.519154  11.399551  13.190673\n",
      "2012.0  16.178824   2.392748   6.042414   9.284523\n",
      "2013.0  19.892908   3.310776   5.867238  11.687990\n",
      "2014.0  20.444450  14.751556  17.243617  20.406065\n",
      "2015.0  14.743980   5.134088   9.321472  11.629577\n",
      "2017.0  18.037226   0.041467   0.795875   2.319355\n",
      "2018.0   3.575277   2.133886   0.000000   4.754667\n"
     ]
    }
   ],
   "source": [
    "print(df_groupedstd)"
   ]
  },
  {
   "cell_type": "code",
   "execution_count": 1860,
   "metadata": {},
   "outputs": [
    {
     "name": "stdout",
     "output_type": "stream",
     "text": [
      "[15.926605504587156, 23.024390243902438, 23.227272727272727, 27.595744680851062, 37.28947368421053, 24.113636363636363, 17.88888888888889, 28.387755102040817, 31.027522935779817, 15.653846153846153, 40.0, 27.513513513513512, 27.614754098360656, 25.068181818181817, 20.814814814814813, 36.95049504950495, 16.029411764705884, 26.274509803921568, 21.74418604651163, 26.51851851851852, 37.80769230769231, 26.072289156626507, 35.30769230769231, 9.5, 13.96808510638298]\n",
      "-0.0888916286611305\n",
      "-0.05898677312866824\n",
      "24.739195991008085\n",
      "*** 0.6805047964657678\n",
      "0.00018158494587500307\n",
      "4.4286024256213565\n"
     ]
    }
   ],
   "source": [
    "one_first = list(df_grouped['densmld'])\n",
    "one = list(df_grouped['densmld'])\n",
    "a = one[0]\n",
    "one.pop(0)\n",
    "one.append(a)\n",
    "print(one)\n",
    "cor1_auto = np.corrcoef(one_first,one)[0][1]\n",
    "print(cor1_auto)\n",
    "two_second = list(df_grouped['gmld'])\n",
    "two = list(df_grouped['gmld'])\n",
    "b = two[0]\n",
    "two.pop(0)\n",
    "two.append(b)\n",
    "cor2_auto = np.corrcoef(two_second,two)[0][1]\n",
    "print(cor2_auto)\n",
    "number = len(df_grouped)\n",
    "Nedof = number*(1-cor2_auto*cor1_auto)/(1+cor2_auto*cor1_auto)\n",
    "print(Nedof)\n",
    "\n",
    "correlation, p_value = scipy.stats.pearsonr(one_first, two_second)\n",
    "print('***',correlation)\n",
    "print(p_value)\n",
    "\n",
    "t_test = correlation*((Nedof-2)/(1-correlation*correlation))**(1/2)\n",
    "print(t_test)\n",
    "\n",
    "# stats.t.ppf "
   ]
  },
  {
   "cell_type": "code",
   "execution_count": 1861,
   "metadata": {},
   "outputs": [
    {
     "name": "stdout",
     "output_type": "stream",
     "text": [
      "5.286066470422004 48 1.6772241953450393 3.023181751826698e-06\n",
      "Reject the null hypothesis that the means are equal.\n"
     ]
    }
   ],
   "source": [
    "from math import * ; from numpy import *; from scipy import *\n",
    "import scipy.stats\n",
    "# calculate means\n",
    "data1 = one_first; data2 = two_second\n",
    "mean1, mean2 = mean(data1), mean(data2)\n",
    "\n",
    "# calculate sample standard deviations\n",
    "std1, std2 = std(data1, ddof=1), std(data2, ddof=1)\n",
    "\n",
    "# calculate standard errors\n",
    "n1, n2 = len(data1), len(data2)\n",
    "se1, se2 = std1/sqrt(n1), std2/sqrt(n2)\n",
    "\n",
    "# standard error on the difference between the samples\n",
    "sed = sqrt(se1**2.0 + se2**2.0)\n",
    "\n",
    "# calculate the t statistic\n",
    "t_stat = (mean1 - mean2) / sed\n",
    "\n",
    "# degrees of freedom\n",
    "df = n1 + n2 - 2\n",
    "\n",
    "# calculate the critical value\n",
    "alpha = 0.05\n",
    "cv = scipy.stats.t.ppf(1.0 - alpha, df)\n",
    "\n",
    "# calculate the p-value\n",
    "p = (1 - scipy.stats.t.cdf(abs(t_stat), df)) * 2\n",
    "\n",
    "print(t_stat, df, cv, p)\n",
    "\n",
    "if p > alpha:\n",
    "    print('Accept null hypothesis that the means are equal.')\n",
    "else:\n",
    "    print('Reject the null hypothesis that the means are equal.')"
   ]
  },
  {
   "cell_type": "code",
   "execution_count": 1862,
   "metadata": {},
   "outputs": [],
   "source": [
    "years = [1993,1994,1995,1996,1997,1998,1999,2000,2001,2002,2003,2004,2005,2006,2007,\n",
    "        2008,2009,2010,2011,2012,2013,2014,2015,2016,2017,2018]"
   ]
  },
  {
   "cell_type": "code",
   "execution_count": 1863,
   "metadata": {},
   "outputs": [
    {
     "data": {
      "image/png": "[encoded data removed]",
      "text/plain": [
       "<Figure size 1080x432 with 1 Axes>"
      ]
     },
     "metadata": {
      "needs_background": "light"
     },
     "output_type": "display_data"
    }
   ],
   "source": [
    "fig = plt.subplots(figsize = (15,6))\n",
    "plt.ylim(0,70)\n",
    "plt.xlim(1992,2019)\n",
    "\n",
    "\n",
    "plt.plot(df_grouped.index, df_grouped['densmld'], color='blue',linewidth=2,alpha=0.8)\n",
    "plt.fill_between(df_grouped.index, np.asarray(df_grouped['densmld']) - np.asarray(df_groupedstd['densmld']), np.asarray(df_grouped['densmld']) + np.asarray(df_groupedstd['densmld']),color = 'blue', alpha = 0.05)\n",
    "\n",
    "plt.plot(df_grouped.index, df_grouped['gmld'], color='red',linewidth=2,alpha=0.8)\n",
    "plt.fill_between(df_grouped.index, np.asarray(df_grouped['gmld']) - np.asarray(df_groupedstd['gmld']), np.asarray(df_grouped['gmld']) + np.asarray(df_groupedstd['gmld']),color = 'red', alpha = 0.05)\n",
    "\n",
    "plt.plot(df_grouped.index, df_grouped['gmld003'], color='green',linewidth=2,alpha=0.8)\n",
    "plt.fill_between(df_grouped.index, np.asarray(df_grouped['gmld003']) - np.asarray(df_groupedstd['gmld003']), np.asarray(df_grouped['gmld003']) + np.asarray(df_groupedstd['gmld003']),color = 'green', alpha = 0.05)\n",
    "\n",
    "plt.yticks([0,10,20,30,40,50,60,70], fontsize = 15)\n",
    "plt.ylabel('Mixed layer depth (m)', fontsize = 20)\n",
    "plt.xticks(years, rotation = 90, fontsize = 15) \n",
    "\n",
    "plt.grid(b=True, which='both', color='black', linestyle='--',alpha = 0.3)\n",
    "mpl.rcParams['axes.linewidth'] = 2\n",
    "\n",
    "\n",
    "plt.text(2012.2, 62, 'Spring, NMAB', dict(size=25))\n",
    "plt.savefig('spring_nmab_intervar')\n",
    "\n",
    "\n",
    "plt.show()"
   ]
  },
  {
   "cell_type": "code",
   "execution_count": 1596,
   "metadata": {},
   "outputs": [
    {
     "name": "stdout",
     "output_type": "stream",
     "text": [
      "**** 0.49690184137080945\n",
      "2.1680332157854013e-48\n"
     ]
    }
   ],
   "source": [
    "correlation, p_value = scipy.stats.pearsonr(df_droppedna['densmld'], df_droppedna['gmld'])\n",
    "# correlation, p_value = scipy.stats.pearsonr(df_droppedna['densmld'], df_droppedna['gmld001'])\n",
    "print('****',correlation)\n",
    "print(p_value)"
   ]
  },
  {
   "cell_type": "code",
   "execution_count": 2063,
   "metadata": {},
   "outputs": [],
   "source": [
    "winter_season_use['gmldminusobs_diff'] = winter_season_use['gmld'].sub(winter_season_use['003mld'], axis = 0) \n",
    "spring_season_use['gmldminusobs_diff'] = spring_season_use['gmld'].sub(spring_season_use['003mld'], axis = 0) \n",
    "summer_season_use['gmldminusobs_diff'] = summer_season_use['gmld'].sub(summer_season_use['003mld'], axis = 0) \n",
    "fall_season_use['gmldminusobs_diff'] = fall_season_use['gmld'].sub(fall_season_use['003mld'], axis = 0) "
   ]
  },
  {
   "cell_type": "code",
   "execution_count": 2066,
   "metadata": {},
   "outputs": [],
   "source": [
    "from scipy.interpolate import griddata"
   ]
  },
  {
   "cell_type": "code",
   "execution_count": 2119,
   "metadata": {},
   "outputs": [],
   "source": [
    "import numpy as np\n",
    "from matplotlib.path import Path\n",
    "\n",
    "nx = np.arange(-76,-65,0.5)\n",
    "ny = np.arange(35,46,0.5)\n",
    "\n",
    "poly_verts_w = df_w_plottable.values \n",
    "poly_verts_v = df_v_plottable.values \n",
    "poly_verts_x = df_x_plottable.values \n",
    "poly_verts_y = df_y_plottable.values \n",
    "poly_verts_t = df_t_plottable.values \n",
    "\n",
    "full_pandas = df_w_plottable.append(df_v_plottable)\n",
    "full_pandas = full_pandas.append(df_x_plottable)\n",
    "full_pandas = full_pandas.append(df_y_plottable)\n",
    "full_pandas = full_pandas.append(df_t_plottable)\n",
    "poly_verts_full = full_pandas.values\n",
    "\n",
    "newlon = [-69.5,-68,-67.5, -67, -66.5, -66, -65.7, -66,-66, -66.5, -67,\n",
    "         -68, -69, -70,-70.5, -70.5,-69.5, -72, -74, -74.25, -76, -75.5, -75, -74.75, -74.5, -72, -71.4, -69.5]\n",
    "newlat = [40,40.3,40.4, 40.6, 40.8, 41.45, 41.8, 42.1, 43, 44.2, 44.2, 44.2, 43.9, 43.7,\n",
    "         43, 42.2, 41, 41, 40.5, 39.4, 37, 36, 35.5, 36, 37.4, 39.5, 40, 40]\n",
    "newpath = list(zip(newlon,newlat))\n",
    "newpd = pd.DataFrame(newpath, columns=['lon','lat'])\n",
    "path_new = Path(newpath)\n",
    "\n",
    "x, y = np.meshgrid(nx, ny)\n",
    "x, y = x.flatten(), y.flatten()\n",
    "\n",
    "points = np.vstack((x,y)).T\n",
    "\n",
    "path_w = Path(poly_verts_w)\n",
    "path_v = Path(poly_verts_v)\n",
    "path_x = Path(poly_verts_x)\n",
    "path_y = Path(poly_verts_y)\n",
    "path_t = Path(poly_verts_t)\n",
    "path_full = Path(poly_verts_full)\n",
    "\n",
    "grid = path_new.contains_points(points) \n",
    "grid = grid.reshape((22,22))"
   ]
  },
  {
   "cell_type": "code",
   "execution_count": 2120,
   "metadata": {},
   "outputs": [],
   "source": [
    "x = fall_season_use['lon']\n",
    "y = fall_season_use['lat']\n",
    "z = fall_season_use['gmldminusobs_diff']\n",
    "    \n",
    "xi = np.arange(-76,-65,0.5)\n",
    "yi = np.arange(35,46,0.5)\n",
    "\n",
    "xi,yi = np.meshgrid(xi,yi)\n",
    "    \n",
    "zi = griddata((x,y),z,(xi,yi),method='linear')\n",
    "    \n",
    "zi = zi.reshape((22,22)) ###"
   ]
  },
  {
   "cell_type": "code",
   "execution_count": 2121,
   "metadata": {},
   "outputs": [
    {
     "data": {
      "text/plain": [
       "<matplotlib.image.AxesImage at 0xd1d4df0f0>"
      ]
     },
     "execution_count": 2121,
     "metadata": {},
     "output_type": "execute_result"
    },
    {
     "data": {
      "image/png": "[encoded data removed]",
      "text/plain": [
       "<Figure size 432x288 with 1 Axes>"
      ]
     },
     "metadata": {
      "needs_background": "light"
     },
     "output_type": "display_data"
    }
   ],
   "source": [
    "fig = plt.figure()\n",
    "ax = fig.add_subplot(111)\n",
    "ax.imshow(zi)"
   ]
  },
  {
   "cell_type": "code",
   "execution_count": 2122,
   "metadata": {},
   "outputs": [
    {
     "name": "stderr",
     "output_type": "stream",
     "text": [
      "/anaconda3/lib/python3.7/site-packages/ipykernel_launcher.py:1: RuntimeWarning: Mean of empty slice\n",
      "  \"\"\"Entry point for launching an IPython kernel.\n"
     ]
    }
   ],
   "source": [
    "newmeangridnew = np.nanmean([zi],axis = 0)"
   ]
  },
  {
   "cell_type": "code",
   "execution_count": 2123,
   "metadata": {},
   "outputs": [
    {
     "data": {
      "text/plain": [
       "<matplotlib.image.AxesImage at 0xd261be438>"
      ]
     },
     "execution_count": 2123,
     "metadata": {},
     "output_type": "execute_result"
    },
    {
     "data": {
      "image/png": "[encoded data removed]",
      "text/plain": [
       "<Figure size 432x288 with 1 Axes>"
      ]
     },
     "metadata": {
      "needs_background": "light"
     },
     "output_type": "display_data"
    }
   ],
   "source": [
    "fig = plt.figure()\n",
    "ax = fig.add_subplot(111)\n",
    "ax.imshow(newmeangridnew)"
   ]
  },
  {
   "cell_type": "code",
   "execution_count": 2124,
   "metadata": {},
   "outputs": [],
   "source": [
    "griddednewlate = np.where(grid == True, newmeangridnew, grid)"
   ]
  },
  {
   "cell_type": "code",
   "execution_count": 2125,
   "metadata": {},
   "outputs": [
    {
     "data": {
      "text/plain": [
       "<matplotlib.image.AxesImage at 0xd270d5ba8>"
      ]
     },
     "execution_count": 2125,
     "metadata": {},
     "output_type": "execute_result"
    },
    {
     "data": {
      "image/png": "[encoded data removed]",
      "text/plain": [
       "<Figure size 432x288 with 1 Axes>"
      ]
     },
     "metadata": {
      "needs_background": "light"
     },
     "output_type": "display_data"
    }
   ],
   "source": [
    "fig = plt.figure()\n",
    "ax = fig.add_subplot(111)\n",
    "ax.imshow(griddednewlate)"
   ]
  },
  {
   "cell_type": "code",
   "execution_count": 2126,
   "metadata": {},
   "outputs": [],
   "source": [
    "d = np.where(np.isnan(griddednewlate), 0, griddednewlate)"
   ]
  },
  {
   "cell_type": "code",
   "execution_count": 2127,
   "metadata": {},
   "outputs": [
    {
     "data": {
      "text/plain": [
       "<matplotlib.image.AxesImage at 0xd27f1a4e0>"
      ]
     },
     "execution_count": 2127,
     "metadata": {},
     "output_type": "execute_result"
    },
    {
     "data": {
      "image/png": "[encoded data removed]",
      "text/plain": [
       "<Figure size 432x288 with 1 Axes>"
      ]
     },
     "metadata": {
      "needs_background": "light"
     },
     "output_type": "display_data"
    }
   ],
   "source": [
    "fig = plt.figure()\n",
    "ax = fig.add_subplot(111)\n",
    "ax.imshow(d)"
   ]
  },
  {
   "cell_type": "code",
   "execution_count": 2128,
   "metadata": {},
   "outputs": [
    {
     "name": "stdout",
     "output_type": "stream",
     "text": [
      "24.609914445071873\n",
      "-30.34655742276783\n"
     ]
    }
   ],
   "source": [
    "print(np.nanmax(d))\n",
    "print(np.nanmin(d))"
   ]
  },
  {
   "cell_type": "code",
   "execution_count": 2129,
   "metadata": {},
   "outputs": [],
   "source": [
    "file_in ='Etopo1_Bed_35_65N_40_80W.nc'\n",
    "NC=Dataset(file_in); DS=xr.open_dataset(file_in)\n",
    "projection= ccrs.PlateCarree(central_longitude=255);\n",
    "data_crs = ccrs.PlateCarree()\n",
    "\n",
    "latNC= NC['lat'][:]\n",
    "lonNC= NC['lon'][:]\n",
    "depthNC= NC['depth'][:]"
   ]
  },
  {
   "cell_type": "code",
   "execution_count": 2134,
   "metadata": {},
   "outputs": [
    {
     "data": {
      "image/png": "[encoded data removed]",
      "text/plain": [
       "<Figure size 864x576 with 2 Axes>"
      ]
     },
     "metadata": {
      "needs_background": "light"
     },
     "output_type": "display_data"
    }
   ],
   "source": [
    "from matplotlib.pyplot import * ; import cartopy.feature as cfeature\n",
    "\n",
    "plt.figure(figsize=(12, 8))\n",
    "ax = plt.axes(projection=ccrs.PlateCarree())\n",
    "ax.set_extent([-75.75, -65.75, 35, 44.75], ccrs.PlateCarree())\n",
    "\n",
    "gl = ax.gridlines(crs=ccrs.PlateCarree(), draw_labels=True,linewidth=1, color='black', alpha=0.2, linestyle='--', zorder = 20)\n",
    "gl.xlabels_top = False\n",
    "gl.ylabels_left = True\n",
    "gl.ylabels_right = False\n",
    "gl.xformatter = LONGITUDE_FORMATTER\n",
    "gl.yformatter = LATITUDE_FORMATTER\n",
    "gl.xlabel_style = {'size': 12, 'color': 'black'}\n",
    "gl.ylabel_style = {'size': 12, 'color': 'black'}\n",
    "\n",
    "plt.text(-68.85, 35.85, 'Fall', dict(size=30))\n",
    "# cmap=plt.cm.get_cmap('Blues', 150)\n",
    "# cf = plt.contourf(xi,yi,d, np.arange(0, 1.02,0.01), cmap = cmap)\n",
    "cf = plt.contourf(xi,yi,d, np.arange(-105, 105,0.5), cmap = 'seismic_r')\n",
    "ax.contour(lonNC, latNC, depthNC, [-300,-200,-100], linewidths=1,colors='black', alpha = 1,zorder=5) #alpha = 0.7\n",
    "ax.contour(lonNC, latNC, depthNC, [-75,-50,-25], linewidths=0.5,colors='black',zorder=5)\n",
    "\n",
    "feature = cfeature.NaturalEarthFeature(name='coastline', category='physical',scale='50m',edgecolor='black', facecolor='dimgray')\n",
    "ax.add_feature(feature,zorder=10)\n",
    "cbar = plt.colorbar(cf, ticks=[-100,-75,-50,-25,0,25,50,75,100], orientation='vertical')\n",
    "cbar.ax.set_xticklabels([-100,-75,-50,-25,0,25,50,75,100])\n",
    "\n",
    "\n",
    "\n",
    "# cbar = plt.colorbar(cf, ticks=[-80,-60,-40,-20,0,20,40,60,80], orientation='vertical')\n",
    "# cbar.ax.set_xticklabels([-80,-60,-40,-20,0,20,40,60,80])\n",
    "# # # cbar = plt.colorbar(cf, ax=ax)\n",
    "# cbar.ax.get_yaxis().labelpad = 20\n",
    "cbar.ax.set_ylabel('MLD (m)', rotation=270, fontsize = 15)\n",
    "# # # # cbar.set_ticks([0,10,20,30,40,50,60,70,80,90,100,110,120,130,140])\n",
    "cbar.ax.tick_params(labelsize=12)\n",
    "\n",
    "# plt.savefig('Fall_34')\n",
    "\n",
    "plt.show()"
   ]
  },
  {
   "cell_type": "code",
   "execution_count": null,
   "metadata": {},
   "outputs": [],
   "source": []
  }
 ],
 "metadata": {
  "kernelspec": {
   "display_name": "Python 3",
   "language": "python",
   "name": "python3"
  },
  "language_info": {
   "codemirror_mode": {
    "name": "ipython",
    "version": 3
   },
   "file_extension": ".py",
   "mimetype": "text/x-python",
   "name": "python",
   "nbconvert_exporter": "python",
   "pygments_lexer": "ipython3",
   "version": "3.7.1"
  }
 },
 "nbformat": 4,
 "nbformat_minor": 2
}
