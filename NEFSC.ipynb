{
 "cells": [
  {
   "cell_type": "code",
   "execution_count": 1,
   "metadata": {},
   "outputs": [],
   "source": [
    "import matplotlib.pyplot as plt; import numpy as np; import netCDF4; from netCDF4 import Dataset\n",
    "import pandas as pd; import numpy.ma as ma; import time as timeit; import os; import math\n",
    "import itertools; import scipy.io; import mat73; import collections\n",
    "import cartopy; import cartopy.crs as ccrs\n",
    "from cartopy.mpl.gridliner import LONGITUDE_FORMATTER, LATITUDE_FORMATTER\n",
    "from matplotlib.ticker import FuncFormatter\n",
    "from matplotlib.ticker import AutoMinorLocator; from matplotlib.ticker import FixedLocator\n",
    "from shapely.geometry import Point\n",
    "from shapely.geometry.polygon import Polygon\n",
    "%matplotlib inline\n",
    "import statistics; import xarray as xr; from scipy.interpolate import griddata\n",
    "from matplotlib.path import Path"
   ]
  },
  {
   "cell_type": "code",
   "execution_count": 2,
   "metadata": {},
   "outputs": [],
   "source": [
    "import re\n",
    "w = open(\"bndgb2.txt\", \"r\", encoding=\"utf-8\")\n",
    "w.read()\n",
    "w = '  40.00   69.50\\n  40.30   68.00\\n  40.40   67.50\\n  40.60   67.00\\n  40.80   66.50\\n  41.45   66.00\\n  41.80   65.70\\n  42.10   66.00\\n  42.10   67.00\\n  42.10   67.50\\n  41.80   68.00\\n  41.10   69.00\\n  41.00   69.50\\n  40.00   69.50\\n'\n",
    "output1w = w.split('\\n')\n",
    "\n",
    "neww = [] \n",
    "for string in output1w:\n",
    "    output2w = string.split(' ')\n",
    "    neww.append(output2w)\n",
    "\n",
    "neww = [['', '', '40.00', '', '', '69.50'], ['', '', '40.30', '', '', '68.00'], ['', '', '40.40', '', '', '67.50'], ['', '', '40.60', '', '', '67.00'], ['', '', '40.80', '', '', '66.50'], ['', '', '41.45', '', '', '66.00'], ['', '', '41.80', '', '', '65.70'], ['', '', '42.10', '', '', '66.00'], ['', '', '42.10', '', '', '67.00'], ['', '', '42.10', '', '', '67.50'], ['', '', '41.80', '', '', '68.00'], ['', '', '41.10', '', '', '69.00'], ['', '', '41.00', '', '', '69.50'], ['', '', '40.00', '', '', '69.50']]\n",
    "lon_w = []; lat_w = []\n",
    "\n",
    "for i in range(14): \n",
    "    w1 = neww[i][2]\n",
    "    lat_w.append(w1)\n",
    "    w3 = neww[i][5]\n",
    "    lon_w.append(w3)\n",
    "lonlist_w = [float(i) for i in lon_w]; latlist_w = [float(i) for i in lat_w]\n",
    "lonlist_wneg = [float(i)*-1 for i in lon_w]\n",
    "df_w = pd.DataFrame({'lon': lonlist_w, 'lat': latlist_w,})\n",
    "df_w_plottable = pd.DataFrame({'lon': lonlist_wneg, 'lat': latlist_w,})\n",
    "\n",
    "\n",
    "lonlist_w_plot = [float(i)*-1 for i in lon_w]; latlist_w = [float(i) for i in lat_w]\n",
    "df_w_plot = pd.DataFrame({'lon': lonlist_w_plot, 'lat': latlist_w,})\n",
    "x_w = df_w_plot['lon']; y_w = df_w_plot['lat']"
   ]
  },
  {
   "cell_type": "code",
   "execution_count": 3,
   "metadata": {},
   "outputs": [
    {
     "name": "stdout",
     "output_type": "stream",
     "text": [
      "POLYGON ((69.5 40, 68 40.3, 67.5 40.4, 67 40.6, 66.5 40.8, 66 41.45, 65.7 41.8, 66 42.1, 67 42.1, 67.5 42.1, 68 41.8, 69 41.1, 69.5 41, 69.5 40))\n"
     ]
    }
   ],
   "source": [
    "polygon_w = Polygon(df_w.values)\n",
    "print(polygon_w)"
   ]
  },
  {
   "cell_type": "code",
   "execution_count": 4,
   "metadata": {},
   "outputs": [],
   "source": [
    "v = open(\"bndmbs.txt\", \"r\", encoding=\"utf-8\")\n",
    "v.read()\n",
    "v = '  37.00   76.00\\n  36.00   75.50\\n  35.50   75.00\\n  36.00   74.75\\n  37.40   74.50\\n  39.50   72.00\\n  40.50   74.00\\n  39.40   74.25\\n  37.00   76.00\\n'\n",
    "output1v = v.split('\\n')\n",
    "\n",
    "newv = [] \n",
    "for string in output1v:\n",
    "    output2v = string.split(' ')\n",
    "    newv.append(output2v)\n",
    "\n",
    "newv = [['', '', '37.00', '', '', '76.00'], ['', '', '36.00', '', '', '75.50'], ['', '', '35.50', '', '', '75.00'], ['', '', '36.00', '', '', '74.75'], ['', '', '37.40', '', '', '74.50'], ['', '', '39.50', '', '', '72.00'], ['', '', '40.50', '', '', '74.00'], ['', '', '39.40', '', '', '74.25'], ['', '', '37.00', '', '', '76.00']]\n",
    "lon_v = []; lat_v = []\n",
    "\n",
    "for i in range(9): \n",
    "    v1 = newv[i][2]\n",
    "    lat_v.append(v1)\n",
    "    v3 = newv[i][5]\n",
    "    lon_v.append(v3)\n",
    "lonlist_v = [float(i) for i in lon_v]; latlist_v = [float(i) for i in lat_v]\n",
    "df_v = pd.DataFrame({'lon': lonlist_v, 'lat': latlist_v,})\n",
    "\n",
    "lonlist_v_plot = [float(i)*-1 for i in lon_v]; latlist_v = [float(i) for i in lat_v]\n",
    "df_v_plot = pd.DataFrame({'lon': lonlist_v_plot, 'lat': latlist_v,})\n",
    "x_v = df_v_plot['lon']; y_v = df_v_plot['lat']\n",
    "\n",
    "\n",
    "lonlist_vneg = [float(i)*-1 for i in lon_v]\n",
    "df_v_plottable = pd.DataFrame({'lon': lonlist_vneg, 'lat': latlist_v,})"
   ]
  },
  {
   "cell_type": "code",
   "execution_count": 5,
   "metadata": {},
   "outputs": [
    {
     "name": "stdout",
     "output_type": "stream",
     "text": [
      "POLYGON ((76 37, 75.5 36, 75 35.5, 74.75 36, 74.5 37.4, 72 39.5, 74 40.5, 74.25 39.4, 76 37))\n"
     ]
    }
   ],
   "source": [
    "polygon_v = Polygon(df_v.values.tolist())\n",
    "print(polygon_v)"
   ]
  },
  {
   "cell_type": "code",
   "execution_count": 6,
   "metadata": {},
   "outputs": [],
   "source": [
    "x = open(\"bndmbn.txt\", \"r\", encoding=\"utf-8\")\n",
    "x.read()\n",
    "x = '  40.50   74.00\\n  39.50   72.00\\n  40.00   71.40\\n  40.00   69.50\\n  41.00   69.50\\n  41.10   70.00\\n  41.00   72.00\\n  40.50   74.00\\n'\n",
    "output1x = x.split('\\n')\n",
    "\n",
    "newx = [] \n",
    "for string in output1x:\n",
    "    output2x = string.split(' ')\n",
    "    newx.append(output2x)\n",
    "newx = [['', '', '40.50', '', '', '74.00'], ['', '', '39.50', '', '', '72.00'], ['', '', '40.00', '', '', '71.40'], ['', '', '40.00', '', '', '69.50'], ['', '', '41.00', '', '', '69.50'], ['', '', '41.10', '', '', '70.00'], ['', '', '41.00', '', '', '72.00'], ['', '', '40.50', '', '', '74.00']]\n",
    "lon_x = []; lat_x = []\n",
    "\n",
    "for i in range(8): \n",
    "    x1 = newx[i][2]\n",
    "    lat_x.append(x1)\n",
    "    x3 = newx[i][5]\n",
    "    lon_x.append(x3)\n",
    "lonlist_x = [float(i) for i in lon_x]; latlist_x = [float(i) for i in lat_x]\n",
    "df_x = pd.DataFrame({'lon': lonlist_x, 'lat': latlist_x,})\n",
    "\n",
    "lonlist_x_plot = [float(i)*-1 for i in lon_x]; latlist_x = [float(i) for i in lat_x]\n",
    "df_x_plot = pd.DataFrame({'lon': lonlist_x_plot, 'lat': latlist_x,})\n",
    "x_x = df_x_plot['lon']; y_x = df_x_plot['lat']\n",
    "\n",
    "lonlist_xneg = [float(i)*-1 for i in lon_x]\n",
    "df_x_plottable = pd.DataFrame({'lon': lonlist_xneg, 'lat': latlist_x,})"
   ]
  },
  {
   "cell_type": "code",
   "execution_count": 7,
   "metadata": {},
   "outputs": [
    {
     "name": "stdout",
     "output_type": "stream",
     "text": [
      "POLYGON ((74 40.5, 72 39.5, 71.40000000000001 40, 69.5 40, 69.5 41, 70 41.1, 72 41, 74 40.5))\n"
     ]
    }
   ],
   "source": [
    "polygon_x = Polygon(df_x.values.tolist())\n",
    "print(polygon_x)"
   ]
  },
  {
   "cell_type": "code",
   "execution_count": 8,
   "metadata": {},
   "outputs": [],
   "source": [
    "y = open(\"bndgme.txt\", \"r\", encoding=\"utf-8\")\n",
    "y.read()\n",
    "y = '  41.80   68.00\\n  42.10   67.50\\n  42.10   67.00\\n  42.10   66.00\\n  43.00   66.00\\n  44.20   66.50\\n  44.20   67.00\\n  44.20   68.00\\n  41.80   68.00\\n'\n",
    "output1y = y.split('\\n')\n",
    "\n",
    "newy = [] \n",
    "for string in output1y:\n",
    "    output2y = string.split(' ')\n",
    "    newy.append(output2y)\n",
    "newy = [['', '', '41.80', '', '', '68.00'], ['', '', '42.10', '', '', '67.50'], ['', '', '42.10', '', '', '67.00'], ['', '', '42.10', '', '', '66.00'], ['', '', '43.00', '', '', '66.00'], ['', '', '44.20', '', '', '66.50'], ['', '', '44.20', '', '', '67.00'], ['', '', '44.20', '', '', '68.00'], ['', '', '41.80', '', '', '68.00']]\n",
    "lon_y = []; lat_y = []\n",
    "\n",
    "for i in range(9): \n",
    "    y1 = newy[i][2]\n",
    "    lat_y.append(y1)\n",
    "    y3 = newy[i][5]\n",
    "    lon_y.append(y3)\n",
    "lonlist_y = [float(i) for i in lon_y]; latlist_y = [float(i) for i in lat_y]\n",
    "df_y = pd.DataFrame({'lon': lonlist_y, 'lat': latlist_y,})\n",
    "\n",
    "lonlist_y_plot = [float(i)*-1 for i in lon_y]; latlist_y = [float(i) for i in lat_y]\n",
    "df_y_plot = pd.DataFrame({'lon': lonlist_y_plot, 'lat': latlist_y,})\n",
    "x_y = df_y_plot['lon']; y_y = df_y_plot['lat']\n",
    "\n",
    "lonlist_yneg = [float(i)*-1 for i in lon_y]\n",
    "df_y_plottable = pd.DataFrame({'lon': lonlist_yneg, 'lat': latlist_y,})"
   ]
  },
  {
   "cell_type": "code",
   "execution_count": 9,
   "metadata": {},
   "outputs": [
    {
     "name": "stdout",
     "output_type": "stream",
     "text": [
      "POLYGON ((68 41.8, 67.5 42.1, 67 42.1, 66 42.1, 66 43, 66.5 44.2, 67 44.2, 68 44.2, 68 41.8))\n"
     ]
    }
   ],
   "source": [
    "polygon_y = Polygon(df_y.values)\n",
    "print(polygon_y)"
   ]
  },
  {
   "cell_type": "code",
   "execution_count": 10,
   "metadata": {},
   "outputs": [],
   "source": [
    "t = open(\"bndgmw.txt\", \"r\", encoding=\"utf-8\")\n",
    "t.read()\n",
    "t = '  42.20   70.50\\n  42.00   70.00\\n  41.10   69.00\\n  41.80   68.00\\n  44.20   68.00\\n  43.90   69.00\\n  43.70   70.00\\n  43.00   70.50\\n  42.20   70.50'\n",
    "output1t = t.split('\\n')\n",
    "newt = [] \n",
    "for string in output1t:\n",
    "    output2t = string.split(' ')\n",
    "    newt.append(output2t)\n",
    "lon_t = []; lat_t = []\n",
    "\n",
    "for i in range(9): \n",
    "    t1 = newt[i][2]\n",
    "    lat_t.append(t1)\n",
    "    t3 = newt[i][5]\n",
    "    lon_t.append(t3)\n",
    "lonlist_t = [float(i) for i in lon_t]; latlist_t = [float(i) for i in lat_t]\n",
    "df_t = pd.DataFrame({'lon': lonlist_t, 'lat': latlist_t,})\n",
    "\n",
    "lonlist_t_plot = [float(i)*-1 for i in lon_t]; latlist_t = [float(i) for i in lat_t]\n",
    "df_t_plot = pd.DataFrame({'lon': lonlist_t_plot, 'lat': latlist_t,})\n",
    "x_t = df_t_plot['lon']; y_t = df_t_plot['lat']\n",
    "\n",
    "lonlist_tneg = [float(i)*-1 for i in lon_t]\n",
    "df_t_plottable = pd.DataFrame({'lon': lonlist_tneg, 'lat': latlist_t,})"
   ]
  },
  {
   "cell_type": "code",
   "execution_count": 11,
   "metadata": {},
   "outputs": [
    {
     "name": "stdout",
     "output_type": "stream",
     "text": [
      "POLYGON ((70.5 42.2, 70 42, 69 41.1, 68 41.8, 68 44.2, 69 43.9, 70 43.7, 70.5 43, 70.5 42.2))\n"
     ]
    }
   ],
   "source": [
    "polygon_t = Polygon(df_t.values)\n",
    "print(polygon_t)"
   ]
  },
  {
   "cell_type": "code",
   "execution_count": 12,
   "metadata": {},
   "outputs": [],
   "source": [
    "finaldepth = []; finallat = [];finallon = []\n",
    "zi_listofarrays = []\n",
    "for year in range(1978,2020):\n",
    "    filename = 'casts_{}.mat'.format(year)\n",
    "    file = scipy.io.loadmat(filename,squeeze_me=True)\n",
    "    npfile = file['casts_{}'.format(year)] \n",
    "    lat_intermediate = []; lon_intermediate = []; p_intermediate = []; t_intermediate = []; yd_intermediate = []\n",
    "    seasonyeardepth = []; seasonyeartemp = []; counterii = []   \n",
    "    for i in range(len(npfile)):\n",
    "        yd = npfile[i]['yd']\n",
    "        p = npfile[i]['p']\n",
    "        s = npfile[i]['s']\n",
    "        t = npfile[i]['t']\n",
    "        lon = npfile[i]['lon']\n",
    "        lat = npfile[i]['lat']\n",
    "        floordepth = npfile[i]['depth']\n",
    "#         if yd > 334 and yd <= 365 or yd >= 0 and yd <= 59:\n",
    "        if yd > 243 and yd <= 334:\n",
    "            lat_intermediate.append(npfile[i]['lat'])\n",
    "            lon_intermediate.append(npfile[i]['lon'])\n",
    "            p_intermediate.append(npfile[i]['p'])\n",
    "            t_intermediate.append(npfile[i]['t'])\n",
    "            yd_intermediate.append(npfile[i]['yd'])   \n",
    "    month_df = pd.DataFrame({'day': yd_intermediate,'lon': lon_intermediate,'lat': lat_intermediate, 'p': p_intermediate, 't': t_intermediate})\n",
    "    newdf = pd.DataFrame({'lon': lon_intermediate,'lat': lat_intermediate})    \n",
    "    for ii in range(len(month_df)):\n",
    "        new = newdf.iloc[ii].values\n",
    "        point = Point(new)\n",
    "        if isinstance(month_df['p'].iloc[ii], int) or isinstance(month_df['p'].iloc[ii], float) or isinstance(month_df['t'].iloc[ii], int) or isinstance(month_df['t'].iloc[ii], float):\n",
    "            pass\n",
    "        elif polygon_x.contains(point) == True or polygon_y.contains(point) == True or polygon_t.contains(point) == True or polygon_w.contains(point) == True or polygon_v.contains(point) == True:\n",
    "            pt_df = pd.DataFrame({'p': month_df['p'].iloc[ii],'t': month_df['t'].iloc[ii]}) \n",
    "            df_ptsnew = pt_df.dropna()\n",
    "            df_final = pd.DataFrame(df_ptsnew.values)\n",
    "            l=[i for i in df_final[0] if i<=6]\n",
    "            if len(l) > 0:\n",
    "                surfaceval = []\n",
    "                numrange = []\n",
    "                for iii in range(len(l)):\n",
    "                    val = df_final[1][iii]\n",
    "                    numrange.append(iii)\n",
    "                    surfaceval.append(val)\n",
    "            surfacevalmean = statistics.mean(surfaceval)\n",
    "            tempfin = []\n",
    "            pressurefin = []\n",
    "            for iii in range(numrange[-1],len(df_final)):\n",
    "                tempfin.append(df_final[1][iii])\n",
    "                pressurefin.append(df_final[0][iii])\n",
    "            d = {'temp': list(reversed(tempfin)), 'pressure': list(reversed(pressurefin))}\n",
    "            dffin = pd.DataFrame(d)\n",
    "            for ix in range(len(dffin)):\n",
    "                b = dffin.at[ix,'temp']\n",
    "                if b <= (surfacevalmean + 0.2) and b >= (surfacevalmean - 0.2):\n",
    "                    if dffin.at[ix,'pressure'] >= floordepth - 6:\n",
    "                        seasonyeartemp.append(dffin.at[ix,'temp'])\n",
    "                        seasonyeardepth.append(dffin.at[ix,'pressure'])\n",
    "                        counterii.append(ii)\n",
    "                    elif dffin.at[ix,'pressure'] == df_final[0].iloc[-1]:\n",
    "                        pass\n",
    "                    elif dffin.at[ix,'pressure'] == 0:\n",
    "                        pass\n",
    "                    else:\n",
    "                        seasonyeartemp.append(dffin.at[ix,'temp'])\n",
    "                        seasonyeardepth.append(dffin.at[ix,'pressure'])\n",
    "                        np.array(seasonyeartemp)\n",
    "                        np.array(seasonyeardepth)\n",
    "                        counterii.append(ii)\n",
    "                    break  \n",
    "\n",
    "    inlat = []; inlon = []\n",
    "    for timer in counterii:\n",
    "        inlat.append(newdf['lat'][timer])\n",
    "        inlon.append(newdf['lon'][timer])\n",
    "\n",
    "    finaldepth.append(seasonyeardepth)\n",
    "    finallat.append(inlat)\n",
    "    finallon.append(inlon)\n",
    "    \n",
    "    flat_depth = [item for sublist in finaldepth for item in sublist]\n",
    "    flat_lat = [item for sublist in finallat for item in sublist]\n",
    "    flat_lon = [item for sublist in finallon for item in sublist]\n",
    "    \n",
    "    flat_lon[:] = [x *-1 for x in flat_lon]    \n",
    "    name = 'dfplottablefull_{}'.format(year)\n",
    "    \n",
    "    name = pd.DataFrame(list(zip(flat_depth,flat_lon,flat_lat)),columns = ['depth','lon','lat'])\n",
    "\n",
    "    x = 'x_{}'.format(year)\n",
    "    x = name['lon']\n",
    "    y = 'y_{}'.format(year)\n",
    "    y = name['lat']\n",
    "    z = 'z_{}'.format(year)\n",
    "    z = name['depth']\n",
    "    \n",
    "    xi = np.arange(-76,-65,0.5)\n",
    "    yi = np.arange(35,46,0.5)\n",
    "        \n",
    "    xi,yi = np.meshgrid(xi,yi)\n",
    "    \n",
    "    zi = 'zi_{}'.format(year)\n",
    "    zi = griddata((x,y),z,(xi,yi),method='linear')\n",
    "        \n",
    "    zi_listofarrays.append(zi)"
   ]
  },
  {
   "cell_type": "code",
   "execution_count": null,
   "metadata": {},
   "outputs": [],
   "source": [
    "print(len(zi_listofarrays))"
   ]
  },
  {
   "cell_type": "code",
   "execution_count": null,
   "metadata": {},
   "outputs": [],
   "source": [
    "newmeangridnew = np.nanmean([zi_listofarrays[0],zi_listofarrays[1],zi_listofarrays[2],zi_listofarrays[3],zi_listofarrays[4],\n",
    "                          zi_listofarrays[5],zi_listofarrays[6],zi_listofarrays[7],zi_listofarrays[8],\n",
    "                          zi_listofarrays[9],zi_listofarrays[10],zi_listofarrays[11],\n",
    "                          zi_listofarrays[12],zi_listofarrays[13],zi_listofarrays[14],\n",
    "                          zi_listofarrays[15],zi_listofarrays[16],zi_listofarrays[17],\n",
    "                          zi_listofarrays[18],zi_listofarrays[19],zi_listofarrays[20],\n",
    "                          zi_listofarrays[21],zi_listofarrays[22],zi_listofarrays[23],\n",
    "                          zi_listofarrays[24],zi_listofarrays[25],zi_listofarrays[26],\n",
    "                          zi_listofarrays[27],zi_listofarrays[28],zi_listofarrays[29],\n",
    "                          zi_listofarrays[30],zi_listofarrays[31],zi_listofarrays[32],\n",
    "                          zi_listofarrays[33],zi_listofarrays[34],zi_listofarrays[35],\n",
    "                          zi_listofarrays[36],zi_listofarrays[37],zi_listofarrays[38],\n",
    "                          zi_listofarrays[39],zi_listofarrays[40],zi_listofarrays[41]],axis = 0)"
   ]
  },
  {
   "cell_type": "code",
   "execution_count": null,
   "metadata": {},
   "outputs": [],
   "source": [
    "import numpy as np\n",
    "from matplotlib.path import Path\n",
    "\n",
    "nx = np.arange(-76,-65,0.5)\n",
    "ny = np.arange(35,46,0.5)\n",
    "\n",
    "poly_verts_w = df_w_plottable.values \n",
    "poly_verts_v = df_v_plottable.values \n",
    "poly_verts_x = df_x_plottable.values \n",
    "poly_verts_y = df_y_plottable.values \n",
    "poly_verts_t = df_t_plottable.values \n",
    "\n",
    "full_pandas = df_w_plottable.append(df_v_plottable)\n",
    "full_pandas = full_pandas.append(df_x_plottable)\n",
    "full_pandas = full_pandas.append(df_y_plottable)\n",
    "full_pandas = full_pandas.append(df_t_plottable)\n",
    "poly_verts_full = full_pandas.values\n",
    "\n",
    "newlon = [-69.5,-68,-67.5, -67, -66.5, -66, -65.7, -66,-66, -66.5, -67,\n",
    "         -68, -69, -70,-70.5, -70.5,-69.5, -72, -74, -74.25, -76, -75.5, -75, -74.75, -74.5, -72, -71.4, -69.5]\n",
    "newlat = [40,40.3,40.4, 40.6, 40.8, 41.45, 41.8, 42.1, 43, 44.2, 44.2, 44.2, 43.9, 43.7,\n",
    "         43, 42.2, 41, 41, 40.5, 39.4, 37, 36, 35.5, 36, 37.4, 39.5, 40, 40]\n",
    "newpath = list(zip(newlon,newlat))\n",
    "newpd = pd.DataFrame(newpath, columns=['lon','lat'])\n",
    "path_new = Path(newpath)\n",
    "\n",
    "x, y = np.meshgrid(nx, ny)\n",
    "x, y = x.flatten(), y.flatten()\n",
    "\n",
    "points = np.vstack((x,y)).T\n",
    "\n",
    "path_w = Path(poly_verts_w)\n",
    "path_v = Path(poly_verts_v)\n",
    "path_x = Path(poly_verts_x)\n",
    "path_y = Path(poly_verts_y)\n",
    "path_t = Path(poly_verts_t)\n",
    "path_full = Path(poly_verts_full)\n",
    "\n",
    "grid = path_new.contains_points(points) \n",
    "\n",
    "grid = grid.reshape((22,22))\n",
    "\n",
    "print(grid.shape)"
   ]
  }
 ],
 "metadata": {
  "kernelspec": {
   "display_name": "Python 3",
   "language": "python",
   "name": "python3"
  },
  "language_info": {
   "codemirror_mode": {
    "name": "ipython",
    "version": 3
   },
   "file_extension": ".py",
   "mimetype": "text/x-python",
   "name": "python",
   "nbconvert_exporter": "python",
   "pygments_lexer": "ipython3",
   "version": "3.7.1"
  }
 },
 "nbformat": 4,
 "nbformat_minor": 2
}
