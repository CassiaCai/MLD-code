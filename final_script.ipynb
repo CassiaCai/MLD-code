{
 "cells": [
  {
   "cell_type": "markdown",
   "metadata": {},
   "source": [
    "# Import Libraries"
   ]
  },
  {
   "cell_type": "code",
   "execution_count": 9,
   "metadata": {},
   "outputs": [],
   "source": [
    "import matplotlib.pyplot as plt; import numpy as np; import netCDF4; from netCDF4 import Dataset\n",
    "import pandas as pd; import numpy.ma as ma; import time as timeit; import os; import math\n",
    "import itertools; import scipy.io; import mat73; import collections\n",
    "import cartopy; import cartopy.crs as ccrs\n",
    "from cartopy.mpl.gridliner import LONGITUDE_FORMATTER, LATITUDE_FORMATTER\n",
    "from matplotlib.ticker import FuncFormatter\n",
    "from matplotlib.ticker import AutoMinorLocator; from matplotlib.ticker import FixedLocator\n",
    "from shapely.geometry import Point\n",
    "from shapely.geometry.polygon import Polygon\n",
    "%matplotlib inline\n",
    "import statistics; import xarray as xr; import matplotlib as mpl; import gsw"
   ]
  },
  {
   "cell_type": "markdown",
   "metadata": {},
   "source": [
    "# Preparation (files and shapes)\n",
    "w = GB, t = WGOM, y = EGOM, v = SMAB, x = NMAB"
   ]
  },
  {
   "cell_type": "code",
   "execution_count": 2,
   "metadata": {},
   "outputs": [],
   "source": [
    "filenow = 'glorys12v1_depth.nc'\n",
    "BC=Dataset(filenow); BS=xr.open_dataset(filenow)\n",
    "glorysdepth = np.asarray(BS['depth'].values)"
   ]
  },
  {
   "cell_type": "code",
   "execution_count": 3,
   "metadata": {},
   "outputs": [],
   "source": [
    "glorys12v1 ='global-reanalysis-phy-001-030-daily_1596465428590.nc'\n",
    "DS=xr.open_dataset(glorys12v1)"
   ]
  },
  {
   "cell_type": "code",
   "execution_count": 4,
   "metadata": {},
   "outputs": [],
   "source": [
    "newv = [['', '', '37.00', '', '', '76.00'], ['', '', '36.00', '', '', '75.50'], ['', '', '35.50', '', '', '75.00'], ['', '', '36.00', '', '', '74.75'], ['', '', '37.40', '', '', '74.50'], ['', '', '39.50', '', '', '72.00'], ['', '', '40.50', '', '', '74.00'], ['', '', '39.40', '', '', '74.25'], ['', '', '37.00', '', '', '76.00']]\n",
    "lon_v = []; lat_v = []\n",
    "for i in range(9): \n",
    "    v1 = newv[i][2]\n",
    "    lat_v.append(v1)\n",
    "    v3 = newv[i][5]\n",
    "    lon_v.append(v3)\n",
    "lonlist_v = [float(i) for i in lon_v]; latlist_v = [float(i) for i in lat_v]\n",
    "df_v = pd.DataFrame({'lon': lonlist_v, 'lat': latlist_v,})\n",
    "lonlist_v_plot = [float(i)*-1 for i in lon_v]; latlist_v = [float(i) for i in lat_v]\n",
    "df_v_plot = pd.DataFrame({'lon': lonlist_v_plot, 'lat': latlist_v,})\n",
    "x_v = df_v_plot['lon']; y_v = df_v_plot['lat']\n",
    "\n",
    "lonlist_vneg = [float(i)*-1 for i in lon_v]\n",
    "df_v_plottable = pd.DataFrame({'lon': lonlist_vneg, 'lat': latlist_v,})\n",
    "polygon_v = Polygon(df_v.values.tolist())"
   ]
  },
  {
   "cell_type": "code",
   "execution_count": 5,
   "metadata": {},
   "outputs": [],
   "source": [
    "neww = [['', '', '40.00', '', '', '69.50'], ['', '', '40.30', '', '', '68.00'], ['', '', '40.40', '', '', '67.50'], ['', '', '40.60', '', '', '67.00'], ['', '', '40.80', '', '', '66.50'], ['', '', '41.45', '', '', '66.00'], ['', '', '41.80', '', '', '65.70'], ['', '', '42.10', '', '', '66.00'], ['', '', '42.10', '', '', '67.00'], ['', '', '42.10', '', '', '67.50'], ['', '', '41.80', '', '', '68.00'], ['', '', '41.10', '', '', '69.00'], ['', '', '41.00', '', '', '69.50'], ['', '', '40.00', '', '', '69.50']]\n",
    "lon_w = []; lat_w = []\n",
    "for i in range(14): \n",
    "    w1 = neww[i][2]\n",
    "    lat_w.append(w1)\n",
    "    w3 = neww[i][5]\n",
    "    lon_w.append(w3)\n",
    "lonlist_w = [float(i) for i in lon_w]; latlist_w = [float(i) for i in lat_w]\n",
    "lonlist_wneg = [float(i)*-1 for i in lon_w]\n",
    "df_w = pd.DataFrame({'lon': lonlist_w, 'lat': latlist_w,})\n",
    "df_w_plottable = pd.DataFrame({'lon': lonlist_wneg, 'lat': latlist_w,})\n",
    "\n",
    "lonlist_w_plot = [float(i)*-1 for i in lon_w]; latlist_w = [float(i) for i in lat_w]\n",
    "df_w_plot = pd.DataFrame({'lon': lonlist_w_plot, 'lat': latlist_w,})\n",
    "x_w = df_w_plot['lon']; y_w = df_w_plot['lat']\n",
    "polygon_w = Polygon(df_w.values)"
   ]
  },
  {
   "cell_type": "code",
   "execution_count": 6,
   "metadata": {},
   "outputs": [],
   "source": [
    "newy = [['', '', '41.80', '', '', '68.00'], ['', '', '42.10', '', '', '67.50'], ['', '', '42.10', '', '', '67.00'], ['', '', '42.10', '', '', '66.00'], ['', '', '43.00', '', '', '66.00'], ['', '', '44.20', '', '', '66.50'], ['', '', '44.20', '', '', '67.00'], ['', '', '44.20', '', '', '68.00'], ['', '', '41.80', '', '', '68.00']]\n",
    "lon_y = []; lat_y = []\n",
    "for i in range(9): \n",
    "    y1 = newy[i][2]\n",
    "    lat_y.append(y1)\n",
    "    y3 = newy[i][5]\n",
    "    lon_y.append(y3)\n",
    "lonlist_y = [float(i) for i in lon_y]; latlist_y = [float(i) for i in lat_y]\n",
    "df_y = pd.DataFrame({'lon': lonlist_y, 'lat': latlist_y,})\n",
    "lonlist_y_plot = [float(i)*-1 for i in lon_y]; latlist_y = [float(i) for i in lat_y]\n",
    "df_y_plot = pd.DataFrame({'lon': lonlist_y_plot, 'lat': latlist_y,})\n",
    "x_y = df_y_plot['lon']; y_y = df_y_plot['lat']\n",
    "\n",
    "lonlist_yneg = [float(i)*-1 for i in lon_y]\n",
    "df_y_plottable = pd.DataFrame({'lon': lonlist_yneg, 'lat': latlist_y,})\n",
    "polygon_y = Polygon(df_y.values)"
   ]
  },
  {
   "cell_type": "code",
   "execution_count": 7,
   "metadata": {},
   "outputs": [],
   "source": [
    "newt = [['', '', '42.20', '', '', '70.50'], ['', '', '42.00', '', '', '70.00'], ['', '', '41.10', '', '', '69.00'], ['', '', '41.80', '', '', '68.00'], ['', '', '44.20', '', '', '68.00'], ['', '', '43.90', '', '', '69.00'], ['', '', '43.70', '', '', '70.00'], ['', '', '43.00', '', '', '70.50'], ['', '', '42.20', '', '', '70.50']]\n",
    "lon_t = []; lat_t = []\n",
    "for i in range(9): \n",
    "    t1 = newt[i][2]\n",
    "    lat_t.append(t1)\n",
    "    t3 = newt[i][5]\n",
    "    lon_t.append(t3)\n",
    "lonlist_t = [float(i) for i in lon_t]; latlist_t = [float(i) for i in lat_t]\n",
    "df_t = pd.DataFrame({'lon': lonlist_t, 'lat': latlist_t,})\n",
    "lonlist_t_plot = [float(i)*-1 for i in lon_t]; latlist_t = [float(i) for i in lat_t]\n",
    "df_t_plot = pd.DataFrame({'lon': lonlist_t_plot, 'lat': latlist_t,})\n",
    "x_t = df_t_plot['lon']; y_t = df_t_plot['lat']\n",
    "\n",
    "lonlist_tneg = [float(i)*-1 for i in lon_t]\n",
    "df_t_plottable = pd.DataFrame({'lon': lonlist_tneg, 'lat': latlist_t,})\n",
    "polygon_t = Polygon(df_t.values)"
   ]
  },
  {
   "cell_type": "code",
   "execution_count": 8,
   "metadata": {},
   "outputs": [],
   "source": [
    "newx = [['', '', '40.50', '', '', '74.00'], ['', '', '39.50', '', '', '72.00'], ['', '', '40.00', '', '', '71.40'], ['', '', '40.00', '', '', '69.50'], ['', '', '41.00', '', '', '69.50'], ['', '', '41.10', '', '', '70.00'], ['', '', '41.00', '', '', '72.00'], ['', '', '40.50', '', '', '74.00']]\n",
    "lon_x = []; lat_x = []\n",
    "for i in range(8): \n",
    "    x1 = newx[i][2]\n",
    "    lat_x.append(x1)\n",
    "    x3 = newx[i][5]\n",
    "    lon_x.append(x3)\n",
    "lonlist_x = [float(i) for i in lon_x]; latlist_x = [float(i) for i in lat_x]\n",
    "df_x = pd.DataFrame({'lon': lonlist_x, 'lat': latlist_x,})\n",
    "lonlist_x_plot = [float(i)*-1 for i in lon_x]; latlist_x = [float(i) for i in lat_x]\n",
    "df_x_plot = pd.DataFrame({'lon': lonlist_x_plot, 'lat': latlist_x,})\n",
    "x_x = df_x_plot['lon']; y_x = df_x_plot['lat']\n",
    "\n",
    "lonlist_xneg = [float(i)*-1 for i in lon_x]\n",
    "df_x_plottable = pd.DataFrame({'lon': lonlist_xneg, 'lat': latlist_x,})\n",
    "polygon_x = Polygon(df_x.values.tolist())"
   ]
  },
  {
   "cell_type": "markdown",
   "metadata": {},
   "source": [
    "# Algorithm"
   ]
  },
  {
   "cell_type": "code",
   "execution_count": 9,
   "metadata": {},
   "outputs": [],
   "source": [
    "# countwithinpolygon = []; densmld = []; obs_lat = []; obs_lon = []; date_no = []; bottomdepth = []; years = []\n",
    "\n",
    "# for year in range(1993,2019):\n",
    "#     filename = 'casts_{}.mat'.format(year)\n",
    "#     file = scipy.io.loadmat(filename,squeeze_me=True)\n",
    "#     npfile = file['casts_{}'.format(year)]\n",
    "    \n",
    "#     lat_intermediate = []; lon_intermediate = []; p_intermediate = []; \n",
    "#     t_intermediate = []; yd_intermediate = []; sal_intermediate = []; floor_intermediate = []\n",
    "    \n",
    "#     for i in range(len(npfile)):\n",
    "#         yd = npfile[i]['yd']\n",
    "#         p = npfile[i]['p']\n",
    "#         s = npfile[i]['s']\n",
    "#         t = npfile[i]['t']\n",
    "#         gear = npfile[i]['gear']\n",
    "#         floordepth = npfile[i]['depth']\n",
    "                \n",
    "# #         if (yd > 334 and yd <= 365) or (yd >= 0 and yd <= 59) :\n",
    "#         if yd >= 0 and yd <= 365: \n",
    "#             lat_intermediate.append(npfile[i]['lat'])\n",
    "#             lon_intermediate.append(npfile[i]['lon'])\n",
    "#             p_intermediate.append(npfile[i]['p'])\n",
    "#             t_intermediate.append(npfile[i]['t'])\n",
    "#             yd_intermediate.append(npfile[i]['yd'])\n",
    "#             sal_intermediate.append(npfile[i]['s'])\n",
    "#             floor_intermediate.append(npfile[i]['depth'])\n",
    "#     month_df = pd.DataFrame({'day': yd_intermediate,'lon': lon_intermediate,'lat': lat_intermediate, 'p': p_intermediate, 't': t_intermediate,'depth': floor_intermediate, 's': sal_intermediate})\n",
    "#     newdf = pd.DataFrame({'lon': lon_intermediate,'lat': lat_intermediate,'date': yd_intermediate})\n",
    "#     for ii in range(len(month_df)):\n",
    "#         new = newdf.iloc[ii].values\n",
    "#         point = Point(new)\n",
    "#         if isinstance(month_df['p'].iloc[ii], int) or isinstance(month_df['p'].iloc[ii], float) or isinstance(month_df['t'].iloc[ii], int) or isinstance(month_df['t'].iloc[ii], float):\n",
    "#             pass\n",
    "#         elif polygon_x.contains(point) == True or polygon_y.contains(point) == True or polygon_w.contains(point) == True or polygon_t.contains(point) == True or polygon_v.contains(point) == True:\n",
    "#             SA = gsw.SA_from_SP(month_df['s'].iloc[ii],month_df['p'].iloc[ii],month_df['lon'].iloc[ii],month_df['lat'].iloc[ii])\n",
    "#             CT = gsw.CT_from_pt(SA,month_df['t'].iloc[ii])\n",
    "#             DENS = gsw.sigma0(SA,CT)\n",
    "#             pt_df = pd.DataFrame({'p': month_df['p'].iloc[ii],'t': month_df['t'].iloc[ii], 's': month_df['s'].iloc[ii], 'CT': CT, 'DENSMLD': DENS}) \n",
    "#             df_ptsnew = pt_df.dropna()\n",
    "#             df_final = pd.DataFrame(df_ptsnew.values)\n",
    "#             countwithinpolygon.append(1)\n",
    "#             l=[i for i in df_final[0] if i<=5] \n",
    "#             if len(l) > 0:\n",
    "#                 surfaceval = []\n",
    "#                 numrange = []\n",
    "#                 for iii in range(len(l)):\n",
    "#                     val = df_final[4][iii]\n",
    "#                     numrange.append(iii)\n",
    "#                     surfaceval.append(val)            \n",
    "#             surfacevalmean = statistics.mean(surfaceval)\n",
    "#             densfin = []; tempfin = []; pressurefin = []; salfin = []\n",
    "#             for iii in range(numrange[-1]+1,len(df_final)): #change back to numrange[-1] as range(numrange[-1],len...)\n",
    "#                 tempfin.append(df_final[1][iii])\n",
    "#                 pressurefin.append(df_final[0][iii])\n",
    "#                 salfin.append(df_final[2][iii])\n",
    "#                 densfin.append(df_final[4][iii])\n",
    "#             d = {'temp': list(reversed(tempfin)), 'sal': list(reversed(salfin)), 'pressure': list(reversed(pressurefin)),'density': list(reversed(densfin))}\n",
    "#             dunreversed = {'temp': list(tempfin), 'sal': list(salfin), 'pressure': list(pressurefin), 'density': list(densfin)}\n",
    "#             dffinunreversed = pd.DataFrame(dunreversed)\n",
    "#             dffin = pd.DataFrame(d)\n",
    "                        \n",
    "#             for ix in range(len(dffinunreversed)):\n",
    "#                 if dffinunreversed.at[ix,'density'] >= (surfacevalmean - dens_threshold) and dffinunreversed.at[ix,'density'] <= (surfacevalmean + dens_threshold):\n",
    "#                     if dffinunreversed.at[len(dffinunreversed)-1,'density'] <= (surfacevalmean + 0.03) and dffinunreversed.at[len(dffinunreversed)-1,'density'] >= (surfacevalmean - 0.03):\n",
    "#                         looknow = list(dffinunreversed['density'].values)\n",
    "#                         looknow2 = [i for i in looknow if i >= (surfacevalmean + dens_threshold)]\n",
    "#                         looknow3 = [i for i in looknow if i <= (surfacevalmean - dens_threshold)]\n",
    "#                         if len(looknow2) == 0 and len(looknow3) == 0:\n",
    "#                             if (dffinunreversed.at[len(dffinunreversed)-1,'pressure'] <= 25 and dffinunreversed.at[len(dffinunreversed)-1,'pressure'] >= (month_df['depth'].iloc[ii] - 5)) or (dffinunreversed.at[len(dffinunreversed)-1,'pressure'] > 25 and dffinunreversed.at[len(dffinunreversed)-1,'pressure'] >= (month_df['depth'].iloc[ii] - 10)):\n",
    "#                                 densmld.append(month_df['depth'].iloc[ii])\n",
    "#                                 obs_lat.append(month_df['lat'].iloc[ii])\n",
    "#                                 obs_lon.append(month_df['lon'].iloc[ii])\n",
    "#                                 date_no.append(month_df['day'].iloc[ii])\n",
    "#                                 bottomdepth.append(month_df['depth'].iloc[ii])\n",
    "#                                 years.append(year)\n",
    "#                                 break\n",
    "#                             else:\n",
    "#                                 break       \n",
    "#                         else: #\n",
    "#                             if (dffinunreversed.at[len(dffinunreversed)-1,'pressure'] <= 25 and dffinunreversed.at[len(dffinunreversed)-1,'pressure'] >= (month_df['depth'].iloc[ii] - 5)) or (dffinunreversed.at[len(dffinunreversed)-1,'pressure'] > 25 and dffinunreversed.at[len(dffinunreversed)-1,'pressure'] >= (month_df['depth'].iloc[ii] - 10)):\n",
    "#                                 for ix in range(len(dffinunreversed['density'])):\n",
    "#                                     if dffinunreversed.at[ix,'density'] >= (surfacevalmean - dens_threshold) and dffinunreversed.at[ix,'density'] <= (surfacevalmean + dens_threshold):\n",
    "#                                         pass\n",
    "#                                     else:\n",
    "#                                         densmld.append(month_df['depth'].iloc[ii])\n",
    "#                                         obs_lat.append(month_df['lat'].iloc[ii])\n",
    "#                                         obs_lon.append(month_df['lon'].iloc[ii])\n",
    "#                                         date_no.append(month_df['day'].iloc[ii])\n",
    "#                                         bottomdepth.append(month_df['depth'].iloc[ii])\n",
    "#                                         years.append(year)\n",
    "#                                         break\n",
    "#                             else:\n",
    "#                                 break\n",
    "#                     else:\n",
    "#                         if dffinunreversed.at[ix,'density'] <= (surfacevalmean - dens_threshold) or dffinunreversed.at[ix,'density'] >= (surfacevalmean + dens_threshold):\n",
    "#                             if (dffinunreversed.at[len(dffinunreversed)-1,'pressure'] <= 25 and dffinunreversed.at[len(dffinunreversed)-1,'pressure'] >= (month_df['depth'].iloc[ii] - 5)) or (dffinunreversed.at[len(dffinunreversed)-1,'pressure'] > 25 and dffinunreversed.at[len(dffinunreversed)-1,'pressure'] >= (month_df['depth'].iloc[ii] - 10)):\n",
    "#                                 pass\n",
    "#                             else:\n",
    "#                                 densmld.append(month_df['depth'].iloc[ii])\n",
    "#                                 obs_lat.append(month_df['lat'].iloc[ii])\n",
    "#                                 obs_lon.append(month_df['lon'].iloc[ii])\n",
    "#                                 date_no.append(month_df['day'].iloc[ii])\n",
    "#                                 bottomdepth.append(month_df['depth'].iloc[ii])\n",
    "#                                 years.append(year)\n",
    "#                                 break        \n",
    "#                         else: \n",
    "#                             if dffinunreversed.at[ix,'density'] >= (surfacevalmean + dens_threshold) or dffinunreversed.at[ix,'density'] <= (surfacevalmean - dens_threshold):\n",
    "#                                 break\n",
    "#             elif dffinunreversed.at[ix,'density'] <= (surfacevalmean - dens_threshold) or dffinunreversed.at[ix,'density'] >= (surfacevalmean + dens_threshold):\n",
    "#                     if (dffinunreversed.at[len(dffinunreversed)-1,'pressure'] <= 25 and dffinunreversed.at[len(dffinunreversed)-1,'pressure'] >= (month_df['depth'].iloc[ii] - 5)) or (dffinunreversed.at[len(dffinunreversed)-1,'pressure'] > 25 and dffinunreversed.at[len(dffinunreversed)-1,'pressure'] >= (month_df['depth'].iloc[ii] - 10)):\n",
    "#                         pass\n",
    "#                     else:\n",
    "#                         for ix in range(len(dffinunreversed['density'])):\n",
    "#                             if dffinunreversed.at[ix,'density'] >= (surfacevalmean - dens_threshold) and dffinunreversed.at[ix,'density'] <= (surfacevalmean + dens_threshold):\n",
    "#                                 pass\n",
    "#                             else:\n",
    "#                                 densmld.append(month_df['depth'].iloc[ii])\n",
    "#                                 obs_lat.append(month_df['lat'].iloc[ii])\n",
    "#                                 obs_lon.append(month_df['lon'].iloc[ii])\n",
    "#                                 date_no.append(month_df['day'].iloc[ii])\n",
    "#                                 bottomdepth.append(month_df['depth'].iloc[ii])\n",
    "#                                 years.append(year)\n",
    "#                                 break\n",
    "#                         break\n",
    "#                 else: \n",
    "#                     break\n",
    "#     print(year, len(densmld))\n",
    "#     print(year, len(countwithinpolygon))\n"
   ]
  },
  {
   "cell_type": "code",
   "execution_count": 12,
   "metadata": {},
   "outputs": [],
   "source": [
    "dens_threshold = 0.03"
   ]
  },
  {
   "cell_type": "code",
   "execution_count": 13,
   "metadata": {},
   "outputs": [
    {
     "name": "stdout",
     "output_type": "stream",
     "text": [
      "0.03\n"
     ]
    }
   ],
   "source": [
    "print(dens_threshold)"
   ]
  },
  {
   "cell_type": "code",
   "execution_count": 41,
   "metadata": {
    "scrolled": true
   },
   "outputs": [],
   "source": [
    "countwithinpolygon = []; densmld = []; obs_lat = []; obs_lon = []; date_no = []; bottomdepth = []; years = []\n",
    "yearwithdata = []; datefull = []; finallatestdepth = []; glorysmld = []\n",
    "glorys_lat = []; glorys_lon = []; glorys_lat_index = []; glorys_lon_index = []\n",
    "\n",
    "for year in range(1994,2019):\n",
    "    filename = 'casts_{}.mat'.format(year)\n",
    "    file = scipy.io.loadmat(filename,squeeze_me=True)\n",
    "    npfile = file['casts_{}'.format(year)]\n",
    "    \n",
    "    lat_intermediate = []; lon_intermediate = []; p_intermediate = []; counterii = []\n",
    "    t_intermediate = []; yd_intermediate = []; sal_intermediate = []; floor_intermediate = []\n",
    "    \n",
    "    for i in range(len(npfile)):\n",
    "        yd = npfile[i]['yd']\n",
    "        p = npfile[i]['p']\n",
    "        s = npfile[i]['s']\n",
    "        t = npfile[i]['t']\n",
    "        gear = npfile[i]['gear']\n",
    "        floordepth = npfile[i]['depth']\n",
    "        if (yd > 334 and yd <= 365) or (yd >= 0 and yd <= 59):\n",
    "#         if yd >= 155 and yd < 156:  # and floordepth <= 200\n",
    "            lat_intermediate.append(npfile[i]['lat'])\n",
    "            lon_intermediate.append(npfile[i]['lon'])\n",
    "            p_intermediate.append(npfile[i]['p'])\n",
    "            t_intermediate.append(npfile[i]['t'])\n",
    "            yd_intermediate.append(npfile[i]['yd'])\n",
    "            sal_intermediate.append(npfile[i]['s'])\n",
    "            floor_intermediate.append(npfile[i]['depth'])\n",
    "    month_df = pd.DataFrame({'day': yd_intermediate,'lon': lon_intermediate,'lat': lat_intermediate, 'p': p_intermediate, 't': t_intermediate,'depth': floor_intermediate, 's': sal_intermediate})\n",
    "    newdf = pd.DataFrame({'lon': lon_intermediate,'lat': lat_intermediate,'date': yd_intermediate})\n",
    "    for ii in range(len(month_df)):\n",
    "        new = newdf.iloc[ii].values\n",
    "        point = Point(new)\n",
    "        if isinstance(month_df['p'].iloc[ii], int) or isinstance(month_df['p'].iloc[ii], float) or isinstance(month_df['t'].iloc[ii], int) or isinstance(month_df['t'].iloc[ii], float):\n",
    "            pass\n",
    "        elif polygon_x.contains(point) == True or polygon_y.contains(point) == True or polygon_w.contains(point) == True or polygon_t.contains(point) == True or polygon_v.contains(point) == True:\n",
    "            SA = gsw.SA_from_SP(month_df['s'].iloc[ii],month_df['p'].iloc[ii],month_df['lon'].iloc[ii],month_df['lat'].iloc[ii])\n",
    "            CT = gsw.CT_from_pt(SA,month_df['t'].iloc[ii])\n",
    "            DENS = gsw.sigma0(SA,CT)\n",
    "            pt_df = pd.DataFrame({'p': month_df['p'].iloc[ii],'t': month_df['t'].iloc[ii], 's': month_df['s'].iloc[ii], 'CT': CT, 'DENSMLD': DENS}) \n",
    "            df_ptsnew = pt_df.dropna()\n",
    "            df_final = pd.DataFrame(df_ptsnew.values)\n",
    "            countwithinpolygon.append(1)\n",
    "            l=[i for i in df_final[0] if i<=5] \n",
    "            if len(l) > 0:\n",
    "                surfaceval = []\n",
    "                numrange = []\n",
    "                for iii in range(len(l)):\n",
    "                    val = df_final[4][iii]\n",
    "                    numrange.append(iii)\n",
    "                    surfaceval.append(val)            \n",
    "            surfacevalmean = statistics.mean(surfaceval)\n",
    "            densfin = []; tempfin = []; pressurefin = []; salfin = []\n",
    "            for iii in range(numrange[-1],len(df_final)): #for iii in range(numrange[-1]+1,len(df_final)):\n",
    "                tempfin.append(df_final[1][iii])\n",
    "                pressurefin.append(df_final[0][iii])\n",
    "                salfin.append(df_final[2][iii])\n",
    "                densfin.append(df_final[4][iii])\n",
    "            d = {'temp': list(reversed(tempfin)), 'sal': list(reversed(salfin)), 'pressure': list(reversed(pressurefin)),'density': list(reversed(densfin))}\n",
    "            dunreversed = {'temp': list(tempfin), 'sal': list(salfin), 'pressure': list(pressurefin), 'density': list(densfin)}\n",
    "            dffinunreversed = pd.DataFrame(dunreversed)\n",
    "            dffin = pd.DataFrame(d)\n",
    "            \n",
    "#             print(dffin)\n",
    "            for ix in range(len(dffinunreversed)):\n",
    "                if dffinunreversed.at[ix,'density'] >= (surfacevalmean - dens_threshold) and dffinunreversed.at[ix,'density'] <= (surfacevalmean + dens_threshold):\n",
    "                    if dffinunreversed.at[len(dffinunreversed)-1,'density'] <= (surfacevalmean + dens_threshold) and dffinunreversed.at[len(dffinunreversed)-1,'density'] >= (surfacevalmean - dens_threshold):\n",
    "                        looknow = list(dffinunreversed['density'].values)\n",
    "                        looknow2 = [i for i in looknow if i >= (surfacevalmean + dens_threshold)]\n",
    "                        looknow3 = [i for i in looknow if i <= (surfacevalmean - dens_threshold)]\n",
    "                        if len(looknow2) == 0 and len(looknow3) == 0:\n",
    "                            if (dffinunreversed.at[len(dffinunreversed)-1,'pressure'] <= 25 and dffinunreversed.at[len(dffinunreversed)-1,'pressure'] >= (month_df['depth'].iloc[ii] - 5)) or (dffinunreversed.at[len(dffinunreversed)-1,'pressure'] > 25 and dffinunreversed.at[len(dffinunreversed)-1,'pressure'] >= (month_df['depth'].iloc[ii] - 10)):\n",
    "                                densmld.append(month_df['depth'].iloc[ii])\n",
    "                                obs_lat.append(month_df['lat'].iloc[ii])\n",
    "                                obs_lon.append(month_df['lon'].iloc[ii])\n",
    "                                date_no.append(month_df['day'].iloc[ii])\n",
    "                                bottomdepth.append(month_df['depth'].iloc[ii])\n",
    "                                years.append(year)\n",
    "                                counterii.append(ii)\n",
    "                                # PLOTTING\n",
    "#                                 plt.plot(df_final[4], df_final[0]*-1)\n",
    "#                                 plt.axhline(y=month_df['depth'].iloc[ii]*-1,color='black', linestyle='-',alpha = 0.5)\n",
    "#                                 plt.axhline(y=dffinunreversed.at[len(dffinunreversed)-1,'pressure']*-1,color='red', linestyle='-',alpha = 0.5)\n",
    "#                                 plt.axhline(y=5*-1,color='green', linestyle='--',alpha = 1)\n",
    "#                                 plt.axvline(x=surfacevalmean,color='green', linestyle='--',alpha = 1)\n",
    "#                                 plt.axvline(x=surfacevalmean+0.03,color='green', linestyle='--',alpha = 0.5)\n",
    "#                                 plt.axvline(x=surfacevalmean-0.03,color='green', linestyle='--',alpha = 0.5)\n",
    "#                                 plt.show()\n",
    "#                                 plt.plot(df_final[1], df_final[0]*-1)\n",
    "#                                 plt.show()\n",
    "                                break\n",
    "                            else:#here\n",
    "#                                 plt.plot(df_final[4], df_final[0]*-1)\n",
    "#                                 plt.axhline(y=dffinunreversed.at[ix,'pressure']*-1,color='darkblue', linestyle='--',alpha = 1)\n",
    "#                                 plt.axhline(y=month_df['depth'].iloc[ii]*-1,color='black', linestyle='-',alpha = 0.5)\n",
    "#                                 plt.axhline(y=dffinunreversed.at[len(dffinunreversed)-1,'pressure']*-1,color='red', linestyle='-',alpha = 0.5)\n",
    "#                                 plt.axhline(y=5*-1,color='green', linestyle='--',alpha = 1)\n",
    "#                                 plt.axvline(x=surfacevalmean,color='green', linestyle='--',alpha = 1)\n",
    "#                                 plt.axvline(x=surfacevalmean+0.03,color='green', linestyle='--',alpha = 0.5)\n",
    "#                                 plt.axvline(x=surfacevalmean-0.03,color='green', linestyle='--',alpha = 0.5)\n",
    "#                                 plt.show()\n",
    "#                                 plt.plot(df_final[1], df_final[0]*-1)\n",
    "#                                 plt.show()\n",
    "                                break \n",
    "                        else:\n",
    "                            if (dffinunreversed.at[len(dffinunreversed)-1,'pressure'] <= 25 and dffinunreversed.at[len(dffinunreversed)-1,'pressure'] >= (month_df['depth'].iloc[ii] - 5)) or (dffinunreversed.at[len(dffinunreversed)-1,'pressure'] > 25 and dffinunreversed.at[len(dffinunreversed)-1,'pressure'] >= (month_df['depth'].iloc[ii] - 10)):\n",
    "                                for ix in range(len(dffinunreversed['density'])):\n",
    "                                    if dffinunreversed.at[ix,'density'] >= (surfacevalmean - dens_threshold) and dffinunreversed.at[ix,'density'] <= (surfacevalmean + dens_threshold):\n",
    "                                        pass\n",
    "                                    else:\n",
    "                                        densmld.append(month_df['depth'].iloc[ii])\n",
    "                                        obs_lat.append(month_df['lat'].iloc[ii])\n",
    "                                        obs_lon.append(month_df['lon'].iloc[ii])\n",
    "                                        date_no.append(month_df['day'].iloc[ii])\n",
    "                                        bottomdepth.append(month_df['depth'].iloc[ii])\n",
    "                                        years.append(year)\n",
    "                                        counterii.append(ii)\n",
    "                                        #plotting\n",
    "#                                         plt.plot(df_final[4], df_final[0]*-1)\n",
    "#                                         plt.axhline(y=dffinunreversed.at[ix,'pressure']*-1,color='gray', linestyle='--',alpha = 1)\n",
    "#                                         plt.axhline(y=month_df['depth'].iloc[ii]*-1,color='black', linestyle='-',alpha = 0.5)\n",
    "#                                         plt.axhline(y=dffinunreversed.at[len(dffinunreversed)-1,'pressure']*-1,color='red', linestyle='-',alpha = 0.5)\n",
    "#                                         plt.axhline(y=5*-1,color='green', linestyle='--',alpha = 1)\n",
    "#                                         plt.axvline(x=surfacevalmean,color='green', linestyle='--',alpha = 1)\n",
    "#                                         plt.axvline(x=surfacevalmean+0.03,color='green', linestyle='--',alpha = 0.5)\n",
    "#                                         plt.axvline(x=surfacevalmean-0.03,color='green', linestyle='--',alpha = 0.5)\n",
    "#                                         plt.show()\n",
    "#                                         plt.plot(df_final[1], df_final[0]*-1)\n",
    "#                                         plt.axhline(y=5*-1,color='green', linestyle='--',alpha = 1)\n",
    "#                                         plt.axhline(y=24*-1,color='gray', linestyle='--',alpha = 1)\n",
    "#                                         plt.axvline(x=5.25,color='green', linestyle='--',alpha = 1)\n",
    "#                                         plt.axvline(x=5.25+0.2,color='green', linestyle='--',alpha = 0.5)\n",
    "#                                         plt.axvline(x=5.25-0.2,color='green', linestyle='--',alpha = 0.5)\n",
    "#                                         plt.axhline(y=dffinunreversed.at[len(dffinunreversed)-1,'pressure']*-1,color='red', linestyle='-',alpha = 0.5)\n",
    "#                                         plt.axhline(y=month_df['depth'].iloc[ii]*-1,color='black', linestyle='-',alpha = 0.5)\n",
    "                                        plt.show()\n",
    "                                        break\n",
    "                                break\n",
    "                            else:\n",
    "                                break\n",
    "                    else: \n",
    "                        if dffinunreversed.at[ix,'density'] <= (surfacevalmean - dens_threshold) or dffinunreversed.at[ix,'density'] >= (surfacevalmean + dens_threshold):\n",
    "                            if (dffinunreversed.at[len(dffinunreversed)-1,'pressure'] <= 25 and dffinunreversed.at[len(dffinunreversed)-1,'pressure'] >= (month_df['depth'].iloc[ii] - 5) and dffinunreversed.at[ix,'pressure'] <= (month_df['depth'].iloc[ii] - 5)) or (dffinunreversed.at[len(dffinunreversed)-1,'pressure'] > 25 and dffinunreversed.at[len(dffinunreversed)-1,'pressure'] >= (month_df['depth'].iloc[ii] - 10) and dffinunreversed.at[ix,'pressure'] <= (month_df['depth'].iloc[ii] - 10)):\n",
    "                                pass\n",
    "                            else:\n",
    "                                densmld.append(dffinunreversed.at[ix,'pressure'])\n",
    "                                obs_lat.append(month_df['lat'].iloc[ii])\n",
    "                                obs_lon.append(month_df['lon'].iloc[ii])\n",
    "                                date_no.append(month_df['day'].iloc[ii])\n",
    "                                bottomdepth.append(month_df['depth'].iloc[ii])\n",
    "                                years.append(year)\n",
    "                                counterii.append(ii)\n",
    "#                                 PLOTTING \n",
    "#                                 plt.plot(df_final[4], df_final[0]*-1)\n",
    "#                                 plt.axhline(y=dffinunreversed.at[ix,'pressure']*-1,color='purple', linestyle='--',alpha = 0.5)\n",
    "#                                 plt.axhline(y=month_df['depth'].iloc[ii]*-1,color='black', linestyle='-',alpha = 0.5)\n",
    "#                                 plt.axhline(y=dffinunreversed.at[len(dffinunreversed)-1,'pressure']*-1,color='red', linestyle='-',alpha = 0.5)\n",
    "#                                 plt.axhline(y=5*-1,color='green', linestyle='--',alpha = 1)\n",
    "#                                 plt.axvline(x=surfacevalmean,color='green', linestyle='--',alpha = 1)\n",
    "#                                 plt.axvline(x=surfacevalmean+0.03,color='green', linestyle='--',alpha = 0.5)\n",
    "#                                 plt.axvline(x=surfacevalmean-0.03,color='green', linestyle='--',alpha = 0.5)\n",
    "#                                 plt.show()\n",
    "#                                 plt.plot(df_final[1], df_final[0]*-1)\n",
    "#                                 plt.show()\n",
    "                                break           \n",
    "                        else: \n",
    "                            if dffinunreversed.at[ix,'density'] >= (surfacevalmean + dens_threshold) or dffinunreversed.at[ix,'density'] <= (surfacevalmean - dens_threshold):\n",
    "                                break \n",
    "                elif dffinunreversed.at[ix,'density'] <= (surfacevalmean - dens_threshold) or dffinunreversed.at[ix,'density'] >= (surfacevalmean + dens_threshold):\n",
    "                    if (dffinunreversed.at[len(dffinunreversed)-1,'pressure'] <= 25 and dffinunreversed.at[len(dffinunreversed)-1,'pressure'] >= (month_df['depth'].iloc[ii] - 5) and dffinunreversed.at[ix,'pressure'] <= (month_df['depth'].iloc[ii] - 5)) or (dffinunreversed.at[len(dffinunreversed)-1,'pressure'] > 25 and dffinunreversed.at[len(dffinunreversed)-1,'pressure'] >= (month_df['depth'].iloc[ii] - 10) and dffinunreversed.at[ix,'pressure'] <= (month_df['depth'].iloc[ii] - 10)):\n",
    "                        pass\n",
    "                    else:\n",
    "                        for ix in range(len(dffinunreversed['density'])):\n",
    "                            if dffinunreversed.at[ix,'density'] >= (surfacevalmean - dens_threshold) and dffinunreversed.at[ix,'density'] <= (surfacevalmean + dens_threshold):\n",
    "#                                 print(dffinunreversed.at[ix,'density'])\n",
    "                                pass\n",
    "                            else:\n",
    "#                                 print('no')\n",
    "#                                 print('surfacevalmean: ', surfacevalmean)\n",
    "                                densmld.append(dffinunreversed.at[ix,'pressure'])\n",
    "                                obs_lat.append(month_df['lat'].iloc[ii])\n",
    "                                obs_lon.append(month_df['lon'].iloc[ii])\n",
    "                                date_no.append(month_df['day'].iloc[ii])\n",
    "                                bottomdepth.append(month_df['depth'].iloc[ii])\n",
    "                                years.append(year)\n",
    "                                counterii.append(ii)\n",
    "                                # PLOTTING\n",
    "#                                 plt.plot(df_final[4], df_final[0]*-1)\n",
    "#                                 plt.axhline(y=dffinunreversed.at[ix,'pressure']*-1,color='darkblue', linestyle='--',alpha = 1)\n",
    "#                                 plt.axhline(y=month_df['depth'].iloc[ii]*-1,color='black', linestyle='-',alpha = 0.5)\n",
    "#                                 plt.axhline(y=dffinunreversed.at[len(dffinunreversed)-1,'pressure']*-1,color='red', linestyle='-',alpha = 0.5)\n",
    "# #                                 plt.axhline(y=5*-1,color='green', linestyle='--',alpha = 1)\n",
    "# #                                 plt.axhline(y=47*-1,color='black',linewidth=2.0, linestyle='--',alpha = 1)\n",
    "# #                                 plt.axvline(x=7.0360000000000005,color='green', linestyle='--',alpha = 1)\n",
    "# #                                 plt.axvline(x=7.0360000000000005+0.2,color='green', linestyle='--',alpha = 0.5)\n",
    "# #                                 plt.axvline(x=7.0360000000000005-0.2,color='green', linestyle='--',alpha = 0.5)\n",
    "#                                 plt.axvline(x=surfacevalmean,color='green', linestyle='--',alpha = 1)\n",
    "#                                 plt.axvline(x=surfacevalmean+dens_threshold,color='green', linestyle='--',alpha = 0.5)\n",
    "#                                 plt.axvline(x=surfacevalmean-dens_threshold,color='green', linestyle='--',alpha = 0.5)\n",
    "#                                 plt.show()\n",
    "#                                 plt.plot(df_final[1], df_final[0]*-1)\n",
    "#                                 plt.axhline(y=month_df['depth'].iloc[ii]*-1,color='black', linestyle='-',alpha = 0.5)\n",
    "#                                 plt.axhline(y=dffinunreversed.at[len(dffinunreversed)-1,'pressure']*-1,color='red', linestyle='-',alpha = 0.5)\n",
    "#                                 plt.axhline(y=5*-1,color='green', linestyle='--',alpha = 1)\n",
    "#                                 plt.axvline(x=9.43,color='green', linestyle='--',alpha = 1)\n",
    "#                                 plt.axvline(x=9.43+0.2,color='green', linestyle='--',alpha = 0.5)\n",
    "#                                 plt.axvline(x=9.43-0.2,color='green', linestyle='--',alpha = 0.5)\n",
    "#                                 plt.axhline(y=15*-1,color='darkblue', linestyle='--',alpha = 1)\n",
    "#                                 plt.show()\n",
    "                                break\n",
    "                        break\n",
    "                else: \n",
    "                    break\n",
    "                                \n",
    "#     inlat = []; inlon = []; date = []\n",
    "#     g_lat = []; g_lon = []; g_indexlon = []; g_indexlat = []\n",
    "#     for timer in counterii:\n",
    "#         inlat.append(newdf['lat'][timer])\n",
    "#         inlon.append(newdf['lon'][timer])\n",
    "#         date.append(newdf['date'][timer])\n",
    "#     datefull.append(date)\n",
    "#     for x in range(len(date)):\n",
    "#         use=DS.sel(time=slice('{}-12-01'.format(year),'{}-12-31'.format(year))) \n",
    "#         locate_date = use.sel(time=use.time.dt.day==(date[x])-334)\n",
    "#         mld_locate_date = locate_date.mlotst.values[0]\n",
    "    \n",
    "#         lat = np.array(locate_date.mlotst['latitude'][:])\n",
    "#         long = np.array(locate_date.mlotst['longitude'][:])\n",
    "    \n",
    "#         lonneg = [float(i)*-1 for i in inlon]\n",
    "#         distanceslat = []; distanceslon = []\n",
    "#         for i in range(133):\n",
    "#             distanceslat.append((inlat[x] - lat[i])**2)\n",
    "#             index_min_lat = min(range(len(distanceslat)), key=distanceslat.__getitem__)\n",
    "#         for ii in range(181):\n",
    "#             distanceslon.append((lonneg[x] - long[ii])**2)\n",
    "#             index_min_lon = min(range(len(distanceslon)), key=distanceslon.__getitem__)\n",
    "#         lat_index_use, lon_index_use = index_min_lat, index_min_lon\n",
    "#         gloryslonval = float(DS['longitude'][index_min_lon])\n",
    "#         gloryslatval = float(DS['latitude'][index_min_lat])\n",
    "#         g_lat.append(gloryslatval)\n",
    "#         glorys_lat.append(gloryslatval)\n",
    "#         g_lon.append(gloryslonval)\n",
    "#         glorys_lon.append(gloryslonval)\n",
    "#         g_indexlat.append(index_min_lat)\n",
    "#         glorys_lat_index.append(index_min_lat)\n",
    "#         g_indexlon.append(index_min_lon)\n",
    "#         glorys_lon_index.append(index_min_lon)\n",
    "#         glorysmld.append(mld_locate_date[lat_index_use, lon_index_use]) \n",
    "#     print('**********')\n",
    "#     print(year)\n",
    "#     print(len(countwithinpolygon))\n",
    "#     print(len(densmld))\n",
    "#     print(len(obs_lat))\n",
    "#     print(len(obs_lon))\n",
    "#     print(len(date_no))\n",
    "#     print(len(bottomdepth))\n",
    "#     print(len(years))\n",
    "#     print(len(glorysmld))\n",
    "#     print(len(glorys_lat))\n",
    "#     print(len(glorys_lon))\n",
    "#     print(len(glorys_lat_index))\n",
    "#     print(len(glorys_lon_index))\n",
    "#     print('')"
   ]
  },
  {
   "cell_type": "code",
   "execution_count": 43,
   "metadata": {},
   "outputs": [
    {
     "name": "stdout",
     "output_type": "stream",
     "text": [
      "4057\n"
     ]
    }
   ],
   "source": [
    "print(len(obs_lat))\n",
    "# print(obs_lon)"
   ]
  },
  {
   "cell_type": "code",
   "execution_count": 3659,
   "metadata": {},
   "outputs": [
    {
     "name": "stdout",
     "output_type": "stream",
     "text": [
      "0.01\n"
     ]
    }
   ],
   "source": [
    "print(dens_threshold)"
   ]
  },
  {
   "cell_type": "code",
   "execution_count": null,
   "metadata": {},
   "outputs": [],
   "source": []
  },
  {
   "cell_type": "code",
   "execution_count": 3664,
   "metadata": {},
   "outputs": [],
   "source": [
    "temp_threshold = 0.2"
   ]
  },
  {
   "cell_type": "code",
   "execution_count": 3665,
   "metadata": {
    "scrolled": true
   },
   "outputs": [
    {
     "name": "stdout",
     "output_type": "stream",
     "text": [
      "**********\n",
      "1993\n",
      "115\n",
      "115\n",
      "115\n",
      "115\n",
      "115\n",
      "115\n",
      "115\n",
      "115\n",
      "115\n",
      "115\n",
      "115\n",
      "115\n",
      "\n",
      "**********\n",
      "1994\n",
      "117\n",
      "117\n",
      "117\n",
      "117\n",
      "117\n",
      "117\n",
      "117\n",
      "117\n",
      "117\n",
      "117\n",
      "117\n",
      "117\n",
      "\n",
      "**********\n",
      "1995\n",
      "117\n",
      "117\n",
      "117\n",
      "117\n",
      "117\n",
      "117\n",
      "117\n",
      "117\n",
      "117\n",
      "117\n",
      "117\n",
      "117\n",
      "\n",
      "**********\n",
      "1996\n",
      "117\n",
      "117\n",
      "117\n",
      "117\n",
      "117\n",
      "117\n",
      "117\n",
      "117\n",
      "117\n",
      "117\n",
      "117\n",
      "117\n",
      "\n",
      "**********\n",
      "1997\n",
      "117\n",
      "117\n",
      "117\n",
      "117\n",
      "117\n",
      "117\n",
      "117\n",
      "117\n",
      "117\n",
      "117\n",
      "117\n",
      "117\n",
      "\n",
      "**********\n",
      "1998\n",
      "117\n",
      "117\n",
      "117\n",
      "117\n",
      "117\n",
      "117\n",
      "117\n",
      "117\n",
      "117\n",
      "117\n",
      "117\n",
      "117\n",
      "\n",
      "**********\n",
      "1999\n",
      "117\n",
      "117\n",
      "117\n",
      "117\n",
      "117\n",
      "117\n",
      "117\n",
      "117\n",
      "117\n",
      "117\n",
      "117\n",
      "117\n",
      "\n",
      "**********\n",
      "2000\n",
      "117\n",
      "117\n",
      "117\n",
      "117\n",
      "117\n",
      "117\n",
      "117\n",
      "117\n",
      "117\n",
      "117\n",
      "117\n",
      "117\n",
      "\n",
      "**********\n",
      "2001\n",
      "117\n",
      "117\n",
      "117\n",
      "117\n",
      "117\n",
      "117\n",
      "117\n",
      "117\n",
      "117\n",
      "117\n",
      "117\n",
      "117\n",
      "\n",
      "**********\n",
      "2002\n",
      "117\n",
      "117\n",
      "117\n",
      "117\n",
      "117\n",
      "117\n",
      "117\n",
      "117\n",
      "117\n",
      "117\n",
      "117\n",
      "117\n",
      "\n",
      "**********\n",
      "2003\n",
      "117\n",
      "117\n",
      "117\n",
      "117\n",
      "117\n",
      "117\n",
      "117\n",
      "117\n",
      "117\n",
      "117\n",
      "117\n",
      "117\n",
      "\n",
      "**********\n",
      "2004\n",
      "117\n",
      "117\n",
      "117\n",
      "117\n",
      "117\n",
      "117\n",
      "117\n",
      "117\n",
      "117\n",
      "117\n",
      "117\n",
      "117\n",
      "\n",
      "**********\n",
      "2005\n",
      "117\n",
      "117\n",
      "117\n",
      "117\n",
      "117\n",
      "117\n",
      "117\n",
      "117\n",
      "117\n",
      "117\n",
      "117\n",
      "117\n",
      "\n",
      "**********\n",
      "2006\n",
      "117\n",
      "117\n",
      "117\n",
      "117\n",
      "117\n",
      "117\n",
      "117\n",
      "117\n",
      "117\n",
      "117\n",
      "117\n",
      "117\n",
      "\n",
      "**********\n",
      "2007\n",
      "117\n",
      "117\n",
      "117\n",
      "117\n",
      "117\n",
      "117\n",
      "117\n",
      "117\n",
      "117\n",
      "117\n",
      "117\n",
      "117\n",
      "\n",
      "**********\n",
      "2008\n",
      "117\n",
      "117\n",
      "117\n",
      "117\n",
      "117\n",
      "117\n",
      "117\n",
      "117\n",
      "117\n",
      "117\n",
      "117\n",
      "117\n",
      "\n",
      "**********\n",
      "2009\n",
      "117\n",
      "117\n",
      "117\n",
      "117\n",
      "117\n",
      "117\n",
      "117\n",
      "117\n",
      "117\n",
      "117\n",
      "117\n",
      "117\n",
      "\n",
      "**********\n",
      "2010\n",
      "186\n",
      "182\n",
      "182\n",
      "182\n",
      "182\n",
      "182\n",
      "182\n",
      "182\n",
      "182\n",
      "182\n",
      "182\n",
      "182\n",
      "\n",
      "**********\n",
      "2011\n",
      "258\n",
      "247\n",
      "247\n",
      "247\n",
      "247\n",
      "247\n",
      "247\n",
      "247\n",
      "247\n",
      "247\n",
      "247\n",
      "247\n",
      "\n",
      "**********\n",
      "2012\n",
      "258\n",
      "247\n",
      "247\n",
      "247\n",
      "247\n",
      "247\n",
      "247\n",
      "247\n",
      "247\n",
      "247\n",
      "247\n",
      "247\n",
      "\n",
      "**********\n",
      "2013\n",
      "258\n",
      "247\n",
      "247\n",
      "247\n",
      "247\n",
      "247\n",
      "247\n",
      "247\n",
      "247\n",
      "247\n",
      "247\n",
      "247\n",
      "\n",
      "**********\n",
      "2014\n",
      "258\n",
      "247\n",
      "247\n",
      "247\n",
      "247\n",
      "247\n",
      "247\n",
      "247\n",
      "247\n",
      "247\n",
      "247\n",
      "247\n",
      "\n",
      "**********\n",
      "2015\n",
      "258\n",
      "247\n",
      "247\n",
      "247\n",
      "247\n",
      "247\n",
      "247\n",
      "247\n",
      "247\n",
      "247\n",
      "247\n",
      "247\n",
      "\n",
      "**********\n",
      "2016\n",
      "258\n",
      "247\n",
      "247\n",
      "247\n",
      "247\n",
      "247\n",
      "247\n",
      "247\n",
      "247\n",
      "247\n",
      "247\n",
      "247\n",
      "\n",
      "**********\n",
      "2017\n",
      "258\n",
      "247\n",
      "247\n",
      "247\n",
      "247\n",
      "247\n",
      "247\n",
      "247\n",
      "247\n",
      "247\n",
      "247\n",
      "247\n",
      "\n",
      "**********\n",
      "2018\n",
      "258\n",
      "247\n",
      "247\n",
      "247\n",
      "247\n",
      "247\n",
      "247\n",
      "247\n",
      "247\n",
      "247\n",
      "247\n",
      "247\n",
      "\n"
     ]
    }
   ],
   "source": [
    "countwithinpolygon = []; tempmld = []; obs_lat = []; obs_lon = []; date_no = []; bottomdepth = []; years = []\n",
    "yearwithdata = []; datefull = []; finallatestdepth = []; glorysmld = []\n",
    "glorys_lat = []; glorys_lon = []; glorys_lat_index = []; glorys_lon_index = []\n",
    "\n",
    "for year in range(1993,2019):\n",
    "    filename = 'casts_{}.mat'.format(year)\n",
    "    file = scipy.io.loadmat(filename,squeeze_me=True)\n",
    "    npfile = file['casts_{}'.format(year)]\n",
    "    \n",
    "    lat_intermediate = []; lon_intermediate = []; p_intermediate = []; counterii = []\n",
    "    t_intermediate = []; yd_intermediate = []; sal_intermediate = []; floor_intermediate = []\n",
    "    \n",
    "    for i in range(len(npfile)):\n",
    "        yd = npfile[i]['yd']\n",
    "        p = npfile[i]['p']\n",
    "        s = npfile[i]['s']\n",
    "        t = npfile[i]['t']\n",
    "        gear = npfile[i]['gear']\n",
    "        floordepth = npfile[i]['depth']\n",
    "#         if yd == 0:\n",
    "        if yd > 334 and yd <= 365:  # and floordepth <= 200\n",
    "            lat_intermediate.append(npfile[i]['lat'])\n",
    "            lon_intermediate.append(npfile[i]['lon'])\n",
    "            p_intermediate.append(npfile[i]['p'])\n",
    "            t_intermediate.append(npfile[i]['t'])\n",
    "            yd_intermediate.append(npfile[i]['yd'])\n",
    "            sal_intermediate.append(npfile[i]['s'])\n",
    "            floor_intermediate.append(npfile[i]['depth'])\n",
    "    month_df = pd.DataFrame({'day': yd_intermediate,'lon': lon_intermediate,'lat': lat_intermediate, 'p': p_intermediate, 't': t_intermediate,'depth': floor_intermediate, 's': sal_intermediate})\n",
    "    newdf = pd.DataFrame({'lon': lon_intermediate,'lat': lat_intermediate,'date': yd_intermediate})\n",
    "    for ii in range(len(month_df)):\n",
    "        new = newdf.iloc[ii].values\n",
    "        point = Point(new)\n",
    "        if isinstance(month_df['p'].iloc[ii], int) or isinstance(month_df['p'].iloc[ii], float) or isinstance(month_df['t'].iloc[ii], int) or isinstance(month_df['t'].iloc[ii], float):\n",
    "            pass\n",
    "        elif polygon_x.contains(point) == True or polygon_y.contains(point) == True or polygon_w.contains(point) == True or polygon_t.contains(point) == True or polygon_v.contains(point) == True:\n",
    "            SA = gsw.SA_from_SP(month_df['s'].iloc[ii],month_df['p'].iloc[ii],month_df['lon'].iloc[ii],month_df['lat'].iloc[ii])\n",
    "            CT = gsw.CT_from_pt(SA,month_df['t'].iloc[ii])\n",
    "            DENS = gsw.sigma0(SA,CT)\n",
    "            pt_df = pd.DataFrame({'p': month_df['p'].iloc[ii],'t': month_df['t'].iloc[ii], 's': month_df['s'].iloc[ii], 'CT': CT, 'DENSMLD': DENS}) \n",
    "            df_ptsnew = pt_df.dropna()\n",
    "            df_final = pd.DataFrame(df_ptsnew.values)\n",
    "            countwithinpolygon.append(1)\n",
    "            l=[i for i in df_final[0] if i<=5] \n",
    "            if len(l) > 0:\n",
    "                surfaceval = []\n",
    "                numrange = []\n",
    "                for iii in range(len(l)):\n",
    "                    val = df_final[1][iii]\n",
    "                    numrange.append(iii)\n",
    "                    surfaceval.append(val)            \n",
    "            surfacevalmean = statistics.mean(surfaceval)\n",
    "            densfin = []; tempfin = []; pressurefin = []; salfin = []\n",
    "            for iii in range(numrange[-1],len(df_final)):\n",
    "                tempfin.append(df_final[1][iii])\n",
    "                pressurefin.append(df_final[0][iii])\n",
    "                salfin.append(df_final[2][iii])\n",
    "                densfin.append(df_final[4][iii])\n",
    "            d = {'temp': list(reversed(tempfin)), 'sal': list(reversed(salfin)), 'pressure': list(reversed(pressurefin)),'density': list(reversed(densfin))}\n",
    "            dunreversed = {'temp': list(tempfin), 'sal': list(salfin), 'pressure': list(pressurefin), 'density': list(densfin)}\n",
    "            dffinunreversed = pd.DataFrame(dunreversed)\n",
    "            dffin = pd.DataFrame(d)\n",
    "\n",
    "            for ix in range(len(dffinunreversed)):\n",
    "                if dffinunreversed.at[ix,'temp'] >= (surfacevalmean - temp_threshold) and dffinunreversed.at[ix,'temp'] <= (surfacevalmean + temp_threshold):\n",
    "                    if dffinunreversed.at[len(dffinunreversed)-1,'temp'] <= (surfacevalmean + temp_threshold) and dffinunreversed.at[len(dffinunreversed)-1,'temp'] >= (surfacevalmean - temp_threshold):\n",
    "                        looknow = list(dffinunreversed['temp'].values)\n",
    "                        looknow2 = [i for i in looknow if i >= (surfacevalmean + temp_threshold)]\n",
    "                        looknow3 = [i for i in looknow if i <= (surfacevalmean - temp_threshold)]\n",
    "                        if len(looknow2) == 0 and len(looknow3) == 0:\n",
    "                            if (dffinunreversed.at[len(dffinunreversed)-1,'pressure'] <= 25 and dffinunreversed.at[len(dffinunreversed)-1,'pressure'] >= (month_df['depth'].iloc[ii] - 5)) or (dffinunreversed.at[len(dffinunreversed)-1,'pressure'] > 25 and dffinunreversed.at[len(dffinunreversed)-1,'pressure'] >= (month_df['depth'].iloc[ii] - 10)):\n",
    "                                tempmld.append(month_df['depth'].iloc[ii])\n",
    "                                obs_lat.append(month_df['lat'].iloc[ii])\n",
    "                                obs_lon.append(month_df['lon'].iloc[ii])\n",
    "                                date_no.append(month_df['day'].iloc[ii])\n",
    "                                bottomdepth.append(month_df['depth'].iloc[ii])\n",
    "                                years.append(year)\n",
    "                                counterii.append(ii)\n",
    "                                # PLOTTING\n",
    "#                                 plt.plot(df_final[4], df_final[0]*-1)\n",
    "#                                 plt.axhline(y=month_df['depth'].iloc[ii]*-1,color='black', linestyle='-',alpha = 0.5)\n",
    "#                                 plt.axhline(y=dffinunreversed.at[len(dffinunreversed)-1,'pressure']*-1,color='red', linestyle='-',alpha = 0.5)\n",
    "#                                 plt.axhline(y=5*-1,color='green', linestyle='--',alpha = 1)\n",
    "#                                 plt.axvline(x=surfacevalmean,color='green', linestyle='--',alpha = 1)\n",
    "#                                 plt.axvline(x=surfacevalmean+0.03,color='green', linestyle='--',alpha = 0.5)\n",
    "#                                 plt.axvline(x=surfacevalmean-0.03,color='green', linestyle='--',alpha = 0.5)\n",
    "#                                 plt.show()\n",
    "                                break\n",
    "                            else:#here\n",
    "                                break \n",
    "                        else:\n",
    "                            if (dffinunreversed.at[len(dffinunreversed)-1,'pressure'] <= 25 and dffinunreversed.at[len(dffinunreversed)-1,'pressure'] >= (month_df['depth'].iloc[ii] - 5)) or (dffinunreversed.at[len(dffinunreversed)-1,'pressure'] > 25 and dffinunreversed.at[len(dffinunreversed)-1,'pressure'] >= (month_df['depth'].iloc[ii] - 10)):\n",
    "                                for ix in range(len(dffinunreversed['temp'])):\n",
    "                                    if dffinunreversed.at[ix,'temp'] >= (surfacevalmean - temp_threshold) and dffinunreversed.at[ix,'temp'] <= (surfacevalmean + temp_threshold):\n",
    "                                        pass\n",
    "                                    else:\n",
    "                                        tempmld.append(month_df['depth'].iloc[ii])\n",
    "                                        obs_lat.append(month_df['lat'].iloc[ii])\n",
    "                                        obs_lon.append(month_df['lon'].iloc[ii])\n",
    "                                        date_no.append(month_df['day'].iloc[ii])\n",
    "                                        bottomdepth.append(month_df['depth'].iloc[ii])\n",
    "                                        years.append(year)\n",
    "                                        counterii.append(ii)\n",
    "#                                         PLOTTING problem here\n",
    "#                                         plt.plot(df_final[4], df_final[0]*-1)\n",
    "#                                         plt.axhline(y=dffinunreversed.at[ix,'pressure']*-1,color='gray', linestyle='--',alpha = 1)\n",
    "#                                         plt.axhline(y=month_df['depth'].iloc[ii]*-1,color='black', linestyle='-',alpha = 0.5)\n",
    "#                                         plt.axhline(y=dffinunreversed.at[len(dffinunreversed)-1,'pressure']*-1,color='red', linestyle='-',alpha = 0.5)\n",
    "#                                         plt.axhline(y=5*-1,color='green', linestyle='--',alpha = 1)\n",
    "#                                         plt.axvline(x=surfacevalmean,color='green', linestyle='--',alpha = 1)\n",
    "#                                         plt.axvline(x=surfacevalmean+0.03,color='green', linestyle='--',alpha = 0.5)\n",
    "#                                         plt.axvline(x=surfacevalmean-0.03,color='green', linestyle='--',alpha = 0.5)\n",
    "#                                         plt.show()\n",
    "                                        break\n",
    "                                break\n",
    "                            else:\n",
    "                                break\n",
    "                    else: \n",
    "                        if dffinunreversed.at[ix,'temp'] <= (surfacevalmean - temp_threshold) or dffinunreversed.at[ix,'temp'] >= (surfacevalmean + temp_threshold):\n",
    "                            if (dffinunreversed.at[len(dffinunreversed)-1,'pressure'] <= 25 and dffinunreversed.at[len(dffinunreversed)-1,'pressure'] >= (month_df['depth'].iloc[ii] - 5) and dffinunreversed.at[ix,'pressure'] <= (month_df['depth'].iloc[ii] - 5)) or (dffinunreversed.at[len(dffinunreversed)-1,'pressure'] > 25 and dffinunreversed.at[len(dffinunreversed)-1,'pressure'] >= (month_df['depth'].iloc[ii] - 10) and dffinunreversed.at[ix,'pressure'] <= (month_df['depth'].iloc[ii] - 10)):\n",
    "                                pass\n",
    "                            else:\n",
    "                                tempmld.append(dffinunreversed.at[ix,'pressure'])\n",
    "                                obs_lat.append(month_df['lat'].iloc[ii])\n",
    "                                obs_lon.append(month_df['lon'].iloc[ii])\n",
    "                                date_no.append(month_df['day'].iloc[ii])\n",
    "                                bottomdepth.append(month_df['depth'].iloc[ii])\n",
    "                                years.append(year)\n",
    "                                counterii.append(ii)\n",
    "#                                 PLOTTING \n",
    "#                                 plt.plot(df_final[4], df_final[0]*-1)\n",
    "#                                 plt.axhline(y=dffinunreversed.at[ix,'pressure']*-1,color='purple', linestyle='--',alpha = 0.5)\n",
    "#                                 plt.axhline(y=month_df['depth'].iloc[ii]*-1,color='black', linestyle='-',alpha = 0.5)\n",
    "#                                 plt.axhline(y=dffinunreversed.at[len(dffinunreversed)-1,'pressure']*-1,color='red', linestyle='-',alpha = 0.5)\n",
    "#                                 plt.axhline(y=5*-1,color='green', linestyle='--',alpha = 1)\n",
    "#                                 plt.axvline(x=surfacevalmean,color='green', linestyle='--',alpha = 1)\n",
    "#                                 plt.axvline(x=surfacevalmean+0.03,color='green', linestyle='--',alpha = 0.5)\n",
    "#                                 plt.axvline(x=surfacevalmean-0.03,color='green', linestyle='--',alpha = 0.5)\n",
    "#                                 plt.show()\n",
    "                                break           \n",
    "                        else: \n",
    "                            if dffinunreversed.at[ix,'temp'] >= (surfacevalmean + temp_threshold) or dffinunreversed.at[ix,'temp'] <= (surfacevalmean - temp_threshold):\n",
    "                                break \n",
    "                elif dffinunreversed.at[ix,'temp'] <= (surfacevalmean - temp_threshold) or dffinunreversed.at[ix,'temp'] >= (surfacevalmean + temp_threshold):\n",
    "                    if (dffinunreversed.at[len(dffinunreversed)-1,'pressure'] <= 25 and dffinunreversed.at[len(dffinunreversed)-1,'pressure'] >= (month_df['depth'].iloc[ii] - 5) and dffinunreversed.at[ix,'pressure'] <= (month_df['depth'].iloc[ii] - 5)) or (dffinunreversed.at[len(dffinunreversed)-1,'pressure'] > 25 and dffinunreversed.at[len(dffinunreversed)-1,'pressure'] >= (month_df['depth'].iloc[ii] - 10) and dffinunreversed.at[ix,'pressure'] <= (month_df['depth'].iloc[ii] - 10)):\n",
    "                        pass\n",
    "                    else:\n",
    "                        for ix in range(len(dffinunreversed['temp'])):\n",
    "                            if dffinunreversed.at[ix,'temp'] >= (surfacevalmean - temp_threshold) and dffinunreversed.at[ix,'temp'] <= (surfacevalmean + temp_threshold):\n",
    "#                                 print(dffinunreversed.at[ix,'density'])\n",
    "                                pass\n",
    "                            else:\n",
    "#                                 print('no')\n",
    "#                                 print('surfacevalmean:*** ', surfacevalmean)\n",
    "                                tempmld.append(dffinunreversed.at[ix,'pressure'])\n",
    "                                obs_lat.append(month_df['lat'].iloc[ii])\n",
    "                                obs_lon.append(month_df['lon'].iloc[ii])\n",
    "                                date_no.append(month_df['day'].iloc[ii])\n",
    "                                bottomdepth.append(month_df['depth'].iloc[ii])\n",
    "                                years.append(year)\n",
    "                                counterii.append(ii)\n",
    "                                \n",
    "                                # PLOTTING\n",
    "#                                 plt.plot(df_final[4], df_final[0]*-1)\n",
    "#                                 plt.axhline(y=dffinunreversed.at[ix,'pressure']*-1,color='darkblue', linestyle='--',alpha = 1)\n",
    "#                                 plt.axhline(y=month_df['depth'].iloc[ii]*-1,color='black', linestyle='-',alpha = 0.5)\n",
    "#                                 plt.axhline(y=dffinunreversed.at[len(dffinunreversed)-1,'pressure']*-1,color='red', linestyle='-',alpha = 0.5)\n",
    "#                                 plt.axhline(y=5*-1,color='green', linestyle='--',alpha = 1)\n",
    "#                                 plt.axvline(x=surfacevalmean,color='green', linestyle='--',alpha = 1)\n",
    "#                                 plt.axvline(x=surfacevalmean+0.03,color='green', linestyle='--',alpha = 0.5)\n",
    "#                                 plt.axvline(x=surfacevalmean-0.03,color='green', linestyle='--',alpha = 0.5)\n",
    "#                                 plt.show()\n",
    "                                break\n",
    "                        break\n",
    "                else: \n",
    "                    break\n",
    "\n",
    "    inlat = []; inlon = []; date = []\n",
    "    g_lat = []; g_lon = []; g_indexlon = []; g_indexlat = []\n",
    "    for timer in counterii:\n",
    "        inlat.append(newdf['lat'][timer])\n",
    "        inlon.append(newdf['lon'][timer])\n",
    "        date.append(newdf['date'][timer])\n",
    "    datefull.append(date)\n",
    "    for x in range(len(date)):\n",
    "        use=DS.sel(time=slice('{}-12-01'.format(year),'{}-12-31'.format(year))) \n",
    "        locate_date = use.sel(time=use.time.dt.day==(date[x])-334)\n",
    "        mld_locate_date = locate_date.mlotst.values[0]\n",
    "    \n",
    "        lat = np.array(locate_date.mlotst['latitude'][:])\n",
    "        long = np.array(locate_date.mlotst['longitude'][:])\n",
    "    \n",
    "        lonneg = [float(i)*-1 for i in inlon]\n",
    "        distanceslat = []; distanceslon = []\n",
    "        for i in range(133):\n",
    "            distanceslat.append((inlat[x] - lat[i])**2)\n",
    "            index_min_lat = min(range(len(distanceslat)), key=distanceslat.__getitem__)\n",
    "        for ii in range(181):\n",
    "            distanceslon.append((lonneg[x] - long[ii])**2)\n",
    "            index_min_lon = min(range(len(distanceslon)), key=distanceslon.__getitem__)\n",
    "        lat_index_use, lon_index_use = index_min_lat, index_min_lon\n",
    "        gloryslonval = float(DS['longitude'][index_min_lon])\n",
    "        gloryslatval = float(DS['latitude'][index_min_lat])\n",
    "        g_lat.append(gloryslatval)\n",
    "        glorys_lat.append(gloryslatval)\n",
    "        g_lon.append(gloryslonval)\n",
    "        glorys_lon.append(gloryslonval)\n",
    "        g_indexlat.append(index_min_lat)\n",
    "        glorys_lat_index.append(index_min_lat)\n",
    "        g_indexlon.append(index_min_lon)\n",
    "        glorys_lon_index.append(index_min_lon)\n",
    "        glorysmld.append(mld_locate_date[lat_index_use, lon_index_use]) \n",
    "    print('**********')\n",
    "    print(year)\n",
    "    print(len(countwithinpolygon))\n",
    "    print(len(tempmld))\n",
    "    print(len(obs_lat))\n",
    "    print(len(obs_lon))\n",
    "    print(len(date_no))\n",
    "    print(len(bottomdepth))\n",
    "    print(len(years))\n",
    "    print(len(glorysmld))\n",
    "    print(len(glorys_lat))\n",
    "    print(len(glorys_lon))\n",
    "    print(len(glorys_lat_index))\n",
    "    print(len(glorys_lon_index))\n",
    "    print('')"
   ]
  },
  {
   "cell_type": "code",
   "execution_count": 3666,
   "metadata": {},
   "outputs": [
    {
     "name": "stdout",
     "output_type": "stream",
     "text": [
      "247\n",
      "247\n"
     ]
    }
   ],
   "source": [
    "print(len(tempmld))\n",
    "print(len(glorysmld))"
   ]
  },
  {
   "cell_type": "code",
   "execution_count": 3667,
   "metadata": {},
   "outputs": [
    {
     "name": "stdout",
     "output_type": "stream",
     "text": [
      "47.06072874493927\n",
      "37.273357\n"
     ]
    }
   ],
   "source": [
    "print(np.mean(tempmld))\n",
    "print(np.nanmean(glorysmld))"
   ]
  },
  {
   "cell_type": "code",
   "execution_count": 3660,
   "metadata": {},
   "outputs": [
    {
     "name": "stdout",
     "output_type": "stream",
     "text": [
      "244\n",
      "244\n"
     ]
    }
   ],
   "source": [
    "print(len(densmld))\n",
    "print(len(glorysmld))"
   ]
  },
  {
   "cell_type": "code",
   "execution_count": 3661,
   "metadata": {},
   "outputs": [
    {
     "name": "stdout",
     "output_type": "stream",
     "text": [
      "29.491803278688526\n",
      "37.32264\n"
     ]
    }
   ],
   "source": [
    "print(np.mean(densmld))\n",
    "print(np.nanmean(glorysmld))"
   ]
  },
  {
   "cell_type": "code",
   "execution_count": 3668,
   "metadata": {},
   "outputs": [],
   "source": [
    "pandas_02 = pd.DataFrame({'obs_lat': obs_lat,'obs_lon': obs_lon, 'glorys_lat': glorys_lat, 'glorys_lon': glorys_lon,\n",
    "                      'glorys_lat_index': glorys_lat_index, 'glorys_lon_index': glorys_lon_index, \n",
    "                      'bottomdepth':bottomdepth,'year':years, 'date_no':date_no, '02tempmld':tempmld, 'glorys_mld': glorysmld}) "
   ]
  },
  {
   "cell_type": "code",
   "execution_count": 3669,
   "metadata": {},
   "outputs": [
    {
     "name": "stdout",
     "output_type": "stream",
     "text": [
      "247\n"
     ]
    }
   ],
   "source": [
    "print(len(pandas_02))"
   ]
  },
  {
   "cell_type": "code",
   "execution_count": 3662,
   "metadata": {},
   "outputs": [],
   "source": [
    "pandas_001 = pd.DataFrame({'obs_lat': obs_lat,'obs_lon': obs_lon, 'glorys_lat': glorys_lat, 'glorys_lon': glorys_lon,\n",
    "                      'glorys_lat_index': glorys_lat_index, 'glorys_lon_index': glorys_lon_index, \n",
    "                      'bottomdepth':bottomdepth,'year':years, 'date_no':date_no, '001densmld':densmld, 'glorys_mld': glorysmld}) \n"
   ]
  },
  {
   "cell_type": "code",
   "execution_count": 3663,
   "metadata": {},
   "outputs": [
    {
     "name": "stdout",
     "output_type": "stream",
     "text": [
      "244\n"
     ]
    }
   ],
   "source": [
    "print(len(pandas_001))"
   ]
  },
  {
   "cell_type": "code",
   "execution_count": 3654,
   "metadata": {},
   "outputs": [],
   "source": [
    "pandas = pd.DataFrame({'obs_lat': obs_lat,'obs_lon': obs_lon, 'glorys_lat': glorys_lat, 'glorys_lon': glorys_lon,\n",
    "                      'glorys_lat_index': glorys_lat_index, 'glorys_lon_index': glorys_lon_index, \n",
    "                      'bottomdepth':bottomdepth,'year':years, 'date_no':date_no, '003densmld':densmld, 'glorys_mld': glorysmld}) \n",
    "\n"
   ]
  },
  {
   "cell_type": "code",
   "execution_count": 3655,
   "metadata": {},
   "outputs": [
    {
     "name": "stdout",
     "output_type": "stream",
     "text": [
      "244\n"
     ]
    }
   ],
   "source": [
    "print(len(pandas))"
   ]
  },
  {
   "cell_type": "code",
   "execution_count": 3670,
   "metadata": {},
   "outputs": [],
   "source": [
    "pandas_02new = pandas_02.assign(location=[*zip(pandas_02.glorys_lat_index, pandas_02.glorys_lon_index, pandas_02.year, pandas_02.obs_lon, pandas_02.obs_lat,pandas_02.date_no)])\n",
    "\n"
   ]
  },
  {
   "cell_type": "code",
   "execution_count": 3671,
   "metadata": {},
   "outputs": [],
   "source": [
    "pandas_001new = pandas_001.assign(location=[*zip(pandas_001.glorys_lat_index, pandas_001.glorys_lon_index, pandas_001.year, pandas_001.obs_lon, pandas_001.obs_lat,pandas_001.date_no)])\n",
    "\n"
   ]
  },
  {
   "cell_type": "code",
   "execution_count": 3672,
   "metadata": {},
   "outputs": [],
   "source": [
    "pandas_003new = pandas.assign(location=[*zip(pandas.glorys_lat_index, pandas.glorys_lon_index, pandas.year, pandas.obs_lon, pandas.obs_lat, pandas.date_no)])\n"
   ]
  },
  {
   "cell_type": "code",
   "execution_count": 3673,
   "metadata": {},
   "outputs": [
    {
     "name": "stdout",
     "output_type": "stream",
     "text": [
      "244\n",
      "247\n",
      "244\n"
     ]
    }
   ],
   "source": [
    "print(len(pandas_003new['location'].unique()))\n",
    "print(len(pandas_02new['location'].unique()))\n",
    "print(len(pandas_001new['location'].unique()))"
   ]
  },
  {
   "cell_type": "code",
   "execution_count": 3674,
   "metadata": {},
   "outputs": [
    {
     "name": "stdout",
     "output_type": "stream",
     "text": [
      "244\n",
      "247\n",
      "244\n"
     ]
    }
   ],
   "source": [
    "print(len(pandas_003new))\n",
    "print(len(pandas_02new))\n",
    "print(len(pandas_001new))"
   ]
  },
  {
   "cell_type": "code",
   "execution_count": 3675,
   "metadata": {},
   "outputs": [],
   "source": [
    "pandas_003new = pandas_003new.drop_duplicates(subset=['location'])\n",
    "pandas_02new = pandas_02new.drop_duplicates(subset=['location'])\n",
    "pandas_001new = pandas_001new.drop_duplicates(subset=['location'])"
   ]
  },
  {
   "cell_type": "code",
   "execution_count": 3676,
   "metadata": {},
   "outputs": [],
   "source": [
    "pandas_001and003 = pd.merge(pandas_001new, pandas_003new, left_on=['location'], \n",
    "                        right_on = ['location'], left_index=True, how='outer', sort=False)"
   ]
  },
  {
   "cell_type": "code",
   "execution_count": 3677,
   "metadata": {},
   "outputs": [
    {
     "name": "stdout",
     "output_type": "stream",
     "text": [
      "244\n"
     ]
    }
   ],
   "source": [
    "print(len(pandas_001and003))"
   ]
  },
  {
   "cell_type": "code",
   "execution_count": 3678,
   "metadata": {},
   "outputs": [],
   "source": [
    "pandas_00100302 = pd.merge(pandas_001and003, pandas_02new, left_on=['location'], \n",
    "                        right_on = ['location'], left_index=True, how='outer', sort=False)"
   ]
  },
  {
   "cell_type": "code",
   "execution_count": 3679,
   "metadata": {},
   "outputs": [
    {
     "name": "stdout",
     "output_type": "stream",
     "text": [
      "247\n"
     ]
    }
   ],
   "source": [
    "print(len(pandas_00100302))"
   ]
  },
  {
   "cell_type": "code",
   "execution_count": 3680,
   "metadata": {},
   "outputs": [
    {
     "name": "stdout",
     "output_type": "stream",
     "text": [
      "     obs_lat_x  obs_lon_x  glorys_lat_x  glorys_lon_x  glorys_lat_index_x  \\\n",
      "0      40.9000    70.6833     40.916668    -70.666664                71.0   \n",
      "1      41.0350    70.3667     41.000000    -70.333336                72.0   \n",
      "2      41.0650    70.0300     41.083332    -70.000000                73.0   \n",
      "3      40.9317    70.1333     40.916668    -70.166664                71.0   \n",
      "4      40.9300    69.9850     40.916668    -70.000000                71.0   \n",
      "..         ...        ...           ...           ...                 ...   \n",
      "245    41.0367    70.3983     41.000000    -70.416664                72.0   \n",
      "246    41.0600    70.5133     41.083332    -70.500000                73.0   \n",
      "150        NaN        NaN           NaN           NaN                 NaN   \n",
      "220        NaN        NaN           NaN           NaN                 NaN   \n",
      "244        NaN        NaN           NaN           NaN                 NaN   \n",
      "\n",
      "     glorys_lon_index_x  bottomdepth_x  year_x  date_no_x  001densmld  ...  \\\n",
      "0                  88.0           53.0  1993.0      335.0        32.0  ...   \n",
      "1                  92.0           40.0  1993.0      335.0        40.0  ...   \n",
      "2                  96.0           25.0  1993.0      335.0        18.0  ...   \n",
      "3                  94.0           24.0  1993.0      335.0        24.0  ...   \n",
      "4                  96.0           22.0  1993.0      335.0        22.0  ...   \n",
      "..                  ...            ...     ...        ...         ...  ...   \n",
      "245                91.0           41.0  2011.0      342.0        17.0  ...   \n",
      "246                90.0           42.0  2011.0      342.0        16.0  ...   \n",
      "150                 NaN            NaN     NaN        NaN         NaN  ...   \n",
      "220                 NaN            NaN     NaN        NaN         NaN  ...   \n",
      "244                 NaN            NaN     NaN        NaN         NaN  ...   \n",
      "\n",
      "     obs_lon glorys_lat  glorys_lon  glorys_lat_index  glorys_lon_index  \\\n",
      "0    70.6833  40.916668  -70.666664                71                88   \n",
      "1    70.3667  41.000000  -70.333336                72                92   \n",
      "2    70.0300  41.083332  -70.000000                73                96   \n",
      "3    70.1333  40.916668  -70.166664                71                94   \n",
      "4    69.9850  40.916668  -70.000000                71                96   \n",
      "..       ...        ...         ...               ...               ...   \n",
      "245  70.3983  41.000000  -70.416664                72                91   \n",
      "246  70.5133  41.083332  -70.500000                73                90   \n",
      "150  70.1267  42.250000  -70.166664                87                94   \n",
      "220  70.0833  43.000000  -70.083336                96                95   \n",
      "244  70.3333  41.000000  -70.333336                72                92   \n",
      "\n",
      "     bottomdepth  year  date_no  02tempmld  glorys_mld  \n",
      "0             53  1993      335       53.0   50.965916  \n",
      "1             40  1993      335       40.0   37.079990  \n",
      "2             25  1993      335       25.0   19.837032  \n",
      "3             24  1993      335       24.0   25.940735  \n",
      "4             22  1993      335       22.0   21.668144  \n",
      "..           ...   ...      ...        ...         ...  \n",
      "245           41  2011      342       41.0   17.853331  \n",
      "246           42  2011      342       42.0   18.158514  \n",
      "150           75  2010      337       75.0   38.148140  \n",
      "220           95  2011      339       95.0   43.641472  \n",
      "244           38  2011      342       38.0   18.005922  \n",
      "\n",
      "[247 rows x 34 columns]\n"
     ]
    }
   ],
   "source": [
    "print(pandas_00100302)"
   ]
  },
  {
   "cell_type": "code",
   "execution_count": 3681,
   "metadata": {},
   "outputs": [
    {
     "name": "stdout",
     "output_type": "stream",
     "text": [
      "247\n"
     ]
    }
   ],
   "source": [
    "print(len(pandas_00100302))"
   ]
  },
  {
   "cell_type": "code",
   "execution_count": 3682,
   "metadata": {},
   "outputs": [
    {
     "name": "stdout",
     "output_type": "stream",
     "text": [
      "244\n"
     ]
    }
   ],
   "source": [
    "print(len(pandas_001and003))"
   ]
  },
  {
   "cell_type": "code",
   "execution_count": 3683,
   "metadata": {},
   "outputs": [
    {
     "name": "stdout",
     "output_type": "stream",
     "text": [
      "obs_lat_x\n",
      "obs_lon_x\n",
      "glorys_lat_x\n",
      "glorys_lon_x\n",
      "glorys_lat_index_x\n",
      "glorys_lon_index_x\n",
      "bottomdepth_x\n",
      "year_x\n",
      "date_no_x\n",
      "001densmld\n",
      "glorys_mld_x\n",
      "location\n",
      "obs_lat_y\n",
      "obs_lon_y\n",
      "glorys_lat_y\n",
      "glorys_lon_y\n",
      "glorys_lat_index_y\n",
      "glorys_lon_index_y\n",
      "bottomdepth_y\n",
      "year_y\n",
      "date_no_y\n",
      "003densmld\n",
      "glorys_mld_y\n",
      "obs_lat\n",
      "obs_lon\n",
      "glorys_lat\n",
      "glorys_lon\n",
      "glorys_lat_index\n",
      "glorys_lon_index\n",
      "bottomdepth\n",
      "year\n",
      "date_no\n",
      "02tempmld\n",
      "glorys_mld\n"
     ]
    }
   ],
   "source": [
    "for col in pandas_00100302.columns: \n",
    "    print(col)"
   ]
  },
  {
   "cell_type": "code",
   "execution_count": 3684,
   "metadata": {},
   "outputs": [],
   "source": [
    "pandas_00100302.glorys_mld = pandas_00100302.glorys_mld.combine_first(pandas_00100302.glorys_mld_x) \n",
    "pandas_00100302.glorys_mld = pandas_00100302.glorys_mld.combine_first(pandas_00100302.glorys_mld_y) \n",
    "\n",
    "pandas_00100302.obs_lat = pandas_00100302.obs_lat.combine_first(pandas_00100302.obs_lat_x) \n",
    "pandas_00100302.obs_lat = pandas_00100302.obs_lat.combine_first(pandas_00100302.obs_lat_y)\n",
    "\n",
    "pandas_00100302.obs_lon = pandas_00100302.obs_lon.combine_first(pandas_00100302.obs_lon_x) \n",
    "pandas_00100302.obs_lon = pandas_00100302.obs_lon.combine_first(pandas_00100302.obs_lon_y)\n",
    "\n",
    "pandas_00100302.glorys_lat = pandas_00100302.glorys_lat.combine_first(pandas_00100302.glorys_lat_x) \n",
    "pandas_00100302.glorys_lat = pandas_00100302.glorys_lat.combine_first(pandas_00100302.glorys_lat_y)\n",
    "\n",
    "pandas_00100302.glorys_lon = pandas_00100302.glorys_lon.combine_first(pandas_00100302.glorys_lon_x) \n",
    "pandas_00100302.glorys_lon = pandas_00100302.glorys_lon.combine_first(pandas_00100302.glorys_lon_y)\n",
    "\n",
    "pandas_00100302.glorys_lat_index = pandas_00100302.glorys_lat_index.combine_first(pandas_00100302.glorys_lat_index_x) \n",
    "pandas_00100302.glorys_lat_index = pandas_00100302.glorys_lat_index.combine_first(pandas_00100302.glorys_lat_index_y)\n",
    "\n",
    "pandas_00100302.glorys_lon_index = pandas_00100302.glorys_lon_index.combine_first(pandas_00100302.glorys_lon_index_x) \n",
    "pandas_00100302.glorys_lon_index = pandas_00100302.glorys_lon_index.combine_first(pandas_00100302.glorys_lon_index_y)\n",
    "\n",
    "pandas_00100302.bottomdepth = pandas_00100302.bottomdepth.combine_first(pandas_00100302.bottomdepth_x) \n",
    "pandas_00100302.bottomdepth = pandas_00100302.bottomdepth.combine_first(pandas_00100302.bottomdepth_y)\n",
    "\n",
    "pandas_00100302.year = pandas_00100302.year.combine_first(pandas_00100302.year_x) \n",
    "pandas_00100302.year = pandas_00100302.year.combine_first(pandas_00100302.year_y)\n",
    "\n",
    "pandas_00100302.date_no = pandas_00100302.date_no.combine_first(pandas_00100302.date_no_x) \n",
    "pandas_00100302.date_no = pandas_00100302.date_no.combine_first(pandas_00100302.date_no_y)\n"
   ]
  },
  {
   "cell_type": "code",
   "execution_count": 3685,
   "metadata": {},
   "outputs": [],
   "source": [
    "pandas_00100302new = pandas_00100302.drop(columns=['obs_lat_x', 'obs_lon_x', 'glorys_lat_x', 'glorys_lon_x', 'glorys_lat_index_x', 'glorys_lon_index_x', \n",
    "                               'year_x', 'date_no_x', 'bottomdepth_x','glorys_mld_x' ])\n",
    "\n",
    "pandas_00100302new = pandas_00100302new.drop(columns=['obs_lat_y', 'obs_lon_y', 'glorys_lat_y', 'glorys_lon_y', 'glorys_lat_index_y', 'glorys_lon_index_y', \n",
    "                               'year_y', 'date_no_y', 'bottomdepth_y','glorys_mld_y' ])"
   ]
  },
  {
   "cell_type": "code",
   "execution_count": 3686,
   "metadata": {},
   "outputs": [
    {
     "name": "stdout",
     "output_type": "stream",
     "text": [
      "     001densmld                               location  003densmld  obs_lat  \\\n",
      "0          32.0     (71, 88, 1993, 70.6833, 40.9, 335)        53.0  40.9000   \n",
      "1          40.0   (72, 92, 1993, 70.3667, 41.035, 335)        40.0  41.0350   \n",
      "2          18.0     (73, 96, 1993, 70.03, 41.065, 335)        25.0  41.0650   \n",
      "3          24.0  (71, 94, 1993, 70.1333, 40.9317, 335)        24.0  40.9317   \n",
      "4          22.0     (71, 96, 1993, 69.985, 40.93, 335)        22.0  40.9300   \n",
      "..          ...                                    ...         ...      ...   \n",
      "245        17.0  (72, 91, 2011, 70.3983, 41.0367, 342)        30.0  41.0367   \n",
      "246        16.0    (73, 90, 2011, 70.5133, 41.06, 342)        23.0  41.0600   \n",
      "150         NaN    (87, 94, 2010, 70.1267, 42.25, 337)         NaN  42.2500   \n",
      "220         NaN  (96, 95, 2011, 70.0833, 43.0267, 339)         NaN  43.0267   \n",
      "244         NaN  (72, 92, 2011, 70.3333, 41.0367, 342)         NaN  41.0367   \n",
      "\n",
      "     obs_lon  glorys_lat  glorys_lon  glorys_lat_index  glorys_lon_index  \\\n",
      "0    70.6833   40.916668  -70.666664                71                88   \n",
      "1    70.3667   41.000000  -70.333336                72                92   \n",
      "2    70.0300   41.083332  -70.000000                73                96   \n",
      "3    70.1333   40.916668  -70.166664                71                94   \n",
      "4    69.9850   40.916668  -70.000000                71                96   \n",
      "..       ...         ...         ...               ...               ...   \n",
      "245  70.3983   41.000000  -70.416664                72                91   \n",
      "246  70.5133   41.083332  -70.500000                73                90   \n",
      "150  70.1267   42.250000  -70.166664                87                94   \n",
      "220  70.0833   43.000000  -70.083336                96                95   \n",
      "244  70.3333   41.000000  -70.333336                72                92   \n",
      "\n",
      "     bottomdepth  year  date_no  02tempmld  glorys_mld  \n",
      "0             53  1993      335       53.0   50.965916  \n",
      "1             40  1993      335       40.0   37.079990  \n",
      "2             25  1993      335       25.0   19.837032  \n",
      "3             24  1993      335       24.0   25.940735  \n",
      "4             22  1993      335       22.0   21.668144  \n",
      "..           ...   ...      ...        ...         ...  \n",
      "245           41  2011      342       41.0   17.853331  \n",
      "246           42  2011      342       42.0   18.158514  \n",
      "150           75  2010      337       75.0   38.148140  \n",
      "220           95  2011      339       95.0   43.641472  \n",
      "244           38  2011      342       38.0   18.005922  \n",
      "\n",
      "[247 rows x 14 columns]\n"
     ]
    }
   ],
   "source": [
    "print(pandas_00100302new)"
   ]
  },
  {
   "cell_type": "code",
   "execution_count": 63,
   "metadata": {},
   "outputs": [
    {
     "name": "stdout",
     "output_type": "stream",
     "text": [
      "(258, 9)\n"
     ]
    }
   ],
   "source": [
    "# print(pandas_00100302new.shape)\n",
    "ZC = pd.read_csv('12.csv') # change according to month\n",
    "print(ZC.shape)\n",
    "file_in ='12.nc' # change according to month\n",
    "NC=Dataset(file_in); DS=xr.open_dataset(file_in)"
   ]
  },
  {
   "cell_type": "code",
   "execution_count": 66,
   "metadata": {},
   "outputs": [
    {
     "name": "stderr",
     "output_type": "stream",
     "text": [
      "/anaconda3/lib/python3.7/site-packages/gsw/_wrapped_ufuncs.py:3394: RuntimeWarning: overflow encountered in sigma0\n",
      "  return _gsw_ufuncs.sigma0(SA, CT)\n"
     ]
    }
   ],
   "source": [
    "glorysdens_myway = []; indices = []; news = []; newnews = []\n",
    "for i in range(len(DS['T'])):\n",
    "    a = np.asarray(DS['T'][i])\n",
    "    b = np.asarray(DS['S'][i])\n",
    "    ctemp = []; density = []\n",
    "    for ii in range(len(a)):\n",
    "        CT = gsw.CT_from_pt(b[ii],a[ii])\n",
    "        ctemp.append(CT)\n",
    "        DENS = gsw.sigma0(b[ii],CT)\n",
    "        density.append(DENS)\n",
    "    dffinunreversed = pd.DataFrame({'temp': a,'sal': b, 's': b, 'CT': ctemp, 'density': density, 'depth':glorysdepth})\n",
    "    surfacevalmean = np.mean(dffinunreversed['density'][0:5])\n",
    "    news.append(surfacevalmean)\n",
    "    newnews.append(dffinunreversed)\n",
    "for v in range(len(newnews)):\n",
    "    dffinunreversednow = newnews[v]\n",
    "    for ix in range(len(dffinunreversednow)):\n",
    "        if dffinunreversednow.at[ix,'density'] >= (news[v] - 0.03) and dffinunreversednow.at[ix,'density'] <= (news[v] + 0.03):\n",
    "            pass\n",
    "        else:\n",
    "            if dffinunreversednow.at[ix,'depth'] >= 5.5:\n",
    "                glorysdens_myway.append(dffinunreversednow.at[ix,'depth'])\n",
    "#                 plt.plot(dffinunreversednow['density'][:18],dffinunreversed['depth'][:18]*-1)\n",
    "#                 plt.axhline(y=dffinunreversednow.at[ix,'depth']*-1, color='r', linestyle='--')\n",
    "#                 plt.show()\n",
    "                indices.append(v)\n",
    "                break\n",
    "            break"
   ]
  },
  {
   "cell_type": "code",
   "execution_count": 67,
   "metadata": {},
   "outputs": [],
   "source": [
    "myglorysmld = pd.DataFrame({'indices': indices,'glorysmld_new003':glorysdens_myway})"
   ]
  },
  {
   "cell_type": "code",
   "execution_count": 68,
   "metadata": {},
   "outputs": [
    {
     "name": "stdout",
     "output_type": "stream",
     "text": [
      "92.32607\n",
      "7.92956\n",
      "258\n",
      "44.034763\n"
     ]
    }
   ],
   "source": [
    "print(np.nanmax(glorysdens_myway))\n",
    "print(np.nanmin(glorysdens_myway))\n",
    "print(len(glorysdens_myway))\n",
    "print(np.nanmean(glorysdens_myway))"
   ]
  },
  {
   "cell_type": "code",
   "execution_count": 3704,
   "metadata": {},
   "outputs": [
    {
     "name": "stdout",
     "output_type": "stream",
     "text": [
      "     Unnamed: 0  obs_lat  obs_lon  date  year  glorys_index_lat  \\\n",
      "0             0  40.9000  70.6833   335  1993                71   \n",
      "1             1  41.0350  70.3667   335  1993                72   \n",
      "2             2  41.0650  70.0300   335  1993                73   \n",
      "3             3  40.9317  70.1333   335  1993                71   \n",
      "4             4  40.9300  69.9850   335  1993                71   \n",
      "..          ...      ...      ...   ...   ...               ...   \n",
      "253         253  41.0383  70.2283   342  2011                72   \n",
      "254         254  41.0367  70.2817   342  2011                72   \n",
      "255         255  41.0367  70.3333   342  2011                72   \n",
      "256         256  41.0367  70.3983   342  2011                72   \n",
      "257         257  41.0600  70.5133   342  2011                73   \n",
      "\n",
      "     glorys_index_lon  glorys_lat  glorys_lon  \\\n",
      "0                  88   40.916668  -70.666664   \n",
      "1                  92   41.000000  -70.333336   \n",
      "2                  96   41.083332  -70.000000   \n",
      "3                  94   40.916668  -70.166664   \n",
      "4                  96   40.916668  -70.000000   \n",
      "..                ...         ...         ...   \n",
      "253                93   41.000000  -70.250000   \n",
      "254                93   41.000000  -70.250000   \n",
      "255                92   41.000000  -70.333336   \n",
      "256                91   41.000000  -70.416664   \n",
      "257                90   41.083332  -70.500000   \n",
      "\n",
      "                                  location  \n",
      "0       (71, 88, 1993, 70.6833, 40.9, 335)  \n",
      "1     (72, 92, 1993, 70.3667, 41.035, 335)  \n",
      "2       (73, 96, 1993, 70.03, 41.065, 335)  \n",
      "3    (71, 94, 1993, 70.1333, 40.9317, 335)  \n",
      "4       (71, 96, 1993, 69.985, 40.93, 335)  \n",
      "..                                     ...  \n",
      "253  (72, 93, 2011, 70.2283, 41.0383, 342)  \n",
      "254  (72, 93, 2011, 70.2817, 41.0367, 342)  \n",
      "255  (72, 92, 2011, 70.3333, 41.0367, 342)  \n",
      "256  (72, 91, 2011, 70.3983, 41.0367, 342)  \n",
      "257    (73, 90, 2011, 70.5133, 41.06, 342)  \n",
      "\n",
      "[258 rows x 10 columns]\n"
     ]
    }
   ],
   "source": [
    "print(ZC)"
   ]
  },
  {
   "cell_type": "code",
   "execution_count": 3705,
   "metadata": {},
   "outputs": [],
   "source": [
    "ZC = ZC.assign(location=[*zip(ZC.glorys_index_lat, ZC.glorys_index_lon, ZC.year, ZC.obs_lon, ZC.obs_lat, ZC.date)])\n"
   ]
  },
  {
   "cell_type": "code",
   "execution_count": 3706,
   "metadata": {},
   "outputs": [],
   "source": [
    "merged_large = pd.merge(ZC, myglorysmld, left_on=['Unnamed: 0'], \n",
    "                        right_on = ['indices'], left_index=True, how='inner', sort=False)"
   ]
  },
  {
   "cell_type": "code",
   "execution_count": 3707,
   "metadata": {},
   "outputs": [],
   "source": [
    "merged_large = merged_large.drop_duplicates(subset=['location'])"
   ]
  },
  {
   "cell_type": "code",
   "execution_count": 3695,
   "metadata": {},
   "outputs": [],
   "source": [
    "# merged_large"
   ]
  },
  {
   "cell_type": "code",
   "execution_count": 3696,
   "metadata": {},
   "outputs": [],
   "source": [
    "# print(pandas_00100302new)"
   ]
  },
  {
   "cell_type": "code",
   "execution_count": 3697,
   "metadata": {},
   "outputs": [],
   "source": [
    "# new = pd.DataFrame({'location': merged_largenew['location'],'glorysmld_new003':merged_largenew['glorysmld_new']})"
   ]
  },
  {
   "cell_type": "code",
   "execution_count": 3698,
   "metadata": {},
   "outputs": [],
   "source": [
    "# second time round\n",
    "# new2 = pd.DataFrame({'location': merged_large['location'],'glorysmld_new001':merged_largenew['glorysmld_new']})"
   ]
  },
  {
   "cell_type": "code",
   "execution_count": 3699,
   "metadata": {},
   "outputs": [],
   "source": [
    "fullpandasdataframe = pd.merge(pandas_00100302new, merged_large, left_on=['location'], \n",
    "                        right_on = ['location'], left_index=True, how='outer', sort=False)"
   ]
  },
  {
   "cell_type": "code",
   "execution_count": 3700,
   "metadata": {},
   "outputs": [
    {
     "name": "stdout",
     "output_type": "stream",
     "text": [
      "258\n"
     ]
    }
   ],
   "source": [
    "print(len(fullpandasdataframe))"
   ]
  },
  {
   "cell_type": "code",
   "execution_count": 3708,
   "metadata": {},
   "outputs": [],
   "source": [
    "fullpandasdataframefull = pd.merge(fullpandasdataframe, merged_large, left_on=['location'], \n",
    "                        right_on = ['location'], left_index=True, how='outer', sort=False)"
   ]
  },
  {
   "cell_type": "code",
   "execution_count": 3709,
   "metadata": {},
   "outputs": [
    {
     "name": "stdout",
     "output_type": "stream",
     "text": [
      "     001densmld                               location  003densmld  obs_lat_x  \\\n",
      "0          32.0     (71, 88, 1993, 70.6833, 40.9, 335)        53.0    40.9000   \n",
      "1          40.0   (72, 92, 1993, 70.3667, 41.035, 335)        40.0    41.0350   \n",
      "2          18.0     (73, 96, 1993, 70.03, 41.065, 335)        25.0    41.0650   \n",
      "3          24.0  (71, 94, 1993, 70.1333, 40.9317, 335)        24.0    40.9317   \n",
      "4          22.0     (71, 96, 1993, 69.985, 40.93, 335)        22.0    40.9300   \n",
      "..          ...                                    ...         ...        ...   \n",
      "241         NaN  (70, 94, 2011, 70.1467, 40.8733, 341)         NaN        NaN   \n",
      "249         NaN  (71, 94, 2011, 70.1817, 40.9533, 342)         NaN        NaN   \n",
      "250         NaN   (71, 95, 2011, 70.1133, 40.955, 342)         NaN        NaN   \n",
      "251         NaN    (72, 95, 2011, 70.095, 41.035, 342)         NaN        NaN   \n",
      "252         NaN  (72, 94, 2011, 70.1633, 41.0383, 342)         NaN        NaN   \n",
      "\n",
      "     obs_lon_x  glorys_lat_x  glorys_lon_x  glorys_lat_index  \\\n",
      "0      70.6833     40.916668    -70.666664              71.0   \n",
      "1      70.3667     41.000000    -70.333336              72.0   \n",
      "2      70.0300     41.083332    -70.000000              73.0   \n",
      "3      70.1333     40.916668    -70.166664              71.0   \n",
      "4      69.9850     40.916668    -70.000000              71.0   \n",
      "..         ...           ...           ...               ...   \n",
      "241        NaN           NaN           NaN               NaN   \n",
      "249        NaN           NaN           NaN               NaN   \n",
      "250        NaN           NaN           NaN               NaN   \n",
      "251        NaN           NaN           NaN               NaN   \n",
      "252        NaN           NaN           NaN               NaN   \n",
      "\n",
      "     glorys_lon_index  bottomdepth  ...  obs_lat_y  obs_lon_y  date  year_y  \\\n",
      "0                88.0         53.0  ...    40.9000    70.6833   335    1993   \n",
      "1                92.0         40.0  ...    41.0350    70.3667   335    1993   \n",
      "2                96.0         25.0  ...    41.0650    70.0300   335    1993   \n",
      "3                94.0         24.0  ...    40.9317    70.1333   335    1993   \n",
      "4                96.0         22.0  ...    40.9300    69.9850   335    1993   \n",
      "..                ...          ...  ...        ...        ...   ...     ...   \n",
      "241               NaN          NaN  ...    40.8733    70.1467   341    2011   \n",
      "249               NaN          NaN  ...    40.9533    70.1817   342    2011   \n",
      "250               NaN          NaN  ...    40.9550    70.1133   342    2011   \n",
      "251               NaN          NaN  ...    41.0350    70.0950   342    2011   \n",
      "252               NaN          NaN  ...    41.0383    70.1633   342    2011   \n",
      "\n",
      "     glorys_index_lat  glorys_index_lon  glorys_lat_y  glorys_lon_y  indices  \\\n",
      "0                  71                88     40.916668    -70.666664        0   \n",
      "1                  72                92     41.000000    -70.333336        1   \n",
      "2                  73                96     41.083332    -70.000000        2   \n",
      "3                  71                94     40.916668    -70.166664        3   \n",
      "4                  71                96     40.916668    -70.000000        4   \n",
      "..                ...               ...           ...           ...      ...   \n",
      "241                70                94     40.833332    -70.166664      241   \n",
      "249                71                94     40.916668    -70.166664      249   \n",
      "250                71                95     40.916668    -70.083336      250   \n",
      "251                72                95     41.000000    -70.083336      251   \n",
      "252                72                94     41.000000    -70.166664      252   \n",
      "\n",
      "     glorysmld_new001  \n",
      "0           55.764290  \n",
      "1           40.344051  \n",
      "2           21.598820  \n",
      "3           29.444731  \n",
      "4           21.598820  \n",
      "..                ...  \n",
      "241         34.434151  \n",
      "249         29.444731  \n",
      "250         25.211411  \n",
      "251         25.211411  \n",
      "252         25.211411  \n",
      "\n",
      "[258 rows x 25 columns]\n"
     ]
    }
   ],
   "source": [
    "print(fullpandasdataframe)"
   ]
  },
  {
   "cell_type": "code",
   "execution_count": 3710,
   "metadata": {},
   "outputs": [
    {
     "name": "stdout",
     "output_type": "stream",
     "text": [
      "     001densmld                               location  003densmld  obs_lat_x  \\\n",
      "0          32.0     (71, 88, 1993, 70.6833, 40.9, 335)        53.0    40.9000   \n",
      "1          40.0   (72, 92, 1993, 70.3667, 41.035, 335)        40.0    41.0350   \n",
      "2          18.0     (73, 96, 1993, 70.03, 41.065, 335)        25.0    41.0650   \n",
      "3          24.0  (71, 94, 1993, 70.1333, 40.9317, 335)        24.0    40.9317   \n",
      "4          22.0     (71, 96, 1993, 69.985, 40.93, 335)        22.0    40.9300   \n",
      "..          ...                                    ...         ...        ...   \n",
      "241         NaN  (70, 94, 2011, 70.1467, 40.8733, 341)         NaN        NaN   \n",
      "249         NaN  (71, 94, 2011, 70.1817, 40.9533, 342)         NaN        NaN   \n",
      "250         NaN   (71, 95, 2011, 70.1133, 40.955, 342)         NaN        NaN   \n",
      "251         NaN    (72, 95, 2011, 70.095, 41.035, 342)         NaN        NaN   \n",
      "252         NaN  (72, 94, 2011, 70.1633, 41.0383, 342)         NaN        NaN   \n",
      "\n",
      "     obs_lon_x  glorys_lat_x  glorys_lon_x  glorys_lat_index  \\\n",
      "0      70.6833     40.916668    -70.666664              71.0   \n",
      "1      70.3667     41.000000    -70.333336              72.0   \n",
      "2      70.0300     41.083332    -70.000000              73.0   \n",
      "3      70.1333     40.916668    -70.166664              71.0   \n",
      "4      69.9850     40.916668    -70.000000              71.0   \n",
      "..         ...           ...           ...               ...   \n",
      "241        NaN           NaN           NaN               NaN   \n",
      "249        NaN           NaN           NaN               NaN   \n",
      "250        NaN           NaN           NaN               NaN   \n",
      "251        NaN           NaN           NaN               NaN   \n",
      "252        NaN           NaN           NaN               NaN   \n",
      "\n",
      "     glorys_lon_index  bottomdepth  ...  obs_lat  obs_lon  date_y  year  \\\n",
      "0                88.0         53.0  ...  40.9000  70.6833     335  1993   \n",
      "1                92.0         40.0  ...  41.0350  70.3667     335  1993   \n",
      "2                96.0         25.0  ...  41.0650  70.0300     335  1993   \n",
      "3                94.0         24.0  ...  40.9317  70.1333     335  1993   \n",
      "4                96.0         22.0  ...  40.9300  69.9850     335  1993   \n",
      "..                ...          ...  ...      ...      ...     ...   ...   \n",
      "241               NaN          NaN  ...  40.8733  70.1467     341  2011   \n",
      "249               NaN          NaN  ...  40.9533  70.1817     342  2011   \n",
      "250               NaN          NaN  ...  40.9550  70.1133     342  2011   \n",
      "251               NaN          NaN  ...  41.0350  70.0950     342  2011   \n",
      "252               NaN          NaN  ...  41.0383  70.1633     342  2011   \n",
      "\n",
      "     glorys_index_lat_y  glorys_index_lon_y  glorys_lat  glorys_lon  \\\n",
      "0                    71                  88   40.916668  -70.666664   \n",
      "1                    72                  92   41.000000  -70.333336   \n",
      "2                    73                  96   41.083332  -70.000000   \n",
      "3                    71                  94   40.916668  -70.166664   \n",
      "4                    71                  96   40.916668  -70.000000   \n",
      "..                  ...                 ...         ...         ...   \n",
      "241                  70                  94   40.833332  -70.166664   \n",
      "249                  71                  94   40.916668  -70.166664   \n",
      "250                  71                  95   40.916668  -70.083336   \n",
      "251                  72                  95   41.000000  -70.083336   \n",
      "252                  72                  94   41.000000  -70.166664   \n",
      "\n",
      "     indices_y  glorysmld_new003  \n",
      "0            0         55.764290  \n",
      "1            1         40.344051  \n",
      "2            2         21.598820  \n",
      "3            3         29.444731  \n",
      "4            4         21.598820  \n",
      "..         ...               ...  \n",
      "241        241         34.434151  \n",
      "249        249         29.444731  \n",
      "250        250         25.211411  \n",
      "251        251         25.211411  \n",
      "252        252         25.211411  \n",
      "\n",
      "[258 rows x 36 columns]\n"
     ]
    }
   ],
   "source": [
    "print(fullpandasdataframefull)"
   ]
  },
  {
   "cell_type": "code",
   "execution_count": 3711,
   "metadata": {},
   "outputs": [
    {
     "name": "stdout",
     "output_type": "stream",
     "text": [
      "001densmld\n",
      "location\n",
      "003densmld\n",
      "obs_lat_x\n",
      "obs_lon_x\n",
      "glorys_lat_x\n",
      "glorys_lon_x\n",
      "glorys_lat_index\n",
      "glorys_lon_index\n",
      "bottomdepth\n",
      "year_x\n",
      "date_no\n",
      "02tempmld\n",
      "glorys_mld\n",
      "Unnamed: 0_x\n",
      "obs_lat_y\n",
      "obs_lon_y\n",
      "date_x\n",
      "year_y\n",
      "glorys_index_lat_x\n",
      "glorys_index_lon_x\n",
      "glorys_lat_y\n",
      "glorys_lon_y\n",
      "indices_x\n",
      "glorysmld_new001\n",
      "Unnamed: 0_y\n",
      "obs_lat\n",
      "obs_lon\n",
      "date_y\n",
      "year\n",
      "glorys_index_lat_y\n",
      "glorys_index_lon_y\n",
      "glorys_lat\n",
      "glorys_lon\n",
      "indices_y\n",
      "glorysmld_new003\n"
     ]
    }
   ],
   "source": [
    "for col in fullpandasdataframefull.columns: \n",
    "    print(col)"
   ]
  },
  {
   "cell_type": "code",
   "execution_count": 3712,
   "metadata": {},
   "outputs": [],
   "source": [
    "fullpandasdataframefull = fullpandasdataframefull.drop(columns=['indices_y', 'Unnamed: 0_y','location','Unnamed: 0_x','indices_x'])\n"
   ]
  },
  {
   "cell_type": "code",
   "execution_count": 3713,
   "metadata": {},
   "outputs": [],
   "source": [
    "fullpandasdataframefull.obs_lat = fullpandasdataframefull.obs_lat.combine_first(fullpandasdataframefull.obs_lat_x) \n",
    "fullpandasdataframefull.obs_lat = fullpandasdataframefull.obs_lat.combine_first(fullpandasdataframefull.obs_lat_y) \n",
    "\n",
    "fullpandasdataframefull.obs_lon = fullpandasdataframefull.obs_lon.combine_first(fullpandasdataframefull.obs_lon_x) \n",
    "fullpandasdataframefull.obs_lon = fullpandasdataframefull.obs_lon.combine_first(fullpandasdataframefull.obs_lon_y)\n",
    "\n",
    "fullpandasdataframefull.glorys_lat_index = fullpandasdataframefull.glorys_lat_index.combine_first(fullpandasdataframefull.glorys_index_lat_x) \n",
    "fullpandasdataframefull.glorys_lat_index = fullpandasdataframefull.glorys_lat_index.combine_first(fullpandasdataframefull.glorys_index_lat_y) \n",
    "\n",
    "\n",
    "fullpandasdataframefull.glorys_lon_index = fullpandasdataframefull.glorys_lon_index.combine_first(fullpandasdataframefull.glorys_index_lon_x) \n",
    "fullpandasdataframefull.glorys_lon_index = fullpandasdataframefull.glorys_lon_index.combine_first(fullpandasdataframefull.glorys_index_lon_y) \n",
    "\n",
    "fullpandasdataframefull.glorys_lat = fullpandasdataframefull.glorys_lat.combine_first(fullpandasdataframefull.glorys_lat_x) \n",
    "fullpandasdataframefull.glorys_lat = fullpandasdataframefull.glorys_lat.combine_first(fullpandasdataframefull.glorys_lat_y) \n",
    "\n",
    "fullpandasdataframefull.glorys_lon = fullpandasdataframefull.glorys_lon.combine_first(fullpandasdataframefull.glorys_lon_x) \n",
    "fullpandasdataframefull.glorys_lon = fullpandasdataframefull.glorys_lon.combine_first(fullpandasdataframefull.glorys_lon_y) \n",
    "\n",
    "fullpandasdataframefull.date_no = fullpandasdataframefull.date_no.combine_first(fullpandasdataframefull.date_x) \n",
    "fullpandasdataframefull.date_no = fullpandasdataframefull.date_no.combine_first(fullpandasdataframefull.date_y) \n",
    "\n",
    "fullpandasdataframefull.year = fullpandasdataframefull.year.combine_first(fullpandasdataframefull.year_x) \n",
    "fullpandasdataframefull.year = fullpandasdataframefull.year.combine_first(fullpandasdataframefull.year_y) \n"
   ]
  },
  {
   "cell_type": "code",
   "execution_count": 3714,
   "metadata": {},
   "outputs": [],
   "source": [
    "fullpandasdataframefull = fullpandasdataframefull.drop(columns=['year_x','year_y','date_x','date_y','glorys_lon_x',\n",
    "                                                               'glorys_lon_y','glorys_lat_y','glorys_lat_x','glorys_index_lon_y','glorys_index_lon_x',\n",
    "                                                               'glorys_index_lat_y','glorys_index_lat_x','obs_lon_x','obs_lon_y','obs_lat_y','obs_lat_x'])\n",
    "\n"
   ]
  },
  {
   "cell_type": "code",
   "execution_count": 3715,
   "metadata": {},
   "outputs": [
    {
     "name": "stdout",
     "output_type": "stream",
     "text": [
      "(258, 15)\n"
     ]
    }
   ],
   "source": [
    "print(fullpandasdataframefull.shape)"
   ]
  },
  {
   "cell_type": "code",
   "execution_count": 3716,
   "metadata": {},
   "outputs": [
    {
     "data": {
      "text/plain": [
       "14"
      ]
     },
     "execution_count": 3716,
     "metadata": {},
     "output_type": "execute_result"
    }
   ],
   "source": [
    "fullpandasdataframefull['001densmld'].isnull().values.sum()"
   ]
  },
  {
   "cell_type": "code",
   "execution_count": 3717,
   "metadata": {},
   "outputs": [],
   "source": [
    "fullpandasdataframefull.to_csv('sbsl_final_12_full.csv')"
   ]
  },
  {
   "cell_type": "code",
   "execution_count": 3563,
   "metadata": {},
   "outputs": [
    {
     "name": "stdout",
     "output_type": "stream",
     "text": [
      "        001densmld  003densmld  glorys_lat_index  glorys_lon_index  \\\n",
      "0.0            5.0         5.0              79.0             102.0   \n",
      "1.0           13.0        15.0              80.0             105.0   \n",
      "2.0            5.0        23.0              82.0             106.0   \n",
      "3.0            8.0         8.0              82.0             106.0   \n",
      "4.0           15.0        27.0              84.0             105.0   \n",
      "...            ...         ...               ...               ...   \n",
      "4086.0         NaN         NaN              94.0             103.0   \n",
      "4088.0         NaN         NaN              93.0              96.0   \n",
      "4090.0         NaN         NaN              95.0              96.0   \n",
      "4091.0         NaN         NaN              95.0              96.0   \n",
      "4056.0         NaN         NaN              88.0             107.0   \n",
      "\n",
      "        bottomdepth  date_no  02tempmld  glorys_mld  glorysmld_new001  \\\n",
      "0.0            61.0    279.0        5.0   19.837032         21.598820   \n",
      "1.0           190.0    279.0       17.0   18.921478         21.598820   \n",
      "2.0           205.0    279.0       25.0   20.752588         25.211411   \n",
      "3.0           203.0    279.0       27.0   20.752588         25.211411   \n",
      "4.0           209.0    279.0       27.0   19.379255         25.211411   \n",
      "...             ...      ...        ...         ...               ...   \n",
      "4086.0          NaN    304.0        NaN         NaN         47.373692   \n",
      "4088.0          NaN    304.0        NaN         NaN         25.211411   \n",
      "4090.0          NaN    304.0        NaN         NaN         29.444731   \n",
      "4091.0          NaN    304.0        NaN         NaN         29.444731   \n",
      "4056.0          NaN    285.0        NaN         NaN               NaN   \n",
      "\n",
      "          obs_lat    obs_lon    year  glorys_lat  glorys_lon  glorysmld_new003  \n",
      "0.0     41.545000  69.460000  1993.0   41.583332  -69.500000         25.211411  \n",
      "1.0     41.663300  69.278300  1993.0   41.666668  -69.250000         25.211411  \n",
      "2.0     41.810000  69.180000  1993.0   41.833332  -69.166664         47.373692  \n",
      "3.0     41.871700  69.135000  1993.0   41.833332  -69.166664         47.373692  \n",
      "4.0     41.963300  69.286700  1993.0   42.000000  -69.250000         47.373692  \n",
      "...           ...        ...     ...         ...         ...               ...  \n",
      "4086.0  42.863333  69.386667  2018.0   42.833332  -69.416664         47.373692  \n",
      "4088.0  42.785000  70.018333  2018.0   42.750000  -70.000000         34.434151  \n",
      "4090.0  42.913333  69.963333  2018.0   42.916668  -70.000000         34.434151  \n",
      "4091.0  42.913333  70.035000  2018.0   42.916668  -70.000000         34.434151  \n",
      "4056.0  42.313333  69.053333  2018.0   42.333332  -69.083336          6.440614  \n",
      "\n",
      "[4270 rows x 15 columns]\n"
     ]
    }
   ],
   "source": [
    "print(fullpandasdataframefull)"
   ]
  },
  {
   "cell_type": "code",
   "execution_count": 644,
   "metadata": {},
   "outputs": [
    {
     "data": {
      "text/plain": [
       "10"
      ]
     },
     "execution_count": 644,
     "metadata": {},
     "output_type": "execute_result"
    }
   ],
   "source": [
    "fullpandasdataframefull['001densmld'].isna().sum()"
   ]
  },
  {
   "cell_type": "code",
   "execution_count": 645,
   "metadata": {},
   "outputs": [
    {
     "name": "stdout",
     "output_type": "stream",
     "text": [
      "135806\n"
     ]
    }
   ],
   "source": [
    "print(len(fullpandasdataframefull))"
   ]
  },
  {
   "cell_type": "code",
   "execution_count": null,
   "metadata": {},
   "outputs": [],
   "source": []
  },
  {
   "cell_type": "code",
   "execution_count": null,
   "metadata": {},
   "outputs": [],
   "source": []
  },
  {
   "cell_type": "code",
   "execution_count": null,
   "metadata": {},
   "outputs": [],
   "source": []
  },
  {
   "cell_type": "code",
   "execution_count": null,
   "metadata": {},
   "outputs": [],
   "source": []
  },
  {
   "cell_type": "code",
   "execution_count": 308,
   "metadata": {},
   "outputs": [],
   "source": [
    "full = full.assign(location=[*zip(full.glorys_lat_index, full.glorys_lon_index, full.year, full.obs_lon, full.obs_lat)])\n",
    "\n"
   ]
  },
  {
   "cell_type": "code",
   "execution_count": 310,
   "metadata": {},
   "outputs": [],
   "source": [
    "fullpandasdataframe = pd.merge(full, new, left_on=['location'], \n",
    "                        right_on = ['location'], left_index=True, how='inner', sort=False)"
   ]
  },
  {
   "cell_type": "code",
   "execution_count": 317,
   "metadata": {},
   "outputs": [],
   "source": [
    "fullpandasdataframetosave = fullpandasdataframe.drop(columns=['location' ])"
   ]
  },
  {
   "cell_type": "code",
   "execution_count": 318,
   "metadata": {},
   "outputs": [],
   "source": [
    "fullpandasdataframetosave = fullpandasdataframetosave.rename(columns={\"glorysmld_new\": \"glorysmld_new003\"})"
   ]
  },
  {
   "cell_type": "code",
   "execution_count": 716,
   "metadata": {},
   "outputs": [
    {
     "data": {
      "text/plain": [
       "<matplotlib.collections.PathCollection at 0xd27c79b00>"
      ]
     },
     "execution_count": 716,
     "metadata": {},
     "output_type": "execute_result"
    },
    {
     "data": {
      "image/png": "[encoded data removed]",
      "text/plain": [
       "<Figure size 432x288 with 1 Axes>"
      ]
     },
     "metadata": {
      "needs_background": "light"
     },
     "output_type": "display_data"
    }
   ],
   "source": [
    "plt.scatter(fullpandasdataframefull['glorys_mld'], fullpandasdataframefull['glorysmld_new001'], alpha=0.02)\n",
    "plt.scatter(fullpandasdataframefull['glorys_mld'], fullpandasdataframefull['glorysmld_new003'], alpha=0.02)"
   ]
  },
  {
   "cell_type": "code",
   "execution_count": 719,
   "metadata": {},
   "outputs": [
    {
     "data": {
      "text/plain": [
       "<matplotlib.collections.PathCollection at 0xd2acfde80>"
      ]
     },
     "execution_count": 719,
     "metadata": {},
     "output_type": "execute_result"
    },
    {
     "data": {
      "image/png": "[encoded data removed]",
      "text/plain": [
       "<Figure size 432x288 with 1 Axes>"
      ]
     },
     "metadata": {
      "needs_background": "light"
     },
     "output_type": "display_data"
    }
   ],
   "source": [
    "plt.scatter(fullpandasdataframefull['003densmld'], fullpandasdataframefull['glorysmld_new001'], alpha=0.02)"
   ]
  },
  {
   "cell_type": "code",
   "execution_count": 724,
   "metadata": {},
   "outputs": [
    {
     "data": {
      "text/plain": [
       "<matplotlib.collections.PathCollection at 0xd2bbbc978>"
      ]
     },
     "execution_count": 724,
     "metadata": {},
     "output_type": "execute_result"
    },
    {
     "data": {
      "image/png": "[encoded data removed]",
      "text/plain": [
       "<Figure size 432x288 with 1 Axes>"
      ]
     },
     "metadata": {
      "needs_background": "light"
     },
     "output_type": "display_data"
    }
   ],
   "source": [
    "plt.scatter(fullpandasdataframefull['003densmld'], fullpandasdataframefull['glorysmld_new003'], alpha=0.02)"
   ]
  },
  {
   "cell_type": "code",
   "execution_count": 725,
   "metadata": {},
   "outputs": [
    {
     "data": {
      "text/plain": [
       "<matplotlib.collections.PathCollection at 0xd2bb25f28>"
      ]
     },
     "execution_count": 725,
     "metadata": {},
     "output_type": "execute_result"
    },
    {
     "data": {
      "image/png": "[encoded data removed]",
      "text/plain": [
       "<Figure size 432x288 with 1 Axes>"
      ]
     },
     "metadata": {
      "needs_background": "light"
     },
     "output_type": "display_data"
    }
   ],
   "source": [
    "plt.scatter(fullpandasdataframefull['001densmld'], fullpandasdataframefull['glorysmld_new001'], alpha=0.02)"
   ]
  },
  {
   "cell_type": "code",
   "execution_count": 727,
   "metadata": {},
   "outputs": [
    {
     "data": {
      "text/plain": [
       "<matplotlib.collections.PathCollection at 0xd2be9da58>"
      ]
     },
     "execution_count": 727,
     "metadata": {},
     "output_type": "execute_result"
    },
    {
     "data": {
      "image/png": "[encoded data removed]",
      "text/plain": [
       "<Figure size 432x288 with 1 Axes>"
      ]
     },
     "metadata": {
      "needs_background": "light"
     },
     "output_type": "display_data"
    }
   ],
   "source": [
    "plt.scatter(fullpandasdataframefull['glorys_mld'], fullpandasdataframefull['glorysmld_new003'], alpha=0.02)"
   ]
  },
  {
   "cell_type": "code",
   "execution_count": 720,
   "metadata": {},
   "outputs": [
    {
     "data": {
      "text/plain": [
       "<matplotlib.collections.PathCollection at 0xd2aa5f6a0>"
      ]
     },
     "execution_count": 720,
     "metadata": {},
     "output_type": "execute_result"
    },
    {
     "data": {
      "image/png": "[encoded data removed]",
      "text/plain": [
       "<Figure size 432x288 with 1 Axes>"
      ]
     },
     "metadata": {
      "needs_background": "light"
     },
     "output_type": "display_data"
    }
   ],
   "source": [
    "plt.scatter(fullpandasdataframefull['003densmld'], fullpandasdataframefull['001densmld'], alpha=0.02)"
   ]
  },
  {
   "cell_type": "code",
   "execution_count": 721,
   "metadata": {},
   "outputs": [
    {
     "data": {
      "text/plain": [
       "<matplotlib.collections.PathCollection at 0xd2b905e10>"
      ]
     },
     "execution_count": 721,
     "metadata": {},
     "output_type": "execute_result"
    },
    {
     "data": {
      "image/png": "[encoded data removed]",
      "text/plain": [
       "<Figure size 432x288 with 1 Axes>"
      ]
     },
     "metadata": {
      "needs_background": "light"
     },
     "output_type": "display_data"
    }
   ],
   "source": [
    "plt.scatter(fullpandasdataframefull['003densmld'], fullpandasdataframefull['02tempmld'], alpha=0.02)"
   ]
  },
  {
   "cell_type": "code",
   "execution_count": 723,
   "metadata": {},
   "outputs": [
    {
     "data": {
      "text/plain": [
       "<matplotlib.collections.PathCollection at 0xd2b970550>"
      ]
     },
     "execution_count": 723,
     "metadata": {},
     "output_type": "execute_result"
    },
    {
     "data": {
      "image/png": "[encoded data removed]",
      "text/plain": [
       "<Figure size 432x288 with 1 Axes>"
      ]
     },
     "metadata": {
      "needs_background": "light"
     },
     "output_type": "display_data"
    }
   ],
   "source": [
    "plt.scatter(fullpandasdataframefull['glorys_mld'], fullpandasdataframefull['003densmld'], alpha=0.02)"
   ]
  },
  {
   "cell_type": "code",
   "execution_count": 265,
   "metadata": {},
   "outputs": [],
   "source": [
    "fullpandasdataframe = fullpandasdataframe.drop(columns=['location'])"
   ]
  },
  {
   "cell_type": "code",
   "execution_count": 470,
   "metadata": {},
   "outputs": [],
   "source": [
    "ZC.to_csv('01_full.csv')"
   ]
  },
  {
   "cell_type": "code",
   "execution_count": 191,
   "metadata": {},
   "outputs": [
    {
     "data": {
      "text/plain": [
       "44.27323651987018"
      ]
     },
     "execution_count": 191,
     "metadata": {},
     "output_type": "execute_result"
    }
   ],
   "source": [
    "np.nanmean(full['gmld_w001densrun'])\n",
    "np.nanmean(full['gmld_w003densrun'])"
   ]
  },
  {
   "cell_type": "code",
   "execution_count": 192,
   "metadata": {},
   "outputs": [
    {
     "data": {
      "text/plain": [
       "<matplotlib.collections.PathCollection at 0xd2522c390>"
      ]
     },
     "execution_count": 192,
     "metadata": {},
     "output_type": "execute_result"
    },
    {
     "data": {
      "image/png": "[encoded data removed]",
      "text/plain": [
       "<Figure size 432x288 with 1 Axes>"
      ]
     },
     "metadata": {
      "needs_background": "light"
     },
     "output_type": "display_data"
    }
   ],
   "source": [
    "plt.scatter(full['gmld_w001densrun'], full['gmld_w003densrun'], alpha=0.5)"
   ]
  },
  {
   "cell_type": "code",
   "execution_count": 1028,
   "metadata": {},
   "outputs": [],
   "source": [
    "ZC = pd.read_csv('06_full.csv')"
   ]
  },
  {
   "cell_type": "code",
   "execution_count": 1030,
   "metadata": {},
   "outputs": [
    {
     "name": "stdout",
     "output_type": "stream",
     "text": [
      "14.807622572617937\n",
      "24.40240361069715\n"
     ]
    }
   ],
   "source": [
    "print(np.nanmean(ZC['glorysmld_new001_x']))\n",
    "print(np.nanmean(ZC['glorysmld_new001_y']))"
   ]
  },
  {
   "cell_type": "code",
   "execution_count": 1031,
   "metadata": {},
   "outputs": [],
   "source": [
    "ZC = ZC.rename(columns={\"glorysmld_new001_x\": \"glorysmld_new001\", \"glorysmld_new001_y\": \"glorysmld_new003\"})"
   ]
  },
  {
   "cell_type": "code",
   "execution_count": 1032,
   "metadata": {},
   "outputs": [
    {
     "name": "stdout",
     "output_type": "stream",
     "text": [
      "      Unnamed: 0  001densmld  003densmld  glorys_lat_index  glorys_lon_index  \\\n",
      "0            1.0         6.0        10.0              83.0             145.0   \n",
      "1            2.0         6.0         6.0              81.0             143.0   \n",
      "2            3.0         6.0         7.0              80.0             142.0   \n",
      "3            4.0         9.0        10.0              79.0             144.0   \n",
      "4            5.0         7.0         8.0              78.0             141.0   \n",
      "...          ...         ...         ...               ...               ...   \n",
      "3320      2837.0         NaN         NaN              69.0              78.0   \n",
      "3321      2852.0         NaN         NaN              55.0              67.0   \n",
      "3322      2893.0         NaN         NaN              67.0              75.0   \n",
      "3323      2894.0         NaN         NaN              67.0              75.0   \n",
      "3324      2945.0         NaN         NaN              74.0             110.0   \n",
      "\n",
      "      bottomdepth  date_no  02tempmld  glorys_mld  glorysmld_new001  \\\n",
      "0           122.0    155.0       11.0   10.528886          9.572997   \n",
      "1            97.0    156.0        7.0   11.291849         15.810070   \n",
      "2            94.0    156.0       11.0   10.834071         18.495560   \n",
      "3           125.0    157.0       12.0   10.528886         15.810070   \n",
      "4           102.0    159.0        9.0   11.749626         18.495560   \n",
      "...           ...      ...        ...         ...               ...   \n",
      "3320          NaN    166.0        NaN         NaN               NaN   \n",
      "3321          NaN    180.0        NaN         NaN               NaN   \n",
      "3322          NaN    156.0        NaN         NaN               NaN   \n",
      "3323          NaN    156.0        NaN         NaN               NaN   \n",
      "3324          NaN    153.0        NaN         NaN               NaN   \n",
      "\n",
      "        obs_lat    obs_lon    year  glorys_lat  glorys_lon  glorysmld_new003  \n",
      "0     41.941700  65.890000  1993.0   41.916668  -65.916664         11.405000  \n",
      "1     41.768300  66.055000  1993.0   41.750000  -66.083336         21.598820  \n",
      "2     41.668300  66.150000  1993.0   41.666668  -66.166664         21.598820  \n",
      "3     41.545000  66.016700  1993.0   41.583332  -66.000000         18.495560  \n",
      "4     41.465000  66.230000  1993.0   41.500000  -66.250000         21.598820  \n",
      "...         ...        ...     ...         ...         ...               ...  \n",
      "3320  40.748333  71.501667  2016.0   40.750000  -71.500000          6.440614  \n",
      "3321  39.563333  72.420000  2016.0   39.583332  -72.416664          6.440614  \n",
      "3322  40.580000  71.756667  2017.0   40.583332  -71.750000          6.440614  \n",
      "3323  40.580000  71.751667  2017.0   40.583332  -71.750000          6.440614  \n",
      "3324  41.156667  68.866667  2018.0   41.166668  -68.833336          6.440614  \n",
      "\n",
      "[3325 rows x 16 columns]\n"
     ]
    }
   ],
   "source": [
    "print(ZC)"
   ]
  },
  {
   "cell_type": "code",
   "execution_count": 1033,
   "metadata": {},
   "outputs": [],
   "source": [
    "ZC.to_csv('06_full.csv')"
   ]
  },
  {
   "cell_type": "code",
   "execution_count": null,
   "metadata": {},
   "outputs": [],
   "source": []
  },
  {
   "cell_type": "code",
   "execution_count": null,
   "metadata": {},
   "outputs": [],
   "source": []
  },
  {
   "cell_type": "code",
   "execution_count": null,
   "metadata": {},
   "outputs": [],
   "source": [
    "jan_list = [pd.read_csv('savedall/jan_x.csv'),pd.read_csv('savedall/jan_v.csv'),pd.read_csv('savedall/jan_w.csv'),\n",
    "           pd.read_csv('savedall/jan_y.csv'),pd.read_csv('savedall/jan_t.csv')]\n",
    "jan = pd.concat(jan_list)"
   ]
  },
  {
   "cell_type": "code",
   "execution_count": null,
   "metadata": {},
   "outputs": [],
   "source": []
  },
  {
   "cell_type": "code",
   "execution_count": 1599,
   "metadata": {},
   "outputs": [],
   "source": [
    "countwithinpolygon = []; densmld = []; obs_lat = []; obs_lon = []; date_no = []; bottomdepth = []; years = []\n",
    "yearwithdata = []; datefull = []; finallatestdepth = []; glorysmld = []\n",
    "glorys_lat = []; glorys_lon = []; glorys_lat_index = []; glorys_lon_index = []\n",
    "\n",
    "for year in range(1993,2019):\n",
    "    filename = 'casts_{}.mat'.format(year)\n",
    "    file = scipy.io.loadmat(filename,squeeze_me=True)\n",
    "    npfile = file['casts_{}'.format(year)]\n",
    "    \n",
    "    lat_intermediate = []; lon_intermediate = []; p_intermediate = []; counterii = []\n",
    "    t_intermediate = []; yd_intermediate = []; sal_intermediate = []; floor_intermediate = []\n",
    "    \n",
    "    for i in range(len(npfile)):\n",
    "        yd = npfile[i]['yd']\n",
    "        p = npfile[i]['p']\n",
    "        s = npfile[i]['s']\n",
    "        t = npfile[i]['t']\n",
    "        gear = npfile[i]['gear']\n",
    "        floordepth = npfile[i]['depth']\n",
    "        if yd >= 0 and yd <= 365:  # and floordepth <= 200\n",
    "            lat_intermediate.append(npfile[i]['lat'])\n",
    "            lon_intermediate.append(npfile[i]['lon'])\n",
    "            p_intermediate.append(npfile[i]['p'])\n",
    "            t_intermediate.append(npfile[i]['t'])\n",
    "            yd_intermediate.append(npfile[i]['yd'])\n",
    "            sal_intermediate.append(npfile[i]['s'])\n",
    "            floor_intermediate.append(npfile[i]['depth'])\n",
    "    month_df = pd.DataFrame({'day': yd_intermediate,'lon': lon_intermediate,'lat': lat_intermediate, 'p': p_intermediate, 't': t_intermediate,'depth': floor_intermediate, 's': sal_intermediate})\n",
    "    newdf = pd.DataFrame({'lon': lon_intermediate,'lat': lat_intermediate,'date': yd_intermediate})\n",
    "    for ii in range(len(month_df)):\n",
    "        new = newdf.iloc[ii].values\n",
    "        point = Point(new)\n",
    "        if isinstance(month_df['p'].iloc[ii], int) or isinstance(month_df['p'].iloc[ii], float) or isinstance(month_df['t'].iloc[ii], int) or isinstance(month_df['t'].iloc[ii], float):\n",
    "            pass\n",
    "        if polygon_x.contains(point) == True or polygon_y.contains(point) == True or polygon_w.contains(point) == True or polygon_t.contains(point) == True or polygon_v.contains(point) == True:\n",
    "#             countwithinpolygon.append(gear)\n",
    "            countwithinpolygon.append(1)"
   ]
  },
  {
   "cell_type": "code",
   "execution_count": 1600,
   "metadata": {},
   "outputs": [
    {
     "name": "stdout",
     "output_type": "stream",
     "text": [
      "38343\n"
     ]
    }
   ],
   "source": [
    "print(len(countwithinpolygon))"
   ]
  },
  {
   "cell_type": "code",
   "execution_count": 1597,
   "metadata": {},
   "outputs": [
    {
     "data": {
      "text/plain": [
       "dict_values([19800, 12829, 2959, 2755])"
      ]
     },
     "execution_count": 1597,
     "metadata": {},
     "output_type": "execute_result"
    }
   ],
   "source": [
    "from collections import Counter\n",
    "\n",
    "Counter(countwithinpolygon).keys()\n",
    "Counter(countwithinpolygon).values()"
   ]
  },
  {
   "cell_type": "code",
   "execution_count": 1598,
   "metadata": {},
   "outputs": [
    {
     "data": {
      "text/plain": [
       "dict_keys(['SBE-19', 'SBE-19+', 'SBE-19+V2', 'SBE-911+'])"
      ]
     },
     "execution_count": 1598,
     "metadata": {},
     "output_type": "execute_result"
    }
   ],
   "source": [
    "Counter(countwithinpolygon).keys()\n",
    "\n"
   ]
  },
  {
   "cell_type": "code",
   "execution_count": 1586,
   "metadata": {},
   "outputs": [
    {
     "name": "stdout",
     "output_type": "stream",
     "text": [
      "38343\n"
     ]
    }
   ],
   "source": [
    "print(len(countwithinpolygon))"
   ]
  },
  {
   "cell_type": "code",
   "execution_count": 1581,
   "metadata": {},
   "outputs": [
    {
     "name": "stdout",
     "output_type": "stream",
     "text": [
      "{'SBE-911+', 'SBE-19+V2', 'SBE-19', 'SBE-19+'}\n"
     ]
    }
   ],
   "source": [
    "myset = set(countwithinpolygon)\n",
    "print(myset)"
   ]
  },
  {
   "cell_type": "code",
   "execution_count": 1582,
   "metadata": {},
   "outputs": [
    {
     "data": {
      "text/plain": [
       "15788"
      ]
     },
     "execution_count": 1582,
     "metadata": {},
     "output_type": "execute_result"
    }
   ],
   "source": [
    "sum('SBE-19+' in s for s in countwithinpolygon)"
   ]
  },
  {
   "cell_type": "code",
   "execution_count": 1589,
   "metadata": {},
   "outputs": [
    {
     "data": {
      "text/plain": [
       "35588"
      ]
     },
     "execution_count": 1589,
     "metadata": {},
     "output_type": "execute_result"
    }
   ],
   "source": [
    "sum('SBE-19' in s for s in countwithinpolygon)"
   ]
  },
  {
   "cell_type": "code",
   "execution_count": 1584,
   "metadata": {},
   "outputs": [
    {
     "data": {
      "text/plain": [
       "2755"
      ]
     },
     "execution_count": 1584,
     "metadata": {},
     "output_type": "execute_result"
    }
   ],
   "source": [
    "sum('SBE-911+' in s for s in countwithinpolygon)"
   ]
  },
  {
   "cell_type": "code",
   "execution_count": 1585,
   "metadata": {},
   "outputs": [
    {
     "data": {
      "text/plain": [
       "2959"
      ]
     },
     "execution_count": 1585,
     "metadata": {},
     "output_type": "execute_result"
    }
   ],
   "source": [
    "sum('SBE-19+V2' in s for s in countwithinpolygon)"
   ]
  },
  {
   "cell_type": "code",
   "execution_count": 1593,
   "metadata": {},
   "outputs": [
    {
     "data": {
      "text/plain": [
       "41302"
      ]
     },
     "execution_count": 1593,
     "metadata": {},
     "output_type": "execute_result"
    }
   ],
   "source": [
    "2755 + 2959 + 15788 + 19800"
   ]
  },
  {
   "cell_type": "code",
   "execution_count": 1561,
   "metadata": {},
   "outputs": [],
   "source": [
    "ZC = [pd.read_csv('01.csv'),pd.read_csv('02.csv'),pd.read_csv('03.csv'),pd.read_csv('04.csv'),\n",
    "      pd.read_csv('05.csv'),pd.read_csv('06.csv'),pd.read_csv('07.csv'),\n",
    "      pd.read_csv('08.csv'),pd.read_csv('09.csv'),pd.read_csv('10.csv'),pd.read_csv('11.csv'),\n",
    "     pd.read_csv('12.csv')]\n",
    "\n"
   ]
  },
  {
   "cell_type": "code",
   "execution_count": 1562,
   "metadata": {},
   "outputs": [],
   "source": [
    "fall_season = pd.concat(ZC)"
   ]
  },
  {
   "cell_type": "code",
   "execution_count": 1564,
   "metadata": {},
   "outputs": [
    {
     "name": "stdout",
     "output_type": "stream",
     "text": [
      "(38340, 9)\n"
     ]
    }
   ],
   "source": [
    "print(fall_season.shape)"
   ]
  },
  {
   "cell_type": "code",
   "execution_count": 1567,
   "metadata": {},
   "outputs": [
    {
     "data": {
      "text/plain": [
       "38340"
      ]
     },
     "execution_count": 1567,
     "metadata": {},
     "output_type": "execute_result"
    }
   ],
   "source": [
    "12607 + 11613 + 4795 + 9325\n"
   ]
  },
  {
   "cell_type": "code",
   "execution_count": 365,
   "metadata": {},
   "outputs": [],
   "source": [
    "dens_threshold = 0.03"
   ]
  },
  {
   "cell_type": "code",
   "execution_count": 57,
   "metadata": {},
   "outputs": [],
   "source": [
    "countwithinpolygon = []; densmld = []; obs_lat = []; obs_lon = []; date_no = []; bottomdepth = []; years = []\n",
    "yearwithdata = []; datefull = []; finallatestdepth = []; glorysmld = []\n",
    "glorys_lat = []; glorys_lon = []; glorys_lat_index = []; glorys_lon_index = []\n",
    "slopes_list = []; df_forslope_count = []\n",
    "\n",
    "for year in range(2015,2016):\n",
    "    filename = 'casts_{}.mat'.format(year)\n",
    "    file = scipy.io.loadmat(filename,squeeze_me=True)\n",
    "    npfile = file['casts_{}'.format(year)]\n",
    "    \n",
    "    lat_intermediate = []; lon_intermediate = []; p_intermediate = []; counterii = []\n",
    "    t_intermediate = []; yd_intermediate = []; sal_intermediate = []; floor_intermediate = []\n",
    "    \n",
    "    for i in range(len(npfile)):\n",
    "        yd = npfile[i]['yd']\n",
    "        p = npfile[i]['p']\n",
    "        s = npfile[i]['s']\n",
    "        t = npfile[i]['t']\n",
    "        gear = npfile[i]['gear']\n",
    "        floordepth = npfile[i]['depth']\n",
    "#         if (yd > 334 and yd <= 365) or (yd >= 0 and yd <= 59): \n",
    "        if yd > 151 and yd <= 243:  # and floordepth <= 200\n",
    "            lat_intermediate.append(npfile[i]['lat'])\n",
    "            lon_intermediate.append(npfile[i]['lon'])\n",
    "            p_intermediate.append(npfile[i]['p'])\n",
    "            t_intermediate.append(npfile[i]['t'])\n",
    "            yd_intermediate.append(npfile[i]['yd'])\n",
    "            sal_intermediate.append(npfile[i]['s'])\n",
    "            floor_intermediate.append(npfile[i]['depth'])\n",
    "    month_df = pd.DataFrame({'day': yd_intermediate,'lon': lon_intermediate,'lat': lat_intermediate, 'p': p_intermediate, 't': t_intermediate,'depth': floor_intermediate, 's': sal_intermediate})\n",
    "    newdf = pd.DataFrame({'lon': lon_intermediate,'lat': lat_intermediate,'date': yd_intermediate})\n",
    "    for ii in range(len(month_df)):\n",
    "        new = newdf.iloc[ii].values\n",
    "        point = Point(new)\n",
    "        if isinstance(month_df['p'].iloc[ii], int) or isinstance(month_df['p'].iloc[ii], float) or isinstance(month_df['t'].iloc[ii], int) or isinstance(month_df['t'].iloc[ii], float):\n",
    "            pass\n",
    "        elif polygon_x.contains(point) == True or polygon_y.contains(point) == True or polygon_w.contains(point) == True or polygon_t.contains(point) == True or polygon_v.contains(point) == True:\n",
    "            SA = gsw.SA_from_SP(month_df['s'].iloc[ii],month_df['p'].iloc[ii],month_df['lon'].iloc[ii],month_df['lat'].iloc[ii])\n",
    "            CT = gsw.CT_from_pt(SA,month_df['t'].iloc[ii])\n",
    "            DENS = gsw.sigma0(SA,CT)\n",
    "            pt_df = pd.DataFrame({'p': month_df['p'].iloc[ii],'t': month_df['t'].iloc[ii], 's': month_df['s'].iloc[ii], 'CT': CT, 'DENSMLD': DENS}) \n",
    "            df_ptsnew = pt_df.dropna()\n",
    "            df_final = pd.DataFrame(df_ptsnew.values)\n",
    "            countwithinpolygon.append(1)\n",
    "            l=[i for i in df_final[0] if i<=5] \n",
    "            if len(l) > 0:\n",
    "                surfaceval = []\n",
    "                numrange = []\n",
    "                for iii in range(len(l)):\n",
    "                    val = df_final[4][iii]\n",
    "                    numrange.append(iii)\n",
    "                    surfaceval.append(val)            \n",
    "            surfacevalmean = statistics.mean(surfaceval)\n",
    "            densfin = []; tempfin = []; pressurefin = []; salfin = []\n",
    "            for iii in range(numrange[-1],len(df_final)): #for iii in range(numrange[-1]+1,len(df_final)):\n",
    "                tempfin.append(df_final[1][iii])\n",
    "                pressurefin.append(df_final[0][iii])\n",
    "                salfin.append(df_final[2][iii])\n",
    "                densfin.append(df_final[4][iii])\n",
    "            d = {'temp': list(reversed(tempfin)), 'sal': list(reversed(salfin)), 'pressure': list(reversed(pressurefin)),'density': list(reversed(densfin))}\n",
    "            dunreversed = {'temp': list(tempfin), 'sal': list(salfin), 'pressure': list(pressurefin), 'density': list(densfin)}\n",
    "            dffinunreversed = pd.DataFrame(dunreversed)\n",
    "            dffin = pd.DataFrame(d)\n",
    "            \n",
    "#             print(df_final)\n",
    "#             df_forslope['pressure'] = df_final[df_final[0] <= 20][0]\n",
    "#             print(df_forslope)\n",
    "#             df_forslope = df_forslope['pressure'].dropna()\n",
    "#             print(df_forslope)\n",
    "#             print('7777')\n",
    "#             print('')\n",
    "#             if len(df_forslope) > 1:\n",
    "#                 df_forslope_count.append(1)\n",
    "#     print(year, len(df_forslope_count),len(countwithinpolygon))\n",
    "            \n",
    "#             if len(df_forslope) > 1:\n",
    "#                 print(df_forslope)\n",
    "            \n",
    "#                 slopes = df_forslope.apply(lambda x: np.polyfit(df_forslope.index, x, 1)[0])\n",
    "#                 print(slopes)\n",
    "                        \n",
    "                \n",
    "#             print(dffin)\n",
    "#             for ix in range(len(dffinunreversed)):\n",
    "#                 print('***********')\n",
    "#                 print(dffinunreversed)\n",
    "#                 if dffinunreversed.at[ix,'density'] >= (surfacevalmean - dens_threshold) and dffinunreversed.at[ix,'density'] <= (surfacevalmean + dens_threshold):\n",
    "#                     if dffinunreversed.at[len(dffinunreversed)-1,'density'] <= (surfacevalmean + dens_threshold) and dffinunreversed.at[len(dffinunreversed)-1,'density'] >= (surfacevalmean - dens_threshold):\n",
    "#                         looknow = list(dffinunreversed['density'].values)\n",
    "#                         looknow2 = [i for i in looknow if i >= (surfacevalmean + dens_threshold)]\n",
    "#                         looknow3 = [i for i in looknow if i <= (surfacevalmean - dens_threshold)]\n",
    "#                         if len(looknow2) == 0 and len(looknow3) == 0:\n",
    "#                             if (dffinunreversed.at[len(dffinunreversed)-1,'pressure'] <= 25 and dffinunreversed.at[len(dffinunreversed)-1,'pressure'] >= (month_df['depth'].iloc[ii] - 5)) or (dffinunreversed.at[len(dffinunreversed)-1,'pressure'] > 25 and dffinunreversed.at[len(dffinunreversed)-1,'pressure'] >= (month_df['depth'].iloc[ii] - 10)):\n",
    "# #                                 densmld.append(month_df['depth'].iloc[ii])\n",
    "# #                                 obs_lat.append(month_df['lat'].iloc[ii])\n",
    "# #                                 obs_lon.append(month_df['lon'].iloc[ii])\n",
    "# #                                 date_no.append(month_df['day'].iloc[ii])\n",
    "# #                                 bottomdepth.append(month_df['depth'].iloc[ii])\n",
    "# #                                 years.append(year)\n",
    "# #                                 counterii.append(ii)\n",
    "#                                 if len(df_forslope) > 1:\n",
    "#                                     densmld.append(month_df['depth'].iloc[ii])\n",
    "#                                     slopes = df_forslope.apply(lambda x: np.polyfit(df_forslope.index, x, 1)[0])\n",
    "#                                     slopes_list.append(slopes)\n",
    "#                                     obs_lat.append(month_df['lat'].iloc[ii])\n",
    "#                                     obs_lon.append(month_df['lon'].iloc[ii])\n",
    "#                                     date_no.append(month_df['day'].iloc[ii])\n",
    "#                                     bottomdepth.append(month_df['depth'].iloc[ii])\n",
    "#                                     years.append(year)\n",
    "#                                 # PLOTTING\n",
    "# #                                 plt.plot(df_final[4], df_final[0]*-1)\n",
    "# #                                 plt.axhline(y=month_df['depth'].iloc[ii]*-1,color='black', linestyle='-',alpha = 0.5)\n",
    "# #                                 plt.axhline(y=dffinunreversed.at[len(dffinunreversed)-1,'pressure']*-1,color='red', linestyle='-',alpha = 0.5)\n",
    "# #                                 plt.axhline(y=5*-1,color='green', linestyle='--',alpha = 1)\n",
    "# #                                 plt.axvline(x=surfacevalmean,color='green', linestyle='--',alpha = 1)\n",
    "# #                                 plt.axvline(x=surfacevalmean+0.03,color='green', linestyle='--',alpha = 0.5)\n",
    "# #                                 plt.axvline(x=surfacevalmean-0.03,color='green', linestyle='--',alpha = 0.5)\n",
    "# #                                 plt.show()\n",
    "#                                 break\n",
    "#                             else:#here\n",
    "# #                                 plt.plot(df_final[4], df_final[0]*-1)\n",
    "# #                                 plt.axhline(y=dffinunreversed.at[ix,'pressure']*-1,color='darkblue', linestyle='--',alpha = 1)\n",
    "# #                                 plt.axhline(y=month_df['depth'].iloc[ii]*-1,color='black', linestyle='-',alpha = 0.5)\n",
    "# #                                 plt.axhline(y=dffinunreversed.at[len(dffinunreversed)-1,'pressure']*-1,color='red', linestyle='-',alpha = 0.5)\n",
    "# #                                 plt.axhline(y=5*-1,color='green', linestyle='--',alpha = 1)\n",
    "# #                                 plt.axvline(x=surfacevalmean,color='green', linestyle='--',alpha = 1)\n",
    "# #                                 plt.axvline(x=surfacevalmean+0.03,color='green', linestyle='--',alpha = 0.5)\n",
    "# #                                 plt.axvline(x=surfacevalmean-0.03,color='green', linestyle='--',alpha = 0.5)\n",
    "# #                                 plt.show()\n",
    "#                                 break \n",
    "#                         else:\n",
    "#                             if (dffinunreversed.at[len(dffinunreversed)-1,'pressure'] <= 25 and dffinunreversed.at[len(dffinunreversed)-1,'pressure'] >= (month_df['depth'].iloc[ii] - 5)) or (dffinunreversed.at[len(dffinunreversed)-1,'pressure'] > 25 and dffinunreversed.at[len(dffinunreversed)-1,'pressure'] >= (month_df['depth'].iloc[ii] - 10)):\n",
    "#                                 for ix in range(len(dffinunreversed['density'])):\n",
    "#                                     if dffinunreversed.at[ix,'density'] >= (surfacevalmean - dens_threshold) and dffinunreversed.at[ix,'density'] <= (surfacevalmean + dens_threshold):\n",
    "#                                         pass\n",
    "#                                     else:\n",
    "# #                                         densmld.append(month_df['depth'].iloc[ii])\n",
    "# #                                         obs_lat.append(month_df['lat'].iloc[ii])\n",
    "# #                                         obs_lon.append(month_df['lon'].iloc[ii])\n",
    "# #                                         date_no.append(month_df['day'].iloc[ii])\n",
    "# #                                         bottomdepth.append(month_df['depth'].iloc[ii])\n",
    "# #                                         years.append(year)\n",
    "# #                                         counterii.append(ii)\n",
    "#                                         if len(df_forslope) > 1:\n",
    "#                                             densmld.append(month_df['depth'].iloc[ii])\n",
    "#                                             slopes = df_forslope.apply(lambda x: np.polyfit(df_forslope.index, x, 1)[0])\n",
    "#                                             slopes_list.append(slopes)\n",
    "#                                             obs_lat.append(month_df['lat'].iloc[ii])\n",
    "#                                             obs_lon.append(month_df['lon'].iloc[ii])\n",
    "#                                             date_no.append(month_df['day'].iloc[ii])\n",
    "#                                             bottomdepth.append(month_df['depth'].iloc[ii])\n",
    "#                                             years.append(year)\n",
    "#                                         #plotting\n",
    "# #                                         plt.plot(df_final[4], df_final[0]*-1)\n",
    "# #                                         plt.axhline(y=dffinunreversed.at[ix,'pressure']*-1,color='gray', linestyle='--',alpha = 1)\n",
    "# #                                         plt.axhline(y=month_df['depth'].iloc[ii]*-1,color='black', linestyle='-',alpha = 0.5)\n",
    "# #                                         plt.axhline(y=dffinunreversed.at[len(dffinunreversed)-1,'pressure']*-1,color='red', linestyle='-',alpha = 0.5)\n",
    "# #                                         plt.axhline(y=5*-1,color='green', linestyle='--',alpha = 1)\n",
    "# #                                         plt.axvline(x=surfacevalmean,color='green', linestyle='--',alpha = 1)\n",
    "# #                                         plt.axvline(x=surfacevalmean+0.03,color='green', linestyle='--',alpha = 0.5)\n",
    "# #                                         plt.axvline(x=surfacevalmean-0.03,color='green', linestyle='--',alpha = 0.5)\n",
    "# #                                         plt.show()\n",
    "#                                         break\n",
    "#                                 break\n",
    "#                             else:\n",
    "#                                 break\n",
    "#                     else: \n",
    "#                         if dffinunreversed.at[ix,'density'] <= (surfacevalmean - dens_threshold) or dffinunreversed.at[ix,'density'] >= (surfacevalmean + dens_threshold):\n",
    "#                             if (dffinunreversed.at[len(dffinunreversed)-1,'pressure'] <= 25 and dffinunreversed.at[len(dffinunreversed)-1,'pressure'] >= (month_df['depth'].iloc[ii] - 5) and dffinunreversed.at[ix,'pressure'] <= (month_df['depth'].iloc[ii] - 5)) or (dffinunreversed.at[len(dffinunreversed)-1,'pressure'] > 25 and dffinunreversed.at[len(dffinunreversed)-1,'pressure'] >= (month_df['depth'].iloc[ii] - 10) and dffinunreversed.at[ix,'pressure'] <= (month_df['depth'].iloc[ii] - 10)):\n",
    "#                                 pass\n",
    "#                             else:\n",
    "# #                                 densmld.append(dffinunreversed.at[ix,'pressure'])\n",
    "# #                                 obs_lat.append(month_df['lat'].iloc[ii])\n",
    "# #                                 obs_lon.append(month_df['lon'].iloc[ii])\n",
    "# #                                 date_no.append(month_df['day'].iloc[ii])\n",
    "# #                                 bottomdepth.append(month_df['depth'].iloc[ii])\n",
    "# #                                 years.append(year)\n",
    "# #                                 counterii.append(ii)\n",
    "#                                 if len(df_forslope) > 1 :\n",
    "#                                     densmld.append(dffinunreversed.at[ix,'pressure'])\n",
    "#                                     slopes = df_forslope.apply(lambda x: np.polyfit(df_forslope.index, x, 1)[0])\n",
    "#                                     slopes_list.append(slopes)\n",
    "#                                     obs_lat.append(month_df['lat'].iloc[ii])\n",
    "#                                     obs_lon.append(month_df['lon'].iloc[ii])\n",
    "#                                     date_no.append(month_df['day'].iloc[ii])\n",
    "#                                     bottomdepth.append(month_df['depth'].iloc[ii])\n",
    "#                                     years.append(year)\n",
    "# #                                 PLOTTING \n",
    "# #                                 plt.plot(df_final[4], df_final[0]*-1)\n",
    "# #                                 plt.axhline(y=dffinunreversed.at[ix,'pressure']*-1,color='purple', linestyle='--',alpha = 0.5)\n",
    "# #                                 plt.axhline(y=month_df['depth'].iloc[ii]*-1,color='black', linestyle='-',alpha = 0.5)\n",
    "# #                                 plt.axhline(y=dffinunreversed.at[len(dffinunreversed)-1,'pressure']*-1,color='red', linestyle='-',alpha = 0.5)\n",
    "# #                                 plt.axhline(y=5*-1,color='green', linestyle='--',alpha = 1)\n",
    "# #                                 plt.axvline(x=surfacevalmean,color='green', linestyle='--',alpha = 1)\n",
    "# #                                 plt.axvline(x=surfacevalmean+0.03,color='green', linestyle='--',alpha = 0.5)\n",
    "# #                                 plt.axvline(x=surfacevalmean-0.03,color='green', linestyle='--',alpha = 0.5)\n",
    "# #                                 plt.show()\n",
    "#                                 break           \n",
    "#                         else: \n",
    "#                             if dffinunreversed.at[ix,'density'] >= (surfacevalmean + dens_threshold) or dffinunreversed.at[ix,'density'] <= (surfacevalmean - dens_threshold):\n",
    "#                                 break \n",
    "#                 elif dffinunreversed.at[ix,'density'] <= (surfacevalmean - dens_threshold) or dffinunreversed.at[ix,'density'] >= (surfacevalmean + dens_threshold):\n",
    "#                     if (dffinunreversed.at[len(dffinunreversed)-1,'pressure'] <= 25 and dffinunreversed.at[len(dffinunreversed)-1,'pressure'] >= (month_df['depth'].iloc[ii] - 5) and dffinunreversed.at[ix,'pressure'] <= (month_df['depth'].iloc[ii] - 5)) or (dffinunreversed.at[len(dffinunreversed)-1,'pressure'] > 25 and dffinunreversed.at[len(dffinunreversed)-1,'pressure'] >= (month_df['depth'].iloc[ii] - 10) and dffinunreversed.at[ix,'pressure'] <= (month_df['depth'].iloc[ii] - 10)):\n",
    "#                         pass\n",
    "#                     else:\n",
    "#                         for ix in range(len(dffinunreversed['density'])):\n",
    "#                             if dffinunreversed.at[ix,'density'] >= (surfacevalmean - dens_threshold) and dffinunreversed.at[ix,'density'] <= (surfacevalmean + dens_threshold):\n",
    "# #                                 print(dffinunreversed.at[ix,'density'])\n",
    "#                                 pass\n",
    "#                             else:\n",
    "# #                                 print('no')\n",
    "# #                                 print('surfacevalmean: ', surfacevalmean)\n",
    "# #                                 densmld.append(dffinunreversed.at[ix,'pressure'])\n",
    "# #                                 obs_lat.append(month_df['lat'].iloc[ii])\n",
    "# #                                 obs_lon.append(month_df['lon'].iloc[ii])\n",
    "# #                                 date_no.append(month_df['day'].iloc[ii])\n",
    "# #                                 bottomdepth.append(month_df['depth'].iloc[ii])\n",
    "# #                                 years.append(year)\n",
    "# #                                 counterii.append(ii)\n",
    "#                                 if len(df_forslope) > 1 :\n",
    "#                                     densmld.append(dffinunreversed.at[ix,'pressure'])\n",
    "#                                     slopes = df_forslope.apply(lambda x: np.polyfit(df_forslope.index, x, 1)[0])\n",
    "#                                     slopes_list.append(slopes)\n",
    "#                                     obs_lat.append(month_df['lat'].iloc[ii])\n",
    "#                                     obs_lon.append(month_df['lon'].iloc[ii])\n",
    "#                                     date_no.append(month_df['day'].iloc[ii])\n",
    "#                                     bottomdepth.append(month_df['depth'].iloc[ii])\n",
    "#                                     years.append(year)\n",
    "#                                 # PLOTTING\n",
    "# #                                 plt.plot(df_final[1], df_final[0]*-1)\n",
    "# #                                 plt.plot(df_final[4], df_final[0]*-1)\n",
    "# #                                 plt.axhline(y=dffinunreversed.at[ix,'pressure']*-1,color='darkblue', linestyle='--',alpha = 1)\n",
    "# #                                 plt.axhline(y=month_df['depth'].iloc[ii]*-1,color='black', linestyle='-',alpha = 0.5)\n",
    "# #                                 plt.axhline(y=dffinunreversed.at[len(dffinunreversed)-1,'pressure']*-1,color='red', linestyle='-',alpha = 0.5)\n",
    "# #                                 plt.axhline(y=5*-1,color='green', linestyle='--',alpha = 1)\n",
    "# #                                 plt.axhline(y=47*-1,color='black',linewidth=2.0, linestyle='--',alpha = 1)\n",
    "# # #                                 plt.axvline(x=7.0360000000000005,color='green', linestyle='--',alpha = 1)\n",
    "# # #                                 plt.axvline(x=7.0360000000000005+0.2,color='green', linestyle='--',alpha = 0.5)\n",
    "# # #                                 plt.axvline(x=7.0360000000000005-0.2,color='green', linestyle='--',alpha = 0.5)\n",
    "# #                                 plt.axvline(x=surfacevalmean,color='green', linestyle='--',alpha = 1)\n",
    "# #                                 plt.axvline(x=surfacevalmean+dens_threshold,color='green', linestyle='--',alpha = 0.5)\n",
    "# #                                 plt.axvline(x=surfacevalmean-dens_threshold,color='green', linestyle='--',alpha = 0.5)\n",
    "# #                                 plt.show()\n",
    "#                                 break\n",
    "#                         break\n",
    "#                 else: \n",
    "#                     break\n",
    "#     print(year)"
   ]
  },
  {
   "cell_type": "code",
   "execution_count": 59,
   "metadata": {},
   "outputs": [
    {
     "name": "stdout",
     "output_type": "stream",
     "text": [
      "90\n"
     ]
    }
   ],
   "source": [
    "print(len(countwithinpolygon))"
   ]
  },
  {
   "cell_type": "code",
   "execution_count": 48,
   "metadata": {},
   "outputs": [
    {
     "ename": "SyntaxError",
     "evalue": "invalid syntax (<ipython-input-48-12e444453a13>, line 1)",
     "output_type": "error",
     "traceback": [
      "\u001b[0;36m  File \u001b[0;32m\"<ipython-input-48-12e444453a13>\"\u001b[0;36m, line \u001b[0;32m1\u001b[0m\n\u001b[0;31m    4684 4795\u001b[0m\n\u001b[0m            ^\u001b[0m\n\u001b[0;31mSyntaxError\u001b[0m\u001b[0;31m:\u001b[0m invalid syntax\n"
     ]
    }
   ],
   "source": [
    "4684 4795"
   ]
  },
  {
   "cell_type": "code",
   "execution_count": 40,
   "metadata": {},
   "outputs": [
    {
     "name": "stdout",
     "output_type": "stream",
     "text": [
      "2946\n",
      "2946\n",
      "2946\n"
     ]
    }
   ],
   "source": [
    "print(len(densmld))\n",
    "print(len(bottomdepth))\n",
    "print(len(slopes_list))"
   ]
  },
  {
   "cell_type": "code",
   "execution_count": 393,
   "metadata": {},
   "outputs": [],
   "source": [
    "diff_add = []; same = []; opposite = []\n",
    "temp_slope = []; sal_slope = []; density_slope = []\n",
    "for i in range(len(slopes_list)):\n",
    "    temp_val = slopes_list[i][0]\n",
    "    sal_val = slopes_list[i][1]\n",
    "    density_val = slopes_list[i][3]\n",
    "    temp_slope.append(temp_val)\n",
    "    sal_slope.append(sal_slope)\n",
    "    density_slope.append(density_val)\n",
    "    diff_add.append(abs(temp_val) - abs(density_val))\n",
    "    if temp_val > 0 and density_val > 0:\n",
    "        same.append(abs(temp_val) - abs(density_val))\n",
    "        opposite.append(1)\n",
    "    else:\n",
    "        same.append(0)\n",
    "#     elif temp_val < (-0.3485091148792271-0.0.3320501673436184) and density_val < (0.1097800068095043+0.030805025375552755):\n",
    "#         same.append(0)\n",
    "#     elif temp_val < (-0.045908268253141454-0.09978643121941348) and density_val > (0.019573957760964548+0.030805025375552755):\n",
    "#         same.append(0)\n",
    "#     else:\n",
    "#         same.append(0)"
   ]
  },
  {
   "cell_type": "code",
   "execution_count": 398,
   "metadata": {},
   "outputs": [
    {
     "name": "stdout",
     "output_type": "stream",
     "text": [
      "5705\n",
      "1131\n"
     ]
    }
   ],
   "source": [
    "print(len(same))\n",
    "print(len(opposite))"
   ]
  },
  {
   "cell_type": "code",
   "execution_count": 394,
   "metadata": {},
   "outputs": [],
   "source": [
    "newdf = pd.DataFrame({'temp_slope': temp_slope,'dens_slope': density_slope, 'lon': obs_lon, 'lat': obs_lat, 'diff_add': diff_add})\n",
    "\n",
    "newdf = pd.DataFrame({'same':same,'temp_slope': temp_slope,'dens_slope': density_slope, 'lon': obs_lon, 'lat': obs_lat, 'diff_add': diff_add})\n",
    "\n",
    "\n"
   ]
  },
  {
   "cell_type": "code",
   "execution_count": 395,
   "metadata": {},
   "outputs": [
    {
     "name": "stdout",
     "output_type": "stream",
     "text": [
      "0.09978643121941348\n",
      "-0.045908268253141454\n",
      "0.030805025375552755\n",
      "0.019573957760964548\n"
     ]
    }
   ],
   "source": [
    "print(np.nanstd(newdf['temp_slope']))\n",
    "print(np.nanmean(newdf['temp_slope']))\n",
    "\n",
    "print(np.nanstd(newdf['dens_slope']))\n",
    "print(np.nanmean(newdf['dens_slope']))"
   ]
  },
  {
   "cell_type": "code",
   "execution_count": 396,
   "metadata": {},
   "outputs": [
    {
     "name": "stdout",
     "output_type": "stream",
     "text": [
      "0.0046705635533708\n",
      "1.0627856323774583\n",
      "-0.2096970394412208\n",
      "5705\n",
      "1131\n"
     ]
    }
   ],
   "source": [
    "print(np.nanmean(same))\n",
    "print(np.nanmax(same))\n",
    "print(np.nanmin(same))\n",
    "print(len(same))\n",
    "print(len(opposite))"
   ]
  },
  {
   "cell_type": "code",
   "execution_count": 375,
   "metadata": {},
   "outputs": [],
   "source": [
    "import numpy as np\n",
    "from matplotlib.path import Path\n",
    "\n",
    "nx = np.arange(-76,-65,0.5)\n",
    "ny = np.arange(35,46,0.5)\n",
    "\n",
    "poly_verts_w = df_w_plottable.values \n",
    "poly_verts_v = df_v_plottable.values \n",
    "poly_verts_x = df_x_plottable.values \n",
    "poly_verts_y = df_y_plottable.values \n",
    "poly_verts_t = df_t_plottable.values \n",
    "\n",
    "full_pandas = df_w_plottable.append(df_v_plottable)\n",
    "full_pandas = full_pandas.append(df_x_plottable)\n",
    "full_pandas = full_pandas.append(df_y_plottable)\n",
    "full_pandas = full_pandas.append(df_t_plottable)\n",
    "poly_verts_full = full_pandas.values\n",
    "\n",
    "newlon = [-69.5,-68,-67.5, -67, -66.5, -66, -65.7, -66,-66, -66.5, -67,\n",
    "         -68, -69, -70,-70.5, -70.5,-69.5, -72, -74, -74.25, -76, -75.5, -75, -74.75, -74.5, -72, -71.4, -69.5]\n",
    "newlat = [40,40.3,40.4, 40.6, 40.8, 41.45, 41.8, 42.1, 43, 44.2, 44.2, 44.2, 43.9, 43.7,\n",
    "         43, 42.2, 41, 41, 40.5, 39.4, 37, 36, 35.5, 36, 37.4, 39.5, 40, 40]\n",
    "newpath = list(zip(newlon,newlat))\n",
    "newpd = pd.DataFrame(newpath, columns=['lon','lat'])\n",
    "path_new = Path(newpath)\n",
    "\n",
    "x, y = np.meshgrid(nx, ny)\n",
    "x, y = x.flatten(), y.flatten()\n",
    "\n",
    "points = np.vstack((x,y)).T\n",
    "\n",
    "path_w = Path(poly_verts_w)\n",
    "path_v = Path(poly_verts_v)\n",
    "path_x = Path(poly_verts_x)\n",
    "path_y = Path(poly_verts_y)\n",
    "path_t = Path(poly_verts_t)\n",
    "path_full = Path(poly_verts_full)\n",
    "\n",
    "grid = path_new.contains_points(points) \n",
    "grid = grid.reshape((22,22))"
   ]
  },
  {
   "cell_type": "code",
   "execution_count": 376,
   "metadata": {},
   "outputs": [],
   "source": [
    "newdf = pd.DataFrame({'same':same,'temp_slope': temp_slope,'dens_slope': density_slope, 'lon': obs_lon, 'lat': obs_lat, 'diff_add': diff_add})\n"
   ]
  },
  {
   "cell_type": "code",
   "execution_count": 377,
   "metadata": {},
   "outputs": [],
   "source": [
    "from scipy.interpolate import griddata"
   ]
  },
  {
   "cell_type": "code",
   "execution_count": 378,
   "metadata": {},
   "outputs": [],
   "source": [
    "# winter_season_remove5 # spring_season_remove5 # summer_season_remove5 # fall_season_remove5\n",
    "x = newdf['lon']*-1\n",
    "y = newdf['lat']\n",
    "z = newdf['same'] #temp_slope\n",
    "c = newdf['dens_slope']\n",
    "\n",
    "xi = np.arange(-76,-65,0.5)\n",
    "yi = np.arange(35,46,0.5)\n",
    "\n",
    "xi,yi = np.meshgrid(xi,yi)\n",
    "    \n",
    "zi = griddata((x,y),z,(xi,yi),method='linear')\n",
    "ci = griddata((x,y),c,(xi,yi),method='linear')\n",
    "   \n",
    "zi = zi.reshape((22,22)) ###\n",
    "ci = zi.reshape((22,22)) ###"
   ]
  },
  {
   "cell_type": "code",
   "execution_count": 379,
   "metadata": {},
   "outputs": [
    {
     "data": {
      "text/plain": [
       "<matplotlib.image.AxesImage at 0xd207090f0>"
      ]
     },
     "execution_count": 379,
     "metadata": {},
     "output_type": "execute_result"
    },
    {
     "data": {
      "image/png": "[encoded data removed]",
      "text/plain": [
       "<Figure size 432x288 with 1 Axes>"
      ]
     },
     "metadata": {
      "needs_background": "light"
     },
     "output_type": "display_data"
    }
   ],
   "source": [
    "fig = plt.figure()\n",
    "ax = fig.add_subplot(111)\n",
    "ax.imshow(zi)"
   ]
  },
  {
   "cell_type": "code",
   "execution_count": 380,
   "metadata": {},
   "outputs": [
    {
     "data": {
      "text/plain": [
       "<matplotlib.image.AxesImage at 0xd2f4cb908>"
      ]
     },
     "execution_count": 380,
     "metadata": {},
     "output_type": "execute_result"
    },
    {
     "data": {
      "image/png": "[encoded data removed]",
      "text/plain": [
       "<Figure size 432x288 with 1 Axes>"
      ]
     },
     "metadata": {
      "needs_background": "light"
     },
     "output_type": "display_data"
    }
   ],
   "source": [
    "fig = plt.figure()\n",
    "ax = fig.add_subplot(111)\n",
    "ax.imshow(ci)"
   ]
  },
  {
   "cell_type": "code",
   "execution_count": 381,
   "metadata": {},
   "outputs": [
    {
     "name": "stderr",
     "output_type": "stream",
     "text": [
      "/anaconda3/lib/python3.7/site-packages/ipykernel_launcher.py:1: RuntimeWarning: Mean of empty slice\n",
      "  \"\"\"Entry point for launching an IPython kernel.\n",
      "/anaconda3/lib/python3.7/site-packages/ipykernel_launcher.py:2: RuntimeWarning: Mean of empty slice\n",
      "  \n"
     ]
    }
   ],
   "source": [
    "newmeangridnew = np.nanmean([zi],axis = 0)\n",
    "newmeangridnewc = np.nanmean([ci],axis = 0)"
   ]
  },
  {
   "cell_type": "code",
   "execution_count": 382,
   "metadata": {},
   "outputs": [
    {
     "data": {
      "text/plain": [
       "<matplotlib.image.AxesImage at 0xd1efd54e0>"
      ]
     },
     "execution_count": 382,
     "metadata": {},
     "output_type": "execute_result"
    },
    {
     "data": {
      "image/png": "[encoded data removed]",
      "text/plain": [
       "<Figure size 432x288 with 1 Axes>"
      ]
     },
     "metadata": {
      "needs_background": "light"
     },
     "output_type": "display_data"
    }
   ],
   "source": [
    "fig = plt.figure()\n",
    "ax = fig.add_subplot(111)\n",
    "ax.imshow(newmeangridnew)"
   ]
  },
  {
   "cell_type": "code",
   "execution_count": 383,
   "metadata": {},
   "outputs": [],
   "source": [
    "griddednewlate = np.where(grid == True, newmeangridnew, grid)\n",
    "griddednewlatec = np.where(grid == True, newmeangridnewc, grid)"
   ]
  },
  {
   "cell_type": "code",
   "execution_count": 384,
   "metadata": {},
   "outputs": [
    {
     "data": {
      "text/plain": [
       "<matplotlib.image.AxesImage at 0xd2a4d9470>"
      ]
     },
     "execution_count": 384,
     "metadata": {},
     "output_type": "execute_result"
    },
    {
     "data": {
      "image/png": "[encoded data removed]",
      "text/plain": [
       "<Figure size 432x288 with 1 Axes>"
      ]
     },
     "metadata": {
      "needs_background": "light"
     },
     "output_type": "display_data"
    }
   ],
   "source": [
    "fig = plt.figure()\n",
    "ax = fig.add_subplot(111)\n",
    "ax.imshow(griddednewlate)"
   ]
  },
  {
   "cell_type": "code",
   "execution_count": 385,
   "metadata": {},
   "outputs": [],
   "source": [
    "d = np.where(np.isnan(griddednewlate), 0, griddednewlate)\n",
    "e = np.where(np.isnan(griddednewlate), 0, griddednewlatec)"
   ]
  },
  {
   "cell_type": "code",
   "execution_count": 386,
   "metadata": {},
   "outputs": [
    {
     "data": {
      "text/plain": [
       "<matplotlib.image.AxesImage at 0xd30226c18>"
      ]
     },
     "execution_count": 386,
     "metadata": {},
     "output_type": "execute_result"
    },
    {
     "data": {
      "image/png": "[encoded data removed]",
      "text/plain": [
       "<Figure size 432x288 with 1 Axes>"
      ]
     },
     "metadata": {
      "needs_background": "light"
     },
     "output_type": "display_data"
    }
   ],
   "source": [
    "fig = plt.figure()\n",
    "ax = fig.add_subplot(111)\n",
    "ax.imshow(d)"
   ]
  },
  {
   "cell_type": "code",
   "execution_count": 387,
   "metadata": {},
   "outputs": [
    {
     "name": "stdout",
     "output_type": "stream",
     "text": [
      "0.26067736783503714\n",
      "0.0035686137180591477\n",
      "-0.006553360130163777\n",
      "\n",
      "0.31008104135513825\n",
      "0.01015628942783558\n",
      "-0.03369002360772969\n"
     ]
    }
   ],
   "source": [
    "print(np.nanmax(d))\n",
    "print(np.nanmean(d))\n",
    "print(np.nanmin(d))\n",
    "print('')\n",
    "print(np.nanmax(c))\n",
    "print(np.nanmean(c))\n",
    "print(np.nanmin(c))"
   ]
  },
  {
   "cell_type": "code",
   "execution_count": 388,
   "metadata": {},
   "outputs": [],
   "source": [
    "file_in ='Etopo1_Bed_35_65N_40_80W.nc'\n",
    "NC=Dataset(file_in); DS=xr.open_dataset(file_in)\n",
    "projection= ccrs.PlateCarree(central_longitude=255);\n",
    "data_crs = ccrs.PlateCarree()\n",
    "\n",
    "latNC= NC['lat'][:]\n",
    "lonNC= NC['lon'][:]\n",
    "depthNC= NC['depth'][:]"
   ]
  },
  {
   "cell_type": "code",
   "execution_count": 390,
   "metadata": {},
   "outputs": [
    {
     "data": {
      "image/png": "[encoded data removed]",
      "text/plain": [
       "<Figure size 864x576 with 1 Axes>"
      ]
     },
     "metadata": {
      "needs_background": "light"
     },
     "output_type": "display_data"
    }
   ],
   "source": [
    "from matplotlib.pyplot import * ; import cartopy.feature as cfeature\n",
    "\n",
    "plt.figure(figsize=(12, 8))\n",
    "ax = plt.axes(projection=ccrs.PlateCarree())\n",
    "ax.set_extent([-75.75, -65.75, 35, 44.75], ccrs.PlateCarree())\n",
    "\n",
    "gl = ax.gridlines(crs=ccrs.PlateCarree(), draw_labels=True,linewidth=1, color='black', alpha=0.2, linestyle='--', zorder = 20)\n",
    "gl.xlabels_top = False\n",
    "gl.ylabels_left = True\n",
    "gl.ylabels_right = False\n",
    "gl.xformatter = LONGITUDE_FORMATTER\n",
    "gl.yformatter = LATITUDE_FORMATTER\n",
    "gl.xlabel_style = {'size': 12, 'color': 'black'}\n",
    "gl.ylabel_style = {'size': 12, 'color': 'black'}\n",
    "\n",
    "plt.text(-68.85, 35.85, 'Winter', dict(size=30))\n",
    "# cmap=plt.cm.get_cmap('Blues', 150)\n",
    "# cf = plt.contourf(xi,yi,d, np.arange(0, 02,0.01), cmap = cmap)\n",
    "cf = plt.contourf(xi,yi,d, np.arange(-0.25, 0.25,0.01), cmap = 'seismic_r')\n",
    "ax.contour(lonNC, latNC, depthNC, [-300,-200,-100], linewidths=1,colors='black', alpha = 1,zorder=5) #alpha = 0.7\n",
    "ax.contour(lonNC, latNC, depthNC, [-75,-50,-25], linewidths=0.5,colors='black',zorder=5)\n",
    "\n",
    "feature = cfeature.NaturalEarthFeature(name='coastline', category='physical',scale='50m',edgecolor='black', facecolor='dimgray')\n",
    "ax.add_feature(feature,zorder=10)\n",
    "# cbar = plt.colorbar(cf, ticks=[-0.25,-0.20,-0.15,-0.10,-0.05,0.00,0.05,0.10,0.15,0.20,0.25], orientation='horizontal')\n",
    "# cbar.ax.set_xticklabels([-0.25,-0.20,-0.15,-0.10,-0.05,0.00,0.05,0.10,0.15,0.20,0.25])\n",
    "\n",
    "\n",
    "\n",
    "# cbar = plt.colorbar(cf, ticks=[-80,-60,-40,-20,0,20,40,60,80], orientation='vertical')\n",
    "# cbar.ax.set_xticklabels([-80,-60,-40,-20,0,20,40,60,80])\n",
    "# # # # cbar = plt.colorbar(cf, ax=ax)\n",
    "# # cbar.ax.get_yaxis().labelpad = 20\n",
    "# cbar.ax.set_ylabel('Slope difference', rotation=270, fontsize = 15)\n",
    "# # # # # cbar.set_ticks([0,10,20,30,40,50,60,70,80,90,100,110,120,130,140])\n",
    "# cbar.ax.tick_params(labelsize=12)\n",
    "\n",
    "plt.savefig('Fall_temp-dens_slopes')\n",
    "\n",
    "plt.show()"
   ]
  },
  {
   "cell_type": "code",
   "execution_count": 341,
   "metadata": {},
   "outputs": [
    {
     "data": {
      "image/png": "[encoded data removed]",
      "text/plain": [
       "<Figure size 864x576 with 2 Axes>"
      ]
     },
     "metadata": {
      "needs_background": "light"
     },
     "output_type": "display_data"
    }
   ],
   "source": [
    "from matplotlib.pyplot import * ; import cartopy.feature as cfeature\n",
    "\n",
    "plt.figure(figsize=(12, 8))\n",
    "ax = plt.axes(projection=ccrs.PlateCarree())\n",
    "ax.set_extent([-75.75, -65.75, 35, 44.75], ccrs.PlateCarree())\n",
    "\n",
    "gl = ax.gridlines(crs=ccrs.PlateCarree(), draw_labels=True,linewidth=1, color='black', alpha=0.2, linestyle='--', zorder = 20)\n",
    "gl.xlabels_top = False\n",
    "gl.ylabels_left = True\n",
    "gl.ylabels_right = False\n",
    "gl.xformatter = LONGITUDE_FORMATTER\n",
    "gl.yformatter = LATITUDE_FORMATTER\n",
    "gl.xlabel_style = {'size': 12, 'color': 'black'}\n",
    "gl.ylabel_style = {'size': 12, 'color': 'black'}\n",
    "\n",
    "plt.text(-68.85, 35.85, 'Fall', dict(size=30))\n",
    "# cmap=plt.cm.get_cmap('Blues', 150)\n",
    "# cf = plt.contourf(xi,yi,d, np.arange(0, 1.02,0.01), cmap = cmap)\n",
    "cf = plt.contourf(xi,yi,e, np.arange(-0.41, 0.41,0.01), cmap = 'seismic_r')\n",
    "ax.contour(lonNC, latNC, depthNC, [-300,-200,-100], linewidths=1,colors='black', alpha = 1,zorder=5) #alpha = 0.7\n",
    "ax.contour(lonNC, latNC, depthNC, [-75,-50,-25], linewidths=0.5,colors='black',zorder=5)\n",
    "\n",
    "feature = cfeature.NaturalEarthFeature(name='coastline', category='physical',scale='50m',edgecolor='black', facecolor='dimgray')\n",
    "ax.add_feature(feature,zorder=10)\n",
    "cbar = plt.colorbar(cf, ticks=[0,0.1,0.2,0.3,0.4,0.5,0.6,0.7,0.8,0.9,1.0], orientation='horizontal')\n",
    "cbar.ax.set_xticklabels([0,0.1,0.2,0.3,0.4,0.5,0.6,0.7,0.8,0.9,1.0])\n",
    "\n",
    "\n",
    "\n",
    "# cbar = plt.colorbar(cf, ticks=[-80,-60,-40,-20,0,20,40,60,80], orientation='vertical')\n",
    "# cbar.ax.set_xticklabels([-80,-60,-40,-20,0,20,40,60,80])\n",
    "# # # # cbar = plt.colorbar(cf, ax=ax)\n",
    "# # cbar.ax.get_yaxis().labelpad = 20\n",
    "# cbar.ax.set_ylabel('MLD (m)', rotation=270, fontsize = 15)\n",
    "# # # # # cbar.set_ticks([0,10,20,30,40,50,60,70,80,90,100,110,120,130,140])\n",
    "cbar.ax.tick_params(labelsize=12)\n",
    "\n",
    "# plt.savefig('Fall_temp-dens')\n",
    "\n",
    "plt.show()"
   ]
  },
  {
   "cell_type": "code",
   "execution_count": null,
   "metadata": {},
   "outputs": [],
   "source": []
  },
  {
   "cell_type": "code",
   "execution_count": 15,
   "metadata": {},
   "outputs": [
    {
     "data": {
      "image/png": "[encoded data removed]",
      "text/plain": [
       "<Figure size 432x288 with 1 Axes>"
      ]
     },
     "metadata": {
      "needs_background": "light"
     },
     "output_type": "display_data"
    }
   ],
   "source": [
    "plt.hist(temp_slope,[-0.75,-0.50,-0.25,0,0.25,0.5,0.75])\n",
    "plt.show()\n",
    "# plt.hist(density_slope,[-0.75,-0.50,-0.25,0,0.25,0.5,0.75])"
   ]
  },
  {
   "cell_type": "code",
   "execution_count": 16,
   "metadata": {},
   "outputs": [],
   "source": [
    "# plt.hist(density_slope,[-0.75,-0.50,-0.25,0,0.25,0.5,0.75])\n",
    "# plt.show()"
   ]
  },
  {
   "cell_type": "code",
   "execution_count": 30,
   "metadata": {},
   "outputs": [],
   "source": [
    "slope_compare = pd.DataFrame({'densityslope':density_slope,'tempslope': temp_slope, 'diff_compare': diff_add})\n",
    "\n"
   ]
  },
  {
   "cell_type": "code",
   "execution_count": null,
   "metadata": {},
   "outputs": [],
   "source": [
    "same = []\n",
    "zero = []\n",
    "opposite = []\n",
    "for i in range(len(slope_compare)):\n",
    "    if slope_compare['densityslope'][i] > 1 and slope_compare['tempslope'][i] > 1:\n",
    "        same.append(1)\n",
    "    elif slope_compare['densityslope'][i] < 1 and slope_compare['tempslope'][i] > 1:\n",
    "        opposite.append(1)\n",
    "    elif slope_compare['densityslope'][i] > 1 and slope_compare['tempslope'][i] < 1:\n",
    "        opposite.append(1)\n",
    "    elif slope_compare['densityslope'][i] == 0 and slope_compare['tempslope'][i] == 0:\n",
    "        zero.append()"
   ]
  },
  {
   "cell_type": "code",
   "execution_count": 31,
   "metadata": {},
   "outputs": [
    {
     "name": "stdout",
     "output_type": "stream",
     "text": [
      "      densityslope  tempslope  diff_compare\n",
      "0         0.009125   0.051588      0.042463\n",
      "1         0.010311  -0.000368     -0.009943\n",
      "2        -0.000123   0.001294      0.001171\n",
      "3         0.008987  -0.024088      0.015101\n",
      "4         0.002816  -0.011809      0.008993\n",
      "...            ...        ...           ...\n",
      "5700      0.002573  -0.017254      0.014681\n",
      "5701      0.057553  -0.156392      0.098839\n",
      "5702      0.051295  -0.144935      0.093640\n",
      "5703      0.028770  -0.145796      0.117026\n",
      "5704      0.031026  -0.146688      0.115662\n",
      "\n",
      "[5705 rows x 3 columns]\n"
     ]
    }
   ],
   "source": [
    "print(slope_compare)"
   ]
  },
  {
   "cell_type": "code",
   "execution_count": 21,
   "metadata": {},
   "outputs": [
    {
     "name": "stdout",
     "output_type": "stream",
     "text": [
      "-0.0217782713856438\n"
     ]
    }
   ],
   "source": [
    "print(np.nanmin(density_slope))"
   ]
  },
  {
   "cell_type": "code",
   "execution_count": 32,
   "metadata": {},
   "outputs": [
    {
     "data": {
      "image/png": "[encoded data removed]",
      "text/plain": [
       "<Figure size 432x288 with 1 Axes>"
      ]
     },
     "metadata": {
      "needs_background": "light"
     },
     "output_type": "display_data"
    }
   ],
   "source": [
    "plt.hist(diff_add)\n",
    "plt.show()"
   ]
  },
  {
   "cell_type": "code",
   "execution_count": 33,
   "metadata": {},
   "outputs": [
    {
     "name": "stdout",
     "output_type": "stream",
     "text": [
      "5705\n"
     ]
    },
    {
     "data": {
      "image/png": "[encoded data removed]",
      "text/plain": [
       "<Figure size 432x288 with 1 Axes>"
      ]
     },
     "metadata": {
      "needs_background": "light"
     },
     "output_type": "display_data"
    }
   ],
   "source": [
    "print(len(density_slope))\n",
    "plt.hist(density_slope,[0.00,0.05,0.10,0.15,0.20,0.25,0.30])\n",
    "plt.show()"
   ]
  },
  {
   "cell_type": "code",
   "execution_count": null,
   "metadata": {},
   "outputs": [],
   "source": []
  }
 ],
 "metadata": {
  "kernelspec": {
   "display_name": "Python 3",
   "language": "python",
   "name": "python3"
  },
  "language_info": {
   "codemirror_mode": {
    "name": "ipython",
    "version": 3
   },
   "file_extension": ".py",
   "mimetype": "text/x-python",
   "name": "python",
   "nbconvert_exporter": "python",
   "pygments_lexer": "ipython3",
   "version": "3.7.1"
  }
 },
 "nbformat": 4,
 "nbformat_minor": 2
}
