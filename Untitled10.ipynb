{
 "cells": [
  {
   "cell_type": "code",
   "execution_count": 1,
   "metadata": {},
   "outputs": [],
   "source": [
    "import matplotlib.pyplot as plt; import numpy as np; import netCDF4; from netCDF4 import Dataset\n",
    "import pandas as pd; import numpy.ma as ma; import time as timeit; import os; import math; import re\n",
    "import itertools; import scipy.io; import mat73; import collections\n",
    "import cartopy; import cartopy.crs as ccrs\n",
    "from cartopy.mpl.gridliner import LONGITUDE_FORMATTER, LATITUDE_FORMATTER\n",
    "from matplotlib.ticker import FuncFormatter\n",
    "from matplotlib.ticker import AutoMinorLocator; from matplotlib.ticker import FixedLocator\n",
    "from shapely.geometry import Point; from shapely.geometry.polygon import Polygon\n",
    "%matplotlib inline\n",
    "import statistics; import xarray as xr; from scipy.interpolate import griddata\n",
    "from matplotlib.path import Path; from numpy import nan; import gsw"
   ]
  },
  {
   "cell_type": "code",
   "execution_count": 2,
   "metadata": {},
   "outputs": [],
   "source": [
    "import matplotlib as mpl\n",
    "import pandas as pd"
   ]
  },
  {
   "cell_type": "code",
   "execution_count": 3,
   "metadata": {},
   "outputs": [],
   "source": [
    "neww = [['', '', '40.00', '', '', '69.50'], ['', '', '40.30', '', '', '68.00'], ['', '', '40.40', '', '', '67.50'], ['', '', '40.60', '', '', '67.00'], ['', '', '40.80', '', '', '66.50'], ['', '', '41.45', '', '', '66.00'], ['', '', '41.80', '', '', '65.70'], ['', '', '42.10', '', '', '66.00'], ['', '', '42.10', '', '', '67.00'], ['', '', '42.10', '', '', '67.50'], ['', '', '41.80', '', '', '68.00'], ['', '', '41.10', '', '', '69.00'], ['', '', '41.00', '', '', '69.50'], ['', '', '40.00', '', '', '69.50']]\n",
    "lon_w = []; lat_w = []\n",
    "for i in range(14): \n",
    "    w1 = neww[i][2]\n",
    "    lat_w.append(w1)\n",
    "    w3 = neww[i][5]\n",
    "    lon_w.append(w3)\n",
    "lonlist_w = [float(i) for i in lon_w]; latlist_w = [float(i) for i in lat_w]\n",
    "lonlist_wneg = [float(i)*-1 for i in lon_w]\n",
    "df_w = pd.DataFrame({'lon': lonlist_w, 'lat': latlist_w,})\n",
    "df_w_plottable = pd.DataFrame({'lon': lonlist_wneg, 'lat': latlist_w,})\n",
    "\n",
    "lonlist_w_plot = [float(i)*-1 for i in lon_w]; latlist_w = [float(i) for i in lat_w]\n",
    "df_w_plot = pd.DataFrame({'lon': lonlist_w_plot, 'lat': latlist_w,})\n",
    "x_w = df_w_plot['lon']; y_w = df_w_plot['lat']\n",
    "polygon_w = Polygon(df_w.values)"
   ]
  },
  {
   "cell_type": "code",
   "execution_count": 4,
   "metadata": {},
   "outputs": [],
   "source": [
    "newv = [['', '', '37.00', '', '', '76.00'], ['', '', '36.00', '', '', '75.50'], ['', '', '35.50', '', '', '75.00'], ['', '', '36.00', '', '', '74.75'], ['', '', '37.40', '', '', '74.50'], ['', '', '39.50', '', '', '72.00'], ['', '', '40.50', '', '', '74.00'], ['', '', '39.40', '', '', '74.25'], ['', '', '37.00', '', '', '76.00']]\n",
    "lon_v = []; lat_v = []\n",
    "for i in range(9): \n",
    "    v1 = newv[i][2]\n",
    "    lat_v.append(v1)\n",
    "    v3 = newv[i][5]\n",
    "    lon_v.append(v3)\n",
    "lonlist_v = [float(i) for i in lon_v]; latlist_v = [float(i) for i in lat_v]\n",
    "df_v = pd.DataFrame({'lon': lonlist_v, 'lat': latlist_v,})\n",
    "lonlist_v_plot = [float(i)*-1 for i in lon_v]; latlist_v = [float(i) for i in lat_v]\n",
    "df_v_plot = pd.DataFrame({'lon': lonlist_v_plot, 'lat': latlist_v,})\n",
    "x_v = df_v_plot['lon']; y_v = df_v_plot['lat']\n",
    "\n",
    "lonlist_vneg = [float(i)*-1 for i in lon_v]\n",
    "df_v_plottable = pd.DataFrame({'lon': lonlist_vneg, 'lat': latlist_v,})\n",
    "polygon_v = Polygon(df_v.values.tolist())"
   ]
  },
  {
   "cell_type": "code",
   "execution_count": 5,
   "metadata": {},
   "outputs": [],
   "source": [
    "newx = [['', '', '40.50', '', '', '74.00'], ['', '', '39.50', '', '', '72.00'], ['', '', '40.00', '', '', '71.40'], ['', '', '40.00', '', '', '69.50'], ['', '', '41.00', '', '', '69.50'], ['', '', '41.10', '', '', '70.00'], ['', '', '41.00', '', '', '72.00'], ['', '', '40.50', '', '', '74.00']]\n",
    "lon_x = []; lat_x = []\n",
    "for i in range(8): \n",
    "    x1 = newx[i][2]\n",
    "    lat_x.append(x1)\n",
    "    x3 = newx[i][5]\n",
    "    lon_x.append(x3)\n",
    "lonlist_x = [float(i) for i in lon_x]; latlist_x = [float(i) for i in lat_x]\n",
    "df_x = pd.DataFrame({'lon': lonlist_x, 'lat': latlist_x,})\n",
    "lonlist_x_plot = [float(i)*-1 for i in lon_x]; latlist_x = [float(i) for i in lat_x]\n",
    "df_x_plot = pd.DataFrame({'lon': lonlist_x_plot, 'lat': latlist_x,})\n",
    "x_x = df_x_plot['lon']; y_x = df_x_plot['lat']\n",
    "\n",
    "lonlist_xneg = [float(i)*-1 for i in lon_x]\n",
    "df_x_plottable = pd.DataFrame({'lon': lonlist_xneg, 'lat': latlist_x,})\n",
    "polygon_x = Polygon(df_x.values.tolist())"
   ]
  },
  {
   "cell_type": "code",
   "execution_count": 6,
   "metadata": {},
   "outputs": [],
   "source": [
    "newy = [['', '', '41.80', '', '', '68.00'], ['', '', '42.10', '', '', '67.50'], ['', '', '42.10', '', '', '67.00'], ['', '', '42.10', '', '', '66.00'], ['', '', '43.00', '', '', '66.00'], ['', '', '44.20', '', '', '66.50'], ['', '', '44.20', '', '', '67.00'], ['', '', '44.20', '', '', '68.00'], ['', '', '41.80', '', '', '68.00']]\n",
    "lon_y = []; lat_y = []\n",
    "for i in range(9): \n",
    "    y1 = newy[i][2]\n",
    "    lat_y.append(y1)\n",
    "    y3 = newy[i][5]\n",
    "    lon_y.append(y3)\n",
    "lonlist_y = [float(i) for i in lon_y]; latlist_y = [float(i) for i in lat_y]\n",
    "df_y = pd.DataFrame({'lon': lonlist_y, 'lat': latlist_y,})\n",
    "lonlist_y_plot = [float(i)*-1 for i in lon_y]; latlist_y = [float(i) for i in lat_y]\n",
    "df_y_plot = pd.DataFrame({'lon': lonlist_y_plot, 'lat': latlist_y,})\n",
    "x_y = df_y_plot['lon']; y_y = df_y_plot['lat']\n",
    "\n",
    "lonlist_yneg = [float(i)*-1 for i in lon_y]\n",
    "df_y_plottable = pd.DataFrame({'lon': lonlist_yneg, 'lat': latlist_y,})\n",
    "polygon_y = Polygon(df_y.values)"
   ]
  },
  {
   "cell_type": "code",
   "execution_count": 7,
   "metadata": {},
   "outputs": [],
   "source": [
    "newt = [['', '', '42.20', '', '', '70.50'], ['', '', '42.00', '', '', '70.00'], ['', '', '41.10', '', '', '69.00'], ['', '', '41.80', '', '', '68.00'], ['', '', '44.20', '', '', '68.00'], ['', '', '43.90', '', '', '69.00'], ['', '', '43.70', '', '', '70.00'], ['', '', '43.00', '', '', '70.50'], ['', '', '42.20', '', '', '70.50']]\n",
    "lon_t = []; lat_t = []\n",
    "for i in range(9): \n",
    "    t1 = newt[i][2]\n",
    "    lat_t.append(t1)\n",
    "    t3 = newt[i][5]\n",
    "    lon_t.append(t3)\n",
    "lonlist_t = [float(i) for i in lon_t]; latlist_t = [float(i) for i in lat_t]\n",
    "df_t = pd.DataFrame({'lon': lonlist_t, 'lat': latlist_t,})\n",
    "lonlist_t_plot = [float(i)*-1 for i in lon_t]; latlist_t = [float(i) for i in lat_t]\n",
    "df_t_plot = pd.DataFrame({'lon': lonlist_t_plot, 'lat': latlist_t,})\n",
    "x_t = df_t_plot['lon']; y_t = df_t_plot['lat']\n",
    "\n",
    "lonlist_tneg = [float(i)*-1 for i in lon_t]\n",
    "df_t_plottable = pd.DataFrame({'lon': lonlist_tneg, 'lat': latlist_t,})\n",
    "polygon_t = Polygon(df_t.values)"
   ]
  },
  {
   "cell_type": "code",
   "execution_count": 611,
   "metadata": {},
   "outputs": [
    {
     "name": "stdout",
     "output_type": "stream",
     "text": [
      "1993\n",
      "1994\n",
      "1995\n",
      "1996\n",
      "1997\n",
      "1998\n",
      "1999\n",
      "2000\n",
      "2001\n",
      "2002\n",
      "2003\n",
      "2004\n",
      "2005\n",
      "2006\n",
      "2007\n",
      "2008\n",
      "2009\n",
      "2010\n",
      "2011\n",
      "2012\n",
      "2013\n",
      "2014\n",
      "2015\n",
      "2016\n",
      "2017\n",
      "2018\n"
     ]
    }
   ],
   "source": [
    "data = []; data_sal = []; data_temp = []; data_dens = []\n",
    "years = [];correctedwospatdiffstd = []; ratio_of_water_column_std_corrected = []\n",
    "seasonyeardepth = []; countwithinpolygon = []; correctedwospatdiffmean = [] ; latlat = []; ydyd = []\n",
    "ratio_of_water_column = []; now = []; later = []; ratio_of_water_column_corrected = [] ; lonlon = []\n",
    "for year in range(1993,2019):\n",
    "    filename = 'casts_{}.mat'.format(year)\n",
    "    file = scipy.io.loadmat(filename,squeeze_me=True)\n",
    "    npfile = file['casts_{}'.format(year)]\n",
    "    \n",
    "    lat_intermediate = []; lon_intermediate = []; yd_intermediate = []\n",
    "    p_intermediate = []; t_intermediate = []; sal_intermediate = []\n",
    "    floor_intermediate = []; surfaceval_list = []\n",
    "    seasonyeardepth2 = []; ratio_of_water_column2 = []\n",
    "    \n",
    "    for i in range(len(npfile)):\n",
    "        yd = npfile[i]['yd']\n",
    "        p = npfile[i]['p']\n",
    "        s = npfile[i]['s']\n",
    "        t = npfile[i]['t']\n",
    "        gear = npfile[i]['gear']\n",
    "        floordepth = npfile[i]['depth']\n",
    "#         if (yd > 334 and yd <= 365 and floordepth <= 200) or (yd >= 0 and yd <= 59 and floordepth <= 200) :\n",
    "        if (yd > 334 and yd <= 365) or (yd >= 0 and yd <= 59) :\n",
    "#         if yd >= 59 and yd <= 151:\n",
    "#         if yd >= 0 and yd <= 365:\n",
    "#         if yd >= 0 and yd <= 365 and floordepth <= 200:\n",
    "            lat_intermediate.append(npfile[i]['lat'])\n",
    "            lon_intermediate.append(npfile[i]['lon'])\n",
    "            p_intermediate.append(npfile[i]['p'])\n",
    "            t_intermediate.append(npfile[i]['t'])\n",
    "            yd_intermediate.append(npfile[i]['yd'])\n",
    "            sal_intermediate.append(npfile[i]['s'])\n",
    "            floor_intermediate.append(npfile[i]['depth'])\n",
    "    month_df = pd.DataFrame({'day': yd_intermediate,'lon': lon_intermediate,'lat': lat_intermediate, 'p': p_intermediate, 't': t_intermediate,'depth': floor_intermediate, 's': sal_intermediate})\n",
    "    newdf = pd.DataFrame({'lon': lon_intermediate,'lat': lat_intermediate,'date': yd_intermediate})\n",
    "    for ii in range(len(month_df)):\n",
    "        new = newdf.iloc[ii].values\n",
    "        point = Point(new)\n",
    "        if isinstance(month_df['p'].iloc[ii], int) or isinstance(month_df['p'].iloc[ii], float) or isinstance(month_df['t'].iloc[ii], int) or isinstance(month_df['t'].iloc[ii], float):\n",
    "            pass\n",
    "        elif polygon_w.contains(point) == True:\n",
    "            CT = gsw.CT_from_pt(month_df['s'].iloc[ii],month_df['t'].iloc[ii])\n",
    "            DENS = gsw.sigma0(month_df['s'].iloc[ii],CT)\n",
    "            pt_df = pd.DataFrame({'p': month_df['p'].iloc[ii],'t': month_df['t'].iloc[ii], 's': month_df['s'].iloc[ii], 'CT': CT, 'DENSMLD': DENS}) \n",
    "            df_ptsnew = pt_df.dropna()\n",
    "            df_final = pd.DataFrame(df_ptsnew.values)\n",
    "            countwithinpolygon.append(1)\n",
    "            l=[i for i in df_final[0] if i<=4] \n",
    "            if len(l) > 0:\n",
    "                surfaceval = []\n",
    "                numrange = []\n",
    "                for iii in range(len(l)):\n",
    "                    val = df_final[1][iii]\n",
    "                    numrange.append(iii)\n",
    "                    surfaceval.append(val)            \n",
    "            surfacevalmean = statistics.mean(surfaceval)\n",
    "            densfin = []; tempfin = []; pressurefin = []; salfin = []\n",
    "            for iii in range(numrange[-1],len(df_final)):\n",
    "                tempfin.append(df_final[1][iii])\n",
    "                pressurefin.append(df_final[0][iii])\n",
    "                salfin.append(df_final[2][iii])\n",
    "                densfin.append(df_final[4][iii])\n",
    "            dunreversed_temp = {'pressure': list(pressurefin),'temp': list(tempfin)}\n",
    "            dffinunreversed_temp = pd.DataFrame(dunreversed_temp)\n",
    "            dunreversed_dens = {'pressure': list(pressurefin), 'density': list(densfin)}\n",
    "            dffinunreversed_dens = pd.DataFrame(dunreversed_dens)\n",
    "            dunreversed_sal = {'pressure': list(pressurefin), 'sal': list(salfin)}\n",
    "            dffinunreversed_sal = pd.DataFrame(dunreversed_sal)\n",
    "            dunreversed = {'temp': list(tempfin), 'sal': list(salfin), 'pressure': list(pressurefin), 'density': list(densfin)}\n",
    "            dffinunreversed = pd.DataFrame(dunreversed)\n",
    "            data.append(dffinunreversed)\n",
    "            data_temp.append(dffinunreversed_temp)\n",
    "            data_dens.append(dffinunreversed_dens)\n",
    "            data_sal.append(dffinunreversed_sal)\n",
    "    print(year)"
   ]
  },
  {
   "cell_type": "code",
   "execution_count": 705,
   "metadata": {},
   "outputs": [
    {
     "name": "stdout",
     "output_type": "stream",
     "text": [
      "1561\n"
     ]
    }
   ],
   "source": [
    "print(len(countwithinpolygon))"
   ]
  },
  {
   "cell_type": "code",
   "execution_count": 567,
   "metadata": {},
   "outputs": [],
   "source": [
    "# hellodens = [data[0][['pressure','density']],data[1][['pressure','density']],data[2][['pressure','density']],data[3][['pressure','density']],data[4][['pressure','density']],data[5][['pressure','density']],data[6][['pressure','density']]]\n"
   ]
  },
  {
   "cell_type": "code",
   "execution_count": 612,
   "metadata": {},
   "outputs": [],
   "source": [
    "hidens = reduce(lambda x, y: pd.merge(x, y, on = 'pressure', how = 'outer'), data_dens)"
   ]
  },
  {
   "cell_type": "code",
   "execution_count": 706,
   "metadata": {},
   "outputs": [
    {
     "name": "stdout",
     "output_type": "stream",
     "text": [
      "      pressure  density_x  density_y  density_x  density_y  density_x  \\\n",
      "0          4.0  25.510070  25.450710  25.422126  25.423198  25.413738   \n",
      "1          5.0  25.509912  25.450710  25.422126  25.423198  25.413140   \n",
      "2          6.0  25.509912  25.451497  25.423315  25.423198  25.413925   \n",
      "3          7.0  25.509912  25.450710  25.422529  25.423198  25.413440   \n",
      "4          8.0  25.508506  25.449136  25.422529  25.423198  25.418147   \n",
      "...        ...        ...        ...        ...        ...        ...   \n",
      "1523     427.0        NaN        NaN        NaN        NaN        NaN   \n",
      "1524     428.0        NaN        NaN        NaN        NaN        NaN   \n",
      "1525     429.0        NaN        NaN        NaN        NaN        NaN   \n",
      "1526     430.0        NaN        NaN        NaN        NaN        NaN   \n",
      "1527     431.0        NaN        NaN        NaN        NaN        NaN   \n",
      "\n",
      "      density_y  density_x  density_y  density_x  ...  density_y  density_x  \\\n",
      "0     25.404850  25.459105  25.370536  25.377790  ...  25.629538  25.629149   \n",
      "1     25.404850  25.459105  25.370536  25.379354  ...  25.629505  25.628519   \n",
      "2     25.405633  25.459105  25.370536  25.380137  ...  25.630095  25.628795   \n",
      "3     25.404850  25.461455  25.369753  25.377790  ...  25.629667  25.629051   \n",
      "4     25.404850  25.462469  25.370536  25.380137  ...  25.629291  25.629219   \n",
      "...         ...        ...        ...        ...  ...        ...        ...   \n",
      "1523        NaN        NaN        NaN        NaN  ...        NaN        NaN   \n",
      "1524        NaN        NaN        NaN        NaN  ...        NaN        NaN   \n",
      "1525        NaN        NaN        NaN        NaN  ...        NaN        NaN   \n",
      "1526        NaN        NaN        NaN        NaN  ...        NaN        NaN   \n",
      "1527        NaN        NaN        NaN        NaN  ...        NaN        NaN   \n",
      "\n",
      "      density_y  density_x  density_y  density_x  density_y  density_x  \\\n",
      "0     25.626859  25.799382  25.707307  25.753147  25.810003  25.830577   \n",
      "1     25.627334  25.803093  25.707240  25.754813  25.809245  25.831554   \n",
      "2     25.626866  25.808899  25.706677  25.753711  25.808775  25.830426   \n",
      "3     25.628130  25.811909  25.707155  25.754142  25.807556  25.830969   \n",
      "4     25.627231  25.812712  25.706923  25.754157  25.804935  25.832678   \n",
      "...         ...        ...        ...        ...        ...        ...   \n",
      "1523        NaN        NaN        NaN        NaN        NaN        NaN   \n",
      "1524        NaN        NaN        NaN        NaN        NaN        NaN   \n",
      "1525        NaN        NaN        NaN        NaN        NaN        NaN   \n",
      "1526        NaN        NaN        NaN        NaN        NaN        NaN   \n",
      "1527        NaN        NaN        NaN        NaN        NaN        NaN   \n",
      "\n",
      "      density_y    density  \n",
      "0     25.946324  25.947562  \n",
      "1     25.946611  25.948562  \n",
      "2     25.946405  25.948274  \n",
      "3     25.945829  25.947896  \n",
      "4     25.945554  25.946971  \n",
      "...         ...        ...  \n",
      "1523        NaN        NaN  \n",
      "1524        NaN        NaN  \n",
      "1525        NaN        NaN  \n",
      "1526        NaN        NaN  \n",
      "1527        NaN        NaN  \n",
      "\n",
      "[1528 rows x 1562 columns]\n"
     ]
    }
   ],
   "source": [
    "print(hidens)"
   ]
  },
  {
   "cell_type": "code",
   "execution_count": null,
   "metadata": {},
   "outputs": [],
   "source": [
    "hitemp = reduce(lambda x, y: pd.merge(x, y, on = 'pressure', how = 'outer'), data_temp)"
   ]
  },
  {
   "cell_type": "code",
   "execution_count": null,
   "metadata": {},
   "outputs": [],
   "source": [
    "hisal = reduce(lambda x, y: pd.merge(x, y, on = 'pressure', how = 'outer'), data_sal)"
   ]
  },
  {
   "cell_type": "code",
   "execution_count": 568,
   "metadata": {},
   "outputs": [],
   "source": [
    "# hellotemp = [data[0][['pressure','temp']],data[1][['pressure','temp']],data[2][['pressure','temp']],data[3][['pressure','temp']],data[4][['pressure','temp']],data[5][['pressure','temp']],data[6][['pressure','temp']]]\n"
   ]
  },
  {
   "cell_type": "code",
   "execution_count": 569,
   "metadata": {},
   "outputs": [],
   "source": [
    "# hellosal = [data[0][['pressure','sal']],data[1][['pressure','sal']],data[2][['pressure','sal']],data[3][['pressure','sal']],data[4][['pressure','sal']],data[5][['pressure','sal']],data[6][['pressure','sal']]]\n",
    "\n"
   ]
  },
  {
   "cell_type": "code",
   "execution_count": 570,
   "metadata": {},
   "outputs": [],
   "source": [
    "hellohellotemp = reduce(lambda x, y: pd.merge(x, y, on = 'pressure', how = 'outer'), hellotemp)"
   ]
  },
  {
   "cell_type": "code",
   "execution_count": 571,
   "metadata": {},
   "outputs": [],
   "source": [
    "hellohello = reduce(lambda x, y: pd.merge(x, y, on = 'pressure', how = 'outer'), hellodens)"
   ]
  },
  {
   "cell_type": "code",
   "execution_count": 572,
   "metadata": {},
   "outputs": [],
   "source": [
    "hellohellosal = reduce(lambda x, y: pd.merge(x, y, on = 'pressure', how = 'outer'), hellosal)"
   ]
  },
  {
   "cell_type": "code",
   "execution_count": 573,
   "metadata": {},
   "outputs": [
    {
     "name": "stdout",
     "output_type": "stream",
     "text": [
      "     pressure   sal_x   sal_y   sal_x   sal_y   sal_x   sal_y     sal\n",
      "0         4.0  32.842  32.424  32.425  32.474  32.524  32.623  32.670\n",
      "1         5.0  32.840  32.424  32.425  32.474  32.520  32.623  32.670\n",
      "2         6.0  32.840  32.425  32.425  32.474  32.521  32.624  32.670\n",
      "3         7.0  32.840  32.424  32.424  32.474  32.522  32.623  32.673\n",
      "4         8.0  32.840  32.422  32.424  32.474  32.528  32.623  32.676\n",
      "..        ...     ...     ...     ...     ...     ...     ...     ...\n",
      "116     120.0     NaN     NaN     NaN     NaN     NaN     NaN  34.768\n",
      "117     121.0     NaN     NaN     NaN     NaN     NaN     NaN  34.767\n",
      "118     122.0     NaN     NaN     NaN     NaN     NaN     NaN  34.769\n",
      "119     123.0     NaN     NaN     NaN     NaN     NaN     NaN  34.775\n",
      "120     124.0     NaN     NaN     NaN     NaN     NaN     NaN  34.776\n",
      "\n",
      "[121 rows x 8 columns]\n"
     ]
    }
   ],
   "source": [
    "print(hellohellosal)"
   ]
  },
  {
   "cell_type": "code",
   "execution_count": 574,
   "metadata": {},
   "outputs": [],
   "source": [
    "df5 = hellohello.sort_values(['pressure'])"
   ]
  },
  {
   "cell_type": "code",
   "execution_count": 712,
   "metadata": {},
   "outputs": [],
   "source": [
    "df5_hidens = hidens.sort_values(['pressure'])"
   ]
  },
  {
   "cell_type": "code",
   "execution_count": 575,
   "metadata": {},
   "outputs": [],
   "source": [
    "df5temp = hellohellotemp.sort_values(['pressure'])"
   ]
  },
  {
   "cell_type": "code",
   "execution_count": 576,
   "metadata": {},
   "outputs": [],
   "source": [
    "df5sal = hellohellosal.sort_values(['pressure'])"
   ]
  },
  {
   "cell_type": "code",
   "execution_count": 713,
   "metadata": {},
   "outputs": [
    {
     "name": "stdout",
     "output_type": "stream",
     "text": [
      "      pressure  density_x  density_y  density_x  density_y  density_x  \\\n",
      "935        2.0        NaN        NaN        NaN        NaN        NaN   \n",
      "1068       2.7        NaN        NaN        NaN        NaN        NaN   \n",
      "996        2.8        NaN        NaN        NaN        NaN        NaN   \n",
      "125        3.0        NaN        NaN        NaN        NaN        NaN   \n",
      "500        3.1        NaN        NaN        NaN        NaN        NaN   \n",
      "...        ...        ...        ...        ...        ...        ...   \n",
      "1523     427.0        NaN        NaN        NaN        NaN        NaN   \n",
      "1524     428.0        NaN        NaN        NaN        NaN        NaN   \n",
      "1525     429.0        NaN        NaN        NaN        NaN        NaN   \n",
      "1526     430.0        NaN        NaN        NaN        NaN        NaN   \n",
      "1527     431.0        NaN        NaN        NaN        NaN        NaN   \n",
      "\n",
      "      density_y  density_x  density_y  density_x  ...  density_y  density_x  \\\n",
      "935         NaN        NaN        NaN        NaN  ...        NaN        NaN   \n",
      "1068        NaN        NaN        NaN        NaN  ...        NaN        NaN   \n",
      "996         NaN        NaN        NaN        NaN  ...        NaN        NaN   \n",
      "125         NaN        NaN        NaN        NaN  ...        NaN        NaN   \n",
      "500         NaN        NaN        NaN        NaN  ...        NaN        NaN   \n",
      "...         ...        ...        ...        ...  ...        ...        ...   \n",
      "1523        NaN        NaN        NaN        NaN  ...        NaN        NaN   \n",
      "1524        NaN        NaN        NaN        NaN  ...        NaN        NaN   \n",
      "1525        NaN        NaN        NaN        NaN  ...        NaN        NaN   \n",
      "1526        NaN        NaN        NaN        NaN  ...        NaN        NaN   \n",
      "1527        NaN        NaN        NaN        NaN  ...        NaN        NaN   \n",
      "\n",
      "      density_y  density_x  density_y  density_x  density_y  density_x  \\\n",
      "935         NaN        NaN        NaN        NaN        NaN        NaN   \n",
      "1068        NaN        NaN        NaN        NaN        NaN        NaN   \n",
      "996         NaN        NaN        NaN        NaN        NaN        NaN   \n",
      "125         NaN        NaN        NaN        NaN        NaN        NaN   \n",
      "500         NaN        NaN        NaN        NaN        NaN        NaN   \n",
      "...         ...        ...        ...        ...        ...        ...   \n",
      "1523        NaN        NaN        NaN        NaN        NaN        NaN   \n",
      "1524        NaN        NaN        NaN        NaN        NaN        NaN   \n",
      "1525        NaN        NaN        NaN        NaN        NaN        NaN   \n",
      "1526        NaN        NaN        NaN        NaN        NaN        NaN   \n",
      "1527        NaN        NaN        NaN        NaN        NaN        NaN   \n",
      "\n",
      "      density_y  density  \n",
      "935         NaN      NaN  \n",
      "1068        NaN      NaN  \n",
      "996         NaN      NaN  \n",
      "125         NaN      NaN  \n",
      "500         NaN      NaN  \n",
      "...         ...      ...  \n",
      "1523        NaN      NaN  \n",
      "1524        NaN      NaN  \n",
      "1525        NaN      NaN  \n",
      "1526        NaN      NaN  \n",
      "1527        NaN      NaN  \n",
      "\n",
      "[1528 rows x 1562 columns]\n"
     ]
    }
   ],
   "source": [
    "print(df5_hidens)"
   ]
  },
  {
   "cell_type": "code",
   "execution_count": 709,
   "metadata": {},
   "outputs": [
    {
     "name": "stdout",
     "output_type": "stream",
     "text": [
      "1528\n"
     ]
    }
   ],
   "source": [
    "print(len(df5_hidens))"
   ]
  },
  {
   "cell_type": "code",
   "execution_count": 716,
   "metadata": {},
   "outputs": [
    {
     "name": "stdout",
     "output_type": "stream",
     "text": [
      "1528\n"
     ]
    }
   ],
   "source": [
    "val_nan_hidens = df5_hidens.isnull().sum(axis=1)\n",
    "print(len(val_nan_hidens))"
   ]
  },
  {
   "cell_type": "code",
   "execution_count": 695,
   "metadata": {},
   "outputs": [],
   "source": [
    "df5_hidens.insert(2, \"None\", val_nan_hidens, True)"
   ]
  },
  {
   "cell_type": "code",
   "execution_count": 718,
   "metadata": {},
   "outputs": [
    {
     "name": "stdout",
     "output_type": "stream",
     "text": [
      "415     1558\n",
      "1234    1556\n",
      "923     1553\n",
      "1        123\n",
      "881     1546\n",
      "1221    1558\n",
      "1369    1560\n",
      "416     1552\n",
      "857     1546\n",
      "1050    1558\n",
      "808     1557\n",
      "369     1549\n",
      "2        122\n",
      "882     1549\n",
      "1051    1560\n",
      "529     1558\n",
      "502     1547\n",
      "417     1551\n",
      "1372    1560\n",
      "924     1560\n",
      "dtype: int64\n"
     ]
    }
   ],
   "source": [
    "print(val_nan_hidens[20:40])"
   ]
  },
  {
   "cell_type": "code",
   "execution_count": 697,
   "metadata": {},
   "outputs": [
    {
     "name": "stdout",
     "output_type": "stream",
     "text": [
      "(1528, 1564)\n"
     ]
    }
   ],
   "source": [
    "print(df5_hidens.shape)"
   ]
  },
  {
   "cell_type": "code",
   "execution_count": 700,
   "metadata": {},
   "outputs": [
    {
     "name": "stdout",
     "output_type": "stream",
     "text": [
      "935     1560\n",
      "1068    1560\n",
      "996     1560\n",
      "125     1558\n",
      "500     1559\n",
      "        ... \n",
      "1523    1560\n",
      "1524    1560\n",
      "1525    1560\n",
      "1526    1560\n",
      "1527    1560\n",
      "Name: None, Length: 1528, dtype: int64\n"
     ]
    }
   ],
   "source": [
    "print(df5_hidens['None'])"
   ]
  },
  {
   "cell_type": "code",
   "execution_count": 578,
   "metadata": {},
   "outputs": [],
   "source": [
    "val_nan = df5.isnull().sum(axis=1)"
   ]
  },
  {
   "cell_type": "code",
   "execution_count": 615,
   "metadata": {},
   "outputs": [],
   "source": [
    "val_nan_hidens = df5_hidens.isnull().sum(axis=1)"
   ]
  },
  {
   "cell_type": "code",
   "execution_count": 579,
   "metadata": {},
   "outputs": [],
   "source": [
    "val_nantemp = df5temp.isnull().sum(axis=1)"
   ]
  },
  {
   "cell_type": "code",
   "execution_count": 691,
   "metadata": {},
   "outputs": [],
   "source": [
    "val_nansal = df5sal.isnull().sum(axis=1)"
   ]
  },
  {
   "cell_type": "code",
   "execution_count": 616,
   "metadata": {},
   "outputs": [
    {
     "name": "stdout",
     "output_type": "stream",
     "text": [
      "935     1560\n",
      "1068    1560\n",
      "996     1560\n",
      "125     1558\n",
      "500     1559\n",
      "        ... \n",
      "1523    1560\n",
      "1524    1560\n",
      "1525    1560\n",
      "1526    1560\n",
      "1527    1560\n",
      "Length: 1528, dtype: int64\n"
     ]
    }
   ],
   "source": [
    "print(val_nan_hidens)"
   ]
  },
  {
   "cell_type": "code",
   "execution_count": 582,
   "metadata": {},
   "outputs": [],
   "source": [
    "df5['sum'] = df5.iloc[:, 1:].sum(axis=1)/5"
   ]
  },
  {
   "cell_type": "code",
   "execution_count": 720,
   "metadata": {},
   "outputs": [],
   "source": [
    "df5_hidens_sum = df5_hidens.iloc[:, 1:].mean(axis=1)"
   ]
  },
  {
   "cell_type": "code",
   "execution_count": 721,
   "metadata": {},
   "outputs": [
    {
     "name": "stdout",
     "output_type": "stream",
     "text": [
      "935     25.201733\n",
      "1068    25.268600\n",
      "996     25.256187\n",
      "125     25.491439\n",
      "500     25.321415\n",
      "          ...    \n",
      "1523    27.298679\n",
      "1524    27.289402\n",
      "1525    27.287921\n",
      "1526    27.291410\n",
      "1527    27.316524\n",
      "Length: 1528, dtype: float64\n"
     ]
    }
   ],
   "source": [
    "print(df5_hidens_sum)"
   ]
  },
  {
   "cell_type": "code",
   "execution_count": 714,
   "metadata": {},
   "outputs": [],
   "source": [
    "df5_hidens_round = df5_hidens.pressure.round()"
   ]
  },
  {
   "cell_type": "code",
   "execution_count": 722,
   "metadata": {},
   "outputs": [],
   "source": [
    "pt_df = pd.DataFrame({'nan': val_nan_hidens, 'mean': df5_hidens_sum, 'pressure': df5_hidens_round})\n"
   ]
  },
  {
   "cell_type": "code",
   "execution_count": 724,
   "metadata": {},
   "outputs": [
    {
     "name": "stdout",
     "output_type": "stream",
     "text": [
      "       nan       mean  pressure\n",
      "935   1560  25.201733       2.0\n",
      "1068  1560  25.268600       3.0\n",
      "996   1560  25.256187       3.0\n",
      "125   1558  25.491439       3.0\n",
      "500   1559  25.321415       3.0\n",
      "...    ...        ...       ...\n",
      "1523  1560  27.298679     427.0\n",
      "1524  1560  27.289402     428.0\n",
      "1525  1560  27.287921     429.0\n",
      "1526  1560  27.291410     430.0\n",
      "1527  1560  27.316524     431.0\n",
      "\n",
      "[1528 rows x 3 columns]\n"
     ]
    }
   ],
   "source": [
    "print(pt_df)"
   ]
  },
  {
   "cell_type": "code",
   "execution_count": 723,
   "metadata": {},
   "outputs": [
    {
     "data": {
      "text/plain": [
       "[<matplotlib.lines.Line2D at 0xd2ed7da58>]"
      ]
     },
     "execution_count": 723,
     "metadata": {},
     "output_type": "execute_result"
    },
    {
     "data": {
      "image/png": "[encoded data removed]",
      "text/plain": [
       "<Figure size 432x288 with 1 Axes>"
      ]
     },
     "metadata": {
      "needs_background": "light"
     },
     "output_type": "display_data"
    }
   ],
   "source": [
    "plt.plot(df5_hidens_round, df5_hidens_sum)"
   ]
  },
  {
   "cell_type": "code",
   "execution_count": 730,
   "metadata": {},
   "outputs": [],
   "source": [
    "pt_df_final = pt_df.groupby('pressure').mean()"
   ]
  },
  {
   "cell_type": "code",
   "execution_count": 731,
   "metadata": {},
   "outputs": [
    {
     "name": "stdout",
     "output_type": "stream",
     "text": [
      "                  nan       mean\n",
      "pressure                        \n",
      "2.0       1560.000000  25.201733\n",
      "3.0       1558.571429  25.323044\n",
      "4.0       1424.727273  25.374036\n",
      "5.0       1396.000000  25.370380\n",
      "6.0       1394.000000  25.391881\n",
      "...               ...        ...\n",
      "427.0     1560.000000  27.298679\n",
      "428.0     1560.000000  27.289402\n",
      "429.0     1560.000000  27.287921\n",
      "430.0     1560.000000  27.291410\n",
      "431.0     1560.000000  27.316524\n",
      "\n",
      "[430 rows x 2 columns]\n"
     ]
    }
   ],
   "source": [
    "print(pt_df_final)"
   ]
  },
  {
   "cell_type": "code",
   "execution_count": 740,
   "metadata": {},
   "outputs": [],
   "source": [
    "depths = pt_df_final.index.tolist()"
   ]
  },
  {
   "cell_type": "code",
   "execution_count": 742,
   "metadata": {},
   "outputs": [],
   "source": [
    "depthsneg = []\n",
    "for i in depths:\n",
    "    depthsneg.append(i*-1)"
   ]
  },
  {
   "cell_type": "code",
   "execution_count": 753,
   "metadata": {},
   "outputs": [
    {
     "name": "stdout",
     "output_type": "stream",
     "text": [
      "200\n",
      "199\n"
     ]
    }
   ],
   "source": [
    "print(len(depthsneg[0:200]))\n",
    "print(len(pt_df_final['mean'][0:200]))"
   ]
  },
  {
   "cell_type": "code",
   "execution_count": 757,
   "metadata": {},
   "outputs": [
    {
     "data": {
      "image/png": "[encoded data removed]",
      "text/plain": [
       "<Figure size 1080x720 with 1 Axes>"
      ]
     },
     "metadata": {
      "needs_background": "light"
     },
     "output_type": "display_data"
    }
   ],
   "source": [
    "plt.figure(figsize=(15,10))\n",
    "plt.ylim((-400,0))\n",
    "plt.figure(1)\n",
    "plt.scatter(pt_df_final['mean'], depthsneg,c = pt_df_final['nan'], cmap = 'ocean_r', s = 20, zorder=10)\n",
    "plt.plot(pt_df_final['mean'], depthsneg, color='black', linewidth=0.8, zorder= 0)\n",
    "plt.show()"
   ]
  },
  {
   "cell_type": "code",
   "execution_count": 715,
   "metadata": {},
   "outputs": [
    {
     "name": "stdout",
     "output_type": "stream",
     "text": [
      "935       2.0\n",
      "1068      3.0\n",
      "996       3.0\n",
      "125       3.0\n",
      "500       3.0\n",
      "        ...  \n",
      "1523    427.0\n",
      "1524    428.0\n",
      "1525    429.0\n",
      "1526    430.0\n",
      "1527    431.0\n",
      "Name: pressure, Length: 1528, dtype: float64\n"
     ]
    }
   ],
   "source": [
    "print(df5_hidens_round)"
   ]
  },
  {
   "cell_type": "code",
   "execution_count": 629,
   "metadata": {},
   "outputs": [],
   "source": [
    "df5_hidens['sum'] = df5_hidens.iloc[:, 1:].sum(axis=1)"
   ]
  },
  {
   "cell_type": "code",
   "execution_count": 649,
   "metadata": {},
   "outputs": [],
   "source": [
    "df5_hidens['sum'] = df5_hidens.iloc[:, 1:].mean(axis=1)"
   ]
  },
  {
   "cell_type": "code",
   "execution_count": 583,
   "metadata": {},
   "outputs": [],
   "source": [
    "df5temp['sum'] = df5temp.iloc[:, 1:].sum(axis=1)/5"
   ]
  },
  {
   "cell_type": "code",
   "execution_count": 584,
   "metadata": {},
   "outputs": [],
   "source": [
    "df5sal['sum'] = df5sal.iloc[:, 1:].sum(axis=1)/5"
   ]
  },
  {
   "cell_type": "code",
   "execution_count": 650,
   "metadata": {},
   "outputs": [
    {
     "name": "stdout",
     "output_type": "stream",
     "text": [
      "935     25.209985\n",
      "1068    25.276874\n",
      "996     25.264457\n",
      "125     38.249679\n",
      "500     33.772942\n",
      "          ...    \n",
      "1523    27.307618\n",
      "1524    27.298337\n",
      "1525    27.296856\n",
      "1526    27.300346\n",
      "1527    27.325469\n",
      "Name: sum, Length: 1528, dtype: float64\n"
     ]
    }
   ],
   "source": [
    "print(df5_hidens['sum'])"
   ]
  },
  {
   "cell_type": "code",
   "execution_count": 637,
   "metadata": {},
   "outputs": [
    {
     "name": "stdout",
     "output_type": "stream",
     "text": [
      "1491.3579842931938\n"
     ]
    }
   ],
   "source": [
    "print(np.nanmean(val_nan_hidens))"
   ]
  },
  {
   "cell_type": "code",
   "execution_count": 687,
   "metadata": {},
   "outputs": [
    {
     "name": "stdout",
     "output_type": "stream",
     "text": [
      "      pressure  density_x  density_y  density_x  density_y  density_x  \\\n",
      "935        2.0        NaN        NaN        NaN        NaN        NaN   \n",
      "1068       3.0        NaN        NaN        NaN        NaN        NaN   \n",
      "996        3.0        NaN        NaN        NaN        NaN        NaN   \n",
      "125        3.0        NaN        NaN        NaN        NaN        NaN   \n",
      "500        3.0        NaN        NaN        NaN        NaN        NaN   \n",
      "...        ...        ...        ...        ...        ...        ...   \n",
      "1523     427.0        NaN        NaN        NaN        NaN        NaN   \n",
      "1524     428.0        NaN        NaN        NaN        NaN        NaN   \n",
      "1525     429.0        NaN        NaN        NaN        NaN        NaN   \n",
      "1526     430.0        NaN        NaN        NaN        NaN        NaN   \n",
      "1527     431.0        NaN        NaN        NaN        NaN        NaN   \n",
      "\n",
      "      density_y  density_x  density_y  density_x  ...  density_x  density_y  \\\n",
      "935         NaN        NaN        NaN        NaN  ...        NaN        NaN   \n",
      "1068        NaN        NaN        NaN        NaN  ...        NaN        NaN   \n",
      "996         NaN        NaN        NaN        NaN  ...        NaN        NaN   \n",
      "125         NaN        NaN        NaN        NaN  ...        NaN        NaN   \n",
      "500         NaN        NaN        NaN        NaN  ...        NaN        NaN   \n",
      "...         ...        ...        ...        ...  ...        ...        ...   \n",
      "1523        NaN        NaN        NaN        NaN  ...        NaN        NaN   \n",
      "1524        NaN        NaN        NaN        NaN  ...        NaN        NaN   \n",
      "1525        NaN        NaN        NaN        NaN  ...        NaN        NaN   \n",
      "1526        NaN        NaN        NaN        NaN  ...        NaN        NaN   \n",
      "1527        NaN        NaN        NaN        NaN  ...        NaN        NaN   \n",
      "\n",
      "      density_x  density_y  density_x  density_y  density_x  density_y  \\\n",
      "935         NaN        NaN        NaN        NaN        NaN        NaN   \n",
      "1068        NaN        NaN        NaN        NaN        NaN        NaN   \n",
      "996         NaN        NaN        NaN        NaN        NaN        NaN   \n",
      "125         NaN        NaN        NaN        NaN        NaN        NaN   \n",
      "500         NaN        NaN        NaN        NaN        NaN        NaN   \n",
      "...         ...        ...        ...        ...        ...        ...   \n",
      "1523        NaN        NaN        NaN        NaN        NaN        NaN   \n",
      "1524        NaN        NaN        NaN        NaN        NaN        NaN   \n",
      "1525        NaN        NaN        NaN        NaN        NaN        NaN   \n",
      "1526        NaN        NaN        NaN        NaN        NaN        NaN   \n",
      "1527        NaN        NaN        NaN        NaN        NaN        NaN   \n",
      "\n",
      "      density        sum  \n",
      "935       NaN  25.209985  \n",
      "1068      NaN  25.276874  \n",
      "996       NaN  25.264457  \n",
      "125       NaN  38.249679  \n",
      "500       NaN  33.772942  \n",
      "...       ...        ...  \n",
      "1523      NaN  27.307618  \n",
      "1524      NaN  27.298337  \n",
      "1525      NaN  27.296856  \n",
      "1526      NaN  27.300346  \n",
      "1527      NaN  27.325469  \n",
      "\n",
      "[1528 rows x 1563 columns]\n"
     ]
    }
   ],
   "source": [
    "print(df5_hidens)"
   ]
  },
  {
   "cell_type": "code",
   "execution_count": 666,
   "metadata": {},
   "outputs": [
    {
     "name": "stdout",
     "output_type": "stream",
     "text": [
      "      pressure  density_x  density_y  density_x  density_y  density_x  \\\n",
      "935        2.0        NaN        NaN        NaN        NaN        NaN   \n",
      "1068       3.0        NaN        NaN        NaN        NaN        NaN   \n",
      "996        3.0        NaN        NaN        NaN        NaN        NaN   \n",
      "125        3.0        NaN        NaN        NaN        NaN        NaN   \n",
      "500        3.0        NaN        NaN        NaN        NaN        NaN   \n",
      "...        ...        ...        ...        ...        ...        ...   \n",
      "1523     427.0        NaN        NaN        NaN        NaN        NaN   \n",
      "1524     428.0        NaN        NaN        NaN        NaN        NaN   \n",
      "1525     429.0        NaN        NaN        NaN        NaN        NaN   \n",
      "1526     430.0        NaN        NaN        NaN        NaN        NaN   \n",
      "1527     431.0        NaN        NaN        NaN        NaN        NaN   \n",
      "\n",
      "      density_y  density_x  density_y  density_x  ...  density_x  density_y  \\\n",
      "935         NaN        NaN        NaN        NaN  ...        NaN        NaN   \n",
      "1068        NaN        NaN        NaN        NaN  ...        NaN        NaN   \n",
      "996         NaN        NaN        NaN        NaN  ...        NaN        NaN   \n",
      "125         NaN        NaN        NaN        NaN  ...        NaN        NaN   \n",
      "500         NaN        NaN        NaN        NaN  ...        NaN        NaN   \n",
      "...         ...        ...        ...        ...  ...        ...        ...   \n",
      "1523        NaN        NaN        NaN        NaN  ...        NaN        NaN   \n",
      "1524        NaN        NaN        NaN        NaN  ...        NaN        NaN   \n",
      "1525        NaN        NaN        NaN        NaN  ...        NaN        NaN   \n",
      "1526        NaN        NaN        NaN        NaN  ...        NaN        NaN   \n",
      "1527        NaN        NaN        NaN        NaN  ...        NaN        NaN   \n",
      "\n",
      "      density_x  density_y  density_x  density_y  density_x  density_y  \\\n",
      "935         NaN        NaN        NaN        NaN        NaN        NaN   \n",
      "1068        NaN        NaN        NaN        NaN        NaN        NaN   \n",
      "996         NaN        NaN        NaN        NaN        NaN        NaN   \n",
      "125         NaN        NaN        NaN        NaN        NaN        NaN   \n",
      "500         NaN        NaN        NaN        NaN        NaN        NaN   \n",
      "...         ...        ...        ...        ...        ...        ...   \n",
      "1523        NaN        NaN        NaN        NaN        NaN        NaN   \n",
      "1524        NaN        NaN        NaN        NaN        NaN        NaN   \n",
      "1525        NaN        NaN        NaN        NaN        NaN        NaN   \n",
      "1526        NaN        NaN        NaN        NaN        NaN        NaN   \n",
      "1527        NaN        NaN        NaN        NaN        NaN        NaN   \n",
      "\n",
      "      density        sum  \n",
      "935       NaN  25.209985  \n",
      "1068      NaN  25.276874  \n",
      "996       NaN  25.264457  \n",
      "125       NaN  38.249679  \n",
      "500       NaN  33.772942  \n",
      "...       ...        ...  \n",
      "1523      NaN  27.307618  \n",
      "1524      NaN  27.298337  \n",
      "1525      NaN  27.296856  \n",
      "1526      NaN  27.300346  \n",
      "1527      NaN  27.325469  \n",
      "\n",
      "[1528 rows x 1563 columns]\n"
     ]
    }
   ],
   "source": [
    "print(df5_hidens)\n",
    "grouped = df5_hidens.groupby(['pressure']).agg({'sum':'mean', ''})"
   ]
  },
  {
   "cell_type": "code",
   "execution_count": 672,
   "metadata": {},
   "outputs": [
    {
     "name": "stdout",
     "output_type": "stream",
     "text": [
      "Float64Index([  2.0,   3.0,   4.0,   5.0,   6.0,   7.0,   8.0,   9.0,  10.0,\n",
      "               11.0,\n",
      "              ...\n",
      "              422.0, 423.0, 424.0, 425.0, 426.0, 427.0, 428.0, 429.0, 430.0,\n",
      "              431.0],\n",
      "             dtype='float64', name='pressure', length=430)\n"
     ]
    }
   ],
   "source": [
    "print(grouped.index)"
   ]
  },
  {
   "cell_type": "code",
   "execution_count": 668,
   "metadata": {},
   "outputs": [
    {
     "name": "stdout",
     "output_type": "stream",
     "text": [
      "95\n"
     ]
    }
   ],
   "source": [
    "print(np.min(val_nan_hidens))"
   ]
  },
  {
   "cell_type": "code",
   "execution_count": 683,
   "metadata": {},
   "outputs": [],
   "source": [
    "haha = grouped.index.tolist()"
   ]
  },
  {
   "cell_type": "code",
   "execution_count": 686,
   "metadata": {},
   "outputs": [
    {
     "data": {
      "text/plain": [
       "<matplotlib.collections.PathCollection at 0xd2ec9bcc0>"
      ]
     },
     "execution_count": 686,
     "metadata": {},
     "output_type": "execute_result"
    },
    {
     "data": {
      "image/png": "[encoded data removed]",
      "text/plain": [
       "<Figure size 1080x720 with 1 Axes>"
      ]
     },
     "metadata": {
      "needs_background": "light"
     },
     "output_type": "display_data"
    }
   ],
   "source": [
    "plt.figure(figsize=(15,10))\n",
    "\n",
    "# plt.scatter(grouped['sum'], haha, c= val_nan_hidens,cmap = 'Reds_r',vmin = 95, vmax = 1500, alpha = 1)\n",
    "# plt.plot(grouped['sum'], haha,linestyle='-', color='black', linewidth=1.5, zorder= 0)\n",
    "plt.scatter(grouped['sum'], haha,linestyle='-', color='black', linewidth=1.5, zorder= 0)"
   ]
  },
  {
   "cell_type": "code",
   "execution_count": 603,
   "metadata": {},
   "outputs": [
    {
     "data": {
      "image/png": "[encoded data removed]",
      "text/plain": [
       "<Figure size 1080x720 with 3 Axes>"
      ]
     },
     "metadata": {
      "needs_background": "light"
     },
     "output_type": "display_data"
    }
   ],
   "source": [
    "plt.figure(figsize=(15,10))\n",
    "plt.figure(1)\n",
    "\n",
    "plt.subplot(1, 3, 1)\n",
    "plt.ylim((-150,0))\n",
    "plt.scatter(df5temp['sum'], df5['pressure']*-1, c= val_nantemp,cmap = 'Reds_r',s = 15, alpha = 1,edgecolor='black',linewidth=0.1)\n",
    "plt.plot(df5temp['sum'], df5['pressure']*-1,linestyle='-', color='black', linewidth=1.5, zorder= 0)\n",
    "plt.xlabel('Temperature', fontsize = 15)\n",
    "plt.ylabel('Depth (m)', fontsize = 15)\n",
    "plt.grid(b=True, which='both', color='black', linestyle='--',alpha = 0.6)\n",
    "\n",
    "# plt.subplot(1, 3, 2)\n",
    "# plt.ylim((-150,0))\n",
    "# plt.scatter(df5['sum'], df5['pressure']*-1,c= val_nantemp,cmap = 'Reds_r',s = 15, alpha = 1,edgecolor='black',linewidth=0.1)\n",
    "# plt.plot(df5['sum'], df5['pressure']*-1, color='black', linewidth=1.5, zorder= 0)\n",
    "# plt.xlabel('Density', fontsize = 15)\n",
    "# plt.grid(b=True, which='both', color='black', linestyle='--',alpha = 0.6)\n",
    "\n",
    "# plt.subplot(1, 3, 3)\n",
    "# plt.ylim((-150,0))\n",
    "# plt.scatter(df5sal['sum'], df5['pressure']*-1,c= val_nantemp,cmap = 'Reds_r',s = 15, alpha = 1,edgecolor='black',linewidth=0.1)\n",
    "# plt.plot(df5sal['sum'], df5['pressure']*-1, color='black', linewidth=1.5, zorder= 0)\n",
    "# plt.xlabel('Salinity', fontsize = 15)\n",
    "# plt.grid(b=True, which='both', color='black', linestyle='--',alpha = 0.6)\n",
    "\n",
    "# mpl.rcParams['axes.linewidth'] = 2\n",
    "# plt.show()\n",
    "\n"
   ]
  },
  {
   "cell_type": "code",
   "execution_count": null,
   "metadata": {},
   "outputs": [],
   "source": []
  },
  {
   "cell_type": "code",
   "execution_count": 525,
   "metadata": {},
   "outputs": [
    {
     "data": {
      "image/png": "[encoded data removed]",
      "text/plain": [
       "<Figure size 432x288 with 1 Axes>"
      ]
     },
     "metadata": {
      "needs_background": "light"
     },
     "output_type": "display_data"
    }
   ],
   "source": [
    "plt.plot(df5['sum'], df5['pressure']*-1)\n",
    "plt.plot(df5temp['sum'], df5['pressure']*-1)\n",
    "\n",
    "\n",
    "plt.show()"
   ]
  },
  {
   "cell_type": "code",
   "execution_count": 524,
   "metadata": {},
   "outputs": [
    {
     "data": {
      "image/png": "[encoded data removed]",
      "text/plain": [
       "<Figure size 432x288 with 1 Axes>"
      ]
     },
     "metadata": {
      "needs_background": "light"
     },
     "output_type": "display_data"
    }
   ],
   "source": [
    "plt.plot(df5temp['sum'], df5['pressure']*-1)\n",
    "plt.show()"
   ]
  },
  {
   "cell_type": "code",
   "execution_count": null,
   "metadata": {},
   "outputs": [],
   "source": []
  },
  {
   "cell_type": "code",
   "execution_count": null,
   "metadata": {},
   "outputs": [],
   "source": []
  },
  {
   "cell_type": "code",
   "execution_count": null,
   "metadata": {},
   "outputs": [],
   "source": []
  },
  {
   "cell_type": "code",
   "execution_count": null,
   "metadata": {},
   "outputs": [],
   "source": []
  },
  {
   "cell_type": "code",
   "execution_count": null,
   "metadata": {},
   "outputs": [],
   "source": []
  },
  {
   "cell_type": "code",
   "execution_count": null,
   "metadata": {},
   "outputs": [],
   "source": []
  },
  {
   "cell_type": "code",
   "execution_count": null,
   "metadata": {},
   "outputs": [],
   "source": []
  },
  {
   "cell_type": "code",
   "execution_count": 458,
   "metadata": {},
   "outputs": [],
   "source": [
    "hellohello = reduce(lambda x, y: pd.merge(x, y, on = 'pressure', how = 'outer'), hello)"
   ]
  },
  {
   "cell_type": "code",
   "execution_count": 459,
   "metadata": {},
   "outputs": [],
   "source": [
    "df_final = reduce(lambda left,right: pd.merge(left,right,on='pressure',how = 'outer'), hello)"
   ]
  },
  {
   "cell_type": "code",
   "execution_count": 460,
   "metadata": {},
   "outputs": [
    {
     "name": "stdout",
     "output_type": "stream",
     "text": [
      "    temp_x   sal_x  pressure  density_x  temp_y   sal_y  density_y  temp_x  \\\n",
      "0     7.65  32.842       4.0  25.510070    5.56  32.424  25.450710    5.81   \n",
      "1     7.64  32.840       5.0  25.509912    5.56  32.424  25.450710    5.81   \n",
      "2     7.64  32.840       6.0  25.509912    5.56  32.425  25.451497    5.80   \n",
      "3     7.64  32.840       7.0  25.509912    5.56  32.424  25.450710    5.80   \n",
      "4     7.65  32.840       8.0  25.508506    5.56  32.422  25.449136    5.80   \n",
      "..     ...     ...       ...        ...     ...     ...        ...     ...   \n",
      "69    8.28  33.084      74.0  25.608120     NaN     NaN        NaN     NaN   \n",
      "70    8.28  33.083      75.0  25.607339     NaN     NaN        NaN     NaN   \n",
      "71    8.28  33.084      76.0  25.608120     NaN     NaN        NaN     NaN   \n",
      "72    8.28  33.083      77.0  25.607339     NaN     NaN        NaN     NaN   \n",
      "73     NaN     NaN      26.0        NaN    5.56  32.421  25.448349    5.81   \n",
      "\n",
      "     sal_x  density_x  temp_y   sal_y  density_y  temp     sal    density  \n",
      "0   32.425  25.422126    6.12  32.474  25.423198  6.51  32.524  25.413738  \n",
      "1   32.425  25.422126    6.12  32.474  25.423198  6.49  32.520  25.413140  \n",
      "2   32.425  25.423315    6.12  32.474  25.423198  6.49  32.521  25.413925  \n",
      "3   32.424  25.422529    6.12  32.474  25.423198  6.50  32.522  25.413440  \n",
      "4   32.424  25.422529    6.12  32.474  25.423198  6.50  32.528  25.418147  \n",
      "..     ...        ...     ...     ...        ...   ...     ...        ...  \n",
      "69     NaN        NaN     NaN     NaN        NaN   NaN     NaN        NaN  \n",
      "70     NaN        NaN     NaN     NaN        NaN   NaN     NaN        NaN  \n",
      "71     NaN        NaN     NaN     NaN        NaN   NaN     NaN        NaN  \n",
      "72     NaN        NaN     NaN     NaN        NaN   NaN     NaN        NaN  \n",
      "73  32.425  25.422126    6.11  32.473  25.423638  6.51  32.535  25.422368  \n",
      "\n",
      "[74 rows x 16 columns]\n"
     ]
    }
   ],
   "source": [
    "print(df_final)"
   ]
  },
  {
   "cell_type": "code",
   "execution_count": 467,
   "metadata": {},
   "outputs": [],
   "source": [
    "val_nan = df_final.isnull().sum(axis=1)"
   ]
  },
  {
   "cell_type": "code",
   "execution_count": 468,
   "metadata": {},
   "outputs": [
    {
     "name": "stdout",
     "output_type": "stream",
     "text": [
      "0      0\n",
      "1      0\n",
      "2      0\n",
      "3      0\n",
      "4      0\n",
      "      ..\n",
      "69    12\n",
      "70    12\n",
      "71    12\n",
      "72    12\n",
      "73     3\n",
      "Length: 74, dtype: int64\n"
     ]
    }
   ],
   "source": [
    "print(val_nan)"
   ]
  },
  {
   "cell_type": "code",
   "execution_count": 482,
   "metadata": {},
   "outputs": [
    {
     "name": "stdout",
     "output_type": "stream",
     "text": [
      "temp_x\n",
      "sal_x\n",
      "pressure\n",
      "density_x\n",
      "temp_y\n",
      "sal_y\n",
      "density_y\n",
      "temp_x\n",
      "sal_x\n",
      "density_x\n",
      "temp_y\n",
      "sal_y\n",
      "density_y\n",
      "temp\n",
      "sal\n",
      "density\n"
     ]
    }
   ],
   "source": [
    "for col in df_final.columns: \n",
    "    print(col) "
   ]
  },
  {
   "cell_type": "code",
   "execution_count": 469,
   "metadata": {
    "scrolled": false
   },
   "outputs": [
    {
     "name": "stdout",
     "output_type": "stream",
     "text": [
      "    temp_x   sal_x  pressure  density_x  temp_y   sal_y  density_y  temp_x  \\\n",
      "0     7.65  32.842       4.0  25.510070    5.56  32.424  25.450710    5.81   \n",
      "1     7.64  32.840       5.0  25.509912    5.56  32.424  25.450710    5.81   \n",
      "2     7.64  32.840       6.0  25.509912    5.56  32.425  25.451497    5.80   \n",
      "3     7.64  32.840       7.0  25.509912    5.56  32.424  25.450710    5.80   \n",
      "4     7.65  32.840       8.0  25.508506    5.56  32.422  25.449136    5.80   \n",
      "..     ...     ...       ...        ...     ...     ...        ...     ...   \n",
      "69    8.28  33.084      74.0  25.608120     NaN     NaN        NaN     NaN   \n",
      "70    8.28  33.083      75.0  25.607339     NaN     NaN        NaN     NaN   \n",
      "71    8.28  33.084      76.0  25.608120     NaN     NaN        NaN     NaN   \n",
      "72    8.28  33.083      77.0  25.607339     NaN     NaN        NaN     NaN   \n",
      "73     NaN     NaN      26.0        NaN    5.56  32.421  25.448349    5.81   \n",
      "\n",
      "     sal_x  density_x  temp_y   sal_y  density_y  temp     sal    density  \n",
      "0   32.425  25.422126    6.12  32.474  25.423198  6.51  32.524  25.413738  \n",
      "1   32.425  25.422126    6.12  32.474  25.423198  6.49  32.520  25.413140  \n",
      "2   32.425  25.423315    6.12  32.474  25.423198  6.49  32.521  25.413925  \n",
      "3   32.424  25.422529    6.12  32.474  25.423198  6.50  32.522  25.413440  \n",
      "4   32.424  25.422529    6.12  32.474  25.423198  6.50  32.528  25.418147  \n",
      "..     ...        ...     ...     ...        ...   ...     ...        ...  \n",
      "69     NaN        NaN     NaN     NaN        NaN   NaN     NaN        NaN  \n",
      "70     NaN        NaN     NaN     NaN        NaN   NaN     NaN        NaN  \n",
      "71     NaN        NaN     NaN     NaN        NaN   NaN     NaN        NaN  \n",
      "72     NaN        NaN     NaN     NaN        NaN   NaN     NaN        NaN  \n",
      "73  32.425  25.422126    6.11  32.473  25.423638  6.51  32.535  25.422368  \n",
      "\n",
      "[74 rows x 16 columns]\n"
     ]
    }
   ],
   "source": [
    "print(df_final)\n",
    "3 * 5 = 15"
   ]
  },
  {
   "cell_type": "code",
   "execution_count": 470,
   "metadata": {},
   "outputs": [],
   "source": [
    "df4 = df_final.mean(axis=1,level=0)"
   ]
  },
  {
   "cell_type": "code",
   "execution_count": 481,
   "metadata": {},
   "outputs": [
    {
     "data": {
      "text/html": [
       "<div>\n",
       "<style scoped>\n",
       "    .dataframe tbody tr th:only-of-type {\n",
       "        vertical-align: middle;\n",
       "    }\n",
       "\n",
       "    .dataframe tbody tr th {\n",
       "        vertical-align: top;\n",
       "    }\n",
       "\n",
       "    .dataframe thead th {\n",
       "        text-align: right;\n",
       "    }\n",
       "</style>\n",
       "<table border=\"1\" class=\"dataframe\">\n",
       "  <thead>\n",
       "    <tr style=\"text-align: right;\">\n",
       "      <th></th>\n",
       "      <th>temp_x</th>\n",
       "      <th>sal_x</th>\n",
       "      <th>pressure</th>\n",
       "      <th>density_x</th>\n",
       "      <th>temp_y</th>\n",
       "      <th>sal_y</th>\n",
       "      <th>density_y</th>\n",
       "      <th>temp</th>\n",
       "      <th>sal</th>\n",
       "      <th>density</th>\n",
       "    </tr>\n",
       "  </thead>\n",
       "  <tbody>\n",
       "    <tr>\n",
       "      <th>0</th>\n",
       "      <td>6.730</td>\n",
       "      <td>32.6335</td>\n",
       "      <td>4.0</td>\n",
       "      <td>25.466098</td>\n",
       "      <td>5.840</td>\n",
       "      <td>32.4490</td>\n",
       "      <td>25.436954</td>\n",
       "      <td>6.51</td>\n",
       "      <td>32.524</td>\n",
       "      <td>25.413738</td>\n",
       "    </tr>\n",
       "    <tr>\n",
       "      <th>1</th>\n",
       "      <td>6.725</td>\n",
       "      <td>32.6325</td>\n",
       "      <td>5.0</td>\n",
       "      <td>25.466019</td>\n",
       "      <td>5.840</td>\n",
       "      <td>32.4490</td>\n",
       "      <td>25.436954</td>\n",
       "      <td>6.49</td>\n",
       "      <td>32.520</td>\n",
       "      <td>25.413140</td>\n",
       "    </tr>\n",
       "    <tr>\n",
       "      <th>2</th>\n",
       "      <td>6.720</td>\n",
       "      <td>32.6325</td>\n",
       "      <td>6.0</td>\n",
       "      <td>25.466614</td>\n",
       "      <td>5.840</td>\n",
       "      <td>32.4495</td>\n",
       "      <td>25.437347</td>\n",
       "      <td>6.49</td>\n",
       "      <td>32.521</td>\n",
       "      <td>25.413925</td>\n",
       "    </tr>\n",
       "    <tr>\n",
       "      <th>3</th>\n",
       "      <td>6.720</td>\n",
       "      <td>32.6320</td>\n",
       "      <td>7.0</td>\n",
       "      <td>25.466221</td>\n",
       "      <td>5.840</td>\n",
       "      <td>32.4490</td>\n",
       "      <td>25.436954</td>\n",
       "      <td>6.50</td>\n",
       "      <td>32.522</td>\n",
       "      <td>25.413440</td>\n",
       "    </tr>\n",
       "    <tr>\n",
       "      <th>4</th>\n",
       "      <td>6.725</td>\n",
       "      <td>32.6320</td>\n",
       "      <td>8.0</td>\n",
       "      <td>25.465517</td>\n",
       "      <td>5.840</td>\n",
       "      <td>32.4480</td>\n",
       "      <td>25.436167</td>\n",
       "      <td>6.50</td>\n",
       "      <td>32.528</td>\n",
       "      <td>25.418147</td>\n",
       "    </tr>\n",
       "    <tr>\n",
       "      <th>...</th>\n",
       "      <td>...</td>\n",
       "      <td>...</td>\n",
       "      <td>...</td>\n",
       "      <td>...</td>\n",
       "      <td>...</td>\n",
       "      <td>...</td>\n",
       "      <td>...</td>\n",
       "      <td>...</td>\n",
       "      <td>...</td>\n",
       "      <td>...</td>\n",
       "    </tr>\n",
       "    <tr>\n",
       "      <th>69</th>\n",
       "      <td>8.280</td>\n",
       "      <td>33.0840</td>\n",
       "      <td>74.0</td>\n",
       "      <td>25.608120</td>\n",
       "      <td>NaN</td>\n",
       "      <td>NaN</td>\n",
       "      <td>NaN</td>\n",
       "      <td>NaN</td>\n",
       "      <td>NaN</td>\n",
       "      <td>NaN</td>\n",
       "    </tr>\n",
       "    <tr>\n",
       "      <th>70</th>\n",
       "      <td>8.280</td>\n",
       "      <td>33.0830</td>\n",
       "      <td>75.0</td>\n",
       "      <td>25.607339</td>\n",
       "      <td>NaN</td>\n",
       "      <td>NaN</td>\n",
       "      <td>NaN</td>\n",
       "      <td>NaN</td>\n",
       "      <td>NaN</td>\n",
       "      <td>NaN</td>\n",
       "    </tr>\n",
       "    <tr>\n",
       "      <th>71</th>\n",
       "      <td>8.280</td>\n",
       "      <td>33.0840</td>\n",
       "      <td>76.0</td>\n",
       "      <td>25.608120</td>\n",
       "      <td>NaN</td>\n",
       "      <td>NaN</td>\n",
       "      <td>NaN</td>\n",
       "      <td>NaN</td>\n",
       "      <td>NaN</td>\n",
       "      <td>NaN</td>\n",
       "    </tr>\n",
       "    <tr>\n",
       "      <th>72</th>\n",
       "      <td>8.280</td>\n",
       "      <td>33.0830</td>\n",
       "      <td>77.0</td>\n",
       "      <td>25.607339</td>\n",
       "      <td>NaN</td>\n",
       "      <td>NaN</td>\n",
       "      <td>NaN</td>\n",
       "      <td>NaN</td>\n",
       "      <td>NaN</td>\n",
       "      <td>NaN</td>\n",
       "    </tr>\n",
       "    <tr>\n",
       "      <th>73</th>\n",
       "      <td>5.810</td>\n",
       "      <td>32.4250</td>\n",
       "      <td>26.0</td>\n",
       "      <td>25.422126</td>\n",
       "      <td>5.835</td>\n",
       "      <td>32.4470</td>\n",
       "      <td>25.435993</td>\n",
       "      <td>6.51</td>\n",
       "      <td>32.535</td>\n",
       "      <td>25.422368</td>\n",
       "    </tr>\n",
       "  </tbody>\n",
       "</table>\n",
       "<p>74 rows × 10 columns</p>\n",
       "</div>"
      ],
      "text/plain": [
       "    temp_x    sal_x  pressure  density_x  temp_y    sal_y  density_y  temp  \\\n",
       "0    6.730  32.6335       4.0  25.466098   5.840  32.4490  25.436954  6.51   \n",
       "1    6.725  32.6325       5.0  25.466019   5.840  32.4490  25.436954  6.49   \n",
       "2    6.720  32.6325       6.0  25.466614   5.840  32.4495  25.437347  6.49   \n",
       "3    6.720  32.6320       7.0  25.466221   5.840  32.4490  25.436954  6.50   \n",
       "4    6.725  32.6320       8.0  25.465517   5.840  32.4480  25.436167  6.50   \n",
       "..     ...      ...       ...        ...     ...      ...        ...   ...   \n",
       "69   8.280  33.0840      74.0  25.608120     NaN      NaN        NaN   NaN   \n",
       "70   8.280  33.0830      75.0  25.607339     NaN      NaN        NaN   NaN   \n",
       "71   8.280  33.0840      76.0  25.608120     NaN      NaN        NaN   NaN   \n",
       "72   8.280  33.0830      77.0  25.607339     NaN      NaN        NaN   NaN   \n",
       "73   5.810  32.4250      26.0  25.422126   5.835  32.4470  25.435993  6.51   \n",
       "\n",
       "       sal    density  \n",
       "0   32.524  25.413738  \n",
       "1   32.520  25.413140  \n",
       "2   32.521  25.413925  \n",
       "3   32.522  25.413440  \n",
       "4   32.528  25.418147  \n",
       "..     ...        ...  \n",
       "69     NaN        NaN  \n",
       "70     NaN        NaN  \n",
       "71     NaN        NaN  \n",
       "72     NaN        NaN  \n",
       "73  32.535  25.422368  \n",
       "\n",
       "[74 rows x 10 columns]"
      ]
     },
     "execution_count": 481,
     "metadata": {},
     "output_type": "execute_result"
    }
   ],
   "source": [
    "df4"
   ]
  },
  {
   "cell_type": "code",
   "execution_count": 480,
   "metadata": {},
   "outputs": [
    {
     "name": "stdout",
     "output_type": "stream",
     "text": [
      "    temp_x    sal_x  pressure  density_x  temp_y    sal_y  density_y  temp  \\\n",
      "0    6.730  32.6335       4.0  25.466098   5.840  32.4490  25.436954  6.51   \n",
      "1    6.725  32.6325       5.0  25.466019   5.840  32.4490  25.436954  6.49   \n",
      "2    6.720  32.6325       6.0  25.466614   5.840  32.4495  25.437347  6.49   \n",
      "3    6.720  32.6320       7.0  25.466221   5.840  32.4490  25.436954  6.50   \n",
      "4    6.725  32.6320       8.0  25.465517   5.840  32.4480  25.436167  6.50   \n",
      "..     ...      ...       ...        ...     ...      ...        ...   ...   \n",
      "69   8.280  33.0840      74.0  25.608120     NaN      NaN        NaN   NaN   \n",
      "70   8.280  33.0830      75.0  25.607339     NaN      NaN        NaN   NaN   \n",
      "71   8.280  33.0840      76.0  25.608120     NaN      NaN        NaN   NaN   \n",
      "72   8.280  33.0830      77.0  25.607339     NaN      NaN        NaN   NaN   \n",
      "73   5.810  32.4250      26.0  25.422126   5.835  32.4470  25.435993  6.51   \n",
      "\n",
      "       sal    density  \n",
      "0   32.524  25.413738  \n",
      "1   32.520  25.413140  \n",
      "2   32.521  25.413925  \n",
      "3   32.522  25.413440  \n",
      "4   32.528  25.418147  \n",
      "..     ...        ...  \n",
      "69     NaN        NaN  \n",
      "70     NaN        NaN  \n",
      "71     NaN        NaN  \n",
      "72     NaN        NaN  \n",
      "73  32.535  25.422368  \n",
      "\n",
      "[74 rows x 10 columns]\n",
      "Index(['temp_x', 'sal_x', 'pressure', 'density_x', 'temp_y', 'sal_y',\n",
      "       'density_y', 'temp', 'sal', 'density'],\n",
      "      dtype='object')\n"
     ]
    }
   ],
   "source": [
    "print(df4)\n",
    "print(df4.keys())"
   ]
  },
  {
   "cell_type": "code",
   "execution_count": 472,
   "metadata": {},
   "outputs": [],
   "source": [
    "df5 = df4.sort_values(['pressure'])"
   ]
  },
  {
   "cell_type": "code",
   "execution_count": 473,
   "metadata": {},
   "outputs": [
    {
     "name": "stdout",
     "output_type": "stream",
     "text": [
      "    temp_x    sal_x  pressure  density_x  temp_y    sal_y  density_y  temp  \\\n",
      "0    6.730  32.6335       4.0  25.466098    5.84  32.4490  25.436954  6.51   \n",
      "1    6.725  32.6325       5.0  25.466019    5.84  32.4490  25.436954  6.49   \n",
      "2    6.720  32.6325       6.0  25.466614    5.84  32.4495  25.437347  6.49   \n",
      "3    6.720  32.6320       7.0  25.466221    5.84  32.4490  25.436954  6.50   \n",
      "4    6.725  32.6320       8.0  25.465517    5.84  32.4480  25.436167  6.50   \n",
      "..     ...      ...       ...        ...     ...      ...        ...   ...   \n",
      "68   8.280  33.0840      73.0  25.608120     NaN      NaN        NaN   NaN   \n",
      "69   8.280  33.0840      74.0  25.608120     NaN      NaN        NaN   NaN   \n",
      "70   8.280  33.0830      75.0  25.607339     NaN      NaN        NaN   NaN   \n",
      "71   8.280  33.0840      76.0  25.608120     NaN      NaN        NaN   NaN   \n",
      "72   8.280  33.0830      77.0  25.607339     NaN      NaN        NaN   NaN   \n",
      "\n",
      "       sal    density  \n",
      "0   32.524  25.413738  \n",
      "1   32.520  25.413140  \n",
      "2   32.521  25.413925  \n",
      "3   32.522  25.413440  \n",
      "4   32.528  25.418147  \n",
      "..     ...        ...  \n",
      "68     NaN        NaN  \n",
      "69     NaN        NaN  \n",
      "70     NaN        NaN  \n",
      "71     NaN        NaN  \n",
      "72     NaN        NaN  \n",
      "\n",
      "[74 rows x 10 columns]\n"
     ]
    }
   ],
   "source": [
    "print(df5)"
   ]
  },
  {
   "cell_type": "code",
   "execution_count": 474,
   "metadata": {},
   "outputs": [
    {
     "name": "stdout",
     "output_type": "stream",
     "text": [
      "0      4.0\n",
      "1      5.0\n",
      "2      6.0\n",
      "3      7.0\n",
      "4      8.0\n",
      "      ... \n",
      "68    73.0\n",
      "69    74.0\n",
      "70    75.0\n",
      "71    76.0\n",
      "72    77.0\n",
      "Name: pressure, Length: 74, dtype: float64\n"
     ]
    }
   ],
   "source": [
    "print(df5['pressure'])"
   ]
  },
  {
   "cell_type": "code",
   "execution_count": 475,
   "metadata": {},
   "outputs": [
    {
     "data": {
      "text/plain": [
       "0     25.436954\n",
       "1     25.436954\n",
       "2     25.437347\n",
       "3     25.436954\n",
       "4     25.436167\n",
       "        ...    \n",
       "68          NaN\n",
       "69          NaN\n",
       "70          NaN\n",
       "71          NaN\n",
       "72          NaN\n",
       "Name: density_y, Length: 74, dtype: float64"
      ]
     },
     "execution_count": 475,
     "metadata": {},
     "output_type": "execute_result"
    }
   ],
   "source": [
    "df5['density_y']"
   ]
  },
  {
   "cell_type": "code",
   "execution_count": 476,
   "metadata": {},
   "outputs": [],
   "source": [
    "sum_column = (df5.density_x.fillna(0) + df5.density_y.fillna(0))"
   ]
  },
  {
   "cell_type": "code",
   "execution_count": 477,
   "metadata": {},
   "outputs": [],
   "source": [
    "newsum = df5.density_x.add(df5.density_y, fill_value=0)/2"
   ]
  },
  {
   "cell_type": "code",
   "execution_count": 478,
   "metadata": {},
   "outputs": [
    {
     "name": "stdout",
     "output_type": "stream",
     "text": [
      "0     25.466098\n",
      "1     25.466019\n",
      "2     25.466614\n",
      "3     25.466221\n",
      "4     25.465517\n",
      "        ...    \n",
      "68    25.608120\n",
      "69    25.608120\n",
      "70    25.607339\n",
      "71    25.608120\n",
      "72    25.607339\n",
      "Name: density_x, Length: 74, dtype: float64\n",
      "0     25.436954\n",
      "1     25.436954\n",
      "2     25.437347\n",
      "3     25.436954\n",
      "4     25.436167\n",
      "        ...    \n",
      "68          NaN\n",
      "69          NaN\n",
      "70          NaN\n",
      "71          NaN\n",
      "72          NaN\n",
      "Name: density_y, Length: 74, dtype: float64\n"
     ]
    }
   ],
   "source": [
    "print(df5['density_x'])\n",
    "print(df5['density_y'])"
   ]
  },
  {
   "cell_type": "code",
   "execution_count": 479,
   "metadata": {},
   "outputs": [
    {
     "name": "stdout",
     "output_type": "stream",
     "text": [
      "25.436953738965258\n",
      "25.466098016719684\n"
     ]
    }
   ],
   "source": [
    "print(df5['density_y'][0])\n",
    "print(df5['density_x'][0])"
   ]
  },
  {
   "cell_type": "code",
   "execution_count": null,
   "metadata": {},
   "outputs": [],
   "source": [
    "25.436953738965258\n",
    "25.466098016719684"
   ]
  },
  {
   "cell_type": "code",
   "execution_count": 440,
   "metadata": {},
   "outputs": [
    {
     "name": "stdout",
     "output_type": "stream",
     "text": [
      "nan\n"
     ]
    }
   ],
   "source": [
    "newadd = df5['density_y'][70] + df5['density_x'][70]\n",
    "print(newadd)"
   ]
  },
  {
   "cell_type": "code",
   "execution_count": 455,
   "metadata": {},
   "outputs": [
    {
     "data": {
      "image/png": "[encoded data removed]",
      "text/plain": [
       "<Figure size 1584x864 with 1 Axes>"
      ]
     },
     "metadata": {
      "needs_background": "light"
     },
     "output_type": "display_data"
    }
   ],
   "source": [
    "plt.figure(figsize=(22,12))\n",
    "plt.figure(1)\n",
    "\n",
    "# plt.plot(sum_column,df5['pressure'])\n",
    "# plt.scatter(df5['density_x'],df5['pressure']*-1)\n",
    "# plt.scatter(df5['density_y'],df5['pressure']*-1)\n",
    "plt.scatter(newsum,df5['pressure']*-1)\n",
    "\n",
    "plt.show()"
   ]
  },
  {
   "cell_type": "code",
   "execution_count": 405,
   "metadata": {},
   "outputs": [
    {
     "data": {
      "image/png": "[encoded data removed]",
      "text/plain": [
       "<Figure size 432x288 with 1 Axes>"
      ]
     },
     "metadata": {
      "needs_background": "light"
     },
     "output_type": "display_data"
    }
   ],
   "source": [
    "plt.plot(df5['density_x'],df5['pressure'],)\n",
    "plt.show()"
   ]
  },
  {
   "cell_type": "code",
   "execution_count": 244,
   "metadata": {},
   "outputs": [
    {
     "name": "stdout",
     "output_type": "stream",
     "text": [
      "1561\n"
     ]
    }
   ],
   "source": [
    "print(len(countwithinpolygon))"
   ]
  },
  {
   "cell_type": "code",
   "execution_count": 245,
   "metadata": {},
   "outputs": [
    {
     "name": "stdout",
     "output_type": "stream",
     "text": [
      "<class 'pandas.core.frame.DataFrame'>\n"
     ]
    }
   ],
   "source": [
    "print(type(data[0]))"
   ]
  },
  {
   "cell_type": "code",
   "execution_count": 246,
   "metadata": {},
   "outputs": [],
   "source": [
    "result = pd.merge(data[0], data[1], on='pressure',how = 'outer')"
   ]
  },
  {
   "cell_type": "code",
   "execution_count": 247,
   "metadata": {},
   "outputs": [
    {
     "name": "stdout",
     "output_type": "stream",
     "text": [
      "    temp_x   sal_x  pressure  density_x  temp_y   sal_y  density_y\n",
      "0     7.65  32.842       4.0  25.510070    5.56  32.424  25.450710\n",
      "1     7.64  32.840       5.0  25.509912    5.56  32.424  25.450710\n",
      "2     7.64  32.840       6.0  25.509912    5.56  32.425  25.451497\n",
      "3     7.64  32.840       7.0  25.509912    5.56  32.424  25.450710\n",
      "4     7.65  32.840       8.0  25.508506    5.56  32.422  25.449136\n",
      "..     ...     ...       ...        ...     ...     ...        ...\n",
      "69    8.28  33.084      74.0  25.608120     NaN     NaN        NaN\n",
      "70    8.28  33.083      75.0  25.607339     NaN     NaN        NaN\n",
      "71    8.28  33.084      76.0  25.608120     NaN     NaN        NaN\n",
      "72    8.28  33.083      77.0  25.607339     NaN     NaN        NaN\n",
      "73     NaN     NaN      26.0        NaN    5.56  32.421  25.448349\n",
      "\n",
      "[74 rows x 7 columns]\n"
     ]
    }
   ],
   "source": [
    "print(result)"
   ]
  },
  {
   "cell_type": "code",
   "execution_count": 273,
   "metadata": {},
   "outputs": [],
   "source": [
    "import pandas as pd\n",
    "from functools import reduce\n",
    "hi = reduce(lambda x, y: pd.merge(x, y, on = 'pressure', how = 'outer'), data)"
   ]
  },
  {
   "cell_type": "code",
   "execution_count": 265,
   "metadata": {},
   "outputs": [],
   "source": [
    "hello = [data[0],data[1],data[2],data[3]]"
   ]
  },
  {
   "cell_type": "code",
   "execution_count": 266,
   "metadata": {},
   "outputs": [],
   "source": [
    "hellohello = reduce(lambda x, y: pd.merge(x, y, on = 'pressure', how = 'outer'), hello)"
   ]
  },
  {
   "cell_type": "code",
   "execution_count": 274,
   "metadata": {},
   "outputs": [
    {
     "name": "stdout",
     "output_type": "stream",
     "text": [
      "   temp     sal  pressure    density\n",
      "0  7.65  32.842       4.0  25.510070\n",
      "1  7.64  32.840       5.0  25.509912\n",
      "2  7.64  32.840       6.0  25.509912\n",
      "3  7.64  32.840       7.0  25.509912\n",
      "4  7.65  32.840       8.0  25.508506\n",
      "   temp     sal  pressure    density\n",
      "0  5.56  32.424       4.0  25.450710\n",
      "1  5.56  32.424       5.0  25.450710\n",
      "2  5.56  32.425       6.0  25.451497\n",
      "3  5.56  32.424       7.0  25.450710\n",
      "4  5.56  32.422       8.0  25.449136\n",
      "   temp     sal  pressure    density\n",
      "0  5.81  32.425       4.0  25.422126\n",
      "1  5.81  32.425       5.0  25.422126\n",
      "2  5.80  32.425       6.0  25.423315\n",
      "3  5.80  32.424       7.0  25.422529\n",
      "4  5.80  32.424       8.0  25.422529\n",
      "   temp     sal  pressure    density\n",
      "0  6.12  32.474       4.0  25.423198\n",
      "1  6.12  32.474       5.0  25.423198\n",
      "2  6.12  32.474       6.0  25.423198\n",
      "3  6.12  32.474       7.0  25.423198\n",
      "4  6.12  32.474       8.0  25.423198\n"
     ]
    }
   ],
   "source": [
    "print(data[0][0:5])\n",
    "print(data[1][0:5])\n",
    "print(data[2][0:5])\n",
    "print(data[3][0:5])"
   ]
  },
  {
   "cell_type": "code",
   "execution_count": 342,
   "metadata": {},
   "outputs": [
    {
     "data": {
      "text/html": [
       "<div>\n",
       "<style scoped>\n",
       "    .dataframe tbody tr th:only-of-type {\n",
       "        vertical-align: middle;\n",
       "    }\n",
       "\n",
       "    .dataframe tbody tr th {\n",
       "        vertical-align: top;\n",
       "    }\n",
       "\n",
       "    .dataframe thead th {\n",
       "        text-align: right;\n",
       "    }\n",
       "</style>\n",
       "<table border=\"1\" class=\"dataframe\">\n",
       "  <thead>\n",
       "    <tr style=\"text-align: right;\">\n",
       "      <th></th>\n",
       "      <th>temp_x</th>\n",
       "      <th>sal_x</th>\n",
       "      <th>pressure</th>\n",
       "      <th>density_x</th>\n",
       "      <th>temp_y</th>\n",
       "      <th>sal_y</th>\n",
       "      <th>density_y</th>\n",
       "      <th>temp_x</th>\n",
       "      <th>sal_x</th>\n",
       "      <th>density_x</th>\n",
       "      <th>temp_y</th>\n",
       "      <th>sal_y</th>\n",
       "      <th>density_y</th>\n",
       "    </tr>\n",
       "  </thead>\n",
       "  <tbody>\n",
       "    <tr>\n",
       "      <th>0</th>\n",
       "      <td>7.65</td>\n",
       "      <td>32.842</td>\n",
       "      <td>4.0</td>\n",
       "      <td>25.510070</td>\n",
       "      <td>5.56</td>\n",
       "      <td>32.424</td>\n",
       "      <td>25.450710</td>\n",
       "      <td>5.81</td>\n",
       "      <td>32.425</td>\n",
       "      <td>25.422126</td>\n",
       "      <td>6.12</td>\n",
       "      <td>32.474</td>\n",
       "      <td>25.423198</td>\n",
       "    </tr>\n",
       "    <tr>\n",
       "      <th>1</th>\n",
       "      <td>7.64</td>\n",
       "      <td>32.840</td>\n",
       "      <td>5.0</td>\n",
       "      <td>25.509912</td>\n",
       "      <td>5.56</td>\n",
       "      <td>32.424</td>\n",
       "      <td>25.450710</td>\n",
       "      <td>5.81</td>\n",
       "      <td>32.425</td>\n",
       "      <td>25.422126</td>\n",
       "      <td>6.12</td>\n",
       "      <td>32.474</td>\n",
       "      <td>25.423198</td>\n",
       "    </tr>\n",
       "    <tr>\n",
       "      <th>2</th>\n",
       "      <td>7.64</td>\n",
       "      <td>32.840</td>\n",
       "      <td>6.0</td>\n",
       "      <td>25.509912</td>\n",
       "      <td>5.56</td>\n",
       "      <td>32.425</td>\n",
       "      <td>25.451497</td>\n",
       "      <td>5.80</td>\n",
       "      <td>32.425</td>\n",
       "      <td>25.423315</td>\n",
       "      <td>6.12</td>\n",
       "      <td>32.474</td>\n",
       "      <td>25.423198</td>\n",
       "    </tr>\n",
       "    <tr>\n",
       "      <th>3</th>\n",
       "      <td>7.64</td>\n",
       "      <td>32.840</td>\n",
       "      <td>7.0</td>\n",
       "      <td>25.509912</td>\n",
       "      <td>5.56</td>\n",
       "      <td>32.424</td>\n",
       "      <td>25.450710</td>\n",
       "      <td>5.80</td>\n",
       "      <td>32.424</td>\n",
       "      <td>25.422529</td>\n",
       "      <td>6.12</td>\n",
       "      <td>32.474</td>\n",
       "      <td>25.423198</td>\n",
       "    </tr>\n",
       "    <tr>\n",
       "      <th>4</th>\n",
       "      <td>7.65</td>\n",
       "      <td>32.840</td>\n",
       "      <td>8.0</td>\n",
       "      <td>25.508506</td>\n",
       "      <td>5.56</td>\n",
       "      <td>32.422</td>\n",
       "      <td>25.449136</td>\n",
       "      <td>5.80</td>\n",
       "      <td>32.424</td>\n",
       "      <td>25.422529</td>\n",
       "      <td>6.12</td>\n",
       "      <td>32.474</td>\n",
       "      <td>25.423198</td>\n",
       "    </tr>\n",
       "  </tbody>\n",
       "</table>\n",
       "</div>"
      ],
      "text/plain": [
       "   temp_x   sal_x  pressure  density_x  temp_y   sal_y  density_y  temp_x  \\\n",
       "0    7.65  32.842       4.0  25.510070    5.56  32.424  25.450710    5.81   \n",
       "1    7.64  32.840       5.0  25.509912    5.56  32.424  25.450710    5.81   \n",
       "2    7.64  32.840       6.0  25.509912    5.56  32.425  25.451497    5.80   \n",
       "3    7.64  32.840       7.0  25.509912    5.56  32.424  25.450710    5.80   \n",
       "4    7.65  32.840       8.0  25.508506    5.56  32.422  25.449136    5.80   \n",
       "\n",
       "    sal_x  density_x  temp_y   sal_y  density_y  \n",
       "0  32.425  25.422126    6.12  32.474  25.423198  \n",
       "1  32.425  25.422126    6.12  32.474  25.423198  \n",
       "2  32.425  25.423315    6.12  32.474  25.423198  \n",
       "3  32.424  25.422529    6.12  32.474  25.423198  \n",
       "4  32.424  25.422529    6.12  32.474  25.423198  "
      ]
     },
     "execution_count": 342,
     "metadata": {},
     "output_type": "execute_result"
    }
   ],
   "source": [
    "hellohello[0:5]"
   ]
  },
  {
   "cell_type": "code",
   "execution_count": 343,
   "metadata": {},
   "outputs": [],
   "source": [
    "df4 = hellohello.mean(axis=1,level=0)"
   ]
  },
  {
   "cell_type": "code",
   "execution_count": 365,
   "metadata": {},
   "outputs": [],
   "source": [
    "newhi = hellohello.sort_values(['pressure'], ascending=True, inplace=True)\n"
   ]
  },
  {
   "cell_type": "code",
   "execution_count": 367,
   "metadata": {},
   "outputs": [
    {
     "name": "stdout",
     "output_type": "stream",
     "text": [
      "None\n"
     ]
    }
   ],
   "source": [
    "print(newhi)"
   ]
  },
  {
   "cell_type": "code",
   "execution_count": 363,
   "metadata": {},
   "outputs": [
    {
     "name": "stdout",
     "output_type": "stream",
     "text": [
      "    temp_x   sal_x  pressure  density_x  temp_y   sal_y  density_y  temp_x  \\\n",
      "0     7.65  32.842       4.0  25.510070    5.56  32.424  25.450710    5.81   \n",
      "1     7.64  32.840       5.0  25.509912    5.56  32.424  25.450710    5.81   \n",
      "2     7.64  32.840       6.0  25.509912    5.56  32.425  25.451497    5.80   \n",
      "3     7.64  32.840       7.0  25.509912    5.56  32.424  25.450710    5.80   \n",
      "4     7.65  32.840       8.0  25.508506    5.56  32.422  25.449136    5.80   \n",
      "..     ...     ...       ...        ...     ...     ...        ...     ...   \n",
      "68    8.28  33.084      73.0  25.608120     NaN     NaN        NaN     NaN   \n",
      "69    8.28  33.084      74.0  25.608120     NaN     NaN        NaN     NaN   \n",
      "70    8.28  33.083      75.0  25.607339     NaN     NaN        NaN     NaN   \n",
      "71    8.28  33.084      76.0  25.608120     NaN     NaN        NaN     NaN   \n",
      "72    8.28  33.083      77.0  25.607339     NaN     NaN        NaN     NaN   \n",
      "\n",
      "     sal_x  density_x  temp_y   sal_y  density_y  \n",
      "0   32.425  25.422126    6.12  32.474  25.423198  \n",
      "1   32.425  25.422126    6.12  32.474  25.423198  \n",
      "2   32.425  25.423315    6.12  32.474  25.423198  \n",
      "3   32.424  25.422529    6.12  32.474  25.423198  \n",
      "4   32.424  25.422529    6.12  32.474  25.423198  \n",
      "..     ...        ...     ...     ...        ...  \n",
      "68     NaN        NaN     NaN     NaN        NaN  \n",
      "69     NaN        NaN     NaN     NaN        NaN  \n",
      "70     NaN        NaN     NaN     NaN        NaN  \n",
      "71     NaN        NaN     NaN     NaN        NaN  \n",
      "72     NaN        NaN     NaN     NaN        NaN  \n",
      "\n",
      "[74 rows x 13 columns]\n"
     ]
    }
   ],
   "source": [
    "print(hellohello)"
   ]
  },
  {
   "cell_type": "code",
   "execution_count": 344,
   "metadata": {},
   "outputs": [
    {
     "name": "stdout",
     "output_type": "stream",
     "text": [
      "    temp_x    sal_x  pressure  density_x  temp_y    sal_y  density_y\n",
      "0    6.730  32.6335       4.0  25.466098   5.840  32.4490  25.436954\n",
      "1    6.725  32.6325       5.0  25.466019   5.840  32.4490  25.436954\n",
      "2    6.720  32.6325       6.0  25.466614   5.840  32.4495  25.437347\n",
      "3    6.720  32.6320       7.0  25.466221   5.840  32.4490  25.436954\n",
      "4    6.725  32.6320       8.0  25.465517   5.840  32.4480  25.436167\n",
      "..     ...      ...       ...        ...     ...      ...        ...\n",
      "69   8.280  33.0840      74.0  25.608120     NaN      NaN        NaN\n",
      "70   8.280  33.0830      75.0  25.607339     NaN      NaN        NaN\n",
      "71   8.280  33.0840      76.0  25.608120     NaN      NaN        NaN\n",
      "72   8.280  33.0830      77.0  25.607339     NaN      NaN        NaN\n",
      "73   5.810  32.4250      26.0  25.422126   5.835  32.4470  25.435993\n",
      "\n",
      "[74 rows x 7 columns]\n"
     ]
    }
   ],
   "source": [
    "print(df4)"
   ]
  },
  {
   "cell_type": "code",
   "execution_count": 345,
   "metadata": {},
   "outputs": [],
   "source": [
    "df = df4.sort_values(['pressure'])\n"
   ]
  },
  {
   "cell_type": "code",
   "execution_count": 369,
   "metadata": {},
   "outputs": [
    {
     "name": "stdout",
     "output_type": "stream",
     "text": [
      "25.436953738965258 25.466098016719684\n",
      "25.436953738965258 25.466019342363325\n",
      "25.437347240110284 25.466613700147832\n",
      "25.436953738965258 25.46622050596966\n",
      "25.436166736963514 25.46551727177996\n",
      "25.43655953062239 25.465313880951044\n",
      "25.436166029765786 25.466803490070788\n",
      "25.43655953062239 25.466019342363325\n",
      "25.43695303157517 25.466410308532318\n",
      "25.437347240110284 25.465707062391743\n",
      "25.436560237916297 25.46559537195685\n",
      "25.43655953062239 25.46656703615247\n",
      "25.436166736963514 25.46677045122658\n",
      "25.436166029765786 25.467081089310796\n",
      "25.43577323610691 25.46669013476344\n",
      "25.436166736963514 25.465984062967777\n",
      "25.435380442547853 25.466768199758803\n",
      "25.43577323610691 25.467706651048047\n",
      "25.436779556961255 25.47005216962941\n",
      "25.436386056104652 25.46921870036749\n",
      "25.43577323610691 25.470933923155826\n",
      "25.436386056104652 25.47257115191178\n",
      "25.435993249941703 25.422126239978525\n",
      "25.4350193687427 25.473496166502514\n",
      "25.435599749181165 25.475131387782767\n",
      "25.434625880917565 25.47630387209324\n",
      "25.435599749181165 25.477549919861758\n",
      "25.435412856664016 25.479506369627984\n",
      "25.43462656267957 25.479576936765056\n",
      "25.435206943118033 25.4819241477785\n",
      "25.435206943118033 25.484338829872513\n",
      "25.43560044387857 25.478219573131923\n",
      "25.436387445687956 25.48506985754716\n",
      "25.43560044387857 25.485782065200397\n",
      "25.435206943118033 25.484676675813034\n",
      "25.435206943118033 25.488972015999366\n",
      "25.43560044387857 25.491378540635537\n",
      "25.43462656267957 25.49255303724135\n",
      "25.42363786285273 25.56530863926355\n",
      "25.42363786285273 25.564402459592202\n",
      "25.42363786285273 25.55071067052313\n",
      "25.422852250726464 25.565014913700452\n",
      "25.422852250726464 25.56813980893662\n",
      "25.422852250726464 25.566696248069775\n",
      "25.422852250726464 25.568376305583115\n",
      "25.422852250726464 25.57083624187294\n",
      "25.422852250726464 25.569389195166195\n",
      "25.42363786285273 25.57485712305038\n",
      "nan 25.574189930451894\n",
      "nan 25.57575215081829\n",
      "nan 25.575976388735853\n",
      "nan 25.56703902660979\n",
      "nan 25.582868129965163\n",
      "nan 25.58395464911814\n",
      "nan 25.584054152209774\n",
      "nan 25.58795833124009\n",
      "nan 25.58795833124009\n",
      "nan 25.58717749498328\n",
      "nan 25.58795833124009\n",
      "nan 25.58795833124009\n",
      "nan 25.588837352653854\n",
      "nan 25.59049593952841\n",
      "nan 25.59196060866725\n",
      "nan 25.592057521918377\n",
      "nan 25.595464078963232\n",
      "nan 25.597898287082216\n",
      "nan 25.597898287082216\n",
      "nan 25.604670297493385\n",
      "nan 25.60717790953754\n",
      "nan 25.608119598207168\n",
      "nan 25.608119598207168\n",
      "nan 25.60733912416231\n",
      "nan 25.608119598207168\n",
      "nan 25.60733912416231\n"
     ]
    }
   ],
   "source": [
    "for i in range(len(df)):\n",
    "    dens_x_df = df['density_x'].tolist()\n",
    "    dens_y_df = df['density_y'].tolist()\n",
    "    print(dens_y_df[i], dens_x_df[i])"
   ]
  },
  {
   "cell_type": "code",
   "execution_count": null,
   "metadata": {},
   "outputs": [],
   "source": [
    "25.607339 = density_x 77m"
   ]
  },
  {
   "cell_type": "code",
   "execution_count": 338,
   "metadata": {},
   "outputs": [
    {
     "name": "stdout",
     "output_type": "stream",
     "text": [
      "None\n"
     ]
    }
   ],
   "source": [
    "print(df)"
   ]
  },
  {
   "cell_type": "code",
   "execution_count": 353,
   "metadata": {},
   "outputs": [
    {
     "name": "stdout",
     "output_type": "stream",
     "text": [
      "[4.0, 5.0, 6.0, 7.0, 8.0, 9.0, 10.0, 11.0, 12.0, 13.0, 14.0, 15.0, 16.0, 17.0, 18.0, 19.0, 20.0, 21.0, 22.0, 23.0, 24.0, 25.0, 26.0, 27.0, 28.0, 29.0, 30.0, 31.0, 32.0, 33.0, 34.0, 35.0, 36.0, 37.0, 38.0, 39.0, 40.0, 41.0, 42.0, 43.0, 44.0, 45.0, 46.0, 47.0, 48.0, 49.0, 50.0, 51.0, 52.0, 53.0, 54.0, 55.0, 56.0, 57.0, 58.0, 59.0, 60.0, 61.0, 62.0, 63.0, 64.0, 65.0, 66.0, 67.0, 68.0, 69.0, 70.0, 71.0, 72.0, 73.0, 74.0, 75.0, 76.0, 77.0]\n"
     ]
    }
   ],
   "source": [
    "# print(df['pressure'])\n",
    "\n",
    "pressure_sorted = df['pressure'].tolist()\n",
    "print(pressure_sorted)"
   ]
  },
  {
   "cell_type": "code",
   "execution_count": 352,
   "metadata": {},
   "outputs": [],
   "source": [
    "for i in range(len(newone)):\n",
    "    pressure_val = pressure_sorted[i]\n",
    "    "
   ]
  },
  {
   "cell_type": "code",
   "execution_count": 326,
   "metadata": {},
   "outputs": [],
   "source": [
    "salinity = []\n",
    "temp = []\n",
    "dens = []\n",
    "pressure_new = []\n",
    "\n",
    "for i in range(len(newone)):\n",
    "    salinity_val = np.nanmean([newone['sal_x'][i], newone['sal_y'][i]])\n",
    "    temp_val = np.nanmean([newone['temp_x'][i], newone['temp_y'][i]])\n",
    "    dens_val = np.nanmean([newone['density_x'][i], newone['density_y'][i]])\n",
    "    salinity.append(salinity_val)\n",
    "    temp.append(temp_val)\n",
    "    dens.append(dens_val)\n",
    "    \n",
    "    pressure_val = pressure_sorted[i]\n",
    "    pressure.append(pressure_val)"
   ]
  },
  {
   "cell_type": "code",
   "execution_count": 327,
   "metadata": {},
   "outputs": [
    {
     "name": "stdout",
     "output_type": "stream",
     "text": [
      "74\n"
     ]
    }
   ],
   "source": [
    "print(len(salinity))"
   ]
  },
  {
   "cell_type": "code",
   "execution_count": 328,
   "metadata": {},
   "outputs": [
    {
     "name": "stdout",
     "output_type": "stream",
     "text": [
      "[4.0, 5.0, 6.0, 7.0, 8.0, 9.0, 10.0, 11.0, 12.0, 13.0, 14.0, 15.0, 16.0, 17.0, 18.0, 19.0, 20.0, 21.0, 22.0, 23.0, 24.0, 25.0, 27.0, 28.0, 29.0, 30.0, 31.0, 32.0, 33.0, 34.0, 35.0, 36.0, 37.0, 38.0, 39.0, 40.0, 41.0, 42.0, 43.0, 44.0, 45.0, 46.0, 47.0, 48.0, 49.0, 50.0, 51.0, 52.0, 53.0, 54.0, 55.0, 56.0, 57.0, 58.0, 59.0, 60.0, 61.0, 62.0, 63.0, 64.0, 65.0, 66.0, 67.0, 68.0, 69.0, 70.0, 71.0, 72.0, 73.0, 74.0, 75.0, 76.0, 77.0, 26.0, 4.0, 5.0, 6.0, 7.0, 8.0, 9.0, 10.0, 11.0, 12.0, 13.0, 14.0, 15.0, 16.0, 17.0, 18.0, 19.0, 20.0, 21.0, 22.0, 23.0, 24.0, 25.0, 27.0, 28.0, 29.0, 30.0, 31.0, 32.0, 33.0, 34.0, 35.0, 36.0, 37.0, 38.0, 39.0, 40.0, 41.0, 42.0, 43.0, 44.0, 45.0, 46.0, 47.0, 48.0, 49.0, 50.0, 51.0, 52.0, 53.0, 54.0, 55.0, 56.0, 57.0, 58.0, 59.0, 60.0, 61.0, 62.0, 63.0, 64.0, 65.0, 66.0, 67.0, 68.0, 69.0, 70.0, 71.0, 72.0, 73.0, 74.0, 75.0, 76.0, 77.0, 26.0]\n"
     ]
    }
   ],
   "source": [
    "print(pressure)"
   ]
  },
  {
   "cell_type": "code",
   "execution_count": 321,
   "metadata": {},
   "outputs": [
    {
     "data": {
      "image/png": "[encoded data removed]",
      "text/plain": [
       "<Figure size 432x288 with 1 Axes>"
      ]
     },
     "metadata": {
      "needs_background": "light"
     },
     "output_type": "display_data"
    }
   ],
   "source": [
    "plt.plot(salinity, pressure)\n",
    "plt.show()"
   ]
  },
  {
   "cell_type": "code",
   "execution_count": 269,
   "metadata": {},
   "outputs": [
    {
     "name": "stdout",
     "output_type": "stream",
     "text": [
      "Index(['temp_x', 'sal_x', 'pressure', 'density_x', 'temp_y', 'sal_y',\n",
      "       'density_y', 'temp_x', 'sal_x', 'density_x', 'temp_y', 'sal_y',\n",
      "       'density_y'],\n",
      "      dtype='object')\n"
     ]
    }
   ],
   "source": [
    "print(hellohello.keys())"
   ]
  },
  {
   "cell_type": "code",
   "execution_count": 151,
   "metadata": {},
   "outputs": [],
   "source": [
    "hi = reduce(lambda x, y: pd.merge(x, y, on = 'pressure', how = 'outer'), data)"
   ]
  },
  {
   "cell_type": "code",
   "execution_count": 248,
   "metadata": {},
   "outputs": [
    {
     "name": "stdout",
     "output_type": "stream",
     "text": [
      "      temp_x   sal_x  pressure  density_x  temp_y   sal_y  density_y  temp_x  \\\n",
      "0       7.65  32.842       4.0  25.510070    5.56  32.424  25.450710    5.81   \n",
      "1       7.64  32.840       5.0  25.509912    5.56  32.424  25.450710    5.81   \n",
      "2       7.64  32.840       6.0  25.509912    5.56  32.425  25.451497    5.80   \n",
      "3       7.64  32.840       7.0  25.509912    5.56  32.424  25.450710    5.80   \n",
      "4       7.65  32.840       8.0  25.508506    5.56  32.422  25.449136    5.80   \n",
      "...      ...     ...       ...        ...     ...     ...        ...     ...   \n",
      "1523     NaN     NaN     427.0        NaN     NaN     NaN        NaN     NaN   \n",
      "1524     NaN     NaN     428.0        NaN     NaN     NaN        NaN     NaN   \n",
      "1525     NaN     NaN     429.0        NaN     NaN     NaN        NaN     NaN   \n",
      "1526     NaN     NaN     430.0        NaN     NaN     NaN        NaN     NaN   \n",
      "1527     NaN     NaN     431.0        NaN     NaN     NaN        NaN     NaN   \n",
      "\n",
      "       sal_x  density_x  ...  density_y    temp_x      sal_x  density_x  \\\n",
      "0     32.425  25.422126  ...  25.810003  6.269286  33.016252  25.830577   \n",
      "1     32.425  25.422126  ...  25.809245  6.271145  33.017794  25.831554   \n",
      "2     32.425  25.423315  ...  25.808775  6.269905  33.016158  25.830426   \n",
      "3     32.424  25.422529  ...  25.807556  6.270762  33.016988  25.830969   \n",
      "4     32.424  25.422529  ...  25.804935  6.276978  33.020159  25.832678   \n",
      "...      ...        ...  ...        ...       ...        ...        ...   \n",
      "1523     NaN        NaN  ...        NaN       NaN        NaN        NaN   \n",
      "1524     NaN        NaN  ...        NaN       NaN        NaN        NaN   \n",
      "1525     NaN        NaN  ...        NaN       NaN        NaN        NaN   \n",
      "1526     NaN        NaN  ...        NaN       NaN        NaN        NaN   \n",
      "1527     NaN        NaN  ...        NaN       NaN        NaN        NaN   \n",
      "\n",
      "        temp_y      sal_y  density_y      temp        sal    density  \n",
      "0     6.880250  33.264581  25.946324  6.824796  33.256761  25.947562  \n",
      "1     6.878553  33.264658  25.946611  6.820349  33.257285  25.948562  \n",
      "2     6.882656  33.265093  25.946405  6.816870  33.256330  25.948274  \n",
      "3     6.885485  33.264840  25.945829  6.820948  33.256536  25.947896  \n",
      "4     6.884889  33.264388  25.945554  6.825846  33.256185  25.946971  \n",
      "...        ...        ...        ...       ...        ...        ...  \n",
      "1523       NaN        NaN        NaN       NaN        NaN        NaN  \n",
      "1524       NaN        NaN        NaN       NaN        NaN        NaN  \n",
      "1525       NaN        NaN        NaN       NaN        NaN        NaN  \n",
      "1526       NaN        NaN        NaN       NaN        NaN        NaN  \n",
      "1527       NaN        NaN        NaN       NaN        NaN        NaN  \n",
      "\n",
      "[1528 rows x 4684 columns]\n"
     ]
    }
   ],
   "source": [
    "print(hi)"
   ]
  },
  {
   "cell_type": "code",
   "execution_count": 249,
   "metadata": {},
   "outputs": [
    {
     "name": "stdout",
     "output_type": "stream",
     "text": [
      "Index(['temp_x', 'sal_x', 'pressure', 'density_x', 'temp_y', 'sal_y',\n",
      "       'density_y', 'temp_x', 'sal_x', 'density_x',\n",
      "       ...\n",
      "       'density_y', 'temp_x', 'sal_x', 'density_x', 'temp_y', 'sal_y',\n",
      "       'density_y', 'temp', 'sal', 'density'],\n",
      "      dtype='object', length=4684)\n"
     ]
    }
   ],
   "source": [
    "print(hi.keys())"
   ]
  },
  {
   "cell_type": "code",
   "execution_count": 152,
   "metadata": {},
   "outputs": [],
   "source": [
    "newone = hi.sort_values(by=['pressure'])"
   ]
  },
  {
   "cell_type": "code",
   "execution_count": 243,
   "metadata": {},
   "outputs": [
    {
     "name": "stdout",
     "output_type": "stream",
     "text": [
      "Index(['pressure', 'temp', 'sal', 'density'], dtype='object')\n"
     ]
    }
   ],
   "source": [
    "print(newone.keys())"
   ]
  },
  {
   "cell_type": "code",
   "execution_count": 154,
   "metadata": {},
   "outputs": [],
   "source": [
    "df3 = newone.mean(axis=1,level=0)"
   ]
  },
  {
   "cell_type": "code",
   "execution_count": 155,
   "metadata": {},
   "outputs": [
    {
     "name": "stdout",
     "output_type": "stream",
     "text": [
      "      temp_x    sal_x  pressure  density_x  temp_y   sal_y  density_y  temp  \\\n",
      "935      NaN      NaN       2.0        NaN    4.97  32.024  25.201733   NaN   \n",
      "1068   4.780  32.0830       2.7  25.268600     NaN     NaN        NaN   NaN   \n",
      "996      NaN      NaN       2.8        NaN    4.83  32.074  25.256187   NaN   \n",
      "125    7.005  32.6675       3.0  25.460911    3.91  32.331  25.552495   NaN   \n",
      "500    5.615  32.2705       3.1  25.321415     NaN     NaN        NaN   NaN   \n",
      "...      ...      ...       ...        ...     ...     ...        ...   ...   \n",
      "1523   7.560  35.1120     427.0  27.298679     NaN     NaN        NaN   NaN   \n",
      "1524   7.570  35.1020     428.0  27.289402     NaN     NaN        NaN   NaN   \n",
      "1525   7.650  35.1150     429.0  27.287921     NaN     NaN        NaN   NaN   \n",
      "1526   7.610  35.1120     430.0  27.291410     NaN     NaN        NaN   NaN   \n",
      "1527   7.360  35.0980     431.0  27.316524     NaN     NaN        NaN   NaN   \n",
      "\n",
      "      sal  density  \n",
      "935   NaN      NaN  \n",
      "1068  NaN      NaN  \n",
      "996   NaN      NaN  \n",
      "125   NaN      NaN  \n",
      "500   NaN      NaN  \n",
      "...   ...      ...  \n",
      "1523  NaN      NaN  \n",
      "1524  NaN      NaN  \n",
      "1525  NaN      NaN  \n",
      "1526  NaN      NaN  \n",
      "1527  NaN      NaN  \n",
      "\n",
      "[1528 rows x 10 columns]\n"
     ]
    }
   ],
   "source": [
    "print(df3)"
   ]
  },
  {
   "cell_type": "code",
   "execution_count": 156,
   "metadata": {},
   "outputs": [
    {
     "name": "stdout",
     "output_type": "stream",
     "text": [
      "Index(['temp_x', 'sal_x', 'pressure', 'density_x', 'temp_y', 'sal_y',\n",
      "       'density_y', 'temp', 'sal', 'density'],\n",
      "      dtype='object')\n"
     ]
    }
   ],
   "source": [
    "print(df3.keys())"
   ]
  },
  {
   "cell_type": "code",
   "execution_count": 157,
   "metadata": {},
   "outputs": [],
   "source": [
    "temp = []\n",
    "density = []\n",
    "sal = []\n",
    "pressure = []\n",
    "for i in range(len(sorted)):\n",
    "    temp_mean = np.nanmean([df3['temp_x'][i], df3['temp_y'][i]])\n",
    "    sal_mean = np.nanmean([df3['sal_x'][i], df3['sal_y'][i]])\n",
    "    density_mean = np.nanmean([df3['density_x'][i], df3['density_y'][i]])\n",
    "    temp.append(temp_mean)\n",
    "    sal.append(sal_mean)\n",
    "    density.append(density_mean)\n",
    "    pressure.append((df3['pressure'][i])*-1)\n",
    "# temp_x\n",
    "# sal_x\n",
    "# density_x"
   ]
  },
  {
   "cell_type": "code",
   "execution_count": 161,
   "metadata": {},
   "outputs": [
    {
     "name": "stdout",
     "output_type": "stream",
     "text": [
      "      pressure    temp       sal    density\n",
      "368     -371.0  7.9850  35.13650  27.251599\n",
      "367     -370.0  8.0650  35.14300  27.244752\n",
      "366     -369.0  8.1300  35.14300  27.234536\n",
      "365     -368.0  8.1550  35.14500  27.232172\n",
      "364     -367.0  8.1700  35.14650  27.231117\n",
      "...        ...     ...       ...        ...\n",
      "500       -3.1  5.6150  32.27050  25.321415\n",
      "125       -3.0  5.4575  32.49925  25.506703\n",
      "996       -2.8  4.8300  32.07400  25.256187\n",
      "1068      -2.7  4.7800  32.08300  25.268600\n",
      "935       -2.0  4.9700  32.02400  25.201733\n",
      "\n",
      "[1468 rows x 4 columns]\n"
     ]
    }
   ],
   "source": [
    "print(newdfdf.sort_values(by=['pressure']))"
   ]
  },
  {
   "cell_type": "code",
   "execution_count": 158,
   "metadata": {},
   "outputs": [],
   "source": [
    "newdfdf = pd.DataFrame({'pressure': pressure,'temp': temp,'sal': sal, 'density': density})"
   ]
  },
  {
   "cell_type": "code",
   "execution_count": 162,
   "metadata": {},
   "outputs": [],
   "source": [
    "newone = newdfdf.sort_values(by=['pressure'])"
   ]
  },
  {
   "cell_type": "code",
   "execution_count": 163,
   "metadata": {},
   "outputs": [
    {
     "name": "stdout",
     "output_type": "stream",
     "text": [
      "     pressure   temp      sal    density\n",
      "368    -371.0  7.985  35.1365  27.251599\n",
      "367    -370.0  8.065  35.1430  27.244752\n",
      "366    -369.0  8.130  35.1430  27.234536\n",
      "365    -368.0  8.155  35.1450  27.232172\n",
      "364    -367.0  8.170  35.1465  27.231117\n",
      "363    -366.0  8.205  35.1525  27.230637\n",
      "362    -365.0  8.220  35.1500  27.226709\n",
      "361    -364.0  8.240  35.1480  27.222093\n",
      "360    -363.0  8.260  35.1495  27.220127\n",
      "359    -362.0  8.275  35.1500  27.218182\n",
      "      pressure      temp        sal    density\n",
      "1192    -292.9  7.560000  34.884500  27.115763\n",
      "794     -292.4  7.570000  35.015000  27.221316\n",
      "289     -292.0  9.508333  35.256167  27.090160\n",
      "1191    -291.9  7.610000  34.890000  27.112386\n",
      "793     -291.6  7.570000  35.016000  27.222099\n",
      "...        ...       ...        ...        ...\n",
      "949      -54.4  5.110000  32.328375  25.425507\n",
      "1430     -54.3  4.580000  32.562000  25.667745\n",
      "897      -54.1  5.265833  32.245000  25.340387\n",
      "49       -54.0  6.605055  32.908889  25.674342\n",
      "397      -53.9  6.685833  32.703583  25.510654\n",
      "\n",
      "[900 rows x 4 columns]\n"
     ]
    }
   ],
   "source": [
    "print(newone[0:10])\n",
    "print(newone[100:1000])"
   ]
  },
  {
   "cell_type": "code",
   "execution_count": 145,
   "metadata": {},
   "outputs": [
    {
     "name": "stdout",
     "output_type": "stream",
     "text": [
      "1468\n",
      "1468\n",
      "1468\n",
      "1468\n"
     ]
    }
   ],
   "source": [
    "print(len(temp))\n",
    "print(len(density))\n",
    "print(len(sal))\n",
    "print(len(pressure))"
   ]
  },
  {
   "cell_type": "code",
   "execution_count": 165,
   "metadata": {},
   "outputs": [
    {
     "name": "stdout",
     "output_type": "stream",
     "text": [
      "      pressure    temp       sal    density\n",
      "368     -371.0  7.9850  35.13650  27.251599\n",
      "367     -370.0  8.0650  35.14300  27.244752\n",
      "366     -369.0  8.1300  35.14300  27.234536\n",
      "365     -368.0  8.1550  35.14500  27.232172\n",
      "364     -367.0  8.1700  35.14650  27.231117\n",
      "...        ...     ...       ...        ...\n",
      "500       -3.1  5.6150  32.27050  25.321415\n",
      "125       -3.0  5.4575  32.49925  25.506703\n",
      "996       -2.8  4.8300  32.07400  25.256187\n",
      "1068      -2.7  4.7800  32.08300  25.268600\n",
      "935       -2.0  4.9700  32.02400  25.201733\n",
      "\n",
      "[1468 rows x 4 columns]\n"
     ]
    }
   ],
   "source": [
    "print(newone)"
   ]
  },
  {
   "cell_type": "code",
   "execution_count": 172,
   "metadata": {},
   "outputs": [],
   "source": [
    "newone.pressure = newone.pressure.round()"
   ]
  },
  {
   "cell_type": "code",
   "execution_count": 177,
   "metadata": {},
   "outputs": [],
   "source": [
    "df_new = newone.groupby(newone['pressure']).aggregate('mean')\n"
   ]
  },
  {
   "cell_type": "code",
   "execution_count": 207,
   "metadata": {},
   "outputs": [],
   "source": [
    "dfdffinal = pd.DataFrame({'pressure': df_new.index*-1,'temp': df_new['temp'],'density': df_new['density'], 'salinity': df_new['sal']})"
   ]
  },
  {
   "cell_type": "code",
   "execution_count": 210,
   "metadata": {},
   "outputs": [
    {
     "name": "stdout",
     "output_type": "stream",
     "text": [
      "pressure\n",
      "-371.0    371.0\n",
      "-370.0    370.0\n",
      "-369.0    369.0\n",
      "-368.0    368.0\n",
      "-367.0    367.0\n",
      "          ...  \n",
      "-6.0        6.0\n",
      "-5.0        5.0\n",
      "-4.0        4.0\n",
      "-3.0        3.0\n",
      "-2.0        2.0\n",
      "Name: pressure, Length: 370, dtype: float64\n"
     ]
    }
   ],
   "source": [
    "print(dfdffinal['pressure'])"
   ]
  },
  {
   "cell_type": "code",
   "execution_count": 183,
   "metadata": {},
   "outputs": [
    {
     "name": "stdout",
     "output_type": "stream",
     "text": [
      "Float64Index([-371.0, -370.0, -369.0, -368.0, -367.0, -366.0, -365.0, -364.0,\n",
      "              -363.0, -362.0,\n",
      "              ...\n",
      "               -11.0,  -10.0,   -9.0,   -8.0,   -7.0,   -6.0,   -5.0,   -4.0,\n",
      "                -3.0,   -2.0],\n",
      "             dtype='float64', name='pressure', length=370)\n"
     ]
    }
   ],
   "source": [
    "print(df_new.index)"
   ]
  },
  {
   "cell_type": "code",
   "execution_count": 184,
   "metadata": {},
   "outputs": [
    {
     "data": {
      "image/png": "[encoded data removed]",
      "text/plain": [
       "<Figure size 720x720 with 1 Axes>"
      ]
     },
     "metadata": {
      "needs_background": "light"
     },
     "output_type": "display_data"
    }
   ],
   "source": [
    "plt.figure(figsize=(10,10))\n",
    "plt.figure(1)\n",
    "\n",
    "# plt.scatter(temp,pressure, color='blue', s = 5, alpha = 0.2)\n",
    "# plt.hist2d(newone['temp'],newone['pressure'], bins = 150, cmap = 'ocean_r') #150\n",
    "plt.plot(df_new['temp'],df_new.index) #150\n",
    "\n",
    "\n",
    "plt.show()"
   ]
  },
  {
   "cell_type": "code",
   "execution_count": 186,
   "metadata": {},
   "outputs": [
    {
     "data": {
      "image/png": "[encoded data removed]",
      "text/plain": [
       "<Figure size 720x720 with 1 Axes>"
      ]
     },
     "metadata": {
      "needs_background": "light"
     },
     "output_type": "display_data"
    }
   ],
   "source": [
    "plt.figure(figsize=(10,10))\n",
    "plt.figure(1)\n",
    "\n",
    "# plt.hist2d(newone['sal'],newone['pressure'], bins = 200, cmap = 'ocean_r') #150\n",
    "plt.plot(df_new['sal'],df_new.index) #150\n",
    "\n",
    "\n",
    "plt.show()"
   ]
  },
  {
   "cell_type": "code",
   "execution_count": 240,
   "metadata": {},
   "outputs": [
    {
     "data": {
      "text/plain": [
       "[<matplotlib.lines.Line2D at 0xd1fbe66a0>]"
      ]
     },
     "execution_count": 240,
     "metadata": {},
     "output_type": "execute_result"
    },
    {
     "data": {
      "image/png": "[encoded data removed]",
      "text/plain": [
       "<Figure size 432x288 with 3 Axes>"
      ]
     },
     "metadata": {
      "needs_background": "light"
     },
     "output_type": "display_data"
    }
   ],
   "source": [
    "fig, (ax1,ax2,ax3) = plt.subplots(1,3)\n",
    "# ax1.plot(df_new['density'][-21:2],df_new.index[350:370],color='purple')\n",
    "# ax2.plot(df_new['sal'][-21:2],df_new.index[350:370],color='purple')\n",
    "# ax3.plot(df_new['temp'][-21:2],df_new.index[350:370],color='purple')\n",
    "\n",
    "ax1.plot(df_new['density'],df_new.index,color='blue')\n",
    "ax2.plot(df_new['sal'],df_new.index,color='purple')\n",
    "ax3.plot(df_new['temp'],df_new.index,color='red')\n",
    "\n",
    "\n"
   ]
  },
  {
   "cell_type": "code",
   "execution_count": 241,
   "metadata": {},
   "outputs": [
    {
     "name": "stdout",
     "output_type": "stream",
     "text": [
      "              temp        sal    density\n",
      "pressure                                \n",
      "-371.0    7.985000  35.136500  27.251599\n",
      "-370.0    8.065000  35.143000  27.244752\n",
      "-369.0    8.130000  35.143000  27.234536\n",
      "-368.0    8.155000  35.145000  27.232172\n",
      "-367.0    8.170000  35.146500  27.231117\n",
      "...            ...        ...        ...\n",
      "-6.0      5.294978  32.319277  25.389749\n",
      "-5.0      5.248865  32.284428  25.366142\n",
      "-4.0      5.183476  32.275174  25.369389\n",
      "-3.0      4.891786  32.182232  25.328965\n",
      "-2.0      4.970000  32.024000  25.201733\n",
      "\n",
      "[370 rows x 3 columns]\n"
     ]
    }
   ],
   "source": [
    "print(df_new)"
   ]
  },
  {
   "cell_type": "code",
   "execution_count": 228,
   "metadata": {},
   "outputs": [
    {
     "data": {
      "text/plain": [
       "Float64Index([-21.0, -20.0, -19.0, -18.0, -17.0, -16.0, -15.0, -14.0, -13.0,\n",
       "              -12.0, -11.0, -10.0,  -9.0,  -8.0,  -7.0,  -6.0,  -5.0,  -4.0,\n",
       "               -3.0,  -2.0],\n",
       "             dtype='float64', name='pressure')"
      ]
     },
     "execution_count": 228,
     "metadata": {},
     "output_type": "execute_result"
    }
   ],
   "source": [
    "df_new.index[350:370]"
   ]
  },
  {
   "cell_type": "code",
   "execution_count": 232,
   "metadata": {},
   "outputs": [
    {
     "data": {
      "text/plain": [
       "pressure\n",
       "-21.0    25.364561\n",
       "-20.0    25.401841\n",
       "-19.0    25.432934\n",
       "-18.0    25.383076\n",
       "-17.0    25.354223\n",
       "-16.0    25.378247\n",
       "-15.0    25.360235\n",
       "-14.0    25.386838\n",
       "-13.0    25.372222\n",
       "-12.0    25.372572\n",
       "-11.0    25.397809\n",
       "-10.0    25.358755\n",
       "-9.0     25.369077\n",
       "-8.0     25.388608\n",
       "-7.0     25.370885\n",
       "-6.0     25.389749\n",
       "-5.0     25.366142\n",
       "-4.0     25.369389\n",
       "-3.0     25.328965\n",
       "-2.0     25.201733\n",
       "Name: density, dtype: float64"
      ]
     },
     "execution_count": 232,
     "metadata": {},
     "output_type": "execute_result"
    }
   ],
   "source": [
    "df_new['density'][-21:2]"
   ]
  },
  {
   "cell_type": "code",
   "execution_count": 233,
   "metadata": {},
   "outputs": [
    {
     "data": {
      "image/png": "[encoded data removed]",
      "text/plain": [
       "<Figure size 720x720 with 1 Axes>"
      ]
     },
     "metadata": {
      "needs_background": "light"
     },
     "output_type": "display_data"
    }
   ],
   "source": [
    "plt.figure(figsize=(10,10))\n",
    "plt.figure(1)\n",
    "\n",
    "# plt.scatter(density,pressure, color='blue', s = 5, alpha = 0.2)\n",
    "# plt.hist2d(density,pressure, bins = 200, cmap = 'ocean_r') #150\n",
    "plt.plot(df_new['density'][-21:2],df_new.index[350:370]) #150\n",
    "\n",
    "\n",
    "plt.show()"
   ]
  },
  {
   "cell_type": "code",
   "execution_count": 190,
   "metadata": {},
   "outputs": [
    {
     "name": "stdout",
     "output_type": "stream",
     "text": [
      "              temp        sal    density\n",
      "pressure                                \n",
      "-371.0    7.985000  35.136500  27.251599\n",
      "-370.0    8.065000  35.143000  27.244752\n",
      "-369.0    8.130000  35.143000  27.234536\n",
      "-368.0    8.155000  35.145000  27.232172\n",
      "-367.0    8.170000  35.146500  27.231117\n",
      "...            ...        ...        ...\n",
      "-6.0      5.294978  32.319277  25.389749\n",
      "-5.0      5.248865  32.284428  25.366142\n",
      "-4.0      5.183476  32.275174  25.369389\n",
      "-3.0      4.891786  32.182232  25.328965\n",
      "-2.0      4.970000  32.024000  25.201733\n",
      "\n",
      "[370 rows x 3 columns]\n"
     ]
    }
   ],
   "source": [
    "print(df_new)"
   ]
  },
  {
   "cell_type": "code",
   "execution_count": 193,
   "metadata": {},
   "outputs": [],
   "source": [
    "listnew = np.asarray(df_new.index)"
   ]
  },
  {
   "cell_type": "code",
   "execution_count": 194,
   "metadata": {},
   "outputs": [
    {
     "name": "stdout",
     "output_type": "stream",
     "text": [
      "[-371. -370. -369. -368. -367. -366. -365. -364. -363. -362. -361. -360.\n",
      " -359. -358. -357. -356. -355. -354. -353. -352. -351. -350. -349. -348.\n",
      " -347. -346. -345. -344. -343. -342. -341. -340. -339. -338. -337. -336.\n",
      " -335. -334. -333. -332. -331. -330. -329. -328. -327. -326. -325. -324.\n",
      " -323. -322. -321. -320. -319. -318. -317. -316. -315. -314. -313. -312.\n",
      " -311. -310. -309. -308. -307. -306. -305. -304. -303. -302. -301. -300.\n",
      " -299. -298. -297. -296. -295. -294. -293. -292. -291. -290. -289. -288.\n",
      " -287. -286. -285. -284. -283. -282. -281. -280. -279. -278. -277. -276.\n",
      " -275. -274. -273. -272. -271. -270. -269. -268. -267. -266. -265. -264.\n",
      " -263. -262. -261. -260. -259. -258. -257. -256. -255. -254. -253. -252.\n",
      " -251. -250. -249. -248. -247. -246. -245. -244. -243. -242. -241. -240.\n",
      " -239. -238. -237. -236. -235. -234. -233. -232. -231. -230. -229. -228.\n",
      " -227. -226. -225. -224. -223. -222. -221. -220. -219. -218. -217. -216.\n",
      " -215. -214. -213. -212. -211. -210. -209. -208. -207. -206. -205. -204.\n",
      " -203. -202. -201. -200. -199. -198. -197. -196. -195. -194. -193. -192.\n",
      " -191. -190. -189. -188. -187. -186. -185. -184. -183. -182. -181. -180.\n",
      " -179. -178. -177. -176. -175. -174. -173. -172. -171. -170. -169. -168.\n",
      " -167. -166. -165. -164. -163. -162. -161. -160. -159. -158. -157. -156.\n",
      " -155. -154. -153. -152. -151. -150. -149. -148. -147. -146. -145. -144.\n",
      " -143. -142. -141. -140. -139. -138. -137. -136. -135. -134. -133. -132.\n",
      " -131. -130. -129. -128. -127. -126. -125. -124. -123. -122. -121. -120.\n",
      " -119. -118. -117. -116. -115. -114. -113. -112. -111. -110. -109. -108.\n",
      " -107. -106. -105. -104. -103. -102. -101. -100.  -99.  -98.  -97.  -96.\n",
      "  -95.  -94.  -93.  -92.  -91.  -90.  -89.  -88.  -87.  -86.  -85.  -84.\n",
      "  -83.  -82.  -81.  -80.  -79.  -78.  -77.  -76.  -75.  -74.  -73.  -72.\n",
      "  -71.  -70.  -69.  -68.  -67.  -66.  -65.  -64.  -63.  -62.  -61.  -60.\n",
      "  -59.  -58.  -57.  -56.  -55.  -54.  -53.  -52.  -51.  -50.  -49.  -48.\n",
      "  -47.  -46.  -45.  -44.  -43.  -42.  -41.  -40.  -39.  -38.  -37.  -36.\n",
      "  -35.  -34.  -33.  -32.  -31.  -30.  -29.  -28.  -27.  -26.  -25.  -24.\n",
      "  -23.  -22.  -21.  -20.  -19.  -18.  -17.  -16.  -15.  -14.  -13.  -12.\n",
      "  -11.  -10.   -9.   -8.   -7.   -6.   -5.   -4.   -3.   -2.]\n"
     ]
    }
   ],
   "source": [
    "print(listnew)"
   ]
  },
  {
   "cell_type": "code",
   "execution_count": 218,
   "metadata": {},
   "outputs": [
    {
     "name": "stdout",
     "output_type": "stream",
     "text": [
      "Float64Index([-51.0, -50.0, -49.0, -48.0, -47.0, -46.0, -45.0, -44.0, -43.0,\n",
      "              -42.0, -41.0, -40.0, -39.0, -38.0, -37.0, -36.0, -35.0, -34.0,\n",
      "              -33.0, -32.0, -31.0, -30.0, -29.0, -28.0, -27.0, -26.0, -25.0,\n",
      "              -24.0, -23.0, -22.0, -21.0, -20.0, -19.0, -18.0, -17.0, -16.0,\n",
      "              -15.0, -14.0, -13.0, -12.0, -11.0, -10.0,  -9.0,  -8.0,  -7.0,\n",
      "               -6.0,  -5.0,  -4.0],\n",
      "             dtype='float64', name='pressure')\n",
      "pressure\n",
      "-50.0    25.471084\n",
      "-49.0    25.418840\n",
      "-48.0    25.398220\n",
      "-47.0    25.459163\n",
      "-46.0    25.461526\n",
      "-45.0    25.414463\n",
      "-44.0    25.437610\n",
      "-43.0    25.376604\n",
      "-42.0    25.389532\n",
      "-41.0    25.453292\n",
      "-40.0    25.400985\n",
      "-39.0    25.370431\n",
      "-38.0    25.452435\n",
      "-37.0    25.453784\n",
      "-36.0    25.418335\n",
      "-35.0    25.360477\n",
      "-34.0    25.412296\n",
      "-33.0    25.362705\n",
      "-32.0    25.415119\n",
      "-31.0    25.378036\n",
      "-30.0    25.379213\n",
      "-29.0    25.415130\n",
      "-28.0    25.388444\n",
      "-27.0    25.388966\n",
      "-26.0    25.388102\n",
      "-25.0    25.401903\n",
      "-24.0    25.418233\n",
      "-23.0    25.405505\n",
      "-22.0    25.382124\n",
      "-21.0    25.364561\n",
      "-20.0    25.401841\n",
      "-19.0    25.432934\n",
      "-18.0    25.383076\n",
      "-17.0    25.354223\n",
      "-16.0    25.378247\n",
      "-15.0    25.360235\n",
      "-14.0    25.386838\n",
      "-13.0    25.372222\n",
      "-12.0    25.372572\n",
      "-11.0    25.397809\n",
      "-10.0    25.358755\n",
      "-9.0     25.369077\n",
      "-8.0     25.388608\n",
      "-7.0     25.370885\n",
      "-6.0     25.389749\n",
      "-5.0     25.366142\n",
      "-4.0     25.369389\n",
      "-3.0     25.328965\n",
      "-2.0     25.201733\n",
      "Name: density, dtype: float64\n",
      "pressure\n",
      "-50.0    5.333507\n",
      "-49.0    5.600518\n",
      "-48.0    5.709053\n",
      "-47.0    5.270147\n",
      "-46.0    5.543636\n",
      "-45.0    5.512223\n",
      "-44.0    5.309857\n",
      "-43.0    5.793599\n",
      "-42.0    5.504646\n",
      "-41.0    5.537170\n",
      "-40.0    5.542563\n",
      "-39.0    5.521607\n",
      "-38.0    5.553799\n",
      "-37.0    5.450830\n",
      "-36.0    5.505244\n",
      "-35.0    5.619711\n",
      "-34.0    5.391834\n",
      "-33.0    5.668370\n",
      "-32.0    5.485844\n",
      "-31.0    5.271246\n",
      "-30.0    5.318983\n",
      "-29.0    5.279826\n",
      "-28.0    5.470224\n",
      "-27.0    5.346549\n",
      "-26.0    5.183554\n",
      "-25.0    5.108148\n",
      "-24.0    5.207761\n",
      "-23.0    5.412725\n",
      "-22.0    5.359539\n",
      "-21.0    5.590976\n",
      "-20.0    5.322461\n",
      "-19.0    4.973203\n",
      "-18.0    5.113754\n",
      "-17.0    5.137856\n",
      "-16.0    5.351696\n",
      "-15.0    5.293683\n",
      "-14.0    5.391455\n",
      "-13.0    5.394522\n",
      "-12.0    5.163504\n",
      "-11.0    4.948207\n",
      "-10.0    5.216908\n",
      "-9.0     5.757799\n",
      "-8.0     5.333970\n",
      "-7.0     4.972110\n",
      "-6.0     5.294978\n",
      "-5.0     5.248865\n",
      "-4.0     5.183476\n",
      "-3.0     4.891786\n",
      "-2.0     4.970000\n",
      "Name: temp, dtype: float64\n"
     ]
    }
   ],
   "source": [
    "print(df_new.index[-50:-2])\n",
    "print(df_new['density'][-50:-2])\n",
    "print(df_new['temp'][-50:-2])"
   ]
  },
  {
   "cell_type": "code",
   "execution_count": 223,
   "metadata": {},
   "outputs": [],
   "source": [
    "temp_mean = np.mean([5.294978, 5.248865, 5.183476 , 4.891786, 4.970000]) 12\n",
    "dens_mean = np.mean([25.366142, 25.369389, 25.328965, 25.201733])"
   ]
  },
  {
   "cell_type": "code",
   "execution_count": 224,
   "metadata": {},
   "outputs": [
    {
     "name": "stdout",
     "output_type": "stream",
     "text": [
      "5.117821\n"
     ]
    }
   ],
   "source": [
    "print(temp_mean)"
   ]
  },
  {
   "cell_type": "code",
   "execution_count": 225,
   "metadata": {},
   "outputs": [
    {
     "name": "stdout",
     "output_type": "stream",
     "text": [
      "5.317821\n",
      "4.917821\n",
      "25.346557250000004\n",
      "25.28655725\n"
     ]
    }
   ],
   "source": [
    "print(temp_mean+0.2)\n",
    "print(temp_mean-0.2)\n",
    "print(dens_mean+0.03)\n",
    "print(dens_mean-0.03)"
   ]
  },
  {
   "cell_type": "code",
   "execution_count": 199,
   "metadata": {},
   "outputs": [
    {
     "ename": "ValueError",
     "evalue": "At based indexing on an non-integer index can only have non-integer indexers",
     "output_type": "error",
     "traceback": [
      "\u001b[0;31m---------------------------------------------------------------------------\u001b[0m",
      "\u001b[0;31mValueError\u001b[0m                                Traceback (most recent call last)",
      "\u001b[0;32m<ipython-input-199-690b80d53dcd>\u001b[0m in \u001b[0;36m<module>\u001b[0;34m\u001b[0m\n\u001b[1;32m      1\u001b[0m \u001b[0;32mfor\u001b[0m \u001b[0mix\u001b[0m \u001b[0;32min\u001b[0m \u001b[0mrange\u001b[0m\u001b[0;34m(\u001b[0m\u001b[0mlen\u001b[0m\u001b[0;34m(\u001b[0m\u001b[0mlistnew\u001b[0m\u001b[0;34m)\u001b[0m\u001b[0;34m)\u001b[0m\u001b[0;34m:\u001b[0m\u001b[0;34m\u001b[0m\u001b[0;34m\u001b[0m\u001b[0m\n\u001b[0;32m----> 2\u001b[0;31m     \u001b[0;32mif\u001b[0m \u001b[0mdf_new\u001b[0m\u001b[0;34m.\u001b[0m\u001b[0mat\u001b[0m\u001b[0;34m[\u001b[0m\u001b[0mix\u001b[0m\u001b[0;34m,\u001b[0m\u001b[0;34m'density'\u001b[0m\u001b[0;34m]\u001b[0m \u001b[0;34m>=\u001b[0m \u001b[0;34m(\u001b[0m\u001b[0mdens_mean\u001b[0m \u001b[0;34m-\u001b[0m \u001b[0;36m0.03\u001b[0m\u001b[0;34m)\u001b[0m \u001b[0;32mand\u001b[0m \u001b[0mdf_new\u001b[0m\u001b[0;34m.\u001b[0m\u001b[0mat\u001b[0m\u001b[0;34m[\u001b[0m\u001b[0mix\u001b[0m\u001b[0;34m,\u001b[0m\u001b[0;34m'density'\u001b[0m\u001b[0;34m]\u001b[0m \u001b[0;34m<=\u001b[0m \u001b[0;34m(\u001b[0m\u001b[0mdens_mean\u001b[0m \u001b[0;34m+\u001b[0m \u001b[0;36m0.03\u001b[0m\u001b[0;34m)\u001b[0m\u001b[0;34m:\u001b[0m\u001b[0;34m\u001b[0m\u001b[0;34m\u001b[0m\u001b[0m\n\u001b[0m\u001b[1;32m      3\u001b[0m         \u001b[0mprint\u001b[0m\u001b[0;34m(\u001b[0m\u001b[0;34m'yes'\u001b[0m\u001b[0;34m)\u001b[0m\u001b[0;34m\u001b[0m\u001b[0;34m\u001b[0m\u001b[0m\n",
      "\u001b[0;32m/anaconda3/lib/python3.7/site-packages/pandas/core/indexing.py\u001b[0m in \u001b[0;36m__getitem__\u001b[0;34m(self, key)\u001b[0m\n\u001b[1;32m   2176\u001b[0m                 \u001b[0;32mraise\u001b[0m \u001b[0mValueError\u001b[0m\u001b[0;34m(\u001b[0m\u001b[0;34m\"Invalid call for scalar access (getting)!\"\u001b[0m\u001b[0;34m)\u001b[0m\u001b[0;34m\u001b[0m\u001b[0;34m\u001b[0m\u001b[0m\n\u001b[1;32m   2177\u001b[0m \u001b[0;34m\u001b[0m\u001b[0m\n\u001b[0;32m-> 2178\u001b[0;31m         \u001b[0mkey\u001b[0m \u001b[0;34m=\u001b[0m \u001b[0mself\u001b[0m\u001b[0;34m.\u001b[0m\u001b[0m_convert_key\u001b[0m\u001b[0;34m(\u001b[0m\u001b[0mkey\u001b[0m\u001b[0;34m)\u001b[0m\u001b[0;34m\u001b[0m\u001b[0;34m\u001b[0m\u001b[0m\n\u001b[0m\u001b[1;32m   2179\u001b[0m         \u001b[0;32mreturn\u001b[0m \u001b[0mself\u001b[0m\u001b[0;34m.\u001b[0m\u001b[0mobj\u001b[0m\u001b[0;34m.\u001b[0m\u001b[0m_get_value\u001b[0m\u001b[0;34m(\u001b[0m\u001b[0;34m*\u001b[0m\u001b[0mkey\u001b[0m\u001b[0;34m,\u001b[0m \u001b[0mtakeable\u001b[0m\u001b[0;34m=\u001b[0m\u001b[0mself\u001b[0m\u001b[0;34m.\u001b[0m\u001b[0m_takeable\u001b[0m\u001b[0;34m)\u001b[0m\u001b[0;34m\u001b[0m\u001b[0;34m\u001b[0m\u001b[0m\n\u001b[1;32m   2180\u001b[0m \u001b[0;34m\u001b[0m\u001b[0m\n",
      "\u001b[0;32m/anaconda3/lib/python3.7/site-packages/pandas/core/indexing.py\u001b[0m in \u001b[0;36m_convert_key\u001b[0;34m(self, key, is_setter)\u001b[0m\n\u001b[1;32m   2218\u001b[0m                 \u001b[0;32mif\u001b[0m \u001b[0mis_integer\u001b[0m\u001b[0;34m(\u001b[0m\u001b[0mi\u001b[0m\u001b[0;34m)\u001b[0m \u001b[0;32mand\u001b[0m \u001b[0;32mnot\u001b[0m \u001b[0max\u001b[0m\u001b[0;34m.\u001b[0m\u001b[0mholds_integer\u001b[0m\u001b[0;34m(\u001b[0m\u001b[0;34m)\u001b[0m\u001b[0;34m:\u001b[0m\u001b[0;34m\u001b[0m\u001b[0;34m\u001b[0m\u001b[0m\n\u001b[1;32m   2219\u001b[0m                     raise ValueError(\n\u001b[0;32m-> 2220\u001b[0;31m                         \u001b[0;34m\"At based indexing on an non-integer \"\u001b[0m\u001b[0;34m\u001b[0m\u001b[0;34m\u001b[0m\u001b[0m\n\u001b[0m\u001b[1;32m   2221\u001b[0m                         \u001b[0;34m\"index can only have non-integer \"\u001b[0m\u001b[0;34m\u001b[0m\u001b[0;34m\u001b[0m\u001b[0m\n\u001b[1;32m   2222\u001b[0m                         \u001b[0;34m\"indexers\"\u001b[0m\u001b[0;34m\u001b[0m\u001b[0;34m\u001b[0m\u001b[0m\n",
      "\u001b[0;31mValueError\u001b[0m: At based indexing on an non-integer index can only have non-integer indexers"
     ]
    }
   ],
   "source": [
    "for ix in range(len(listnew)):\n",
    "    if df_new.at[ix,'density'] >= (dens_mean - 0.03) and df_new.at[ix,'density'] <= (dens_mean + 0.03):\n",
    "        print('yes')"
   ]
  },
  {
   "cell_type": "code",
   "execution_count": null,
   "metadata": {},
   "outputs": [],
   "source": [
    "            for ix in range(len(dffinunreversed)):\n",
    "                if dffinunreversed.at[ix,'density'] >= (surfacevalmean - 0.03) and dffinunreversed.at[ix,'density'] <= (surfacevalmean + 0.03):\n",
    "                    if dffinunreversed.at[len(dffinunreversed)-1,'density'] <= (surfacevalmean + 0.03) and dffinunreversed.at[len(dffinunreversed)-1,'density'] >= (surfacevalmean - 0.03):\n",
    "                        looknow = list(dffinunreversed['density'].values)\n",
    "                        looknow2 = [i for i in looknow if i >= (surfacevalmean + 0.03)]\n",
    "                        looknow3 = [i for i in looknow if i <= (surfacevalmean - 0.03)]\n",
    "                        if len(looknow2) == 0 and len(looknow3) == 0:\n",
    "                            if dffinunreversed.at[len(dffinunreversed)-1,'pressure'] >= (month_df['depth'].iloc[ii] - (month_df['depth'].iloc[ii]*0.15)):\n",
    "                                if dffinunreversed.at[ix,'pressure'] <= (month_df['depth'].iloc[ii] - (month_df['depth'].iloc[ii]*0.15)):\n",
    "                                    seasonyeardepth.append(month_df['depth'].iloc[ii])\n",
    "                                    seasonyeardepth2.append(month_df['depth'].iloc[ii])\n",
    "                                    ratio_of_water_column.append(1.0)\n",
    "                                    ratio_of_water_column2.append(1.0)\n",
    "                                    latlat.append(month_df['lat'].iloc[ii])\n",
    "                                    lonlon.append(month_df['lon'].iloc[ii])\n",
    "                                    ydyd.append(month_df['day'].iloc[ii])\n",
    "                                    years.append(year)\n",
    "#                                     fig, (ax1) = plt.subplots(1,1)\n",
    "#                                     ax1.plot(df_final[4],df_final[0]*-1,color='purple')\n",
    "#                                     ax1.axhline(y=month_df['depth'].iloc[ii]*-1, color='r', linestyle='--')\n",
    "#                                     ax1.axhline(y=month_df['depth'].iloc[ii]*-1, color='green', linestyle='--')\n",
    "                                    break\n",
    "                                else:\n",
    "                                    seasonyeardepth.append(month_df['depth'].iloc[ii])\n",
    "                                    seasonyeardepth2.append(month_df['depth'].iloc[ii])\n",
    "                                    ratio_of_water_column.append(1.0)\n",
    "                                    ratio_of_water_column2.append(1.0)\n",
    "                                    latlat.append(month_df['lat'].iloc[ii])\n",
    "                                    lonlon.append(month_df['lon'].iloc[ii])\n",
    "                                    ydyd.append(month_df['day'].iloc[ii])\n",
    "                                    years.append(year)\n",
    "#                                     fig, (ax1) = plt.subplots(1,1)\n",
    "#                                     ax1.plot(df_final[1],df_final[0]*-1,color='green')\n",
    "#                                     ax1.axhline(y=dffinunreversed.at[ix,'pressure']*-1, color='r', linestyle='--')\n",
    "#                                     ax1.axhline(y=month_df['depth'].iloc[ii]*-1, color='green', linestyle='--')\n",
    "                                    break\n",
    "                            else:\n",
    "                                if dffinunreversed.at[len(dffinunreversed)-1,'pressure'] >= (month_df['depth'].iloc[ii] - (month_df['depth'].iloc[ii]*0.15)):\n",
    "#                                     fig, (ax1) = plt.subplots(1,1)\n",
    "#                                     ax1.plot(df_final[1],df_final[0]*-1,color='blue')\n",
    "#                                     ax1.axhline(y=month_df['depth'].iloc[ii]*-1, color='r', linestyle='--')\n",
    "                                    seasonyeardepth.append(month_df['depth'].iloc[ii])\n",
    "                                    seasonyeardepth2.append(month_df['depth'].iloc[ii])\n",
    "                                    ratio_val = 1.0\n",
    "                                    ratio_of_water_column.append(ratio_val)\n",
    "                                    ratio_of_water_column2.append(ratio_val)\n",
    "                                    latlat.append(month_df['lat'].iloc[ii])\n",
    "                                    lonlon.append(month_df['lon'].iloc[ii])\n",
    "                                    ydyd.append(month_df['day'].iloc[ii])\n",
    "                                    years.append(year)\n",
    "                                    break\n",
    "                        else:\n",
    "                            if dffinunreversed.at[len(dffinunreversed)-1,'pressure'] >= (month_df['depth'].iloc[ii] - (month_df['depth'].iloc[ii]*0.15)):\n",
    "                                for ix in range(len(dffinunreversed['density'])):\n",
    "                                    if dffinunreversed.at[ix,'density'] >= (surfacevalmean - 0.03) and dffinunreversed.at[ix,'density'] <= (surfacevalmean + 0.03):\n",
    "                                        pass\n",
    "                                    else:\n",
    "                                        if dffinunreversed.at[ix,'pressure'] >= 5:\n",
    "                                            seasonyeardepth.append(dffinunreversed.at[ix,'pressure'])\n",
    "                                            seasonyeardepth2.append(dffinunreversed.at[ix,'pressure'])\n",
    "                                            ratio_val = 1.0\n",
    "                                            ratio_of_water_column.append(ratio_val)\n",
    "                                            ratio_of_water_column2.append(ratio_val)\n",
    "                                            latlat.append(month_df['lat'].iloc[ii])\n",
    "                                            lonlon.append(month_df['lon'].iloc[ii])\n",
    "                                            ydyd.append(month_df['day'].iloc[ii])\n",
    "                                            years.append(year)\n",
    "#                                             fig, (ax1) = plt.subplots(1,1)                                \n",
    "#                                             ax1.plot(df_final[1],df_final[0]*-1,color='black')\n",
    "#                                             ax1.axhline(y=dffinunreversed.at[ix,'temp']*-1, color='r', linestyle='--')\n",
    "#                                             ax1.axhline(y=month_df['depth'].iloc[ii]*-1, color='green', linestyle='--')\n",
    "                                            break\n",
    "                                        else:\n",
    "#                                             seasonyeardepth.append('pass2')\n",
    "#                                             fig, (ax1) = plt.subplots(1,1)\n",
    "#                                             ax1.plot(df_final[1],df_final[0]*-1,color='purple')\n",
    "#                                             ax1.axhline(y=dffinunreversed.at[ix,'pressure']*-1, color='r', linestyle='--')\n",
    "#                                             ax1.axhline(y=month_df['depth'].iloc[ii]*-1, color='green', linestyle='--')\n",
    "                                            break\n",
    "                                break \n",
    "                    else:\n",
    "                        if dffinunreversed.at[ix,'density'] <= (surfacevalmean - 0.03) or dffinunreversed.at[ix,'density'] >= (surfacevalmean + 0.03):\n",
    "                            if dffinunreversed.at[ix,'pressure'] <= (month_df['depth'].iloc[ii] - (month_df['depth'].iloc[ii]*0.15)):\n",
    "                                pass\n",
    "                            else:\n",
    "#                                 seasonyeardepth.append(5)\n",
    "                                seasonyeardepth.append(dffinunreversed.at[ix,'pressure'])\n",
    "                                seasonyeardepth2.append(dffinunreversed.at[ix,'pressure'])\n",
    "                                ratio_val = (dffinunreversed.at[ix,'pressure'])/(month_df['depth'].iloc[ii])\n",
    "                                ratio_of_water_column.append(ratio_val)\n",
    "                                ratio_of_water_column2.append(ratio_val)\n",
    "                                latlat.append(month_df['lat'].iloc[ii])\n",
    "                                lonlon.append(month_df['lon'].iloc[ii])\n",
    "                                ydyd.append(month_df['day'].iloc[ii])\n",
    "                                years.append(year)\n",
    "#                                 fig, (ax1) = plt.subplots(1,1)\n",
    "#                                 ax1.plot(df_final[1],df_final[0]*-1,color='orange')\n",
    "#                                 ax1.axhline(y=dffinunreversed.at[ix,'pressure']*-1, color='r', linestyle='--')\n",
    "                                break           \n",
    "                        else: \n",
    "                            if dffinunreversed.at[ix,'density'] >= (surfacevalmean + 0.03) or dffinunreversed.at[ix,'density'] <= (surfacevalmean - 0.03):\n",
    "                                seasonyeardepth.append('pass4')\n",
    "#                                 fig, (ax1) = plt.subplots(1,1)\n",
    "#                                 ax1.plot(df_final[1],df_final[0]*-1,color='orange')\n",
    "#                                 ax1.axhline(y=dffinunreversed.at[ix,'pressure']*-1, color='r', linestyle='--')\n",
    "                                break\n",
    "#                                 pass\n",
    "                elif dffinunreversed.at[ix,'density'] <= (surfacevalmean - 0.03) or dffinunreversed.at[ix,'density'] >= (surfacevalmean + 0.03):\n",
    "                    if dffinunreversed.at[ix,'pressure'] <= (month_df['depth'].iloc[ii] - (month_df['depth'].iloc[ii]*0.15)):\n",
    "                        pass\n",
    "                    else:\n",
    "                        for ix in range(len(dffinunreversed['density'])):\n",
    "                            if dffinunreversed.at[ix,'density'] >= (surfacevalmean - 0.03) and dffinunreversed.at[ix,'density'] <= (surfacevalmean + 0.03):\n",
    "                                pass\n",
    "                            else:\n",
    "                                if dffinunreversed.at[ix,'pressure'] >= 5.0:\n",
    "                                    seasonyeardepth.append(dffinunreversed.at[ix,'pressure'])\n",
    "                                    seasonyeardepth2.append(dffinunreversed.at[ix,'pressure'])\n",
    "                                    ratio_val = (dffinunreversed.at[ix,'pressure'])/(month_df['depth'].iloc[ii])\n",
    "                                    ratio_of_water_column.append(ratio_val)\n",
    "                                    ratio_of_water_column2.append(ratio_val)\n",
    "                                    latlat.append(month_df['lat'].iloc[ii])\n",
    "                                    lonlon.append(month_df['lon'].iloc[ii])\n",
    "                                    ydyd.append(month_df['day'].iloc[ii])\n",
    "                                    years.append(year)\n",
    "#                                     fig, (ax1) = plt.subplots(1,1)\n",
    "#                                     ax1.plot(df_final[1],df_final[0]*-1,color='purple')\n",
    "#                                     ax1.axhline(y=dffinunreversed.at[ix,'pressure']*-1, color='r', linestyle='--')\n",
    "#                                     ax1.axhline(y=month_df['depth'].iloc[ii]*-1, color='green', linestyle='--')\n",
    "                                    break\n",
    "                                else:\n",
    "#                                     fig, (ax1) = plt.subplots(1,1)\n",
    "#                                     ax1.plot(df_final[1],df_final[0]*-1,color='purple')\n",
    "#                                     ax1.axhline(y=dffinunreversed.at[ix,'pressure']*-1, color='r', linestyle='--')\n",
    "#                                     ax1.axhline(y=month_df['depth'].iloc[ii]*-1, color='green', linestyle='--')\n",
    "                                    break\n",
    "                        break\n",
    "                else: \n",
    "#                     fig, (ax1) = plt.subplots(1,1)\n",
    "#                     ax1.plot(df_final[1],df_final[0]*-1,color='grey')\n",
    "#                     ax1.axhline(y=dffinunreversed.at[ix,'pressure']*-1, color='r', linestyle='--')\n",
    "#                     pass\n",
    "                    seasonyeardepth.append('pass9')\n",
    "                    break\n",
    "                            \n",
    "    print(year)\n",
    "#     print(seasonyeardepth2)\n",
    "#     print(ratio_of_water_column2)    \n",
    "    correctedwospatdiffmean.append(np.mean(seasonyeardepth2))\n",
    "    correctedwospatdiffstd.append(np.std(seasonyeardepth2))\n",
    "    ratio_of_water_column_corrected.append(np.mean(ratio_of_water_column2))\n",
    "    ratio_of_water_column_std_corrected.append(np.std(ratio_of_water_column2))"
   ]
  }
 ],
 "metadata": {
  "kernelspec": {
   "display_name": "Python 3",
   "language": "python",
   "name": "python3"
  },
  "language_info": {
   "codemirror_mode": {
    "name": "ipython",
    "version": 3
   },
   "file_extension": ".py",
   "mimetype": "text/x-python",
   "name": "python",
   "nbconvert_exporter": "python",
   "pygments_lexer": "ipython3",
   "version": "3.7.1"
  }
 },
 "nbformat": 4,
 "nbformat_minor": 2
}
