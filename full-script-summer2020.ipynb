{
 "cells": [
  {
   "cell_type": "markdown",
   "metadata": {},
   "source": [
    "## Preparation\n",
    "(1) Download all necessary packages"
   ]
  },
  {
   "cell_type": "code",
   "execution_count": 607,
   "metadata": {},
   "outputs": [],
   "source": [
    "import matplotlib.pyplot as plt; import numpy as np; import netCDF4; from netCDF4 import Dataset\n",
    "import pandas as pd; import numpy.ma as ma; import time as timeit; import os; import math; import re\n",
    "import itertools; import scipy.io; import mat73; import collections\n",
    "import cartopy; import cartopy.crs as ccrs\n",
    "from cartopy.mpl.gridliner import LONGITUDE_FORMATTER, LATITUDE_FORMATTER\n",
    "from matplotlib.ticker import FuncFormatter\n",
    "from matplotlib.ticker import AutoMinorLocator; from matplotlib.ticker import FixedLocator\n",
    "from shapely.geometry import Point; from shapely.geometry.polygon import Polygon\n",
    "%matplotlib inline\n",
    "import statistics; import xarray as xr; from scipy.interpolate import griddata\n",
    "from matplotlib.path import Path; from numpy import nan; import gsw"
   ]
  },
  {
   "cell_type": "markdown",
   "metadata": {},
   "source": [
    "(2) Load polygon shape files (w = GB, x = NMAB, y = EGoM, t = WGoM, v = SMAB)"
   ]
  },
  {
   "cell_type": "code",
   "execution_count": 608,
   "metadata": {},
   "outputs": [],
   "source": [
    "neww = [['', '', '40.00', '', '', '69.50'], ['', '', '40.30', '', '', '68.00'], ['', '', '40.40', '', '', '67.50'], ['', '', '40.60', '', '', '67.00'], ['', '', '40.80', '', '', '66.50'], ['', '', '41.45', '', '', '66.00'], ['', '', '41.80', '', '', '65.70'], ['', '', '42.10', '', '', '66.00'], ['', '', '42.10', '', '', '67.00'], ['', '', '42.10', '', '', '67.50'], ['', '', '41.80', '', '', '68.00'], ['', '', '41.10', '', '', '69.00'], ['', '', '41.00', '', '', '69.50'], ['', '', '40.00', '', '', '69.50']]\n",
    "lon_w = []; lat_w = []\n",
    "for i in range(14): \n",
    "    w1 = neww[i][2]\n",
    "    lat_w.append(w1)\n",
    "    w3 = neww[i][5]\n",
    "    lon_w.append(w3)\n",
    "lonlist_w = [float(i) for i in lon_w]; latlist_w = [float(i) for i in lat_w]\n",
    "lonlist_wneg = [float(i)*-1 for i in lon_w]\n",
    "df_w = pd.DataFrame({'lon': lonlist_w, 'lat': latlist_w,})\n",
    "df_w_plottable = pd.DataFrame({'lon': lonlist_wneg, 'lat': latlist_w,})\n",
    "\n",
    "lonlist_w_plot = [float(i)*-1 for i in lon_w]; latlist_w = [float(i) for i in lat_w]\n",
    "df_w_plot = pd.DataFrame({'lon': lonlist_w_plot, 'lat': latlist_w,})\n",
    "x_w = df_w_plot['lon']; y_w = df_w_plot['lat']\n",
    "polygon_w = Polygon(df_w.values)"
   ]
  },
  {
   "cell_type": "code",
   "execution_count": 609,
   "metadata": {},
   "outputs": [],
   "source": [
    "newv = [['', '', '37.00', '', '', '76.00'], ['', '', '36.00', '', '', '75.50'], ['', '', '35.50', '', '', '75.00'], ['', '', '36.00', '', '', '74.75'], ['', '', '37.40', '', '', '74.50'], ['', '', '39.50', '', '', '72.00'], ['', '', '40.50', '', '', '74.00'], ['', '', '39.40', '', '', '74.25'], ['', '', '37.00', '', '', '76.00']]\n",
    "lon_v = []; lat_v = []\n",
    "for i in range(9): \n",
    "    v1 = newv[i][2]\n",
    "    lat_v.append(v1)\n",
    "    v3 = newv[i][5]\n",
    "    lon_v.append(v3)\n",
    "lonlist_v = [float(i) for i in lon_v]; latlist_v = [float(i) for i in lat_v]\n",
    "df_v = pd.DataFrame({'lon': lonlist_v, 'lat': latlist_v,})\n",
    "lonlist_v_plot = [float(i)*-1 for i in lon_v]; latlist_v = [float(i) for i in lat_v]\n",
    "df_v_plot = pd.DataFrame({'lon': lonlist_v_plot, 'lat': latlist_v,})\n",
    "x_v = df_v_plot['lon']; y_v = df_v_plot['lat']\n",
    "\n",
    "lonlist_vneg = [float(i)*-1 for i in lon_v]\n",
    "df_v_plottable = pd.DataFrame({'lon': lonlist_vneg, 'lat': latlist_v,})\n",
    "polygon_v = Polygon(df_v.values.tolist())"
   ]
  },
  {
   "cell_type": "code",
   "execution_count": 610,
   "metadata": {},
   "outputs": [],
   "source": [
    "newx = [['', '', '40.50', '', '', '74.00'], ['', '', '39.50', '', '', '72.00'], ['', '', '40.00', '', '', '71.40'], ['', '', '40.00', '', '', '69.50'], ['', '', '41.00', '', '', '69.50'], ['', '', '41.10', '', '', '70.00'], ['', '', '41.00', '', '', '72.00'], ['', '', '40.50', '', '', '74.00']]\n",
    "lon_x = []; lat_x = []\n",
    "for i in range(8): \n",
    "    x1 = newx[i][2]\n",
    "    lat_x.append(x1)\n",
    "    x3 = newx[i][5]\n",
    "    lon_x.append(x3)\n",
    "lonlist_x = [float(i) for i in lon_x]; latlist_x = [float(i) for i in lat_x]\n",
    "df_x = pd.DataFrame({'lon': lonlist_x, 'lat': latlist_x,})\n",
    "lonlist_x_plot = [float(i)*-1 for i in lon_x]; latlist_x = [float(i) for i in lat_x]\n",
    "df_x_plot = pd.DataFrame({'lon': lonlist_x_plot, 'lat': latlist_x,})\n",
    "x_x = df_x_plot['lon']; y_x = df_x_plot['lat']\n",
    "\n",
    "lonlist_xneg = [float(i)*-1 for i in lon_x]\n",
    "df_x_plottable = pd.DataFrame({'lon': lonlist_xneg, 'lat': latlist_x,})\n",
    "polygon_x = Polygon(df_x.values.tolist())"
   ]
  },
  {
   "cell_type": "code",
   "execution_count": 611,
   "metadata": {},
   "outputs": [],
   "source": [
    "newy = [['', '', '41.80', '', '', '68.00'], ['', '', '42.10', '', '', '67.50'], ['', '', '42.10', '', '', '67.00'], ['', '', '42.10', '', '', '66.00'], ['', '', '43.00', '', '', '66.00'], ['', '', '44.20', '', '', '66.50'], ['', '', '44.20', '', '', '67.00'], ['', '', '44.20', '', '', '68.00'], ['', '', '41.80', '', '', '68.00']]\n",
    "lon_y = []; lat_y = []\n",
    "for i in range(9): \n",
    "    y1 = newy[i][2]\n",
    "    lat_y.append(y1)\n",
    "    y3 = newy[i][5]\n",
    "    lon_y.append(y3)\n",
    "lonlist_y = [float(i) for i in lon_y]; latlist_y = [float(i) for i in lat_y]\n",
    "df_y = pd.DataFrame({'lon': lonlist_y, 'lat': latlist_y,})\n",
    "lonlist_y_plot = [float(i)*-1 for i in lon_y]; latlist_y = [float(i) for i in lat_y]\n",
    "df_y_plot = pd.DataFrame({'lon': lonlist_y_plot, 'lat': latlist_y,})\n",
    "x_y = df_y_plot['lon']; y_y = df_y_plot['lat']\n",
    "\n",
    "lonlist_yneg = [float(i)*-1 for i in lon_y]\n",
    "df_y_plottable = pd.DataFrame({'lon': lonlist_yneg, 'lat': latlist_y,})\n",
    "polygon_y = Polygon(df_y.values)"
   ]
  },
  {
   "cell_type": "code",
   "execution_count": 612,
   "metadata": {},
   "outputs": [],
   "source": [
    "newt = [['', '', '42.20', '', '', '70.50'], ['', '', '42.00', '', '', '70.00'], ['', '', '41.10', '', '', '69.00'], ['', '', '41.80', '', '', '68.00'], ['', '', '44.20', '', '', '68.00'], ['', '', '43.90', '', '', '69.00'], ['', '', '43.70', '', '', '70.00'], ['', '', '43.00', '', '', '70.50'], ['', '', '42.20', '', '', '70.50']]\n",
    "lon_t = []; lat_t = []\n",
    "for i in range(9): \n",
    "    t1 = newt[i][2]\n",
    "    lat_t.append(t1)\n",
    "    t3 = newt[i][5]\n",
    "    lon_t.append(t3)\n",
    "lonlist_t = [float(i) for i in lon_t]; latlist_t = [float(i) for i in lat_t]\n",
    "df_t = pd.DataFrame({'lon': lonlist_t, 'lat': latlist_t,})\n",
    "lonlist_t_plot = [float(i)*-1 for i in lon_t]; latlist_t = [float(i) for i in lat_t]\n",
    "df_t_plot = pd.DataFrame({'lon': lonlist_t_plot, 'lat': latlist_t,})\n",
    "x_t = df_t_plot['lon']; y_t = df_t_plot['lat']\n",
    "\n",
    "lonlist_tneg = [float(i)*-1 for i in lon_t]\n",
    "df_t_plottable = pd.DataFrame({'lon': lonlist_tneg, 'lat': latlist_t,})\n",
    "polygon_t = Polygon(df_t.values)"
   ]
  },
  {
   "cell_type": "markdown",
   "metadata": {},
   "source": [
    "(3) Access GLORYS12v1, wind data (and other .nc files here)"
   ]
  },
  {
   "cell_type": "code",
   "execution_count": 613,
   "metadata": {},
   "outputs": [],
   "source": [
    "glorys12v1 ='global-reanalysis-phy-001-030-daily_1596465428590.nc'\n",
    "wind = 'wind-adaptor.mars.internal-1598399500.1663413-7474-3-df035ece-01a4-4e80-a685-554ea53e9d02.nc'"
   ]
  },
  {
   "cell_type": "code",
   "execution_count": 617,
   "metadata": {},
   "outputs": [],
   "source": [
    "DS=xr.open_dataset(glorys12v1) # can change glorys12v1 to other file, ie. wind"
   ]
  },
  {
   "cell_type": "code",
   "execution_count": 618,
   "metadata": {},
   "outputs": [
    {
     "name": "stdout",
     "output_type": "stream",
     "text": [
      "<xarray.Dataset>\n",
      "Dimensions:    (latitude: 133, longitude: 181, time: 9490)\n",
      "Coordinates:\n",
      "  * latitude   (latitude) float32 35.0 35.083332 35.166668 ... 45.916668 46.0\n",
      "  * time       (time) datetime64[ns] 1993-01-01T12:00:00 ... 2018-12-25T12:00:00\n",
      "  * longitude  (longitude) float32 -78.0 -77.916664 ... -63.083332 -63.0\n",
      "Data variables:\n",
      "    mlotst     (time, latitude, longitude) float32 ...\n",
      "Attributes:\n",
      "    title:                              daily mean fields from Global Ocean P...\n",
      "    easting:                            longitude\n",
      "    northing:                           latitude\n",
      "    history:                            2019/04/04 11:59:50 MERCATOR OCEAN Ne...\n",
      "    source:                             MERCATOR GLORYS12V1\n",
      "    institution:                        MERCATOR OCEAN\n",
      "    references:                         http://www.mercator-ocean.fr\n",
      "    comment:                            CMEMS product\n",
      "    Conventions:                        CF-1.4\n",
      "    domain_name:                        GL12\n",
      "    FROM_ORIGINAL_FILE__field_type:     mean\n",
      "    field_date:                         2018-12-25 00:00:00\n",
      "    field_julian_date:                  25195.0\n",
      "    julian_day_unit:                    days since 1950-01-01 00:00:00\n",
      "    bulletin_date:                      2018-12-26 00:00:00\n",
      "    bulletin_type:                      operational\n",
      "    FROM_ORIGINAL_FILE__longitude_min:  -180.0\n",
      "    FROM_ORIGINAL_FILE__longitude_max:  179.91667\n",
      "    FROM_ORIGINAL_FILE__latitude_min:   -80.0\n",
      "    FROM_ORIGINAL_FILE__latitude_max:   90.0\n",
      "    z_min:                              0.494025\n",
      "    z_max:                              5727.917\n",
      "    forecast_range:                     6-day_forecast\n",
      "    forecast_type:                      hindcast\n",
      "    _CoordSysBuilder:                   ucar.nc2.dataset.conv.CF1Convention\n"
     ]
    }
   ],
   "source": [
    "print(DS)"
   ]
  },
  {
   "cell_type": "markdown",
   "metadata": {},
   "source": [
    "(4) Accessing observational data : Temperature threshold method (T = 0.2°C) __Option 1: Well-defined MLD, Option 2: Fully mixed profile, Option 3: Fully mixed, Option 4: Fully mixed, Option 5: At the top of the profile, Option 6: Well-defined MLD"
   ]
  },
  {
   "cell_type": "code",
   "execution_count": 1,
   "metadata": {
    "scrolled": true
   },
   "outputs": [
    {
     "ename": "NameError",
     "evalue": "name 'scipy' is not defined",
     "output_type": "error",
     "traceback": [
      "\u001b[0;31m---------------------------------------------------------------------------\u001b[0m",
      "\u001b[0;31mNameError\u001b[0m                                 Traceback (most recent call last)",
      "\u001b[0;32m<ipython-input-1-a419ad501b67>\u001b[0m in \u001b[0;36m<module>\u001b[0;34m\u001b[0m\n\u001b[1;32m      8\u001b[0m \u001b[0;32mfor\u001b[0m \u001b[0myear\u001b[0m \u001b[0;32min\u001b[0m \u001b[0mrange\u001b[0m\u001b[0;34m(\u001b[0m\u001b[0;36m1993\u001b[0m\u001b[0;34m,\u001b[0m\u001b[0;36m2019\u001b[0m\u001b[0;34m)\u001b[0m\u001b[0;34m:\u001b[0m\u001b[0;34m\u001b[0m\u001b[0;34m\u001b[0m\u001b[0m\n\u001b[1;32m      9\u001b[0m     \u001b[0mfilename\u001b[0m \u001b[0;34m=\u001b[0m \u001b[0;34m'casts_{}.mat'\u001b[0m\u001b[0;34m.\u001b[0m\u001b[0mformat\u001b[0m\u001b[0;34m(\u001b[0m\u001b[0myear\u001b[0m\u001b[0;34m)\u001b[0m\u001b[0;34m\u001b[0m\u001b[0;34m\u001b[0m\u001b[0m\n\u001b[0;32m---> 10\u001b[0;31m     \u001b[0mfile\u001b[0m \u001b[0;34m=\u001b[0m \u001b[0mscipy\u001b[0m\u001b[0;34m.\u001b[0m\u001b[0mio\u001b[0m\u001b[0;34m.\u001b[0m\u001b[0mloadmat\u001b[0m\u001b[0;34m(\u001b[0m\u001b[0mfilename\u001b[0m\u001b[0;34m,\u001b[0m\u001b[0msqueeze_me\u001b[0m\u001b[0;34m=\u001b[0m\u001b[0;32mTrue\u001b[0m\u001b[0;34m)\u001b[0m\u001b[0;34m\u001b[0m\u001b[0;34m\u001b[0m\u001b[0m\n\u001b[0m\u001b[1;32m     11\u001b[0m     \u001b[0mnpfile\u001b[0m \u001b[0;34m=\u001b[0m \u001b[0mfile\u001b[0m\u001b[0;34m[\u001b[0m\u001b[0;34m'casts_{}'\u001b[0m\u001b[0;34m.\u001b[0m\u001b[0mformat\u001b[0m\u001b[0;34m(\u001b[0m\u001b[0myear\u001b[0m\u001b[0;34m)\u001b[0m\u001b[0;34m]\u001b[0m\u001b[0;34m\u001b[0m\u001b[0;34m\u001b[0m\u001b[0m\n\u001b[1;32m     12\u001b[0m \u001b[0;34m\u001b[0m\u001b[0m\n",
      "\u001b[0;31mNameError\u001b[0m: name 'scipy' is not defined"
     ]
    }
   ],
   "source": [
    "option1 = []; option2 = []; option3 = []; option4 = []; option5 = []; option6 =[]\n",
    "pointstouse = []; seasonalmean = []; seasonalstd = []; yearwithdata = []\n",
    "finallatestdepth = []; finalfinaldepth = []; finalfinalratio = []; filteredMLDlist = []\n",
    "meanfilteredMLDlist = []; stdfilteredMLDlist = []; years = []; bananasplitmean = []\n",
    "bananasplitstd = [];floormean = [];floorstd = []; latfinal = []; lonfinal = []; ratiofinal = []\n",
    "bottomdfinal = []; filteredfloorslist = [];zi_listofarrays = []\n",
    "\n",
    "for year in range(1993,2019):\n",
    "    filename = 'casts_{}.mat'.format(year)\n",
    "    file = scipy.io.loadmat(filename,squeeze_me=True)\n",
    "    npfile = file['casts_{}'.format(year)]\n",
    "    \n",
    "    lat_intermediate = []; lon_intermediate = []; yd_intermediate = []\n",
    "    p_intermediate = []; t_intermediate = []; sal_intermediate = []\n",
    "    finaldepth = []; finallat = [];finallon = []\n",
    "    seasonyeardepth = []; seasonyeartemp = [];seasonyearsal = []; seasonyeardens = []\n",
    "    counterii = []; floors = []; floor_intermediate = []; s_intermediate = []\n",
    "    seasonyearsal = []; lat = []; lon = []; lonneg = []\n",
    "    \n",
    "    for i in range(len(npfile)):\n",
    "        yd = npfile[i]['yd']\n",
    "        gear = npfile[i]['gear']\n",
    "        floordepth = npfile[i]['depth']\n",
    "        if gear == 'Bottle':\n",
    "            pass\n",
    "        if yd >= 0 and yd <= 31:\n",
    "            lat_intermediate.append(npfile[i]['lat'])\n",
    "            lon_intermediate.append(npfile[i]['lon'])\n",
    "            p_intermediate.append(npfile[i]['p'])\n",
    "            t_intermediate.append(npfile[i]['t'])\n",
    "            yd_intermediate.append(npfile[i]['yd'])\n",
    "            sal_intermediate.append(npfile[i]['s'])\n",
    "            floor_intermediate.append(npfile[i]['depth'])\n",
    "    month_df = pd.DataFrame({'day': yd_intermediate,'lon': lon_intermediate,'lat': lat_intermediate, 'p': p_intermediate, 't': t_intermediate,'depth': floor_intermediate, 's': sal_intermediate})\n",
    "    newdf = pd.DataFrame({'lon': lon_intermediate,'lat': lat_intermediate,'date': yd_intermediate})\n",
    "    print(year)\n",
    "\n",
    "    for ii in range(len(month_df)):\n",
    "        new = newdf.iloc[ii].values\n",
    "        point = Point(new)\n",
    "        if isinstance(month_df['p'].iloc[ii], int) or isinstance(month_df['p'].iloc[ii], float) or isinstance(month_df['t'].iloc[ii], int) or isinstance(month_df['t'].iloc[ii], float):\n",
    "            pass\n",
    "        elif polygon_t.contains(point) == True:\n",
    "#         elif polygon_x.contains(point) == True or polygon_y.contains(point) == True or polygon_t.contains(point) == True or polygon_w.contains(point) == True or polygon_v.contains(point) == True:\n",
    "            CT = gsw.CT_from_pt(month_df['s'].iloc[ii],month_df['t'].iloc[ii])\n",
    "            DENS = gsw.sigma0(month_df['s'].iloc[ii],CT)\n",
    "            pt_df = pd.DataFrame({'p': month_df['p'].iloc[ii],'t': month_df['t'].iloc[ii], 's': month_df['s'].iloc[ii], 'CT': CT, 'DENSMLD': DENS}) \n",
    "            df_ptsnew = pt_df.dropna()\n",
    "            df_final = pd.DataFrame(df_ptsnew.values)\n",
    "            l=[i for i in df_final[0] if i<=6] \n",
    "            if len(l) > 0:\n",
    "                surfaceval = []; numrange = []\n",
    "                for iii in range(len(l)):\n",
    "                    val = df_final[1][iii]\n",
    "                    numrange.append(iii)\n",
    "                    surfaceval.append(val)            \n",
    "            surfacevalmean = statistics.mean(surfaceval)\n",
    "            densfin = []; tempfin = []; pressurefin = []; salfin = []\n",
    "            for iii in range(numrange[-1],len(df_final)):\n",
    "                tempfin.append(df_final[1][iii])\n",
    "                pressurefin.append(df_final[0][iii])\n",
    "                salfin.append(df_final[2][iii])\n",
    "                densfin.append(df_final[4][iii])\n",
    "            d = {'temp': list(reversed(tempfin)), 'sal': list(reversed(salfin)), 'pressure': list(reversed(pressurefin)),'density': list(reversed(densfin))}\n",
    "            dunreversed = {'temp': list(tempfin), 'sal': list(salfin), 'pressure': list(pressurefin), 'density': list(densfin)}\n",
    "            dffinunreversed = pd.DataFrame(dunreversed)\n",
    "            dffin = pd.DataFrame(d)\n",
    "            \n",
    "            for ix in range(len(dffinunreversed)):\n",
    "                if dffinunreversed.at[ix,'temp'] >= (surfacevalmean - 0.2) and dffinunreversed.at[ix,'temp'] <= (surfacevalmean + 0.2):\n",
    "                    if dffinunreversed.at[len(dffinunreversed)-1,'temp'] <= (surfacevalmean + 0.2) and dffinunreversed.at[len(dffinunreversed)-1,'temp'] >= (surfacevalmean - 0.2):\n",
    "                        looknow = list(dffinunreversed['temp'].values)\n",
    "                        looknow2 = [i for i in looknow if i >= (surfacevalmean + 0.2)]\n",
    "                        looknow3 = [i for i in looknow if i <= (surfacevalmean - 0.2)]\n",
    "                        for now in range(len(looknow)):\n",
    "                            if looknow[now] >= (surfacevalmean + 0.2):\n",
    "                                seasonyeardepth.append(list(dffinunreversed['pressure'].values)[now])\n",
    "                                seasonyeartemp.append(list(dffinunreversed['temp'].values)[now])\n",
    "                                seasonyearsal.append(list(dffinunreversed['sal'].values)[now])\n",
    "                                seasonyeardens.append(list(dffinunreversed['density'].values)[now])\n",
    "                                floors.append(month_df['depth'].iloc[ii])\n",
    "                                lat.append(month_df['lat'].iloc[ii])\n",
    "                                lon.append(month_df['lon'].iloc[ii])\n",
    "                                lonneg.append(month_df['lon'].iloc[ii]*-1)\n",
    "                                counterii.append(ii)\n",
    "                                option1.append(ii) # well-defined MLD\n",
    "                                break\n",
    "                        if len(looknow2) == 0 and len(looknow3) == 0:\n",
    "                            seasonyeardepth.append(dffinunreversed.at[len(dffinunreversed)-1,'pressure'])\n",
    "                            seasonyeartemp.append(dffinunreversed.at[len(dffinunreversed)-1,'temp'])\n",
    "                            seasonyearsal.append(dffinunreversed.at[len(dffinunreversed)-1,'sal'])\n",
    "                            seasonyeardens.append(dffinunreversed.at[len(dffinunreversed)-1,'density'])\n",
    "                            floors.append(month_df['depth'].iloc[ii])\n",
    "                            lat.append(month_df['lat'].iloc[ii])\n",
    "                            lon.append(month_df['lon'].iloc[ii])\n",
    "                            lonneg.append(month_df['lon'].iloc[ii]*-1)\n",
    "                            counterii.append(ii)\n",
    "                            option2.append(ii) # fully mixed profile (from some troublesome profiles)\n",
    "                        break\n",
    "                    else:\n",
    "                        pass                    \n",
    "                else:\n",
    "                    if dffinunreversed.at[ix,'pressure'] >= (month_df['depth'].iloc[ii] - 6): # ALL MIXED\n",
    "                        if dffinunreversed.at[ix,'pressure'] == dffinunreversed.at[len(dffinunreversed)-1,'pressure']:\n",
    "                            if dffinunreversed.at[ix,'pressure'] <= (month_df['depth'].iloc[ii] - 6):\n",
    "                                pass\n",
    "                            else:\n",
    "                                if month_df['depth'].iloc[ii] <= 300:\n",
    "                                    seasonyeardepth.append(dffinunreversed.at[ix,'pressure'])\n",
    "                                    seasonyeartemp.append(dffinunreversed.at[ix,'temp'])\n",
    "                                    seasonyearsal.append(dffinunreversed.at[ix,'sal'])\n",
    "                                    seasonyeardens.append(dffinunreversed.at[len(dffinunreversed)-1,'density'])\n",
    "                                    floors.append(month_df['depth'].iloc[ii])\n",
    "                                    lat.append(month_df['lat'].iloc[ii])\n",
    "                                    lon.append(month_df['lon'].iloc[ii])\n",
    "                                    lonneg.append(month_df['lon'].iloc[ii]*-1)\n",
    "                                    counterii.append(ii)\n",
    "                                    option3.append(ii)\n",
    "#                                     fig, (ax1, ax2, ax3) = plt.subplots(1,3)\n",
    "#                                     ax1.plot(df_final[1],df_final[0]*-1,color='blue')\n",
    "#                                     ax2.plot(df_final[2],df_final[0]*-1,color='red')\n",
    "#                                     ax3.plot(df_final[4],df_final[0]*-1,color='black')\n",
    "#                                     ax1.axhline(y=dffinunreversed.at[len(dffinunreversed)-1,'pressure']*-1, color='k', linestyle='--')\n",
    "#                                     ax3.axhline(y=dffinunreversed.at[ix,'pressure']*-1, color='r', linestyle='--')\n",
    "# #                                     ax1.axhline(y=dffinunreversed.at[ix,'pressure']*-1, color='r', linestyle='--')\n",
    "#                                     break\n",
    "                        else:\n",
    "                            if month_df['depth'].iloc[ii] <= 300:\n",
    "                                seasonyeardepth.append(dffinunreversed.at[ix,'pressure'])\n",
    "                                seasonyeartemp.append(dffinunreversed.at[ix,'temp'])\n",
    "                                seasonyearsal.append(dffinunreversed.at[ix,'sal'])\n",
    "                                seasonyeardens.append(dffinunreversed.at[len(dffinunreversed)-1,'density'])\n",
    "                                floors.append(month_df['depth'].iloc[ii])\n",
    "                                lat.append(month_df['lat'].iloc[ii])\n",
    "                                lon.append(month_df['lon'].iloc[ii])\n",
    "                                lonneg.append(month_df['lon'].iloc[ii]*-1)\n",
    "                                counterii.append(ii)\n",
    "                                option4.append(ii)\n",
    "#                                 fig, (ax1, ax2, ax3) = plt.subplots(1,3)\n",
    "#                                 ax1.plot(df_final[1],df_final[0]*-1,color='blue')\n",
    "#                                 ax2.plot(df_final[2],df_final[0]*-1,color='red')\n",
    "#                                 ax3.plot(df_final[4],df_final[0]*-1,color='black')\n",
    "#                                 ax1.axhline(y=dffinunreversed.at[len(dffinunreversed)-1,'pressure']*-1, color='k', linestyle='--')\n",
    "#                                 ax3.axhline(y=dffinunreversed.at[ix,'pressure']*-1, color='r', linestyle='--')\n",
    "#                                 break\n",
    "                    elif dffinunreversed.at[ix,'pressure'] == 0:\n",
    "                        pass\n",
    "                    elif ix == 0: \n",
    "                        if month_df['depth'].iloc[ii] <= 300:\n",
    "                            seasonyeardepth.append(dffinunreversed.at[ix,'pressure'])\n",
    "                            seasonyeartemp.append(dffinunreversed.at[ix,'temp'])\n",
    "                            seasonyearsal.append(dffinunreversed.at[ix,'sal'])\n",
    "                            seasonyeardens.append(dffinunreversed.at[len(dffinunreversed)-1,'density'])\n",
    "                            floors.append(month_df['depth'].iloc[ii])\n",
    "                            lat.append(month_df['lat'].iloc[ii])\n",
    "                            lon.append(month_df['lon'].iloc[ii])\n",
    "                            lonneg.append(month_df['lon'].iloc[ii]*-1)\n",
    "                            counterii.append(ii)\n",
    "                            option5.append(ii)\n",
    "#                             fig, (ax1, ax2, ax3) = plt.subplots(1,3)\n",
    "#                             ax1.plot(df_final[1],df_final[0]*-1,color='blue')\n",
    "#                             ax2.plot(df_final[2],df_final[0]*-1,color='red')\n",
    "#                             ax3.plot(df_final[4],df_final[0]*-1,color='black')\n",
    "#                             ax3.axhline(y=dffinunreversed.at[ix,'pressure']*-1, color='r', linestyle='--')\n",
    "#                             ax1.axhline(y=dffinunreversed.at[ix,'pressure']*-1, color='r', linestyle='--')\n",
    "#                             break\n",
    "                    else: # Well-defined mixed layer detected\n",
    "                        if month_df['depth'].iloc[ii] <= 300:\n",
    "                            seasonyeardepth.append(dffinunreversed.at[ix,'pressure'])\n",
    "                            seasonyeartemp.append(dffinunreversed.at[ix,'temp'])\n",
    "                            seasonyearsal.append(dffinunreversed.at[ix,'sal'])\n",
    "                            seasonyeardens.append(dffinunreversed.at[len(dffinunreversed)-1,'density'])\n",
    "                            floors.append(month_df['depth'].iloc[ii])\n",
    "                            lat.append(month_df['lat'].iloc[ii])\n",
    "                            lon.append(month_df['lon'].iloc[ii])\n",
    "                            lonneg.append(month_df['lon'].iloc[ii]*-1)\n",
    "                            counterii.append(ii)\n",
    "                            option6.append(ii)\n",
    "                            break\n",
    "                    break\n",
    "\n",
    "    inlat = []; inlon = []; date = []\n",
    "    for timer in counterii:\n",
    "        inlat.append(newdf['lat'][timer])\n",
    "        inlon.append(newdf['lon'][timer])\n",
    "        date.append(newdf['date'][timer])                 \n",
    "    if len(seasonyeardepth) > 0:    \n",
    "        if len(seasonyeardepth) == 1:  \n",
    "            std = 0\n",
    "            seasonalstd.append(std)\n",
    "        else:\n",
    "            seasonalstd.append(statistics.stdev(seasonyeardepth))\n",
    "        yearwithdata.append(year)\n",
    "        seasonalmean.append(statistics.mean(seasonyeardepth))\n",
    "#         seasonalstd.append(statistics.stdev(seasonyeardepth))\n",
    "        full = pd.DataFrame({'mld': seasonyeardepth,'lat': lat, 'lon': lon, 'date': date}) \n",
    "        finallatestdepth.append(seasonyeardepth)\n",
    "        print(year)\n",
    "        print(seasonyeardepth)\n",
    "\n",
    "    for x in range(len(date)):\n",
    "        use=DS.sel(time=slice('{}-01-01'.format(year),'{}-01-31'.format(year))) \n",
    "        locate_date = use.sel(time=use.time.dt.day==(date[x])-0)\n",
    "        mld_locate_date = locate_date.mlotst.values[0]\n",
    "#         mld_locate_date = locate_date.si10.values[0]\n",
    "\n",
    "#         mld_locate_date = locate_date.mlotst.values\n",
    "    \n",
    "        lat = np.array(locate_date.mlotst['latitude'][:])\n",
    "        long = np.array(locate_date.mlotst['longitude'][:])\n",
    "#         lat = np.array(locate_date.si10['latitude'][:])\n",
    "#         long = np.array(locate_date.si10['longitude'][:])\n",
    "    \n",
    "        lonneg = [float(i)*-1 for i in inlon]\n",
    "        distanceslat = []; distanceslon = []\n",
    "        for i in range(133):\n",
    "            distanceslat.append((inlat[x] - lat[i])**2)\n",
    "            index_min_lat = min(range(len(distanceslat)), key=distanceslat.__getitem__)\n",
    "        for ii in range(181):\n",
    "            distanceslon.append((lonneg[x] - long[ii])**2)\n",
    "            index_min_lon = min(range(len(distanceslon)), key=distanceslon.__getitem__)\n",
    "        lat_index_use, lon_index_use = index_min_lat, index_min_lon\n",
    "        pointstouse.append(mld_locate_date[lat_index_use, lon_index_use]) "
   ]
  },
  {
   "cell_type": "code",
   "execution_count": 623,
   "metadata": {},
   "outputs": [
    {
     "name": "stdout",
     "output_type": "stream",
     "text": [
      "186\n",
      "60.545605\n",
      "26.822851\n"
     ]
    }
   ],
   "source": [
    "print(len(pointstouse))\n",
    "print(np.mean(pointstouse))\n",
    "print(np.std(pointstouse))"
   ]
  },
  {
   "cell_type": "code",
   "execution_count": 624,
   "metadata": {},
   "outputs": [
    {
     "name": "stdout",
     "output_type": "stream",
     "text": [
      "186\n",
      "81.55967741935484\n",
      "37.13071559714621\n"
     ]
    }
   ],
   "source": [
    "final_temp = sum(finallatestdepth, [])\n",
    "print(len(final_temp))\n",
    "print(np.mean(final_temp))\n",
    "print(np.std(final_temp))"
   ]
  },
  {
   "cell_type": "code",
   "execution_count": 627,
   "metadata": {},
   "outputs": [
    {
     "name": "stdout",
     "output_type": "stream",
     "text": [
      "186\n",
      "69.81182795698925\n",
      "37.477621564927915\n"
     ]
    }
   ],
   "source": [
    "final = sum(finallatestdepth, [])\n",
    "print(len(final))\n",
    "print(np.mean(final))\n",
    "print(np.std(final))"
   ]
  },
  {
   "cell_type": "code",
   "execution_count": 633,
   "metadata": {},
   "outputs": [
    {
     "name": "stdout",
     "output_type": "stream",
     "text": [
      "186\n",
      "11.747849462365592\n",
      "26.39046994612522\n",
      "131.0\n",
      "-47.0\n"
     ]
    }
   ],
   "source": [
    "newdif = [x1 - x2 for (x1, x2) in zip(final_temp, final)]\n",
    "print(len(newdif))\n",
    "print(np.mean(newdif))\n",
    "print(np.std(newdif))\n",
    "print(np.max(newdif))\n",
    "print(np.min(newdif))"
   ]
  },
  {
   "cell_type": "code",
   "execution_count": 603,
   "metadata": {},
   "outputs": [],
   "source": [
    "DS=xr.open_dataset(wind) # can change glorys12v1 to other file, ie. wind"
   ]
  },
  {
   "cell_type": "code",
   "execution_count": 604,
   "metadata": {},
   "outputs": [],
   "source": [
    "filename = \"wind-adaptor.mars.internal-1598399500.1663413-7474-3-df035ece-01a4-4e80-a685-554ea53e9d02.nc\"\n",
    "ncin = Dataset(filename, 'r', format='NETCDF4')"
   ]
  },
  {
   "cell_type": "code",
   "execution_count": 606,
   "metadata": {},
   "outputs": [
    {
     "name": "stdout",
     "output_type": "stream",
     "text": [
      "<class 'netCDF4._netCDF4.Variable'>\n",
      ">i4 time(time)\n",
      "    units: hours since 1900-01-01 00:00:00.0\n",
      "    long_name: time\n",
      "    calendar: gregorian\n",
      "unlimited dimensions: \n",
      "current shape = (312,)\n",
      "filling on, default _FillValue of -2147483647 used\n",
      "\n"
     ]
    },
    {
     "name": "stderr",
     "output_type": "stream",
     "text": [
      "/anaconda3/lib/python3.7/site-packages/ipykernel_launcher.py:1: DeprecationWarning: tostring() is deprecated. Use tobytes() instead.\n",
      "  \"\"\"Entry point for launching an IPython kernel.\n"
     ]
    }
   ],
   "source": [
    "print(ncin['time'])"
   ]
  },
  {
   "cell_type": "code",
   "execution_count": 601,
   "metadata": {},
   "outputs": [
    {
     "name": "stdout",
     "output_type": "stream",
     "text": [
      "<xarray.Variable (time: 1, latitude: 45, longitude: 61)>\n",
      "array([[[3.118591, 2.998866, ..., 6.446475, 6.161335],\n",
      "        [3.395713, 3.1999  , ..., 4.841743, 4.81377 ],\n",
      "        ...,\n",
      "        [3.392729, 3.248947, ..., 9.921685, 9.931009],\n",
      "        [3.365129, 3.265544, ..., 9.68298 , 9.685218]]], dtype=float32)\n",
      "Attributes:\n",
      "    units:      m s**-1\n",
      "    long_name:  10 metre wind speed\n"
     ]
    }
   ],
   "source": [
    "use=DS.sel(time=slice('{}-01-01'.format(year),'{}-01-31'.format(year))) \n",
    "# locate_date = use.sel(time=use.time.dt.day==(date[3]))\n",
    "now = use.variables['si10']\n",
    "print(now)\n",
    "# print(locate_date.variables['si10'])\n",
    "# print(locate_date.variables)\n",
    "# mld_locate_date = locate_date.si10.values\n",
    "# mld_locate_date = locate_date.si10\n",
    "# print(mld_locate_date)"
   ]
  },
  {
   "cell_type": "code",
   "execution_count": 491,
   "metadata": {},
   "outputs": [
    {
     "name": "stdout",
     "output_type": "stream",
     "text": [
      "67\n",
      "38.71979\n",
      "16.704266\n"
     ]
    }
   ],
   "source": [
    "print(len(pointstouse))\n",
    "print(np.nanmean(pointstouse))\n",
    "print(np.nanstd(pointstouse))"
   ]
  },
  {
   "cell_type": "code",
   "execution_count": 492,
   "metadata": {},
   "outputs": [
    {
     "name": "stdout",
     "output_type": "stream",
     "text": [
      "67\n",
      "49.88059701492537\n",
      "24.912097635462114\n"
     ]
    }
   ],
   "source": [
    "final = sum(finallatestdepth, [])\n",
    "print(len(final))\n",
    "print(np.mean(final))\n",
    "print(np.std(final))"
   ]
  },
  {
   "cell_type": "markdown",
   "metadata": {},
   "source": [
    "(5) Accessing observational data : Density threshold method (d = 0.03kg/m3) __Option 1: Well-defined MLD, Option 2: Fully mixed profile, Option 3: Fully mixed, Option 4: Fully mixed, Option 5: At the top of the profile, Option 6: Well-defined MLD"
   ]
  },
  {
   "cell_type": "code",
   "execution_count": 625,
   "metadata": {},
   "outputs": [
    {
     "name": "stdout",
     "output_type": "stream",
     "text": [
      "1993\n",
      "1994\n",
      "1995\n",
      "1996\n",
      "1997\n",
      "1998\n",
      "1999\n",
      "2002\n",
      "2003\n",
      "2004\n",
      "2005\n",
      "2006\n",
      "2007\n"
     ]
    }
   ],
   "source": [
    "option1 = []; option2 = []; option3 = []; option4 = []; option5 = []; option6 =[]\n",
    "pointstouse = [];seasonalmean = []; seasonalstd = []; yearwithdata = []; finallatestdepth = []\n",
    "finalfinaldepth = []; finalfinalratio = []; filteredMLDlist = []; meanfilteredMLDlist = []; stdfilteredMLDlist = []; years = []; bananasplitmean = []; bananasplitstd = [];floormean = [];floorstd = []; latfinal = []; lonfinal = []; ratiofinal = [];bottomdfinal = []; filteredfloorslist = [];zi_listofarrays = []\n",
    "\n",
    "for year in range(1993,2019):\n",
    "    filename = 'casts_{}.mat'.format(year)\n",
    "    file = scipy.io.loadmat(filename,squeeze_me=True)\n",
    "    npfile = file['casts_{}'.format(year)]\n",
    "    lat_intermediate = []; lon_intermediate = []; p_intermediate = []; t_intermediate = []; yd_intermediate = []; sal_intermediate = []\n",
    "    finaldepth = []; finallat = [];finallon = []\n",
    "    seasonyeardepth = []; seasonyeartemp = [];seasonyearsal = []; seasonyeardens = []; counterii = []; floors = []; floor_intermediate = []; s_intermediate = [];seasonyearsal = []; lat = []; lon = []; lonneg = []\n",
    "    \n",
    "    for i in range(len(npfile)):\n",
    "        yd = npfile[i]['yd']\n",
    "        p = npfile[i]['p']\n",
    "        s = npfile[i]['s']\n",
    "        t = npfile[i]['t']\n",
    "        gear = npfile[i]['gear']\n",
    "        floordepth = npfile[i]['depth']\n",
    "        if gear == 'Bottle':\n",
    "            pass\n",
    "        elif yd >= 0 and yd <= 31:\n",
    "            lat_intermediate.append(npfile[i]['lat'])\n",
    "            lon_intermediate.append(npfile[i]['lon'])\n",
    "            p_intermediate.append(npfile[i]['p'])\n",
    "            t_intermediate.append(npfile[i]['t'])\n",
    "            yd_intermediate.append(npfile[i]['yd'])\n",
    "            sal_intermediate.append(npfile[i]['s'])\n",
    "            floor_intermediate.append(npfile[i]['depth'])\n",
    "    month_df = pd.DataFrame({'day': yd_intermediate,'lon': lon_intermediate,'lat': lat_intermediate, 'p': p_intermediate, 't': t_intermediate,'depth': floor_intermediate, 's': sal_intermediate})\n",
    "    newdf = pd.DataFrame({'lon': lon_intermediate,'lat': lat_intermediate,'date': yd_intermediate})\n",
    "\n",
    "    for ii in range(len(month_df)):\n",
    "        new = newdf.iloc[ii].values\n",
    "        point = Point(new)\n",
    "        if isinstance(month_df['p'].iloc[ii], int) or isinstance(month_df['p'].iloc[ii], float) or isinstance(month_df['t'].iloc[ii], int) or isinstance(month_df['t'].iloc[ii], float):\n",
    "            pass\n",
    "        elif polygon_t.contains(point) == True:\n",
    "#         elif polygon_x.contains(point) == True or polygon_y.contains(point) == True or polygon_t.contains(point) == True or polygon_w.contains(point) == True or polygon_v.contains(point) == True:\n",
    "            CT = gsw.CT_from_pt(month_df['s'].iloc[ii],month_df['t'].iloc[ii])\n",
    "            DENS = gsw.sigma0(month_df['s'].iloc[ii],CT)\n",
    "            pt_df = pd.DataFrame({'p': month_df['p'].iloc[ii],'t': month_df['t'].iloc[ii], 's': month_df['s'].iloc[ii], 'CT': CT, 'DENSMLD': DENS}) \n",
    "            df_ptsnew = pt_df.dropna()\n",
    "            df_final = pd.DataFrame(df_ptsnew.values)\n",
    "            \n",
    "            l=[i for i in df_final[0] if i<=6] \n",
    "            if len(l) > 0:\n",
    "                surfaceval = []\n",
    "                numrange = []\n",
    "                for iii in range(len(l)):\n",
    "                    val = df_final[4][iii]\n",
    "                    numrange.append(iii)\n",
    "                    surfaceval.append(val)            \n",
    "            surfacevalmean = statistics.mean(surfaceval)\n",
    "            densfin = []; tempfin = []; pressurefin = []; salfin = []\n",
    "            for iii in range(numrange[-1],len(df_final)):\n",
    "                tempfin.append(df_final[1][iii])\n",
    "                pressurefin.append(df_final[0][iii])\n",
    "                salfin.append(df_final[2][iii])\n",
    "                densfin.append(df_final[4][iii])\n",
    "            d = {'temp': list(reversed(tempfin)), 'sal': list(reversed(salfin)), 'pressure': list(reversed(pressurefin)),'density': list(reversed(densfin))}\n",
    "            dunreversed = {'temp': list(tempfin), 'sal': list(salfin), 'pressure': list(pressurefin), 'density': list(densfin)}\n",
    "            dffinunreversed = pd.DataFrame(dunreversed)\n",
    "            dffin = pd.DataFrame(d)\n",
    "            for ix in range(len(dffinunreversed)):\n",
    "                if dffinunreversed.at[ix,'density'] >= (surfacevalmean - 0.03) and dffinunreversed.at[ix,'density'] <= (surfacevalmean + 0.03):\n",
    "                    if dffinunreversed.at[len(dffinunreversed)-1,'density'] <= (surfacevalmean + 0.03) and dffinunreversed.at[len(dffinunreversed)-1,'density'] >= (surfacevalmean - 0.03):\n",
    "                        looknow = list(dffinunreversed['density'].values)\n",
    "                        looknow2 = [i for i in looknow if i >= (surfacevalmean + 0.03)]\n",
    "                        looknow3 = [i for i in looknow if i <= (surfacevalmean - 0.03)]\n",
    "                        for now in range(len(looknow)):\n",
    "                            if looknow[now] >= (surfacevalmean + 0.03):\n",
    "                                seasonyeardepth.append(list(dffinunreversed['pressure'].values)[now])\n",
    "                                seasonyeartemp.append(list(dffinunreversed['temp'].values)[now])\n",
    "                                seasonyearsal.append(list(dffinunreversed['sal'].values)[now])\n",
    "                                seasonyeardens.append(list(dffinunreversed['density'].values)[now])\n",
    "                                floors.append(month_df['depth'].iloc[ii])\n",
    "                                lat.append(month_df['lat'].iloc[ii])\n",
    "                                lon.append(month_df['lon'].iloc[ii])\n",
    "                                lonneg.append(month_df['lon'].iloc[ii]*-1)\n",
    "                                counterii.append(ii)\n",
    "                                option1.append(ii)\n",
    "                                break\n",
    "                        if len(looknow2) == 0 and len(looknow3) == 0:\n",
    "                            seasonyeardepth.append(dffinunreversed.at[len(dffinunreversed)-1,'pressure'])\n",
    "                            seasonyeartemp.append(dffinunreversed.at[len(dffinunreversed)-1,'temp'])\n",
    "                            seasonyearsal.append(dffinunreversed.at[len(dffinunreversed)-1,'sal'])\n",
    "                            seasonyeardens.append(dffinunreversed.at[len(dffinunreversed)-1,'density'])\n",
    "                            floors.append(month_df['depth'].iloc[ii])\n",
    "                            lat.append(month_df['lat'].iloc[ii])\n",
    "                            lon.append(month_df['lon'].iloc[ii])\n",
    "                            lonneg.append(month_df['lon'].iloc[ii]*-1)\n",
    "                            counterii.append(ii)\n",
    "                            option2.append(ii)\n",
    "                        break\n",
    "                    else:\n",
    "                        pass\n",
    "                else:\n",
    "                    if dffinunreversed.at[ix,'pressure'] >= (month_df['depth'].iloc[ii] - 6): # ALL MIXED\n",
    "                        if dffinunreversed.at[ix,'pressure'] == dffinunreversed.at[len(dffinunreversed)-1,'pressure']:\n",
    "                            if dffinunreversed.at[ix,'pressure'] <= (month_df['depth'].iloc[ii] - 6):\n",
    "                                pass\n",
    "                            else:\n",
    "                                if month_df['depth'].iloc[ii] <= 300:\n",
    "                                    seasonyeardepth.append(dffinunreversed.at[ix,'pressure'])\n",
    "                                    seasonyeartemp.append(dffinunreversed.at[ix,'temp'])\n",
    "                                    seasonyearsal.append(dffinunreversed.at[ix,'sal'])\n",
    "                                    seasonyeardens.append(dffinunreversed.at[len(dffinunreversed)-1,'density'])\n",
    "                                    floors.append(month_df['depth'].iloc[ii])\n",
    "                                    lat.append(month_df['lat'].iloc[ii])\n",
    "                                    lon.append(month_df['lon'].iloc[ii])\n",
    "                                    lonneg.append(month_df['lon'].iloc[ii]*-1)\n",
    "                                    counterii.append(ii)\n",
    "                                    option3.append(ii)\n",
    "#                                     fig, (ax1, ax2, ax3) = plt.subplots(1,3)\n",
    "#                                     ax1.plot(df_final[1],df_final[0]*-1,color='blue')\n",
    "#                                     ax2.plot(df_final[2],df_final[0]*-1,color='red')\n",
    "#                                     ax3.plot(df_final[4],df_final[0]*-1,color='black')\n",
    "# #                                     print(dffinunreversed.at[ix,'pressure'])\n",
    "#                                     ax3.axhline(y=dffinunreversed.at[ix,'pressure']*-1, color='r', linestyle='--')\n",
    "#                                     ax1.axhline(y=dffinunreversed.at[ix,'pressure']*-1, color='r', linestyle='--')\n",
    "#                                     print('')\n",
    "                                    break\n",
    "                        else:\n",
    "                            if month_df['depth'].iloc[ii] <= 300:\n",
    "                                seasonyeardepth.append(dffinunreversed.at[ix,'pressure'])\n",
    "                                seasonyeartemp.append(dffinunreversed.at[ix,'temp'])\n",
    "                                seasonyearsal.append(dffinunreversed.at[ix,'sal'])\n",
    "                                seasonyeardens.append(dffinunreversed.at[len(dffinunreversed)-1,'density'])\n",
    "                                floors.append(month_df['depth'].iloc[ii])\n",
    "                                lat.append(month_df['lat'].iloc[ii])\n",
    "                                lon.append(month_df['lon'].iloc[ii])\n",
    "                                lonneg.append(month_df['lon'].iloc[ii]*-1)\n",
    "                                counterii.append(ii)\n",
    "                                option4.append(ii)\n",
    "#                                 fig, (ax1, ax2, ax3) = plt.subplots(1,3)\n",
    "#                                 ax1.plot(df_final[1],df_final[0]*-1,color='blue')\n",
    "#                                 ax2.plot(df_final[2],df_final[0]*-1,color='red')\n",
    "#                                 ax3.plot(df_final[4],df_final[0]*-1,color='black')\n",
    "# #                                 print(dffinunreversed.at[ix,'pressure'])\n",
    "#                                 ax3.axhline(y=dffinunreversed.at[ix,'pressure']*-1, color='r', linestyle='--')\n",
    "#                                 ax1.axhline(y=dffinunreversed.at[ix,'pressure']*-1, color='r', linestyle='--')\n",
    "#                                 print('')\n",
    "#                                 break\n",
    "                    elif dffinunreversed.at[ix,'pressure'] == 0:\n",
    "                        pass\n",
    "                    elif ix == 0: \n",
    "                        if month_df['depth'].iloc[ii] <= 300:\n",
    "                            seasonyeardepth.append(dffinunreversed.at[ix,'pressure'])\n",
    "                            seasonyeartemp.append(dffinunreversed.at[ix,'temp'])\n",
    "                            seasonyearsal.append(dffinunreversed.at[ix,'sal'])\n",
    "                            seasonyeardens.append(dffinunreversed.at[len(dffinunreversed)-1,'density'])\n",
    "                            floors.append(month_df['depth'].iloc[ii])\n",
    "                            lat.append(month_df['lat'].iloc[ii])\n",
    "                            lon.append(month_df['lon'].iloc[ii])\n",
    "                            lonneg.append(month_df['lon'].iloc[ii]*-1)\n",
    "                            counterii.append(ii)\n",
    "                            option5.append(ii)\n",
    "#                             fig, (ax1, ax2, ax3) = plt.subplots(1,3)\n",
    "#                             ax1.plot(df_final[1],df_final[0]*-1,color='blue')\n",
    "#                             ax2.plot(df_final[2],df_final[0]*-1,color='red')\n",
    "#                             ax3.plot(df_final[4],df_final[0]*-1,color='black')\n",
    "# #                             print(dffinunreversed.at[ix,'pressure'])\n",
    "#                             ax3.axhline(y=dffinunreversed.at[ix,'pressure']*-1, color='r', linestyle='--')\n",
    "#                             ax1.axhline(y=dffinunreversed.at[ix,'pressure']*-1, color='r', linestyle='--')\n",
    "#                             print('')\n",
    "                            break\n",
    "                    else: # Well-defined mixed layer detected\n",
    "                        if month_df['depth'].iloc[ii] <= 300:\n",
    "                            seasonyeardepth.append(dffinunreversed.at[ix,'pressure'])\n",
    "                            seasonyeartemp.append(dffinunreversed.at[ix,'temp'])\n",
    "                            seasonyearsal.append(dffinunreversed.at[ix,'sal'])\n",
    "                            seasonyeardens.append(dffinunreversed.at[len(dffinunreversed)-1,'density'])\n",
    "                            floors.append(month_df['depth'].iloc[ii])\n",
    "                            lat.append(month_df['lat'].iloc[ii])\n",
    "                            lon.append(month_df['lon'].iloc[ii])\n",
    "                            lonneg.append(month_df['lon'].iloc[ii]*-1)\n",
    "                            counterii.append(ii)\n",
    "                            option6.append(ii)\n",
    "                            \n",
    "#                             fig, (ax1) = plt.subplots(1,1)\n",
    "#                             ax1.plot(df_final[4],df_final[0]*-1,color='blue')\n",
    "#         #                             print(dffinunreversed.at[ix,'pressure'])\n",
    "#                             ax1.axhline(y=dffinunreversed.at[ix,'pressure']*-1, color='brown', linestyle='--')\n",
    "                            \n",
    "#                             fig, (ax1, ax2, ax3) = plt.subplots(1,3)\n",
    "#                             ax1.plot(df_final[1],df_final[0]*-1,color='blue')\n",
    "#                             ax2.plot(df_final[2],df_final[0]*-1,color='red')\n",
    "#                             ax3.plot(df_final[4],df_final[0]*-1,color='black')\n",
    "# #                             print(dffinunreversed.at[ix,'pressure'])\n",
    "#                             ax3.axhline(y=dffinunreversed.at[ix,'pressure']*-1, color='r', linestyle='--')\n",
    "#                             ax1.axhline(y=dffinunreversed.at[ix,'pressure']*-1, color='r', linestyle='--')\n",
    "#                             print('')\n",
    "#                             seasonyeardepth.append(dffin.at[ix,'pressure'])\n",
    "                            break\n",
    "                    break\n",
    "    \n",
    "    inlat = []; inlon = []; date = []\n",
    "    for timer in counterii:\n",
    "        inlat.append(newdf['lat'][timer])\n",
    "        inlon.append(newdf['lon'][timer])\n",
    "        date.append(newdf['date'][timer])                 \n",
    "    if len(seasonyeardepth) > 0:    \n",
    "        if len(seasonyeardepth) == 1:  \n",
    "            std = 0\n",
    "            seasonalstd.append(std)\n",
    "        else:\n",
    "            seasonalstd.append(statistics.stdev(seasonyeardepth))\n",
    "        yearwithdata.append(year)\n",
    "        seasonalmean.append(statistics.mean(seasonyeardepth))\n",
    "        full = pd.DataFrame({'mld': seasonyeardepth,'lat': lat, 'lon': lon, 'date': date}) \n",
    "        finallatestdepth.append(seasonyeardepth)\n",
    "        print(year)\n",
    "\n",
    "#     for x in range(len(date)):\n",
    "#         use=DS.sel(time=slice('{}-07-01'.format(year),'{}-07-31'.format(year))) \n",
    "#         locate_date = use.sel(time=use.time.dt.day==(date[x])-181)\n",
    "#         mld_locate_date = locate_date.mlotst.values[0]\n",
    "# #         mld_locate_date = locate_date.mlotst.values\n",
    "    \n",
    "#         lat = np.array(locate_date.mlotst['latitude'][:])\n",
    "#         long = np.array(locate_date.mlotst['longitude'][:])\n",
    "    \n",
    "#         lonneg = [float(i)*-1 for i in inlon]\n",
    "#         distanceslat = []; distanceslon = []\n",
    "#         for i in range(133):\n",
    "#             distanceslat.append((inlat[x] - lat[i])**2)\n",
    "#             index_min_lat = min(range(len(distanceslat)), key=distanceslat.__getitem__)\n",
    "#         for ii in range(181):\n",
    "#             distanceslon.append((lonneg[x] - long[ii])**2)\n",
    "#             index_min_lon = min(range(len(distanceslon)), key=distanceslon.__getitem__)\n",
    "#         lat_index_use, lon_index_use = index_min_lat, index_min_lon\n",
    "#         pointstouse.append(mld_locate_date[lat_index_use, lon_index_use]) "
   ]
  },
  {
   "cell_type": "code",
   "execution_count": 626,
   "metadata": {},
   "outputs": [
    {
     "name": "stdout",
     "output_type": "stream",
     "text": [
      "186\n",
      "69.81182795698925\n",
      "37.477621564927915\n"
     ]
    }
   ],
   "source": [
    "final = sum(finallatestdepth, [])\n",
    "print(len(final))\n",
    "print(np.mean(final))\n",
    "print(np.std(final))"
   ]
  },
  {
   "cell_type": "code",
   "execution_count": 303,
   "metadata": {},
   "outputs": [
    {
     "name": "stdout",
     "output_type": "stream",
     "text": [
      "2\n",
      "29\n",
      "2\n",
      "0\n",
      "3\n",
      "150\n"
     ]
    }
   ],
   "source": [
    "print(len(option1))\n",
    "print(len(option2))\n",
    "print(len(option3))\n",
    "print(len(option4))\n",
    "print(len(option5))\n",
    "print(len(option6))"
   ]
  },
  {
   "cell_type": "code",
   "execution_count": 115,
   "metadata": {},
   "outputs": [
    {
     "name": "stdout",
     "output_type": "stream",
     "text": [
      "6621\n"
     ]
    }
   ],
   "source": [
    "y = 6265 + 102 + 254\n",
    "print(y)"
   ]
  },
  {
   "cell_type": "code",
   "execution_count": null,
   "metadata": {},
   "outputs": [],
   "source": []
  }
 ],
 "metadata": {
  "kernelspec": {
   "display_name": "Python 3",
   "language": "python",
   "name": "python3"
  },
  "language_info": {
   "codemirror_mode": {
    "name": "ipython",
    "version": 3
   },
   "file_extension": ".py",
   "mimetype": "text/x-python",
   "name": "python",
   "nbconvert_exporter": "python",
   "pygments_lexer": "ipython3",
   "version": "3.7.1"
  }
 },
 "nbformat": 4,
 "nbformat_minor": 2
}
