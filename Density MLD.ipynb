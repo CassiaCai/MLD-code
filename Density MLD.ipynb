{
 "cells": [
  {
   "cell_type": "markdown",
   "metadata": {},
   "source": [
    "USE GSW (https://github.com/TEOS-10/GSW-Python) to calculate the potential # density anomaly with respect to a reference sea pressure of 0 dbar (sigma0; sigma0 = potential density - 1000 kg/m^3).\n",
    "\n",
    "1. The first function is for calculation of sigma0 from Absolute Salinity and Conservative Temperature:\n",
    "\n",
    "\tsigma0 = gsw_sigma0(SA,CT); where SA is Absolute Salinity (g/kg), CT is Conservative Temperature (°C)\n",
    "\n",
    "2. The second function is for transformation from potential temperature to Conservative Temperature:\n",
    "\n",
    "\tCT = gsw_CT_from_pt(SA,pt); where pt is potential temperature (°C)"
   ]
  },
  {
   "cell_type": "code",
   "execution_count": null,
   "metadata": {},
   "outputs": [],
   "source": [
    "for year in range(1993,2020):\n",
    "    filename = 'casts_{}.mat'.format(year)\n",
    "    file = scipy.io.loadmat(filename,squeeze_me=True)\n",
    "    npfile = file['casts_{}'.format(year)]\n",
    "    for i in range(len(npfile)):\n",
    "        print(len(npfile))\n",
    "#         yd = npfile[i]['yd']\n",
    "#         p = npfile[i]['p']\n",
    "#         s = npfile[i]['s']\n",
    "#         t = npfile[i]['t']\n",
    "#         gear = npfile[i]['gear']\n",
    "#         floordepth = npfile[i]['depth']\n",
    "#         if gear == 'Bottle':\n",
    "#             pass\n",
    "#         elif yd > 279 and yd <= 280:\n",
    "#             print('yes')"
   ]
  },
  {
   "cell_type": "code",
   "execution_count": null,
   "metadata": {},
   "outputs": [],
   "source": [
    "gsw.sigma0(SA, CT)"
   ]
  },
  {
   "cell_type": "code",
   "execution_count": null,
   "metadata": {},
   "outputs": [],
   "source": [
    "gsw.CT_from_pt(SA, pt)"
   ]
  }
 ],
 "metadata": {
  "kernelspec": {
   "display_name": "Python 3",
   "language": "python",
   "name": "python3"
  },
  "language_info": {
   "codemirror_mode": {
    "name": "ipython",
    "version": 3
   },
   "file_extension": ".py",
   "mimetype": "text/x-python",
   "name": "python",
   "nbconvert_exporter": "python",
   "pygments_lexer": "ipython3",
   "version": "3.7.1"
  }
 },
 "nbformat": 4,
 "nbformat_minor": 2
}
