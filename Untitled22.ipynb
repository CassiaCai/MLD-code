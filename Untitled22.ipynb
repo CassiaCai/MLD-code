{
 "cells": [
  {
   "cell_type": "code",
   "execution_count": 2,
   "metadata": {},
   "outputs": [],
   "source": [
    "# Import libraries\n",
    "import matplotlib.pyplot as plt; import numpy as np; import netCDF4; from netCDF4 import Dataset\n",
    "import pandas as pd; import numpy.ma as ma; import time as timeit; import os; import math\n",
    "import itertools; import scipy.io; import mat73; import collections\n",
    "import cartopy; import cartopy.crs as ccrs\n",
    "from cartopy.mpl.gridliner import LONGITUDE_FORMATTER, LATITUDE_FORMATTER\n",
    "from matplotlib.ticker import FuncFormatter\n",
    "from matplotlib.ticker import AutoMinorLocator; from matplotlib.ticker import FixedLocator\n",
    "from shapely.geometry import Point\n",
    "from shapely.geometry.polygon import Polygon\n",
    "%matplotlib inline\n",
    "import statistics; import xarray as xr; import matplotlib as mpl; import gsw"
   ]
  },
  {
   "cell_type": "code",
   "execution_count": 221,
   "metadata": {},
   "outputs": [],
   "source": [
    "jan = pd.read_csv('1_gmldinfer7.csv'); feb = pd.read_csv('2_gmldinfer7.csv')\n",
    "march = pd.read_csv('3_gmldinfer7.csv'); april = pd.read_csv('4_gmldinfer7.csv')\n",
    "may = pd.read_csv('5_gmldinfer7.csv'); june = pd.read_csv('6_gmldinfer7.csv')\n",
    "july = pd.read_csv('7_gmldinfer7.csv'); aug = pd.read_csv('8_gmldinfer7.csv')\n",
    "sept = pd.read_csv('9_gmldinfer7.csv'); octob = pd.read_csv('10_gmldinfer7.csv')\n",
    "nov = pd.read_csv('11_gmldinfer7.csv'); dec = pd.read_csv('12_gmldinfer7.csv')"
   ]
  },
  {
   "cell_type": "code",
   "execution_count": 223,
   "metadata": {},
   "outputs": [
    {
     "name": "stdout",
     "output_type": "stream",
     "text": [
      "6.714072227478027\n"
     ]
    }
   ],
   "source": [
    "print(np.nanmin(march['glorys_mld']))\n",
    "\n"
   ]
  },
  {
   "cell_type": "code",
   "execution_count": 225,
   "metadata": {},
   "outputs": [
    {
     "data": {
      "text/plain": [
       "(array([ 0.,  0.,  0., 15., 63.]),\n",
       " array([ 0,  2,  4,  6,  8, 10]),\n",
       " <a list of 5 Patch objects>)"
      ]
     },
     "execution_count": 225,
     "metadata": {},
     "output_type": "execute_result"
    },
    {
     "data": {
      "image/png": "[encoded data removed]",
      "text/plain": [
       "<Figure size 432x288 with 1 Axes>"
      ]
     },
     "metadata": {
      "needs_background": "light"
     },
     "output_type": "display_data"
    }
   ],
   "source": [
    "plt.hist(march['glorys_mld'],bins=[0,2,4,6,8,10])"
   ]
  },
  {
   "cell_type": "code",
   "execution_count": 110,
   "metadata": {},
   "outputs": [
    {
     "name": "stdout",
     "output_type": "stream",
     "text": [
      "5.0\n",
      "1011\n",
      "5.0\n",
      "1011\n",
      "5.0\n"
     ]
    }
   ],
   "source": [
    "month = jan\n",
    "print(np.nanmin(month['003densmld']))\n",
    "print(len(month))\n",
    "month['003densmld'] = month.loc[month['003densmld'] < 5, '003densmld'] = 5.0\n",
    "print(np.nanmin(month['003densmld']))\n",
    "print(len(month))\n",
    "fullpandasdataframe = month\n",
    "print(np.nanmin(fullpandasdataframe['003densmld']))"
   ]
  },
  {
   "cell_type": "code",
   "execution_count": 87,
   "metadata": {},
   "outputs": [],
   "source": [
    "fullpandasdataframedroped = fullpandasdataframe.drop(columns=['Unnamed: 0' ])"
   ]
  },
  {
   "cell_type": "code",
   "execution_count": 88,
   "metadata": {},
   "outputs": [],
   "source": [
    "fullpandasdataframedroped.to_csv('12_GLORYSinfer.csv')"
   ]
  },
  {
   "cell_type": "code",
   "execution_count": 99,
   "metadata": {},
   "outputs": [],
   "source": [
    "jan = pd.read_csv('01_usethisone.csv'); feb = pd.read_csv('02_usethisone.csv')\n",
    "march = pd.read_csv('03_usethisone.csv'); april = pd.read_csv('04_usethisone.csv')\n",
    "may = pd.read_csv('05_usethisone.csv'); june = pd.read_csv('06_usethisone.csv')\n",
    "july = pd.read_csv('07_usethisone.csv'); aug = pd.read_csv('08_usethisone.csv')\n",
    "sept = pd.read_csv('09_usethisone.csv'); octob = pd.read_csv('10_usethisone.csv')\n",
    "nov = pd.read_csv('11_usethisone.csv'); dec = pd.read_csv('12_usethisone.csv')"
   ]
  },
  {
   "cell_type": "code",
   "execution_count": 96,
   "metadata": {},
   "outputs": [],
   "source": [
    "jan = pd.read_csv('01_finaldataset.csv'); feb = pd.read_csv('02_finaldataset.csv')\n",
    "march = pd.read_csv('03_finaldataset.csv'); april = pd.read_csv('04_finaldataset.csv')\n",
    "may = pd.read_csv('05_finaldataset.csv'); june = pd.read_csv('06_finaldataset.csv')\n",
    "july = pd.read_csv('07_finaldataset.csv'); aug = pd.read_csv('08_finaldataset.csv')\n",
    "sept = pd.read_csv('09_finaldataset.csv'); octob = pd.read_csv('10_finaldataset.csv')\n",
    "nov = pd.read_csv('11_finaldataset.csv'); dec = pd.read_csv('12_finaldataset.csv')"
   ]
  },
  {
   "cell_type": "code",
   "execution_count": 97,
   "metadata": {},
   "outputs": [
    {
     "name": "stdout",
     "output_type": "stream",
     "text": [
      "     Unnamed: 0  001densmld                      location  obs_lat  obs_lon  \\\n",
      "0             0        53.0     (1993, 71.17, 40.9517, 6)  40.9517  71.1700   \n",
      "1             1        46.0     (1993, 71.05, 40.6983, 6)  40.6983  71.0500   \n",
      "2             2        33.0     (1993, 70.55, 40.6517, 6)  40.6517  70.5500   \n",
      "3             3        32.0   (1993, 70.3833, 40.8317, 6)  40.8317  70.3833   \n",
      "4             4        54.0   (1993, 70.6833, 40.9017, 6)  40.9017  70.6833   \n",
      "..          ...         ...                           ...      ...      ...   \n",
      "950         950         NaN  (1999, 66.5433, 42.4983, 22)  42.4983  66.5433   \n",
      "951         951         NaN    (2001, 73.44, 39.0017, 31)  39.0017  73.4400   \n",
      "952         952         NaN    (2002, 69.5117, 42.41, 30)  42.4100  69.5117   \n",
      "953         953         NaN  (2009, 74.6217, 36.8767, 18)  36.8767  74.6217   \n",
      "954         954         NaN     (2011, 74.615, 36.87, 17)  36.8700  74.6150   \n",
      "\n",
      "     bottomdepth    year  date_no  003densmld  02tempmld  \n",
      "0           53.0  1993.0      6.0        53.0       53.0  \n",
      "1           61.0  1993.0      6.0        49.0       50.0  \n",
      "2           62.0  1993.0      6.0        45.0       33.0  \n",
      "3           51.0  1993.0      6.0        36.0       37.0  \n",
      "4           54.0  1993.0      6.0        54.0       54.0  \n",
      "..           ...     ...      ...         ...        ...  \n",
      "950        272.0  1999.0     22.0         NaN       15.0  \n",
      "951         57.0  2001.0     31.0         NaN       57.0  \n",
      "952        245.0  2002.0     30.0         NaN       58.0  \n",
      "953        418.0  2009.0     18.0         NaN       39.0  \n",
      "954        560.0  2011.0     17.0         NaN      209.0  \n",
      "\n",
      "[955 rows x 10 columns]\n"
     ]
    }
   ],
   "source": [
    "print(jan)"
   ]
  },
  {
   "cell_type": "code",
   "execution_count": 98,
   "metadata": {},
   "outputs": [
    {
     "data": {
      "text/plain": [
       "Unnamed: 0      0\n",
       "001densmld     21\n",
       "location        0\n",
       "obs_lat         0\n",
       "obs_lon         0\n",
       "bottomdepth     0\n",
       "year            0\n",
       "date_no         0\n",
       "003densmld     29\n",
       "02tempmld      15\n",
       "dtype: int64"
      ]
     },
     "execution_count": 98,
     "metadata": {},
     "output_type": "execute_result"
    }
   ],
   "source": [
    "jan.isna().sum()"
   ]
  },
  {
   "cell_type": "code",
   "execution_count": 101,
   "metadata": {},
   "outputs": [
    {
     "data": {
      "text/plain": [
       "Unnamed: 0            0\n",
       "glorys_lat_index     21\n",
       "glorys_lon_index     21\n",
       "bottomdepth         150\n",
       "date_no              21\n",
       "02tempmld           166\n",
       "glorys_mld          150\n",
       "glorysmld_new003     36\n",
       "obs_lat              21\n",
       "obs_lon              21\n",
       "year                 21\n",
       "glorys_lat           21\n",
       "glorys_lon           21\n",
       "glorysmld_new001     50\n",
       "02tempmld_t         238\n",
       "003densmld_d3       252\n",
       "001densmld_d1       244\n",
       "dtype: int64"
      ]
     },
     "execution_count": 101,
     "metadata": {},
     "output_type": "execute_result"
    }
   ],
   "source": [
    "jan.isna().sum()"
   ]
  },
  {
   "cell_type": "code",
   "execution_count": 100,
   "metadata": {},
   "outputs": [
    {
     "name": "stdout",
     "output_type": "stream",
     "text": [
      "      Unnamed: 0  glorys_lat_index  glorys_lon_index  bottomdepth  date_no  \\\n",
      "0              0              71.0              82.0         53.0      6.0   \n",
      "1              1              68.0              83.0         61.0      6.0   \n",
      "2              2              68.0              89.0         62.0      6.0   \n",
      "3              3              70.0              91.0         51.0      6.0   \n",
      "4              4              71.0              88.0         54.0      6.0   \n",
      "...          ...               ...               ...          ...      ...   \n",
      "1174        1174               NaN               NaN          NaN      NaN   \n",
      "1175        1175               NaN               NaN          NaN      NaN   \n",
      "1176        1176               NaN               NaN          NaN      NaN   \n",
      "1177        1177               NaN               NaN          NaN      NaN   \n",
      "1178        1178               NaN               NaN          NaN      NaN   \n",
      "\n",
      "      02tempmld  glorys_mld  glorysmld_new003  obs_lat  obs_lon    year  \\\n",
      "0          53.0   36.469620         55.764290  40.9517  71.1700  1993.0   \n",
      "1          50.0   29.602957         40.344051  40.6983  71.0500  1993.0   \n",
      "2          33.0   47.151100         55.764290  40.6517  70.5500  1993.0   \n",
      "3          37.0   44.251842         55.764290  40.8317  70.3833  1993.0   \n",
      "4          54.0   15.106663         25.211411  40.9017  70.6833  1993.0   \n",
      "...         ...         ...               ...      ...      ...     ...   \n",
      "1174        NaN         NaN               NaN      NaN      NaN     NaN   \n",
      "1175        NaN         NaN               NaN      NaN      NaN     NaN   \n",
      "1176        NaN         NaN               NaN      NaN      NaN     NaN   \n",
      "1177        NaN         NaN               NaN      NaN      NaN     NaN   \n",
      "1178        NaN         NaN               NaN      NaN      NaN     NaN   \n",
      "\n",
      "      glorys_lat  glorys_lon  glorysmld_new001  02tempmld_t  003densmld_d3  \\\n",
      "0      40.916668  -71.166664         25.211411         53.0           53.0   \n",
      "1      40.666668  -71.083336         34.434151         50.0           49.0   \n",
      "2      40.666668  -70.583336         47.373692         33.0           45.0   \n",
      "3      40.833332  -70.416664         47.373692         37.0           36.0   \n",
      "4      40.916668  -70.666664         15.810070         54.0           54.0   \n",
      "...          ...         ...               ...          ...            ...   \n",
      "1174         NaN         NaN               NaN          NaN            NaN   \n",
      "1175         NaN         NaN               NaN          NaN            NaN   \n",
      "1176         NaN         NaN               NaN          NaN            NaN   \n",
      "1177         NaN         NaN               NaN          NaN            NaN   \n",
      "1178         NaN         NaN               NaN          NaN            NaN   \n",
      "\n",
      "      001densmld_d1  \n",
      "0              53.0  \n",
      "1              46.0  \n",
      "2              33.0  \n",
      "3              32.0  \n",
      "4              54.0  \n",
      "...             ...  \n",
      "1174           55.0  \n",
      "1175           39.5  \n",
      "1176           50.0  \n",
      "1177           65.0  \n",
      "1178            6.0  \n",
      "\n",
      "[1179 rows x 17 columns]\n"
     ]
    }
   ],
   "source": [
    "print(jan)"
   ]
  },
  {
   "cell_type": "code",
   "execution_count": 95,
   "metadata": {},
   "outputs": [
    {
     "data": {
      "text/plain": [
       "Unnamed: 0          1\n",
       "obs_lat_y           0\n",
       "obs_lon_y           0\n",
       "glorys_lat_y        0\n",
       "glorys_lon_y        0\n",
       "glorys_lat_index    0\n",
       "glorys_lon_index    0\n",
       "bottomdepth         0\n",
       "year_y              0\n",
       "date_no             0\n",
       "003densmld          0\n",
       "glorys_mld          0\n",
       "index               1\n",
       "dens_thresh         1\n",
       "bottommix           1\n",
       "dtype: int64"
      ]
     },
     "execution_count": 95,
     "metadata": {},
     "output_type": "execute_result"
    }
   ],
   "source": [
    "jan.isna().sum()"
   ]
  },
  {
   "cell_type": "code",
   "execution_count": 92,
   "metadata": {},
   "outputs": [
    {
     "name": "stdout",
     "output_type": "stream",
     "text": [
      "      Unnamed: 0  obs_lat_y  obs_lon_y  glorys_lat_y  glorys_lon_y  \\\n",
      "0            0.0    40.9517    71.1700     40.916668    -71.166664   \n",
      "1            1.0    40.6983    71.0500     40.666668    -71.083336   \n",
      "2            2.0    40.6517    70.5500     40.666668    -70.583336   \n",
      "3            3.0    40.8317    70.3833     40.833332    -70.416664   \n",
      "4            4.0    40.9017    70.6833     40.916668    -70.666664   \n",
      "...          ...        ...        ...           ...           ...   \n",
      "1006      1006.0    39.6517    72.4117     39.666668    -72.416664   \n",
      "1007      1007.0    39.5833    72.4450     39.583332    -72.416664   \n",
      "1008      1008.0    39.6467    72.4750     39.666668    -72.500000   \n",
      "1009      1009.0    39.6617    72.4450     39.666668    -72.416664   \n",
      "1010         NaN    41.0870    67.6520     41.083332    -67.666664   \n",
      "\n",
      "      glorys_lat_index  glorys_lon_index  bottomdepth  year_y  date_no  \\\n",
      "0                 71.0              82.0         53.0  1993.0      6.0   \n",
      "1                 68.0              83.0         61.0  1993.0      6.0   \n",
      "2                 68.0              89.0         62.0  1993.0      6.0   \n",
      "3                 70.0              91.0         51.0  1993.0      6.0   \n",
      "4                 71.0              88.0         54.0  1993.0      6.0   \n",
      "...                ...               ...          ...     ...      ...   \n",
      "1006              56.0              67.0        106.0  2012.0     26.0   \n",
      "1007              55.0              67.0        106.0  2012.0     26.0   \n",
      "1008              56.0              66.0        105.0  2012.0     26.0   \n",
      "1009              56.0              67.0         96.0  2012.0     26.0   \n",
      "1010              73.0             124.0         58.0  1996.0     14.0   \n",
      "\n",
      "      003densmld  glorys_mld   index  dens_thresh  bottommix  \n",
      "0           53.0   36.469620     0.0     0.015462        0.0  \n",
      "1           49.0   29.602957     1.0     0.008818        0.0  \n",
      "2           45.0   47.151100     2.0     0.013409        0.0  \n",
      "3           36.0   44.251842     3.0     0.010049        1.0  \n",
      "4           54.0   15.106663     4.0     0.010066        0.0  \n",
      "...          ...         ...     ...          ...        ...  \n",
      "1006        18.0   30.365919  1139.0     0.002001        0.0  \n",
      "1007        62.0   20.599997  1140.0     0.003607        0.0  \n",
      "1008        26.0   30.365919  1141.0     0.000474        0.0  \n",
      "1009        18.0   30.365919  1142.0     0.002001        0.0  \n",
      "1010        58.0   51.271099     NaN          NaN        NaN  \n",
      "\n",
      "[1011 rows x 15 columns]\n"
     ]
    }
   ],
   "source": [
    "print(jan)"
   ]
  },
  {
   "cell_type": "code",
   "execution_count": 137,
   "metadata": {},
   "outputs": [],
   "source": [
    "jan = pd.read_csv('01_glorysfullcomp.csv'); feb = pd.read_csv('02_glorysfullcomp.csv')\n",
    "march = pd.read_csv('03_glorysfullcomp.csv'); april = pd.read_csv('04_glorysfullcomp.csv')\n",
    "may = pd.read_csv('05_glorysfullcomp.csv'); june = pd.read_csv('06_glorysfullcomp.csv')\n",
    "july = pd.read_csv('07_glorysfullcomp.csv'); aug = pd.read_csv('08_glorysfullcomp.csv')\n",
    "sept = pd.read_csv('09_glorysfullcomp.csv'); octob = pd.read_csv('10_glorysfullcomp.csv')\n",
    "nov = pd.read_csv('11_glorysfullcomp.csv'); dec = pd.read_csv('12_glorysfullcomp.csv')"
   ]
  },
  {
   "cell_type": "code",
   "execution_count": 197,
   "metadata": {},
   "outputs": [
    {
     "name": "stdout",
     "output_type": "stream",
     "text": [
      "5.0\n",
      "244\n",
      "5.0\n",
      "244\n",
      "5.0\n"
     ]
    }
   ],
   "source": [
    "month = dec\n",
    "print(np.nanmin(month['003densmld']))\n",
    "print(len(month))\n",
    "month['003densmld'] = month.loc[month['003densmld'] < 5, '003densmld'] = 5.0\n",
    "print(np.nanmin(month['003densmld']))\n",
    "print(len(month))\n",
    "fullpandasdataframe = month\n",
    "print(np.nanmin(fullpandasdataframe['003densmld']))"
   ]
  },
  {
   "cell_type": "code",
   "execution_count": 198,
   "metadata": {},
   "outputs": [],
   "source": [
    "fullpandasdataframedroped = fullpandasdataframe.drop(columns=['Unnamed: 0' ])"
   ]
  },
  {
   "cell_type": "code",
   "execution_count": 199,
   "metadata": {},
   "outputs": [],
   "source": [
    "fullpandasdataframedroped_ren = fullpandasdataframedroped.rename(columns={\"obs_lon_y\": \"obs_lon\"})\n"
   ]
  },
  {
   "cell_type": "code",
   "execution_count": 200,
   "metadata": {},
   "outputs": [
    {
     "data": {
      "text/plain": [
       "glorys_lat_index    0\n",
       "glorys_lon_index    0\n",
       "bottomdepth         0\n",
       "003densmld          0\n",
       "glorys_mld          0\n",
       "obs_lat             0\n",
       "obs_lon             0\n",
       "date                0\n",
       "year                0\n",
       "glorys_lat          0\n",
       "glorys_lon          0\n",
       "glorysmld_new003    0\n",
       "glorysmld_new001    0\n",
       "dtype: int64"
      ]
     },
     "execution_count": 200,
     "metadata": {},
     "output_type": "execute_result"
    }
   ],
   "source": [
    "fullpandasdataframedroped_ren.isna().sum()"
   ]
  },
  {
   "cell_type": "code",
   "execution_count": 201,
   "metadata": {},
   "outputs": [],
   "source": [
    "fullpandasdataframedroped_ren.to_csv('12_Glorys_fullcomp.csv')"
   ]
  },
  {
   "cell_type": "code",
   "execution_count": 216,
   "metadata": {},
   "outputs": [],
   "source": [
    "jan = pd.read_csv('01_finaldataset.csv'); feb = pd.read_csv('02_finaldataset.csv')\n",
    "march = pd.read_csv('03_finaldataset.csv'); april = pd.read_csv('04_finaldataset.csv')\n",
    "may = pd.read_csv('05_finaldataset.csv'); june = pd.read_csv('06_finaldataset.csv')\n",
    "july = pd.read_csv('07_finaldataset.csv'); aug = pd.read_csv('08_finaldataset.csv')\n",
    "sept = pd.read_csv('09_finaldataset.csv'); octob = pd.read_csv('10_finaldataset.csv')\n",
    "nov = pd.read_csv('11_finaldataset.csv'); dec = pd.read_csv('12_finaldataset.csv')"
   ]
  },
  {
   "cell_type": "code",
   "execution_count": 219,
   "metadata": {},
   "outputs": [
    {
     "name": "stdout",
     "output_type": "stream",
     "text": [
      "5.0\n",
      "919\n",
      "5.0\n",
      "5.0\n",
      "919\n",
      "5.0\n",
      "5.0\n",
      "919\n"
     ]
    },
    {
     "name": "stderr",
     "output_type": "stream",
     "text": [
      "/anaconda3/lib/python3.7/site-packages/ipykernel_launcher.py:6: SettingWithCopyWarning: \n",
      "A value is trying to be set on a copy of a slice from a DataFrame.\n",
      "Try using .loc[row_indexer,col_indexer] = value instead\n",
      "\n",
      "See the caveats in the documentation: https://pandas.pydata.org/pandas-docs/stable/user_guide/indexing.html#returning-a-view-versus-a-copy\n",
      "  \n",
      "/anaconda3/lib/python3.7/site-packages/ipykernel_launcher.py:7: SettingWithCopyWarning: \n",
      "A value is trying to be set on a copy of a slice from a DataFrame.\n",
      "Try using .loc[row_indexer,col_indexer] = value instead\n",
      "\n",
      "See the caveats in the documentation: https://pandas.pydata.org/pandas-docs/stable/user_guide/indexing.html#returning-a-view-versus-a-copy\n",
      "  import sys\n"
     ]
    }
   ],
   "source": [
    "month = jan\n",
    "month_ = month.dropna(subset=['003densmld'])\n",
    "month_month = month_.dropna(subset=['02tempmld'])\n",
    "print(np.nanmin(month_month['003densmld']))\n",
    "print(len(month_month))\n",
    "month_month['003densmld'] = month_month.loc[month_month['003densmld'] < 5, '003densmld'] = 5.0\n",
    "month_month['02tempmld'] = month_month.loc[month_month['02tempmld'] < 5, '02tempmld'] = 5.0\n",
    "print(np.nanmin(month_month['003densmld']))\n",
    "print(np.nanmin(month_month['02tempmld']))\n",
    "print(len(month_month))\n",
    "fullpandasdataframe = month_month\n",
    "print(np.nanmin(fullpandasdataframe['003densmld']))\n",
    "print(np.nanmin(fullpandasdataframe['02tempmld']))\n",
    "print(len(fullpandasdataframe))"
   ]
  },
  {
   "cell_type": "code",
   "execution_count": 220,
   "metadata": {},
   "outputs": [
    {
     "data": {
      "text/plain": [
       "Unnamed: 0      0\n",
       "001densmld     21\n",
       "location        0\n",
       "obs_lat         0\n",
       "obs_lon         0\n",
       "bottomdepth     0\n",
       "year            0\n",
       "date_no         0\n",
       "003densmld     29\n",
       "02tempmld      15\n",
       "dtype: int64"
      ]
     },
     "execution_count": 220,
     "metadata": {},
     "output_type": "execute_result"
    }
   ],
   "source": [
    "fullpandasdataframe.isna().sum()"
   ]
  },
  {
   "cell_type": "code",
   "execution_count": null,
   "metadata": {},
   "outputs": [],
   "source": [
    "fullpandasdataframe.to_csv('01_tempdensgmld.csv')"
   ]
  }
 ],
 "metadata": {
  "kernelspec": {
   "display_name": "Python 3",
   "language": "python",
   "name": "python3"
  },
  "language_info": {
   "codemirror_mode": {
    "name": "ipython",
    "version": 3
   },
   "file_extension": ".py",
   "mimetype": "text/x-python",
   "name": "python",
   "nbconvert_exporter": "python",
   "pygments_lexer": "ipython3",
   "version": "3.7.1"
  }
 },
 "nbformat": 4,
 "nbformat_minor": 2
}
