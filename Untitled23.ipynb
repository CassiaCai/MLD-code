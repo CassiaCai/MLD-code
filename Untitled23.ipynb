{
 "cells": [
  {
   "cell_type": "code",
   "execution_count": 29,
   "metadata": {},
   "outputs": [],
   "source": [
    "import matplotlib.pyplot as plt; import numpy as np; import netCDF4; from netCDF4 import Dataset\n",
    "import pandas as pd; import numpy.ma as ma; import time as timeit; import os; import math\n",
    "import itertools; import scipy.io; import mat73; import collections\n",
    "import cartopy; import cartopy.crs as ccrs\n",
    "from cartopy.mpl.gridliner import LONGITUDE_FORMATTER, LATITUDE_FORMATTER\n",
    "from matplotlib.ticker import FuncFormatter\n",
    "from matplotlib.ticker import AutoMinorLocator; from matplotlib.ticker import FixedLocator\n",
    "from shapely.geometry import Point\n",
    "from shapely.geometry.polygon import Polygon\n",
    "%matplotlib inline\n",
    "import statistics; import xarray as xr; import matplotlib as mpl; import gsw"
   ]
  },
  {
   "cell_type": "code",
   "execution_count": 44,
   "metadata": {},
   "outputs": [],
   "source": [
    "newt = [['', '', '42.20', '', '', '70.50'], ['', '', '42.00', '', '', '70.00'], ['', '', '41.10', '', '', '69.00'], ['', '', '41.80', '', '', '68.00'], ['', '', '44.20', '', '', '68.00'], ['', '', '43.90', '', '', '69.00'], ['', '', '43.70', '', '', '70.00'], ['', '', '43.00', '', '', '70.50'], ['', '', '42.20', '', '', '70.50']]\n",
    "lon_t = []; lat_t = []\n",
    "for i in range(9): \n",
    "    t1 = newt[i][2]\n",
    "    lat_t.append(t1)\n",
    "    t3 = newt[i][5]\n",
    "    lon_t.append(t3)\n",
    "lonlist_t = [float(i) for i in lon_t]; latlist_t = [float(i) for i in lat_t]\n",
    "df_t = pd.DataFrame({'lon': lonlist_t, 'lat': latlist_t,})\n",
    "lonlist_t_plot = [float(i)*-1 for i in lon_t]; latlist_t = [float(i) for i in lat_t]\n",
    "df_t_plot = pd.DataFrame({'lon': lonlist_t_plot, 'lat': latlist_t,})\n",
    "x_t = df_t_plot['lon']; y_t = df_t_plot['lat']\n",
    "\n",
    "lonlist_tneg = [float(i)*-1 for i in lon_t]\n",
    "df_t_plottable = pd.DataFrame({'lon': lonlist_tneg, 'lat': latlist_t,})\n",
    "polygon_t = Polygon(df_t.values)"
   ]
  },
  {
   "cell_type": "code",
   "execution_count": 30,
   "metadata": {},
   "outputs": [],
   "source": [
    "# temperature from here\n",
    "jan = pd.read_csv('01_finaldataset.csv'); feb = pd.read_csv('02_finaldataset.csv')\n",
    "march = pd.read_csv('03_finaldataset.csv'); april = pd.read_csv('04_finaldataset.csv')\n",
    "may = pd.read_csv('05_finaldataset.csv'); june = pd.read_csv('06_finaldataset.csv')\n",
    "july = pd.read_csv('07_finaldataset.csv'); aug = pd.read_csv('08_finaldataset.csv')\n",
    "sept = pd.read_csv('09_finaldataset.csv'); octob = pd.read_csv('10_finaldataset.csv')\n",
    "nov = pd.read_csv('11_finaldataset.csv'); dec = pd.read_csv('12_finaldataset.csv')"
   ]
  },
  {
   "cell_type": "code",
   "execution_count": 31,
   "metadata": {},
   "outputs": [],
   "source": [
    "winter = [dec, jan, feb]; spring = [march, april, may]; summer = [june, july, aug]; fall = [sept, octob, nov]\n",
    "winter_concat = pd.concat(winter); winter_reset = winter_concat.reset_index()\n",
    "spring_concat = pd.concat(spring); spring_reset = spring_concat.reset_index()\n",
    "summer_concat = pd.concat(summer); summer_reset = summer_concat.reset_index()\n",
    "fall_concat = pd.concat(fall); fall_reset = fall_concat.reset_index()"
   ]
  },
  {
   "cell_type": "code",
   "execution_count": 37,
   "metadata": {},
   "outputs": [
    {
     "name": "stdout",
     "output_type": "stream",
     "text": [
      "4199\n",
      "3988\n",
      "3938\n"
     ]
    }
   ],
   "source": [
    "print(len(winter_reset))\n",
    "winter_reset_no5 = winter_reset[winter_reset['003densmld'] > 5]  \n",
    "print(len(winter_reset_no5))\n",
    "winter_reset_no55 = winter_reset_no5[winter_reset_no5['02tempmld'] > 5]  \n",
    "print(len(winter_reset_no55))"
   ]
  },
  {
   "cell_type": "code",
   "execution_count": 38,
   "metadata": {},
   "outputs": [
    {
     "name": "stdout",
     "output_type": "stream",
     "text": [
      "11320\n",
      "9787\n",
      "9668\n"
     ]
    }
   ],
   "source": [
    "print(len(spring_reset))\n",
    "spring_reset_no5 = spring_reset[spring_reset['003densmld'] > 5]  \n",
    "print(len(spring_reset_no5))\n",
    "spring_reset_no55 = spring_reset_no5[spring_reset_no5['02tempmld'] > 5]  \n",
    "print(len(spring_reset_no55))"
   ]
  },
  {
   "cell_type": "code",
   "execution_count": 41,
   "metadata": {},
   "outputs": [
    {
     "name": "stdout",
     "output_type": "stream",
     "text": [
      "3566\n",
      "3153\n",
      "3099\n"
     ]
    }
   ],
   "source": [
    "print(len(march))\n",
    "march_no5 = march[march['003densmld'] > 5]  \n",
    "print(len(march_no5))\n",
    "march_no55 = march_no5[march_no5['02tempmld'] > 5]  \n",
    "print(len(march_no55))"
   ]
  },
  {
   "cell_type": "code",
   "execution_count": 42,
   "metadata": {},
   "outputs": [
    {
     "name": "stdout",
     "output_type": "stream",
     "text": [
      "3956\n",
      "3689\n",
      "3660\n"
     ]
    }
   ],
   "source": [
    "print(len(april))\n",
    "april_no5 = april[april['003densmld'] > 5]  \n",
    "print(len(april_no5))\n",
    "april_no55 = april_no5[april_no5['02tempmld'] > 5]  \n",
    "print(len(april_no55))"
   ]
  },
  {
   "cell_type": "code",
   "execution_count": 63,
   "metadata": {},
   "outputs": [
    {
     "name": "stdout",
     "output_type": "stream",
     "text": [
      "3001\n",
      "2845\n",
      "2804\n"
     ]
    }
   ],
   "source": [
    "print(len(feb))\n",
    "feb_no5 = feb[feb['003densmld'] > 5]  \n",
    "print(len(feb_no5))\n",
    "feb_no55 = feb_no5[feb_no5['02tempmld'] > 5]  \n",
    "print(len(feb_no55))"
   ]
  },
  {
   "cell_type": "code",
   "execution_count": 46,
   "metadata": {},
   "outputs": [
    {
     "name": "stdout",
     "output_type": "stream",
     "text": [
      "      Unnamed: 0  001densmld                              location  obs_lat  \\\n",
      "0              0         7.0          (1993, 73.8133, 38.1917, 68)  38.1917   \n",
      "1              1        10.0           (1993, 74.045, 38.1517, 68)  38.1517   \n",
      "2              2        10.0            (1993, 74.0467, 37.98, 68)  37.9800   \n",
      "3              3        23.0            (1993, 74.3867, 37.81, 69)  37.8100   \n",
      "4              4         5.0          (1993, 74.4817, 37.6883, 69)  37.6883   \n",
      "...          ...         ...                                   ...      ...   \n",
      "3534        3534         NaN          (2014, 67.5133, 41.3617, 63)  41.3617   \n",
      "3535        3535         NaN              (2014, 68.0, 41.165, 63)  41.1650   \n",
      "3536        3536         NaN            (2014, 73.9167, 39.43, 78)  39.4300   \n",
      "3537        3537         NaN          (2014, 73.8717, 39.6483, 78)  39.6483   \n",
      "3538        3538         NaN  (2015, 75.17833333333333, 36.29, 79)  36.2900   \n",
      "\n",
      "        obs_lon  bottomdepth    year  date_no  003densmld  02tempmld  \n",
      "0     73.813300        117.0  1993.0     68.0        11.0       14.0  \n",
      "1     74.045000         78.0  1993.0     68.0        29.0       54.0  \n",
      "2     74.046700        117.0  1993.0     68.0        13.0       26.0  \n",
      "3     74.386700         59.0  1993.0     69.0        23.0       59.0  \n",
      "4     74.481700         63.0  1993.0     69.0         9.0       63.0  \n",
      "...         ...          ...     ...      ...         ...        ...  \n",
      "3534  67.513300         38.0  2014.0     63.0        38.0       38.0  \n",
      "3535  68.000000         43.0  2014.0     63.0        43.0       43.0  \n",
      "3536  73.916700         29.0  2014.0     78.0        29.0       29.0  \n",
      "3537  73.871700         28.0  2014.0     78.0        28.0       28.0  \n",
      "3538  75.178333         38.0  2015.0     79.0        38.0       38.0  \n",
      "\n",
      "[3099 rows x 10 columns]\n"
     ]
    }
   ],
   "source": [
    "print(march_no55)"
   ]
  },
  {
   "cell_type": "code",
   "execution_count": 66,
   "metadata": {},
   "outputs": [],
   "source": [
    "season = feb #spring_list_reindex\n",
    "variable = '003densmld'\n",
    "\n",
    "lonlist_t = []; latlist_t = []; diff_t= [] ; year_list = []\n",
    "\n",
    "newdf = pd.DataFrame({'lon': list(season['obs_lon']),'lat': list(season['obs_lat'])})  \n",
    "for ii in range(len(season)):\n",
    "    new = newdf.iloc[ii].values\n",
    "    point = Point(new)\n",
    "    if polygon_t.contains(point) == True and (season[variable][ii]>5) and (season['02tempmld'][ii]>5): #and (season['bottomdepth'][ii]<=200) \n",
    "        diff_t.append(season['02tempmld'][ii]-season['003densmld'][ii])\n",
    "        lonlist_t.append(season['obs_lon'][ii])\n",
    "        latlist_t.append(season['obs_lat'][ii])\n",
    "        year_list.append(season['year'][ii])\n",
    "    \n",
    "pandasnew_t = pd.DataFrame({'diff': diff_t, 'lon':lonlist_t, 'lat':latlist_t, 'year': year_list})"
   ]
  },
  {
   "cell_type": "code",
   "execution_count": 67,
   "metadata": {},
   "outputs": [
    {
     "name": "stdout",
     "output_type": "stream",
     "text": [
      "6.06820901801696\n",
      "             diff        lon        lat\n",
      "year                                   \n",
      "1995.0   0.000000  68.700850  41.546700\n",
      "1996.0  59.000000  68.506850  41.625600\n",
      "1997.0   1.307692  68.491815  41.658223\n",
      "1998.0   1.571429  68.536800  41.603471\n",
      "1999.0  19.100000  68.863340  41.796130\n",
      "2005.0   0.000000  68.861700  41.231700\n",
      "2007.0 -13.625000  68.690625  43.143738\n",
      "2008.0  -1.608696  69.053913  42.812352\n",
      "2009.0   8.315789  69.028068  42.569116\n",
      "2010.0  -2.785714  69.888454  42.471493\n",
      "2011.0   6.315789  69.482766  42.571053\n",
      "2012.0   8.000000  69.325838  42.428825\n",
      "2013.0   1.000000  69.261147  42.979121\n",
      "2017.0  -1.636364  69.039242  41.952727\n"
     ]
    }
   ],
   "source": [
    "pandasnew_tyear = pandasnew_t.groupby('year').mean()\n",
    "print(np.mean(pandasnew_tyear['diff']))\n",
    "print(pandasnew_tyear)"
   ]
  },
  {
   "cell_type": "code",
   "execution_count": 50,
   "metadata": {},
   "outputs": [
    {
     "name": "stdout",
     "output_type": "stream",
     "text": [
      "     diff      lon      lat    year\n",
      "0    11.0  68.3280  41.8600  1995.0\n",
      "1    -2.0  68.4420  41.5950  1995.0\n",
      "2   -17.0  68.3630  42.3170  1995.0\n",
      "3     1.0  68.0067  41.8300  1996.0\n",
      "4     0.0  68.1817  41.7267  1996.0\n",
      "..    ...      ...      ...     ...\n",
      "156   1.0  69.4983  42.7533  2014.0\n",
      "157  -3.0  69.6667  42.5050  2014.0\n",
      "158   0.0  70.2833  42.3150  2014.0\n",
      "159   4.0  70.0150  42.2500  2014.0\n",
      "160   0.0  70.0700  42.1100  2004.0\n",
      "\n",
      "[161 rows x 4 columns]\n"
     ]
    }
   ],
   "source": [
    "print(pandasnew_t)"
   ]
  },
  {
   "cell_type": "code",
   "execution_count": 40,
   "metadata": {},
   "outputs": [
    {
     "name": "stdout",
     "output_type": "stream",
     "text": [
      "7880\n",
      "      index  Unnamed: 0  001densmld                       location  obs_lat  \\\n",
      "0         0           0         5.0   (1993, 66.055, 41.7683, 156)  41.7683   \n",
      "1         1           1         5.0  (1993, 66.6733, 40.9567, 163)  40.9567   \n",
      "2         2           2         7.0    (1993, 68.01, 40.4967, 175)  40.4967   \n",
      "3         3           3         9.0   (1993, 68.0667, 40.315, 175)  40.3150   \n",
      "4         4           4         5.0  (1993, 68.2717, 40.5217, 176)  40.5217   \n",
      "...     ...         ...         ...                            ...      ...   \n",
      "7875   3476        3476         NaN     (2004, 69.99, 40.915, 235)  40.9150   \n",
      "7876   3477        3477         NaN  (2005, 69.6617, 42.5017, 232)  42.5017   \n",
      "7877   3478        3478         NaN    (2008, 67.48, 42.3517, 237)  42.3517   \n",
      "7878   3479        3479         NaN  (2009, 72.4083, 39.5433, 238)  39.5433   \n",
      "7879   3480        3480         NaN  (2009, 67.5533, 40.9367, 237)  40.9367   \n",
      "\n",
      "      obs_lon  bottomdepth    year  date_no  003densmld  02tempmld  \n",
      "0     66.0550         97.0  1993.0    156.0         6.0        7.0  \n",
      "1     66.6733         94.0  1993.0    163.0         5.0        5.0  \n",
      "2     68.0100        120.0  1993.0    175.0        10.0       15.0  \n",
      "3     68.0667        184.0  1993.0    175.0        11.0       15.0  \n",
      "4     68.2717         91.0  1993.0    176.0         7.0       16.0  \n",
      "...       ...          ...     ...      ...         ...        ...  \n",
      "7875  69.9900         29.0  2004.0    235.0         NaN        7.0  \n",
      "7876  69.6617        239.0  2005.0    232.0         NaN       10.0  \n",
      "7877  67.4800        308.0  2008.0    237.0         NaN        5.0  \n",
      "7878  72.4083        545.0  2009.0    238.0         NaN       11.0  \n",
      "7879  67.5533         71.0  2009.0    237.0         NaN        5.0  \n",
      "\n",
      "[7880 rows x 11 columns]\n",
      "4718\n",
      "4678\n"
     ]
    }
   ],
   "source": [
    "print(len(summer_reset))\n",
    "print(summer_reset)\n",
    "summer_reset_no5 = summer_reset[summer_reset['003densmld'] > 5]  \n",
    "print(len(summer_reset_no5))\n",
    "summer_reset_no55 = summer_reset_no5[summer_reset_no5['02tempmld'] > 5]  \n",
    "print(len(summer_reset_no55))"
   ]
  },
  {
   "cell_type": "code",
   "execution_count": null,
   "metadata": {},
   "outputs": [],
   "source": [
    "print(len(summer_reset))\n",
    "summer_reset_no5 = summer_reset[summer_reset['003densmld'] > 5]  \n",
    "print(len(summer_reset_no5))\n",
    "summer_reset_no55 = summer_reset_no5[summer_reset_no5['02tempmld'] > 5]  \n",
    "print(len(summer_reset_no55))"
   ]
  }
 ],
 "metadata": {
  "kernelspec": {
   "display_name": "Python 3",
   "language": "python",
   "name": "python3"
  },
  "language_info": {
   "codemirror_mode": {
    "name": "ipython",
    "version": 3
   },
   "file_extension": ".py",
   "mimetype": "text/x-python",
   "name": "python",
   "nbconvert_exporter": "python",
   "pygments_lexer": "ipython3",
   "version": "3.7.1"
  }
 },
 "nbformat": 4,
 "nbformat_minor": 2
}
