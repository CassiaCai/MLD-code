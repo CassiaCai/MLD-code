{
 "cells": [
  {
   "cell_type": "markdown",
   "metadata": {},
   "source": [
    "### Download necessary packages"
   ]
  },
  {
   "cell_type": "code",
   "execution_count": 189,
   "metadata": {},
   "outputs": [],
   "source": [
    "import matplotlib.pyplot as plt; import numpy as np; import netCDF4; from netCDF4 import Dataset\n",
    "import pandas as pd; import numpy.ma as ma; import time as timeit; import os; import math\n",
    "import itertools; import scipy.io; import mat73; import collections\n",
    "import cartopy; import cartopy.crs as ccrs\n",
    "from cartopy.mpl.gridliner import LONGITUDE_FORMATTER, LATITUDE_FORMATTER\n",
    "from matplotlib.ticker import FuncFormatter\n",
    "from matplotlib.ticker import AutoMinorLocator; from matplotlib.ticker import FixedLocator\n",
    "from shapely.geometry import Point\n",
    "from shapely.geometry.polygon import Polygon\n",
    "%matplotlib inline\n",
    "import statistics; import xarray as xr; from scipy.interpolate import griddata\n",
    "from matplotlib.path import Path"
   ]
  },
  {
   "cell_type": "markdown",
   "metadata": {},
   "source": [
    "### Create region polygons"
   ]
  },
  {
   "cell_type": "code",
   "execution_count": 190,
   "metadata": {},
   "outputs": [],
   "source": [
    "import re\n",
    "w = open(\"bndgb2.txt\", \"r\", encoding=\"utf-8\")\n",
    "w.read()\n",
    "w = '  40.00   69.50\\n  40.30   68.00\\n  40.40   67.50\\n  40.60   67.00\\n  40.80   66.50\\n  41.45   66.00\\n  41.80   65.70\\n  42.10   66.00\\n  42.10   67.00\\n  42.10   67.50\\n  41.80   68.00\\n  41.10   69.00\\n  41.00   69.50\\n  40.00   69.50\\n'\n",
    "output1w = w.split('\\n')\n",
    "\n",
    "neww = [] \n",
    "for string in output1w:\n",
    "    output2w = string.split(' ')\n",
    "    neww.append(output2w)\n",
    "\n",
    "neww = [['', '', '40.00', '', '', '69.50'], ['', '', '40.30', '', '', '68.00'], ['', '', '40.40', '', '', '67.50'], ['', '', '40.60', '', '', '67.00'], ['', '', '40.80', '', '', '66.50'], ['', '', '41.45', '', '', '66.00'], ['', '', '41.80', '', '', '65.70'], ['', '', '42.10', '', '', '66.00'], ['', '', '42.10', '', '', '67.00'], ['', '', '42.10', '', '', '67.50'], ['', '', '41.80', '', '', '68.00'], ['', '', '41.10', '', '', '69.00'], ['', '', '41.00', '', '', '69.50'], ['', '', '40.00', '', '', '69.50']]\n",
    "lon_w = []; lat_w = []\n",
    "\n",
    "for i in range(14): \n",
    "    w1 = neww[i][2]\n",
    "    lat_w.append(w1)\n",
    "    w3 = neww[i][5]\n",
    "    lon_w.append(w3)\n",
    "lonlist_w = [float(i) for i in lon_w]; latlist_w = [float(i) for i in lat_w]\n",
    "lonlist_wneg = [float(i)*-1 for i in lon_w]\n",
    "df_w = pd.DataFrame({'lon': lonlist_w, 'lat': latlist_w,})\n",
    "df_w_plottable = pd.DataFrame({'lon': lonlist_wneg, 'lat': latlist_w,})\n",
    "\n",
    "\n",
    "lonlist_w_plot = [float(i)*-1 for i in lon_w]; latlist_w = [float(i) for i in lat_w]\n",
    "df_w_plot = pd.DataFrame({'lon': lonlist_w_plot, 'lat': latlist_w,})\n",
    "x_w = df_w_plot['lon']; y_w = df_w_plot['lat']"
   ]
  },
  {
   "cell_type": "code",
   "execution_count": 191,
   "metadata": {},
   "outputs": [
    {
     "name": "stdout",
     "output_type": "stream",
     "text": [
      "POLYGON ((69.5 40, 68 40.3, 67.5 40.4, 67 40.6, 66.5 40.8, 66 41.45, 65.7 41.8, 66 42.1, 67 42.1, 67.5 42.1, 68 41.8, 69 41.1, 69.5 41, 69.5 40))\n"
     ]
    }
   ],
   "source": [
    "polygon_w = Polygon(df_w.values)\n",
    "print(polygon_w)"
   ]
  },
  {
   "cell_type": "code",
   "execution_count": 192,
   "metadata": {},
   "outputs": [
    {
     "name": "stdout",
     "output_type": "stream",
     "text": [
      "POLYGON ((-69.5 40, -68 40.3, -67.5 40.4, -67 40.6, -66.5 40.8, -66 41.45, -65.7 41.8, -66 42.1, -67 42.1, -67.5 42.1, -68 41.8, -69 41.1, -69.5 41, -69.5 40))\n"
     ]
    }
   ],
   "source": [
    "from shapely import geometry\n",
    "\n",
    "poly_w = geometry.Polygon(df_w.values)\n",
    "poly_plottable_w = geometry.Polygon(df_w_plottable.values)\n",
    "\n",
    "polygon_w_plottable = Polygon(df_w_plottable.values)\n",
    "print(polygon_w_plottable)"
   ]
  },
  {
   "cell_type": "code",
   "execution_count": 193,
   "metadata": {},
   "outputs": [],
   "source": [
    "# print(type(df_w_plottable))"
   ]
  },
  {
   "cell_type": "code",
   "execution_count": 194,
   "metadata": {},
   "outputs": [
    {
     "name": "stdout",
     "output_type": "stream",
     "text": [
      "POLYGON ((69.5 40, 68 40.3, 67.5 40.4, 67 40.6, 66.5 40.8, 66 41.45, 65.7 41.8, 66 42.1, 67 42.1, 67.5 42.1, 68 41.8, 69 41.1, 69.5 41, 69.5 40))\n",
      "POLYGON ((-69.5 40, -68 40.3, -67.5 40.4, -67 40.6, -66.5 40.8, -66 41.45, -65.7 41.8, -66 42.1, -67 42.1, -67.5 42.1, -68 41.8, -69 41.1, -69.5 41, -69.5 40))\n"
     ]
    }
   ],
   "source": [
    "print(poly_w)\n",
    "print(poly_plottable_w)"
   ]
  },
  {
   "cell_type": "code",
   "execution_count": 195,
   "metadata": {},
   "outputs": [],
   "source": [
    "v = open(\"bndmbs.txt\", \"r\", encoding=\"utf-8\")\n",
    "v.read()\n",
    "v = '  37.00   76.00\\n  36.00   75.50\\n  35.50   75.00\\n  36.00   74.75\\n  37.40   74.50\\n  39.50   72.00\\n  40.50   74.00\\n  39.40   74.25\\n  37.00   76.00\\n'\n",
    "output1v = v.split('\\n')\n",
    "\n",
    "newv = [] \n",
    "for string in output1v:\n",
    "    output2v = string.split(' ')\n",
    "    newv.append(output2v)\n",
    "\n",
    "newv = [['', '', '37.00', '', '', '76.00'], ['', '', '36.00', '', '', '75.50'], ['', '', '35.50', '', '', '75.00'], ['', '', '36.00', '', '', '74.75'], ['', '', '37.40', '', '', '74.50'], ['', '', '39.50', '', '', '72.00'], ['', '', '40.50', '', '', '74.00'], ['', '', '39.40', '', '', '74.25'], ['', '', '37.00', '', '', '76.00']]\n",
    "lon_v = []; lat_v = []\n",
    "\n",
    "for i in range(9): \n",
    "    v1 = newv[i][2]\n",
    "    lat_v.append(v1)\n",
    "    v3 = newv[i][5]\n",
    "    lon_v.append(v3)\n",
    "lonlist_v = [float(i) for i in lon_v]; latlist_v = [float(i) for i in lat_v]\n",
    "df_v = pd.DataFrame({'lon': lonlist_v, 'lat': latlist_v,})\n",
    "\n",
    "lonlist_v_plot = [float(i)*-1 for i in lon_v]; latlist_v = [float(i) for i in lat_v]\n",
    "df_v_plot = pd.DataFrame({'lon': lonlist_v_plot, 'lat': latlist_v,})\n",
    "x_v = df_v_plot['lon']; y_v = df_v_plot['lat']\n",
    "\n",
    "\n",
    "lonlist_vneg = [float(i)*-1 for i in lon_v]\n",
    "df_v_plottable = pd.DataFrame({'lon': lonlist_vneg, 'lat': latlist_v,})"
   ]
  },
  {
   "cell_type": "code",
   "execution_count": 196,
   "metadata": {},
   "outputs": [],
   "source": [
    "# print(df_v_plottable)"
   ]
  },
  {
   "cell_type": "code",
   "execution_count": 197,
   "metadata": {},
   "outputs": [
    {
     "name": "stdout",
     "output_type": "stream",
     "text": [
      "POLYGON ((76 37, 75.5 36, 75 35.5, 74.75 36, 74.5 37.4, 72 39.5, 74 40.5, 74.25 39.4, 76 37))\n"
     ]
    }
   ],
   "source": [
    "polygon_v = Polygon(df_v.values.tolist())\n",
    "print(polygon_v)"
   ]
  },
  {
   "cell_type": "code",
   "execution_count": 198,
   "metadata": {},
   "outputs": [],
   "source": [
    "x = open(\"bndmbn.txt\", \"r\", encoding=\"utf-8\")\n",
    "x.read()\n",
    "x = '  40.50   74.00\\n  39.50   72.00\\n  40.00   71.40\\n  40.00   69.50\\n  41.00   69.50\\n  41.10   70.00\\n  41.00   72.00\\n  40.50   74.00\\n'\n",
    "output1x = x.split('\\n')\n",
    "\n",
    "newx = [] \n",
    "for string in output1x:\n",
    "    output2x = string.split(' ')\n",
    "    newx.append(output2x)\n",
    "newx = [['', '', '40.50', '', '', '74.00'], ['', '', '39.50', '', '', '72.00'], ['', '', '40.00', '', '', '71.40'], ['', '', '40.00', '', '', '69.50'], ['', '', '41.00', '', '', '69.50'], ['', '', '41.10', '', '', '70.00'], ['', '', '41.00', '', '', '72.00'], ['', '', '40.50', '', '', '74.00']]\n",
    "lon_x = []; lat_x = []\n",
    "\n",
    "for i in range(8): \n",
    "    x1 = newx[i][2]\n",
    "    lat_x.append(x1)\n",
    "    x3 = newx[i][5]\n",
    "    lon_x.append(x3)\n",
    "lonlist_x = [float(i) for i in lon_x]; latlist_x = [float(i) for i in lat_x]\n",
    "df_x = pd.DataFrame({'lon': lonlist_x, 'lat': latlist_x,})\n",
    "\n",
    "lonlist_x_plot = [float(i)*-1 for i in lon_x]; latlist_x = [float(i) for i in lat_x]\n",
    "df_x_plot = pd.DataFrame({'lon': lonlist_x_plot, 'lat': latlist_x,})\n",
    "x_x = df_x_plot['lon']; y_x = df_x_plot['lat']\n",
    "\n",
    "lonlist_xneg = [float(i)*-1 for i in lon_x]\n",
    "df_x_plottable = pd.DataFrame({'lon': lonlist_xneg, 'lat': latlist_x,})"
   ]
  },
  {
   "cell_type": "code",
   "execution_count": 199,
   "metadata": {},
   "outputs": [],
   "source": [
    "# print(df_x_plottable)"
   ]
  },
  {
   "cell_type": "code",
   "execution_count": 200,
   "metadata": {},
   "outputs": [
    {
     "name": "stdout",
     "output_type": "stream",
     "text": [
      "POLYGON ((74 40.5, 72 39.5, 71.40000000000001 40, 69.5 40, 69.5 41, 70 41.1, 72 41, 74 40.5))\n"
     ]
    }
   ],
   "source": [
    "polygon_x = Polygon(df_x.values.tolist())\n",
    "print(polygon_x)"
   ]
  },
  {
   "cell_type": "code",
   "execution_count": 201,
   "metadata": {},
   "outputs": [],
   "source": [
    "y = open(\"bndgme.txt\", \"r\", encoding=\"utf-8\")\n",
    "y.read()\n",
    "y = '  41.80   68.00\\n  42.10   67.50\\n  42.10   67.00\\n  42.10   66.00\\n  43.00   66.00\\n  44.20   66.50\\n  44.20   67.00\\n  44.20   68.00\\n  41.80   68.00\\n'\n",
    "output1y = y.split('\\n')\n",
    "\n",
    "newy = [] \n",
    "for string in output1y:\n",
    "    output2y = string.split(' ')\n",
    "    newy.append(output2y)\n",
    "newy = [['', '', '41.80', '', '', '68.00'], ['', '', '42.10', '', '', '67.50'], ['', '', '42.10', '', '', '67.00'], ['', '', '42.10', '', '', '66.00'], ['', '', '43.00', '', '', '66.00'], ['', '', '44.20', '', '', '66.50'], ['', '', '44.20', '', '', '67.00'], ['', '', '44.20', '', '', '68.00'], ['', '', '41.80', '', '', '68.00']]\n",
    "lon_y = []; lat_y = []\n",
    "\n",
    "for i in range(9): \n",
    "    y1 = newy[i][2]\n",
    "    lat_y.append(y1)\n",
    "    y3 = newy[i][5]\n",
    "    lon_y.append(y3)\n",
    "lonlist_y = [float(i) for i in lon_y]; latlist_y = [float(i) for i in lat_y]\n",
    "df_y = pd.DataFrame({'lon': lonlist_y, 'lat': latlist_y,})\n",
    "\n",
    "lonlist_y_plot = [float(i)*-1 for i in lon_y]; latlist_y = [float(i) for i in lat_y]\n",
    "df_y_plot = pd.DataFrame({'lon': lonlist_y_plot, 'lat': latlist_y,})\n",
    "x_y = df_y_plot['lon']; y_y = df_y_plot['lat']\n",
    "\n",
    "lonlist_yneg = [float(i)*-1 for i in lon_y]\n",
    "df_y_plottable = pd.DataFrame({'lon': lonlist_yneg, 'lat': latlist_y,})"
   ]
  },
  {
   "cell_type": "code",
   "execution_count": 202,
   "metadata": {},
   "outputs": [],
   "source": [
    "# print(df_y_plottable)"
   ]
  },
  {
   "cell_type": "code",
   "execution_count": 203,
   "metadata": {},
   "outputs": [
    {
     "name": "stdout",
     "output_type": "stream",
     "text": [
      "POLYGON ((68 41.8, 67.5 42.1, 67 42.1, 66 42.1, 66 43, 66.5 44.2, 67 44.2, 68 44.2, 68 41.8))\n"
     ]
    }
   ],
   "source": [
    "polygon_y = Polygon(df_y.values)\n",
    "print(polygon_y)"
   ]
  },
  {
   "cell_type": "code",
   "execution_count": 204,
   "metadata": {},
   "outputs": [],
   "source": [
    "t = open(\"bndgmw.txt\", \"r\", encoding=\"utf-8\")\n",
    "t.read()\n",
    "t = '  42.20   70.50\\n  42.00   70.00\\n  41.10   69.00\\n  41.80   68.00\\n  44.20   68.00\\n  43.90   69.00\\n  43.70   70.00\\n  43.00   70.50\\n  42.20   70.50'\n",
    "output1t = t.split('\\n')\n",
    "newt = [] \n",
    "for string in output1t:\n",
    "    output2t = string.split(' ')\n",
    "    newt.append(output2t)\n",
    "lon_t = []; lat_t = []\n",
    "\n",
    "for i in range(9): \n",
    "    t1 = newt[i][2]\n",
    "    lat_t.append(t1)\n",
    "    t3 = newt[i][5]\n",
    "    lon_t.append(t3)\n",
    "lonlist_t = [float(i) for i in lon_t]; latlist_t = [float(i) for i in lat_t]\n",
    "df_t = pd.DataFrame({'lon': lonlist_t, 'lat': latlist_t,})\n",
    "\n",
    "lonlist_t_plot = [float(i)*-1 for i in lon_t]; latlist_t = [float(i) for i in lat_t]\n",
    "df_t_plot = pd.DataFrame({'lon': lonlist_t_plot, 'lat': latlist_t,})\n",
    "x_t = df_t_plot['lon']; y_t = df_t_plot['lat']\n",
    "\n",
    "lonlist_tneg = [float(i)*-1 for i in lon_t]\n",
    "df_t_plottable = pd.DataFrame({'lon': lonlist_tneg, 'lat': latlist_t,})"
   ]
  },
  {
   "cell_type": "code",
   "execution_count": 205,
   "metadata": {},
   "outputs": [],
   "source": [
    "# print(df_t_plottable)"
   ]
  },
  {
   "cell_type": "code",
   "execution_count": 206,
   "metadata": {},
   "outputs": [
    {
     "name": "stdout",
     "output_type": "stream",
     "text": [
      "POLYGON ((70.5 42.2, 70 42, 69 41.1, 68 41.8, 68 44.2, 69 43.9, 70 43.7, 70.5 43, 70.5 42.2))\n"
     ]
    }
   ],
   "source": [
    "polygon_t = Polygon(df_t.values)\n",
    "print(polygon_t)"
   ]
  },
  {
   "cell_type": "markdown",
   "metadata": {},
   "source": [
    "### General Spatial Plotting"
   ]
  },
  {
   "cell_type": "code",
   "execution_count": 207,
   "metadata": {},
   "outputs": [],
   "source": [
    "finaldepth = []; finallat = [];finallon = []\n",
    "zi_listofarrays = []\n",
    "for year in range(1978,2020):\n",
    "    filename = 'casts_{}.mat'.format(year)\n",
    "    file = scipy.io.loadmat(filename,squeeze_me=True)\n",
    "    npfile = file['casts_{}'.format(year)] \n",
    "    lat_intermediate = []; lon_intermediate = []; p_intermediate = []; t_intermediate = []; yd_intermediate = []\n",
    "    seasonyeardepth = []; seasonyeartemp = []; counterii = []   \n",
    "    for i in range(len(npfile)):\n",
    "        yd = npfile[i]['yd']\n",
    "        p = npfile[i]['p']\n",
    "        s = npfile[i]['s']\n",
    "        t = npfile[i]['t']\n",
    "        lon = npfile[i]['lon']\n",
    "        lat = npfile[i]['lat']\n",
    "        floordepth = npfile[i]['depth']\n",
    "#         if yd > 334 and yd <= 365 or yd >= 0 and yd <= 59:\n",
    "        if yd > 243 and yd <= 334:\n",
    "            lat_intermediate.append(npfile[i]['lat'])\n",
    "            lon_intermediate.append(npfile[i]['lon'])\n",
    "            p_intermediate.append(npfile[i]['p'])\n",
    "            t_intermediate.append(npfile[i]['t'])\n",
    "            yd_intermediate.append(npfile[i]['yd'])   \n",
    "    month_df = pd.DataFrame({'day': yd_intermediate,'lon': lon_intermediate,'lat': lat_intermediate, 'p': p_intermediate, 't': t_intermediate})\n",
    "    newdf = pd.DataFrame({'lon': lon_intermediate,'lat': lat_intermediate})    \n",
    "    for ii in range(len(month_df)):\n",
    "        new = newdf.iloc[ii].values\n",
    "        point = Point(new)\n",
    "        if isinstance(month_df['p'].iloc[ii], int) or isinstance(month_df['p'].iloc[ii], float) or isinstance(month_df['t'].iloc[ii], int) or isinstance(month_df['t'].iloc[ii], float):\n",
    "            pass\n",
    "        elif polygon_x.contains(point) == True or polygon_y.contains(point) == True or polygon_t.contains(point) == True or polygon_w.contains(point) == True or polygon_v.contains(point) == True:\n",
    "            pt_df = pd.DataFrame({'p': month_df['p'].iloc[ii],'t': month_df['t'].iloc[ii]}) \n",
    "            df_ptsnew = pt_df.dropna()\n",
    "            df_final = pd.DataFrame(df_ptsnew.values)\n",
    "            l=[i for i in df_final[0] if i<=6]\n",
    "            if len(l) > 0:\n",
    "                surfaceval = []\n",
    "                numrange = []\n",
    "                for iii in range(len(l)):\n",
    "                    val = df_final[1][iii]\n",
    "                    numrange.append(iii)\n",
    "                    surfaceval.append(val)\n",
    "            surfacevalmean = statistics.mean(surfaceval)\n",
    "            tempfin = []\n",
    "            pressurefin = []\n",
    "            for iii in range(numrange[-1],len(df_final)):\n",
    "                tempfin.append(df_final[1][iii])\n",
    "                pressurefin.append(df_final[0][iii])\n",
    "            d = {'temp': list(reversed(tempfin)), 'pressure': list(reversed(pressurefin))}\n",
    "            dffin = pd.DataFrame(d)\n",
    "            for ix in range(len(dffin)):\n",
    "                b = dffin.at[ix,'temp']\n",
    "                if b <= (surfacevalmean + 0.2) and b >= (surfacevalmean - 0.2):\n",
    "                    if dffin.at[ix,'pressure'] >= floordepth - 6:\n",
    "                        seasonyeartemp.append(dffin.at[ix,'temp'])\n",
    "                        seasonyeardepth.append(dffin.at[ix,'pressure'])\n",
    "                        counterii.append(ii)\n",
    "                    elif dffin.at[ix,'pressure'] == df_final[0].iloc[-1]:\n",
    "                        pass\n",
    "                    elif dffin.at[ix,'pressure'] == 0:\n",
    "                        pass\n",
    "                    else:\n",
    "                        seasonyeartemp.append(dffin.at[ix,'temp'])\n",
    "                        seasonyeardepth.append(dffin.at[ix,'pressure'])\n",
    "                        np.array(seasonyeartemp)\n",
    "                        np.array(seasonyeardepth)\n",
    "                        counterii.append(ii)\n",
    "                    break  \n",
    "\n",
    "    inlat = []; inlon = []\n",
    "    for timer in counterii:\n",
    "        inlat.append(newdf['lat'][timer])\n",
    "        inlon.append(newdf['lon'][timer])\n",
    "\n",
    "    finaldepth.append(seasonyeardepth)\n",
    "    finallat.append(inlat)\n",
    "    finallon.append(inlon)\n",
    "    \n",
    "    flat_depth = [item for sublist in finaldepth for item in sublist]\n",
    "    flat_lat = [item for sublist in finallat for item in sublist]\n",
    "    flat_lon = [item for sublist in finallon for item in sublist]\n",
    "    \n",
    "    flat_lon[:] = [x *-1 for x in flat_lon]\n",
    "    # flat_lon[:] = [x *-1 for x in flat_lon]\n",
    "    \n",
    "    name = 'dfplottablefull_{}'.format(year)\n",
    "    \n",
    "    name = pd.DataFrame(list(zip(flat_depth,flat_lon,flat_lat)),columns = ['depth','lon','lat'])\n",
    "\n",
    "    x = 'x_{}'.format(year)\n",
    "    x = name['lon']\n",
    "    y = 'y_{}'.format(year)\n",
    "    y = name['lat']\n",
    "    z = 'z_{}'.format(year)\n",
    "    z = name['depth']\n",
    "    \n",
    "    xi = np.arange(-76,-65,0.5)\n",
    "    yi = np.arange(35,46,0.5)\n",
    "    \n",
    "#     path_new = Path(newpath) #\n",
    "    \n",
    "    xi,yi = np.meshgrid(xi,yi)\n",
    "#     xi, yi = xi.flatten(), yi.flatten() #\n",
    "    \n",
    "#     grid = path_new.contains_points(points) ###\n",
    "#     grid = grid.reshape((22,22)) ###\n",
    "    \n",
    "    zi = 'zi_{}'.format(year)\n",
    "    zi = griddata((x,y),z,(xi,yi),method='linear')\n",
    "    \n",
    "#     zi = zi.reshape((44,44)) ###\n",
    "    \n",
    "#     newgridded = np.where(grid == False, np.nan, grid) ###\n",
    "#     newgriddednew = np.where(grid == 1., zi, grid) ###\n",
    "#     newgriddedlast = np.where(newgriddednew == 0., np.nan, newgriddednew) ###\n",
    "    \n",
    "#     zi_listofarrays.append(newgriddedlast)\n",
    "        \n",
    "    zi_listofarrays.append(zi)"
   ]
  },
  {
   "cell_type": "code",
   "execution_count": 208,
   "metadata": {},
   "outputs": [
    {
     "name": "stdout",
     "output_type": "stream",
     "text": [
      "42\n"
     ]
    }
   ],
   "source": [
    "print(len(zi_listofarrays))"
   ]
  },
  {
   "cell_type": "code",
   "execution_count": 209,
   "metadata": {},
   "outputs": [
    {
     "name": "stderr",
     "output_type": "stream",
     "text": [
      "/anaconda3/lib/python3.7/site-packages/ipykernel_launcher.py:13: RuntimeWarning: Mean of empty slice\n",
      "  del sys.path[0]\n"
     ]
    }
   ],
   "source": [
    "newmeangridnew = np.nanmean([zi_listofarrays[0],zi_listofarrays[1],zi_listofarrays[2],zi_listofarrays[3],zi_listofarrays[4],\n",
    "                          zi_listofarrays[5],zi_listofarrays[6],zi_listofarrays[7],zi_listofarrays[8],\n",
    "                          zi_listofarrays[9],zi_listofarrays[10],zi_listofarrays[11],\n",
    "                          zi_listofarrays[12],zi_listofarrays[13],zi_listofarrays[14],\n",
    "                          zi_listofarrays[15],zi_listofarrays[16],zi_listofarrays[17],\n",
    "                          zi_listofarrays[18],zi_listofarrays[19],zi_listofarrays[20],\n",
    "                          zi_listofarrays[21],zi_listofarrays[22],zi_listofarrays[23],\n",
    "                          zi_listofarrays[24],zi_listofarrays[25],zi_listofarrays[26],\n",
    "                          zi_listofarrays[27],zi_listofarrays[28],zi_listofarrays[29],\n",
    "                          zi_listofarrays[30],zi_listofarrays[31],zi_listofarrays[32],\n",
    "                          zi_listofarrays[33],zi_listofarrays[34],zi_listofarrays[35],\n",
    "                          zi_listofarrays[36],zi_listofarrays[37],zi_listofarrays[38],\n",
    "                          zi_listofarrays[39],zi_listofarrays[40],zi_listofarrays[41]],axis = 0)"
   ]
  },
  {
   "cell_type": "code",
   "execution_count": 210,
   "metadata": {},
   "outputs": [
    {
     "name": "stdout",
     "output_type": "stream",
     "text": [
      "[[        nan         nan         nan         nan         nan         nan\n",
      "          nan         nan         nan         nan         nan         nan\n",
      "          nan         nan         nan         nan         nan         nan\n",
      "          nan         nan         nan         nan]\n",
      " [        nan         nan         nan         nan         nan         nan\n",
      "          nan         nan         nan         nan         nan         nan\n",
      "          nan         nan         nan         nan         nan         nan\n",
      "          nan         nan         nan         nan]\n",
      " [        nan         nan 16.36204282 12.99320518         nan         nan\n",
      "          nan         nan         nan         nan         nan         nan\n",
      "          nan         nan         nan         nan         nan         nan\n",
      "          nan         nan         nan         nan]\n",
      " [        nan  8.24670164 11.6746463  18.05792826 18.4489606  14.9180985\n",
      "          nan         nan         nan         nan         nan         nan\n",
      "          nan         nan         nan         nan         nan         nan\n",
      "          nan         nan         nan         nan]\n",
      " [        nan 11.52410921 19.71803413 19.22328842 24.02807544 22.62770713\n",
      "  22.04328283         nan         nan         nan         nan         nan\n",
      "          nan         nan         nan         nan         nan         nan\n",
      "          nan         nan         nan         nan]\n",
      " [        nan  7.50563731 12.54379145 18.55197792 19.89430965 26.6424446\n",
      "  25.27215757 24.50677942 20.37942782         nan         nan         nan\n",
      "          nan         nan         nan         nan         nan         nan\n",
      "          nan         nan         nan         nan]\n",
      " [        nan         nan 11.99337627 16.1576625  31.68289983 28.83066306\n",
      "  29.25681376 27.23851537 28.88831384 22.28701626         nan         nan\n",
      "          nan         nan         nan         nan         nan         nan\n",
      "          nan         nan         nan         nan]\n",
      " [        nan         nan  8.96224678 13.96981979 17.85161435 18.04913932\n",
      "  33.30935101 31.87118292 29.7954647  28.750882   33.01465989 17.88029806\n",
      "          nan         nan         nan         nan         nan         nan\n",
      "          nan         nan         nan         nan]\n",
      " [        nan         nan         nan  8.40298633 17.03463025 19.43104226\n",
      "  41.89748331 35.16672152 34.01855328 32.40983386 30.18989753 36.89250392\n",
      "  22.15463466 54.00163474         nan         nan         nan         nan\n",
      "          nan         nan         nan         nan]\n",
      " [        nan         nan         nan         nan 11.98001357 22.88464645\n",
      "  24.81405061 22.56268774 36.60238012 32.75837442 34.4950702  32.71342122\n",
      "  40.74752531 35.20838643 19.36001543         nan         nan         nan\n",
      "          nan         nan         nan         nan]\n",
      " [        nan         nan         nan         nan  9.4147864  25.20727286\n",
      "  25.62406485 16.90765168 21.69414661 32.29879646 26.21454254 31.07261266\n",
      "  35.14602781 37.05700788 40.75020641 22.02837366 37.80699593         nan\n",
      "          nan         nan         nan         nan]\n",
      " [        nan         nan         nan         nan         nan 11.63793836\n",
      "  11.09934213 19.41830119 19.46577944 26.07922003 29.53100769 28.29738812\n",
      "  30.08822044 31.29834214 28.3837481  21.94569749 13.90550607 34.45080866\n",
      "          nan         nan         nan         nan]\n",
      " [        nan         nan         nan         nan         nan         nan\n",
      "  11.86665797 10.90377784 12.87293071 18.11334939 22.91228784 36.59045105\n",
      "  20.37683189 19.85813719 21.81048644 38.47093913 34.03824768 18.66296737\n",
      "  30.82120852 40.27797824         nan         nan]\n",
      " [        nan         nan         nan         nan         nan         nan\n",
      "          nan 15.53409975 15.18524896 15.97607893 24.44206683 27.85393448\n",
      "  33.32789513 18.98293974 34.61721504 32.15345071 31.54032333 33.72415539\n",
      "  13.26467777 23.73085152 16.6894872          nan]\n",
      " [        nan         nan         nan         nan         nan         nan\n",
      "          nan         nan         nan 18.51694325 22.47136697 30.93677828\n",
      "  20.32418496 27.47983334 21.90559768 19.21224399 19.61414813 25.95399486\n",
      "  23.79991784 22.82620553 15.54006018         nan]\n",
      " [        nan         nan         nan         nan         nan         nan\n",
      "          nan         nan         nan         nan 22.65442902 23.12223675\n",
      "  30.2967632  35.76657606 28.07164994 26.00339875 17.91206648 31.54764688\n",
      "  32.97873706 79.24721193 33.93029046         nan]\n",
      " [        nan         nan         nan         nan         nan         nan\n",
      "          nan         nan         nan         nan         nan 27.1723411\n",
      "  36.83349184 34.55880534 36.53189879 20.71758705 25.19678156 34.53273049\n",
      "  46.11498207 43.28099216         nan         nan]\n",
      " [        nan         nan         nan         nan         nan         nan\n",
      "          nan         nan         nan         nan         nan         nan\n",
      "  33.5042225  46.824872   58.37162465 43.99543465 34.99437869 80.70043455\n",
      "  52.625      50.02218423         nan         nan]\n",
      " [        nan         nan         nan         nan         nan         nan\n",
      "          nan         nan         nan         nan         nan         nan\n",
      "          nan         nan         nan 42.83759176 58.83923828 48.02264826\n",
      "  87.03318012 54.47557413         nan         nan]\n",
      " [        nan         nan         nan         nan         nan         nan\n",
      "          nan         nan         nan         nan         nan         nan\n",
      "          nan         nan         nan         nan         nan         nan\n",
      "          nan         nan         nan         nan]\n",
      " [        nan         nan         nan         nan         nan         nan\n",
      "          nan         nan         nan         nan         nan         nan\n",
      "          nan         nan         nan         nan         nan         nan\n",
      "          nan         nan         nan         nan]\n",
      " [        nan         nan         nan         nan         nan         nan\n",
      "          nan         nan         nan         nan         nan         nan\n",
      "          nan         nan         nan         nan         nan         nan\n",
      "          nan         nan         nan         nan]]\n"
     ]
    }
   ],
   "source": [
    "print(newmeangridnew)"
   ]
  },
  {
   "cell_type": "code",
   "execution_count": 22,
   "metadata": {},
   "outputs": [],
   "source": [
    "newlon = [-69.5,-68,-67.5, -67, -66.5, -66, -65.7, -66,-66, -66.5, -67,\n",
    "         -68, -69, -70,-70.5, -70.5,-69.5, -72, -74, -74.25, -76, -75.5, -75, -74.75, -74.5, -72, -71.4, -69.5]\n",
    "newlat = [40,40.3,40.4, 40.6, 40.8, 41.45, 41.8, 42.1, 43, 44.2, 44.2, 44.2, 43.9, 43.7,\n",
    "         43, 42.2, 41, 41, 40.5, 39.4, 37, 36, 35.5, 36, 37.4, 39.5, 40, 40]"
   ]
  },
  {
   "cell_type": "code",
   "execution_count": 28,
   "metadata": {},
   "outputs": [],
   "source": [
    "from matplotlib.path import Path\n",
    "\n",
    "newlon = newlon \n",
    "newlat = newlat \n",
    "newpath = list(zip(newlon,newlat))\n",
    "newpd = pd.DataFrame(newpath, columns=['lon','lat'])\n",
    "path_new = Path(newpath)\n",
    "nx = np.arange(-76,-65,0.5)\n",
    "ny = np.arange(35,46,0.5)\n",
    "x, y = np.meshgrid(nx, ny)\n",
    "x, y = x.flatten(), y.flatten()\n",
    "\n",
    "points = np.vstack((x,y)).T"
   ]
  },
  {
   "cell_type": "code",
   "execution_count": 29,
   "metadata": {},
   "outputs": [
    {
     "data": {
      "text/plain": [
       "(22, 22)"
      ]
     },
     "execution_count": 29,
     "metadata": {},
     "output_type": "execute_result"
    }
   ],
   "source": [
    "newmeangridnew.shape"
   ]
  },
  {
   "cell_type": "code",
   "execution_count": 27,
   "metadata": {
    "scrolled": true
   },
   "outputs": [],
   "source": [
    "xi,yi = np.meshgrid(xi,yi)\n",
    "#     xi, yi = xi.flatten(), yi.flatten() #\n",
    "    \n",
    "grid = path_new.contains_points(points) ###\n",
    "grid = grid.reshape((22,22)) ###\n",
    "    \n",
    "# zi = 'zi_{}'.format(year)\n",
    "# zi = griddata((x,y),z,(xi,yi),method='linear')\n",
    "    \n",
    "#     zi = zi.reshape((44,44)) ###\n",
    "    \n",
    "# newgridded = np.where(grid == False, np.nan, grid) ###\n",
    "# newgriddednew = np.where(grid == 1., newmeangridnew, grid) ###\n",
    "# newgriddedlast = np.where(newgriddednew == 0., np.nan, newgriddednew) ###\n",
    "    \n",
    "#     zi_listofarrays.append(newgriddedlast)\n",
    "        \n",
    "#     zi_listofarrays.append(zi)"
   ]
  },
  {
   "cell_type": "code",
   "execution_count": 212,
   "metadata": {},
   "outputs": [
    {
     "name": "stdout",
     "output_type": "stream",
     "text": [
      "(22, 22)\n"
     ]
    }
   ],
   "source": [
    "print(grid.shape)"
   ]
  },
  {
   "cell_type": "code",
   "execution_count": 213,
   "metadata": {},
   "outputs": [
    {
     "data": {
      "text/plain": [
       "<matplotlib.image.AxesImage at 0xd27175c18>"
      ]
     },
     "execution_count": 213,
     "metadata": {},
     "output_type": "execute_result"
    },
    {
     "data": {
      "image/png": "[encoded data removed]",
      "text/plain": [
       "<Figure size 432x288 with 1 Axes>"
      ]
     },
     "metadata": {
      "needs_background": "light"
     },
     "output_type": "display_data"
    }
   ],
   "source": [
    "fig = plt.figure()\n",
    "ax = fig.add_subplot(111)\n",
    "ax.imshow(grid)"
   ]
  },
  {
   "cell_type": "code",
   "execution_count": 214,
   "metadata": {
    "scrolled": true
   },
   "outputs": [
    {
     "name": "stdout",
     "output_type": "stream",
     "text": [
      "[[False False False False False False False False False False False False\n",
      "  False False False False False False False False False False]\n",
      " [False False False False False False False False False False False False\n",
      "  False False False False False False False False False False]\n",
      " [False  True  True False False False False False False False False False\n",
      "  False False False False False False False False False False]\n",
      " [False  True  True False False False False False False False False False\n",
      "  False False False False False False False False False False]\n",
      " [ True  True  True False False False False False False False False False\n",
      "  False False False False False False False False False False]\n",
      " [False  True  True  True False False False False False False False False\n",
      "  False False False False False False False False False False]\n",
      " [False False  True  True  True False False False False False False False\n",
      "  False False False False False False False False False False]\n",
      " [False False False  True  True  True False False False False False False\n",
      "  False False False False False False False False False False]\n",
      " [False False False  True  True  True  True False False False False False\n",
      "  False False False False False False False False False False]\n",
      " [False False False False  True  True  True  True  True False False False\n",
      "  False False False False False False False False False False]\n",
      " [False False False False  True  True  True  True  True  True False False\n",
      "  False False False False False False False False False False]\n",
      " [False False False False  True  True  True  True  True  True  True  True\n",
      "   True  True  True  True  True  True False False False False]\n",
      " [False False False False False False False False  True  True  True  True\n",
      "   True  True  True  True  True  True  True  True False False]\n",
      " [False False False False False False False False False False False False\n",
      "  False  True  True  True  True  True  True  True  True False]\n",
      " [False False False False False False False False False False False False\n",
      "   True  True  True  True  True  True  True  True  True False]\n",
      " [False False False False False False False False False False False  True\n",
      "   True  True  True  True  True  True  True  True  True False]\n",
      " [False False False False False False False False False False False  True\n",
      "   True  True  True  True  True  True  True  True  True False]\n",
      " [False False False False False False False False False False False False\n",
      "   True  True  True  True  True  True  True  True False False]\n",
      " [False False False False False False False False False False False False\n",
      "  False False False  True  True  True  True  True False False]\n",
      " [False False False False False False False False False False False False\n",
      "  False False False False False False False False False False]\n",
      " [False False False False False False False False False False False False\n",
      "  False False False False False False False False False False]\n",
      " [False False False False False False False False False False False False\n",
      "  False False False False False False False False False False]]\n"
     ]
    }
   ],
   "source": [
    "print(grid)"
   ]
  },
  {
   "cell_type": "code",
   "execution_count": 215,
   "metadata": {},
   "outputs": [],
   "source": [
    "griddednewlate = np.where(grid == True, newmeangridnew, grid)"
   ]
  },
  {
   "cell_type": "code",
   "execution_count": 216,
   "metadata": {},
   "outputs": [
    {
     "data": {
      "text/plain": [
       "<matplotlib.image.AxesImage at 0xd2626d748>"
      ]
     },
     "execution_count": 216,
     "metadata": {},
     "output_type": "execute_result"
    },
    {
     "data": {
      "image/png": "[encoded data removed]",
      "text/plain": [
       "<Figure size 432x288 with 1 Axes>"
      ]
     },
     "metadata": {
      "needs_background": "light"
     },
     "output_type": "display_data"
    }
   ],
   "source": [
    "fig = plt.figure()\n",
    "ax = fig.add_subplot(111)\n",
    "ax.imshow(griddednewlate)"
   ]
  },
  {
   "cell_type": "code",
   "execution_count": 217,
   "metadata": {
    "scrolled": false
   },
   "outputs": [],
   "source": [
    "griddednewlatelate = np.where(griddednewlate == np.nan, 0.0, griddednewlate)"
   ]
  },
  {
   "cell_type": "code",
   "execution_count": 218,
   "metadata": {},
   "outputs": [
    {
     "data": {
      "text/plain": [
       "<matplotlib.image.AxesImage at 0xd25885ba8>"
      ]
     },
     "execution_count": 218,
     "metadata": {},
     "output_type": "execute_result"
    },
    {
     "data": {
      "image/png": "[encoded data removed]",
      "text/plain": [
       "<Figure size 432x288 with 1 Axes>"
      ]
     },
     "metadata": {
      "needs_background": "light"
     },
     "output_type": "display_data"
    }
   ],
   "source": [
    "fig = plt.figure()\n",
    "ax = fig.add_subplot(111)\n",
    "ax.imshow(griddednewlatelate)"
   ]
  },
  {
   "cell_type": "code",
   "execution_count": 219,
   "metadata": {
    "scrolled": false
   },
   "outputs": [],
   "source": [
    "b = np.where(np.isnan(griddednewlatelate), 0, griddednewlatelate)"
   ]
  },
  {
   "cell_type": "code",
   "execution_count": 220,
   "metadata": {},
   "outputs": [
    {
     "data": {
      "text/plain": [
       "<matplotlib.image.AxesImage at 0xd266bdbe0>"
      ]
     },
     "execution_count": 220,
     "metadata": {},
     "output_type": "execute_result"
    },
    {
     "data": {
      "image/png": "[encoded data removed]",
      "text/plain": [
       "<Figure size 432x288 with 1 Axes>"
      ]
     },
     "metadata": {
      "needs_background": "light"
     },
     "output_type": "display_data"
    }
   ],
   "source": [
    "fig = plt.figure()\n",
    "ax = fig.add_subplot(111)\n",
    "ax.imshow(b)"
   ]
  },
  {
   "cell_type": "code",
   "execution_count": 221,
   "metadata": {
    "scrolled": true
   },
   "outputs": [
    {
     "name": "stdout",
     "output_type": "stream",
     "text": [
      "[[ 0.          0.          0.          0.          0.          0.\n",
      "   0.          0.          0.          0.          0.          0.\n",
      "   0.          0.          0.          0.          0.          0.\n",
      "   0.          0.          0.          0.        ]\n",
      " [ 0.          0.          0.          0.          0.          0.\n",
      "   0.          0.          0.          0.          0.          0.\n",
      "   0.          0.          0.          0.          0.          0.\n",
      "   0.          0.          0.          0.        ]\n",
      " [ 0.          0.         16.36204282  0.          0.          0.\n",
      "   0.          0.          0.          0.          0.          0.\n",
      "   0.          0.          0.          0.          0.          0.\n",
      "   0.          0.          0.          0.        ]\n",
      " [ 0.          8.24670164 11.6746463   0.          0.          0.\n",
      "   0.          0.          0.          0.          0.          0.\n",
      "   0.          0.          0.          0.          0.          0.\n",
      "   0.          0.          0.          0.        ]\n",
      " [ 0.         11.52410921 19.71803413  0.          0.          0.\n",
      "   0.          0.          0.          0.          0.          0.\n",
      "   0.          0.          0.          0.          0.          0.\n",
      "   0.          0.          0.          0.        ]\n",
      " [ 0.          7.50563731 12.54379145 18.55197792  0.          0.\n",
      "   0.          0.          0.          0.          0.          0.\n",
      "   0.          0.          0.          0.          0.          0.\n",
      "   0.          0.          0.          0.        ]\n",
      " [ 0.          0.         11.99337627 16.1576625  31.68289983  0.\n",
      "   0.          0.          0.          0.          0.          0.\n",
      "   0.          0.          0.          0.          0.          0.\n",
      "   0.          0.          0.          0.        ]\n",
      " [ 0.          0.          0.         13.96981979 17.85161435 18.04913932\n",
      "   0.          0.          0.          0.          0.          0.\n",
      "   0.          0.          0.          0.          0.          0.\n",
      "   0.          0.          0.          0.        ]\n",
      " [ 0.          0.          0.          8.40298633 17.03463025 19.43104226\n",
      "  41.89748331  0.          0.          0.          0.          0.\n",
      "   0.          0.          0.          0.          0.          0.\n",
      "   0.          0.          0.          0.        ]\n",
      " [ 0.          0.          0.          0.         11.98001357 22.88464645\n",
      "  24.81405061 22.56268774 36.60238012  0.          0.          0.\n",
      "   0.          0.          0.          0.          0.          0.\n",
      "   0.          0.          0.          0.        ]\n",
      " [ 0.          0.          0.          0.          9.4147864  25.20727286\n",
      "  25.62406485 16.90765168 21.69414661 32.29879646  0.          0.\n",
      "   0.          0.          0.          0.          0.          0.\n",
      "   0.          0.          0.          0.        ]\n",
      " [ 0.          0.          0.          0.          0.         11.63793836\n",
      "  11.09934213 19.41830119 19.46577944 26.07922003 29.53100769 28.29738812\n",
      "  30.08822044 31.29834214 28.3837481  21.94569749 13.90550607 34.45080866\n",
      "   0.          0.          0.          0.        ]\n",
      " [ 0.          0.          0.          0.          0.          0.\n",
      "   0.          0.         12.87293071 18.11334939 22.91228784 36.59045105\n",
      "  20.37683189 19.85813719 21.81048644 38.47093913 34.03824768 18.66296737\n",
      "  30.82120852 40.27797824  0.          0.        ]\n",
      " [ 0.          0.          0.          0.          0.          0.\n",
      "   0.          0.          0.          0.          0.          0.\n",
      "   0.         18.98293974 34.61721504 32.15345071 31.54032333 33.72415539\n",
      "  13.26467777 23.73085152 16.6894872   0.        ]\n",
      " [ 0.          0.          0.          0.          0.          0.\n",
      "   0.          0.          0.          0.          0.          0.\n",
      "  20.32418496 27.47983334 21.90559768 19.21224399 19.61414813 25.95399486\n",
      "  23.79991784 22.82620553 15.54006018  0.        ]\n",
      " [ 0.          0.          0.          0.          0.          0.\n",
      "   0.          0.          0.          0.          0.         23.12223675\n",
      "  30.2967632  35.76657606 28.07164994 26.00339875 17.91206648 31.54764688\n",
      "  32.97873706 79.24721193 33.93029046  0.        ]\n",
      " [ 0.          0.          0.          0.          0.          0.\n",
      "   0.          0.          0.          0.          0.         27.1723411\n",
      "  36.83349184 34.55880534 36.53189879 20.71758705 25.19678156 34.53273049\n",
      "  46.11498207 43.28099216  0.          0.        ]\n",
      " [ 0.          0.          0.          0.          0.          0.\n",
      "   0.          0.          0.          0.          0.          0.\n",
      "  33.5042225  46.824872   58.37162465 43.99543465 34.99437869 80.70043455\n",
      "  52.625      50.02218423  0.          0.        ]\n",
      " [ 0.          0.          0.          0.          0.          0.\n",
      "   0.          0.          0.          0.          0.          0.\n",
      "   0.          0.          0.         42.83759176 58.83923828 48.02264826\n",
      "  87.03318012 54.47557413  0.          0.        ]\n",
      " [ 0.          0.          0.          0.          0.          0.\n",
      "   0.          0.          0.          0.          0.          0.\n",
      "   0.          0.          0.          0.          0.          0.\n",
      "   0.          0.          0.          0.        ]\n",
      " [ 0.          0.          0.          0.          0.          0.\n",
      "   0.          0.          0.          0.          0.          0.\n",
      "   0.          0.          0.          0.          0.          0.\n",
      "   0.          0.          0.          0.        ]\n",
      " [ 0.          0.          0.          0.          0.          0.\n",
      "   0.          0.          0.          0.          0.          0.\n",
      "   0.          0.          0.          0.          0.          0.\n",
      "   0.          0.          0.          0.        ]]\n"
     ]
    }
   ],
   "source": [
    "print(b)"
   ]
  },
  {
   "cell_type": "code",
   "execution_count": 36,
   "metadata": {},
   "outputs": [],
   "source": [
    "newgridded = np.where(grid == False, np.nan, grid)"
   ]
  },
  {
   "cell_type": "code",
   "execution_count": 37,
   "metadata": {},
   "outputs": [
    {
     "name": "stdout",
     "output_type": "stream",
     "text": [
      "<function grid at 0x10e37bd08>\n"
     ]
    }
   ],
   "source": [
    "print(newgridded)"
   ]
  },
  {
   "cell_type": "code",
   "execution_count": 38,
   "metadata": {},
   "outputs": [
    {
     "ename": "TypeError",
     "evalue": "Image data cannot be converted to float",
     "output_type": "error",
     "traceback": [
      "\u001b[0;31m---------------------------------------------------------------------------\u001b[0m",
      "\u001b[0;31mTypeError\u001b[0m                                 Traceback (most recent call last)",
      "\u001b[0;32m<ipython-input-38-0b6f881be990>\u001b[0m in \u001b[0;36m<module>\u001b[0;34m\u001b[0m\n\u001b[1;32m      1\u001b[0m \u001b[0mfig\u001b[0m \u001b[0;34m=\u001b[0m \u001b[0mplt\u001b[0m\u001b[0;34m.\u001b[0m\u001b[0mfigure\u001b[0m\u001b[0;34m(\u001b[0m\u001b[0;34m)\u001b[0m\u001b[0;34m\u001b[0m\u001b[0;34m\u001b[0m\u001b[0m\n\u001b[1;32m      2\u001b[0m \u001b[0max\u001b[0m \u001b[0;34m=\u001b[0m \u001b[0mfig\u001b[0m\u001b[0;34m.\u001b[0m\u001b[0madd_subplot\u001b[0m\u001b[0;34m(\u001b[0m\u001b[0;36m111\u001b[0m\u001b[0;34m)\u001b[0m\u001b[0;34m\u001b[0m\u001b[0;34m\u001b[0m\u001b[0m\n\u001b[0;32m----> 3\u001b[0;31m \u001b[0max\u001b[0m\u001b[0;34m.\u001b[0m\u001b[0mimshow\u001b[0m\u001b[0;34m(\u001b[0m\u001b[0mnewgridded\u001b[0m\u001b[0;34m)\u001b[0m\u001b[0;34m\u001b[0m\u001b[0;34m\u001b[0m\u001b[0m\n\u001b[0m",
      "\u001b[0;32m/anaconda3/lib/python3.7/site-packages/matplotlib/__init__.py\u001b[0m in \u001b[0;36minner\u001b[0;34m(ax, data, *args, **kwargs)\u001b[0m\n\u001b[1;32m   1808\u001b[0m                         \u001b[0;34m\"the Matplotlib list!)\"\u001b[0m \u001b[0;34m%\u001b[0m \u001b[0;34m(\u001b[0m\u001b[0mlabel_namer\u001b[0m\u001b[0;34m,\u001b[0m \u001b[0mfunc\u001b[0m\u001b[0;34m.\u001b[0m\u001b[0m__name__\u001b[0m\u001b[0;34m)\u001b[0m\u001b[0;34m,\u001b[0m\u001b[0;34m\u001b[0m\u001b[0;34m\u001b[0m\u001b[0m\n\u001b[1;32m   1809\u001b[0m                         RuntimeWarning, stacklevel=2)\n\u001b[0;32m-> 1810\u001b[0;31m             \u001b[0;32mreturn\u001b[0m \u001b[0mfunc\u001b[0m\u001b[0;34m(\u001b[0m\u001b[0max\u001b[0m\u001b[0;34m,\u001b[0m \u001b[0;34m*\u001b[0m\u001b[0margs\u001b[0m\u001b[0;34m,\u001b[0m \u001b[0;34m**\u001b[0m\u001b[0mkwargs\u001b[0m\u001b[0;34m)\u001b[0m\u001b[0;34m\u001b[0m\u001b[0;34m\u001b[0m\u001b[0m\n\u001b[0m\u001b[1;32m   1811\u001b[0m \u001b[0;34m\u001b[0m\u001b[0m\n\u001b[1;32m   1812\u001b[0m         inner.__doc__ = _add_data_doc(inner.__doc__,\n",
      "\u001b[0;32m/anaconda3/lib/python3.7/site-packages/matplotlib/axes/_axes.py\u001b[0m in \u001b[0;36mimshow\u001b[0;34m(self, X, cmap, norm, aspect, interpolation, alpha, vmin, vmax, origin, extent, shape, filternorm, filterrad, imlim, resample, url, **kwargs)\u001b[0m\n\u001b[1;32m   5492\u001b[0m                               resample=resample, **kwargs)\n\u001b[1;32m   5493\u001b[0m \u001b[0;34m\u001b[0m\u001b[0m\n\u001b[0;32m-> 5494\u001b[0;31m         \u001b[0mim\u001b[0m\u001b[0;34m.\u001b[0m\u001b[0mset_data\u001b[0m\u001b[0;34m(\u001b[0m\u001b[0mX\u001b[0m\u001b[0;34m)\u001b[0m\u001b[0;34m\u001b[0m\u001b[0;34m\u001b[0m\u001b[0m\n\u001b[0m\u001b[1;32m   5495\u001b[0m         \u001b[0mim\u001b[0m\u001b[0;34m.\u001b[0m\u001b[0mset_alpha\u001b[0m\u001b[0;34m(\u001b[0m\u001b[0malpha\u001b[0m\u001b[0;34m)\u001b[0m\u001b[0;34m\u001b[0m\u001b[0;34m\u001b[0m\u001b[0m\n\u001b[1;32m   5496\u001b[0m         \u001b[0;32mif\u001b[0m \u001b[0mim\u001b[0m\u001b[0;34m.\u001b[0m\u001b[0mget_clip_path\u001b[0m\u001b[0;34m(\u001b[0m\u001b[0;34m)\u001b[0m \u001b[0;32mis\u001b[0m \u001b[0;32mNone\u001b[0m\u001b[0;34m:\u001b[0m\u001b[0;34m\u001b[0m\u001b[0;34m\u001b[0m\u001b[0m\n",
      "\u001b[0;32m/anaconda3/lib/python3.7/site-packages/matplotlib/image.py\u001b[0m in \u001b[0;36mset_data\u001b[0;34m(self, A)\u001b[0m\n\u001b[1;32m    640\u001b[0m         if (self._A.dtype != np.uint8 and\n\u001b[1;32m    641\u001b[0m                 not np.can_cast(self._A.dtype, float, \"same_kind\")):\n\u001b[0;32m--> 642\u001b[0;31m             \u001b[0;32mraise\u001b[0m \u001b[0mTypeError\u001b[0m\u001b[0;34m(\u001b[0m\u001b[0;34m\"Image data cannot be converted to float\"\u001b[0m\u001b[0;34m)\u001b[0m\u001b[0;34m\u001b[0m\u001b[0;34m\u001b[0m\u001b[0m\n\u001b[0m\u001b[1;32m    643\u001b[0m \u001b[0;34m\u001b[0m\u001b[0m\n\u001b[1;32m    644\u001b[0m         if not (self._A.ndim == 2\n",
      "\u001b[0;31mTypeError\u001b[0m: Image data cannot be converted to float"
     ]
    },
    {
     "data": {
      "image/png": "[encoded data removed]",
      "text/plain": [
       "<Figure size 432x288 with 1 Axes>"
      ]
     },
     "metadata": {
      "needs_background": "light"
     },
     "output_type": "display_data"
    }
   ],
   "source": [
    "fig = plt.figure()\n",
    "ax = fig.add_subplot(111)\n",
    "ax.imshow(newgridded)"
   ]
  },
  {
   "cell_type": "code",
   "execution_count": 39,
   "metadata": {},
   "outputs": [],
   "source": [
    "newgriddednew = np.where(grid == 1., newmeangridnew, grid)"
   ]
  },
  {
   "cell_type": "code",
   "execution_count": 40,
   "metadata": {
    "collapsed": true
   },
   "outputs": [
    {
     "ename": "TypeError",
     "evalue": "Image data cannot be converted to float",
     "output_type": "error",
     "traceback": [
      "\u001b[0;31m---------------------------------------------------------------------------\u001b[0m",
      "\u001b[0;31mTypeError\u001b[0m                                 Traceback (most recent call last)",
      "\u001b[0;32m<ipython-input-40-fe72275e0229>\u001b[0m in \u001b[0;36m<module>\u001b[0;34m\u001b[0m\n\u001b[1;32m      1\u001b[0m \u001b[0mfig\u001b[0m \u001b[0;34m=\u001b[0m \u001b[0mplt\u001b[0m\u001b[0;34m.\u001b[0m\u001b[0mfigure\u001b[0m\u001b[0;34m(\u001b[0m\u001b[0;34m)\u001b[0m\u001b[0;34m\u001b[0m\u001b[0;34m\u001b[0m\u001b[0m\n\u001b[1;32m      2\u001b[0m \u001b[0max\u001b[0m \u001b[0;34m=\u001b[0m \u001b[0mfig\u001b[0m\u001b[0;34m.\u001b[0m\u001b[0madd_subplot\u001b[0m\u001b[0;34m(\u001b[0m\u001b[0;36m111\u001b[0m\u001b[0;34m)\u001b[0m\u001b[0;34m\u001b[0m\u001b[0;34m\u001b[0m\u001b[0m\n\u001b[0;32m----> 3\u001b[0;31m \u001b[0max\u001b[0m\u001b[0;34m.\u001b[0m\u001b[0mimshow\u001b[0m\u001b[0;34m(\u001b[0m\u001b[0mnewgriddednew\u001b[0m\u001b[0;34m)\u001b[0m\u001b[0;34m\u001b[0m\u001b[0;34m\u001b[0m\u001b[0m\n\u001b[0m",
      "\u001b[0;32m/anaconda3/lib/python3.7/site-packages/matplotlib/__init__.py\u001b[0m in \u001b[0;36minner\u001b[0;34m(ax, data, *args, **kwargs)\u001b[0m\n\u001b[1;32m   1808\u001b[0m                         \u001b[0;34m\"the Matplotlib list!)\"\u001b[0m \u001b[0;34m%\u001b[0m \u001b[0;34m(\u001b[0m\u001b[0mlabel_namer\u001b[0m\u001b[0;34m,\u001b[0m \u001b[0mfunc\u001b[0m\u001b[0;34m.\u001b[0m\u001b[0m__name__\u001b[0m\u001b[0;34m)\u001b[0m\u001b[0;34m,\u001b[0m\u001b[0;34m\u001b[0m\u001b[0;34m\u001b[0m\u001b[0m\n\u001b[1;32m   1809\u001b[0m                         RuntimeWarning, stacklevel=2)\n\u001b[0;32m-> 1810\u001b[0;31m             \u001b[0;32mreturn\u001b[0m \u001b[0mfunc\u001b[0m\u001b[0;34m(\u001b[0m\u001b[0max\u001b[0m\u001b[0;34m,\u001b[0m \u001b[0;34m*\u001b[0m\u001b[0margs\u001b[0m\u001b[0;34m,\u001b[0m \u001b[0;34m**\u001b[0m\u001b[0mkwargs\u001b[0m\u001b[0;34m)\u001b[0m\u001b[0;34m\u001b[0m\u001b[0;34m\u001b[0m\u001b[0m\n\u001b[0m\u001b[1;32m   1811\u001b[0m \u001b[0;34m\u001b[0m\u001b[0m\n\u001b[1;32m   1812\u001b[0m         inner.__doc__ = _add_data_doc(inner.__doc__,\n",
      "\u001b[0;32m/anaconda3/lib/python3.7/site-packages/matplotlib/axes/_axes.py\u001b[0m in \u001b[0;36mimshow\u001b[0;34m(self, X, cmap, norm, aspect, interpolation, alpha, vmin, vmax, origin, extent, shape, filternorm, filterrad, imlim, resample, url, **kwargs)\u001b[0m\n\u001b[1;32m   5492\u001b[0m                               resample=resample, **kwargs)\n\u001b[1;32m   5493\u001b[0m \u001b[0;34m\u001b[0m\u001b[0m\n\u001b[0;32m-> 5494\u001b[0;31m         \u001b[0mim\u001b[0m\u001b[0;34m.\u001b[0m\u001b[0mset_data\u001b[0m\u001b[0;34m(\u001b[0m\u001b[0mX\u001b[0m\u001b[0;34m)\u001b[0m\u001b[0;34m\u001b[0m\u001b[0;34m\u001b[0m\u001b[0m\n\u001b[0m\u001b[1;32m   5495\u001b[0m         \u001b[0mim\u001b[0m\u001b[0;34m.\u001b[0m\u001b[0mset_alpha\u001b[0m\u001b[0;34m(\u001b[0m\u001b[0malpha\u001b[0m\u001b[0;34m)\u001b[0m\u001b[0;34m\u001b[0m\u001b[0;34m\u001b[0m\u001b[0m\n\u001b[1;32m   5496\u001b[0m         \u001b[0;32mif\u001b[0m \u001b[0mim\u001b[0m\u001b[0;34m.\u001b[0m\u001b[0mget_clip_path\u001b[0m\u001b[0;34m(\u001b[0m\u001b[0;34m)\u001b[0m \u001b[0;32mis\u001b[0m \u001b[0;32mNone\u001b[0m\u001b[0;34m:\u001b[0m\u001b[0;34m\u001b[0m\u001b[0;34m\u001b[0m\u001b[0m\n",
      "\u001b[0;32m/anaconda3/lib/python3.7/site-packages/matplotlib/image.py\u001b[0m in \u001b[0;36mset_data\u001b[0;34m(self, A)\u001b[0m\n\u001b[1;32m    640\u001b[0m         if (self._A.dtype != np.uint8 and\n\u001b[1;32m    641\u001b[0m                 not np.can_cast(self._A.dtype, float, \"same_kind\")):\n\u001b[0;32m--> 642\u001b[0;31m             \u001b[0;32mraise\u001b[0m \u001b[0mTypeError\u001b[0m\u001b[0;34m(\u001b[0m\u001b[0;34m\"Image data cannot be converted to float\"\u001b[0m\u001b[0;34m)\u001b[0m\u001b[0;34m\u001b[0m\u001b[0;34m\u001b[0m\u001b[0m\n\u001b[0m\u001b[1;32m    643\u001b[0m \u001b[0;34m\u001b[0m\u001b[0m\n\u001b[1;32m    644\u001b[0m         if not (self._A.ndim == 2\n",
      "\u001b[0;31mTypeError\u001b[0m: Image data cannot be converted to float"
     ]
    },
    {
     "data": {
      "image/png": "[encoded data removed]",
      "text/plain": [
       "<Figure size 432x288 with 1 Axes>"
      ]
     },
     "metadata": {
      "needs_background": "light"
     },
     "output_type": "display_data"
    }
   ],
   "source": [
    "fig = plt.figure()\n",
    "ax = fig.add_subplot(111)\n",
    "ax.imshow(newgriddednew)"
   ]
  },
  {
   "cell_type": "code",
   "execution_count": 41,
   "metadata": {
    "collapsed": true
   },
   "outputs": [
    {
     "name": "stdout",
     "output_type": "stream",
     "text": [
      "[[<function grid at 0x10e37bd08> <function grid at 0x10e37bd08>\n",
      "  <function grid at 0x10e37bd08> <function grid at 0x10e37bd08>\n",
      "  <function grid at 0x10e37bd08> <function grid at 0x10e37bd08>\n",
      "  <function grid at 0x10e37bd08> <function grid at 0x10e37bd08>\n",
      "  <function grid at 0x10e37bd08> <function grid at 0x10e37bd08>\n",
      "  <function grid at 0x10e37bd08> <function grid at 0x10e37bd08>\n",
      "  <function grid at 0x10e37bd08> <function grid at 0x10e37bd08>\n",
      "  <function grid at 0x10e37bd08> <function grid at 0x10e37bd08>\n",
      "  <function grid at 0x10e37bd08> <function grid at 0x10e37bd08>\n",
      "  <function grid at 0x10e37bd08> <function grid at 0x10e37bd08>\n",
      "  <function grid at 0x10e37bd08> <function grid at 0x10e37bd08>]\n",
      " [<function grid at 0x10e37bd08> <function grid at 0x10e37bd08>\n",
      "  <function grid at 0x10e37bd08> <function grid at 0x10e37bd08>\n",
      "  <function grid at 0x10e37bd08> <function grid at 0x10e37bd08>\n",
      "  <function grid at 0x10e37bd08> <function grid at 0x10e37bd08>\n",
      "  <function grid at 0x10e37bd08> <function grid at 0x10e37bd08>\n",
      "  <function grid at 0x10e37bd08> <function grid at 0x10e37bd08>\n",
      "  <function grid at 0x10e37bd08> <function grid at 0x10e37bd08>\n",
      "  <function grid at 0x10e37bd08> <function grid at 0x10e37bd08>\n",
      "  <function grid at 0x10e37bd08> <function grid at 0x10e37bd08>\n",
      "  <function grid at 0x10e37bd08> <function grid at 0x10e37bd08>\n",
      "  <function grid at 0x10e37bd08> <function grid at 0x10e37bd08>]\n",
      " [<function grid at 0x10e37bd08> <function grid at 0x10e37bd08>\n",
      "  <function grid at 0x10e37bd08> <function grid at 0x10e37bd08>\n",
      "  <function grid at 0x10e37bd08> <function grid at 0x10e37bd08>\n",
      "  <function grid at 0x10e37bd08> <function grid at 0x10e37bd08>\n",
      "  <function grid at 0x10e37bd08> <function grid at 0x10e37bd08>\n",
      "  <function grid at 0x10e37bd08> <function grid at 0x10e37bd08>\n",
      "  <function grid at 0x10e37bd08> <function grid at 0x10e37bd08>\n",
      "  <function grid at 0x10e37bd08> <function grid at 0x10e37bd08>\n",
      "  <function grid at 0x10e37bd08> <function grid at 0x10e37bd08>\n",
      "  <function grid at 0x10e37bd08> <function grid at 0x10e37bd08>\n",
      "  <function grid at 0x10e37bd08> <function grid at 0x10e37bd08>]\n",
      " [<function grid at 0x10e37bd08> <function grid at 0x10e37bd08>\n",
      "  <function grid at 0x10e37bd08> <function grid at 0x10e37bd08>\n",
      "  <function grid at 0x10e37bd08> <function grid at 0x10e37bd08>\n",
      "  <function grid at 0x10e37bd08> <function grid at 0x10e37bd08>\n",
      "  <function grid at 0x10e37bd08> <function grid at 0x10e37bd08>\n",
      "  <function grid at 0x10e37bd08> <function grid at 0x10e37bd08>\n",
      "  <function grid at 0x10e37bd08> <function grid at 0x10e37bd08>\n",
      "  <function grid at 0x10e37bd08> <function grid at 0x10e37bd08>\n",
      "  <function grid at 0x10e37bd08> <function grid at 0x10e37bd08>\n",
      "  <function grid at 0x10e37bd08> <function grid at 0x10e37bd08>\n",
      "  <function grid at 0x10e37bd08> <function grid at 0x10e37bd08>]\n",
      " [<function grid at 0x10e37bd08> <function grid at 0x10e37bd08>\n",
      "  <function grid at 0x10e37bd08> <function grid at 0x10e37bd08>\n",
      "  <function grid at 0x10e37bd08> <function grid at 0x10e37bd08>\n",
      "  <function grid at 0x10e37bd08> <function grid at 0x10e37bd08>\n",
      "  <function grid at 0x10e37bd08> <function grid at 0x10e37bd08>\n",
      "  <function grid at 0x10e37bd08> <function grid at 0x10e37bd08>\n",
      "  <function grid at 0x10e37bd08> <function grid at 0x10e37bd08>\n",
      "  <function grid at 0x10e37bd08> <function grid at 0x10e37bd08>\n",
      "  <function grid at 0x10e37bd08> <function grid at 0x10e37bd08>\n",
      "  <function grid at 0x10e37bd08> <function grid at 0x10e37bd08>\n",
      "  <function grid at 0x10e37bd08> <function grid at 0x10e37bd08>]\n",
      " [<function grid at 0x10e37bd08> <function grid at 0x10e37bd08>\n",
      "  <function grid at 0x10e37bd08> <function grid at 0x10e37bd08>\n",
      "  <function grid at 0x10e37bd08> <function grid at 0x10e37bd08>\n",
      "  <function grid at 0x10e37bd08> <function grid at 0x10e37bd08>\n",
      "  <function grid at 0x10e37bd08> <function grid at 0x10e37bd08>\n",
      "  <function grid at 0x10e37bd08> <function grid at 0x10e37bd08>\n",
      "  <function grid at 0x10e37bd08> <function grid at 0x10e37bd08>\n",
      "  <function grid at 0x10e37bd08> <function grid at 0x10e37bd08>\n",
      "  <function grid at 0x10e37bd08> <function grid at 0x10e37bd08>\n",
      "  <function grid at 0x10e37bd08> <function grid at 0x10e37bd08>\n",
      "  <function grid at 0x10e37bd08> <function grid at 0x10e37bd08>]\n",
      " [<function grid at 0x10e37bd08> <function grid at 0x10e37bd08>\n",
      "  <function grid at 0x10e37bd08> <function grid at 0x10e37bd08>\n",
      "  <function grid at 0x10e37bd08> <function grid at 0x10e37bd08>\n",
      "  <function grid at 0x10e37bd08> <function grid at 0x10e37bd08>\n",
      "  <function grid at 0x10e37bd08> <function grid at 0x10e37bd08>\n",
      "  <function grid at 0x10e37bd08> <function grid at 0x10e37bd08>\n",
      "  <function grid at 0x10e37bd08> <function grid at 0x10e37bd08>\n",
      "  <function grid at 0x10e37bd08> <function grid at 0x10e37bd08>\n",
      "  <function grid at 0x10e37bd08> <function grid at 0x10e37bd08>\n",
      "  <function grid at 0x10e37bd08> <function grid at 0x10e37bd08>\n",
      "  <function grid at 0x10e37bd08> <function grid at 0x10e37bd08>]\n",
      " [<function grid at 0x10e37bd08> <function grid at 0x10e37bd08>\n",
      "  <function grid at 0x10e37bd08> <function grid at 0x10e37bd08>\n",
      "  <function grid at 0x10e37bd08> <function grid at 0x10e37bd08>\n",
      "  <function grid at 0x10e37bd08> <function grid at 0x10e37bd08>\n",
      "  <function grid at 0x10e37bd08> <function grid at 0x10e37bd08>\n",
      "  <function grid at 0x10e37bd08> <function grid at 0x10e37bd08>\n",
      "  <function grid at 0x10e37bd08> <function grid at 0x10e37bd08>\n",
      "  <function grid at 0x10e37bd08> <function grid at 0x10e37bd08>\n",
      "  <function grid at 0x10e37bd08> <function grid at 0x10e37bd08>\n",
      "  <function grid at 0x10e37bd08> <function grid at 0x10e37bd08>\n",
      "  <function grid at 0x10e37bd08> <function grid at 0x10e37bd08>]\n",
      " [<function grid at 0x10e37bd08> <function grid at 0x10e37bd08>\n",
      "  <function grid at 0x10e37bd08> <function grid at 0x10e37bd08>\n",
      "  <function grid at 0x10e37bd08> <function grid at 0x10e37bd08>\n",
      "  <function grid at 0x10e37bd08> <function grid at 0x10e37bd08>\n",
      "  <function grid at 0x10e37bd08> <function grid at 0x10e37bd08>\n",
      "  <function grid at 0x10e37bd08> <function grid at 0x10e37bd08>\n",
      "  <function grid at 0x10e37bd08> <function grid at 0x10e37bd08>\n",
      "  <function grid at 0x10e37bd08> <function grid at 0x10e37bd08>\n",
      "  <function grid at 0x10e37bd08> <function grid at 0x10e37bd08>\n",
      "  <function grid at 0x10e37bd08> <function grid at 0x10e37bd08>\n",
      "  <function grid at 0x10e37bd08> <function grid at 0x10e37bd08>]\n",
      " [<function grid at 0x10e37bd08> <function grid at 0x10e37bd08>\n",
      "  <function grid at 0x10e37bd08> <function grid at 0x10e37bd08>\n",
      "  <function grid at 0x10e37bd08> <function grid at 0x10e37bd08>\n",
      "  <function grid at 0x10e37bd08> <function grid at 0x10e37bd08>\n",
      "  <function grid at 0x10e37bd08> <function grid at 0x10e37bd08>\n",
      "  <function grid at 0x10e37bd08> <function grid at 0x10e37bd08>\n",
      "  <function grid at 0x10e37bd08> <function grid at 0x10e37bd08>\n",
      "  <function grid at 0x10e37bd08> <function grid at 0x10e37bd08>\n",
      "  <function grid at 0x10e37bd08> <function grid at 0x10e37bd08>\n",
      "  <function grid at 0x10e37bd08> <function grid at 0x10e37bd08>\n",
      "  <function grid at 0x10e37bd08> <function grid at 0x10e37bd08>]\n",
      " [<function grid at 0x10e37bd08> <function grid at 0x10e37bd08>\n",
      "  <function grid at 0x10e37bd08> <function grid at 0x10e37bd08>\n",
      "  <function grid at 0x10e37bd08> <function grid at 0x10e37bd08>\n",
      "  <function grid at 0x10e37bd08> <function grid at 0x10e37bd08>\n",
      "  <function grid at 0x10e37bd08> <function grid at 0x10e37bd08>\n",
      "  <function grid at 0x10e37bd08> <function grid at 0x10e37bd08>\n",
      "  <function grid at 0x10e37bd08> <function grid at 0x10e37bd08>\n",
      "  <function grid at 0x10e37bd08> <function grid at 0x10e37bd08>\n",
      "  <function grid at 0x10e37bd08> <function grid at 0x10e37bd08>\n",
      "  <function grid at 0x10e37bd08> <function grid at 0x10e37bd08>\n",
      "  <function grid at 0x10e37bd08> <function grid at 0x10e37bd08>]\n",
      " [<function grid at 0x10e37bd08> <function grid at 0x10e37bd08>\n",
      "  <function grid at 0x10e37bd08> <function grid at 0x10e37bd08>\n",
      "  <function grid at 0x10e37bd08> <function grid at 0x10e37bd08>\n",
      "  <function grid at 0x10e37bd08> <function grid at 0x10e37bd08>\n",
      "  <function grid at 0x10e37bd08> <function grid at 0x10e37bd08>\n",
      "  <function grid at 0x10e37bd08> <function grid at 0x10e37bd08>\n",
      "  <function grid at 0x10e37bd08> <function grid at 0x10e37bd08>\n",
      "  <function grid at 0x10e37bd08> <function grid at 0x10e37bd08>\n",
      "  <function grid at 0x10e37bd08> <function grid at 0x10e37bd08>\n",
      "  <function grid at 0x10e37bd08> <function grid at 0x10e37bd08>\n",
      "  <function grid at 0x10e37bd08> <function grid at 0x10e37bd08>]\n",
      " [<function grid at 0x10e37bd08> <function grid at 0x10e37bd08>\n",
      "  <function grid at 0x10e37bd08> <function grid at 0x10e37bd08>\n",
      "  <function grid at 0x10e37bd08> <function grid at 0x10e37bd08>\n",
      "  <function grid at 0x10e37bd08> <function grid at 0x10e37bd08>\n",
      "  <function grid at 0x10e37bd08> <function grid at 0x10e37bd08>\n",
      "  <function grid at 0x10e37bd08> <function grid at 0x10e37bd08>\n",
      "  <function grid at 0x10e37bd08> <function grid at 0x10e37bd08>\n",
      "  <function grid at 0x10e37bd08> <function grid at 0x10e37bd08>\n",
      "  <function grid at 0x10e37bd08> <function grid at 0x10e37bd08>\n",
      "  <function grid at 0x10e37bd08> <function grid at 0x10e37bd08>\n",
      "  <function grid at 0x10e37bd08> <function grid at 0x10e37bd08>]\n",
      " [<function grid at 0x10e37bd08> <function grid at 0x10e37bd08>\n",
      "  <function grid at 0x10e37bd08> <function grid at 0x10e37bd08>\n",
      "  <function grid at 0x10e37bd08> <function grid at 0x10e37bd08>\n",
      "  <function grid at 0x10e37bd08> <function grid at 0x10e37bd08>\n",
      "  <function grid at 0x10e37bd08> <function grid at 0x10e37bd08>\n",
      "  <function grid at 0x10e37bd08> <function grid at 0x10e37bd08>\n",
      "  <function grid at 0x10e37bd08> <function grid at 0x10e37bd08>\n",
      "  <function grid at 0x10e37bd08> <function grid at 0x10e37bd08>\n",
      "  <function grid at 0x10e37bd08> <function grid at 0x10e37bd08>\n",
      "  <function grid at 0x10e37bd08> <function grid at 0x10e37bd08>\n",
      "  <function grid at 0x10e37bd08> <function grid at 0x10e37bd08>]\n",
      " [<function grid at 0x10e37bd08> <function grid at 0x10e37bd08>\n",
      "  <function grid at 0x10e37bd08> <function grid at 0x10e37bd08>\n",
      "  <function grid at 0x10e37bd08> <function grid at 0x10e37bd08>\n",
      "  <function grid at 0x10e37bd08> <function grid at 0x10e37bd08>\n",
      "  <function grid at 0x10e37bd08> <function grid at 0x10e37bd08>\n",
      "  <function grid at 0x10e37bd08> <function grid at 0x10e37bd08>\n",
      "  <function grid at 0x10e37bd08> <function grid at 0x10e37bd08>\n",
      "  <function grid at 0x10e37bd08> <function grid at 0x10e37bd08>\n",
      "  <function grid at 0x10e37bd08> <function grid at 0x10e37bd08>\n",
      "  <function grid at 0x10e37bd08> <function grid at 0x10e37bd08>\n",
      "  <function grid at 0x10e37bd08> <function grid at 0x10e37bd08>]\n",
      " [<function grid at 0x10e37bd08> <function grid at 0x10e37bd08>\n",
      "  <function grid at 0x10e37bd08> <function grid at 0x10e37bd08>\n",
      "  <function grid at 0x10e37bd08> <function grid at 0x10e37bd08>\n",
      "  <function grid at 0x10e37bd08> <function grid at 0x10e37bd08>\n",
      "  <function grid at 0x10e37bd08> <function grid at 0x10e37bd08>\n",
      "  <function grid at 0x10e37bd08> <function grid at 0x10e37bd08>\n",
      "  <function grid at 0x10e37bd08> <function grid at 0x10e37bd08>\n",
      "  <function grid at 0x10e37bd08> <function grid at 0x10e37bd08>\n",
      "  <function grid at 0x10e37bd08> <function grid at 0x10e37bd08>\n",
      "  <function grid at 0x10e37bd08> <function grid at 0x10e37bd08>\n",
      "  <function grid at 0x10e37bd08> <function grid at 0x10e37bd08>]\n",
      " [<function grid at 0x10e37bd08> <function grid at 0x10e37bd08>\n",
      "  <function grid at 0x10e37bd08> <function grid at 0x10e37bd08>\n",
      "  <function grid at 0x10e37bd08> <function grid at 0x10e37bd08>\n",
      "  <function grid at 0x10e37bd08> <function grid at 0x10e37bd08>\n",
      "  <function grid at 0x10e37bd08> <function grid at 0x10e37bd08>\n",
      "  <function grid at 0x10e37bd08> <function grid at 0x10e37bd08>\n",
      "  <function grid at 0x10e37bd08> <function grid at 0x10e37bd08>\n",
      "  <function grid at 0x10e37bd08> <function grid at 0x10e37bd08>\n",
      "  <function grid at 0x10e37bd08> <function grid at 0x10e37bd08>\n",
      "  <function grid at 0x10e37bd08> <function grid at 0x10e37bd08>\n",
      "  <function grid at 0x10e37bd08> <function grid at 0x10e37bd08>]\n",
      " [<function grid at 0x10e37bd08> <function grid at 0x10e37bd08>\n",
      "  <function grid at 0x10e37bd08> <function grid at 0x10e37bd08>\n",
      "  <function grid at 0x10e37bd08> <function grid at 0x10e37bd08>\n",
      "  <function grid at 0x10e37bd08> <function grid at 0x10e37bd08>\n",
      "  <function grid at 0x10e37bd08> <function grid at 0x10e37bd08>\n",
      "  <function grid at 0x10e37bd08> <function grid at 0x10e37bd08>\n",
      "  <function grid at 0x10e37bd08> <function grid at 0x10e37bd08>\n",
      "  <function grid at 0x10e37bd08> <function grid at 0x10e37bd08>\n",
      "  <function grid at 0x10e37bd08> <function grid at 0x10e37bd08>\n",
      "  <function grid at 0x10e37bd08> <function grid at 0x10e37bd08>\n",
      "  <function grid at 0x10e37bd08> <function grid at 0x10e37bd08>]\n",
      " [<function grid at 0x10e37bd08> <function grid at 0x10e37bd08>\n",
      "  <function grid at 0x10e37bd08> <function grid at 0x10e37bd08>\n",
      "  <function grid at 0x10e37bd08> <function grid at 0x10e37bd08>\n",
      "  <function grid at 0x10e37bd08> <function grid at 0x10e37bd08>\n",
      "  <function grid at 0x10e37bd08> <function grid at 0x10e37bd08>\n",
      "  <function grid at 0x10e37bd08> <function grid at 0x10e37bd08>\n",
      "  <function grid at 0x10e37bd08> <function grid at 0x10e37bd08>\n",
      "  <function grid at 0x10e37bd08> <function grid at 0x10e37bd08>\n",
      "  <function grid at 0x10e37bd08> <function grid at 0x10e37bd08>\n",
      "  <function grid at 0x10e37bd08> <function grid at 0x10e37bd08>\n",
      "  <function grid at 0x10e37bd08> <function grid at 0x10e37bd08>]\n",
      " [<function grid at 0x10e37bd08> <function grid at 0x10e37bd08>\n",
      "  <function grid at 0x10e37bd08> <function grid at 0x10e37bd08>\n",
      "  <function grid at 0x10e37bd08> <function grid at 0x10e37bd08>\n",
      "  <function grid at 0x10e37bd08> <function grid at 0x10e37bd08>\n",
      "  <function grid at 0x10e37bd08> <function grid at 0x10e37bd08>\n",
      "  <function grid at 0x10e37bd08> <function grid at 0x10e37bd08>\n",
      "  <function grid at 0x10e37bd08> <function grid at 0x10e37bd08>\n",
      "  <function grid at 0x10e37bd08> <function grid at 0x10e37bd08>\n",
      "  <function grid at 0x10e37bd08> <function grid at 0x10e37bd08>\n",
      "  <function grid at 0x10e37bd08> <function grid at 0x10e37bd08>\n",
      "  <function grid at 0x10e37bd08> <function grid at 0x10e37bd08>]\n",
      " [<function grid at 0x10e37bd08> <function grid at 0x10e37bd08>\n",
      "  <function grid at 0x10e37bd08> <function grid at 0x10e37bd08>\n",
      "  <function grid at 0x10e37bd08> <function grid at 0x10e37bd08>\n",
      "  <function grid at 0x10e37bd08> <function grid at 0x10e37bd08>\n",
      "  <function grid at 0x10e37bd08> <function grid at 0x10e37bd08>\n",
      "  <function grid at 0x10e37bd08> <function grid at 0x10e37bd08>\n",
      "  <function grid at 0x10e37bd08> <function grid at 0x10e37bd08>\n",
      "  <function grid at 0x10e37bd08> <function grid at 0x10e37bd08>\n",
      "  <function grid at 0x10e37bd08> <function grid at 0x10e37bd08>\n",
      "  <function grid at 0x10e37bd08> <function grid at 0x10e37bd08>\n",
      "  <function grid at 0x10e37bd08> <function grid at 0x10e37bd08>]\n",
      " [<function grid at 0x10e37bd08> <function grid at 0x10e37bd08>\n",
      "  <function grid at 0x10e37bd08> <function grid at 0x10e37bd08>\n",
      "  <function grid at 0x10e37bd08> <function grid at 0x10e37bd08>\n",
      "  <function grid at 0x10e37bd08> <function grid at 0x10e37bd08>\n",
      "  <function grid at 0x10e37bd08> <function grid at 0x10e37bd08>\n",
      "  <function grid at 0x10e37bd08> <function grid at 0x10e37bd08>\n",
      "  <function grid at 0x10e37bd08> <function grid at 0x10e37bd08>\n",
      "  <function grid at 0x10e37bd08> <function grid at 0x10e37bd08>\n",
      "  <function grid at 0x10e37bd08> <function grid at 0x10e37bd08>\n",
      "  <function grid at 0x10e37bd08> <function grid at 0x10e37bd08>\n",
      "  <function grid at 0x10e37bd08> <function grid at 0x10e37bd08>]]\n"
     ]
    }
   ],
   "source": [
    "print(newgriddednew)"
   ]
  },
  {
   "cell_type": "code",
   "execution_count": 32,
   "metadata": {},
   "outputs": [],
   "source": [
    "newgriddedlast = np.where(newgriddednew == 0., np.nan, newgriddednew)"
   ]
  },
  {
   "cell_type": "code",
   "execution_count": 39,
   "metadata": {},
   "outputs": [],
   "source": [
    "newgriddedlast2 = np.where(newgriddednew == 0., np.nan, newgriddedlast)"
   ]
  },
  {
   "cell_type": "code",
   "execution_count": 42,
   "metadata": {},
   "outputs": [
    {
     "data": {
      "text/plain": [
       "<matplotlib.image.AxesImage at 0xd26aedac8>"
      ]
     },
     "execution_count": 42,
     "metadata": {},
     "output_type": "execute_result"
    },
    {
     "data": {
      "image/png": "[encoded data removed]",
      "text/plain": [
       "<Figure size 432x288 with 1 Axes>"
      ]
     },
     "metadata": {
      "needs_background": "light"
     },
     "output_type": "display_data"
    }
   ],
   "source": [
    "fig = plt.figure()\n",
    "ax = fig.add_subplot(111)\n",
    "ax.imshow(newgriddedlast2)"
   ]
  },
  {
   "cell_type": "code",
   "execution_count": 51,
   "metadata": {},
   "outputs": [
    {
     "name": "stdout",
     "output_type": "stream",
     "text": [
      "<class 'numpy.ndarray'>\n"
     ]
    }
   ],
   "source": [
    "print(type(newgriddedlast2))"
   ]
  },
  {
   "cell_type": "code",
   "execution_count": 46,
   "metadata": {},
   "outputs": [],
   "source": [
    "xi = np.arange(-76,-65,0.5)\n",
    "yi = np.arange(35,46,0.5)"
   ]
  },
  {
   "cell_type": "code",
   "execution_count": 47,
   "metadata": {},
   "outputs": [
    {
     "name": "stdout",
     "output_type": "stream",
     "text": [
      "22\n"
     ]
    }
   ],
   "source": [
    "print(len(xi))"
   ]
  },
  {
   "cell_type": "code",
   "execution_count": 37,
   "metadata": {},
   "outputs": [
    {
     "name": "stdout",
     "output_type": "stream",
     "text": [
      "(22, 22)\n"
     ]
    }
   ],
   "source": [
    "print(newgriddedlast.shape)"
   ]
  },
  {
   "cell_type": "code",
   "execution_count": 45,
   "metadata": {
    "collapsed": true
   },
   "outputs": [
    {
     "ename": "TypeError",
     "evalue": "float() argument must be a string or a number, not 'function'",
     "output_type": "error",
     "traceback": [
      "\u001b[0;31m---------------------------------------------------------------------------\u001b[0m",
      "\u001b[0;31mTypeError\u001b[0m                                 Traceback (most recent call last)",
      "\u001b[0;32m<ipython-input-45-38b25ea09693>\u001b[0m in \u001b[0;36m<module>\u001b[0;34m\u001b[0m\n\u001b[0;32m----> 1\u001b[0;31m \u001b[0mplt\u001b[0m\u001b[0;34m.\u001b[0m\u001b[0mcontourf\u001b[0m\u001b[0;34m(\u001b[0m\u001b[0mxi\u001b[0m\u001b[0;34m,\u001b[0m\u001b[0myi\u001b[0m\u001b[0;34m,\u001b[0m\u001b[0mnewgriddednew\u001b[0m\u001b[0;34m,\u001b[0m\u001b[0mnp\u001b[0m\u001b[0;34m.\u001b[0m\u001b[0marange\u001b[0m\u001b[0;34m(\u001b[0m\u001b[0;36m0\u001b[0m\u001b[0;34m,\u001b[0m \u001b[0;36m185\u001b[0m\u001b[0;34m,\u001b[0m \u001b[0;36m1\u001b[0m\u001b[0;34m)\u001b[0m\u001b[0;34m,\u001b[0m\u001b[0mcmap\u001b[0m \u001b[0;34m=\u001b[0m \u001b[0;34m'ocean_r'\u001b[0m\u001b[0;34m)\u001b[0m\u001b[0;34m\u001b[0m\u001b[0;34m\u001b[0m\u001b[0m\n\u001b[0m",
      "\u001b[0;32m/anaconda3/lib/python3.7/site-packages/matplotlib/pyplot.py\u001b[0m in \u001b[0;36mcontourf\u001b[0;34m(data, *args, **kwargs)\u001b[0m\n\u001b[1;32m   2547\u001b[0m     __ret = gca().contourf(\n\u001b[1;32m   2548\u001b[0m         \u001b[0;34m*\u001b[0m\u001b[0margs\u001b[0m\u001b[0;34m,\u001b[0m \u001b[0;34m**\u001b[0m\u001b[0;34m(\u001b[0m\u001b[0;34m{\u001b[0m\u001b[0;34m\"data\"\u001b[0m\u001b[0;34m:\u001b[0m \u001b[0mdata\u001b[0m\u001b[0;34m}\u001b[0m \u001b[0;32mif\u001b[0m \u001b[0mdata\u001b[0m \u001b[0;32mis\u001b[0m \u001b[0;32mnot\u001b[0m \u001b[0;32mNone\u001b[0m \u001b[0;32melse\u001b[0m \u001b[0;34m{\u001b[0m\u001b[0;34m}\u001b[0m\u001b[0;34m)\u001b[0m\u001b[0;34m,\u001b[0m\u001b[0;34m\u001b[0m\u001b[0;34m\u001b[0m\u001b[0m\n\u001b[0;32m-> 2549\u001b[0;31m         **kwargs)\n\u001b[0m\u001b[1;32m   2550\u001b[0m     \u001b[0;32mif\u001b[0m \u001b[0m__ret\u001b[0m\u001b[0;34m.\u001b[0m\u001b[0m_A\u001b[0m \u001b[0;32mis\u001b[0m \u001b[0;32mnot\u001b[0m \u001b[0;32mNone\u001b[0m\u001b[0;34m:\u001b[0m \u001b[0msci\u001b[0m\u001b[0;34m(\u001b[0m\u001b[0m__ret\u001b[0m\u001b[0;34m)\u001b[0m  \u001b[0;31m# noqa\u001b[0m\u001b[0;34m\u001b[0m\u001b[0;34m\u001b[0m\u001b[0m\n\u001b[1;32m   2551\u001b[0m     \u001b[0;32mreturn\u001b[0m \u001b[0m__ret\u001b[0m\u001b[0;34m\u001b[0m\u001b[0;34m\u001b[0m\u001b[0m\n",
      "\u001b[0;32m/anaconda3/lib/python3.7/site-packages/matplotlib/__init__.py\u001b[0m in \u001b[0;36minner\u001b[0;34m(ax, data, *args, **kwargs)\u001b[0m\n\u001b[1;32m   1808\u001b[0m                         \u001b[0;34m\"the Matplotlib list!)\"\u001b[0m \u001b[0;34m%\u001b[0m \u001b[0;34m(\u001b[0m\u001b[0mlabel_namer\u001b[0m\u001b[0;34m,\u001b[0m \u001b[0mfunc\u001b[0m\u001b[0;34m.\u001b[0m\u001b[0m__name__\u001b[0m\u001b[0;34m)\u001b[0m\u001b[0;34m,\u001b[0m\u001b[0;34m\u001b[0m\u001b[0;34m\u001b[0m\u001b[0m\n\u001b[1;32m   1809\u001b[0m                         RuntimeWarning, stacklevel=2)\n\u001b[0;32m-> 1810\u001b[0;31m             \u001b[0;32mreturn\u001b[0m \u001b[0mfunc\u001b[0m\u001b[0;34m(\u001b[0m\u001b[0max\u001b[0m\u001b[0;34m,\u001b[0m \u001b[0;34m*\u001b[0m\u001b[0margs\u001b[0m\u001b[0;34m,\u001b[0m \u001b[0;34m**\u001b[0m\u001b[0mkwargs\u001b[0m\u001b[0;34m)\u001b[0m\u001b[0;34m\u001b[0m\u001b[0;34m\u001b[0m\u001b[0m\n\u001b[0m\u001b[1;32m   1811\u001b[0m \u001b[0;34m\u001b[0m\u001b[0m\n\u001b[1;32m   1812\u001b[0m         inner.__doc__ = _add_data_doc(inner.__doc__,\n",
      "\u001b[0;32m/anaconda3/lib/python3.7/site-packages/matplotlib/axes/_axes.py\u001b[0m in \u001b[0;36mcontourf\u001b[0;34m(self, *args, **kwargs)\u001b[0m\n\u001b[1;32m   6237\u001b[0m     \u001b[0;32mdef\u001b[0m \u001b[0mcontourf\u001b[0m\u001b[0;34m(\u001b[0m\u001b[0mself\u001b[0m\u001b[0;34m,\u001b[0m \u001b[0;34m*\u001b[0m\u001b[0margs\u001b[0m\u001b[0;34m,\u001b[0m \u001b[0;34m**\u001b[0m\u001b[0mkwargs\u001b[0m\u001b[0;34m)\u001b[0m\u001b[0;34m:\u001b[0m\u001b[0;34m\u001b[0m\u001b[0;34m\u001b[0m\u001b[0m\n\u001b[1;32m   6238\u001b[0m         \u001b[0mkwargs\u001b[0m\u001b[0;34m[\u001b[0m\u001b[0;34m'filled'\u001b[0m\u001b[0;34m]\u001b[0m \u001b[0;34m=\u001b[0m \u001b[0;32mTrue\u001b[0m\u001b[0;34m\u001b[0m\u001b[0;34m\u001b[0m\u001b[0m\n\u001b[0;32m-> 6239\u001b[0;31m         \u001b[0mcontours\u001b[0m \u001b[0;34m=\u001b[0m \u001b[0mmcontour\u001b[0m\u001b[0;34m.\u001b[0m\u001b[0mQuadContourSet\u001b[0m\u001b[0;34m(\u001b[0m\u001b[0mself\u001b[0m\u001b[0;34m,\u001b[0m \u001b[0;34m*\u001b[0m\u001b[0margs\u001b[0m\u001b[0;34m,\u001b[0m \u001b[0;34m**\u001b[0m\u001b[0mkwargs\u001b[0m\u001b[0;34m)\u001b[0m\u001b[0;34m\u001b[0m\u001b[0;34m\u001b[0m\u001b[0m\n\u001b[0m\u001b[1;32m   6240\u001b[0m         \u001b[0mself\u001b[0m\u001b[0;34m.\u001b[0m\u001b[0mautoscale_view\u001b[0m\u001b[0;34m(\u001b[0m\u001b[0;34m)\u001b[0m\u001b[0;34m\u001b[0m\u001b[0;34m\u001b[0m\u001b[0m\n\u001b[1;32m   6241\u001b[0m         \u001b[0;32mreturn\u001b[0m \u001b[0mcontours\u001b[0m\u001b[0;34m\u001b[0m\u001b[0;34m\u001b[0m\u001b[0m\n",
      "\u001b[0;32m/anaconda3/lib/python3.7/site-packages/matplotlib/contour.py\u001b[0m in \u001b[0;36m__init__\u001b[0;34m(self, ax, levels, filled, linewidths, linestyles, alpha, origin, extent, cmap, colors, norm, vmin, vmax, extend, antialiased, *args, **kwargs)\u001b[0m\n\u001b[1;32m    885\u001b[0m         \u001b[0mself\u001b[0m\u001b[0;34m.\u001b[0m\u001b[0m_transform\u001b[0m \u001b[0;34m=\u001b[0m \u001b[0mkwargs\u001b[0m\u001b[0;34m.\u001b[0m\u001b[0mpop\u001b[0m\u001b[0;34m(\u001b[0m\u001b[0;34m'transform'\u001b[0m\u001b[0;34m,\u001b[0m \u001b[0;32mNone\u001b[0m\u001b[0;34m)\u001b[0m\u001b[0;34m\u001b[0m\u001b[0;34m\u001b[0m\u001b[0m\n\u001b[1;32m    886\u001b[0m \u001b[0;34m\u001b[0m\u001b[0m\n\u001b[0;32m--> 887\u001b[0;31m         \u001b[0mkwargs\u001b[0m \u001b[0;34m=\u001b[0m \u001b[0mself\u001b[0m\u001b[0;34m.\u001b[0m\u001b[0m_process_args\u001b[0m\u001b[0;34m(\u001b[0m\u001b[0;34m*\u001b[0m\u001b[0margs\u001b[0m\u001b[0;34m,\u001b[0m \u001b[0;34m**\u001b[0m\u001b[0mkwargs\u001b[0m\u001b[0;34m)\u001b[0m\u001b[0;34m\u001b[0m\u001b[0;34m\u001b[0m\u001b[0m\n\u001b[0m\u001b[1;32m    888\u001b[0m         \u001b[0mself\u001b[0m\u001b[0;34m.\u001b[0m\u001b[0m_process_levels\u001b[0m\u001b[0;34m(\u001b[0m\u001b[0;34m)\u001b[0m\u001b[0;34m\u001b[0m\u001b[0;34m\u001b[0m\u001b[0m\n\u001b[1;32m    889\u001b[0m \u001b[0;34m\u001b[0m\u001b[0m\n",
      "\u001b[0;32m/anaconda3/lib/python3.7/site-packages/matplotlib/contour.py\u001b[0m in \u001b[0;36m_process_args\u001b[0;34m(self, *args, **kwargs)\u001b[0m\n\u001b[1;32m   1491\u001b[0m                 \u001b[0mself\u001b[0m\u001b[0;34m.\u001b[0m\u001b[0m_corner_mask\u001b[0m \u001b[0;34m=\u001b[0m \u001b[0mmpl\u001b[0m\u001b[0;34m.\u001b[0m\u001b[0mrcParams\u001b[0m\u001b[0;34m[\u001b[0m\u001b[0;34m'contour.corner_mask'\u001b[0m\u001b[0;34m]\u001b[0m\u001b[0;34m\u001b[0m\u001b[0;34m\u001b[0m\u001b[0m\n\u001b[1;32m   1492\u001b[0m \u001b[0;34m\u001b[0m\u001b[0m\n\u001b[0;32m-> 1493\u001b[0;31m             \u001b[0mx\u001b[0m\u001b[0;34m,\u001b[0m \u001b[0my\u001b[0m\u001b[0;34m,\u001b[0m \u001b[0mz\u001b[0m \u001b[0;34m=\u001b[0m \u001b[0mself\u001b[0m\u001b[0;34m.\u001b[0m\u001b[0m_contour_args\u001b[0m\u001b[0;34m(\u001b[0m\u001b[0margs\u001b[0m\u001b[0;34m,\u001b[0m \u001b[0mkwargs\u001b[0m\u001b[0;34m)\u001b[0m\u001b[0;34m\u001b[0m\u001b[0;34m\u001b[0m\u001b[0m\n\u001b[0m\u001b[1;32m   1494\u001b[0m \u001b[0;34m\u001b[0m\u001b[0m\n\u001b[1;32m   1495\u001b[0m             \u001b[0m_mask\u001b[0m \u001b[0;34m=\u001b[0m \u001b[0mma\u001b[0m\u001b[0;34m.\u001b[0m\u001b[0mgetmask\u001b[0m\u001b[0;34m(\u001b[0m\u001b[0mz\u001b[0m\u001b[0;34m)\u001b[0m\u001b[0;34m\u001b[0m\u001b[0;34m\u001b[0m\u001b[0m\n",
      "\u001b[0;32m/anaconda3/lib/python3.7/site-packages/matplotlib/contour.py\u001b[0m in \u001b[0;36m_contour_args\u001b[0;34m(self, args, kwargs)\u001b[0m\n\u001b[1;32m   1549\u001b[0m             \u001b[0margs\u001b[0m \u001b[0;34m=\u001b[0m \u001b[0margs\u001b[0m\u001b[0;34m[\u001b[0m\u001b[0;36m1\u001b[0m\u001b[0;34m:\u001b[0m\u001b[0;34m]\u001b[0m\u001b[0;34m\u001b[0m\u001b[0;34m\u001b[0m\u001b[0m\n\u001b[1;32m   1550\u001b[0m         \u001b[0;32melif\u001b[0m \u001b[0mNargs\u001b[0m \u001b[0;34m<=\u001b[0m \u001b[0;36m4\u001b[0m\u001b[0;34m:\u001b[0m\u001b[0;34m\u001b[0m\u001b[0;34m\u001b[0m\u001b[0m\n\u001b[0;32m-> 1551\u001b[0;31m             \u001b[0mx\u001b[0m\u001b[0;34m,\u001b[0m \u001b[0my\u001b[0m\u001b[0;34m,\u001b[0m \u001b[0mz\u001b[0m \u001b[0;34m=\u001b[0m \u001b[0mself\u001b[0m\u001b[0;34m.\u001b[0m\u001b[0m_check_xyz\u001b[0m\u001b[0;34m(\u001b[0m\u001b[0margs\u001b[0m\u001b[0;34m[\u001b[0m\u001b[0;34m:\u001b[0m\u001b[0;36m3\u001b[0m\u001b[0;34m]\u001b[0m\u001b[0;34m,\u001b[0m \u001b[0mkwargs\u001b[0m\u001b[0;34m)\u001b[0m\u001b[0;34m\u001b[0m\u001b[0;34m\u001b[0m\u001b[0m\n\u001b[0m\u001b[1;32m   1552\u001b[0m             \u001b[0margs\u001b[0m \u001b[0;34m=\u001b[0m \u001b[0margs\u001b[0m\u001b[0;34m[\u001b[0m\u001b[0;36m3\u001b[0m\u001b[0;34m:\u001b[0m\u001b[0;34m]\u001b[0m\u001b[0;34m\u001b[0m\u001b[0;34m\u001b[0m\u001b[0m\n\u001b[1;32m   1553\u001b[0m         \u001b[0;32melse\u001b[0m\u001b[0;34m:\u001b[0m\u001b[0;34m\u001b[0m\u001b[0;34m\u001b[0m\u001b[0m\n",
      "\u001b[0;32m/anaconda3/lib/python3.7/site-packages/matplotlib/contour.py\u001b[0m in \u001b[0;36m_check_xyz\u001b[0;34m(self, args, kwargs)\u001b[0m\n\u001b[1;32m   1580\u001b[0m         \u001b[0mx\u001b[0m \u001b[0;34m=\u001b[0m \u001b[0mnp\u001b[0m\u001b[0;34m.\u001b[0m\u001b[0masarray\u001b[0m\u001b[0;34m(\u001b[0m\u001b[0mx\u001b[0m\u001b[0;34m,\u001b[0m \u001b[0mdtype\u001b[0m\u001b[0;34m=\u001b[0m\u001b[0mnp\u001b[0m\u001b[0;34m.\u001b[0m\u001b[0mfloat64\u001b[0m\u001b[0;34m)\u001b[0m\u001b[0;34m\u001b[0m\u001b[0;34m\u001b[0m\u001b[0m\n\u001b[1;32m   1581\u001b[0m         \u001b[0my\u001b[0m \u001b[0;34m=\u001b[0m \u001b[0mnp\u001b[0m\u001b[0;34m.\u001b[0m\u001b[0masarray\u001b[0m\u001b[0;34m(\u001b[0m\u001b[0my\u001b[0m\u001b[0;34m,\u001b[0m \u001b[0mdtype\u001b[0m\u001b[0;34m=\u001b[0m\u001b[0mnp\u001b[0m\u001b[0;34m.\u001b[0m\u001b[0mfloat64\u001b[0m\u001b[0;34m)\u001b[0m\u001b[0;34m\u001b[0m\u001b[0;34m\u001b[0m\u001b[0m\n\u001b[0;32m-> 1582\u001b[0;31m         \u001b[0mz\u001b[0m \u001b[0;34m=\u001b[0m \u001b[0mma\u001b[0m\u001b[0;34m.\u001b[0m\u001b[0masarray\u001b[0m\u001b[0;34m(\u001b[0m\u001b[0margs\u001b[0m\u001b[0;34m[\u001b[0m\u001b[0;36m2\u001b[0m\u001b[0;34m]\u001b[0m\u001b[0;34m,\u001b[0m \u001b[0mdtype\u001b[0m\u001b[0;34m=\u001b[0m\u001b[0mnp\u001b[0m\u001b[0;34m.\u001b[0m\u001b[0mfloat64\u001b[0m\u001b[0;34m)\u001b[0m\u001b[0;34m\u001b[0m\u001b[0;34m\u001b[0m\u001b[0m\n\u001b[0m\u001b[1;32m   1583\u001b[0m \u001b[0;34m\u001b[0m\u001b[0m\n\u001b[1;32m   1584\u001b[0m         \u001b[0;32mif\u001b[0m \u001b[0mz\u001b[0m\u001b[0;34m.\u001b[0m\u001b[0mndim\u001b[0m \u001b[0;34m!=\u001b[0m \u001b[0;36m2\u001b[0m\u001b[0;34m:\u001b[0m\u001b[0;34m\u001b[0m\u001b[0;34m\u001b[0m\u001b[0m\n",
      "\u001b[0;32m/anaconda3/lib/python3.7/site-packages/numpy/ma/core.py\u001b[0m in \u001b[0;36masarray\u001b[0;34m(a, dtype, order)\u001b[0m\n\u001b[1;32m   7947\u001b[0m     \u001b[0morder\u001b[0m \u001b[0;34m=\u001b[0m \u001b[0morder\u001b[0m \u001b[0;32mor\u001b[0m \u001b[0;34m'C'\u001b[0m\u001b[0;34m\u001b[0m\u001b[0;34m\u001b[0m\u001b[0m\n\u001b[1;32m   7948\u001b[0m     return masked_array(a, dtype=dtype, copy=False, keep_mask=True,\n\u001b[0;32m-> 7949\u001b[0;31m                         subok=False, order=order)\n\u001b[0m\u001b[1;32m   7950\u001b[0m \u001b[0;34m\u001b[0m\u001b[0m\n\u001b[1;32m   7951\u001b[0m \u001b[0;34m\u001b[0m\u001b[0m\n",
      "\u001b[0;32m/anaconda3/lib/python3.7/site-packages/numpy/ma/core.py\u001b[0m in \u001b[0;36m__new__\u001b[0;34m(cls, data, mask, dtype, copy, subok, ndmin, fill_value, keep_mask, hard_mask, shrink, order, **options)\u001b[0m\n\u001b[1;32m   2830\u001b[0m         \u001b[0;31m# Process data.\u001b[0m\u001b[0;34m\u001b[0m\u001b[0;34m\u001b[0m\u001b[0;34m\u001b[0m\u001b[0m\n\u001b[1;32m   2831\u001b[0m         _data = np.array(data, dtype=dtype, copy=copy,\n\u001b[0;32m-> 2832\u001b[0;31m                          order=order, subok=True, ndmin=ndmin)\n\u001b[0m\u001b[1;32m   2833\u001b[0m         \u001b[0m_baseclass\u001b[0m \u001b[0;34m=\u001b[0m \u001b[0mgetattr\u001b[0m\u001b[0;34m(\u001b[0m\u001b[0mdata\u001b[0m\u001b[0;34m,\u001b[0m \u001b[0;34m'_baseclass'\u001b[0m\u001b[0;34m,\u001b[0m \u001b[0mtype\u001b[0m\u001b[0;34m(\u001b[0m\u001b[0m_data\u001b[0m\u001b[0;34m)\u001b[0m\u001b[0;34m)\u001b[0m\u001b[0;34m\u001b[0m\u001b[0;34m\u001b[0m\u001b[0m\n\u001b[1;32m   2834\u001b[0m         \u001b[0;31m# Check that we're not erasing the mask.\u001b[0m\u001b[0;34m\u001b[0m\u001b[0;34m\u001b[0m\u001b[0;34m\u001b[0m\u001b[0m\n",
      "\u001b[0;31mTypeError\u001b[0m: float() argument must be a string or a number, not 'function'"
     ]
    },
    {
     "data": {
      "image/png": "[encoded data removed]",
      "text/plain": [
       "<Figure size 432x288 with 1 Axes>"
      ]
     },
     "metadata": {
      "needs_background": "light"
     },
     "output_type": "display_data"
    }
   ],
   "source": [
    "plt.contourf(xi,yi,newgriddednew,np.arange(0, 185, 1),cmap = 'ocean_r')"
   ]
  },
  {
   "cell_type": "code",
   "execution_count": 121,
   "metadata": {},
   "outputs": [
    {
     "name": "stderr",
     "output_type": "stream",
     "text": [
      "/anaconda3/lib/python3.7/site-packages/numpy/lib/nanfunctions.py:1665: RuntimeWarning: Degrees of freedom <= 0 for slice.\n",
      "  keepdims=keepdims)\n"
     ]
    }
   ],
   "source": [
    "newstdgridnew = np.nanstd([zi_listofarrays[0],zi_listofarrays[1],zi_listofarrays[2],zi_listofarrays[3],zi_listofarrays[4],\n",
    "                          zi_listofarrays[5],zi_listofarrays[6],zi_listofarrays[7],zi_listofarrays[8],\n",
    "                          zi_listofarrays[9],zi_listofarrays[10],zi_listofarrays[11],\n",
    "                          zi_listofarrays[12],zi_listofarrays[13],zi_listofarrays[14],\n",
    "                          zi_listofarrays[15],zi_listofarrays[16],zi_listofarrays[17],\n",
    "                          zi_listofarrays[18],zi_listofarrays[19],zi_listofarrays[20],\n",
    "                          zi_listofarrays[21],zi_listofarrays[22],zi_listofarrays[23],\n",
    "                          zi_listofarrays[24],zi_listofarrays[25],zi_listofarrays[26],\n",
    "                          zi_listofarrays[27],zi_listofarrays[28],zi_listofarrays[29],\n",
    "                          zi_listofarrays[30],zi_listofarrays[31],zi_listofarrays[32],\n",
    "                          zi_listofarrays[33],zi_listofarrays[34],zi_listofarrays[35],\n",
    "                          zi_listofarrays[36],zi_listofarrays[37],zi_listofarrays[38],\n",
    "                          zi_listofarrays[39],zi_listofarrays[40],zi_listofarrays[41],zi_listofarrays[42]],axis = 0)"
   ]
  },
  {
   "cell_type": "code",
   "execution_count": 223,
   "metadata": {
    "scrolled": false
   },
   "outputs": [
    {
     "data": {
      "image/png": "[encoded data removed]",
      "text/plain": [
       "<Figure size 864x576 with 2 Axes>"
      ]
     },
     "metadata": {
      "needs_background": "light"
     },
     "output_type": "display_data"
    }
   ],
   "source": [
    "# from matplotlib.pyplot import * ; import cartopy.feature as cfeature\n",
    "\n",
    "# plt.figure(figsize=(12, 8))\n",
    "# ax = plt.axes(projection=ccrs.PlateCarree())\n",
    "# ax.set_extent([-78, -65, 35.5, 44.5], ccrs.PlateCarree())\n",
    "\n",
    "from matplotlib.pyplot import * ; import cartopy.feature as cfeature\n",
    "\n",
    "plt.figure(figsize=(12, 8))\n",
    "ax = plt.axes(projection=ccrs.PlateCarree())\n",
    "ax.set_extent([-78, -65, 35, 44.75], ccrs.PlateCarree())\n",
    "\n",
    "# plt.plot(newgriddedlast2)\n",
    "\n",
    "\n",
    "\n",
    "gl = ax.gridlines(crs=ccrs.PlateCarree(), draw_labels=True,linewidth=1, color='black', alpha=0.5, linestyle='--', zorder = 20)\n",
    "gl.xlabels_top = False\n",
    "gl.ylabels_left = True\n",
    "gl.ylabels_right = False\n",
    "gl.xformatter = LONGITUDE_FORMATTER\n",
    "gl.yformatter = LATITUDE_FORMATTER\n",
    "cf = plt.contourf(xi,yi,b,np.arange(0, 110,2), cmap = 'ocean_r')\n",
    "ax.contour(xi, yi, b, levels=9, linewidths=1,colors='white',zorder=5,)\n",
    "\n",
    "# cf = plt.contourf(xi,yi,grid,np.arange(0, 185, 5),cmap = 'ocean_r')\n",
    "# plt.contour(xi, yi, newmeangridnew, levels=5, linewidths=1,colors='white')\n",
    "# cf = plt.contourf(xi,yi,newgriddednew,np.arange(0, 95, 5),cmap = 'ocean_r')\n",
    "# cf = plt.contourf(xi,yi,newgridded)\n",
    "# ax.contour(xi, yi, newgriddednew, levels=9, linewidths=1,colors='white',zorder=5,)\n",
    "# plt.contour(xi, yi, newgridded, levels=5, linewidths=1,colors='white')\n",
    "# plt.scatter(val_lon_list[:99], val_lat_list[:99], marker='o', c='red',zorder = 20)\n",
    "# plt.plot(val_lon_list[:99], val_lat_list[:99])\n",
    "\n",
    "feature = cfeature.NaturalEarthFeature(name='coastline', category='physical',scale='50m',edgecolor='black', facecolor='dimgray')\n",
    "ax.add_feature(feature,zorder=10)\n",
    "cbar = plt.colorbar(cf, ax=ax)\n",
    "\n",
    "plt.savefig('NEFSC.png')\n",
    "\n",
    "plt.show()"
   ]
  },
  {
   "cell_type": "markdown",
   "metadata": {},
   "source": [
    "# fig = plt.figure()\n",
    "# ax = fig.add_subplot(111)\n",
    "# ax.imshow(0)"
   ]
  },
  {
   "cell_type": "code",
   "execution_count": 211,
   "metadata": {},
   "outputs": [
    {
     "name": "stdout",
     "output_type": "stream",
     "text": [
      "(22, 22)\n"
     ]
    }
   ],
   "source": [
    "import numpy as np\n",
    "from matplotlib.path import Path\n",
    "\n",
    "nx = np.arange(-76,-65,0.5)\n",
    "ny = np.arange(35,46,0.5)\n",
    "\n",
    "# poly_verts = df_w_plottable.values \n",
    "\n",
    "poly_verts_w = df_w_plottable.values \n",
    "poly_verts_v = df_v_plottable.values \n",
    "poly_verts_x = df_x_plottable.values \n",
    "poly_verts_y = df_y_plottable.values \n",
    "poly_verts_t = df_t_plottable.values \n",
    "\n",
    "full_pandas = df_w_plottable.append(df_v_plottable)\n",
    "full_pandas = full_pandas.append(df_x_plottable)\n",
    "full_pandas = full_pandas.append(df_y_plottable)\n",
    "full_pandas = full_pandas.append(df_t_plottable)\n",
    "poly_verts_full = full_pandas.values\n",
    "\n",
    "# print(df_w_plottable.values )\n",
    "\n",
    "newlon = [-69.5,-68,-67.5, -67, -66.5, -66, -65.7, -66,-66, -66.5, -67,\n",
    "         -68, -69, -70,-70.5, -70.5,-69.5, -72, -74, -74.25, -76, -75.5, -75, -74.75, -74.5, -72, -71.4, -69.5]\n",
    "newlat = [40,40.3,40.4, 40.6, 40.8, 41.45, 41.8, 42.1, 43, 44.2, 44.2, 44.2, 43.9, 43.7,\n",
    "         43, 42.2, 41, 41, 40.5, 39.4, 37, 36, 35.5, 36, 37.4, 39.5, 40, 40]\n",
    "newpath = list(zip(newlon,newlat))\n",
    "newpd = pd.DataFrame(newpath, columns=['lon','lat'])\n",
    "path_new = Path(newpath)\n",
    "\n",
    "# full_numpyarray = poly_verts_w.append(poly_verts_v,poly_verts_x,poly_verts_y,poly_verts_t)\n",
    "\n",
    "# Create vertex coordinates for each grid cell...\n",
    "# (<0,0> is at the top left of the grid in this system)\n",
    "x, y = np.meshgrid(nx, ny)\n",
    "x, y = x.flatten(), y.flatten()\n",
    "\n",
    "points = np.vstack((x,y)).T\n",
    "\n",
    "# path = Path(poly_verts)\n",
    "path_w = Path(poly_verts_w)\n",
    "path_v = Path(poly_verts_v)\n",
    "path_x = Path(poly_verts_x)\n",
    "path_y = Path(poly_verts_y)\n",
    "path_t = Path(poly_verts_t)\n",
    "path_full = Path(poly_verts_full)\n",
    "\n",
    "# grid = path.contains_points(points)\n",
    "# grid = path_w.contains_points(points) \n",
    "# grid = path_full.contains_points(points) \n",
    "grid = path_new.contains_points(points) \n",
    "\n",
    "# grid = path_w.contains_points(points) or path_v.contains_points(points) or path_x.contains_points(points) or path_y.contains_points(points) or path_t.contains_points(points)\n",
    "\n",
    "grid = grid.reshape((22,22))\n",
    "\n",
    "# print(grid)\n",
    "\n",
    "print(grid.shape)"
   ]
  },
  {
   "cell_type": "code",
   "execution_count": 24,
   "metadata": {
    "scrolled": true
   },
   "outputs": [
    {
     "name": "stdout",
     "output_type": "stream",
     "text": [
      "[nan nan nan nan nan nan nan nan nan nan nan nan nan nan nan nan nan nan\n",
      " nan nan nan nan]\n",
      "[nan nan nan nan nan nan nan nan nan nan nan nan nan nan nan nan nan nan\n",
      " nan nan nan nan]\n",
      "[        nan         nan 23.67280507 26.20997344         nan         nan\n",
      "         nan         nan         nan         nan         nan         nan\n",
      "         nan         nan         nan         nan         nan         nan\n",
      "         nan         nan         nan         nan]\n",
      "[        nan 10.67999048 17.79754061 63.86614256 18.16055574         nan\n",
      "         nan         nan         nan         nan         nan         nan\n",
      "         nan         nan         nan         nan         nan         nan\n",
      "         nan         nan         nan         nan]\n",
      "[         nan  12.09257154  35.68653456 193.58822111  75.23000953\n",
      "  32.29486109  22.49630851          nan          nan          nan\n",
      "          nan          nan          nan          nan          nan\n",
      "          nan          nan          nan          nan          nan\n",
      "          nan          nan]\n",
      "[         nan   5.11248565  12.70729025  54.         115.01951331\n",
      "  88.78351759  45.84836915  19.59861668  44.83427352          nan\n",
      "          nan          nan          nan          nan          nan\n",
      "          nan          nan          nan          nan          nan\n",
      "          nan          nan]\n",
      "[         nan          nan  11.51717917  19.62756737  57.27467803\n",
      " 266.9558936  102.33702565  59.40187721  21.31425387  30.67376316\n",
      "          nan          nan          nan          nan          nan\n",
      "          nan          nan          nan          nan          nan\n",
      "          nan          nan]\n",
      "[         nan          nan          nan  20.0201646   23.11805257\n",
      "  84.94830049 188.38539127 115.89053371  72.95538527  30.02023683\n",
      "  40.08230081  52.74587186          nan          nan          nan\n",
      "          nan          nan          nan          nan          nan\n",
      "          nan          nan]\n",
      "[         nan          nan          nan  14.66595108  13.73764626\n",
      "  19.66621313  42.51083949 172.3791902  129.44404177  86.50889333\n",
      "  43.57374489  35.63146711  38.85121782          nan          nan\n",
      "          nan          nan          nan          nan          nan\n",
      "          nan          nan]\n",
      "[         nan          nan          nan          nan  13.37310217\n",
      "  27.15771775  25.5497843   52.06029395 284.3069944  115.69520223\n",
      " 100.06240139  57.12725295  27.61496839  48.25975547  43.49844296\n",
      "          nan          nan          nan          nan          nan\n",
      "          nan          nan]\n",
      "[         nan          nan          nan          nan  12.38423038\n",
      "  23.48702955  49.56312309  46.53863899  49.04479879  44.62334365\n",
      "  39.04088722 148.78295315  27.33177126  26.0656007   29.01032304\n",
      "  47.02867247  43.82197436          nan          nan          nan\n",
      "          nan          nan]\n",
      "[        nan         nan         nan         nan         nan  9.50974985\n",
      " 30.42326762 19.8465765  55.96297968 56.45804538 70.01758794 27.31306717\n",
      " 45.92221501 40.25914766 33.38025404 38.16142132 65.95989437 16.55027344\n",
      "         nan         nan         nan         nan]\n",
      "[        nan         nan         nan         nan         nan         nan\n",
      " 22.86224478 25.19163926 12.04971877 19.18460104 41.23214105 38.40966599\n",
      " 20.62868421 44.76119148 73.85239958 44.64986065 43.44723949 39.01903705\n",
      " 47.33312565 14.77153908         nan         nan]\n",
      "[         nan          nan          nan          nan          nan\n",
      "          nan          nan  30.93020916  36.96188175  17.65160084\n",
      "  41.10786671  48.53482925  35.81177367  25.70640342 114.31143103\n",
      "  82.54660546  34.92672906  38.22297695  59.57112147  82.52863916\n",
      "  23.58251159          nan]\n",
      "[         nan          nan          nan          nan          nan\n",
      "          nan          nan          nan          nan  48.73212423\n",
      "  36.95179172  57.80216253  37.72167138 115.96875999  83.66389907\n",
      " 121.70708117 152.43509123  24.28326419  57.57303371  81.6509193\n",
      "  29.8250086           nan]\n",
      "[         nan          nan          nan          nan          nan\n",
      "          nan          nan          nan          nan          nan\n",
      "  60.50236672  56.25198259 129.60691602  87.81327607  73.80999673\n",
      "  93.24233394  62.82349803  78.04683194  56.11154823  17.43290924\n",
      "  20.48226417          nan]\n",
      "[        nan         nan         nan         nan         nan         nan\n",
      "         nan         nan         nan         nan         nan 68.31255536\n",
      " 81.96201465 89.4900725  64.94057704 83.38321904 86.29158383 30.04452311\n",
      " 25.89878275 61.62263516         nan         nan]\n",
      "[         nan          nan          nan          nan          nan\n",
      "          nan          nan          nan          nan          nan\n",
      "          nan          nan  43.13836481  55.39227297 109.9060724\n",
      " 109.79824828  65.18052563  80.54980078  33.          49.43764969\n",
      "          nan          nan]\n",
      "[        nan         nan         nan         nan         nan         nan\n",
      "         nan         nan         nan         nan         nan         nan\n",
      "         nan         nan         nan 74.92316129 50.51265599 57.66732816\n",
      " 65.21189456 35.60652315         nan         nan]\n",
      "[nan nan nan nan nan nan nan nan nan nan nan nan nan nan nan nan nan nan\n",
      " nan nan nan nan]\n",
      "[nan nan nan nan nan nan nan nan nan nan nan nan nan nan nan nan nan nan\n",
      " nan nan nan nan]\n",
      "[nan nan nan nan nan nan nan nan nan nan nan nan nan nan nan nan nan nan\n",
      " nan nan nan nan]\n"
     ]
    }
   ],
   "source": [
    "new = zi_listofarrays[0]\n",
    "for i in zi:\n",
    "    print(i)\n",
    "# for i in zi:\n",
    "#     print(i)"
   ]
  },
  {
   "cell_type": "code",
   "execution_count": 480,
   "metadata": {},
   "outputs": [],
   "source": [
    "def outline_to_mask(line, x, y):\n",
    "    \"\"\"Create mask from outline contour\n",
    "\n",
    "    Parameters\n",
    "    ----------\n",
    "    line: array-like (N, 2)\n",
    "    x, y: 1-D grid coordinates (input for meshgrid)\n",
    "\n",
    "    Returns\n",
    "    -------\n",
    "    mask : 2-D boolean array (True inside)\n",
    "    \"\"\"\n",
    "    import matplotlib.path as mplp\n",
    "    mpath = mplp.Path(line)\n",
    "    X, Y = np.meshgrid(x, y)\n",
    "    points = np.array((X.flatten(), Y.flatten())).T\n",
    "    mask = mpath.contains_points(points).reshape(X.shape)\n",
    "    return mask"
   ]
  },
  {
   "cell_type": "code",
   "execution_count": 139,
   "metadata": {},
   "outputs": [
    {
     "name": "stdout",
     "output_type": "stream",
     "text": [
      "[[False False False False False False False False False False False False\n",
      "  False False False False False False False False False False]\n",
      " [False False False False False False False False False False False False\n",
      "  False False False False False False False False False False]\n",
      " [False  True  True False False False False False False False False False\n",
      "  False False False False False False False False False False]\n",
      " [False  True  True False False False False False False False False False\n",
      "  False False False False False False False False False False]\n",
      " [ True  True  True False False False False False False False False False\n",
      "  False False False False False False False False False False]\n",
      " [False  True  True  True False False False False False False False False\n",
      "  False False False False False False False False False False]\n",
      " [False False  True  True  True False False False False False False False\n",
      "  False False False False False False False False False False]\n",
      " [False False False  True  True  True False False False False False False\n",
      "  False False False False False False False False False False]\n",
      " [False False False  True  True  True  True False False False False False\n",
      "  False False False False False False False False False False]\n",
      " [False False False False  True  True  True  True  True False False False\n",
      "  False False False False False False False False False False]\n",
      " [False False False False  True  True  True  True  True  True False False\n",
      "  False False False False False False False False False False]\n",
      " [False False False False  True  True  True  True  True  True  True  True\n",
      "   True  True  True  True  True  True False False False False]\n",
      " [False False False False False False False False  True  True  True  True\n",
      "   True  True  True  True  True  True  True  True False False]\n",
      " [False False False False False False False False False False False False\n",
      "  False  True  True  True  True  True  True  True  True False]\n",
      " [False False False False False False False False False False False False\n",
      "   True  True  True  True  True  True  True  True  True False]\n",
      " [False False False False False False False False False False False  True\n",
      "   True  True  True  True  True  True  True  True  True False]\n",
      " [False False False False False False False False False False False  True\n",
      "   True  True  True  True  True  True  True  True  True False]\n",
      " [False False False False False False False False False False False False\n",
      "   True  True  True  True  True  True  True  True False False]\n",
      " [False False False False False False False False False False False False\n",
      "  False False False  True  True  True  True  True False False]\n",
      " [False False False False False False False False False False False False\n",
      "  False False False False False False False False False False]\n",
      " [False False False False False False False False False False False False\n",
      "  False False False False False False False False False False]\n",
      " [False False False False False False False False False False False False\n",
      "  False False False False False False False False False False]]\n"
     ]
    }
   ],
   "source": [
    "import numpy as np\n",
    "from matplotlib.path import Path\n",
    "\n",
    "# nx = np.arange(-76*100,-65*100,25)\n",
    "# ny = np.arange(35*100,46*100,25)\n",
    "\n",
    "nx = np.arange(-76,-65,0.5)\n",
    "ny = np.arange(35,46,0.5)\n",
    "\n",
    "# poly_verts = df_w_plottable.values \n",
    "\n",
    "poly_verts_w = df_w_plottable.values \n",
    "poly_verts_v = df_v_plottable.values \n",
    "poly_verts_x = df_x_plottable.values \n",
    "poly_verts_y = df_y_plottable.values \n",
    "poly_verts_t = df_t_plottable.values \n",
    "\n",
    "full_pandas = df_w_plottable.append(df_v_plottable)\n",
    "full_pandas = full_pandas.append(df_x_plottable)\n",
    "full_pandas = full_pandas.append(df_y_plottable)\n",
    "full_pandas = full_pandas.append(df_t_plottable)\n",
    "poly_verts_full = full_pandas.values\n",
    "\n",
    "# print(df_w_plottable.values )\n",
    "\n",
    "newlon = [-69.5,-68,-67.5, -67, -66.5, -66, -65.7, -66,-66, -66.5, -67,\n",
    "         -68, -69, -70,-70.5, -70.5,-69.5, -72, -74, -74.25, -76, -75.5, -75, -74.75, -74.5, -72, -71.4, -69.5]\n",
    "newlat = [40,40.3,40.4, 40.6, 40.8, 41.45, 41.8, 42.1, 43, 44.2, 44.2, 44.2, 43.9, 43.7,\n",
    "         43, 42.2, 41, 41, 40.5, 39.4, 37, 36, 35.5, 36, 37.4, 39.5, 40, 40]\n",
    "newpath = list(zip(newlon,newlat))\n",
    "newpd = pd.DataFrame(newpath, columns=['lon','lat'])\n",
    "path_new = Path(newpath)\n",
    "\n",
    "# full_numpyarray = poly_verts_w.append(poly_verts_v,poly_verts_x,poly_verts_y,poly_verts_t)\n",
    "\n",
    "# Create vertex coordinates for each grid cell...\n",
    "# (<0,0> is at the top left of the grid in this system)\n",
    "x, y = np.meshgrid(nx, ny)\n",
    "x, y = x.flatten(), y.flatten()\n",
    "\n",
    "points = np.vstack((x,y)).T\n",
    "\n",
    "# path = Path(poly_verts)\n",
    "path_w = Path(poly_verts_w)\n",
    "path_v = Path(poly_verts_v)\n",
    "path_x = Path(poly_verts_x)\n",
    "path_y = Path(poly_verts_y)\n",
    "path_t = Path(poly_verts_t)\n",
    "path_full = Path(poly_verts_full)\n",
    "\n",
    "# grid = path.contains_points(points)\n",
    "# grid = path_w.contains_points(points) \n",
    "# grid = path_full.contains_points(points) \n",
    "grid = path_new.contains_points(points) \n",
    "\n",
    "# grid = path_w.contains_points(points) or path_v.contains_points(points) or path_x.contains_points(points) or path_y.contains_points(points) or path_t.contains_points(points)\n",
    "\n",
    "grid = grid.reshape((22,22))\n",
    "\n",
    "print(grid)"
   ]
  },
  {
   "cell_type": "code",
   "execution_count": 140,
   "metadata": {},
   "outputs": [
    {
     "name": "stdout",
     "output_type": "stream",
     "text": [
      "(22, 22)\n"
     ]
    }
   ],
   "source": [
    "print(grid.shape)"
   ]
  },
  {
   "cell_type": "code",
   "execution_count": 73,
   "metadata": {},
   "outputs": [
    {
     "name": "stdout",
     "output_type": "stream",
     "text": [
      "<class 'numpy.float64'>\n"
     ]
    }
   ],
   "source": [
    "print(type(zi[0][1]))"
   ]
  },
  {
   "cell_type": "code",
   "execution_count": 483,
   "metadata": {},
   "outputs": [
    {
     "name": "stdout",
     "output_type": "stream",
     "text": [
      "[[False False False ... False False False]\n",
      " [False False False ... False False False]\n",
      " [False False False ... False False False]\n",
      " ...\n",
      " [False False False ... False False False]\n",
      " [False False False ... False False False]\n",
      " [False False False ... False False False]]\n"
     ]
    }
   ],
   "source": [
    "print(grid)"
   ]
  },
  {
   "cell_type": "code",
   "execution_count": 745,
   "metadata": {},
   "outputs": [
    {
     "data": {
      "text/plain": [
       "<matplotlib.image.AxesImage at 0xd2d15e3c8>"
      ]
     },
     "execution_count": 745,
     "metadata": {},
     "output_type": "execute_result"
    },
    {
     "data": {
      "image/png": "[encoded data removed]",
      "text/plain": [
       "<Figure size 432x288 with 1 Axes>"
      ]
     },
     "metadata": {},
     "output_type": "display_data"
    }
   ],
   "source": [
    "fig = plt.figure()\n",
    "ax = fig.add_subplot(111)\n",
    "ax.imshow(grid)"
   ]
  },
  {
   "cell_type": "code",
   "execution_count": 64,
   "metadata": {
    "scrolled": false
   },
   "outputs": [],
   "source": [
    "newgridded = np.where(grid == False, np.nan, grid)\n",
    "\n",
    "newgriddednew = np.where(grid == 1., zi, grid)\n",
    "\n",
    "# print(newgridded)\n",
    "# latest = []\n",
    "# for i in newgridded:\n",
    "#     for a in zi:\n",
    "# #         print(i)\n",
    "# #         print(a)\n",
    "#         for b in a:\n",
    "#             for ii in i:\n",
    "#                 ii = b\n",
    "#             print(i)\n",
    "# #         print(i)\n",
    "# #             for ii in i:\n",
    "# #                 ii = zi[a][b]"
   ]
  },
  {
   "cell_type": "code",
   "execution_count": 65,
   "metadata": {},
   "outputs": [
    {
     "name": "stdout",
     "output_type": "stream",
     "text": [
      "[[<function grid at 0x111a57d08> <function grid at 0x111a57d08>\n",
      "  <function grid at 0x111a57d08> <function grid at 0x111a57d08>\n",
      "  <function grid at 0x111a57d08> <function grid at 0x111a57d08>\n",
      "  <function grid at 0x111a57d08> <function grid at 0x111a57d08>\n",
      "  <function grid at 0x111a57d08> <function grid at 0x111a57d08>\n",
      "  <function grid at 0x111a57d08> <function grid at 0x111a57d08>\n",
      "  <function grid at 0x111a57d08> <function grid at 0x111a57d08>\n",
      "  <function grid at 0x111a57d08> <function grid at 0x111a57d08>\n",
      "  <function grid at 0x111a57d08> <function grid at 0x111a57d08>\n",
      "  <function grid at 0x111a57d08> <function grid at 0x111a57d08>\n",
      "  <function grid at 0x111a57d08> <function grid at 0x111a57d08>]\n",
      " [<function grid at 0x111a57d08> <function grid at 0x111a57d08>\n",
      "  <function grid at 0x111a57d08> <function grid at 0x111a57d08>\n",
      "  <function grid at 0x111a57d08> <function grid at 0x111a57d08>\n",
      "  <function grid at 0x111a57d08> <function grid at 0x111a57d08>\n",
      "  <function grid at 0x111a57d08> <function grid at 0x111a57d08>\n",
      "  <function grid at 0x111a57d08> <function grid at 0x111a57d08>\n",
      "  <function grid at 0x111a57d08> <function grid at 0x111a57d08>\n",
      "  <function grid at 0x111a57d08> <function grid at 0x111a57d08>\n",
      "  <function grid at 0x111a57d08> <function grid at 0x111a57d08>\n",
      "  <function grid at 0x111a57d08> <function grid at 0x111a57d08>\n",
      "  <function grid at 0x111a57d08> <function grid at 0x111a57d08>]\n",
      " [<function grid at 0x111a57d08> <function grid at 0x111a57d08>\n",
      "  <function grid at 0x111a57d08> <function grid at 0x111a57d08>\n",
      "  <function grid at 0x111a57d08> <function grid at 0x111a57d08>\n",
      "  <function grid at 0x111a57d08> <function grid at 0x111a57d08>\n",
      "  <function grid at 0x111a57d08> <function grid at 0x111a57d08>\n",
      "  <function grid at 0x111a57d08> <function grid at 0x111a57d08>\n",
      "  <function grid at 0x111a57d08> <function grid at 0x111a57d08>\n",
      "  <function grid at 0x111a57d08> <function grid at 0x111a57d08>\n",
      "  <function grid at 0x111a57d08> <function grid at 0x111a57d08>\n",
      "  <function grid at 0x111a57d08> <function grid at 0x111a57d08>\n",
      "  <function grid at 0x111a57d08> <function grid at 0x111a57d08>]\n",
      " [<function grid at 0x111a57d08> <function grid at 0x111a57d08>\n",
      "  <function grid at 0x111a57d08> <function grid at 0x111a57d08>\n",
      "  <function grid at 0x111a57d08> <function grid at 0x111a57d08>\n",
      "  <function grid at 0x111a57d08> <function grid at 0x111a57d08>\n",
      "  <function grid at 0x111a57d08> <function grid at 0x111a57d08>\n",
      "  <function grid at 0x111a57d08> <function grid at 0x111a57d08>\n",
      "  <function grid at 0x111a57d08> <function grid at 0x111a57d08>\n",
      "  <function grid at 0x111a57d08> <function grid at 0x111a57d08>\n",
      "  <function grid at 0x111a57d08> <function grid at 0x111a57d08>\n",
      "  <function grid at 0x111a57d08> <function grid at 0x111a57d08>\n",
      "  <function grid at 0x111a57d08> <function grid at 0x111a57d08>]\n",
      " [<function grid at 0x111a57d08> <function grid at 0x111a57d08>\n",
      "  <function grid at 0x111a57d08> <function grid at 0x111a57d08>\n",
      "  <function grid at 0x111a57d08> <function grid at 0x111a57d08>\n",
      "  <function grid at 0x111a57d08> <function grid at 0x111a57d08>\n",
      "  <function grid at 0x111a57d08> <function grid at 0x111a57d08>\n",
      "  <function grid at 0x111a57d08> <function grid at 0x111a57d08>\n",
      "  <function grid at 0x111a57d08> <function grid at 0x111a57d08>\n",
      "  <function grid at 0x111a57d08> <function grid at 0x111a57d08>\n",
      "  <function grid at 0x111a57d08> <function grid at 0x111a57d08>\n",
      "  <function grid at 0x111a57d08> <function grid at 0x111a57d08>\n",
      "  <function grid at 0x111a57d08> <function grid at 0x111a57d08>]\n",
      " [<function grid at 0x111a57d08> <function grid at 0x111a57d08>\n",
      "  <function grid at 0x111a57d08> <function grid at 0x111a57d08>\n",
      "  <function grid at 0x111a57d08> <function grid at 0x111a57d08>\n",
      "  <function grid at 0x111a57d08> <function grid at 0x111a57d08>\n",
      "  <function grid at 0x111a57d08> <function grid at 0x111a57d08>\n",
      "  <function grid at 0x111a57d08> <function grid at 0x111a57d08>\n",
      "  <function grid at 0x111a57d08> <function grid at 0x111a57d08>\n",
      "  <function grid at 0x111a57d08> <function grid at 0x111a57d08>\n",
      "  <function grid at 0x111a57d08> <function grid at 0x111a57d08>\n",
      "  <function grid at 0x111a57d08> <function grid at 0x111a57d08>\n",
      "  <function grid at 0x111a57d08> <function grid at 0x111a57d08>]\n",
      " [<function grid at 0x111a57d08> <function grid at 0x111a57d08>\n",
      "  <function grid at 0x111a57d08> <function grid at 0x111a57d08>\n",
      "  <function grid at 0x111a57d08> <function grid at 0x111a57d08>\n",
      "  <function grid at 0x111a57d08> <function grid at 0x111a57d08>\n",
      "  <function grid at 0x111a57d08> <function grid at 0x111a57d08>\n",
      "  <function grid at 0x111a57d08> <function grid at 0x111a57d08>\n",
      "  <function grid at 0x111a57d08> <function grid at 0x111a57d08>\n",
      "  <function grid at 0x111a57d08> <function grid at 0x111a57d08>\n",
      "  <function grid at 0x111a57d08> <function grid at 0x111a57d08>\n",
      "  <function grid at 0x111a57d08> <function grid at 0x111a57d08>\n",
      "  <function grid at 0x111a57d08> <function grid at 0x111a57d08>]\n",
      " [<function grid at 0x111a57d08> <function grid at 0x111a57d08>\n",
      "  <function grid at 0x111a57d08> <function grid at 0x111a57d08>\n",
      "  <function grid at 0x111a57d08> <function grid at 0x111a57d08>\n",
      "  <function grid at 0x111a57d08> <function grid at 0x111a57d08>\n",
      "  <function grid at 0x111a57d08> <function grid at 0x111a57d08>\n",
      "  <function grid at 0x111a57d08> <function grid at 0x111a57d08>\n",
      "  <function grid at 0x111a57d08> <function grid at 0x111a57d08>\n",
      "  <function grid at 0x111a57d08> <function grid at 0x111a57d08>\n",
      "  <function grid at 0x111a57d08> <function grid at 0x111a57d08>\n",
      "  <function grid at 0x111a57d08> <function grid at 0x111a57d08>\n",
      "  <function grid at 0x111a57d08> <function grid at 0x111a57d08>]\n",
      " [<function grid at 0x111a57d08> <function grid at 0x111a57d08>\n",
      "  <function grid at 0x111a57d08> <function grid at 0x111a57d08>\n",
      "  <function grid at 0x111a57d08> <function grid at 0x111a57d08>\n",
      "  <function grid at 0x111a57d08> <function grid at 0x111a57d08>\n",
      "  <function grid at 0x111a57d08> <function grid at 0x111a57d08>\n",
      "  <function grid at 0x111a57d08> <function grid at 0x111a57d08>\n",
      "  <function grid at 0x111a57d08> <function grid at 0x111a57d08>\n",
      "  <function grid at 0x111a57d08> <function grid at 0x111a57d08>\n",
      "  <function grid at 0x111a57d08> <function grid at 0x111a57d08>\n",
      "  <function grid at 0x111a57d08> <function grid at 0x111a57d08>\n",
      "  <function grid at 0x111a57d08> <function grid at 0x111a57d08>]\n",
      " [<function grid at 0x111a57d08> <function grid at 0x111a57d08>\n",
      "  <function grid at 0x111a57d08> <function grid at 0x111a57d08>\n",
      "  <function grid at 0x111a57d08> <function grid at 0x111a57d08>\n",
      "  <function grid at 0x111a57d08> <function grid at 0x111a57d08>\n",
      "  <function grid at 0x111a57d08> <function grid at 0x111a57d08>\n",
      "  <function grid at 0x111a57d08> <function grid at 0x111a57d08>\n",
      "  <function grid at 0x111a57d08> <function grid at 0x111a57d08>\n",
      "  <function grid at 0x111a57d08> <function grid at 0x111a57d08>\n",
      "  <function grid at 0x111a57d08> <function grid at 0x111a57d08>\n",
      "  <function grid at 0x111a57d08> <function grid at 0x111a57d08>\n",
      "  <function grid at 0x111a57d08> <function grid at 0x111a57d08>]\n",
      " [<function grid at 0x111a57d08> <function grid at 0x111a57d08>\n",
      "  <function grid at 0x111a57d08> <function grid at 0x111a57d08>\n",
      "  <function grid at 0x111a57d08> <function grid at 0x111a57d08>\n",
      "  <function grid at 0x111a57d08> <function grid at 0x111a57d08>\n",
      "  <function grid at 0x111a57d08> <function grid at 0x111a57d08>\n",
      "  <function grid at 0x111a57d08> <function grid at 0x111a57d08>\n",
      "  <function grid at 0x111a57d08> <function grid at 0x111a57d08>\n",
      "  <function grid at 0x111a57d08> <function grid at 0x111a57d08>\n",
      "  <function grid at 0x111a57d08> <function grid at 0x111a57d08>\n",
      "  <function grid at 0x111a57d08> <function grid at 0x111a57d08>\n",
      "  <function grid at 0x111a57d08> <function grid at 0x111a57d08>]\n",
      " [<function grid at 0x111a57d08> <function grid at 0x111a57d08>\n",
      "  <function grid at 0x111a57d08> <function grid at 0x111a57d08>\n",
      "  <function grid at 0x111a57d08> <function grid at 0x111a57d08>\n",
      "  <function grid at 0x111a57d08> <function grid at 0x111a57d08>\n",
      "  <function grid at 0x111a57d08> <function grid at 0x111a57d08>\n",
      "  <function grid at 0x111a57d08> <function grid at 0x111a57d08>\n",
      "  <function grid at 0x111a57d08> <function grid at 0x111a57d08>\n",
      "  <function grid at 0x111a57d08> <function grid at 0x111a57d08>\n",
      "  <function grid at 0x111a57d08> <function grid at 0x111a57d08>\n",
      "  <function grid at 0x111a57d08> <function grid at 0x111a57d08>\n",
      "  <function grid at 0x111a57d08> <function grid at 0x111a57d08>]\n",
      " [<function grid at 0x111a57d08> <function grid at 0x111a57d08>\n",
      "  <function grid at 0x111a57d08> <function grid at 0x111a57d08>\n",
      "  <function grid at 0x111a57d08> <function grid at 0x111a57d08>\n",
      "  <function grid at 0x111a57d08> <function grid at 0x111a57d08>\n",
      "  <function grid at 0x111a57d08> <function grid at 0x111a57d08>\n",
      "  <function grid at 0x111a57d08> <function grid at 0x111a57d08>\n",
      "  <function grid at 0x111a57d08> <function grid at 0x111a57d08>\n",
      "  <function grid at 0x111a57d08> <function grid at 0x111a57d08>\n",
      "  <function grid at 0x111a57d08> <function grid at 0x111a57d08>\n",
      "  <function grid at 0x111a57d08> <function grid at 0x111a57d08>\n",
      "  <function grid at 0x111a57d08> <function grid at 0x111a57d08>]\n",
      " [<function grid at 0x111a57d08> <function grid at 0x111a57d08>\n",
      "  <function grid at 0x111a57d08> <function grid at 0x111a57d08>\n",
      "  <function grid at 0x111a57d08> <function grid at 0x111a57d08>\n",
      "  <function grid at 0x111a57d08> <function grid at 0x111a57d08>\n",
      "  <function grid at 0x111a57d08> <function grid at 0x111a57d08>\n",
      "  <function grid at 0x111a57d08> <function grid at 0x111a57d08>\n",
      "  <function grid at 0x111a57d08> <function grid at 0x111a57d08>\n",
      "  <function grid at 0x111a57d08> <function grid at 0x111a57d08>\n",
      "  <function grid at 0x111a57d08> <function grid at 0x111a57d08>\n",
      "  <function grid at 0x111a57d08> <function grid at 0x111a57d08>\n",
      "  <function grid at 0x111a57d08> <function grid at 0x111a57d08>]\n",
      " [<function grid at 0x111a57d08> <function grid at 0x111a57d08>\n",
      "  <function grid at 0x111a57d08> <function grid at 0x111a57d08>\n",
      "  <function grid at 0x111a57d08> <function grid at 0x111a57d08>\n",
      "  <function grid at 0x111a57d08> <function grid at 0x111a57d08>\n",
      "  <function grid at 0x111a57d08> <function grid at 0x111a57d08>\n",
      "  <function grid at 0x111a57d08> <function grid at 0x111a57d08>\n",
      "  <function grid at 0x111a57d08> <function grid at 0x111a57d08>\n",
      "  <function grid at 0x111a57d08> <function grid at 0x111a57d08>\n",
      "  <function grid at 0x111a57d08> <function grid at 0x111a57d08>\n",
      "  <function grid at 0x111a57d08> <function grid at 0x111a57d08>\n",
      "  <function grid at 0x111a57d08> <function grid at 0x111a57d08>]\n",
      " [<function grid at 0x111a57d08> <function grid at 0x111a57d08>\n",
      "  <function grid at 0x111a57d08> <function grid at 0x111a57d08>\n",
      "  <function grid at 0x111a57d08> <function grid at 0x111a57d08>\n",
      "  <function grid at 0x111a57d08> <function grid at 0x111a57d08>\n",
      "  <function grid at 0x111a57d08> <function grid at 0x111a57d08>\n",
      "  <function grid at 0x111a57d08> <function grid at 0x111a57d08>\n",
      "  <function grid at 0x111a57d08> <function grid at 0x111a57d08>\n",
      "  <function grid at 0x111a57d08> <function grid at 0x111a57d08>\n",
      "  <function grid at 0x111a57d08> <function grid at 0x111a57d08>\n",
      "  <function grid at 0x111a57d08> <function grid at 0x111a57d08>\n",
      "  <function grid at 0x111a57d08> <function grid at 0x111a57d08>]\n",
      " [<function grid at 0x111a57d08> <function grid at 0x111a57d08>\n",
      "  <function grid at 0x111a57d08> <function grid at 0x111a57d08>\n",
      "  <function grid at 0x111a57d08> <function grid at 0x111a57d08>\n",
      "  <function grid at 0x111a57d08> <function grid at 0x111a57d08>\n",
      "  <function grid at 0x111a57d08> <function grid at 0x111a57d08>\n",
      "  <function grid at 0x111a57d08> <function grid at 0x111a57d08>\n",
      "  <function grid at 0x111a57d08> <function grid at 0x111a57d08>\n",
      "  <function grid at 0x111a57d08> <function grid at 0x111a57d08>\n",
      "  <function grid at 0x111a57d08> <function grid at 0x111a57d08>\n",
      "  <function grid at 0x111a57d08> <function grid at 0x111a57d08>\n",
      "  <function grid at 0x111a57d08> <function grid at 0x111a57d08>]\n",
      " [<function grid at 0x111a57d08> <function grid at 0x111a57d08>\n",
      "  <function grid at 0x111a57d08> <function grid at 0x111a57d08>\n",
      "  <function grid at 0x111a57d08> <function grid at 0x111a57d08>\n",
      "  <function grid at 0x111a57d08> <function grid at 0x111a57d08>\n",
      "  <function grid at 0x111a57d08> <function grid at 0x111a57d08>\n",
      "  <function grid at 0x111a57d08> <function grid at 0x111a57d08>\n",
      "  <function grid at 0x111a57d08> <function grid at 0x111a57d08>\n",
      "  <function grid at 0x111a57d08> <function grid at 0x111a57d08>\n",
      "  <function grid at 0x111a57d08> <function grid at 0x111a57d08>\n",
      "  <function grid at 0x111a57d08> <function grid at 0x111a57d08>\n",
      "  <function grid at 0x111a57d08> <function grid at 0x111a57d08>]\n",
      " [<function grid at 0x111a57d08> <function grid at 0x111a57d08>\n",
      "  <function grid at 0x111a57d08> <function grid at 0x111a57d08>\n",
      "  <function grid at 0x111a57d08> <function grid at 0x111a57d08>\n",
      "  <function grid at 0x111a57d08> <function grid at 0x111a57d08>\n",
      "  <function grid at 0x111a57d08> <function grid at 0x111a57d08>\n",
      "  <function grid at 0x111a57d08> <function grid at 0x111a57d08>\n",
      "  <function grid at 0x111a57d08> <function grid at 0x111a57d08>\n",
      "  <function grid at 0x111a57d08> <function grid at 0x111a57d08>\n",
      "  <function grid at 0x111a57d08> <function grid at 0x111a57d08>\n",
      "  <function grid at 0x111a57d08> <function grid at 0x111a57d08>\n",
      "  <function grid at 0x111a57d08> <function grid at 0x111a57d08>]\n",
      " [<function grid at 0x111a57d08> <function grid at 0x111a57d08>\n",
      "  <function grid at 0x111a57d08> <function grid at 0x111a57d08>\n",
      "  <function grid at 0x111a57d08> <function grid at 0x111a57d08>\n",
      "  <function grid at 0x111a57d08> <function grid at 0x111a57d08>\n",
      "  <function grid at 0x111a57d08> <function grid at 0x111a57d08>\n",
      "  <function grid at 0x111a57d08> <function grid at 0x111a57d08>\n",
      "  <function grid at 0x111a57d08> <function grid at 0x111a57d08>\n",
      "  <function grid at 0x111a57d08> <function grid at 0x111a57d08>\n",
      "  <function grid at 0x111a57d08> <function grid at 0x111a57d08>\n",
      "  <function grid at 0x111a57d08> <function grid at 0x111a57d08>\n",
      "  <function grid at 0x111a57d08> <function grid at 0x111a57d08>]\n",
      " [<function grid at 0x111a57d08> <function grid at 0x111a57d08>\n",
      "  <function grid at 0x111a57d08> <function grid at 0x111a57d08>\n",
      "  <function grid at 0x111a57d08> <function grid at 0x111a57d08>\n",
      "  <function grid at 0x111a57d08> <function grid at 0x111a57d08>\n",
      "  <function grid at 0x111a57d08> <function grid at 0x111a57d08>\n",
      "  <function grid at 0x111a57d08> <function grid at 0x111a57d08>\n",
      "  <function grid at 0x111a57d08> <function grid at 0x111a57d08>\n",
      "  <function grid at 0x111a57d08> <function grid at 0x111a57d08>\n",
      "  <function grid at 0x111a57d08> <function grid at 0x111a57d08>\n",
      "  <function grid at 0x111a57d08> <function grid at 0x111a57d08>\n",
      "  <function grid at 0x111a57d08> <function grid at 0x111a57d08>]\n",
      " [<function grid at 0x111a57d08> <function grid at 0x111a57d08>\n",
      "  <function grid at 0x111a57d08> <function grid at 0x111a57d08>\n",
      "  <function grid at 0x111a57d08> <function grid at 0x111a57d08>\n",
      "  <function grid at 0x111a57d08> <function grid at 0x111a57d08>\n",
      "  <function grid at 0x111a57d08> <function grid at 0x111a57d08>\n",
      "  <function grid at 0x111a57d08> <function grid at 0x111a57d08>\n",
      "  <function grid at 0x111a57d08> <function grid at 0x111a57d08>\n",
      "  <function grid at 0x111a57d08> <function grid at 0x111a57d08>\n",
      "  <function grid at 0x111a57d08> <function grid at 0x111a57d08>\n",
      "  <function grid at 0x111a57d08> <function grid at 0x111a57d08>\n",
      "  <function grid at 0x111a57d08> <function grid at 0x111a57d08>]]\n"
     ]
    }
   ],
   "source": [
    "print(newgriddednew)"
   ]
  },
  {
   "cell_type": "code",
   "execution_count": 66,
   "metadata": {
    "scrolled": true
   },
   "outputs": [],
   "source": [
    "newgriddedlast = np.where(newgriddednew == 0., np.nan, newgriddednew)"
   ]
  },
  {
   "cell_type": "code",
   "execution_count": 490,
   "metadata": {},
   "outputs": [
    {
     "name": "stdout",
     "output_type": "stream",
     "text": [
      "[[nan nan nan ... nan nan nan]\n",
      " [nan nan nan ... nan nan nan]\n",
      " [nan nan nan ... nan nan nan]\n",
      " ...\n",
      " [nan nan nan ... nan nan nan]\n",
      " [nan nan nan ... nan nan nan]\n",
      " [nan nan nan ... nan nan nan]]\n"
     ]
    }
   ],
   "source": [
    "print(newgriddedlast)"
   ]
  },
  {
   "cell_type": "code",
   "execution_count": 67,
   "metadata": {},
   "outputs": [
    {
     "ename": "TypeError",
     "evalue": "float() argument must be a string or a number, not 'function'",
     "output_type": "error",
     "traceback": [
      "\u001b[0;31m---------------------------------------------------------------------------\u001b[0m",
      "\u001b[0;31mTypeError\u001b[0m                                 Traceback (most recent call last)",
      "\u001b[0;32m<ipython-input-67-f183289549c7>\u001b[0m in \u001b[0;36m<module>\u001b[0;34m\u001b[0m\n\u001b[1;32m     12\u001b[0m \u001b[0mgl\u001b[0m\u001b[0;34m.\u001b[0m\u001b[0myformatter\u001b[0m \u001b[0;34m=\u001b[0m \u001b[0mLATITUDE_FORMATTER\u001b[0m\u001b[0;34m\u001b[0m\u001b[0;34m\u001b[0m\u001b[0m\n\u001b[1;32m     13\u001b[0m \u001b[0;34m\u001b[0m\u001b[0m\n\u001b[0;32m---> 14\u001b[0;31m \u001b[0mcf\u001b[0m \u001b[0;34m=\u001b[0m \u001b[0mplt\u001b[0m\u001b[0;34m.\u001b[0m\u001b[0mcontourf\u001b[0m\u001b[0;34m(\u001b[0m\u001b[0mxi\u001b[0m\u001b[0;34m,\u001b[0m\u001b[0myi\u001b[0m\u001b[0;34m,\u001b[0m\u001b[0mnewgridded\u001b[0m\u001b[0;34m,\u001b[0m\u001b[0mcmap\u001b[0m \u001b[0;34m=\u001b[0m \u001b[0;34m'ocean_r'\u001b[0m\u001b[0;34m)\u001b[0m\u001b[0;34m\u001b[0m\u001b[0;34m\u001b[0m\u001b[0m\n\u001b[0m\u001b[1;32m     15\u001b[0m \u001b[0;31m# plt.contour(xi, yi, zi, levels=5, linewidths=1,colors='white')\u001b[0m\u001b[0;34m\u001b[0m\u001b[0;34m\u001b[0m\u001b[0;34m\u001b[0m\u001b[0m\n\u001b[1;32m     16\u001b[0m \u001b[0;34m\u001b[0m\u001b[0m\n",
      "\u001b[0;32m/anaconda3/lib/python3.7/site-packages/matplotlib/pyplot.py\u001b[0m in \u001b[0;36mcontourf\u001b[0;34m(data, *args, **kwargs)\u001b[0m\n\u001b[1;32m   2547\u001b[0m     __ret = gca().contourf(\n\u001b[1;32m   2548\u001b[0m         \u001b[0;34m*\u001b[0m\u001b[0margs\u001b[0m\u001b[0;34m,\u001b[0m \u001b[0;34m**\u001b[0m\u001b[0;34m(\u001b[0m\u001b[0;34m{\u001b[0m\u001b[0;34m\"data\"\u001b[0m\u001b[0;34m:\u001b[0m \u001b[0mdata\u001b[0m\u001b[0;34m}\u001b[0m \u001b[0;32mif\u001b[0m \u001b[0mdata\u001b[0m \u001b[0;32mis\u001b[0m \u001b[0;32mnot\u001b[0m \u001b[0;32mNone\u001b[0m \u001b[0;32melse\u001b[0m \u001b[0;34m{\u001b[0m\u001b[0;34m}\u001b[0m\u001b[0;34m)\u001b[0m\u001b[0;34m,\u001b[0m\u001b[0;34m\u001b[0m\u001b[0;34m\u001b[0m\u001b[0m\n\u001b[0;32m-> 2549\u001b[0;31m         **kwargs)\n\u001b[0m\u001b[1;32m   2550\u001b[0m     \u001b[0;32mif\u001b[0m \u001b[0m__ret\u001b[0m\u001b[0;34m.\u001b[0m\u001b[0m_A\u001b[0m \u001b[0;32mis\u001b[0m \u001b[0;32mnot\u001b[0m \u001b[0;32mNone\u001b[0m\u001b[0;34m:\u001b[0m \u001b[0msci\u001b[0m\u001b[0;34m(\u001b[0m\u001b[0m__ret\u001b[0m\u001b[0;34m)\u001b[0m  \u001b[0;31m# noqa\u001b[0m\u001b[0;34m\u001b[0m\u001b[0;34m\u001b[0m\u001b[0m\n\u001b[1;32m   2551\u001b[0m     \u001b[0;32mreturn\u001b[0m \u001b[0m__ret\u001b[0m\u001b[0;34m\u001b[0m\u001b[0;34m\u001b[0m\u001b[0m\n",
      "\u001b[0;32m/anaconda3/lib/python3.7/site-packages/cartopy/mpl/geoaxes.py\u001b[0m in \u001b[0;36mcontourf\u001b[0;34m(self, *args, **kwargs)\u001b[0m\n\u001b[1;32m   1398\u001b[0m                         \u001b[0msub_trans\u001b[0m\u001b[0;34m.\u001b[0m\u001b[0mforce_path_ccw\u001b[0m \u001b[0;34m=\u001b[0m \u001b[0;32mTrue\u001b[0m\u001b[0;34m\u001b[0m\u001b[0;34m\u001b[0m\u001b[0m\n\u001b[1;32m   1399\u001b[0m \u001b[0;34m\u001b[0m\u001b[0m\n\u001b[0;32m-> 1400\u001b[0;31m         \u001b[0mresult\u001b[0m \u001b[0;34m=\u001b[0m \u001b[0mmatplotlib\u001b[0m\u001b[0;34m.\u001b[0m\u001b[0maxes\u001b[0m\u001b[0;34m.\u001b[0m\u001b[0mAxes\u001b[0m\u001b[0;34m.\u001b[0m\u001b[0mcontourf\u001b[0m\u001b[0;34m(\u001b[0m\u001b[0mself\u001b[0m\u001b[0;34m,\u001b[0m \u001b[0;34m*\u001b[0m\u001b[0margs\u001b[0m\u001b[0;34m,\u001b[0m \u001b[0;34m**\u001b[0m\u001b[0mkwargs\u001b[0m\u001b[0;34m)\u001b[0m\u001b[0;34m\u001b[0m\u001b[0;34m\u001b[0m\u001b[0m\n\u001b[0m\u001b[1;32m   1401\u001b[0m \u001b[0;34m\u001b[0m\u001b[0m\n\u001b[1;32m   1402\u001b[0m         \u001b[0;31m# We need to compute the dataLim correctly for contours.\u001b[0m\u001b[0;34m\u001b[0m\u001b[0;34m\u001b[0m\u001b[0;34m\u001b[0m\u001b[0m\n",
      "\u001b[0;32m/anaconda3/lib/python3.7/site-packages/matplotlib/__init__.py\u001b[0m in \u001b[0;36minner\u001b[0;34m(ax, data, *args, **kwargs)\u001b[0m\n\u001b[1;32m   1808\u001b[0m                         \u001b[0;34m\"the Matplotlib list!)\"\u001b[0m \u001b[0;34m%\u001b[0m \u001b[0;34m(\u001b[0m\u001b[0mlabel_namer\u001b[0m\u001b[0;34m,\u001b[0m \u001b[0mfunc\u001b[0m\u001b[0;34m.\u001b[0m\u001b[0m__name__\u001b[0m\u001b[0;34m)\u001b[0m\u001b[0;34m,\u001b[0m\u001b[0;34m\u001b[0m\u001b[0;34m\u001b[0m\u001b[0m\n\u001b[1;32m   1809\u001b[0m                         RuntimeWarning, stacklevel=2)\n\u001b[0;32m-> 1810\u001b[0;31m             \u001b[0;32mreturn\u001b[0m \u001b[0mfunc\u001b[0m\u001b[0;34m(\u001b[0m\u001b[0max\u001b[0m\u001b[0;34m,\u001b[0m \u001b[0;34m*\u001b[0m\u001b[0margs\u001b[0m\u001b[0;34m,\u001b[0m \u001b[0;34m**\u001b[0m\u001b[0mkwargs\u001b[0m\u001b[0;34m)\u001b[0m\u001b[0;34m\u001b[0m\u001b[0;34m\u001b[0m\u001b[0m\n\u001b[0m\u001b[1;32m   1811\u001b[0m \u001b[0;34m\u001b[0m\u001b[0m\n\u001b[1;32m   1812\u001b[0m         inner.__doc__ = _add_data_doc(inner.__doc__,\n",
      "\u001b[0;32m/anaconda3/lib/python3.7/site-packages/matplotlib/axes/_axes.py\u001b[0m in \u001b[0;36mcontourf\u001b[0;34m(self, *args, **kwargs)\u001b[0m\n\u001b[1;32m   6237\u001b[0m     \u001b[0;32mdef\u001b[0m \u001b[0mcontourf\u001b[0m\u001b[0;34m(\u001b[0m\u001b[0mself\u001b[0m\u001b[0;34m,\u001b[0m \u001b[0;34m*\u001b[0m\u001b[0margs\u001b[0m\u001b[0;34m,\u001b[0m \u001b[0;34m**\u001b[0m\u001b[0mkwargs\u001b[0m\u001b[0;34m)\u001b[0m\u001b[0;34m:\u001b[0m\u001b[0;34m\u001b[0m\u001b[0;34m\u001b[0m\u001b[0m\n\u001b[1;32m   6238\u001b[0m         \u001b[0mkwargs\u001b[0m\u001b[0;34m[\u001b[0m\u001b[0;34m'filled'\u001b[0m\u001b[0;34m]\u001b[0m \u001b[0;34m=\u001b[0m \u001b[0;32mTrue\u001b[0m\u001b[0;34m\u001b[0m\u001b[0;34m\u001b[0m\u001b[0m\n\u001b[0;32m-> 6239\u001b[0;31m         \u001b[0mcontours\u001b[0m \u001b[0;34m=\u001b[0m \u001b[0mmcontour\u001b[0m\u001b[0;34m.\u001b[0m\u001b[0mQuadContourSet\u001b[0m\u001b[0;34m(\u001b[0m\u001b[0mself\u001b[0m\u001b[0;34m,\u001b[0m \u001b[0;34m*\u001b[0m\u001b[0margs\u001b[0m\u001b[0;34m,\u001b[0m \u001b[0;34m**\u001b[0m\u001b[0mkwargs\u001b[0m\u001b[0;34m)\u001b[0m\u001b[0;34m\u001b[0m\u001b[0;34m\u001b[0m\u001b[0m\n\u001b[0m\u001b[1;32m   6240\u001b[0m         \u001b[0mself\u001b[0m\u001b[0;34m.\u001b[0m\u001b[0mautoscale_view\u001b[0m\u001b[0;34m(\u001b[0m\u001b[0;34m)\u001b[0m\u001b[0;34m\u001b[0m\u001b[0;34m\u001b[0m\u001b[0m\n\u001b[1;32m   6241\u001b[0m         \u001b[0;32mreturn\u001b[0m \u001b[0mcontours\u001b[0m\u001b[0;34m\u001b[0m\u001b[0;34m\u001b[0m\u001b[0m\n",
      "\u001b[0;32m/anaconda3/lib/python3.7/site-packages/matplotlib/contour.py\u001b[0m in \u001b[0;36m__init__\u001b[0;34m(self, ax, levels, filled, linewidths, linestyles, alpha, origin, extent, cmap, colors, norm, vmin, vmax, extend, antialiased, *args, **kwargs)\u001b[0m\n\u001b[1;32m    885\u001b[0m         \u001b[0mself\u001b[0m\u001b[0;34m.\u001b[0m\u001b[0m_transform\u001b[0m \u001b[0;34m=\u001b[0m \u001b[0mkwargs\u001b[0m\u001b[0;34m.\u001b[0m\u001b[0mpop\u001b[0m\u001b[0;34m(\u001b[0m\u001b[0;34m'transform'\u001b[0m\u001b[0;34m,\u001b[0m \u001b[0;32mNone\u001b[0m\u001b[0;34m)\u001b[0m\u001b[0;34m\u001b[0m\u001b[0;34m\u001b[0m\u001b[0m\n\u001b[1;32m    886\u001b[0m \u001b[0;34m\u001b[0m\u001b[0m\n\u001b[0;32m--> 887\u001b[0;31m         \u001b[0mkwargs\u001b[0m \u001b[0;34m=\u001b[0m \u001b[0mself\u001b[0m\u001b[0;34m.\u001b[0m\u001b[0m_process_args\u001b[0m\u001b[0;34m(\u001b[0m\u001b[0;34m*\u001b[0m\u001b[0margs\u001b[0m\u001b[0;34m,\u001b[0m \u001b[0;34m**\u001b[0m\u001b[0mkwargs\u001b[0m\u001b[0;34m)\u001b[0m\u001b[0;34m\u001b[0m\u001b[0;34m\u001b[0m\u001b[0m\n\u001b[0m\u001b[1;32m    888\u001b[0m         \u001b[0mself\u001b[0m\u001b[0;34m.\u001b[0m\u001b[0m_process_levels\u001b[0m\u001b[0;34m(\u001b[0m\u001b[0;34m)\u001b[0m\u001b[0;34m\u001b[0m\u001b[0;34m\u001b[0m\u001b[0m\n\u001b[1;32m    889\u001b[0m \u001b[0;34m\u001b[0m\u001b[0m\n",
      "\u001b[0;32m/anaconda3/lib/python3.7/site-packages/matplotlib/contour.py\u001b[0m in \u001b[0;36m_process_args\u001b[0;34m(self, *args, **kwargs)\u001b[0m\n\u001b[1;32m   1491\u001b[0m                 \u001b[0mself\u001b[0m\u001b[0;34m.\u001b[0m\u001b[0m_corner_mask\u001b[0m \u001b[0;34m=\u001b[0m \u001b[0mmpl\u001b[0m\u001b[0;34m.\u001b[0m\u001b[0mrcParams\u001b[0m\u001b[0;34m[\u001b[0m\u001b[0;34m'contour.corner_mask'\u001b[0m\u001b[0;34m]\u001b[0m\u001b[0;34m\u001b[0m\u001b[0;34m\u001b[0m\u001b[0m\n\u001b[1;32m   1492\u001b[0m \u001b[0;34m\u001b[0m\u001b[0m\n\u001b[0;32m-> 1493\u001b[0;31m             \u001b[0mx\u001b[0m\u001b[0;34m,\u001b[0m \u001b[0my\u001b[0m\u001b[0;34m,\u001b[0m \u001b[0mz\u001b[0m \u001b[0;34m=\u001b[0m \u001b[0mself\u001b[0m\u001b[0;34m.\u001b[0m\u001b[0m_contour_args\u001b[0m\u001b[0;34m(\u001b[0m\u001b[0margs\u001b[0m\u001b[0;34m,\u001b[0m \u001b[0mkwargs\u001b[0m\u001b[0;34m)\u001b[0m\u001b[0;34m\u001b[0m\u001b[0;34m\u001b[0m\u001b[0m\n\u001b[0m\u001b[1;32m   1494\u001b[0m \u001b[0;34m\u001b[0m\u001b[0m\n\u001b[1;32m   1495\u001b[0m             \u001b[0m_mask\u001b[0m \u001b[0;34m=\u001b[0m \u001b[0mma\u001b[0m\u001b[0;34m.\u001b[0m\u001b[0mgetmask\u001b[0m\u001b[0;34m(\u001b[0m\u001b[0mz\u001b[0m\u001b[0;34m)\u001b[0m\u001b[0;34m\u001b[0m\u001b[0;34m\u001b[0m\u001b[0m\n",
      "\u001b[0;32m/anaconda3/lib/python3.7/site-packages/matplotlib/contour.py\u001b[0m in \u001b[0;36m_contour_args\u001b[0;34m(self, args, kwargs)\u001b[0m\n\u001b[1;32m   1549\u001b[0m             \u001b[0margs\u001b[0m \u001b[0;34m=\u001b[0m \u001b[0margs\u001b[0m\u001b[0;34m[\u001b[0m\u001b[0;36m1\u001b[0m\u001b[0;34m:\u001b[0m\u001b[0;34m]\u001b[0m\u001b[0;34m\u001b[0m\u001b[0;34m\u001b[0m\u001b[0m\n\u001b[1;32m   1550\u001b[0m         \u001b[0;32melif\u001b[0m \u001b[0mNargs\u001b[0m \u001b[0;34m<=\u001b[0m \u001b[0;36m4\u001b[0m\u001b[0;34m:\u001b[0m\u001b[0;34m\u001b[0m\u001b[0;34m\u001b[0m\u001b[0m\n\u001b[0;32m-> 1551\u001b[0;31m             \u001b[0mx\u001b[0m\u001b[0;34m,\u001b[0m \u001b[0my\u001b[0m\u001b[0;34m,\u001b[0m \u001b[0mz\u001b[0m \u001b[0;34m=\u001b[0m \u001b[0mself\u001b[0m\u001b[0;34m.\u001b[0m\u001b[0m_check_xyz\u001b[0m\u001b[0;34m(\u001b[0m\u001b[0margs\u001b[0m\u001b[0;34m[\u001b[0m\u001b[0;34m:\u001b[0m\u001b[0;36m3\u001b[0m\u001b[0;34m]\u001b[0m\u001b[0;34m,\u001b[0m \u001b[0mkwargs\u001b[0m\u001b[0;34m)\u001b[0m\u001b[0;34m\u001b[0m\u001b[0;34m\u001b[0m\u001b[0m\n\u001b[0m\u001b[1;32m   1552\u001b[0m             \u001b[0margs\u001b[0m \u001b[0;34m=\u001b[0m \u001b[0margs\u001b[0m\u001b[0;34m[\u001b[0m\u001b[0;36m3\u001b[0m\u001b[0;34m:\u001b[0m\u001b[0;34m]\u001b[0m\u001b[0;34m\u001b[0m\u001b[0;34m\u001b[0m\u001b[0m\n\u001b[1;32m   1553\u001b[0m         \u001b[0;32melse\u001b[0m\u001b[0;34m:\u001b[0m\u001b[0;34m\u001b[0m\u001b[0;34m\u001b[0m\u001b[0m\n",
      "\u001b[0;32m/anaconda3/lib/python3.7/site-packages/matplotlib/contour.py\u001b[0m in \u001b[0;36m_check_xyz\u001b[0;34m(self, args, kwargs)\u001b[0m\n\u001b[1;32m   1580\u001b[0m         \u001b[0mx\u001b[0m \u001b[0;34m=\u001b[0m \u001b[0mnp\u001b[0m\u001b[0;34m.\u001b[0m\u001b[0masarray\u001b[0m\u001b[0;34m(\u001b[0m\u001b[0mx\u001b[0m\u001b[0;34m,\u001b[0m \u001b[0mdtype\u001b[0m\u001b[0;34m=\u001b[0m\u001b[0mnp\u001b[0m\u001b[0;34m.\u001b[0m\u001b[0mfloat64\u001b[0m\u001b[0;34m)\u001b[0m\u001b[0;34m\u001b[0m\u001b[0;34m\u001b[0m\u001b[0m\n\u001b[1;32m   1581\u001b[0m         \u001b[0my\u001b[0m \u001b[0;34m=\u001b[0m \u001b[0mnp\u001b[0m\u001b[0;34m.\u001b[0m\u001b[0masarray\u001b[0m\u001b[0;34m(\u001b[0m\u001b[0my\u001b[0m\u001b[0;34m,\u001b[0m \u001b[0mdtype\u001b[0m\u001b[0;34m=\u001b[0m\u001b[0mnp\u001b[0m\u001b[0;34m.\u001b[0m\u001b[0mfloat64\u001b[0m\u001b[0;34m)\u001b[0m\u001b[0;34m\u001b[0m\u001b[0;34m\u001b[0m\u001b[0m\n\u001b[0;32m-> 1582\u001b[0;31m         \u001b[0mz\u001b[0m \u001b[0;34m=\u001b[0m \u001b[0mma\u001b[0m\u001b[0;34m.\u001b[0m\u001b[0masarray\u001b[0m\u001b[0;34m(\u001b[0m\u001b[0margs\u001b[0m\u001b[0;34m[\u001b[0m\u001b[0;36m2\u001b[0m\u001b[0;34m]\u001b[0m\u001b[0;34m,\u001b[0m \u001b[0mdtype\u001b[0m\u001b[0;34m=\u001b[0m\u001b[0mnp\u001b[0m\u001b[0;34m.\u001b[0m\u001b[0mfloat64\u001b[0m\u001b[0;34m)\u001b[0m\u001b[0;34m\u001b[0m\u001b[0;34m\u001b[0m\u001b[0m\n\u001b[0m\u001b[1;32m   1583\u001b[0m \u001b[0;34m\u001b[0m\u001b[0m\n\u001b[1;32m   1584\u001b[0m         \u001b[0;32mif\u001b[0m \u001b[0mz\u001b[0m\u001b[0;34m.\u001b[0m\u001b[0mndim\u001b[0m \u001b[0;34m!=\u001b[0m \u001b[0;36m2\u001b[0m\u001b[0;34m:\u001b[0m\u001b[0;34m\u001b[0m\u001b[0;34m\u001b[0m\u001b[0m\n",
      "\u001b[0;32m/anaconda3/lib/python3.7/site-packages/numpy/ma/core.py\u001b[0m in \u001b[0;36masarray\u001b[0;34m(a, dtype, order)\u001b[0m\n\u001b[1;32m   7947\u001b[0m     \u001b[0morder\u001b[0m \u001b[0;34m=\u001b[0m \u001b[0morder\u001b[0m \u001b[0;32mor\u001b[0m \u001b[0;34m'C'\u001b[0m\u001b[0;34m\u001b[0m\u001b[0;34m\u001b[0m\u001b[0m\n\u001b[1;32m   7948\u001b[0m     return masked_array(a, dtype=dtype, copy=False, keep_mask=True,\n\u001b[0;32m-> 7949\u001b[0;31m                         subok=False, order=order)\n\u001b[0m\u001b[1;32m   7950\u001b[0m \u001b[0;34m\u001b[0m\u001b[0m\n\u001b[1;32m   7951\u001b[0m \u001b[0;34m\u001b[0m\u001b[0m\n",
      "\u001b[0;32m/anaconda3/lib/python3.7/site-packages/numpy/ma/core.py\u001b[0m in \u001b[0;36m__new__\u001b[0;34m(cls, data, mask, dtype, copy, subok, ndmin, fill_value, keep_mask, hard_mask, shrink, order, **options)\u001b[0m\n\u001b[1;32m   2830\u001b[0m         \u001b[0;31m# Process data.\u001b[0m\u001b[0;34m\u001b[0m\u001b[0;34m\u001b[0m\u001b[0;34m\u001b[0m\u001b[0m\n\u001b[1;32m   2831\u001b[0m         _data = np.array(data, dtype=dtype, copy=copy,\n\u001b[0;32m-> 2832\u001b[0;31m                          order=order, subok=True, ndmin=ndmin)\n\u001b[0m\u001b[1;32m   2833\u001b[0m         \u001b[0m_baseclass\u001b[0m \u001b[0;34m=\u001b[0m \u001b[0mgetattr\u001b[0m\u001b[0;34m(\u001b[0m\u001b[0mdata\u001b[0m\u001b[0;34m,\u001b[0m \u001b[0;34m'_baseclass'\u001b[0m\u001b[0;34m,\u001b[0m \u001b[0mtype\u001b[0m\u001b[0;34m(\u001b[0m\u001b[0m_data\u001b[0m\u001b[0;34m)\u001b[0m\u001b[0;34m)\u001b[0m\u001b[0;34m\u001b[0m\u001b[0;34m\u001b[0m\u001b[0m\n\u001b[1;32m   2834\u001b[0m         \u001b[0;31m# Check that we're not erasing the mask.\u001b[0m\u001b[0;34m\u001b[0m\u001b[0;34m\u001b[0m\u001b[0;34m\u001b[0m\u001b[0m\n",
      "\u001b[0;31mTypeError\u001b[0m: float() argument must be a string or a number, not 'function'"
     ]
    },
    {
     "data": {
      "image/png": "[encoded data removed]",
      "text/plain": [
       "<Figure size 864x576 with 1 Axes>"
      ]
     },
     "metadata": {
      "needs_background": "light"
     },
     "output_type": "display_data"
    }
   ],
   "source": [
    "from matplotlib.pyplot import * ; import cartopy.feature as cfeature\n",
    "\n",
    "plt.figure(figsize=(12, 8))\n",
    "ax = plt.axes(projection=ccrs.PlateCarree())\n",
    "ax.set_extent([-78, -65, 35.5, 44.5], ccrs.PlateCarree())\n",
    "\n",
    "gl = ax.gridlines(crs=ccrs.PlateCarree(), draw_labels=True,linewidth=1, color='grey', alpha=0.5, linestyle='--')\n",
    "gl.xlabels_top = False\n",
    "gl.ylabels_left = True\n",
    "gl.ylabels_right = False\n",
    "gl.xformatter = LONGITUDE_FORMATTER\n",
    "gl.yformatter = LATITUDE_FORMATTER\n",
    "\n",
    "cf = plt.contourf(xi,yi,newgridded,cmap = 'ocean_r')\n",
    "# plt.contour(xi, yi, zi, levels=5, linewidths=1,colors='white')\n",
    "\n",
    "plot(x_w,y_w,color='red', linewidth = 2, linestyle='-',zorder = 15)\n",
    "plot(x_v,y_v,color='red', linewidth = 2, linestyle='-',zorder = 15)\n",
    "plot(x_x,y_x,color='red', linewidth = 2, linestyle='-',zorder = 15)\n",
    "plot(x_y,y_y,color='red', linewidth = 2, linestyle='-',zorder = 15)\n",
    "plot(x_t,y_t,color='red', linewidth = 2, linestyle='-',zorder = 15)\n",
    "\n",
    "feature = cfeature.NaturalEarthFeature(name='coastline', category='physical',scale='50m',edgecolor='black', facecolor='dimgray')\n",
    "ax.add_feature(feature,zorder=10)\n",
    "cbar = plt.colorbar(cf, ax=ax)\n",
    "\n",
    "plt.show()"
   ]
  },
  {
   "cell_type": "code",
   "execution_count": 438,
   "metadata": {},
   "outputs": [
    {
     "ename": "TypeError",
     "evalue": "Length of x must be number of columns in z.",
     "output_type": "error",
     "traceback": [
      "\u001b[0;31m---------------------------------------------------------------------------\u001b[0m",
      "\u001b[0;31mTypeError\u001b[0m                                 Traceback (most recent call last)",
      "\u001b[0;32m<ipython-input-438-860c93f9a263>\u001b[0m in \u001b[0;36m<module>\u001b[0;34m\u001b[0m\n\u001b[1;32m     13\u001b[0m \u001b[0;34m\u001b[0m\u001b[0m\n\u001b[1;32m     14\u001b[0m \u001b[0;31m# cf = plt.contourf(xi,yi,newgriddednew,cmap = 'ocean_r')\u001b[0m\u001b[0;34m\u001b[0m\u001b[0;34m\u001b[0m\u001b[0;34m\u001b[0m\u001b[0m\n\u001b[0;32m---> 15\u001b[0;31m \u001b[0mplt\u001b[0m\u001b[0;34m.\u001b[0m\u001b[0mcontour\u001b[0m\u001b[0;34m(\u001b[0m\u001b[0mxi\u001b[0m\u001b[0;34m,\u001b[0m \u001b[0myi\u001b[0m\u001b[0;34m,\u001b[0m \u001b[0mnewgriddedlast\u001b[0m\u001b[0;34m,\u001b[0m \u001b[0mlevels\u001b[0m\u001b[0;34m=\u001b[0m\u001b[0;36m5\u001b[0m\u001b[0;34m,\u001b[0m \u001b[0mlinewidths\u001b[0m\u001b[0;34m=\u001b[0m\u001b[0;36m1\u001b[0m\u001b[0;34m,\u001b[0m\u001b[0mcolors\u001b[0m\u001b[0;34m=\u001b[0m\u001b[0;34m'white'\u001b[0m\u001b[0;34m)\u001b[0m\u001b[0;34m\u001b[0m\u001b[0;34m\u001b[0m\u001b[0m\n\u001b[0m\u001b[1;32m     16\u001b[0m \u001b[0mcf\u001b[0m \u001b[0;34m=\u001b[0m \u001b[0mplt\u001b[0m\u001b[0;34m.\u001b[0m\u001b[0mcontourf\u001b[0m\u001b[0;34m(\u001b[0m\u001b[0mxi\u001b[0m\u001b[0;34m,\u001b[0m\u001b[0myi\u001b[0m\u001b[0;34m,\u001b[0m\u001b[0mnewgriddedlast\u001b[0m\u001b[0;34m,\u001b[0m\u001b[0mcmap\u001b[0m \u001b[0;34m=\u001b[0m \u001b[0;34m'ocean_r'\u001b[0m\u001b[0;34m)\u001b[0m\u001b[0;34m\u001b[0m\u001b[0;34m\u001b[0m\u001b[0m\n\u001b[1;32m     17\u001b[0m \u001b[0;34m\u001b[0m\u001b[0m\n",
      "\u001b[0;32m/anaconda3/lib/python3.7/site-packages/matplotlib/pyplot.py\u001b[0m in \u001b[0;36mcontour\u001b[0;34m(data, *args, **kwargs)\u001b[0m\n\u001b[1;32m   2537\u001b[0m     __ret = gca().contour(\n\u001b[1;32m   2538\u001b[0m         \u001b[0;34m*\u001b[0m\u001b[0margs\u001b[0m\u001b[0;34m,\u001b[0m \u001b[0;34m**\u001b[0m\u001b[0;34m(\u001b[0m\u001b[0;34m{\u001b[0m\u001b[0;34m\"data\"\u001b[0m\u001b[0;34m:\u001b[0m \u001b[0mdata\u001b[0m\u001b[0;34m}\u001b[0m \u001b[0;32mif\u001b[0m \u001b[0mdata\u001b[0m \u001b[0;32mis\u001b[0m \u001b[0;32mnot\u001b[0m \u001b[0;32mNone\u001b[0m \u001b[0;32melse\u001b[0m \u001b[0;34m{\u001b[0m\u001b[0;34m}\u001b[0m\u001b[0;34m)\u001b[0m\u001b[0;34m,\u001b[0m\u001b[0;34m\u001b[0m\u001b[0;34m\u001b[0m\u001b[0m\n\u001b[0;32m-> 2539\u001b[0;31m         **kwargs)\n\u001b[0m\u001b[1;32m   2540\u001b[0m     \u001b[0;32mif\u001b[0m \u001b[0m__ret\u001b[0m\u001b[0;34m.\u001b[0m\u001b[0m_A\u001b[0m \u001b[0;32mis\u001b[0m \u001b[0;32mnot\u001b[0m \u001b[0;32mNone\u001b[0m\u001b[0;34m:\u001b[0m \u001b[0msci\u001b[0m\u001b[0;34m(\u001b[0m\u001b[0m__ret\u001b[0m\u001b[0;34m)\u001b[0m  \u001b[0;31m# noqa\u001b[0m\u001b[0;34m\u001b[0m\u001b[0;34m\u001b[0m\u001b[0m\n\u001b[1;32m   2541\u001b[0m     \u001b[0;32mreturn\u001b[0m \u001b[0m__ret\u001b[0m\u001b[0;34m\u001b[0m\u001b[0;34m\u001b[0m\u001b[0m\n",
      "\u001b[0;32m/anaconda3/lib/python3.7/site-packages/cartopy/mpl/geoaxes.py\u001b[0m in \u001b[0;36mcontour\u001b[0;34m(self, *args, **kwargs)\u001b[0m\n\u001b[1;32m   1364\u001b[0m         \u001b[0;32melse\u001b[0m\u001b[0;34m:\u001b[0m\u001b[0;34m\u001b[0m\u001b[0;34m\u001b[0m\u001b[0m\n\u001b[1;32m   1365\u001b[0m             \u001b[0mkwargs\u001b[0m\u001b[0;34m[\u001b[0m\u001b[0;34m'transform'\u001b[0m\u001b[0;34m]\u001b[0m \u001b[0;34m=\u001b[0m \u001b[0mt\u001b[0m\u001b[0;34m\u001b[0m\u001b[0;34m\u001b[0m\u001b[0m\n\u001b[0;32m-> 1366\u001b[0;31m         \u001b[0mresult\u001b[0m \u001b[0;34m=\u001b[0m \u001b[0mmatplotlib\u001b[0m\u001b[0;34m.\u001b[0m\u001b[0maxes\u001b[0m\u001b[0;34m.\u001b[0m\u001b[0mAxes\u001b[0m\u001b[0;34m.\u001b[0m\u001b[0mcontour\u001b[0m\u001b[0;34m(\u001b[0m\u001b[0mself\u001b[0m\u001b[0;34m,\u001b[0m \u001b[0;34m*\u001b[0m\u001b[0margs\u001b[0m\u001b[0;34m,\u001b[0m \u001b[0;34m**\u001b[0m\u001b[0mkwargs\u001b[0m\u001b[0;34m)\u001b[0m\u001b[0;34m\u001b[0m\u001b[0;34m\u001b[0m\u001b[0m\n\u001b[0m\u001b[1;32m   1367\u001b[0m \u001b[0;34m\u001b[0m\u001b[0m\n\u001b[1;32m   1368\u001b[0m         \u001b[0mself\u001b[0m\u001b[0;34m.\u001b[0m\u001b[0mautoscale_view\u001b[0m\u001b[0;34m(\u001b[0m\u001b[0;34m)\u001b[0m\u001b[0;34m\u001b[0m\u001b[0;34m\u001b[0m\u001b[0m\n",
      "\u001b[0;32m/anaconda3/lib/python3.7/site-packages/matplotlib/__init__.py\u001b[0m in \u001b[0;36minner\u001b[0;34m(ax, data, *args, **kwargs)\u001b[0m\n\u001b[1;32m   1808\u001b[0m                         \u001b[0;34m\"the Matplotlib list!)\"\u001b[0m \u001b[0;34m%\u001b[0m \u001b[0;34m(\u001b[0m\u001b[0mlabel_namer\u001b[0m\u001b[0;34m,\u001b[0m \u001b[0mfunc\u001b[0m\u001b[0;34m.\u001b[0m\u001b[0m__name__\u001b[0m\u001b[0;34m)\u001b[0m\u001b[0;34m,\u001b[0m\u001b[0;34m\u001b[0m\u001b[0;34m\u001b[0m\u001b[0m\n\u001b[1;32m   1809\u001b[0m                         RuntimeWarning, stacklevel=2)\n\u001b[0;32m-> 1810\u001b[0;31m             \u001b[0;32mreturn\u001b[0m \u001b[0mfunc\u001b[0m\u001b[0;34m(\u001b[0m\u001b[0max\u001b[0m\u001b[0;34m,\u001b[0m \u001b[0;34m*\u001b[0m\u001b[0margs\u001b[0m\u001b[0;34m,\u001b[0m \u001b[0;34m**\u001b[0m\u001b[0mkwargs\u001b[0m\u001b[0;34m)\u001b[0m\u001b[0;34m\u001b[0m\u001b[0;34m\u001b[0m\u001b[0m\n\u001b[0m\u001b[1;32m   1811\u001b[0m \u001b[0;34m\u001b[0m\u001b[0m\n\u001b[1;32m   1812\u001b[0m         inner.__doc__ = _add_data_doc(inner.__doc__,\n",
      "\u001b[0;32m/anaconda3/lib/python3.7/site-packages/matplotlib/axes/_axes.py\u001b[0m in \u001b[0;36mcontour\u001b[0;34m(self, *args, **kwargs)\u001b[0m\n\u001b[1;32m   6229\u001b[0m     \u001b[0;32mdef\u001b[0m \u001b[0mcontour\u001b[0m\u001b[0;34m(\u001b[0m\u001b[0mself\u001b[0m\u001b[0;34m,\u001b[0m \u001b[0;34m*\u001b[0m\u001b[0margs\u001b[0m\u001b[0;34m,\u001b[0m \u001b[0;34m**\u001b[0m\u001b[0mkwargs\u001b[0m\u001b[0;34m)\u001b[0m\u001b[0;34m:\u001b[0m\u001b[0;34m\u001b[0m\u001b[0;34m\u001b[0m\u001b[0m\n\u001b[1;32m   6230\u001b[0m         \u001b[0mkwargs\u001b[0m\u001b[0;34m[\u001b[0m\u001b[0;34m'filled'\u001b[0m\u001b[0;34m]\u001b[0m \u001b[0;34m=\u001b[0m \u001b[0;32mFalse\u001b[0m\u001b[0;34m\u001b[0m\u001b[0;34m\u001b[0m\u001b[0m\n\u001b[0;32m-> 6231\u001b[0;31m         \u001b[0mcontours\u001b[0m \u001b[0;34m=\u001b[0m \u001b[0mmcontour\u001b[0m\u001b[0;34m.\u001b[0m\u001b[0mQuadContourSet\u001b[0m\u001b[0;34m(\u001b[0m\u001b[0mself\u001b[0m\u001b[0;34m,\u001b[0m \u001b[0;34m*\u001b[0m\u001b[0margs\u001b[0m\u001b[0;34m,\u001b[0m \u001b[0;34m**\u001b[0m\u001b[0mkwargs\u001b[0m\u001b[0;34m)\u001b[0m\u001b[0;34m\u001b[0m\u001b[0;34m\u001b[0m\u001b[0m\n\u001b[0m\u001b[1;32m   6232\u001b[0m         \u001b[0mself\u001b[0m\u001b[0;34m.\u001b[0m\u001b[0mautoscale_view\u001b[0m\u001b[0;34m(\u001b[0m\u001b[0;34m)\u001b[0m\u001b[0;34m\u001b[0m\u001b[0;34m\u001b[0m\u001b[0m\n\u001b[1;32m   6233\u001b[0m         \u001b[0;32mreturn\u001b[0m \u001b[0mcontours\u001b[0m\u001b[0;34m\u001b[0m\u001b[0;34m\u001b[0m\u001b[0m\n",
      "\u001b[0;32m/anaconda3/lib/python3.7/site-packages/matplotlib/contour.py\u001b[0m in \u001b[0;36m__init__\u001b[0;34m(self, ax, levels, filled, linewidths, linestyles, alpha, origin, extent, cmap, colors, norm, vmin, vmax, extend, antialiased, *args, **kwargs)\u001b[0m\n\u001b[1;32m    885\u001b[0m         \u001b[0mself\u001b[0m\u001b[0;34m.\u001b[0m\u001b[0m_transform\u001b[0m \u001b[0;34m=\u001b[0m \u001b[0mkwargs\u001b[0m\u001b[0;34m.\u001b[0m\u001b[0mpop\u001b[0m\u001b[0;34m(\u001b[0m\u001b[0;34m'transform'\u001b[0m\u001b[0;34m,\u001b[0m \u001b[0;32mNone\u001b[0m\u001b[0;34m)\u001b[0m\u001b[0;34m\u001b[0m\u001b[0;34m\u001b[0m\u001b[0m\n\u001b[1;32m    886\u001b[0m \u001b[0;34m\u001b[0m\u001b[0m\n\u001b[0;32m--> 887\u001b[0;31m         \u001b[0mkwargs\u001b[0m \u001b[0;34m=\u001b[0m \u001b[0mself\u001b[0m\u001b[0;34m.\u001b[0m\u001b[0m_process_args\u001b[0m\u001b[0;34m(\u001b[0m\u001b[0;34m*\u001b[0m\u001b[0margs\u001b[0m\u001b[0;34m,\u001b[0m \u001b[0;34m**\u001b[0m\u001b[0mkwargs\u001b[0m\u001b[0;34m)\u001b[0m\u001b[0;34m\u001b[0m\u001b[0;34m\u001b[0m\u001b[0m\n\u001b[0m\u001b[1;32m    888\u001b[0m         \u001b[0mself\u001b[0m\u001b[0;34m.\u001b[0m\u001b[0m_process_levels\u001b[0m\u001b[0;34m(\u001b[0m\u001b[0;34m)\u001b[0m\u001b[0;34m\u001b[0m\u001b[0;34m\u001b[0m\u001b[0m\n\u001b[1;32m    889\u001b[0m \u001b[0;34m\u001b[0m\u001b[0m\n",
      "\u001b[0;32m/anaconda3/lib/python3.7/site-packages/matplotlib/contour.py\u001b[0m in \u001b[0;36m_process_args\u001b[0;34m(self, *args, **kwargs)\u001b[0m\n\u001b[1;32m   1491\u001b[0m                 \u001b[0mself\u001b[0m\u001b[0;34m.\u001b[0m\u001b[0m_corner_mask\u001b[0m \u001b[0;34m=\u001b[0m \u001b[0mmpl\u001b[0m\u001b[0;34m.\u001b[0m\u001b[0mrcParams\u001b[0m\u001b[0;34m[\u001b[0m\u001b[0;34m'contour.corner_mask'\u001b[0m\u001b[0;34m]\u001b[0m\u001b[0;34m\u001b[0m\u001b[0;34m\u001b[0m\u001b[0m\n\u001b[1;32m   1492\u001b[0m \u001b[0;34m\u001b[0m\u001b[0m\n\u001b[0;32m-> 1493\u001b[0;31m             \u001b[0mx\u001b[0m\u001b[0;34m,\u001b[0m \u001b[0my\u001b[0m\u001b[0;34m,\u001b[0m \u001b[0mz\u001b[0m \u001b[0;34m=\u001b[0m \u001b[0mself\u001b[0m\u001b[0;34m.\u001b[0m\u001b[0m_contour_args\u001b[0m\u001b[0;34m(\u001b[0m\u001b[0margs\u001b[0m\u001b[0;34m,\u001b[0m \u001b[0mkwargs\u001b[0m\u001b[0;34m)\u001b[0m\u001b[0;34m\u001b[0m\u001b[0;34m\u001b[0m\u001b[0m\n\u001b[0m\u001b[1;32m   1494\u001b[0m \u001b[0;34m\u001b[0m\u001b[0m\n\u001b[1;32m   1495\u001b[0m             \u001b[0m_mask\u001b[0m \u001b[0;34m=\u001b[0m \u001b[0mma\u001b[0m\u001b[0;34m.\u001b[0m\u001b[0mgetmask\u001b[0m\u001b[0;34m(\u001b[0m\u001b[0mz\u001b[0m\u001b[0;34m)\u001b[0m\u001b[0;34m\u001b[0m\u001b[0;34m\u001b[0m\u001b[0m\n",
      "\u001b[0;32m/anaconda3/lib/python3.7/site-packages/matplotlib/contour.py\u001b[0m in \u001b[0;36m_contour_args\u001b[0;34m(self, args, kwargs)\u001b[0m\n\u001b[1;32m   1549\u001b[0m             \u001b[0margs\u001b[0m \u001b[0;34m=\u001b[0m \u001b[0margs\u001b[0m\u001b[0;34m[\u001b[0m\u001b[0;36m1\u001b[0m\u001b[0;34m:\u001b[0m\u001b[0;34m]\u001b[0m\u001b[0;34m\u001b[0m\u001b[0;34m\u001b[0m\u001b[0m\n\u001b[1;32m   1550\u001b[0m         \u001b[0;32melif\u001b[0m \u001b[0mNargs\u001b[0m \u001b[0;34m<=\u001b[0m \u001b[0;36m4\u001b[0m\u001b[0;34m:\u001b[0m\u001b[0;34m\u001b[0m\u001b[0;34m\u001b[0m\u001b[0m\n\u001b[0;32m-> 1551\u001b[0;31m             \u001b[0mx\u001b[0m\u001b[0;34m,\u001b[0m \u001b[0my\u001b[0m\u001b[0;34m,\u001b[0m \u001b[0mz\u001b[0m \u001b[0;34m=\u001b[0m \u001b[0mself\u001b[0m\u001b[0;34m.\u001b[0m\u001b[0m_check_xyz\u001b[0m\u001b[0;34m(\u001b[0m\u001b[0margs\u001b[0m\u001b[0;34m[\u001b[0m\u001b[0;34m:\u001b[0m\u001b[0;36m3\u001b[0m\u001b[0;34m]\u001b[0m\u001b[0;34m,\u001b[0m \u001b[0mkwargs\u001b[0m\u001b[0;34m)\u001b[0m\u001b[0;34m\u001b[0m\u001b[0;34m\u001b[0m\u001b[0m\n\u001b[0m\u001b[1;32m   1552\u001b[0m             \u001b[0margs\u001b[0m \u001b[0;34m=\u001b[0m \u001b[0margs\u001b[0m\u001b[0;34m[\u001b[0m\u001b[0;36m3\u001b[0m\u001b[0;34m:\u001b[0m\u001b[0;34m]\u001b[0m\u001b[0;34m\u001b[0m\u001b[0;34m\u001b[0m\u001b[0m\n\u001b[1;32m   1553\u001b[0m         \u001b[0;32melse\u001b[0m\u001b[0;34m:\u001b[0m\u001b[0;34m\u001b[0m\u001b[0;34m\u001b[0m\u001b[0m\n",
      "\u001b[0;32m/anaconda3/lib/python3.7/site-packages/matplotlib/contour.py\u001b[0m in \u001b[0;36m_check_xyz\u001b[0;34m(self, args, kwargs)\u001b[0m\n\u001b[1;32m   1598\u001b[0m \u001b[0;34m\u001b[0m\u001b[0m\n\u001b[1;32m   1599\u001b[0m             \u001b[0;32mif\u001b[0m \u001b[0mnx\u001b[0m \u001b[0;34m!=\u001b[0m \u001b[0mNx\u001b[0m\u001b[0;34m:\u001b[0m\u001b[0;34m\u001b[0m\u001b[0;34m\u001b[0m\u001b[0m\n\u001b[0;32m-> 1600\u001b[0;31m                 \u001b[0;32mraise\u001b[0m \u001b[0mTypeError\u001b[0m\u001b[0;34m(\u001b[0m\u001b[0;34m\"Length of x must be number of columns in z.\"\u001b[0m\u001b[0;34m)\u001b[0m\u001b[0;34m\u001b[0m\u001b[0;34m\u001b[0m\u001b[0m\n\u001b[0m\u001b[1;32m   1601\u001b[0m \u001b[0;34m\u001b[0m\u001b[0m\n\u001b[1;32m   1602\u001b[0m             \u001b[0;32mif\u001b[0m \u001b[0mny\u001b[0m \u001b[0;34m!=\u001b[0m \u001b[0mNy\u001b[0m\u001b[0;34m:\u001b[0m\u001b[0;34m\u001b[0m\u001b[0;34m\u001b[0m\u001b[0m\n",
      "\u001b[0;31mTypeError\u001b[0m: Length of x must be number of columns in z."
     ]
    },
    {
     "data": {
      "image/png": "[encoded data removed]",
      "text/plain": [
       "<Figure size 864x576 with 1 Axes>"
      ]
     },
     "metadata": {
      "needs_background": "light"
     },
     "output_type": "display_data"
    }
   ],
   "source": [
    "from matplotlib.pyplot import * ; import cartopy.feature as cfeature\n",
    "\n",
    "plt.figure(figsize=(12, 8))\n",
    "ax = plt.axes(projection=ccrs.PlateCarree())\n",
    "ax.set_extent([-78, -65, 35.5, 44.5], ccrs.PlateCarree())\n",
    "\n",
    "gl = ax.gridlines(crs=ccrs.PlateCarree(), draw_labels=True,linewidth=1, color='grey', alpha=0.5, linestyle='--')\n",
    "gl.xlabels_top = False\n",
    "gl.ylabels_left = True\n",
    "gl.ylabels_right = False\n",
    "gl.xformatter = LONGITUDE_FORMATTER\n",
    "gl.yformatter = LATITUDE_FORMATTER\n",
    "\n",
    "# cf = plt.contourf(xi,yi,newgriddednew,cmap = 'ocean_r')\n",
    "plt.contour(xi, yi, newgriddedlast, levels=5, linewidths=1,colors='white')\n",
    "cf = plt.contourf(xi,yi,newgriddedlast,cmap = 'ocean_r')\n",
    "\n",
    "# plot(x_w,y_w,color='red', linewidth = 2, linestyle='-',zorder = 15)\n",
    "# plot(x_v,y_v,color='red', linewidth = 2, linestyle='-',zorder = 15)\n",
    "# plot(x_x,y_x,color='red', linewidth = 2, linestyle='-',zorder = 15)\n",
    "# plot(x_y,y_y,color='red', linewidth = 2, linestyle='-',zorder = 15)\n",
    "# plot(x_t,y_t,color='red', linewidth = 2, linestyle='-',zorder = 15)\n",
    "\n",
    "feature = cfeature.NaturalEarthFeature(name='coastline', category='physical',scale='50m',edgecolor='black', facecolor='dimgray')\n",
    "ax.add_feature(feature,zorder=10)\n",
    "cbar = plt.colorbar(cf, ax=ax)\n",
    "\n",
    "plt.show()"
   ]
  },
  {
   "cell_type": "code",
   "execution_count": null,
   "metadata": {},
   "outputs": [],
   "source": []
  },
  {
   "cell_type": "code",
   "execution_count": null,
   "metadata": {},
   "outputs": [],
   "source": []
  },
  {
   "cell_type": "code",
   "execution_count": null,
   "metadata": {},
   "outputs": [],
   "source": []
  },
  {
   "cell_type": "code",
   "execution_count": null,
   "metadata": {},
   "outputs": [],
   "source": []
  },
  {
   "cell_type": "code",
   "execution_count": null,
   "metadata": {},
   "outputs": [],
   "source": [
    "    inlat = []; inlon = []\n",
    "    for timer in counterii:\n",
    "        inlat.append(newdf['lat'][timer])\n",
    "        inlon.append(newdf['lon'][timer])\n",
    "\n",
    "    finaldepth.append(seasonyeardepth)\n",
    "    finallat.append(inlat)\n",
    "    finallon.append(inlon)\n",
    "    \n",
    "    flat_depth = [item for sublist in finaldepth for item in sublist]\n",
    "    flat_lat = [item for sublist in finallat for item in sublist]\n",
    "    flat_lon = [item for sublist in finallon for item in sublist]\n",
    "    \n",
    "    \n",
    "    flat_lon[:] = [x *-1*-1 for x in flat_lon]\n",
    "    # flat_lon[:] = [x *-1 for x in flat_lon]\n",
    "    \n",
    "    name = 'dfplottablefull_{}'.format(year)\n",
    "    \n",
    "    name = pd.DataFrame(list(zip(flat_depth,flat_lon,flat_lat)),columns = ['depth','lon','lat'])\n",
    "\n",
    "    x = 'x_{}'.format(year)\n",
    "    x = name['lon']\n",
    "    y = 'y_{}'.format(year)\n",
    "    y = name['lat']\n",
    "    z = 'z_{}'.format(year)\n",
    "    z = name['depth']\n",
    "    \n",
    "    xi = np.arange(-76,-65,0.25)\n",
    "    yi = np.arange(35,46,0.25)\n",
    "    xi,yi = np.meshgrid(xi,yi)\n",
    "    \n",
    "    \n",
    "    zi = 'zi_{}'.format(year)\n",
    "    zi = griddata((x,y),z,(xi,yi),method='linear')\n",
    "    \n",
    "    zi_listofarrays.append(zi)"
   ]
  },
  {
   "cell_type": "code",
   "execution_count": 97,
   "metadata": {},
   "outputs": [
    {
     "name": "stdout",
     "output_type": "stream",
     "text": [
      "[[nan nan nan ... nan nan nan]\n",
      " [nan nan nan ... nan nan nan]\n",
      " [nan nan nan ... nan nan nan]\n",
      " ...\n",
      " [nan nan nan ... nan nan nan]\n",
      " [nan nan nan ... nan nan nan]\n",
      " [nan nan nan ... nan nan nan]]\n"
     ]
    }
   ],
   "source": [
    "print(zi)"
   ]
  },
  {
   "cell_type": "code",
   "execution_count": 98,
   "metadata": {},
   "outputs": [
    {
     "name": "stdout",
     "output_type": "stream",
     "text": [
      "1\n"
     ]
    }
   ],
   "source": [
    "print(len(zi_listofarrays))"
   ]
  },
  {
   "cell_type": "code",
   "execution_count": 130,
   "metadata": {},
   "outputs": [],
   "source": [
    "flattenedzi = zi.flatten()"
   ]
  },
  {
   "cell_type": "code",
   "execution_count": 135,
   "metadata": {},
   "outputs": [
    {
     "name": "stdout",
     "output_type": "stream",
     "text": [
      "nan\n"
     ]
    }
   ],
   "source": [
    "print(flattenedzi[0])"
   ]
  },
  {
   "cell_type": "code",
   "execution_count": 99,
   "metadata": {},
   "outputs": [
    {
     "name": "stdout",
     "output_type": "stream",
     "text": [
      "(44, 44)\n",
      "(44, 44)\n"
     ]
    }
   ],
   "source": [
    "print(zi_listofarrays[0].shape)\n",
    "print(zi.shape)"
   ]
  },
  {
   "cell_type": "code",
   "execution_count": 100,
   "metadata": {},
   "outputs": [],
   "source": [
    "stacked = np.dstack([xi,yi])"
   ]
  },
  {
   "cell_type": "code",
   "execution_count": 101,
   "metadata": {},
   "outputs": [],
   "source": [
    "reshaped = stacked.reshape(1936,2)"
   ]
  },
  {
   "cell_type": "code",
   "execution_count": 102,
   "metadata": {},
   "outputs": [
    {
     "name": "stdout",
     "output_type": "stream",
     "text": [
      "[[-76.    35.  ]\n",
      " [-75.75  35.  ]\n",
      " [-75.5   35.  ]\n",
      " ...\n",
      " [-65.75  45.75]\n",
      " [-65.5   45.75]\n",
      " [-65.25  45.75]]\n"
     ]
    }
   ],
   "source": [
    "print(reshaped)"
   ]
  },
  {
   "cell_type": "code",
   "execution_count": 136,
   "metadata": {},
   "outputs": [],
   "source": [
    "output = []\n",
    "for i in reshaped:\n",
    "    point = Point(i)\n",
    "    if polygon_w.contains(point) == True:\n",
    "        output.append(point)\n",
    "        print(i)\n",
    "#     if Point(i).within(polygon_w or polygon_y or polygon_t or polygon_x):\n",
    "#         output.append(i)\n",
    "\n",
    "# output = np.array(output)\n",
    "# x, y = output[:, 0], output[:, 1]"
   ]
  },
  {
   "cell_type": "code",
   "execution_count": 1747,
   "metadata": {},
   "outputs": [
    {
     "ename": "ValueError",
     "evalue": "No points given",
     "output_type": "error",
     "traceback": [
      "\u001b[0;31m---------------------------------------------------------------------------\u001b[0m",
      "\u001b[0;31mValueError\u001b[0m                                Traceback (most recent call last)",
      "\u001b[0;32m<ipython-input-1747-11e0929ba8cb>\u001b[0m in \u001b[0;36m<module>\u001b[0;34m\u001b[0m\n\u001b[1;32m    118\u001b[0m \u001b[0;34m\u001b[0m\u001b[0m\n\u001b[1;32m    119\u001b[0m     \u001b[0mci\u001b[0m \u001b[0;34m=\u001b[0m \u001b[0;34m'ci_{}'\u001b[0m\u001b[0;34m.\u001b[0m\u001b[0mformat\u001b[0m\u001b[0;34m(\u001b[0m\u001b[0myear\u001b[0m\u001b[0;34m)\u001b[0m\u001b[0;34m\u001b[0m\u001b[0;34m\u001b[0m\u001b[0m\n\u001b[0;32m--> 120\u001b[0;31m     \u001b[0mci\u001b[0m \u001b[0;34m=\u001b[0m \u001b[0mgriddata\u001b[0m\u001b[0;34m(\u001b[0m\u001b[0;34m(\u001b[0m\u001b[0mx\u001b[0m\u001b[0;34m,\u001b[0m\u001b[0my\u001b[0m\u001b[0;34m)\u001b[0m\u001b[0;34m,\u001b[0m\u001b[0mc\u001b[0m\u001b[0;34m,\u001b[0m\u001b[0;34m(\u001b[0m\u001b[0mxi\u001b[0m\u001b[0;34m,\u001b[0m\u001b[0myi\u001b[0m\u001b[0;34m)\u001b[0m\u001b[0;34m,\u001b[0m\u001b[0mmethod\u001b[0m\u001b[0;34m=\u001b[0m\u001b[0;34m'linear'\u001b[0m\u001b[0;34m)\u001b[0m\u001b[0;34m\u001b[0m\u001b[0;34m\u001b[0m\u001b[0m\n\u001b[0m\u001b[1;32m    121\u001b[0m     \u001b[0mci\u001b[0m \u001b[0;34m=\u001b[0m \u001b[0mci\u001b[0m\u001b[0;34m.\u001b[0m\u001b[0mreshape\u001b[0m\u001b[0;34m(\u001b[0m\u001b[0;34m(\u001b[0m\u001b[0;36m22\u001b[0m\u001b[0;34m,\u001b[0m\u001b[0;36m22\u001b[0m\u001b[0;34m)\u001b[0m\u001b[0;34m)\u001b[0m \u001b[0;31m##\u001b[0m\u001b[0;34m\u001b[0m\u001b[0;34m\u001b[0m\u001b[0m\n\u001b[1;32m    122\u001b[0m \u001b[0;34m\u001b[0m\u001b[0m\n",
      "\u001b[0;32m/anaconda3/lib/python3.7/site-packages/scipy/interpolate/ndgriddata.py\u001b[0m in \u001b[0;36mgriddata\u001b[0;34m(points, values, xi, method, fill_value, rescale)\u001b[0m\n\u001b[1;32m    220\u001b[0m     \u001b[0;32melif\u001b[0m \u001b[0mmethod\u001b[0m \u001b[0;34m==\u001b[0m \u001b[0;34m'linear'\u001b[0m\u001b[0;34m:\u001b[0m\u001b[0;34m\u001b[0m\u001b[0;34m\u001b[0m\u001b[0m\n\u001b[1;32m    221\u001b[0m         ip = LinearNDInterpolator(points, values, fill_value=fill_value,\n\u001b[0;32m--> 222\u001b[0;31m                                   rescale=rescale)\n\u001b[0m\u001b[1;32m    223\u001b[0m         \u001b[0;32mreturn\u001b[0m \u001b[0mip\u001b[0m\u001b[0;34m(\u001b[0m\u001b[0mxi\u001b[0m\u001b[0;34m)\u001b[0m\u001b[0;34m\u001b[0m\u001b[0;34m\u001b[0m\u001b[0m\n\u001b[1;32m    224\u001b[0m     \u001b[0;32melif\u001b[0m \u001b[0mmethod\u001b[0m \u001b[0;34m==\u001b[0m \u001b[0;34m'cubic'\u001b[0m \u001b[0;32mand\u001b[0m \u001b[0mndim\u001b[0m \u001b[0;34m==\u001b[0m \u001b[0;36m2\u001b[0m\u001b[0;34m:\u001b[0m\u001b[0;34m\u001b[0m\u001b[0;34m\u001b[0m\u001b[0m\n",
      "\u001b[0;32minterpnd.pyx\u001b[0m in \u001b[0;36mscipy.interpolate.interpnd.LinearNDInterpolator.__init__\u001b[0;34m()\u001b[0m\n",
      "\u001b[0;32mqhull.pyx\u001b[0m in \u001b[0;36mscipy.spatial.qhull.Delaunay.__init__\u001b[0;34m()\u001b[0m\n",
      "\u001b[0;32mqhull.pyx\u001b[0m in \u001b[0;36mscipy.spatial.qhull._Qhull.__init__\u001b[0;34m()\u001b[0m\n",
      "\u001b[0;31mValueError\u001b[0m: No points given"
     ]
    }
   ],
   "source": [
    "finalfinal = []; finaldepth = []; finallat = [];finallon = []\n",
    "zi_listofarrays = []; ci_listofarrays = []\n",
    "for year in range(2019,2020):\n",
    "    filename = 'casts_{}.mat'.format(year)\n",
    "    file = scipy.io.loadmat(filename,squeeze_me=True)\n",
    "    npfile = file['casts_{}'.format(year)] \n",
    "    lat_intermediate = []; lon_intermediate = []; p_intermediate = []; t_intermediate = []; yd_intermediate = []\n",
    "    seasonyeardepth = []; seasonyeartemp = []; counterii = []   \n",
    "    for i in range(len(npfile)):\n",
    "        yd = npfile[i]['yd']\n",
    "        p = npfile[i]['p']\n",
    "        s = npfile[i]['s']\n",
    "        t = npfile[i]['t']\n",
    "        lon = npfile[i]['lon']\n",
    "        lat = npfile[i]['lat']\n",
    "        floordepth = npfile[i]['depth']\n",
    "        if yd > 334 and yd <= 365 or yd >= 0 and yd <= 59:\n",
    "#         if yd > 243 and yd <= 334:\n",
    "            lat_intermediate.append(npfile[i]['lat'])\n",
    "            lon_intermediate.append(npfile[i]['lon'])\n",
    "            p_intermediate.append(npfile[i]['p'])\n",
    "            t_intermediate.append(npfile[i]['t'])\n",
    "            yd_intermediate.append(npfile[i]['yd'])   \n",
    "    month_df = pd.DataFrame({'day': yd_intermediate,'lon': lon_intermediate,'lat': lat_intermediate, 'p': p_intermediate, 't': t_intermediate})\n",
    "    newdf = pd.DataFrame({'lon': lon_intermediate,'lat': lat_intermediate})    \n",
    "    for ii in range(len(month_df)):\n",
    "        new = newdf.iloc[ii].values\n",
    "        point = Point(new)\n",
    "        if isinstance(month_df['p'].iloc[ii], int) or isinstance(month_df['p'].iloc[ii], float) or isinstance(month_df['t'].iloc[ii], int) or isinstance(month_df['t'].iloc[ii], float):\n",
    "            pass\n",
    "        elif polygon_x.contains(point) == True or polygon_y.contains(point) == True or polygon_t.contains(point) == True or polygon_w.contains(point) == True or polygon_v.contains(point) == True:\n",
    "            pt_df = pd.DataFrame({'p': month_df['p'].iloc[ii],'t': month_df['t'].iloc[ii]}) \n",
    "            df_ptsnew = pt_df.dropna()\n",
    "            df_final = pd.DataFrame(df_ptsnew.values)\n",
    "            l=[i for i in df_final[0] if i<=6]\n",
    "            if len(l) > 0:\n",
    "                surfaceval = []\n",
    "                numrange = []\n",
    "                for iii in range(len(l)):\n",
    "                    val = df_final[1][iii]\n",
    "                    numrange.append(iii)\n",
    "                    surfaceval.append(val)\n",
    "            surfacevalmean = statistics.mean(surfaceval)\n",
    "            tempfin = []\n",
    "            pressurefin = []\n",
    "            for iii in range(numrange[-1],len(df_final)):\n",
    "                tempfin.append(df_final[1][iii])\n",
    "                pressurefin.append(df_final[0][iii])\n",
    "            d = {'temp': list(reversed(tempfin)), 'pressure': list(reversed(pressurefin))}\n",
    "            dffin = pd.DataFrame(d)\n",
    "            for ix in range(len(dffin)):\n",
    "                b = dffin.at[ix,'temp']\n",
    "                if b <= (surfacevalmean + 0.2) and b >= (surfacevalmean - 0.2):\n",
    "                    if dffin.at[ix,'pressure'] >= floordepth - 6:\n",
    "                        seasonyeartemp.append(dffin.at[ix,'temp'])\n",
    "                        seasonyeardepth.append(dffin.at[ix,'pressure'])\n",
    "                        counterii.append(ii)\n",
    "                    elif dffin.at[ix,'pressure'] == df_final[0].iloc[-1]:\n",
    "                        pass\n",
    "                    elif dffin.at[ix,'pressure'] == 0:\n",
    "                        pass\n",
    "                    else:\n",
    "                        seasonyeartemp.append(dffin.at[ix,'temp'])\n",
    "                        seasonyeardepth.append(dffin.at[ix,'pressure'])\n",
    "                        np.array(seasonyeartemp)\n",
    "                        np.array(seasonyeardepth)\n",
    "                        counterii.append(ii)\n",
    "                    break  \n",
    "    inlat = []; inlon = []\n",
    "    for timer in counterii:\n",
    "        inlat.append(newdf['lat'][timer])\n",
    "        inlon.append(newdf['lon'][timer])\n",
    "\n",
    "    finaldepth.append(seasonyeardepth)\n",
    "    finallat.append(inlat)\n",
    "    finallon.append(inlon)\n",
    "    \n",
    "    flat_depth = [item for sublist in finaldepth for item in sublist]\n",
    "    flat_lat = [item for sublist in finallat for item in sublist]\n",
    "    flat_lon = [item for sublist in finallon for item in sublist]\n",
    "    \n",
    "    \n",
    "    flat_lon[:] = [x *-1 for x in flat_lon]\n",
    "#     # flat_lon[:] = [x *-1 for x in flat_lon]\n",
    "    \n",
    "    name = 'dfplottablefull_{}'.format(year)    \n",
    "    listofones = []\n",
    "    for x in range(len(name)):\n",
    "        listofones.append(2)\n",
    "    name = pd.DataFrame(list(zip(flat_depth,flat_lon,flat_lat,listofones)),columns = ['depth','lon','lat','count'])\n",
    "    \n",
    "    x = 'x_{}'.format(year)\n",
    "    x = name['lon']\n",
    "    y = 'y_{}'.format(year)\n",
    "    y = name['lat']\n",
    "    z = 'z_{}'.format(year)\n",
    "    z = name['depth']\n",
    "    c = 'c_{}'.format(year)\n",
    "    c = name['count']\n",
    "    \n",
    "    xi = np.arange(-76,-65,0.5)\n",
    "    yi = np.arange(35,46,0.5)\n",
    "    \n",
    "    newlon = [-69.5,-68,-67.5, -67, -66.5, -66, -65.7, -66,-66, -66.5, -67,\n",
    "         -68, -69, -70,-70.5, -70.5,-69.5, -72, -74, -74.25, -76, -75.5, -75, -74.75, -74.5, -72, -71.4, -69.5]\n",
    "    newlat = [40,40.3,40.4, 40.6, 40.8, 41.45, 41.8, 42.1, 43, 44.2, 44.2, 44.2, 43.9, 43.7,\n",
    "         43, 42.2, 41, 41, 40.5, 39.4, 37, 36, 35.5, 36, 37.4, 39.5, 40, 40]\n",
    "    newpath = list(zip(newlon,newlat))\n",
    "    newpd = pd.DataFrame(newpath, columns=['lon','lat'])\n",
    "\n",
    "#     path_new = Path(newpath) #\n",
    "    \n",
    "    xi,yi = np.meshgrid(xi,yi)\n",
    "#     xi, yi = xi.flatten(), yi.flatten() #\n",
    "    \n",
    "    grid = path_new.contains_points(points) ##\n",
    "    grid = grid.reshape((22,22)) ##\n",
    "    \n",
    "    ci = 'ci_{}'.format(year)\n",
    "    ci = griddata((x,y),c,(xi,yi),method='linear')\n",
    "    ci = ci.reshape((22,22)) ##\n",
    "    \n",
    "    newgridded = np.where(grid == False, 0, grid) #np.nan ##\n",
    "    newgriddednew = np.where(grid == 1., ci, grid)\n",
    "    newgriddedlast = np.where(newgriddednew == 0., np.nan, newgriddednew)\n",
    "    \n",
    "    ci_listofarrays.append(newgriddedlast)\n",
    "#     ci_listofarrays.append(ci)\n",
    "#     grid = 'grid_{}'.format(year)\n",
    "#     grid = ci\n",
    "\n",
    "#     zi = 'zi_{}'.format(year)\n",
    "#     zi = griddata((x,y),z,(xi,yi),method='linear')\n",
    "    \n",
    "#     zi = zi.reshape((44,44))\n",
    "    \n",
    "#     newgridded = np.where(grid == False, np.nan, grid)\n",
    "#     newgriddednew = np.where(grid == 1., zi, grid)\n",
    "#     newgriddedlast = np.where(newgriddednew == 0., np.nan, newgriddednew)\n",
    "    \n",
    "#     zi_listofarrays.append(newgriddedlast)"
   ]
  },
  {
   "cell_type": "code",
   "execution_count": 1592,
   "metadata": {},
   "outputs": [],
   "source": [
    "grid1977 = ci_listofarrays[0]"
   ]
  },
  {
   "cell_type": "code",
   "execution_count": 1594,
   "metadata": {},
   "outputs": [],
   "source": [
    "grid1978 = ci_listofarrays[0]"
   ]
  },
  {
   "cell_type": "code",
   "execution_count": 1596,
   "metadata": {},
   "outputs": [],
   "source": [
    "grid1979 = ci_listofarrays[0]"
   ]
  },
  {
   "cell_type": "code",
   "execution_count": 1598,
   "metadata": {},
   "outputs": [],
   "source": [
    "grid1980 = ci_listofarrays[0]"
   ]
  },
  {
   "cell_type": "code",
   "execution_count": 1600,
   "metadata": {},
   "outputs": [],
   "source": [
    "grid1981 = ci_listofarrays[0]"
   ]
  },
  {
   "cell_type": "code",
   "execution_count": 1602,
   "metadata": {},
   "outputs": [],
   "source": [
    "grid1982 = ci_listofarrays[0]"
   ]
  },
  {
   "cell_type": "code",
   "execution_count": 1604,
   "metadata": {},
   "outputs": [],
   "source": [
    "grid1983 = ci_listofarrays[0]"
   ]
  },
  {
   "cell_type": "code",
   "execution_count": 1606,
   "metadata": {},
   "outputs": [],
   "source": [
    "grid1984 = ci_listofarrays[0]"
   ]
  },
  {
   "cell_type": "code",
   "execution_count": 1608,
   "metadata": {},
   "outputs": [],
   "source": [
    "grid1985 = ci_listofarrays[0]"
   ]
  },
  {
   "cell_type": "code",
   "execution_count": 1610,
   "metadata": {},
   "outputs": [],
   "source": [
    "grid1986 = ci_listofarrays[0]"
   ]
  },
  {
   "cell_type": "code",
   "execution_count": 862,
   "metadata": {},
   "outputs": [],
   "source": [
    "grid2012 = ci_listofarrays[0]"
   ]
  },
  {
   "cell_type": "code",
   "execution_count": 1614,
   "metadata": {},
   "outputs": [],
   "source": [
    "grid1988 = ci_listofarrays[0]"
   ]
  },
  {
   "cell_type": "code",
   "execution_count": 1612,
   "metadata": {},
   "outputs": [],
   "source": [
    "grid1987 = ci_listofarrays[0]"
   ]
  },
  {
   "cell_type": "code",
   "execution_count": 1616,
   "metadata": {},
   "outputs": [],
   "source": [
    "grid1989 = ci_listofarrays[0]"
   ]
  },
  {
   "cell_type": "code",
   "execution_count": 1618,
   "metadata": {},
   "outputs": [],
   "source": [
    "grid1990 = ci_listofarrays[0]"
   ]
  },
  {
   "cell_type": "code",
   "execution_count": 1620,
   "metadata": {},
   "outputs": [],
   "source": [
    "grid1991 = ci_listofarrays[0]"
   ]
  },
  {
   "cell_type": "code",
   "execution_count": 1622,
   "metadata": {},
   "outputs": [],
   "source": [
    "grid1992 = ci_listofarrays[0]"
   ]
  },
  {
   "cell_type": "code",
   "execution_count": 1624,
   "metadata": {},
   "outputs": [],
   "source": [
    "grid1993 = ci_listofarrays[0]"
   ]
  },
  {
   "cell_type": "code",
   "execution_count": 1626,
   "metadata": {},
   "outputs": [],
   "source": [
    "grid1994 = ci_listofarrays[0]"
   ]
  },
  {
   "cell_type": "code",
   "execution_count": 1628,
   "metadata": {},
   "outputs": [],
   "source": [
    "grid1995 = ci_listofarrays[0]"
   ]
  },
  {
   "cell_type": "code",
   "execution_count": 1630,
   "metadata": {},
   "outputs": [],
   "source": [
    "grid1996 = ci_listofarrays[0]"
   ]
  },
  {
   "cell_type": "code",
   "execution_count": 1632,
   "metadata": {},
   "outputs": [],
   "source": [
    "grid1997 = ci_listofarrays[0]"
   ]
  },
  {
   "cell_type": "code",
   "execution_count": 1634,
   "metadata": {},
   "outputs": [],
   "source": [
    "grid1998 = ci_listofarrays[0]"
   ]
  },
  {
   "cell_type": "code",
   "execution_count": 1636,
   "metadata": {},
   "outputs": [],
   "source": [
    "grid1999 = ci_listofarrays[0]"
   ]
  },
  {
   "cell_type": "code",
   "execution_count": 1638,
   "metadata": {},
   "outputs": [],
   "source": [
    "grid2000 = ci_listofarrays[0]"
   ]
  },
  {
   "cell_type": "code",
   "execution_count": 1640,
   "metadata": {},
   "outputs": [],
   "source": [
    "grid2001 = ci_listofarrays[0]"
   ]
  },
  {
   "cell_type": "code",
   "execution_count": 1642,
   "metadata": {},
   "outputs": [],
   "source": [
    "grid2002 = ci_listofarrays[0]"
   ]
  },
  {
   "cell_type": "code",
   "execution_count": 1644,
   "metadata": {},
   "outputs": [],
   "source": [
    "grid2003 = ci_listofarrays[0]"
   ]
  },
  {
   "cell_type": "code",
   "execution_count": 1646,
   "metadata": {},
   "outputs": [],
   "source": [
    "grid2004 = ci_listofarrays[0]"
   ]
  },
  {
   "cell_type": "code",
   "execution_count": 1648,
   "metadata": {},
   "outputs": [],
   "source": [
    "grid2005 = ci_listofarrays[0]"
   ]
  },
  {
   "cell_type": "code",
   "execution_count": 1650,
   "metadata": {},
   "outputs": [],
   "source": [
    "grid2006 = ci_listofarrays[0]"
   ]
  },
  {
   "cell_type": "code",
   "execution_count": 1652,
   "metadata": {},
   "outputs": [],
   "source": [
    "grid2007 = ci_listofarrays[0]"
   ]
  },
  {
   "cell_type": "code",
   "execution_count": 1654,
   "metadata": {},
   "outputs": [],
   "source": [
    "grid2008 = ci_listofarrays[0]"
   ]
  },
  {
   "cell_type": "code",
   "execution_count": 1656,
   "metadata": {},
   "outputs": [],
   "source": [
    "grid2009 = ci_listofarrays[0]"
   ]
  },
  {
   "cell_type": "code",
   "execution_count": 1658,
   "metadata": {},
   "outputs": [],
   "source": [
    "grid2010 = ci_listofarrays[0]"
   ]
  },
  {
   "cell_type": "code",
   "execution_count": 1660,
   "metadata": {},
   "outputs": [],
   "source": [
    "grid2011 = ci_listofarrays[0]"
   ]
  },
  {
   "cell_type": "code",
   "execution_count": 1662,
   "metadata": {},
   "outputs": [],
   "source": [
    "grid2012 = ci_listofarrays[0]"
   ]
  },
  {
   "cell_type": "code",
   "execution_count": 1664,
   "metadata": {},
   "outputs": [],
   "source": [
    "grid2013 = ci_listofarrays[0]"
   ]
  },
  {
   "cell_type": "code",
   "execution_count": 1572,
   "metadata": {},
   "outputs": [],
   "source": [
    "# grid2014 = ci_listofarrays[0]"
   ]
  },
  {
   "cell_type": "code",
   "execution_count": 1574,
   "metadata": {},
   "outputs": [],
   "source": [
    "# grid2015 = ci_listofarrays[0]"
   ]
  },
  {
   "cell_type": "code",
   "execution_count": 1576,
   "metadata": {},
   "outputs": [],
   "source": [
    "# grid2016 = ci_listofarrays[0]"
   ]
  },
  {
   "cell_type": "code",
   "execution_count": 1669,
   "metadata": {},
   "outputs": [],
   "source": [
    "grid2017 = ci_listofarrays[0]"
   ]
  },
  {
   "cell_type": "code",
   "execution_count": 1580,
   "metadata": {},
   "outputs": [],
   "source": [
    "# grid2018 = ci_listofarrays[0]"
   ]
  },
  {
   "cell_type": "code",
   "execution_count": 1582,
   "metadata": {},
   "outputs": [],
   "source": [
    "# grid2019 = ci_listofarrays[0]"
   ]
  },
  {
   "cell_type": "code",
   "execution_count": 1672,
   "metadata": {},
   "outputs": [],
   "source": [
    "gridded = np.nansum([grid1977,grid1978,grid1979,grid1980,grid1981,grid1982,grid1983,grid1984,grid1985,grid1986,grid1987,grid1988,grid1989,grid1990,grid1991,grid1992,grid1993,grid1994,grid1995,grid1996,grid1997,grid1998,grid1999,grid2000,grid2001,grid2002,grid2003,grid2004,grid2005,grid2006,grid2007,grid2008,grid2009,grid2010,grid2011,grid2012,grid2013,grid2017],axis=0)\n"
   ]
  },
  {
   "cell_type": "code",
   "execution_count": 1673,
   "metadata": {},
   "outputs": [],
   "source": [
    "# gridded = np.nansum([ci_listofarrays[0],ci_listofarrays[1],ci_listofarrays[2],ci_listofarrays[3]],axis=0)"
   ]
  },
  {
   "cell_type": "code",
   "execution_count": 1674,
   "metadata": {},
   "outputs": [
    {
     "name": "stdout",
     "output_type": "stream",
     "text": [
      "(22, 22)\n"
     ]
    }
   ],
   "source": [
    "print(gridded.shape)"
   ]
  },
  {
   "cell_type": "code",
   "execution_count": 1675,
   "metadata": {},
   "outputs": [
    {
     "name": "stdout",
     "output_type": "stream",
     "text": [
      "(22, 22)\n"
     ]
    }
   ],
   "source": [
    "print(gridded.shape)\n",
    "\n",
    "newgridded = np.where(gridded == 0., np.nan, gridded) #np.nan"
   ]
  },
  {
   "cell_type": "code",
   "execution_count": 1676,
   "metadata": {},
   "outputs": [
    {
     "data": {
      "image/png": "[encoded data removed]",
      "text/plain": [
       "<Figure size 864x576 with 2 Axes>"
      ]
     },
     "metadata": {
      "needs_background": "light"
     },
     "output_type": "display_data"
    }
   ],
   "source": [
    "from matplotlib.pyplot import * ; import cartopy.feature as cfeature\n",
    "\n",
    "plt.figure(figsize=(12, 8))\n",
    "ax = plt.axes(projection=ccrs.PlateCarree())\n",
    "ax.set_extent([-78, -65, 35.5, 44.5], ccrs.PlateCarree())\n",
    "\n",
    "gl = ax.gridlines(crs=ccrs.PlateCarree(), draw_labels=True,linewidth=1, color='grey', alpha=0.5, linestyle='--')\n",
    "gl.xlabels_top = False\n",
    "gl.ylabels_left = True\n",
    "gl.ylabels_right = False\n",
    "gl.xformatter = LONGITUDE_FORMATTER\n",
    "gl.yformatter = LATITUDE_FORMATTER\n",
    "\n",
    "# cf = plt.contourf(xi,yi,newgriddednew,cmap = 'ocean_r')\n",
    "plt.contour(xi, yi, newgridded/2, levels=5, linewidths=1,colors='white')\n",
    "cf = plt.contourf(xi,yi,newgridded/2,np.arange(0,19,1),cmap = 'ocean_r')\n",
    "\n",
    "# plt.contour(xi, yi, ci_listofarrays[0], levels=5, linewidths=1,colors='white')\n",
    "# cf = plt.contourf(xi,yi,ci_listofarrays[0],cmap = 'ocean_r')\n",
    "\n",
    "# plot(x_w,y_w,color='red', linewidth = 2, linestyle='-',zorder = 15)\n",
    "# plot(x_v,y_v,color='red', linewidth = 2, linestyle='-',zorder = 15)\n",
    "# plot(x_x,y_x,color='red', linewidth = 2, linestyle='-',zorder = 15)\n",
    "# plot(x_y,y_y,color='red', linewidth = 2, linestyle='-',zorder = 15)\n",
    "# plot(x_t,y_t,color='red', linewidth = 2, linestyle='-',zorder = 15)\n",
    "\n",
    "feature = cfeature.NaturalEarthFeature(name='coastline', category='physical',scale='50m',edgecolor='black', facecolor='dimgray')\n",
    "ax.add_feature(feature,zorder=10)\n",
    "cbar = plt.colorbar(cf, ax=ax)\n",
    "\n",
    "plt.show()"
   ]
  },
  {
   "cell_type": "code",
   "execution_count": 1237,
   "metadata": {
    "scrolled": true
   },
   "outputs": [
    {
     "data": {
      "text/plain": [
       "<matplotlib.image.AxesImage at 0xd2ecf26a0>"
      ]
     },
     "execution_count": 1237,
     "metadata": {},
     "output_type": "execute_result"
    },
    {
     "data": {
      "image/png": "[encoded data removed]",
      "text/plain": [
       "<Figure size 432x288 with 1 Axes>"
      ]
     },
     "metadata": {
      "needs_background": "light"
     },
     "output_type": "display_data"
    }
   ],
   "source": [
    "fig = plt.figure()\n",
    "ax = fig.add_subplot(111)\n",
    "ax.imshow(ci_listofarrays[0])"
   ]
  },
  {
   "cell_type": "code",
   "execution_count": 664,
   "metadata": {},
   "outputs": [
    {
     "name": "stdout",
     "output_type": "stream",
     "text": [
      "    depth      lon      lat  count\n",
      "0    35.0 -70.3900  40.8267      1\n",
      "1    10.0 -70.0233  40.3850      1\n",
      "2    56.0 -70.4367  40.3700      1\n",
      "3     9.0 -70.4033  40.1683      1\n",
      "4    41.0 -70.0367  40.0300      1\n",
      "5    51.0 -69.8033  40.1950      1\n",
      "6    62.0 -69.4367  40.2433      1\n",
      "7    37.0 -69.6483  40.4367      1\n",
      "8    45.0 -69.8300  40.5650      1\n",
      "9    26.0 -69.7883  40.9483      1\n",
      "10   66.0 -69.2150  40.3667      1\n",
      "11   38.0 -69.0367  40.2167      1\n",
      "12   49.0 -68.7883  40.3983      1\n",
      "13   30.0 -69.8717  41.9117      1\n",
      "14   24.0 -70.0150  42.0800      1\n",
      "15   35.0 -70.4667  42.3850      1\n",
      "16   53.0 -70.1367  42.5533      1\n",
      "17   73.0 -69.9617  42.3183      1\n",
      "18   37.0 -69.7183  42.0550      1\n",
      "19   71.0 -69.5017  41.9200      1\n"
     ]
    }
   ],
   "source": [
    "listofones = []\n",
    "for x in range(len(name)):\n",
    "    listofones.append(1)\n",
    "# print(listofones)\n",
    "\n",
    "\n",
    "name['count'] = listofones\n",
    "print(name)"
   ]
  },
  {
   "cell_type": "code",
   "execution_count": 843,
   "metadata": {
    "scrolled": true
   },
   "outputs": [],
   "source": [
    "gridded = np.nansum([ci_listofarrays[0] + ci_listofarrays[1] + ci_listofarrays[2] + ci_listofarrays[3] + ci_listofarrays[4] + ci_listofarrays[5] + ci_listofarrays[6] + ci_listofarrays[7] +ci_listofarrays[8] +ci_listofarrays[9] +ci_listofarrays[10] +ci_listofarrays[11] +ci_listofarrays[12] +ci_listofarrays[13] +ci_listofarrays[14] +ci_listofarrays[15]+ci_listofarrays[16]+ci_listofarrays[17]+ci_listofarrays[18]+ci_listofarrays[19]+ci_listofarrays[20]+ci_listofarrays[21]+ci_listofarrays[22]+ci_listofarrays[23]+ci_listofarrays[24]+ci_listofarrays[25]+ci_listofarrays[26]+ci_listofarrays[27]+ci_listofarrays[28]+ci_listofarrays[29]+ci_listofarrays[30]+ci_listofarrays[31]+ci_listofarrays[32]+ci_listofarrays[33]+ci_listofarrays[34]+ci_listofarrays[35]+ci_listofarrays[36]+ci_listofarrays[37]+ci_listofarrays[38]+ci_listofarrays[39]+ci_listofarrays[40]+ci_listofarrays[41]+ci_listofarrays[42]],axis=0)\n",
    "\n",
    "\n"
   ]
  },
  {
   "cell_type": "code",
   "execution_count": 649,
   "metadata": {},
   "outputs": [
    {
     "name": "stdout",
     "output_type": "stream",
     "text": [
      "<class 'list'>\n"
     ]
    }
   ],
   "source": [
    "print(type(finaldepth))\n",
    "# print(finallat)\n",
    "#     finallat.append(inlat)\n",
    "#     finallon.append(inlon)"
   ]
  },
  {
   "cell_type": "code",
   "execution_count": 1746,
   "metadata": {},
   "outputs": [],
   "source": [
    "import itertools\n",
    "flat=itertools.chain.from_iterable(finaldepth)\n",
    "fulldepthmeas = list(flat)"
   ]
  },
  {
   "cell_type": "code",
   "execution_count": 1744,
   "metadata": {},
   "outputs": [
    {
     "name": "stdout",
     "output_type": "stream",
     "text": [
      "5106\n"
     ]
    }
   ],
   "source": [
    "print(len(fulldepthmeas))"
   ]
  },
  {
   "cell_type": "code",
   "execution_count": 1745,
   "metadata": {},
   "outputs": [
    {
     "data": {
      "image/png": "[encoded data removed]",
      "text/plain": [
       "<Figure size 720x360 with 1 Axes>"
      ]
     },
     "metadata": {},
     "output_type": "display_data"
    }
   ],
   "source": [
    "import matplotlib.pyplot as plt\n",
    "import numpy as np\n",
    "%matplotlib inline\n",
    "plt.style.use('ggplot')\n",
    "plt.figure(figsize=(10,5))\n",
    "plt.hist(fulldepthmeas, density=False, bins=30,color = \"skyblue\",ec=\"black\")  # `density=False` would make counts\n",
    "plt.ylabel('Count')\n",
    "plt.xlabel('MLD Measurement');"
   ]
  },
  {
   "cell_type": "code",
   "execution_count": 743,
   "metadata": {},
   "outputs": [
    {
     "name": "stdout",
     "output_type": "stream",
     "text": [
      "Path(array([[-69.5 ,  40.  ],\n",
      "       [-68.  ,  40.3 ],\n",
      "       [-67.5 ,  40.4 ],\n",
      "       [-67.  ,  40.6 ],\n",
      "       [-66.5 ,  40.8 ],\n",
      "       [-66.  ,  41.45],\n",
      "       [-65.7 ,  41.8 ],\n",
      "       [-66.  ,  42.1 ],\n",
      "       [-66.  ,  43.  ],\n",
      "       [-66.5 ,  44.2 ],\n",
      "       [-67.  ,  44.2 ],\n",
      "       [-68.  ,  44.2 ],\n",
      "       [-69.  ,  43.9 ],\n",
      "       [-70.  ,  43.7 ],\n",
      "       [-70.5 ,  43.  ],\n",
      "       [-70.5 ,  42.2 ],\n",
      "       [-69.5 ,  41.  ],\n",
      "       [-72.  ,  41.  ],\n",
      "       [-74.  ,  40.5 ],\n",
      "       [-74.25,  39.4 ],\n",
      "       [-76.  ,  37.  ],\n",
      "       [-75.5 ,  36.  ],\n",
      "       [-75.  ,  35.5 ],\n",
      "       [-74.75,  36.  ],\n",
      "       [-74.5 ,  37.4 ],\n",
      "       [-72.  ,  39.5 ],\n",
      "       [-71.4 ,  40.  ],\n",
      "       [-69.5 ,  40.  ]]), None)\n"
     ]
    }
   ],
   "source": [
    "print(path_new)"
   ]
  },
  {
   "cell_type": "code",
   "execution_count": 129,
   "metadata": {},
   "outputs": [],
   "source": [
    "file_in ='Etopo1_Bed_35_65N_40_80W.nc'\n",
    "NC=Dataset(file_in); DS=xr.open_dataset(file_in)"
   ]
  },
  {
   "cell_type": "code",
   "execution_count": 130,
   "metadata": {},
   "outputs": [],
   "source": [
    "latNC= NC['lat'][:]\n",
    "lonNC= NC['lon'][:]\n",
    "depthNC= NC['depth'][:]"
   ]
  },
  {
   "cell_type": "code",
   "execution_count": 131,
   "metadata": {},
   "outputs": [
    {
     "name": "stdout",
     "output_type": "stream",
     "text": [
      "1801\n"
     ]
    }
   ],
   "source": [
    "print(len(latNC))"
   ]
  },
  {
   "cell_type": "code",
   "execution_count": 132,
   "metadata": {},
   "outputs": [
    {
     "name": "stdout",
     "output_type": "stream",
     "text": [
      "2401\n"
     ]
    }
   ],
   "source": [
    "print(len(lonNC))"
   ]
  },
  {
   "cell_type": "code",
   "execution_count": 133,
   "metadata": {},
   "outputs": [],
   "source": [
    "indices_rows = np.argwhere(np.any(depthNC == -1000, axis=0))"
   ]
  },
  {
   "cell_type": "code",
   "execution_count": 134,
   "metadata": {},
   "outputs": [
    {
     "name": "stdout",
     "output_type": "stream",
     "text": [
      "107\n"
     ]
    }
   ],
   "source": [
    "print(len(indices_rows))"
   ]
  },
  {
   "cell_type": "code",
   "execution_count": 135,
   "metadata": {},
   "outputs": [],
   "source": [
    "indices_col = np.argwhere(np.any(depthNC == -1000, axis=1))"
   ]
  },
  {
   "cell_type": "code",
   "execution_count": 136,
   "metadata": {},
   "outputs": [
    {
     "name": "stdout",
     "output_type": "stream",
     "text": [
      "99\n"
     ]
    }
   ],
   "source": [
    "print(len(indices_col))"
   ]
  },
  {
   "cell_type": "code",
   "execution_count": 137,
   "metadata": {},
   "outputs": [],
   "source": [
    "val_lat_list = []\n",
    "val_lon_list = []\n",
    "for i in indices_rows:\n",
    "    val_lon = lonNC[i]-360\n",
    "    val_lon_list.append(float(val_lon))\n",
    "\n",
    "for i in indices_col:\n",
    "    val_lat = latNC[i]\n",
    "    val_lat_list.append(float(val_lat))\n",
    "    \n",
    "#     print(lonNC[i],latNC[i])\n",
    "#     val_lat = latNC[i]\n",
    "#     val_lon = -(360 - lonNC[i])\n",
    "#     val_lat_list.append(float(val_lat))\n",
    "#     val_lon_list.append(float(val_lon))\n",
    "#     print(val_lon,val_lat)"
   ]
  },
  {
   "cell_type": "code",
   "execution_count": 138,
   "metadata": {},
   "outputs": [
    {
     "name": "stdout",
     "output_type": "stream",
     "text": [
      "99\n"
     ]
    }
   ],
   "source": [
    "print(len(val_lat_list[:99]))"
   ]
  },
  {
   "cell_type": "code",
   "execution_count": 139,
   "metadata": {},
   "outputs": [
    {
     "name": "stdout",
     "output_type": "stream",
     "text": [
      "107\n"
     ]
    }
   ],
   "source": [
    "print(len(val_lon_list))"
   ]
  },
  {
   "cell_type": "code",
   "execution_count": 140,
   "metadata": {},
   "outputs": [
    {
     "data": {
      "image/png": "[encoded data removed]",
      "text/plain": [
       "<Figure size 1080x1080 with 1 Axes>"
      ]
     },
     "metadata": {
      "needs_background": "light"
     },
     "output_type": "display_data"
    }
   ],
   "source": [
    "plt.figure(figsize=(15, 15))\n",
    "plt.scatter(val_lon_list[:99], val_lat_list[:99], marker='.', c='blue')\n",
    "plt.show()"
   ]
  },
  {
   "cell_type": "code",
   "execution_count": 1743,
   "metadata": {},
   "outputs": [
    {
     "data": {
      "image/png": "[encoded data removed]",
      "text/plain": [
       "<Figure size 864x576 with 2 Axes>"
      ]
     },
     "metadata": {
      "needs_background": "light"
     },
     "output_type": "display_data"
    }
   ],
   "source": [
    "from matplotlib.pyplot import * ; import cartopy.feature as cfeature\n",
    "\n",
    "plt.figure(figsize=(12, 8))\n",
    "ax = plt.axes(projection=ccrs.PlateCarree())\n",
    "# ax.set_extent([-78, -65, 35.5, 44.5], ccrs.PlateCarree())\n",
    "ax.set_extent([-78, -65, 35.5, 44.5], ccrs.PlateCarree())\n",
    "\n",
    "\n",
    "\n",
    "gl = ax.gridlines(crs=ccrs.PlateCarree(), draw_labels=True,linewidth=1, color='grey', alpha=0.5, linestyle='--')\n",
    "gl.xlabels_top = False\n",
    "gl.ylabels_left = True\n",
    "gl.ylabels_right = False\n",
    "gl.xformatter = LONGITUDE_FORMATTER\n",
    "gl.yformatter = LATITUDE_FORMATTER\n",
    "\n",
    "plt.scatter(val_lon_list[:99], val_lat_list[:99], marker='o', c='blue',zorder = 15)\n",
    "plt.plot(val_lon_list[:99], val_lat_list[:99])\n",
    "\n",
    "feature = cfeature.NaturalEarthFeature(name='coastline', category='physical',scale='50m',edgecolor='black', facecolor='dimgray')\n",
    "ax.add_feature(feature,zorder=10)\n",
    "cbar = plt.colorbar(cf, ax=ax)\n",
    "\n",
    "plt.show()"
   ]
  },
  {
   "cell_type": "code",
   "execution_count": null,
   "metadata": {},
   "outputs": [],
   "source": []
  },
  {
   "cell_type": "code",
   "execution_count": null,
   "metadata": {},
   "outputs": [],
   "source": []
  }
 ],
 "metadata": {
  "kernelspec": {
   "display_name": "Python 3",
   "language": "python",
   "name": "python3"
  },
  "language_info": {
   "codemirror_mode": {
    "name": "ipython",
    "version": 3
   },
   "file_extension": ".py",
   "mimetype": "text/x-python",
   "name": "python",
   "nbconvert_exporter": "python",
   "pygments_lexer": "ipython3",
   "version": "3.7.1"
  }
 },
 "nbformat": 4,
 "nbformat_minor": 2
}
