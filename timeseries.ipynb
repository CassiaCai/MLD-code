{
 "cells": [
  {
   "cell_type": "markdown",
   "metadata": {},
   "source": [
    "### Importing packages"
   ]
  },
  {
   "cell_type": "code",
   "execution_count": 3,
   "metadata": {},
   "outputs": [],
   "source": [
    "import matplotlib.pyplot as plt; import numpy as np; import netCDF4; from netCDF4 import Dataset\n",
    "import pandas as pd; import numpy.ma as ma; import time as timeit; import os; import math\n",
    "import itertools; import scipy.io; import mat73; import collections\n",
    "import cartopy; import cartopy.crs as ccrs\n",
    "from cartopy.mpl.gridliner import LONGITUDE_FORMATTER, LATITUDE_FORMATTER\n",
    "from matplotlib.ticker import FuncFormatter\n",
    "from matplotlib.ticker import AutoMinorLocator; from matplotlib.ticker import FixedLocator\n",
    "from shapely.geometry import Point\n",
    "from shapely.geometry.polygon import Polygon\n",
    "%matplotlib inline\n",
    "import statistics; import xarray as xr;from scipy.interpolate import griddata"
   ]
  },
  {
   "cell_type": "markdown",
   "metadata": {},
   "source": [
    "### Polygon y is Eastern Gulf of Maine"
   ]
  },
  {
   "cell_type": "code",
   "execution_count": 4,
   "metadata": {},
   "outputs": [],
   "source": [
    "y = open(\"bndgme.txt\", \"r\", encoding=\"utf-8\")\n",
    "y.read()\n",
    "y = '  41.80   68.00\\n  42.10   67.50\\n  42.10   67.00\\n  42.10   66.00\\n  43.00   66.00\\n  44.20   66.50\\n  44.20   67.00\\n  44.20   68.00\\n  41.80   68.00\\n'\n",
    "output1y = y.split('\\n')\n",
    "\n",
    "newy = [] \n",
    "for string in output1y:\n",
    "    output2y = string.split(' ')\n",
    "    newy.append(output2y)\n",
    "newy = [['', '', '41.80', '', '', '68.00'], ['', '', '42.10', '', '', '67.50'], ['', '', '42.10', '', '', '67.00'], ['', '', '42.10', '', '', '66.00'], ['', '', '43.00', '', '', '66.00'], ['', '', '44.20', '', '', '66.50'], ['', '', '44.20', '', '', '67.00'], ['', '', '44.20', '', '', '68.00'], ['', '', '41.80', '', '', '68.00']]\n",
    "lon_y = []; lat_y = []\n",
    "\n",
    "for i in range(9): \n",
    "    y1 = newy[i][2]\n",
    "    lat_y.append(y1)\n",
    "    y3 = newy[i][5]\n",
    "    lon_y.append(y3)\n",
    "lonlist_y = [float(i) for i in lon_y]; latlist_y = [float(i) for i in lat_y]\n",
    "df_y = pd.DataFrame({'lon': lonlist_y, 'lat': latlist_y,})\n",
    "\n",
    "lonlist_y_plot = [float(i)*-1 for i in lon_y]; latlist_y = [float(i) for i in lat_y]\n",
    "df_y_plot = pd.DataFrame({'lon': lonlist_y_plot, 'lat': latlist_y,})\n",
    "x_y = df_y_plot['lon']; y_y = df_y_plot['lat']\n",
    "\n",
    "lonlist_yneg = [float(i)*-1 for i in lon_y]\n",
    "df_y_plottable = pd.DataFrame({'lon': lonlist_yneg, 'lat': latlist_y,})"
   ]
  },
  {
   "cell_type": "code",
   "execution_count": 5,
   "metadata": {},
   "outputs": [
    {
     "name": "stdout",
     "output_type": "stream",
     "text": [
      "POLYGON ((68 41.8, 67.5 42.1, 67 42.1, 66 42.1, 66 43, 66.5 44.2, 67 44.2, 68 44.2, 68 41.8))\n"
     ]
    }
   ],
   "source": [
    "polygon_y = Polygon(df_y.values)\n",
    "print(polygon_y)"
   ]
  },
  {
   "cell_type": "markdown",
   "metadata": {},
   "source": [
    "### Polygon t is Western Gulf of Maine"
   ]
  },
  {
   "cell_type": "code",
   "execution_count": 6,
   "metadata": {},
   "outputs": [],
   "source": [
    "t = open(\"bndgmw.txt\", \"r\", encoding=\"utf-8\")\n",
    "t.read()\n",
    "t = '  42.20   70.50\\n  42.00   70.00\\n  41.10   69.00\\n  41.80   68.00\\n  44.20   68.00\\n  43.90   69.00\\n  43.70   70.00\\n  43.00   70.50\\n  42.20   70.50'\n",
    "output1t = t.split('\\n')\n",
    "newt = [] \n",
    "for string in output1t:\n",
    "    output2t = string.split(' ')\n",
    "    newt.append(output2t)\n",
    "lon_t = []; lat_t = []\n",
    "\n",
    "for i in range(9): \n",
    "    t1 = newt[i][2]\n",
    "    lat_t.append(t1)\n",
    "    t3 = newt[i][5]\n",
    "    lon_t.append(t3)\n",
    "lonlist_t = [float(i) for i in lon_t]; latlist_t = [float(i) for i in lat_t]\n",
    "df_t = pd.DataFrame({'lon': lonlist_t, 'lat': latlist_t,})\n",
    "\n",
    "lonlist_t_plot = [float(i)*-1 for i in lon_t]; latlist_t = [float(i) for i in lat_t]\n",
    "df_t_plot = pd.DataFrame({'lon': lonlist_t_plot, 'lat': latlist_t,})\n",
    "x_t = df_t_plot['lon']; y_t = df_t_plot['lat']"
   ]
  },
  {
   "cell_type": "code",
   "execution_count": 7,
   "metadata": {},
   "outputs": [
    {
     "name": "stdout",
     "output_type": "stream",
     "text": [
      "POLYGON ((70.5 42.2, 70 42, 69 41.1, 68 41.8, 68 44.2, 69 43.9, 70 43.7, 70.5 43, 70.5 42.2))\n"
     ]
    }
   ],
   "source": [
    "polygon_t = Polygon(df_t.values)\n",
    "print(polygon_t)"
   ]
  },
  {
   "cell_type": "markdown",
   "metadata": {},
   "source": [
    "### Polgygon w is Georges Bank."
   ]
  },
  {
   "cell_type": "code",
   "execution_count": 8,
   "metadata": {},
   "outputs": [],
   "source": [
    "w = open(\"bndgb2.txt\", \"r\", encoding=\"utf-8\")\n",
    "w.read()\n",
    "w = '  40.00   69.50\\n  40.30   68.00\\n  40.40   67.50\\n  40.60   67.00\\n  40.80   66.50\\n  41.45   66.00\\n  41.80   65.70\\n  42.10   66.00\\n  42.10   67.00\\n  42.10   67.50\\n  41.80   68.00\\n  41.10   69.00\\n  41.00   69.50\\n  40.00   69.50\\n'\n",
    "output1w = w.split('\\n')\n",
    "\n",
    "neww = [] \n",
    "for string in output1w:\n",
    "    output2w = string.split(' ')\n",
    "    neww.append(output2w)\n",
    "\n",
    "neww = [['', '', '40.00', '', '', '69.50'], ['', '', '40.30', '', '', '68.00'], ['', '', '40.40', '', '', '67.50'], ['', '', '40.60', '', '', '67.00'], ['', '', '40.80', '', '', '66.50'], ['', '', '41.45', '', '', '66.00'], ['', '', '41.80', '', '', '65.70'], ['', '', '42.10', '', '', '66.00'], ['', '', '42.10', '', '', '67.00'], ['', '', '42.10', '', '', '67.50'], ['', '', '41.80', '', '', '68.00'], ['', '', '41.10', '', '', '69.00'], ['', '', '41.00', '', '', '69.50'], ['', '', '40.00', '', '', '69.50']]\n",
    "lon_w = []; lat_w = []\n",
    "\n",
    "for i in range(14): \n",
    "    w1 = neww[i][2]\n",
    "    lat_w.append(w1)\n",
    "    w3 = neww[i][5]\n",
    "    lon_w.append(w3)\n",
    "lonlist_w = [float(i) for i in lon_w]; latlist_w = [float(i) for i in lat_w]\n",
    "lonlist_wneg = [float(i)*-1 for i in lon_w]\n",
    "df_w = pd.DataFrame({'lon': lonlist_w, 'lat': latlist_w,})\n",
    "df_w_plottable = pd.DataFrame({'lon': lonlist_wneg, 'lat': latlist_w,})\n",
    "\n",
    "\n",
    "lonlist_w_plot = [float(i)*-1 for i in lon_w]; latlist_w = [float(i) for i in lat_w]\n",
    "df_w_plot = pd.DataFrame({'lon': lonlist_w_plot, 'lat': latlist_w,})\n",
    "x_w = df_w_plot['lon']; y_w = df_w_plot['lat']"
   ]
  },
  {
   "cell_type": "code",
   "execution_count": 9,
   "metadata": {},
   "outputs": [
    {
     "name": "stdout",
     "output_type": "stream",
     "text": [
      "POLYGON ((69.5 40, 68 40.3, 67.5 40.4, 67 40.6, 66.5 40.8, 66 41.45, 65.7 41.8, 66 42.1, 67 42.1, 67.5 42.1, 68 41.8, 69 41.1, 69.5 41, 69.5 40))\n"
     ]
    }
   ],
   "source": [
    "polygon_w = Polygon(df_w.values)\n",
    "print(polygon_w)"
   ]
  },
  {
   "cell_type": "markdown",
   "metadata": {},
   "source": [
    "### Polygon v is Southern MAB."
   ]
  },
  {
   "cell_type": "code",
   "execution_count": 10,
   "metadata": {},
   "outputs": [],
   "source": [
    "v = open(\"bndmbs.txt\", \"r\", encoding=\"utf-8\")\n",
    "v.read()\n",
    "v = '  37.00   76.00\\n  36.00   75.50\\n  35.50   75.00\\n  36.00   74.75\\n  37.40   74.50\\n  39.50   72.00\\n  40.50   74.00\\n  39.40   74.25\\n  37.00   76.00\\n'\n",
    "output1v = v.split('\\n')\n",
    "\n",
    "newv = [] \n",
    "for string in output1v:\n",
    "    output2v = string.split(' ')\n",
    "    newv.append(output2v)\n",
    "\n",
    "newv = [['', '', '37.00', '', '', '76.00'], ['', '', '36.00', '', '', '75.50'], ['', '', '35.50', '', '', '75.00'], ['', '', '36.00', '', '', '74.75'], ['', '', '37.40', '', '', '74.50'], ['', '', '39.50', '', '', '72.00'], ['', '', '40.50', '', '', '74.00'], ['', '', '39.40', '', '', '74.25'], ['', '', '37.00', '', '', '76.00']]\n",
    "lon_v = []; lat_v = []\n",
    "\n",
    "for i in range(9): \n",
    "    v1 = newv[i][2]\n",
    "    lat_v.append(v1)\n",
    "    v3 = newv[i][5]\n",
    "    lon_v.append(v3)\n",
    "lonlist_v = [float(i) for i in lon_v]; latlist_v = [float(i) for i in lat_v]\n",
    "df_v = pd.DataFrame({'lon': lonlist_v, 'lat': latlist_v,})\n",
    "\n",
    "lonlist_v_plot = [float(i)*-1 for i in lon_v]; latlist_v = [float(i) for i in lat_v]\n",
    "df_v_plot = pd.DataFrame({'lon': lonlist_v_plot, 'lat': latlist_v,})\n",
    "x_v = df_v_plot['lon']; y_v = df_v_plot['lat']\n",
    "\n",
    "\n",
    "lonlist_vneg = [float(i)*-1 for i in lon_v]\n",
    "df_v_plottable = pd.DataFrame({'lon': lonlist_vneg, 'lat': latlist_v,})"
   ]
  },
  {
   "cell_type": "code",
   "execution_count": 11,
   "metadata": {},
   "outputs": [
    {
     "name": "stdout",
     "output_type": "stream",
     "text": [
      "POLYGON ((76 37, 75.5 36, 75 35.5, 74.75 36, 74.5 37.4, 72 39.5, 74 40.5, 74.25 39.4, 76 37))\n"
     ]
    }
   ],
   "source": [
    "polygon_v = Polygon(df_v.values.tolist())\n",
    "print(polygon_v)"
   ]
  },
  {
   "cell_type": "markdown",
   "metadata": {},
   "source": [
    "### Polygon x is Northern MAB."
   ]
  },
  {
   "cell_type": "code",
   "execution_count": 12,
   "metadata": {},
   "outputs": [],
   "source": [
    "x = open(\"bndmbn.txt\", \"r\", encoding=\"utf-8\")\n",
    "x.read()\n",
    "x = '  40.50   74.00\\n  39.50   72.00\\n  40.00   71.40\\n  40.00   69.50\\n  41.00   69.50\\n  41.10   70.00\\n  41.00   72.00\\n  40.50   74.00\\n'\n",
    "output1x = x.split('\\n')\n",
    "\n",
    "newx = [] \n",
    "for string in output1x:\n",
    "    output2x = string.split(' ')\n",
    "    newx.append(output2x)\n",
    "newx = [['', '', '40.50', '', '', '74.00'], ['', '', '39.50', '', '', '72.00'], ['', '', '40.00', '', '', '71.40'], ['', '', '40.00', '', '', '69.50'], ['', '', '41.00', '', '', '69.50'], ['', '', '41.10', '', '', '70.00'], ['', '', '41.00', '', '', '72.00'], ['', '', '40.50', '', '', '74.00']]\n",
    "lon_x = []; lat_x = []\n",
    "\n",
    "for i in range(8): \n",
    "    x1 = newx[i][2]\n",
    "    lat_x.append(x1)\n",
    "    x3 = newx[i][5]\n",
    "    lon_x.append(x3)\n",
    "lonlist_x = [float(i) for i in lon_x]; latlist_x = [float(i) for i in lat_x]\n",
    "df_x = pd.DataFrame({'lon': lonlist_x, 'lat': latlist_x,})\n",
    "\n",
    "lonlist_x_plot = [float(i)*-1 for i in lon_x]; latlist_x = [float(i) for i in lat_x]\n",
    "df_x_plot = pd.DataFrame({'lon': lonlist_x_plot, 'lat': latlist_x,})\n",
    "x_x = df_x_plot['lon']; y_x = df_x_plot['lat']\n",
    "\n",
    "lonlist_xneg = [float(i)*-1 for i in lon_x]\n",
    "df_x_plottable = pd.DataFrame({'lon': lonlist_xneg, 'lat': latlist_x,})"
   ]
  },
  {
   "cell_type": "code",
   "execution_count": 13,
   "metadata": {},
   "outputs": [
    {
     "name": "stdout",
     "output_type": "stream",
     "text": [
      "POLYGON ((74 40.5, 72 39.5, 71.40000000000001 40, 69.5 40, 69.5 41, 70 41.1, 72 41, 74 40.5))\n"
     ]
    }
   ],
   "source": [
    "polygon_x = Polygon(df_x.values)\n",
    "print(polygon_x)"
   ]
  },
  {
   "cell_type": "markdown",
   "metadata": {},
   "source": [
    "## TIMESERIES"
   ]
  },
  {
   "cell_type": "code",
   "execution_count": 845,
   "metadata": {
    "scrolled": true
   },
   "outputs": [
    {
     "name": "stdout",
     "output_type": "stream",
     "text": [
      "1987 ----- 2\n",
      "mean: 37.0\n",
      "std: 15.556349186104045\n",
      "max: 48.0\n",
      "min: 26.0\n",
      "    MLD  bottomd     ratio      lat      lon\n",
      "0  26.0      180  0.144444  42.1833  67.2500\n",
      "1  48.0      180  0.266667  42.1500  66.3333\n",
      "meanfloor: 180\n",
      "mean_for_ratio: 0.20555555555555555\n",
      "std_for_ratio: 0.08642416214502248\n",
      "-----------------------------------\n",
      "***********************\n",
      "[26.0, 48.0]\n",
      "[0.14444444444444443, 0.26666666666666666]\n",
      "[-67.25, -66.3333]\n",
      "[42.1833, 42.15]\n",
      "[67.25, 66.3333]\n",
      "[180, 180]\n",
      "***********************\n",
      "1988 ----- 7\n",
      "mean: 91.71428571428571\n",
      "std: 36.913025188562216\n",
      "max: 146.0\n",
      "min: 50.0\n",
      "     MLD  bottomd     ratio      lat      lon\n",
      "0   55.0       61  0.901639  41.8667  67.9333\n",
      "1   50.0       77  0.649351  42.0333  67.6500\n",
      "2  101.0      189  0.534392  42.1667  67.3833\n",
      "3   78.0       84  0.928571  42.1500  67.0500\n",
      "4   79.0      257  0.307393  42.2500  66.6667\n",
      "5  133.0      162  0.820988  42.1500  66.4500\n",
      "6  146.0      149  0.979866  42.1500  66.1667\n",
      "meanfloor: 139.85714285714286\n",
      "mean_for_ratio: 0.7317427684025607\n",
      "std_for_ratio: 0.24594875568210908\n",
      "-----------------------------------\n",
      "***********************\n",
      "[55.0, 50.0, 101.0, 78.0, 79.0, 133.0, 146.0]\n",
      "[0.9016393442622951, 0.6493506493506493, 0.5343915343915344, 0.9285714285714286, 0.30739299610894943, 0.8209876543209876, 0.9798657718120806]\n",
      "[-67.9333, -67.65, -67.3833, -67.05, -66.6667, -66.45, -66.1667]\n",
      "[41.8667, 42.0333, 42.1667, 42.15, 42.25, 42.15, 42.15]\n",
      "[67.9333, 67.65, 67.3833, 67.05, 66.6667, 66.45, 66.1667]\n",
      "[61, 77, 189, 84, 257, 162, 149]\n",
      "***********************\n",
      "1989 ----- 2\n",
      "mean: 70.0\n",
      "std: 12.727922061357855\n",
      "max: 79.0\n",
      "min: 61.0\n",
      "    MLD  bottomd     ratio      lat      lon\n",
      "0  61.0       62  0.983871  41.8667  67.9333\n",
      "1  79.0       84  0.940476  42.0333  67.6500\n",
      "meanfloor: 73\n",
      "mean_for_ratio: 0.962173579109063\n",
      "std_for_ratio: 0.03068474127268814\n",
      "-----------------------------------\n",
      "***********************\n",
      "[61.0, 79.0]\n",
      "[0.9838709677419355, 0.9404761904761905]\n",
      "[-67.9333, -67.65]\n",
      "[41.8667, 42.0333]\n",
      "[67.9333, 67.65]\n",
      "[62, 84]\n",
      "***********************\n",
      "1990 ----- 4\n",
      "mean: 57.25\n",
      "std: 16.276260831857748\n",
      "max: 81.0\n",
      "min: 44.0\n",
      "    MLD  bottomd     ratio      lat      lon\n",
      "0  52.0       63  0.825397  41.8667  67.9333\n",
      "1  81.0       85  0.952941  42.0333  67.6500\n",
      "2  52.0      106  0.490566  42.1500  66.7833\n",
      "3  44.0       82  0.536585  42.1167  66.4833\n",
      "meanfloor: 84\n",
      "mean_for_ratio: 0.7013723513642303\n",
      "std_for_ratio: 0.2238027378323032\n",
      "-----------------------------------\n",
      "***********************\n",
      "[52.0, 81.0, 52.0, 44.0]\n",
      "[0.8253968253968254, 0.9529411764705882, 0.49056603773584906, 0.5365853658536586]\n",
      "[-67.9333, -67.65, -66.7833, -66.4833]\n",
      "[41.8667, 42.0333, 42.15, 42.1167]\n",
      "[67.9333, 67.65, 66.7833, 66.4833]\n",
      "[63, 85, 106, 82]\n",
      "***********************\n",
      "1991 ----- 7\n",
      "mean: 82.0\n",
      "std: 57.10224747474189\n",
      "max: 197.0\n",
      "min: 13.0\n",
      "     MLD  bottomd     ratio      lat      lon\n",
      "0   57.0       62  0.919355  41.8633  67.9350\n",
      "1   76.0      188  0.404255  42.0400  67.8700\n",
      "2   78.0       89  0.876404  42.0300  67.6433\n",
      "3  197.0      210  0.938095  42.1633  67.7483\n",
      "4   97.0      188  0.515957  42.1667  67.3533\n",
      "5   13.0      102  0.127451  42.1467  66.7817\n",
      "6   56.0       82  0.682927  42.1183  66.4850\n",
      "meanfloor: 131.57142857142858\n",
      "mean_for_ratio: 0.6377778781149763\n",
      "std_for_ratio: 0.30503107404375124\n",
      "-----------------------------------\n",
      "***********************\n",
      "[57.0, 76.0, 78.0, 197.0, 97.0, 13.0, 56.0]\n",
      "[0.9193548387096774, 0.40425531914893614, 0.8764044943820225, 0.9380952380952381, 0.5159574468085106, 0.12745098039215685, 0.6829268292682927]\n",
      "[-67.935, -67.87, -67.6433, -67.7483, -67.3533, -66.7817, -66.485]\n",
      "[41.8633, 42.04, 42.03, 42.1633, 42.1667, 42.1467, 42.1183]\n",
      "[67.935, 67.87, 67.6433, 67.7483, 67.3533, 66.7817, 66.485]\n",
      "[62, 188, 89, 210, 188, 102, 82]\n",
      "***********************\n",
      "1992 ----- 4\n",
      "mean: 53.0\n",
      "std: 26.242459234352765\n",
      "max: 76.0\n",
      "min: 26.0\n",
      "    MLD  bottomd     ratio      lat      lon\n",
      "0  26.0       64  0.406250  41.8650  67.9333\n",
      "1  75.0       79  0.949367  42.0283  67.6517\n",
      "2  35.0      105  0.333333  42.1500  66.7867\n",
      "3  76.0       82  0.926829  42.1183  66.4850\n",
      "meanfloor: 82.5\n",
      "mean_for_ratio: 0.6539449225584028\n",
      "std_for_ratio: 0.32958796911025157\n",
      "-----------------------------------\n",
      "***********************\n",
      "[26.0, 75.0, 35.0, 76.0]\n",
      "[0.40625, 0.9493670886075949, 0.3333333333333333, 0.926829268292683]\n",
      "[-67.9333, -67.6517, -66.7867, -66.485]\n",
      "[41.865, 42.0283, 42.15, 42.1183]\n",
      "[67.9333, 67.6517, 66.7867, 66.485]\n",
      "[64, 79, 105, 82]\n",
      "***********************\n",
      "1993 ----- 5\n",
      "mean: 32.6\n",
      "std: 7.861297602813419\n",
      "max: 44.0\n",
      "min: 22.0\n",
      "    MLD  bottomd     ratio      lat      lon\n",
      "0  44.0       64  0.687500  41.8633  67.9333\n",
      "1  32.0      186  0.172043  42.0433  67.8667\n",
      "2  34.0       79  0.430380  42.0283  67.6483\n",
      "3  31.0      105  0.295238  42.1500  66.7833\n",
      "4  22.0       82  0.268293  42.1200  66.4917\n",
      "meanfloor: 103.2\n",
      "mean_for_ratio: 0.37069070715061114\n",
      "std_for_ratio: 0.19973123740903898\n",
      "-----------------------------------\n",
      "***********************\n",
      "[44.0, 32.0, 34.0, 31.0, 22.0]\n",
      "[0.6875, 0.17204301075268819, 0.43037974683544306, 0.29523809523809524, 0.2682926829268293]\n",
      "[-67.9333, -67.8667, -67.6483, -66.7833, -66.4917]\n",
      "[41.8633, 42.0433, 42.0283, 42.15, 42.12]\n",
      "[67.9333, 67.8667, 67.6483, 66.7833, 66.4917]\n",
      "[64, 186, 79, 105, 82]\n",
      "***********************\n"
     ]
    }
   ],
   "source": [
    "finalfinaldepth = []; finalfinalratio = []; filteredMLDlist = []; meanfilteredMLDlist = []; stdfilteredMLDlist = []; years = []; bananasplitmean = []; bananasplitstd = [];floormean = [];floorstd = []; latfinal = []; lonfinal = []; ratiofinal = [];bottomdfinal = []; filteredfloorslist = [];zi_listofarrays = []\n",
    "for year in range(1977,2020):\n",
    "    filename = 'casts_{}.mat'.format(year)\n",
    "    file = scipy.io.loadmat(filename,squeeze_me=True)\n",
    "    npfile = file['casts_{}'.format(year)]\n",
    "    finaldepth = []; finallat = [];finallon = []\n",
    "    lat_intermediate = []; lon_intermediate = []; p_intermediate = []; t_intermediate = []; yd_intermediate = []\n",
    "    seasonyeardepth = []; seasonyeartemp = [];seasonyearsal = []; counterii = []; floors = []; floor_intermediate = []; s_intermediate = [];seasonyearsal = []; lat = []; lon = []; lonneg = []\n",
    "    \n",
    "    for i in range(len(npfile)):\n",
    "        yd = npfile[i]['yd']\n",
    "        p = npfile[i]['p']\n",
    "        s = npfile[i]['s']\n",
    "        t = npfile[i]['t']\n",
    "        gear = npfile[i]['gear']\n",
    "        floordepth = npfile[i]['depth']\n",
    "        if gear == 'Bottle':\n",
    "            pass\n",
    "        elif yd > 334 and yd <= 365:\n",
    "#         elif yd > 334 and yd <= 365 or yd >= 0 and yd <= 59:\n",
    "            lat_intermediate.append(npfile[i]['lat'])\n",
    "            lon_intermediate.append(npfile[i]['lon'])\n",
    "            p_intermediate.append(npfile[i]['p'])\n",
    "            t_intermediate.append(npfile[i]['t'])\n",
    "            yd_intermediate.append(npfile[i]['yd'])\n",
    "            floor_intermediate.append(npfile[i]['depth'])\n",
    "            s_intermediate.append(npfile[i]['s'])\n",
    "    month_df = pd.DataFrame({'day': yd_intermediate,'lon': lon_intermediate,'lat': lat_intermediate, 'p': p_intermediate, 't': t_intermediate, \n",
    "                            'depth': floor_intermediate, 's': s_intermediate})\n",
    "    newdf = pd.DataFrame({'lon': lon_intermediate,'lat': lat_intermediate})\n",
    "    \n",
    "    for ii in range(len(month_df)):\n",
    "        new = newdf.iloc[ii].values\n",
    "        point = Point(new)\n",
    "        if isinstance(month_df['p'].iloc[ii], int) or isinstance(month_df['p'].iloc[ii], float) or isinstance(month_df['t'].iloc[ii], int) or isinstance(month_df['t'].iloc[ii], float):\n",
    "            pass\n",
    "        elif polygon_y.contains(point) == True:\n",
    "#         elif polygon_x.contains(point) == True or polygon_y.contains(point) == True or polygon_t.contains(point) == True or polygon_w.contains(point) == True or polygon_v.contains(point) == True:\n",
    "            pt_df = pd.DataFrame({'p': month_df['p'].iloc[ii],'temp': month_df['t'].iloc[ii],'sal': month_df['s'].iloc[ii]}) \n",
    "            df_ptsnew = pt_df.dropna()\n",
    "            df_final = pd.DataFrame(df_ptsnew.values)\n",
    "            l=[i for i in df_final[0] if i<=6]\n",
    "            if len(l) > 0:\n",
    "                surfaceval = []\n",
    "                numrange = []\n",
    "                for x in range(len(l)):\n",
    "                    val = df_final[1][x]\n",
    "                    numrange.append(x)\n",
    "                    surfaceval.append(val)      \n",
    "            surfacevalmean = statistics.mean(surfaceval)\n",
    "            tempfin = []\n",
    "            pressurefin = []\n",
    "            salfin = []\n",
    "            for iii in range(numrange[-1],len(df_final)):\n",
    "                tempfin.append(df_final[1][iii])\n",
    "                pressurefin.append(df_final[0][iii])\n",
    "                salfin.append(df_final[2][iii])\n",
    "            d = {'temp': list(reversed(tempfin)), 'sal': list(reversed(salfin)), 'pressure': list(reversed(pressurefin))}\n",
    "            dunreversed = {'temp': list(tempfin), 'sal': list(salfin), 'pressure': list(pressurefin)}\n",
    "            dffinunreversed = pd.DataFrame(dunreversed)\n",
    "            dffin = pd.DataFrame(d)\n",
    "            \n",
    "            for ix in range(len(dffinunreversed)):\n",
    "                if dffinunreversed.at[len(dffinunreversed)-1,'temp'] <= (surfacevalmean + 0.2) and dffinunreversed.at[len(dffinunreversed)-1,'temp'] >= (surfacevalmean - 0.2):\n",
    "                    seasonyeardepth.append(dffinunreversed.at[len(dffinunreversed)-1,'pressure'])\n",
    "                    seasonyeartemp.append(dffinunreversed.at[len(dffinunreversed)-1,'temp'])\n",
    "                    seasonyearsal.append(dffinunreversed.at[len(dffinunreversed)-1,'sal'])\n",
    "                    floors.append(month_df['depth'].iloc[ii])\n",
    "                    lat.append(month_df['lat'].iloc[ii])\n",
    "                    lon.append(month_df['lon'].iloc[ii])\n",
    "                    lonneg.append(month_df['lon'].iloc[ii]*-1)\n",
    "                    break\n",
    "                elif dffinunreversed.at[ix,'temp'] >= (surfacevalmean - 0.2) and dffinunreversed.at[ix,'temp'] <= (surfacevalmean + 0.2):\n",
    "                    pass\n",
    "                else:\n",
    "                    if dffinunreversed.at[ix,'pressure'] >= (month_df['depth'].iloc[ii] - 6): # ALL MIXED\n",
    "                        if dffinunreversed.at[ix,'pressure'] == dffinunreversed.at[len(dffinunreversed)-1,'pressure']:\n",
    "                            if dffinunreversed.at[ix,'pressure'] <= (month_df['depth'].iloc[ii] - 15):\n",
    "                                pass\n",
    "                            else:\n",
    "                                seasonyeardepth.append(dffinunreversed.at[ix,'pressure'])\n",
    "                                seasonyeartemp.append(dffinunreversed.at[ix,'temp'])\n",
    "                                seasonyearsal.append(dffinunreversed.at[ix,'sal'])\n",
    "                                floors.append(month_df['depth'].iloc[ii])\n",
    "                                lat.append(month_df['lat'].iloc[ii])\n",
    "                                lon.append(month_df['lon'].iloc[ii])\n",
    "                                lonneg.append(month_df['lon'].iloc[ii]*-1)\n",
    "                        else:\n",
    "                            seasonyeardepth.append(dffinunreversed.at[ix,'pressure'])\n",
    "                            seasonyeartemp.append(dffinunreversed.at[ix,'temp'])\n",
    "                            seasonyearsal.append(dffinunreversed.at[ix,'sal'])\n",
    "                            floors.append(month_df['depth'].iloc[ii])\n",
    "                            lat.append(month_df['lat'].iloc[ii])\n",
    "                            lon.append(month_df['lon'].iloc[ii])\n",
    "                            lonneg.append(month_df['lon'].iloc[ii]*-1)\n",
    "                    elif dffinunreversed.at[ix,'pressure'] == 0:\n",
    "                        pass\n",
    "                    elif ix == 0: \n",
    "                        seasonyeardepth.append(dffinunreversed.at[ix,'pressure'])\n",
    "                        seasonyeartemp.append(dffinunreversed.at[ix,'temp'])\n",
    "                        seasonyearsal.append(dffinunreversed.at[ix,'sal'])\n",
    "                        floors.append(month_df['depth'].iloc[ii])\n",
    "                        lat.append(month_df['lat'].iloc[ii])\n",
    "                        lon.append(month_df['lon'].iloc[ii])\n",
    "                        lonneg.append(month_df['lon'].iloc[ii]*-1)\n",
    "                    else: # Well-defined mixed layer detected\n",
    "                        seasonyeardepth.append(dffinunreversed.at[ix,'pressure'])\n",
    "                        seasonyeartemp.append(dffinunreversed.at[ix,'temp'])\n",
    "                        seasonyearsal.append(dffinunreversed.at[ix,'sal'])\n",
    "                        floors.append(month_df['depth'].iloc[ii])\n",
    "                        lat.append(month_df['lat'].iloc[ii])\n",
    "                        lon.append(month_df['lon'].iloc[ii])\n",
    "                        lonneg.append(month_df['lon'].iloc[ii]*-1)\n",
    "                    break\n",
    "            \n",
    "    meanseasonyeardepth_ = []; stdseasonyeardepth_ = []\n",
    "    if len(seasonyeardepth) > 0:\n",
    "        print(year, '-----',len(seasonyeardepth))\n",
    "#         print(seasonyeardepth)\n",
    "#         print(floors)\n",
    "        bottomandmixeddepths = pd.DataFrame({'MLD': seasonyeardepth,'bottomd': floors, 'lat': lat, 'lon':lon})\n",
    "#         bottomandmixeddepths = bottomandmixeddepths[bottomandmixeddepths.bottomd >= 30]\n",
    "#         bottomandmixeddepths = bottomandmixeddepths[bottomandmixeddepths.bottomd <= 100]\n",
    "#         print(bottomandmixeddepths)\n",
    "        print('mean:', statistics.mean(bottomandmixeddepths['MLD'].tolist()))\n",
    "        meanseasonyeardepth_.append(statistics.mean(bottomandmixeddepths['MLD'].tolist()))\n",
    "        if len(seasonyeardepth) == 1:\n",
    "            stat = 0\n",
    "            stdseasonyeardepth_.append(stat)\n",
    "            print('std:', stat)\n",
    "        else:\n",
    "            stdseasonyeardepth_.append(statistics.stdev(bottomandmixeddepths['MLD'].tolist()))\n",
    "            print('std:', statistics.stdev(bottomandmixeddepths['MLD'].tolist()))\n",
    "        print('max:',max(bottomandmixeddepths['MLD'].tolist()))\n",
    "        print('min:',min(bottomandmixeddepths['MLD'].tolist()))\n",
    "        bananasplit = [int(b) / int(m) for b,m in zip(bottomandmixeddepths['MLD'].tolist(), bottomandmixeddepths['bottomd'].tolist())]\n",
    "        bottomandmixeddepthsfull = pd.DataFrame({'MLD': seasonyeardepth,'bottomd': floors, 'ratio': bananasplit, 'lat': lat, 'lon':lon})\n",
    "#         bottomandmixeddepthsfullnew = bottomandmixeddepthsfull[bottomandmixeddepthsfull.ratio <= (statistics.mean(bananasplit)-2*statistics.stdev(bananasplit))]\n",
    "        print(bottomandmixeddepthsfull)\n",
    "#         strangelat = bottomandmixeddepthsfullnew['lat'].tolist() # added just now\n",
    "#         strangebottomd = bottomandmixeddepthsfullnew['bottomd'].tolist() # added just now\n",
    "#         strangelon = bottomandmixeddepthsfullnew['lon'].tolist() # added just now\n",
    "#         strangeratio = bottomandmixeddepthsfullnew['ratio'].tolist() # added just now\n",
    "#         ratiofinal.append(strangeratio) # added just now\n",
    "#         bottomdfinal.append(strangebottomd)\n",
    "#         latfinal.append(strangelat) # added just now\n",
    "#         lonfinal.append(strangelon) # added just now\n",
    "#         print(bottomandmixeddepthsfullnew)\n",
    "#         print(bottomandmixeddepthsfull)\n",
    "        print('meanfloor:', statistics.mean(bottomandmixeddepths['bottomd'].tolist()))\n",
    "#         print('stdfloor:', statistics.stdev(bottomandmixeddepths['bottomd'].tolist()))\n",
    "        floormean.append(statistics.mean(bottomandmixeddepths['bottomd'].tolist()))\n",
    "#         floorstd.append(statistics.mean(bottomandmixeddepths['bottomd'].tolist()))\n",
    "#         print(bananasplit)\n",
    "        print('mean_for_ratio:', statistics.mean(bananasplit))\n",
    "        bananasplitmean_ = []\n",
    "        bananasplitmean_.append(statistics.mean(bananasplit))\n",
    "        banansplitstd_ = []\n",
    "        if len(bananasplit) == 1:\n",
    "            stat = 0\n",
    "            banansplitstd_.append(stat)\n",
    "            print('std_for_ratio:', stat)\n",
    "        else:\n",
    "            banansplitstd_.append(statistics.stdev(bananasplit))\n",
    "            print('std_for_ratio:', statistics.stdev(bananasplit))\n",
    "        print('-----------------------------------')\n",
    "#         meanseasonyeardepth_.append(statistics.mean(seasonyeardepth))\n",
    "#         if len(seasonyeardepth) == 1:\n",
    "#             stat = 0\n",
    "#             stdseasonyeardepth_.append(stat)\n",
    "#         else:\n",
    "# #             print(statistics.stdev(seasonyeardepth))\n",
    "#             stdseasonyeardepth_.append(statistics.stdev(seasonyeardepth))\n",
    "#         meanfilteredMLDlist.append(meanseasonyeardepth_)\n",
    "#         stdfilteredMLDlist.append(stdseasonyeardepth_)\n",
    "        years.append(year)\n",
    "        meanfilteredMLDlist.append(meanseasonyeardepth_)\n",
    "        stdfilteredMLDlist.append(stdseasonyeardepth_)\n",
    "        bananasplitstd.append(banansplitstd_)\n",
    "        bananasplitmean.append(bananasplitmean_)\n",
    "        \n",
    "        filteredMLDlist.append(bottomandmixeddepths['MLD'].tolist())\n",
    "        filteredfloorslist.append(bottomandmixeddepths['bottomd'].tolist())\n",
    "        \n",
    "        latfinal.append(bottomandmixeddepths['lat'].tolist())\n",
    "        lonfinal.append(bottomandmixeddepths['lon'].tolist())\n",
    "        finaldepth.append(seasonyeardepth)\n",
    "#         print('***********************')\n",
    "#         print(finaldepth)\n",
    "#         print(latfinal)\n",
    "#         print(lonfinal)\n",
    "        print('***********************')\n",
    "        print(seasonyeardepth)\n",
    "        print(bananasplit)\n",
    "        print(lonneg)\n",
    "        print(lat)\n",
    "        print(lon)\n",
    "        print(floors)\n",
    "        finalfinaldepth.append(seasonyeardepth)\n",
    "        finalfinalratio.append(bananasplit)\n",
    "        print('***********************')\n",
    "        \n",
    "#         ones = [1]* len(lon) \n",
    "#         name = pd.DataFrame(list(zip(ones, floors,bananasplit,seasonyeardepth,lonneg,lat)),columns = ['ones','bottom','ratio','depth','lon','lat'])\n",
    "# #         print(name)\n",
    "        \n",
    "#         x = name['lon']\n",
    "#         y = name['lat']\n",
    "# #         z = name['ones']\n",
    "#         z = name['depth']\n",
    "# #         z = name['ratio']\n",
    "# #         z = name['bottom']\n",
    "        \n",
    "#         xi = np.arange(-76,-65,0.5)\n",
    "#         yi = np.arange(35,46,0.5)\n",
    "#         xi,yi = np.meshgrid(xi,yi)\n",
    "#         XY = np.dstack((xi, yi))\n",
    "        \n",
    "#         zi = griddata((x,y),z,(xi,yi),method='linear')\n",
    "#         zi_listofarrays.append(zi)"
   ]
  },
  {
   "cell_type": "code",
   "execution_count": 846,
   "metadata": {},
   "outputs": [
    {
     "name": "stdout",
     "output_type": "stream",
     "text": [
      "7\n",
      "7\n",
      "31\n",
      "31\n",
      "65.61290322580645\n",
      "39.13283141587963\n",
      "0.619252433109535\n",
      "0.29294491463495437\n"
     ]
    }
   ],
   "source": [
    "print(len(finalfinaldepth))\n",
    "print(len(finalfinalratio))\n",
    "flat_finalfinaldepth = sum(finalfinaldepth, [])\n",
    "flat_finalfinalratio = sum(finalfinalratio, [])\n",
    "print(len(flat_finalfinaldepth))\n",
    "print(len(flat_finalfinalratio))\n",
    "januarydepthstd = statistics.stdev(flat_finalfinaldepth)\n",
    "januarydepthmean = statistics.mean(flat_finalfinaldepth)\n",
    "januaryratiostd = statistics.stdev(flat_finalfinalratio)\n",
    "januaryratiomean = statistics.mean(flat_finalfinalratio)\n",
    "print(januarydepthmean)\n",
    "print(januarydepthstd)\n",
    "print(januaryratiomean)\n",
    "print(januaryratiostd)"
   ]
  },
  {
   "cell_type": "code",
   "execution_count": 847,
   "metadata": {},
   "outputs": [
    {
     "name": "stdout",
     "output_type": "stream",
     "text": [
      "7\n",
      "7\n",
      "7\n",
      "7\n",
      "7\n",
      "7\n"
     ]
    }
   ],
   "source": [
    "print(len(years))\n",
    "print(len(meanfilteredMLDlist))\n",
    "print(len(stdfilteredMLDlist))\n",
    "print(len(bananasplitstd))\n",
    "print(len(bananasplitmean))\n",
    "print(len(floormean))"
   ]
  },
  {
   "cell_type": "code",
   "execution_count": 848,
   "metadata": {},
   "outputs": [
    {
     "name": "stdout",
     "output_type": "stream",
     "text": [
      "7\n",
      "7\n",
      "7\n",
      "7\n",
      "7\n"
     ]
    }
   ],
   "source": [
    "flat_bananasplitmean = sum(bananasplitmean, [])\n",
    "print(len(flat_bananasplitmean))\n",
    "flat_bananasplitstd = sum(bananasplitstd, [])\n",
    "print(len(flat_bananasplitstd))\n",
    "# flat_filteredMLDlist = sum(filteredMLDlist, [])\n",
    "# print(len(flat_filteredMLDlist))\n",
    "flat_meanfilteredMLDlist = sum(meanfilteredMLDlist, [])\n",
    "print(len(meanfilteredMLDlist))\n",
    "flat_stdfilteredMLDlist = sum(stdfilteredMLDlist, [])\n",
    "print(len(flat_stdfilteredMLDlist))\n",
    "print(len(years))"
   ]
  },
  {
   "cell_type": "code",
   "execution_count": 849,
   "metadata": {},
   "outputs": [
    {
     "name": "stdout",
     "output_type": "stream",
     "text": [
      "[15.556349186104045, 36.913025188562216, 12.727922061357855, 16.276260831857748, 57.10224747474189, 26.242459234352765, 7.861297602813419]\n"
     ]
    }
   ],
   "source": [
    "print(flat_stdfilteredMLDlist)"
   ]
  },
  {
   "cell_type": "code",
   "execution_count": 850,
   "metadata": {},
   "outputs": [
    {
     "name": "stdout",
     "output_type": "stream",
     "text": [
      "[37.0, 91.71428571428571, 70.0, 57.25, 82.0, 53.0, 32.6]\n"
     ]
    }
   ],
   "source": [
    "print(flat_meanfilteredMLDlist)"
   ]
  },
  {
   "cell_type": "code",
   "execution_count": 851,
   "metadata": {},
   "outputs": [
    {
     "name": "stdout",
     "output_type": "stream",
     "text": [
      "mean: 60.50918367346939\n"
     ]
    }
   ],
   "source": [
    "print('mean:',statistics.mean(flat_meanfilteredMLDlist))"
   ]
  },
  {
   "cell_type": "code",
   "execution_count": 852,
   "metadata": {},
   "outputs": [
    {
     "name": "stdout",
     "output_type": "stream",
     "text": [
      "std: 24.66850879711285\n"
     ]
    }
   ],
   "source": [
    "print('std:',statistics.mean(flat_stdfilteredMLDlist))"
   ]
  },
  {
   "cell_type": "code",
   "execution_count": null,
   "metadata": {},
   "outputs": [],
   "source": []
  },
  {
   "cell_type": "code",
   "execution_count": 360,
   "metadata": {},
   "outputs": [
    {
     "name": "stdout",
     "output_type": "stream",
     "text": [
      "[0.3223248081869434, 0.22472612273891496, 0.22112516958773293, 0.3214256545958259, 0.2432532119648501, 0.2591375011525319, 0.2966756562778075, 0.272549987413872, 0.2979592913919942, 0.2822567935233443, 0.21765344606887715, 0.26565073103495496, 0.23068242144955023, 0.24003908481155414, 0.2400223241752343, 0.27478969383897006, 0.25631156368191066, 0.26382865201080147, 0.26178800555794024, 0.22634405477008204, 0.26606280858731823, 0.2813907488142591, 0.2832817996784945, 0.31576990646018654, 0.3106479648489088, 0.26108809719875453, 0.2639728436251046, 0.26373569897117216, 0.27572690983954384, 0.2798686711305274, 0.2926136655362705, 0.2737508202529949, 0.24544176612433516]\n"
     ]
    }
   ],
   "source": [
    "print(flat_bananasplitstd)"
   ]
  },
  {
   "cell_type": "code",
   "execution_count": 361,
   "metadata": {},
   "outputs": [
    {
     "name": "stdout",
     "output_type": "stream",
     "text": [
      "[0.49982047558817566, 0.6844558466700595, 0.7300607956096801, 0.5510923078218704, 0.49034492026124066, 0.5424866629260602, 0.5059154442634274, 0.36182328633544125, 0.5902431650456718, 0.4364087329008624, 0.41926368954407206, 0.44232767492155556, 0.5285681065468227, 0.43202189566665655, 0.37254687249148843, 0.48510186821111956, 0.39423453892903376, 0.42767754485674986, 0.38537332079517955, 0.3495193276568464, 0.4377138269412342, 0.5292878179240335, 0.48364438062761894, 0.49769464004764125, 0.3810724208721931, 0.3954683692716853, 0.45625522626806436, 0.4888856962050422, 0.43686034237436533, 0.45261518544746476, 0.6095614783366555, 0.4967700339541586, 0.3711757273807868]\n"
     ]
    }
   ],
   "source": [
    "print(flat_bananasplitmean)"
   ]
  },
  {
   "cell_type": "code",
   "execution_count": 362,
   "metadata": {},
   "outputs": [],
   "source": [
    "def best_fit(X, Y):\n",
    "    xbar = sum(X)/len(X)\n",
    "    ybar = sum(Y)/len(Y)\n",
    "    n = len(X) # or len(Y)\n",
    "    numer = sum([xi*yi for xi,yi in zip(X, Y)]) - n * xbar * ybar\n",
    "    denum = sum([xi**2 for xi in X]) - n * xbar**2\n",
    "    b = numer / denum\n",
    "    a = ybar - b * xbar\n",
    "    print('best fit line:\\ny = {:.2f} + {:.2f}x'.format(a, b))\n",
    "    return a, b"
   ]
  },
  {
   "cell_type": "code",
   "execution_count": 363,
   "metadata": {
    "scrolled": true
   },
   "outputs": [
    {
     "name": "stdout",
     "output_type": "stream",
     "text": [
      "best fit line:\n",
      "y = -66.29 + 0.04x\n"
     ]
    },
    {
     "data": {
      "image/png": "[encoded data removed]",
      "text/plain": [
       "<Figure size 1440x360 with 1 Axes>"
      ]
     },
     "metadata": {},
     "output_type": "display_data"
    }
   ],
   "source": [
    "from matplotlib.offsetbox import AnchoredText\n",
    "\n",
    "x = years\n",
    "y = flat_meanfilteredMLDlist #[100 * i for i in flat_bananasplitmean]\n",
    "e = flat_stdfilteredMLDlist #[100 * i for i in flat_bananasplitstd]\n",
    "\n",
    "plt.style.use('seaborn-white')\n",
    "plt.figure(figsize=(20, 5))\n",
    "plt.ylim(-30,120)\n",
    "# plt.ylim(0,20)\n",
    "# plt.ylim(-40,120)\n",
    "plt.xlim(1980,2020)\n",
    "\n",
    "plt.scatter(x, y, marker='o', c='blue')\n",
    "plt.errorbar(x, y, e, linestyle='None', marker='^',color='blue',alpha= 0.6)\n",
    "plt.plot(x,y,linewidth = 2.0, linestyle = '-', c='blue', alpha = 0.8)\n",
    "\n",
    "plt.ylabel('Mixed layer depth (m)', fontsize = 20)\n",
    "plt.grid(b=True, which='major', color='grey', linestyle='--',alpha = 0.8)\n",
    "# plt.plot(x,y,linewidth = 2.0, linestyle = '--', c='blue', alpha = 0.8)\n",
    "plt.xticks([1980,1982,1984,1986,1988,1990,1992,1994,1996,1998,2000,2002,2004,2006,2008,2010,2012,2014,2016,2018,2020], rotation='vertical',fontsize = 15)\n",
    "plt.yticks([-20,0,20,40,60,80,100,120],fontsize = 15)\n",
    "# plt.yticks([0,5,10,15,20],fontsize = 15)\n",
    "\n",
    "\n",
    "# plt.yticks([-5,0,5,10,15,20,25],fontsize = 15)\n",
    "# plt.yticks([-15,-10,-5,0,5,10,15,20,25,30,35],fontsize = 15)\n",
    "\n",
    "\n",
    "# plt.yticks([0,5,10,15,20,25],fontsize = 15)\n",
    "# # plt.axhline(y=0, color='black', linestyle='-')\n",
    "plt.title('y = -119.94 + 0.07x',fontsize = 22)\n",
    "a, b = best_fit(x, y)\n",
    "yfit = [a + b * xi for xi in x]\n",
    "# plt.plot(x, yfit)\n",
    "# a = AnchoredText(\"5.82 - 0.00x\".format(3), loc=2, pad=0.4, borderpad=1)\n",
    "plt.plot(np.unique(x), np.poly1d(np.polyfit(x, y, 1))(np.unique(x)),c='red',linewidth = 2,linestyle = '--')\n",
    "# plt.gca().add_artist(a)\n",
    "plt.savefig('timeseries_winter(JFM)_WesternGoM_withstd')\n",
    "plt.show()"
   ]
  },
  {
   "cell_type": "code",
   "execution_count": 364,
   "metadata": {},
   "outputs": [],
   "source": [
    "y = flat_meanfilteredMLDlist #[100 * i for i in flat_bananasplitmean]\n",
    "e = flat_stdfilteredMLDlist #[100 * i for i in flat_bananasplitstd]"
   ]
  },
  {
   "cell_type": "code",
   "execution_count": 365,
   "metadata": {},
   "outputs": [
    {
     "name": "stdout",
     "output_type": "stream",
     "text": [
      "[30.8125, 25.73076923076923, 32.90243902439025, 27.022222222222222, 21.52054794520548, 23.01492537313433, 20.380281690140844, 16.076190476190476, 23.0, 16.08, 17.87037037037037, 20.35135135135135, 24.15068493150685, 21.441558441558442, 15.780821917808218, 24.333333333333332, 17.25925925925926, 18.970588235294116, 20.25925925925926, 16.075949367088608, 19.45205479452055, 25.819148936170212, 27.55, 26.333333333333332, 19.068493150684933, 22.658227848101266, 25.83076923076923, 28.074626865671643, 23.901408450704224, 25.55223880597015, 33.30769230769231, 23.880597014925375, 23.444444444444443]\n"
     ]
    }
   ],
   "source": [
    "print(y)"
   ]
  },
  {
   "cell_type": "code",
   "execution_count": 366,
   "metadata": {},
   "outputs": [
    {
     "name": "stdout",
     "output_type": "stream",
     "text": [
      "[21.95807956230499, 12.081581659063326, 13.525540429219049, 15.368931010452236, 12.69635729587329, 12.230727000014836, 11.57135156593102, 7.911402722671438, 12.790161660202644, 8.148719694102947, 10.140608251445975, 13.417870349805003, 14.33010742077741, 13.86446945716916, 10.401985087449075, 18.564957787661616, 10.455593930736047, 14.23467553927789, 19.144044620832986, 12.020038986133642, 13.168819545395026, 16.67782170735467, 15.874746478529216, 13.764083696345356, 15.273732687128877, 11.794051168833409, 13.925661149889383, 12.068382725166014, 10.919386337515839, 12.613465126108771, 11.568125970162084, 11.411746192118201, 17.0945897874152]\n"
     ]
    }
   ],
   "source": [
    "print(e)"
   ]
  },
  {
   "cell_type": "code",
   "execution_count": 367,
   "metadata": {},
   "outputs": [
    {
     "name": "stdout",
     "output_type": "stream",
     "text": [
      "[1987, 1988, 1989, 1990, 1991, 1992, 1993, 1994, 1995, 1996, 1997, 1998, 1999, 2000, 2001, 2002, 2003, 2004, 2005, 2006, 2007, 2008, 2009, 2010, 2011, 2012, 2013, 2014, 2015, 2016, 2017, 2018, 2019]\n"
     ]
    }
   ],
   "source": [
    "print(years)"
   ]
  },
  {
   "cell_type": "code",
   "execution_count": 368,
   "metadata": {},
   "outputs": [],
   "source": [
    "y = [100 * i for i in flat_bananasplitmean]\n",
    "e = [100 * i for i in flat_bananasplitstd]"
   ]
  },
  {
   "cell_type": "code",
   "execution_count": 369,
   "metadata": {},
   "outputs": [
    {
     "name": "stdout",
     "output_type": "stream",
     "text": [
      "[49.98204755881757, 68.44558466700596, 73.006079560968, 55.10923078218703, 49.03449202612406, 54.24866629260602, 50.591544426342736, 36.182328633544124, 59.024316504567174, 43.64087329008624, 41.92636895440721, 44.23276749215555, 52.85681065468227, 43.20218956666565, 37.254687249148844, 48.51018682111196, 39.423453892903375, 42.767754485674985, 38.53733207951795, 34.95193276568464, 43.77138269412342, 52.92878179240334, 48.36443806276189, 49.769464004764124, 38.10724208721931, 39.546836927168535, 45.625522626806436, 48.88856962050422, 43.68603423743653, 45.26151854474648, 60.956147833665554, 49.67700339541586, 37.11757273807868]\n"
     ]
    }
   ],
   "source": [
    "print(y)"
   ]
  },
  {
   "cell_type": "code",
   "execution_count": 370,
   "metadata": {},
   "outputs": [
    {
     "name": "stdout",
     "output_type": "stream",
     "text": [
      "[32.23248081869434, 22.472612273891496, 22.11251695877329, 32.14256545958259, 24.32532119648501, 25.913750115253194, 29.66756562778075, 27.254998741387197, 29.795929139199416, 28.22567935233443, 21.765344606887716, 26.565073103495497, 23.068242144955022, 24.003908481155413, 24.00223241752343, 27.478969383897006, 25.631156368191064, 26.382865201080147, 26.178800555794023, 22.634405477008205, 26.60628085873182, 28.139074881425906, 28.328179967849447, 31.576990646018654, 31.064796484890877, 26.108809719875453, 26.397284362510458, 26.373569897117218, 27.572690983954384, 27.98686711305274, 29.26136655362705, 27.37508202529949, 24.544176612433517]\n"
     ]
    }
   ],
   "source": [
    "print(e)"
   ]
  },
  {
   "cell_type": "code",
   "execution_count": 35,
   "metadata": {},
   "outputs": [
    {
     "name": "stdout",
     "output_type": "stream",
     "text": [
      "slope: 0.097745    pvalue: 0.687816\n",
      "R-squared: 0.007148\n"
     ]
    }
   ],
   "source": [
    "import matplotlib.pyplot as plt\n",
    "from scipy import stats\n",
    "\n",
    "slope, intercept, r_value, p_value, std_err = stats.linregress(x, y)\n",
    "print(\"slope: %f    pvalue: %f\" % (slope, p_value))\n",
    "print(\"R-squared: %f\" % r_value**2)"
   ]
  },
  {
   "cell_type": "code",
   "execution_count": 601,
   "metadata": {},
   "outputs": [
    {
     "name": "stdout",
     "output_type": "stream",
     "text": [
      "best fit line:\n",
      "y = -143.43 + 0.08x\n"
     ]
    },
    {
     "data": {
      "image/png": "[encoded data removed]",
      "text/plain": [
       "<Figure size 1440x360 with 1 Axes>"
      ]
     },
     "metadata": {},
     "output_type": "display_data"
    }
   ],
   "source": [
    "from matplotlib.offsetbox import AnchoredText\n",
    "\n",
    "x = years\n",
    "y = [100 * i for i in flat_bananasplitmean]\n",
    "e = [100 * i for i in flat_bananasplitstd]\n",
    "\n",
    "plt.style.use('seaborn-white')\n",
    "plt.figure(figsize=(20, 5))\n",
    "plt.ylim(-30,120)\n",
    "# plt.ylim(-5,60)\n",
    "plt.xlim(1980,2020)\n",
    "\n",
    "plt.scatter(x, y, marker='o', c='blue')\n",
    "plt.errorbar(x, y, e, linestyle='None', marker='^',color='blue',alpha= 0.6)\n",
    "plt.plot(x,y,linewidth = 2.0, linestyle = '-', c='blue', alpha = 0.8)\n",
    "\n",
    "plt.ylabel('Mixed layer depth / bottom depth (%)', fontsize = 20)\n",
    "plt.grid(b=True, which='major', color='grey', linestyle='--',alpha = 0.8)\n",
    "# plt.plot(x,y,linewidth = 2.0, linestyle = '--', c='blue', alpha = 0.8)\n",
    "plt.xticks([1980,1982,1984,1986,1988,1990,1992,1994,1996,1998,2000,2002,2004,2006,2008,2010,2012,2014,2016,2018,2020], rotation='vertical',fontsize = 15)\n",
    "# plt.yticks([0, 15, 30,45, 60,75,90,105,120,135,150],fontsize = 15)\n",
    "# # plt.axhline(y=0, color='black', linestyle='-')\n",
    "plt.title('y = 244.28 + -0.11x',fontsize = 22)\n",
    "a, b = best_fit(x, y)\n",
    "yfit = [a + b * xi for xi in x]\n",
    "# plt.plot(x, yfit)\n",
    "# a = AnchoredText(\"5.82 - 0.00x\".format(3), loc=2, pad=0.4, borderpad=1)\n",
    "plt.plot(np.unique(x), np.poly1d(np.polyfit(x, y, 1))(np.unique(x)),c='red',linewidth = 2,linestyle = '--')\n",
    "# plt.gca().add_artist(a)\n",
    "plt.savefig('timeseries_winter(JFM)_WesternGoM_withstd')\n",
    "plt.show()"
   ]
  },
  {
   "cell_type": "code",
   "execution_count": 602,
   "metadata": {},
   "outputs": [
    {
     "name": "stdout",
     "output_type": "stream",
     "text": [
      "slope: 0.083988    pvalue: 0.456440\n"
     ]
    }
   ],
   "source": [
    "import matplotlib.pyplot as plt\n",
    "from scipy import stats\n",
    "\n",
    "slope, intercept, r_value, p_value, std_err = stats.linregress(x, y)\n",
    "print(\"slope: %f    pvalue: %f\" % (slope, p_value))\n",
    "print(\"R-squared: %f\" % r_value**2)"
   ]
  },
  {
   "cell_type": "code",
   "execution_count": null,
   "metadata": {},
   "outputs": [],
   "source": []
  },
  {
   "cell_type": "code",
   "execution_count": null,
   "metadata": {},
   "outputs": [],
   "source": []
  },
  {
   "cell_type": "code",
   "execution_count": null,
   "metadata": {},
   "outputs": [],
   "source": []
  }
 ],
 "metadata": {
  "kernelspec": {
   "display_name": "Python 3",
   "language": "python",
   "name": "python3"
  }
 },
 "nbformat": 4,
 "nbformat_minor": 2
}
