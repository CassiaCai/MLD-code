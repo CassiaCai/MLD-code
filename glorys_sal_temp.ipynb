{
 "cells": [
  {
   "cell_type": "code",
   "execution_count": 18,
   "metadata": {},
   "outputs": [],
   "source": [
    "# Import libraries\n",
    "import matplotlib.pyplot as plt; import numpy as np; import netCDF4; from netCDF4 import Dataset\n",
    "import pandas as pd; import numpy.ma as ma; import time as timeit; import os; import math\n",
    "import itertools; import scipy.io; import mat73; import collections\n",
    "import cartopy; import cartopy.crs as ccrs\n",
    "from cartopy.mpl.gridliner import LONGITUDE_FORMATTER, LATITUDE_FORMATTER\n",
    "from matplotlib.ticker import FuncFormatter\n",
    "from matplotlib.ticker import AutoMinorLocator; from matplotlib.ticker import FixedLocator\n",
    "from shapely.geometry import Point\n",
    "from shapely.geometry.polygon import Polygon\n",
    "%matplotlib inline\n",
    "import statistics; import xarray as xr; import matplotlib as mpl; import gsw"
   ]
  },
  {
   "cell_type": "code",
   "execution_count": 3,
   "metadata": {},
   "outputs": [],
   "source": [
    "file_in ='Etopo1_Bed_35_65N_40_80W.nc'\n",
    "NC=Dataset(file_in); DS=xr.open_dataset(file_in)\n",
    "projection= ccrs.PlateCarree(central_longitude=255);\n",
    "data_crs = ccrs.PlateCarree()"
   ]
  },
  {
   "cell_type": "code",
   "execution_count": 4,
   "metadata": {},
   "outputs": [],
   "source": [
    "latNC= NC['lat'][:]\n",
    "lonNC= NC['lon'][:]\n",
    "depthNC= NC['depth'][:]"
   ]
  },
  {
   "cell_type": "code",
   "execution_count": 14,
   "metadata": {},
   "outputs": [],
   "source": [
    "small = pd.read_csv('march.csv')\n",
    "seasonyeardepth = abs(small['glorys']+small['diff'])\n",
    "small['obs_MLD'] = seasonyeardepth"
   ]
  },
  {
   "cell_type": "code",
   "execution_count": 15,
   "metadata": {},
   "outputs": [
    {
     "name": "stdout",
     "output_type": "stream",
     "text": [
      "(2663, 7)\n"
     ]
    }
   ],
   "source": [
    "print(small.shape)"
   ]
  },
  {
   "cell_type": "code",
   "execution_count": 13,
   "metadata": {},
   "outputs": [
    {
     "name": "stdout",
     "output_type": "stream",
     "text": [
      "25.321967705595192\n"
     ]
    }
   ],
   "source": [
    "print(np.nanmean(seasonyeardepth))"
   ]
  },
  {
   "cell_type": "code",
   "execution_count": 16,
   "metadata": {},
   "outputs": [
    {
     "name": "stdout",
     "output_type": "stream",
     "text": [
      "20.40236664162284\n"
     ]
    }
   ],
   "source": [
    "print(np.nanmean(seasonyeardepth))"
   ]
  },
  {
   "cell_type": "code",
   "execution_count": 10,
   "metadata": {},
   "outputs": [
    {
     "name": "stdout",
     "output_type": "stream",
     "text": [
      "44.75762889723573\n"
     ]
    }
   ],
   "source": [
    "print(np.nanmean(small['glorys']))"
   ]
  },
  {
   "cell_type": "code",
   "execution_count": 11,
   "metadata": {},
   "outputs": [],
   "source": [
    "large = pd.read_csv('03.csv')"
   ]
  },
  {
   "cell_type": "code",
   "execution_count": 14,
   "metadata": {},
   "outputs": [
    {
     "name": "stdout",
     "output_type": "stream",
     "text": [
      "   Unnamed: 0      lon      lat       diff  years     glorys  obs_MLD\n",
      "0           0  69.4317  40.2367  -8.657768   1993  41.657768     33.0\n",
      "1           1  69.4850  40.8667 -33.674065   1993  39.674065      6.0\n",
      "2           2  69.4500  40.7183  -9.564441   1993  15.564441      6.0\n",
      "3           3  69.2550  40.6517  -4.986664   1993  10.986664      6.0\n",
      "4           4  69.4417  40.5533  -6.359997   1993  12.359997      6.0\n"
     ]
    }
   ],
   "source": [
    "print(small[0:5])"
   ]
  },
  {
   "cell_type": "code",
   "execution_count": 13,
   "metadata": {},
   "outputs": [
    {
     "name": "stdout",
     "output_type": "stream",
     "text": [
      "   Unnamed: 0  obs_lat  obs_lon  date  year  glorys_index_lat  \\\n",
      "0           0  38.1917  73.8133    68  1993                38   \n",
      "1           1  38.1517  74.0450    68  1993                38   \n",
      "2           2  37.9800  74.0467    68  1993                36   \n",
      "3           3  37.8100  74.3867    69  1993                34   \n",
      "4           4  37.6883  74.4817    69  1993                32   \n",
      "\n",
      "   glorys_index_lon  glorys_lat  glorys_lon  \n",
      "0                50   38.166668  -73.833336  \n",
      "1                47   38.166668  -74.083336  \n",
      "2                47   38.000000  -74.083336  \n",
      "3                43   37.833332  -74.416664  \n",
      "4                42   37.666668  -74.500000  \n"
     ]
    }
   ],
   "source": [
    "print(large[0:5])"
   ]
  },
  {
   "cell_type": "code",
   "execution_count": 12,
   "metadata": {},
   "outputs": [
    {
     "name": "stdout",
     "output_type": "stream",
     "text": [
      "4111\n"
     ]
    }
   ],
   "source": [
    "print(len(large))"
   ]
  },
  {
   "cell_type": "code",
   "execution_count": 10,
   "metadata": {},
   "outputs": [],
   "source": [
    "filenow = 'glorys12v1_depth.nc'\n",
    "BC=Dataset(filenow); BS=xr.open_dataset(filenow)"
   ]
  },
  {
   "cell_type": "code",
   "execution_count": 11,
   "metadata": {},
   "outputs": [],
   "source": [
    "glorysdepth = np.asarray(BS['depth'].values)"
   ]
  },
  {
   "cell_type": "code",
   "execution_count": 12,
   "metadata": {},
   "outputs": [],
   "source": [
    "file_in ='03.nc'\n",
    "NC=Dataset(file_in); DS=xr.open_dataset(file_in)"
   ]
  },
  {
   "cell_type": "code",
   "execution_count": 13,
   "metadata": {},
   "outputs": [
    {
     "name": "stdout",
     "output_type": "stream",
     "text": [
      "4111\n"
     ]
    }
   ],
   "source": [
    "print(len(DS['T']))"
   ]
  },
  {
   "cell_type": "code",
   "execution_count": 43,
   "metadata": {},
   "outputs": [],
   "source": [
    "glorysdens_myway = []; indices = []; news = []; newnews = []\n",
    "for i in range(len(DS['T'])):\n",
    "    a = np.asarray(DS['T'][i])\n",
    "    b = np.asarray(DS['S'][i])\n",
    "    ctemp = []; density = []\n",
    "    for ii in range(len(a)):\n",
    "        CT = gsw.CT_from_pt(a[ii],b[ii])\n",
    "        ctemp.append(CT)\n",
    "        DENS = gsw.sigma0(b[ii],CT)\n",
    "        density.append(DENS)\n",
    "    dffinunreversed = pd.DataFrame({'temp': a,'sal': b, 's': b, 'CT': ctemp, 'density': density, 'depth':glorysdepth})\n",
    "    surfacevalmean = np.mean(dffinunreversed['density'][0:5])\n",
    "    news.append(surfacevalmean)\n",
    "    newnews.append(dffinunreversed)\n",
    "for v in range(len(newnews)):\n",
    "    dffinunreversednow = newnews[v]\n",
    "    for ix in range(len(dffinunreversednow)):\n",
    "        if dffinunreversednow.at[ix,'density'] >= (news[v] - 0.03) and dffinunreversednow.at[ix,'density'] <= (news[v] + 0.03):\n",
    "            pass\n",
    "        else:\n",
    "            glorysdens_myway.append(dffinunreversednow.at[ix,'depth'])\n",
    "            indices.append(v)\n",
    "            break"
   ]
  },
  {
   "cell_type": "code",
   "execution_count": 45,
   "metadata": {},
   "outputs": [
    {
     "name": "stdout",
     "output_type": "stream",
     "text": [
      "4111\n"
     ]
    }
   ],
   "source": [
    "print(len(newnews))"
   ]
  },
  {
   "cell_type": "code",
   "execution_count": 44,
   "metadata": {},
   "outputs": [
    {
     "name": "stdout",
     "output_type": "stream",
     "text": [
      "4098\n"
     ]
    }
   ],
   "source": [
    "print(len(indices))"
   ]
  },
  {
   "cell_type": "code",
   "execution_count": 25,
   "metadata": {},
   "outputs": [],
   "source": [
    "how = list(range(0,4011))"
   ]
  },
  {
   "cell_type": "code",
   "execution_count": 26,
   "metadata": {},
   "outputs": [],
   "source": [
    "def find_missing(lst): \n",
    "    start = lst[0] \n",
    "    end = lst[-1] \n",
    "    return sorted(set(range(start, end + 1)).difference(lst))"
   ]
  },
  {
   "cell_type": "code",
   "execution_count": 47,
   "metadata": {},
   "outputs": [
    {
     "name": "stdout",
     "output_type": "stream",
     "text": [
      "[332, 521, 733, 1327, 1341, 1699, 1722, 1998, 2069, 2305, 2462, 2470, 2660]\n"
     ]
    }
   ],
   "source": [
    "print(find_missing(indices))"
   ]
  },
  {
   "cell_type": "code",
   "execution_count": 54,
   "metadata": {},
   "outputs": [],
   "source": [
    "myglorysmld = pd.DataFrame({'indices': indices,'glorysmld_new':glorysdens_myway})"
   ]
  },
  {
   "cell_type": "code",
   "execution_count": 66,
   "metadata": {},
   "outputs": [],
   "source": [
    "merged_large = pd.merge(large, myglorysmld, left_on=['Unnamed: 0'], right_on = ['indices'], left_index=False, how='outer', sort=False)\n"
   ]
  },
  {
   "cell_type": "code",
   "execution_count": 56,
   "metadata": {},
   "outputs": [
    {
     "name": "stdout",
     "output_type": "stream",
     "text": [
      "4111\n"
     ]
    }
   ],
   "source": [
    "print(len(large))"
   ]
  },
  {
   "cell_type": "code",
   "execution_count": 71,
   "metadata": {},
   "outputs": [
    {
     "name": "stdout",
     "output_type": "stream",
     "text": [
      "(4111, 9)\n",
      "(4111, 11)\n",
      "(2663, 6)\n"
     ]
    }
   ],
   "source": [
    "print(large.shape)\n",
    "print(merged_large.shape)\n",
    "print(small.shape)"
   ]
  },
  {
   "cell_type": "code",
   "execution_count": 79,
   "metadata": {},
   "outputs": [],
   "source": [
    "glorys12v1 ='global-reanalysis-phy-001-030-daily_1596465428590.nc'"
   ]
  },
  {
   "cell_type": "code",
   "execution_count": 81,
   "metadata": {},
   "outputs": [],
   "source": [
    "DS=xr.open_dataset(glorys12v1)"
   ]
  },
  {
   "cell_type": "code",
   "execution_count": 84,
   "metadata": {},
   "outputs": [],
   "source": [
    "year = 1993\n",
    "use=DS.sel(time=slice('{}-03-01'.format(year),'{}-03-31'.format(year)))\n",
    "locate_date = use.sel(time=use.time.dt.day==(68)-59)\n",
    "mld_locate_date = locate_date.mlotst.values[0]"
   ]
  },
  {
   "cell_type": "code",
   "execution_count": 86,
   "metadata": {},
   "outputs": [
    {
     "name": "stdout",
     "output_type": "stream",
     "text": [
      "17.24296\n"
     ]
    }
   ],
   "source": [
    "print(mld_locate_date[38, 47])"
   ]
  },
  {
   "cell_type": "code",
   "execution_count": 87,
   "metadata": {},
   "outputs": [
    {
     "name": "stdout",
     "output_type": "stream",
     "text": [
      "Unnamed: 0             1.000000\n",
      "obs_lat               38.151700\n",
      "obs_lon               74.045000\n",
      "date                  68.000000\n",
      "year                1993.000000\n",
      "glorys_index_lat      38.000000\n",
      "glorys_index_lon      47.000000\n",
      "glorys_lat            38.166668\n",
      "glorys_lon           -74.083336\n",
      "indices                1.000000\n",
      "glorysmld_new         65.807266\n",
      "Name: 1, dtype: float64\n"
     ]
    }
   ],
   "source": [
    "print(merged_large.iloc[1])"
   ]
  },
  {
   "cell_type": "code",
   "execution_count": 89,
   "metadata": {},
   "outputs": [],
   "source": [
    "hihi = abs(nice_march['diff']+nice_march['glorys'])"
   ]
  },
  {
   "cell_type": "code",
   "execution_count": 92,
   "metadata": {},
   "outputs": [],
   "source": [
    "hey = nice_march['diff']+nice_march['glorys']"
   ]
  },
  {
   "cell_type": "code",
   "execution_count": 105,
   "metadata": {},
   "outputs": [
    {
     "name": "stdout",
     "output_type": "stream",
     "text": [
      "-121.31700134277344\n",
      "205.19852256774902\n",
      "-2.324652834907119\n"
     ]
    }
   ],
   "source": [
    "print(np.nanmin(nice_march['diff']))\n",
    "print(np.nanmax(nice_march['diff']))\n",
    "print(np.nanmean(nice_march['diff']))"
   ]
  },
  {
   "cell_type": "code",
   "execution_count": 104,
   "metadata": {},
   "outputs": [
    {
     "name": "stdout",
     "output_type": "stream",
     "text": [
      "20.364751667902148\n",
      "220.0\n",
      "4.70000000000001\n",
      "\n",
      "20.364751667902148\n",
      "220.0\n",
      "4.70000000000001\n"
     ]
    }
   ],
   "source": [
    "print(np.nanmean(hihi))\n",
    "print(np.nanmax(hihi))\n",
    "print(np.nanmin(hihi))\n",
    "print('')\n",
    "print(np.nanmean(hey))\n",
    "print(np.nanmax(hey))\n",
    "print(np.nanmin(hey))"
   ]
  },
  {
   "cell_type": "code",
   "execution_count": 97,
   "metadata": {},
   "outputs": [],
   "source": [
    "diff_glorys = nice_march['glorysmld_new'] - nice_march['glorys']"
   ]
  },
  {
   "cell_type": "code",
   "execution_count": 102,
   "metadata": {},
   "outputs": [
    {
     "name": "stdout",
     "output_type": "stream",
     "text": [
      "15.962736543679432\n",
      "233.43854522705078\n",
      "-37.811092376708984\n"
     ]
    }
   ],
   "source": [
    "print(np.nanmean(diff_glorys))\n",
    "print(np.nanmax(diff_glorys))\n",
    "print(np.nanmin(diff_glorys))"
   ]
  },
  {
   "cell_type": "code",
   "execution_count": 88,
   "metadata": {},
   "outputs": [
    {
     "name": "stdout",
     "output_type": "stream",
     "text": [
      "Unnamed: 0_x           1.000000\n",
      "obs_lat               38.151700\n",
      "obs_lon               74.045000\n",
      "date                  68.000000\n",
      "year                1993.000000\n",
      "glorys_index_lat      38.000000\n",
      "glorys_index_lon      47.000000\n",
      "glorys_lat            38.166668\n",
      "glorys_lon           -74.083336\n",
      "indices                1.000000\n",
      "glorysmld_new         65.807266\n",
      "Unnamed: 0_y         789.000000\n",
      "lon                   74.045000\n",
      "lat                   38.151700\n",
      "diff                  11.757040\n",
      "years               1993.000000\n",
      "glorys                17.242960\n",
      "Name: 789.0, dtype: float64\n"
     ]
    }
   ],
   "source": [
    "print(nice_march.iloc[2])"
   ]
  },
  {
   "cell_type": "code",
   "execution_count": 641,
   "metadata": {},
   "outputs": [],
   "source": [
    "# nice = pd.merge(largenew, small, left_on=['obs_lon','obs_lat'], right_on = ['lon','lat'], left_index=True, how='outer', sort=False)"
   ]
  },
  {
   "cell_type": "code",
   "execution_count": 74,
   "metadata": {},
   "outputs": [],
   "source": [
    "nice_march = pd.merge(merged_large, small, left_on=['obs_lon','obs_lat'], right_on = ['lon','lat'], left_index=True, how='outer', sort=False)\n"
   ]
  },
  {
   "cell_type": "code",
   "execution_count": 660,
   "metadata": {},
   "outputs": [],
   "source": [
    "# nice_march = pd.merge(largenew, small, left_on=['obs_lon','obs_lat'], right_on = ['lon','lat'], left_index=True, how='outer', sort=False)\n"
   ]
  },
  {
   "cell_type": "code",
   "execution_count": 75,
   "metadata": {},
   "outputs": [
    {
     "name": "stdout",
     "output_type": "stream",
     "text": [
      "(4145, 17)\n"
     ]
    }
   ],
   "source": [
    "print(nice_march.shape)"
   ]
  },
  {
   "cell_type": "code",
   "execution_count": 96,
   "metadata": {},
   "outputs": [
    {
     "data": {
      "text/html": [
       "<div>\n",
       "<style scoped>\n",
       "    .dataframe tbody tr th:only-of-type {\n",
       "        vertical-align: middle;\n",
       "    }\n",
       "\n",
       "    .dataframe tbody tr th {\n",
       "        vertical-align: top;\n",
       "    }\n",
       "\n",
       "    .dataframe thead th {\n",
       "        text-align: right;\n",
       "    }\n",
       "</style>\n",
       "<table border=\"1\" class=\"dataframe\">\n",
       "  <thead>\n",
       "    <tr style=\"text-align: right;\">\n",
       "      <th></th>\n",
       "      <th>Unnamed: 0_x</th>\n",
       "      <th>obs_lat</th>\n",
       "      <th>obs_lon</th>\n",
       "      <th>date</th>\n",
       "      <th>year</th>\n",
       "      <th>glorys_index_lat</th>\n",
       "      <th>glorys_index_lon</th>\n",
       "      <th>glorys_lat</th>\n",
       "      <th>glorys_lon</th>\n",
       "      <th>indices</th>\n",
       "      <th>glorysmld_new</th>\n",
       "      <th>Unnamed: 0_y</th>\n",
       "      <th>lon</th>\n",
       "      <th>lat</th>\n",
       "      <th>diff</th>\n",
       "      <th>years</th>\n",
       "      <th>glorys</th>\n",
       "    </tr>\n",
       "  </thead>\n",
       "  <tbody>\n",
       "    <tr>\n",
       "      <th>788.0</th>\n",
       "      <td>0</td>\n",
       "      <td>38.1917</td>\n",
       "      <td>73.8133</td>\n",
       "      <td>68</td>\n",
       "      <td>1993</td>\n",
       "      <td>38</td>\n",
       "      <td>50</td>\n",
       "      <td>38.166668</td>\n",
       "      <td>-73.833336</td>\n",
       "      <td>0.0</td>\n",
       "      <td>21.598820</td>\n",
       "      <td>788.0</td>\n",
       "      <td>73.8133</td>\n",
       "      <td>38.1917</td>\n",
       "      <td>-2.122959</td>\n",
       "      <td>1993.0</td>\n",
       "      <td>13.122959</td>\n",
       "    </tr>\n",
       "    <tr>\n",
       "      <th>789.0</th>\n",
       "      <td>1</td>\n",
       "      <td>38.1517</td>\n",
       "      <td>74.0450</td>\n",
       "      <td>68</td>\n",
       "      <td>1993</td>\n",
       "      <td>38</td>\n",
       "      <td>47</td>\n",
       "      <td>38.166668</td>\n",
       "      <td>-74.083336</td>\n",
       "      <td>1.0</td>\n",
       "      <td>65.807266</td>\n",
       "      <td>789.0</td>\n",
       "      <td>74.0450</td>\n",
       "      <td>38.1517</td>\n",
       "      <td>11.757040</td>\n",
       "      <td>1993.0</td>\n",
       "      <td>17.242960</td>\n",
       "    </tr>\n",
       "    <tr>\n",
       "      <th>790.0</th>\n",
       "      <td>2</td>\n",
       "      <td>37.9800</td>\n",
       "      <td>74.0467</td>\n",
       "      <td>68</td>\n",
       "      <td>1993</td>\n",
       "      <td>36</td>\n",
       "      <td>47</td>\n",
       "      <td>38.000000</td>\n",
       "      <td>-74.083336</td>\n",
       "      <td>2.0</td>\n",
       "      <td>21.598820</td>\n",
       "      <td>790.0</td>\n",
       "      <td>74.0467</td>\n",
       "      <td>37.9800</td>\n",
       "      <td>0.640003</td>\n",
       "      <td>1993.0</td>\n",
       "      <td>12.359997</td>\n",
       "    </tr>\n",
       "    <tr>\n",
       "      <th>791.0</th>\n",
       "      <td>3</td>\n",
       "      <td>37.8100</td>\n",
       "      <td>74.3867</td>\n",
       "      <td>69</td>\n",
       "      <td>1993</td>\n",
       "      <td>34</td>\n",
       "      <td>43</td>\n",
       "      <td>37.833332</td>\n",
       "      <td>-74.416664</td>\n",
       "      <td>3.0</td>\n",
       "      <td>65.807266</td>\n",
       "      <td>791.0</td>\n",
       "      <td>74.3867</td>\n",
       "      <td>37.8100</td>\n",
       "      <td>3.773336</td>\n",
       "      <td>1993.0</td>\n",
       "      <td>19.226664</td>\n",
       "    </tr>\n",
       "    <tr>\n",
       "      <th>792.0</th>\n",
       "      <td>4</td>\n",
       "      <td>37.6883</td>\n",
       "      <td>74.4817</td>\n",
       "      <td>69</td>\n",
       "      <td>1993</td>\n",
       "      <td>32</td>\n",
       "      <td>42</td>\n",
       "      <td>37.666668</td>\n",
       "      <td>-74.500000</td>\n",
       "      <td>4.0</td>\n",
       "      <td>55.764290</td>\n",
       "      <td>792.0</td>\n",
       "      <td>74.4817</td>\n",
       "      <td>37.6883</td>\n",
       "      <td>-7.785181</td>\n",
       "      <td>1993.0</td>\n",
       "      <td>16.785181</td>\n",
       "    </tr>\n",
       "    <tr>\n",
       "      <th>793.0</th>\n",
       "      <td>5</td>\n",
       "      <td>37.6450</td>\n",
       "      <td>74.4150</td>\n",
       "      <td>69</td>\n",
       "      <td>1993</td>\n",
       "      <td>32</td>\n",
       "      <td>43</td>\n",
       "      <td>37.666668</td>\n",
       "      <td>-74.416664</td>\n",
       "      <td>5.0</td>\n",
       "      <td>40.344051</td>\n",
       "      <td>793.0</td>\n",
       "      <td>74.4150</td>\n",
       "      <td>37.6450</td>\n",
       "      <td>19.367411</td>\n",
       "      <td>1993.0</td>\n",
       "      <td>16.632589</td>\n",
       "    </tr>\n",
       "    <tr>\n",
       "      <th>999.0</th>\n",
       "      <td>5</td>\n",
       "      <td>37.6450</td>\n",
       "      <td>74.4150</td>\n",
       "      <td>69</td>\n",
       "      <td>1993</td>\n",
       "      <td>32</td>\n",
       "      <td>43</td>\n",
       "      <td>37.666668</td>\n",
       "      <td>-74.416664</td>\n",
       "      <td>5.0</td>\n",
       "      <td>40.344051</td>\n",
       "      <td>999.0</td>\n",
       "      <td>74.4150</td>\n",
       "      <td>37.6450</td>\n",
       "      <td>5.786673</td>\n",
       "      <td>1996.0</td>\n",
       "      <td>30.213327</td>\n",
       "    </tr>\n",
       "    <tr>\n",
       "      <th>793.0</th>\n",
       "      <td>444</td>\n",
       "      <td>37.6450</td>\n",
       "      <td>74.4150</td>\n",
       "      <td>68</td>\n",
       "      <td>1996</td>\n",
       "      <td>32</td>\n",
       "      <td>43</td>\n",
       "      <td>37.666668</td>\n",
       "      <td>-74.416664</td>\n",
       "      <td>444.0</td>\n",
       "      <td>29.444731</td>\n",
       "      <td>793.0</td>\n",
       "      <td>74.4150</td>\n",
       "      <td>37.6450</td>\n",
       "      <td>19.367411</td>\n",
       "      <td>1993.0</td>\n",
       "      <td>16.632589</td>\n",
       "    </tr>\n",
       "    <tr>\n",
       "      <th>999.0</th>\n",
       "      <td>444</td>\n",
       "      <td>37.6450</td>\n",
       "      <td>74.4150</td>\n",
       "      <td>68</td>\n",
       "      <td>1996</td>\n",
       "      <td>32</td>\n",
       "      <td>43</td>\n",
       "      <td>37.666668</td>\n",
       "      <td>-74.416664</td>\n",
       "      <td>444.0</td>\n",
       "      <td>29.444731</td>\n",
       "      <td>999.0</td>\n",
       "      <td>74.4150</td>\n",
       "      <td>37.6450</td>\n",
       "      <td>5.786673</td>\n",
       "      <td>1996.0</td>\n",
       "      <td>30.213327</td>\n",
       "    </tr>\n",
       "    <tr>\n",
       "      <th>794.0</th>\n",
       "      <td>6</td>\n",
       "      <td>37.4700</td>\n",
       "      <td>74.4517</td>\n",
       "      <td>69</td>\n",
       "      <td>1993</td>\n",
       "      <td>30</td>\n",
       "      <td>43</td>\n",
       "      <td>37.500000</td>\n",
       "      <td>-74.416664</td>\n",
       "      <td>6.0</td>\n",
       "      <td>25.211411</td>\n",
       "      <td>794.0</td>\n",
       "      <td>74.4517</td>\n",
       "      <td>37.4700</td>\n",
       "      <td>17.961485</td>\n",
       "      <td>1993.0</td>\n",
       "      <td>14.038515</td>\n",
       "    </tr>\n",
       "  </tbody>\n",
       "</table>\n",
       "</div>"
      ],
      "text/plain": [
       "       Unnamed: 0_x  obs_lat  obs_lon  date  year  glorys_index_lat  \\\n",
       "788.0             0  38.1917  73.8133    68  1993                38   \n",
       "789.0             1  38.1517  74.0450    68  1993                38   \n",
       "790.0             2  37.9800  74.0467    68  1993                36   \n",
       "791.0             3  37.8100  74.3867    69  1993                34   \n",
       "792.0             4  37.6883  74.4817    69  1993                32   \n",
       "793.0             5  37.6450  74.4150    69  1993                32   \n",
       "999.0             5  37.6450  74.4150    69  1993                32   \n",
       "793.0           444  37.6450  74.4150    68  1996                32   \n",
       "999.0           444  37.6450  74.4150    68  1996                32   \n",
       "794.0             6  37.4700  74.4517    69  1993                30   \n",
       "\n",
       "       glorys_index_lon  glorys_lat  glorys_lon  indices  glorysmld_new  \\\n",
       "788.0                50   38.166668  -73.833336      0.0      21.598820   \n",
       "789.0                47   38.166668  -74.083336      1.0      65.807266   \n",
       "790.0                47   38.000000  -74.083336      2.0      21.598820   \n",
       "791.0                43   37.833332  -74.416664      3.0      65.807266   \n",
       "792.0                42   37.666668  -74.500000      4.0      55.764290   \n",
       "793.0                43   37.666668  -74.416664      5.0      40.344051   \n",
       "999.0                43   37.666668  -74.416664      5.0      40.344051   \n",
       "793.0                43   37.666668  -74.416664    444.0      29.444731   \n",
       "999.0                43   37.666668  -74.416664    444.0      29.444731   \n",
       "794.0                43   37.500000  -74.416664      6.0      25.211411   \n",
       "\n",
       "       Unnamed: 0_y      lon      lat       diff   years     glorys  \n",
       "788.0         788.0  73.8133  38.1917  -2.122959  1993.0  13.122959  \n",
       "789.0         789.0  74.0450  38.1517  11.757040  1993.0  17.242960  \n",
       "790.0         790.0  74.0467  37.9800   0.640003  1993.0  12.359997  \n",
       "791.0         791.0  74.3867  37.8100   3.773336  1993.0  19.226664  \n",
       "792.0         792.0  74.4817  37.6883  -7.785181  1993.0  16.785181  \n",
       "793.0         793.0  74.4150  37.6450  19.367411  1993.0  16.632589  \n",
       "999.0         999.0  74.4150  37.6450   5.786673  1996.0  30.213327  \n",
       "793.0         793.0  74.4150  37.6450  19.367411  1993.0  16.632589  \n",
       "999.0         999.0  74.4150  37.6450   5.786673  1996.0  30.213327  \n",
       "794.0         794.0  74.4517  37.4700  17.961485  1993.0  14.038515  "
      ]
     },
     "execution_count": 96,
     "metadata": {},
     "output_type": "execute_result"
    }
   ],
   "source": [
    "nice_march.iloc[0:10]"
   ]
  },
  {
   "cell_type": "code",
   "execution_count": 663,
   "metadata": {},
   "outputs": [
    {
     "name": "stdout",
     "output_type": "stream",
     "text": [
      "(1157, 16)\n"
     ]
    }
   ],
   "source": [
    "print(nice.shape)\n",
    "# nice # is January\n",
    "# nice_feb \n",
    "# nice_dec"
   ]
  },
  {
   "cell_type": "code",
   "execution_count": null,
   "metadata": {},
   "outputs": [],
   "source": [
    "spring = [nice_march, nice_march, nice_dec]\n",
    "\n"
   ]
  },
  {
   "cell_type": "code",
   "execution_count": 664,
   "metadata": {},
   "outputs": [],
   "source": [
    "winter = [nice, nice_feb, nice_dec]\n",
    "\n",
    "winter_df = pd.concat(winter)"
   ]
  },
  {
   "cell_type": "code",
   "execution_count": 665,
   "metadata": {},
   "outputs": [
    {
     "name": "stdout",
     "output_type": "stream",
     "text": [
      "       Unnamed: 0_x  obs_lat  obs_lon  date  year  glorys_index_lat  \\\n",
      "633.0             0  40.9517  71.1700     6  1993                71   \n",
      "634.0             1  40.6983  71.0500     6  1993                68   \n",
      "635.0             2  40.6517  70.5500     6  1993                68   \n",
      "636.0             3  40.8317  70.3833     6  1993                70   \n",
      "637.0             4  40.9017  70.6833     6  1993                71   \n",
      "...             ...      ...      ...   ...   ...               ...   \n",
      "NaN             253  41.0383  70.2283   342  2011                72   \n",
      "NaN             254  41.0367  70.2817   342  2011                72   \n",
      "NaN             255  41.0367  70.3333   342  2011                72   \n",
      "NaN             256  41.0367  70.3983   342  2011                72   \n",
      "NaN             257  41.0600  70.5133   342  2011                73   \n",
      "\n",
      "       glorys_index_lon  glorys_lat  glorys_lon  glorysmyway  Unnamed: 0_y  \\\n",
      "633.0                82   40.916668  -71.166664    55.764290         633.0   \n",
      "634.0                83   40.666668  -71.083336    40.344051         634.0   \n",
      "635.0                89   40.666668  -70.583336    55.764290         635.0   \n",
      "636.0                91   40.833332  -70.416664    55.764290         636.0   \n",
      "637.0                88   40.916668  -70.666664    29.444731         637.0   \n",
      "...                 ...         ...         ...          ...           ...   \n",
      "NaN                  93   41.000000  -70.250000    34.434151           NaN   \n",
      "NaN                  93   41.000000  -70.250000    34.434151           NaN   \n",
      "NaN                  92   41.000000  -70.333336    29.444731           NaN   \n",
      "NaN                  91   41.000000  -70.416664    29.444731           NaN   \n",
      "NaN                  90   41.083332  -70.500000    25.211411           NaN   \n",
      "\n",
      "           lon      lat       diff   years     glorys  \n",
      "633.0  71.1700  40.9517 -30.469620  1993.0  36.469620  \n",
      "634.0  71.0500  40.6983  19.397043  1993.0  29.602957  \n",
      "635.0  70.5500  40.6517  -2.151100  1993.0  47.151100  \n",
      "636.0  70.3833  40.8317  -8.251842  1993.0  44.251842  \n",
      "637.0  70.6833  40.9017  -9.106663  1993.0  15.106663  \n",
      "...        ...      ...        ...     ...        ...  \n",
      "NaN        NaN      NaN        NaN     NaN        NaN  \n",
      "NaN        NaN      NaN        NaN     NaN        NaN  \n",
      "NaN        NaN      NaN        NaN     NaN        NaN  \n",
      "NaN        NaN      NaN        NaN     NaN        NaN  \n",
      "NaN        NaN      NaN        NaN     NaN        NaN  \n",
      "\n",
      "[4839 rows x 16 columns]\n"
     ]
    }
   ],
   "source": [
    "print(winter_df)"
   ]
  },
  {
   "cell_type": "code",
   "execution_count": 643,
   "metadata": {},
   "outputs": [],
   "source": [
    "# nice.loc[nice.index.isnull()]"
   ]
  },
  {
   "cell_type": "code",
   "execution_count": 516,
   "metadata": {},
   "outputs": [
    {
     "name": "stdout",
     "output_type": "stream",
     "text": [
      "1143\n",
      "1143\n"
     ]
    }
   ],
   "source": [
    "print(len(DS['T']))\n",
    "print(len(large))"
   ]
  },
  {
   "cell_type": "code",
   "execution_count": 541,
   "metadata": {
    "collapsed": true
   },
   "outputs": [
    {
     "name": "stdout",
     "output_type": "stream",
     "text": [
      "<xarray.DataArray 'T' (depth: 32)>\n",
      "array([1.168258e+01, 1.168258e+01, 1.168258e+01, 1.168258e+01, 1.168258e+01,\n",
      "       1.168258e+01, 1.168258e+01, 1.168258e+01, 1.168331e+01, 1.168477e+01,\n",
      "       1.169283e+01, 1.171627e+01, 1.179098e+01, 1.197922e+01, 1.225755e+01,\n",
      "       1.258422e+01, 1.287280e+01, 1.304566e+01, 1.313868e+01, 1.318702e+01,\n",
      "       1.321265e+01, 1.328809e+01, 1.343605e+01, 1.346974e+01, 1.368215e+01,\n",
      "       1.361916e+01, 9.969210e+36, 9.969210e+36, 9.969210e+36, 9.969210e+36,\n",
      "       9.969210e+36, 9.969210e+36])\n",
      "Dimensions without coordinates: depth\n",
      "<xarray.DataArray 'S' (depth: 32)>\n",
      "array([3.513749e+01, 3.513749e+01, 3.513749e+01, 3.513749e+01, 3.513749e+01,\n",
      "       3.513749e+01, 3.513749e+01, 3.513749e+01, 3.513749e+01, 3.513749e+01,\n",
      "       3.513901e+01, 3.514512e+01, 3.516343e+01, 3.521378e+01, 3.529008e+01,\n",
      "       3.538316e+01, 3.546861e+01, 3.552202e+01, 3.555101e+01, 3.556780e+01,\n",
      "       3.557390e+01, 3.559526e+01, 3.564257e+01, 3.565935e+01, 3.570513e+01,\n",
      "       3.575854e+01, 9.969210e+36, 9.969210e+36, 9.969210e+36, 9.969210e+36,\n",
      "       9.969210e+36, 9.969210e+36])\n",
      "Dimensions without coordinates: depth\n",
      "[19.420168329104285, 19.420168329104285, 19.420168329104285, 19.420168329104285, 19.420168329104285, 19.420168329104285, 19.420168329104285, 19.420168329104285, 19.420182091114384, 19.420209615091608, 19.42085660251837, 19.423279322909707, 19.430629321355923, 19.450511676075394, 19.480487885245907, 19.51678306367114, 19.549856150522942, 19.570367398905432, 19.58148104278962, 19.587808013863537, 19.590262581638854, 19.59857908304616, 19.61662106942356, 19.622659251471873, 19.641437376029785, 19.657343298767614, -1000.0, -1000.0, -1000.0, -1000.0, -1000.0, -1000.0]\n"
     ]
    }
   ],
   "source": [
    "print(DS['T'][1080])\n",
    "print(DS['S'][1080])\n",
    "a = DS['T'][1080]\n",
    "b = DS['S'][1080]\n",
    "ctemp = []\n",
    "density = []\n",
    "for ii in range(len(a)):\n",
    "    CT = gsw.CT_from_pt(a[ii],b[ii])\n",
    "    ctemp.append(CT)\n",
    "    DENS = gsw.sigma0(b[ii],CT)\n",
    "    density.append(DENS)\n",
    "print(density)"
   ]
  },
  {
   "cell_type": "code",
   "execution_count": 542,
   "metadata": {},
   "outputs": [
    {
     "data": {
      "text/plain": [
       "[<matplotlib.lines.Line2D at 0xd26e5af60>]"
      ]
     },
     "execution_count": 542,
     "metadata": {},
     "output_type": "execute_result"
    },
    {
     "data": {
      "image/png": "[encoded data removed]",
      "text/plain": [
       "<Figure size 432x288 with 1 Axes>"
      ]
     },
     "metadata": {
      "needs_background": "light"
     },
     "output_type": "display_data"
    }
   ],
   "source": [
    "plt.plot(density[0:20],glorysdepth[0:20]*-1)"
   ]
  },
  {
   "cell_type": "code",
   "execution_count": null,
   "metadata": {},
   "outputs": [],
   "source": [
    "plt.plot(density[0:20],glorysdepth[0:20]*-1)"
   ]
  },
  {
   "cell_type": "code",
   "execution_count": 724,
   "metadata": {},
   "outputs": [
    {
     "data": {
      "text/plain": [
       "[<matplotlib.lines.Line2D at 0xd274d0940>]"
      ]
     },
     "execution_count": 724,
     "metadata": {},
     "output_type": "execute_result"
    },
    {
     "data": {
      "image/png": "[encoded data removed]",
      "text/plain": [
       "<Figure size 432x288 with 1 Axes>"
      ]
     },
     "metadata": {
      "needs_background": "light"
     },
     "output_type": "display_data"
    }
   ],
   "source": [
    "plt.plot(density[0:25],glorysdepth[0:25]*-1)"
   ]
  },
  {
   "cell_type": "code",
   "execution_count": 722,
   "metadata": {},
   "outputs": [
    {
     "name": "stdout",
     "output_type": "stream",
     "text": [
      "[4.940250e-01 1.541375e+00 2.645669e+00 3.819495e+00 5.078224e+00\n",
      " 6.440614e+00 7.929560e+00 9.572997e+00 1.140500e+01 1.346714e+01\n",
      " 1.581007e+01 1.849556e+01 2.159882e+01 2.521141e+01 2.944473e+01\n",
      " 3.443415e+01 4.034405e+01 4.737369e+01 5.576429e+01 6.580727e+01\n",
      " 7.785385e+01 9.232607e+01 1.097293e+02 1.306660e+02 1.558507e+02\n",
      " 1.861256e+02 2.224752e+02 2.660403e+02 3.181274e+02 3.802130e+02\n",
      " 4.539377e+02 5.410889e+02]\n"
     ]
    }
   ],
   "source": [
    "print(glorysdepth)"
   ]
  },
  {
   "cell_type": "code",
   "execution_count": 506,
   "metadata": {},
   "outputs": [
    {
     "name": "stdout",
     "output_type": "stream",
     "text": [
      "Unnamed: 0_x        1080.000000\n",
      "obs_lat               38.770000\n",
      "obs_lon               73.046700\n",
      "date                  31.000000\n",
      "year                2009.000000\n",
      "glorys_index_lat      45.000000\n",
      "glorys_index_lon      59.000000\n",
      "glorys_lat            38.750000\n",
      "glorys_lon           -73.083336\n",
      "glorysmyway           25.211411\n",
      "Unnamed: 0_y         864.000000\n",
      "lon                   73.046700\n",
      "lat                   38.770000\n",
      "diff                  36.749657\n",
      "years               2009.000000\n",
      "glorys                91.250343\n",
      "Name: 864.0, dtype: float64\n"
     ]
    }
   ],
   "source": [
    "print(nice.iloc[1088])"
   ]
  },
  {
   "cell_type": "code",
   "execution_count": null,
   "metadata": {},
   "outputs": [],
   "source": [
    "glorys                91.250343\n",
    "glorysmyway           25.211411"
   ]
  },
  {
   "cell_type": "code",
   "execution_count": 462,
   "metadata": {},
   "outputs": [],
   "source": [
    "newdiff = nice['glorysmyway'] - nice['glorys']"
   ]
  },
  {
   "cell_type": "code",
   "execution_count": 721,
   "metadata": {},
   "outputs": [
    {
     "name": "stdout",
     "output_type": "stream",
     "text": [
      "11.935858726501465\n",
      "0\n",
      "11.935858726501465\n",
      "0\n"
     ]
    }
   ],
   "source": [
    "print(np.min(newdiff))\n",
    "print(np.argmin(newdiff))\n",
    "print(np.max(newdiff))\n",
    "print(np.argmax(newdiff))"
   ]
  },
  {
   "cell_type": "code",
   "execution_count": 545,
   "metadata": {},
   "outputs": [
    {
     "name": "stdout",
     "output_type": "stream",
     "text": [
      "11.595873508618508\n"
     ]
    }
   ],
   "source": [
    "print(np.mean(newdiff))"
   ]
  },
  {
   "cell_type": "code",
   "execution_count": 546,
   "metadata": {},
   "outputs": [],
   "source": [
    "seasonyeardepth = nice['glorys'] + nice['diff']"
   ]
  },
  {
   "cell_type": "code",
   "execution_count": 553,
   "metadata": {},
   "outputs": [],
   "source": [
    "seasonyeardepthdiffwithmyway = seasonyeardepth - nice['glorysmyway']"
   ]
  },
  {
   "cell_type": "code",
   "execution_count": 562,
   "metadata": {},
   "outputs": [
    {
     "data": {
      "text/plain": [
       "11.597034454345705"
      ]
     },
     "execution_count": 562,
     "metadata": {},
     "output_type": "execute_result"
    }
   ],
   "source": [
    "nice['glorys'][6]"
   ]
  },
  {
   "cell_type": "code",
   "execution_count": null,
   "metadata": {},
   "outputs": [],
   "source": [
    "diff = obs - glorys\n",
    "diff + glorys"
   ]
  },
  {
   "cell_type": "code",
   "execution_count": 687,
   "metadata": {},
   "outputs": [],
   "source": [
    "indexlist = []; newdifflist = []; seasonyeardepthlist = []; gloryslist = []; glorysmywaylist = []; difflist = []\n",
    "newdf = pd.DataFrame({'lon': winter_df['lon'],'lat': winter_df['lat']})\n",
    "for ii in range(len(newdf)):\n",
    "    new = newdf.iloc[ii].values\n",
    "    point = Point(new)\n",
    "    if polygon_t.contains(point) == True:\n",
    "        indexlist.append(ii)\n",
    "        newdiff = winter_df['glorysmyway'].iloc[ii] - winter_df['glorys'].iloc[ii]\n",
    "        newdifflist.append(newdiff)\n",
    "        seasonyeardepth = winter_df['glorys'].iloc[ii] + np.abs(winter_df['diff'].iloc[ii])\n",
    "        seasonyeardepthlist.append(seasonyeardepth)\n",
    "        gloryslist.append(winter_df['glorys'].iloc[ii])\n",
    "        glorysmywaylist.append(winter_df['glorysmyway'].iloc[ii])\n",
    "        difflist.append(winter_df['diff'].iloc[ii])"
   ]
  },
  {
   "cell_type": "code",
   "execution_count": 741,
   "metadata": {},
   "outputs": [
    {
     "name": "stdout",
     "output_type": "stream",
     "text": [
      "8209\n"
     ]
    }
   ],
   "source": [
    "print(len(indices))"
   ]
  },
  {
   "cell_type": "code",
   "execution_count": 688,
   "metadata": {},
   "outputs": [
    {
     "name": "stdout",
     "output_type": "stream",
     "text": [
      "[30.64147186279297, 30.322952270507812, 49.0, 60.0, 38.0, 67.24443054199219, 74.1584930419922, 75.0, 75.0, 107.0, 70.00885009765624, 106.91849517822266, 33.050357818603516, 23.0, 85.8607177734375, 90.9896011352539, 63.0, 50.7955322265625, 89.0873794555664, 79.44441986083984, 72.0, 107.5807113647461, 61.0, 75.3332977294922, 79.0, 130.72291564941406, 112.0, 150.46217346191406, 50.718505859375, 109.0, 118.0, 64.0, 53.20591354370117, 61.46367645263672, 93.0, 108.99999999999999, 77.0, 123.0, 60.411827087402344, 101.0, 135.0, 106.0, 163.98809814453125, 105.69775390625, 121.0, 159.71551513671875, 105.69775390625, 106.112548828125, 98.0, 106.112548828125, 98.0, 177.41624450683594, 93.0, 94.0, 96.0, 101.0, 106.0, 105.0, 84.0, 89.0, 73.0, 99.0, 68.0, 90.0, 167.95550537109375, 84.0, 82.0, 65.0, 79.00000000000001, 107.0, 24.21332550048828, 27.0, 42.0, 83.81478881835938, 77.5481185913086, 84.86663818359375, 110.0, 134.0, 75.0, 150.25477600097656, 63.00000000000001, 67.0, 45.0, 71.00000000000001, 93.0, 102.94366455078124, 83.0, 46.841461181640625, 109.36589050292969, 97.15849304199219, 42.660728454589844, 61.46367645263672, 23.999999999999996, 39.15998077392578, 78.24885559082031, 74.0, 35.0, 43.0, 67.762939453125, 64.0, 46.900726318359375, 23.0, 21.0, 28.8814697265625, 64.69183349609375, 134.0799560546875, 131.33329772949222, 94.00000000000001, 102.0, 90.0, 77.89181518554688, 131.6384735107422, 84.33479309082031, 121.67698669433594, 87.0, 108.99999999999999, 69.37923431396484, 37.99850845336914, 28.0, 42.58220672607422, 196.64291381835938, 119.0, 195.4221649169922, 129.0, 166.0, 170.5703125, 139.26512145996094, 132.55845642089844, 117.0, 156.23402404785156, 138.9940185546875, 123.0, 123.0, 103.0, 109.0, 115.11697387695312, 112.0, 110.57179260253905, 101.99999999999999, 105.0, 193.5910491943359, 148.1821746826172, 36.61479949951172, 86.10071563720705, 51.0, 44.21183776855469, 60.0, 80.0, 18.0, 30.0, 20.434066772460938, 37.33628845214844, 82.0, 113.94366455078125, 95.0, 97.0, 88.0, 64.73776245117188, 50.737762451171875, 64.0, 46.00000000000001, 44.802947998046875, 111.87698364257812, 101.42216491699219, 109.0, 145.18067932128906, 145.18067932128906, 137.7421875, 145.67698669433594, 150.86514282226562, 14.804437637329102, 34.0, 13.837032318115234, 34.0, 13.837032318115234, 72.73776245117188, 153.9169921875, 14.057771682739256, 153.9169921875, 14.057771682739256, 11.837032318115234, 13.057771682739256, 13.057771682739256, 14.057771682739256, 106.09775390625, 103.9, 76.59479522705078, 94.9, 140.79403686523438, 113.0, 114.0, 132.5540313720703, 76.09479522705078, 76.09479522705078, 76.18365478515625, 80.0, 90.0, 78.59775390625, 173.80143127441409, 75.98442840576172, 193.7858734130859, 189.3377227783203, 168.20143127441406, 66.0, 168.20143127441406, 66.0, 182.484375, 75.48442840576172, 152.9080810546875, 226.85623168945312, 168.00000000000003, 56.152565002441406, 133.3007049560547, 156.60438537597656, 80.0, 53.51702117919922, 67.62664031982422, 57.02960968017578, 53.0, 62.51702117919922, 67.0, 68.62664031982422, 132.2488555908203, 112.0, 103.11697387695312, 135.0, 132.2488555908203, 200.6103057861328, 130.0, 145.22068786621094, 99.79254150390625, 307.11993408203125, 134.79104614257812, 117.091796875, 55.0, 104.0, 106.00000000000001, 85.0, 38.595542907714844, 33.595542907714844, 15.668142318725586, 40.0, 45.76443099975586, 59.72442626953125, 95.0, 118.0, 84.0, 61.0, 73.0, 50.99999999999999, 42.2192497253418, 60.0, 89.0, 54.0, 51.0, 77.0, 53.10071563720704, 70.0, 68.1525650024414, 130.43699645996094, 128.0, 98.0, 115.46367645263672, 62.0, 83.0, 46.971839904785156, 90.0, 87.0, 111.0, 108.0, 85.67849731445312, 85.67849731445312, 84.67849731445312, 80.1525650024414, 110.07404327392578, 129.0, 158.0, 118.0, 88.0, 112.10663604736328, 72.67849731445312, 87.67849731445312, 68.77627563476562, 105.0, 118.0, 115.0, 126.0, 97.0, 191.2592010498047, 127.72735595703125, 104.0, 105.0, 91.0, 109.0, 70.9259033203125, 52.99999999999999, 36.72591781616211, 37.37480163574219, 37.37480163574219, 30.355545043945312, 104.00000000000001, 93.0, 23.0, 155.74810791015625, 141.0, 48.010353088378906, 63.58220672607422, 67.54961395263672, 160.0, 155.74810791015625, 107.00000000000001, 126.0, 89.85330200195312, 43.0, 46.0, 34.0, 52.0, 43.0, 114.0, 121.0, 114.0, 121.0, 35.32295227050781, 25.134803771972656, 44.0, 127.0, 49.23850631713867, 51.37480163574218, 42.52443313598633, 63.58220672607422, 51.98517227172851, 64.19257354736328, 64.19257354736328, 37.88739013671874, 44.99999999999999, 67.54961395263672, 69.0, 63.0, 47.0, 164.65475463867188, 138.3169708251953, 123.09329223632812, 91.96442413330078, 54.09479522705078, 108.43699645996094, 31.0, 52.0, 83.94366455078124, 95.00000000000001, 109.35997009277344, 70.0, 87.0, 70.0, 75.0, 51.99999999999999, 61.52294158935546, 51.52294158935546, 81.0, 76.0, 73.10071563720705, 67.10071563720703, 62.99999999999999, 76.0, 57.65923309326172, 66.65923309326172, 100.50960540771484, 100.50960540771484, 130.112548828125, 130.112548828125, 62.36146545410156, 62.36146545410156, 72.0, 64.0, 67.0, 48.99109649658203, 72.12738800048828, 66.0, 66.0, 21.096290588378906, 151.11697387695312, 63.0, 39.900726318359375, 39.0, 92.0, 91.0, 88.0, 85.0, 98.0, 103.0, 120.92291259765625, 98.091796875, 69.0, 70.0, 63.0, 45.0, 137.6310577392578, 137.6310577392578, 80.0, 81.0, 82.0, 73.0, 119.73626708984376, 119.73626708984376, 115.46367645263672, 159.10513305664062, 46.79702377319336, 23.95999526977539, 183.0, 115.46367645263672, 159.10513305664062, 112.10663604736328, 149.0, 229.60290527343753, 150.1629180908203, 85.78070068359375, 125.0, 46.79702377319336, 36.0, 49.5436897277832, 187.0, 162.0, 37.39405822753906, 59.133308410644524, 90.06661987304688, 195.11697387695312, 129.50218200683594, 154.0, 158.0, 164.0, 141.0, 93.99551391601562, 68.34812927246094, 69.0, 53.737762451171875, 40.868133544921875, 32.76443099975586, 38.0, 46.0, 35.0, 62.672569274902344, 58.075538635253906, 49.31553649902344, 62.26368713378906, 48.0, 79.14664459228516, 63.34812927246094, 74.62071990966797, 51.0, 41.802947998046875, 18.65480804443359, 77.28736877441406, 70.48292541503906, 96.21624755859375, 111.37773132324219, 79.0, 72.0, 51.0, 27.0, 51.96442413330078, 45.23109436035156, 74.0, 64.0, 80.0, 77.0, 113.82662963867188, 36.88739013671874, 36.99999999999999, 107.43699645996094, 105.43699645996094, 22.000000000000004, 25.94665908813477, 62.26368713378906, 56.26368713378906, 42.0, 54.0, 50.0, 52.0, 42.0, 45.0, 51.0, 58.0, 34.23850631713867, 63.28294372558594, 71.28294372558594, 66.14664459228516, 46.639976501464844, 48.0, 45.45924758911133, 62.971839904785156, 61.971839904785156, 26.134803771972656, 32.75851058959961, 28.154060363769535, 14.551103591918945]\n"
     ]
    }
   ],
   "source": [
    "print(seasonyeardepthlist)"
   ]
  },
  {
   "cell_type": "code",
   "execution_count": 683,
   "metadata": {},
   "outputs": [
    {
     "name": "stdout",
     "output_type": "stream",
     "text": [
      "633.0   -30.469620\n",
      "634.0    19.397043\n",
      "635.0    -2.151100\n",
      "636.0    -8.251842\n",
      "637.0    -9.106663\n",
      "           ...    \n",
      "NaN            NaN\n",
      "NaN            NaN\n",
      "NaN            NaN\n",
      "NaN            NaN\n",
      "NaN            NaN\n",
      "Name: diff, Length: 4839, dtype: float64\n"
     ]
    }
   ],
   "source": [
    "print(winter_df['diff'])"
   ]
  },
  {
   "cell_type": "code",
   "execution_count": 684,
   "metadata": {},
   "outputs": [
    {
     "name": "stdout",
     "output_type": "stream",
     "text": [
      "633.0    36.469620\n",
      "634.0    29.602957\n",
      "635.0    47.151100\n",
      "636.0    44.251842\n",
      "637.0    15.106663\n",
      "           ...    \n",
      "NaN            NaN\n",
      "NaN            NaN\n",
      "NaN            NaN\n",
      "NaN            NaN\n",
      "NaN            NaN\n",
      "Name: glorys, Length: 4839, dtype: float64\n"
     ]
    }
   ],
   "source": [
    "print(winter_df['glorys'])"
   ]
  },
  {
   "cell_type": "code",
   "execution_count": 682,
   "metadata": {},
   "outputs": [
    {
     "name": "stdout",
     "output_type": "stream",
     "text": [
      "14.551103591918945\n"
     ]
    }
   ],
   "source": [
    "print(np.mean(seasonyeardepth))"
   ]
  },
  {
   "cell_type": "code",
   "execution_count": 677,
   "metadata": {},
   "outputs": [
    {
     "name": "stdout",
     "output_type": "stream",
     "text": [
      "54.003246035170456\n",
      "74.59550623951654\n",
      "\n",
      "27.79628852065598\n",
      "28.91523162143223\n"
     ]
    }
   ],
   "source": [
    "print(np.mean(gloryslist))\n",
    "print(np.mean(glorysmywaylist))\n",
    "print('')\n",
    "print(np.std(gloryslist))\n",
    "print(np.std(glorysmywaylist))"
   ]
  },
  {
   "cell_type": "markdown",
   "metadata": {},
   "source": [
    "# print(indexlist)"
   ]
  },
  {
   "cell_type": "code",
   "execution_count": 609,
   "metadata": {},
   "outputs": [
    {
     "name": "stdout",
     "output_type": "stream",
     "text": [
      "[6.0000000000000036, 49.0, 45.0, 36.0, 6.0, 6.000000000000002, 19.999999999999996, 6.0, 15.0, 55.0, 13.999999999999996, 35.0, 29.0, 6.0, 50.0, 43.0, 6.0, 6.0000000000000036, 24.999999999999993, 72.0, 61.0, 32.0, 58.0, 24.999999999999996, 31.0, 17.0, 6.0, 43.0, 15.999999999999998, 15.0, 6.0, 6.0, 6.0, 6.0, 6.0, 20.0, 6.000000000000002, 6.0, 6.0, 6.0, 62.0, 53.0, 32.0, 38.0, 56.0, 81.0, 47.0, 6.0, 47.00000000000001, 55.0, 5.999999999999986, 6.0, 16.000000000000004, 65.0, 6.0, 6.0, 6.0, 6.0, 5.999999999999998, 6.0000000000000036, 6.0, 6.0, 6.0, 6.0, 17.0, 57.0, 11.0, 28.0, 53.0, 42.0, 45.0, 6.000000000000007, 6.0000000000000036, 6.0000000000000036, 6.0, 6.0, 54.0, 54.0, 71.0, 30.0, 45.00000000000001, 58.0, 56.0, 68.0, 6.0, 6.0, 6.0000000000000036, 6.0, 6.0, 6.0, 59.0, 6.0, 59.00000000000001, 41.0, 40.0, 24.0, 26.0, 6.0, 6.0, 6.0, 28.0, 6.0, 6.0, 6.000000000000007, 6.0, 6.0, 6.0, 24.0, 26.0, 16.0, 30.0, 77.0, 23.0, 46.0, 76.0, 8.0, 22.0, 36.0, 15.0, 13.0, 50.0, 46.0, 22.0, 25.0, 28.0, 33.0, 24.0, 35.0, 70.0, 52.00000000000001]\n"
     ]
    }
   ],
   "source": [
    "print(seasonyeardepthlist)"
   ]
  },
  {
   "cell_type": "code",
   "execution_count": 610,
   "metadata": {},
   "outputs": [
    {
     "name": "stdout",
     "output_type": "stream",
     "text": [
      "[36.46961975097656, 29.602956771850586, 47.151100158691406, 44.2518424987793, 15.10666275024414, 12.817774772644045, 28.992586135864254, 46.54072952270508, 37.69036102294922, 40.2844352722168, 40.2844352722168, 40.43702697753906, 44.709617614746094, 40.58961868286133, 40.13184356689453, 36.16443634033203, 37.07999038696289, 36.622215270996094, 66.68294525146484, 77.51701354980469, 76.44886779785156, 59.5110969543457, 72.48146057128906, 45.167396545410156, 48.677024841308594, 18.311107635498047, 49.43998718261719, 39.67406463623047, 13.580737113952635, 15.10666275024414, 26.551105499267575, 50.81332015991211, 58.90072631835938, 48.82961654663086, 29.45036315917969, 16.022218704223633, 16.937774658203125, 22.583698272705078, 46.693321228027344, 60.5792465209961, 69.12442779541016, 52.79702377319336, 50.96591567993164, 43.4888801574707, 45.31998825073242, 62.71554183959961, 66.83553314208984, 52.18665313720703, 60.5792465209961, 57.52739334106445, 72.6340560913086, 65.76738739013672, 47.45628356933594, 67.59849548339844, 50.05035781860352, 58.44295120239258, 49.134803771972656, 35.24888229370117, 14.801477432250975, 22.736291885375977, 21.820735931396484, 33.26517868041992, 47.30369186401367, 55.39109802246094, 44.09925079345703, 48.98221206665039, 27.314067840576172, 11.44444179534912, 37.995548248291016, 43.4888801574707, 43.33628463745117, 37.84295272827149, 33.417770385742195, 36.622215270996094, 39.979251861572266, 47.30369186401367, 55.69628143310547, 75.38072204589844, 45.47258377075195, 38.14813995361328, 33.417770385742195, 42.42073059082031, 41.04739761352539, 49.134803771972656, 61.18961715698242, 60.42665100097656, 36.46961975097656, 52.33924865722656, 55.23850631713867, 57.52739334106445, 69.58219909667969, 60.42665100097656, 58.59554290771485, 26.09332847595215, 23.65184593200684, 10.376293182373047, 9.765923500061037, 51.8814697265625, 50.660728454589844, 51.42369079589844, 22.736291885375977, 55.5436897277832, 55.5436897277832, 46.08295059204102, 30.060733795166016, 49.59258270263672, 59.96887588500977, 71.87109375, 57.22220993041992, 50.96591567993164, 37.995548248291016, 51.42369079589844, 10.528885841369627, 42.878509521484375, 24.71999549865723, 27.46666145324707, 27.46666145324707, 24.262216567993164, 19.22666358947754, 19.22666358947754, 27.9244384765625, 37.07999038696289, 31.891845703125, 25.788143157958984, 25.788143157958984, 19.989625930786133, 13.73332977294922, 23.95703125, 21.820735931396484, 19.837032318115234]\n"
     ]
    }
   ],
   "source": [
    "print(gloryslist)"
   ]
  },
  {
   "cell_type": "code",
   "execution_count": 611,
   "metadata": {},
   "outputs": [
    {
     "name": "stdout",
     "output_type": "stream",
     "text": [
      "[55.76428985595703, 40.344051361083984, 55.76428985595703, 55.76428985595703, 29.444730758666992, 15.810070037841797, 40.344051361083984, 55.76428985595703, 47.37369155883789, 47.37369155883789, 47.37369155883789, 47.37369155883789, 55.76428985595703, 55.76428985595703, 47.37369155883789, 47.37369155883789, 40.344051361083984, 40.344051361083984, 77.85385131835938, 77.85385131835938, 77.85385131835938, 65.80726623535156, 77.85385131835938, 47.37369155883789, 55.76428985595703, 25.211410522460938, 55.76428985595703, 47.37369155883789, 18.495559692382812, 21.598819732666016, 34.43415069580078, 55.76428985595703, 65.80726623535156, 55.76428985595703, 34.43415069580078, 21.598819732666016, 21.598819732666016, 29.444730758666992, 47.37369155883789, 65.80726623535156, 77.85385131835938, 55.76428985595703, 55.76428985595703, 47.37369155883789, 47.37369155883789, 65.80726623535156, 77.85385131835938, 55.76428985595703, 65.80726623535156, 65.80726623535156, 77.85385131835938, 77.85385131835938, 47.37369155883789, 92.3260726928711, 55.76428985595703, 65.80726623535156, 55.76428985595703, 55.76428985595703, 25.211410522460938, 40.344051361083984, 21.598819732666016, 40.344051361083984, 55.76428985595703, 55.76428985595703, 47.37369155883789, 55.76428985595703, 29.444730758666992, 11.404999732971191, 40.344051361083984, 47.37369155883789, 55.76428985595703, 40.344051361083984, 34.43415069580078, 40.344051361083984, 47.37369155883789, 55.76428985595703, 55.76428985595703, 77.85385131835938, 47.37369155883789, 40.344051361083984, 34.43415069580078, 47.37369155883789, 40.344051361083984, 55.76428985595703, 65.80726623535156, 77.85385131835938, 47.37369155883789, 55.76428985595703, 55.76428985595703, 65.80726623535156, 77.85385131835938, 65.80726623535156, 65.80726623535156, 34.43415069580078, 34.43415069580078, 11.404999732971191, 13.467140197753906, 55.76428985595703, 55.76428985595703, 55.76428985595703, 25.211410522460938, 55.76428985595703, 55.76428985595703, 47.37369155883789, 34.43415069580078, 55.76428985595703, 65.80726623535156, 77.85385131835938, 65.80726623535156, 55.76428985595703, 47.37369155883789, 55.76428985595703, 11.404999732971191, 47.37369155883789, 29.444730758666992, 29.444730758666992, 29.444730758666992, 25.211410522460938, 21.598819732666016, 21.598819732666016, 29.444730758666992, 40.344051361083984, 40.344051361083984, 34.43415069580078, 34.43415069580078, 29.444730758666992, 21.598819732666016, 34.43415069580078, 25.211410522460938, 25.211410522460938]\n"
     ]
    }
   ],
   "source": [
    "print(glorysmywaylist)"
   ]
  },
  {
   "cell_type": "code",
   "execution_count": 586,
   "metadata": {},
   "outputs": [
    {
     "name": "stdout",
     "output_type": "stream",
     "text": [
      "5.489660383818985\n",
      "33.01948051948052\n",
      "36.51123704538717\n",
      "42.000897429206155\n",
      "-3.4917565259066494\n"
     ]
    }
   ],
   "source": [
    "print(np.mean(newdifflist))\n",
    "print(np.mean(seasonyeardepthlist))\n",
    "print(np.mean(gloryslist))\n",
    "print(np.mean(glorysmywaylist))\n",
    "print(np.mean(difflist))\n"
   ]
  },
  {
   "cell_type": "code",
   "execution_count": null,
   "metadata": {},
   "outputs": [],
   "source": [
    "6.054530554551345\n",
    "26.361538461538462\n",
    "41.68359120442317\n",
    "47.738121758974515\n",
    "-15.32205274288471"
   ]
  },
  {
   "cell_type": "code",
   "execution_count": 720,
   "metadata": {},
   "outputs": [
    {
     "data": {
      "image/png": "[encoded data removed]",
      "text/plain": [
       "<Figure size 720x720 with 1 Axes>"
      ]
     },
     "metadata": {
      "needs_background": "light"
     },
     "output_type": "display_data"
    }
   ],
   "source": [
    "plt.figure(figsize=(10,10))\n",
    "plt.xlim((0,200))\n",
    "plt.ylim((0,200))\n",
    "\n",
    "xlist = [-50,300]\n",
    "ylist = [-50,300]\n",
    "\n",
    "# new_ylist_add = [x+7.296282117188131 for x in ylist]\n",
    "# new_ylist_upper= [x+22.126405703353008 for x in new_ylist_add]\n",
    "# new_ylist_lower = [x-22.126405703353008 for x in new_ylist_add]\n",
    "\n",
    "# plt.scatter(res_list_w_glorys, res_list_w_dens, color='blue', s = 20, alpha = 0.1)\n",
    "# plt.scatter(res_list_w_glorys_su, res_list_w_dens_su, color='green', s = 20, alpha = 0.1)\n",
    "# plt.scatter(res_list_w_glorys_sp, res_list_w_dens_sp, color='red', s = 20, alpha = 0.1)\n",
    "plt.scatter(nice['glorysmyway'], nice['glorys'], color='darkorange', s = 40, alpha = 0.2)\n",
    "# plt.scatter(nice['glorysmyway'], seasonyeardepth, color='blue', s = 20, alpha = 0.1)\n",
    "# plt.scatter(nice['glorysmyway'], nice['diff'], color='red', s = 20, alpha = 0.1)\n",
    "\n",
    "\n",
    "\n",
    "plt.plot(xlist,ylist, linestyle='--', color='black', linewidth=1.5, zorder= 0)\n",
    "# plt.plot(xlist,new_ylist_add, linestyle='-', color='darkblue', linewidth=1.5, zorder= 0)\n",
    "# plt.plot(xlist,new_ylist_upper, linestyle='-', color='cornflowerblue', linewidth=1.5, zorder= 0)\n",
    "# plt.plot(xlist,new_ylist_lower, linestyle='-', color='cornflowerblue', linewidth=1.5, zorder= 0)\n",
    "\n",
    "plt.grid(b=True, which='both', color='black', linestyle='--',alpha = 0.6)\n",
    "# plt.xlabel('GLORYS-based MLDs', fontsize = 15)\n",
    "# plt.ylabel('Density-based MLDs', fontsize = 15)\n",
    "plt.xticks([0,20,40,60,80,100,120,140,160,180,200], fontsize = 15) \n",
    "plt.yticks([0,20,40,60,80,100,120,140,160,180,200], fontsize = 15) \n",
    "mpl.rcParams['axes.linewidth'] = 2\n",
    "# plt.text(15, 175, 'SMAB', dict(size=22))\n",
    "\n",
    "plt.show()"
   ]
  },
  {
   "cell_type": "code",
   "execution_count": 470,
   "metadata": {},
   "outputs": [
    {
     "data": {
      "text/plain": [
       "<matplotlib.collections.PathCollection at 0xd24f96160>"
      ]
     },
     "execution_count": 470,
     "metadata": {},
     "output_type": "execute_result"
    },
    {
     "data": {
      "image/png": "[encoded data removed]",
      "text/plain": [
       "<Figure size 432x288 with 1 Axes>"
      ]
     },
     "metadata": {
      "needs_background": "light"
     },
     "output_type": "display_data"
    }
   ],
   "source": [
    "plt.scatter(seasonyeardepth, nice['glorysmyway'],alpha=0.1)"
   ]
  },
  {
   "cell_type": "code",
   "execution_count": null,
   "metadata": {},
   "outputs": [],
   "source": []
  },
  {
   "cell_type": "code",
   "execution_count": null,
   "metadata": {},
   "outputs": [],
   "source": [
    "diff = []; latfull = []; lonfull = []; years = []; glorysfull = []\n",
    "option1 = []; option2 = []; option3 = []; option4 = []; option5 = []; option6 =[]\n",
    "pointstouse = []; seasonalmean = []; seasonalstd = []; yearwithdata = []\n",
    "finallatestdepth = []; finalfinaldepth = []; finalfinalratio = []; filteredMLDlist = []\n",
    "meanfilteredMLDlist = []; stdfilteredMLDlist = []; years = []; bananasplitmean = []\n",
    "bananasplitstd = [];floormean = [];floorstd = []; latfinal = []; lonfinal = []; ratiofinal = []\n",
    "bottomdfinal = []; filteredfloorslist = [];zi_listofarrays = []\n",
    "\n",
    "for year in range(1993,2019):\n",
    "    filename = 'casts_{}.mat'.format(year)\n",
    "    file = scipy.io.loadmat(filename,squeeze_me=True)\n",
    "    npfile = file['casts_{}'.format(year)]\n",
    "    \n",
    "    lat_intermediate = []; lon_intermediate = []; yd_intermediate = []\n",
    "    p_intermediate = []; t_intermediate = []; sal_intermediate = []\n",
    "    finaldepth = []; finallat = [];finallon = []\n",
    "    seasonyeardepth = []; seasonyeartemp = [];seasonyearsal = []; seasonyeardens = []\n",
    "    counterii = []; floors = []; floor_intermediate = []; s_intermediate = []\n",
    "    seasonyearsal = []; lat = []; lon = []; lonneg = []; pointstousesmall = []\n",
    "    yearstodate = []\n",
    "    for i in range(len(npfile)):\n",
    "        yd = npfile[i]['yd']\n",
    "        gear = npfile[i]['gear']\n",
    "        floordepth = npfile[i]['depth']\n",
    "        if gear == 'Bottle':\n",
    "            pass\n",
    "        if yd > 31 and yd <= 59 and floordepth <= 200: # and floordepth <= 200\n",
    "            lat_intermediate.append(npfile[i]['lat'])\n",
    "            lon_intermediate.append(npfile[i]['lon'])\n",
    "            p_intermediate.append(npfile[i]['p'])\n",
    "            t_intermediate.append(npfile[i]['t'])\n",
    "            yd_intermediate.append(npfile[i]['yd'])\n",
    "            sal_intermediate.append(npfile[i]['s'])\n",
    "            floor_intermediate.append(npfile[i]['depth'])\n",
    "    month_df = pd.DataFrame({'day': yd_intermediate,'lon': lon_intermediate,'lat': lat_intermediate, 'p': p_intermediate, 't': t_intermediate,'depth': floor_intermediate, 's': sal_intermediate})\n",
    "    newdf = pd.DataFrame({'lon': lon_intermediate,'lat': lat_intermediate,'date': yd_intermediate})\n",
    "    print(year)\n",
    "\n",
    "    for ii in range(len(month_df)):\n",
    "        new = newdf.iloc[ii].values\n",
    "        point = Point(new)\n",
    "        if isinstance(month_df['p'].iloc[ii], int) or isinstance(month_df['p'].iloc[ii], float) or isinstance(month_df['t'].iloc[ii], int) or isinstance(month_df['t'].iloc[ii], float):\n",
    "            pass\n",
    "#         elif polygon_w.contains(point) == True or polygon_y.contains(point) == True or polygon_t.contains(point) == True:\n",
    "        elif polygon_x.contains(point) == True or polygon_v.contains(point) == True:\n",
    "            CT = gsw.CT_from_pt(month_df['s'].iloc[ii],month_df['t'].iloc[ii])\n",
    "            DENS = gsw.sigma0(month_df['s'].iloc[ii],CT)\n",
    "            pt_df = pd.DataFrame({'p': month_df['p'].iloc[ii],'t': month_df['t'].iloc[ii], 's': month_df['s'].iloc[ii], 'CT': CT, 'DENSMLD': DENS}) \n",
    "            df_ptsnew = pt_df.dropna()\n",
    "            df_final = pd.DataFrame(df_ptsnew.values)\n",
    "            l=[i for i in df_final[0] if i<=6] \n",
    "            if len(l) > 0:\n",
    "                surfaceval = []; numrange = []\n",
    "                for iii in range(len(l)):\n",
    "                    val = df_final[1][iii]\n",
    "                    numrange.append(iii)\n",
    "                    surfaceval.append(val)            \n",
    "            surfacevalmean = statistics.mean(surfaceval)\n",
    "            densfin = []; tempfin = []; pressurefin = []; salfin = []\n",
    "            for iii in range(numrange[-1],len(df_final)):\n",
    "                tempfin.append(df_final[1][iii])\n",
    "                pressurefin.append(df_final[0][iii])\n",
    "                salfin.append(df_final[2][iii])\n",
    "                densfin.append(df_final[4][iii])\n",
    "            d = {'temp': list(reversed(tempfin)), 'sal': list(reversed(salfin)), 'pressure': list(reversed(pressurefin)),'density': list(reversed(densfin))}\n",
    "            dunreversed = {'temp': list(tempfin), 'sal': list(salfin), 'pressure': list(pressurefin), 'density': list(densfin)}\n",
    "            dffinunreversed = pd.DataFrame(dunreversed)\n",
    "            dffin = pd.DataFrame(d)\n",
    "            \n",
    "            for ix in range(len(dffinunreversed)):\n",
    "                if dffinunreversed.at[ix,'temp'] >= (surfacevalmean - 0.2) and dffinunreversed.at[ix,'temp'] <= (surfacevalmean + 0.2):\n",
    "                    if dffinunreversed.at[len(dffinunreversed)-1,'temp'] <= (surfacevalmean + 0.2) and dffinunreversed.at[len(dffinunreversed)-1,'temp'] >= (surfacevalmean - 0.2):\n",
    "                        looknow = list(dffinunreversed['temp'].values)\n",
    "                        looknow2 = [i for i in looknow if i >= (surfacevalmean + 0.2)]\n",
    "                        looknow3 = [i for i in looknow if i <= (surfacevalmean - 0.2)]\n",
    "                        for now in range(len(looknow)):\n",
    "                            if looknow[now] >= (surfacevalmean + 0.2):\n",
    "                                seasonyeardepth.append(list(dffinunreversed['pressure'].values)[now])\n",
    "                                seasonyeartemp.append(list(dffinunreversed['temp'].values)[now])\n",
    "                                seasonyearsal.append(list(dffinunreversed['sal'].values)[now])\n",
    "                                seasonyeardens.append(list(dffinunreversed['density'].values)[now])\n",
    "                                floors.append(month_df['depth'].iloc[ii])\n",
    "                                lat.append(month_df['lat'].iloc[ii])\n",
    "                                lon.append(month_df['lon'].iloc[ii])\n",
    "                                lonneg.append(month_df['lon'].iloc[ii]*-1)\n",
    "                                counterii.append(ii)\n",
    "                                option1.append(ii) # well-defined MLD\n",
    "                                break\n",
    "                        if len(looknow2) == 0 and len(looknow3) == 0:\n",
    "                            seasonyeardepth.append(dffinunreversed.at[len(dffinunreversed)-1,'pressure'])\n",
    "                            seasonyeartemp.append(dffinunreversed.at[len(dffinunreversed)-1,'temp'])\n",
    "                            seasonyearsal.append(dffinunreversed.at[len(dffinunreversed)-1,'sal'])\n",
    "                            seasonyeardens.append(dffinunreversed.at[len(dffinunreversed)-1,'density'])\n",
    "                            floors.append(month_df['depth'].iloc[ii])\n",
    "                            lat.append(month_df['lat'].iloc[ii])\n",
    "                            lon.append(month_df['lon'].iloc[ii])\n",
    "                            lonneg.append(month_df['lon'].iloc[ii]*-1)\n",
    "                            counterii.append(ii)\n",
    "                            option2.append(ii) # fully mixed profile (from some troublesome profiles)\n",
    "                        break\n",
    "                    else:\n",
    "                        pass                    \n",
    "                else:\n",
    "                    if dffinunreversed.at[ix,'pressure'] >= (month_df['depth'].iloc[ii] - 6): # ALL MIXED\n",
    "                        if dffinunreversed.at[ix,'pressure'] == dffinunreversed.at[len(dffinunreversed)-1,'pressure']:\n",
    "                            if dffinunreversed.at[ix,'pressure'] <= (month_df['depth'].iloc[ii] - 6):\n",
    "                                pass\n",
    "                            else:\n",
    "                                if month_df['depth'].iloc[ii] <= 300:\n",
    "                                    seasonyeardepth.append(dffinunreversed.at[ix,'pressure'])\n",
    "                                    seasonyeartemp.append(dffinunreversed.at[ix,'temp'])\n",
    "                                    seasonyearsal.append(dffinunreversed.at[ix,'sal'])\n",
    "                                    seasonyeardens.append(dffinunreversed.at[len(dffinunreversed)-1,'density'])\n",
    "                                    floors.append(month_df['depth'].iloc[ii])\n",
    "                                    lat.append(month_df['lat'].iloc[ii])\n",
    "                                    lon.append(month_df['lon'].iloc[ii])\n",
    "                                    lonneg.append(month_df['lon'].iloc[ii]*-1)\n",
    "                                    counterii.append(ii)\n",
    "                                    option3.append(ii)\n",
    "                        else:\n",
    "                            if month_df['depth'].iloc[ii] <= 300:\n",
    "                                seasonyeardepth.append(dffinunreversed.at[ix,'pressure'])\n",
    "                                seasonyeartemp.append(dffinunreversed.at[ix,'temp'])\n",
    "                                seasonyearsal.append(dffinunreversed.at[ix,'sal'])\n",
    "                                seasonyeardens.append(dffinunreversed.at[len(dffinunreversed)-1,'density'])\n",
    "                                floors.append(month_df['depth'].iloc[ii])\n",
    "                                lat.append(month_df['lat'].iloc[ii])\n",
    "                                lon.append(month_df['lon'].iloc[ii])\n",
    "                                lonneg.append(month_df['lon'].iloc[ii]*-1)\n",
    "                                counterii.append(ii)\n",
    "                                option4.append(ii)\n",
    "                    elif dffinunreversed.at[ix,'pressure'] == 0:\n",
    "                        pass\n",
    "                    elif ix == 0: \n",
    "                        if month_df['depth'].iloc[ii] <= 300:\n",
    "                            seasonyeardepth.append(dffinunreversed.at[ix,'pressure'])\n",
    "                            seasonyeartemp.append(dffinunreversed.at[ix,'temp'])\n",
    "                            seasonyearsal.append(dffinunreversed.at[ix,'sal'])\n",
    "                            seasonyeardens.append(dffinunreversed.at[len(dffinunreversed)-1,'density'])\n",
    "                            floors.append(month_df['depth'].iloc[ii])\n",
    "                            lat.append(month_df['lat'].iloc[ii])\n",
    "                            lon.append(month_df['lon'].iloc[ii])\n",
    "                            lonneg.append(month_df['lon'].iloc[ii]*-1)\n",
    "                            counterii.append(ii)\n",
    "                            option5.append(ii)\n",
    "                    else: # Well-defined mixed layer detected\n",
    "                        if month_df['depth'].iloc[ii] <= 300:\n",
    "                            seasonyeardepth.append(dffinunreversed.at[ix,'pressure'])\n",
    "                            seasonyeartemp.append(dffinunreversed.at[ix,'temp'])\n",
    "                            seasonyearsal.append(dffinunreversed.at[ix,'sal'])\n",
    "                            seasonyeardens.append(dffinunreversed.at[len(dffinunreversed)-1,'density'])\n",
    "                            floors.append(month_df['depth'].iloc[ii])\n",
    "                            lat.append(month_df['lat'].iloc[ii])\n",
    "                            lon.append(month_df['lon'].iloc[ii])\n",
    "                            lonneg.append(month_df['lon'].iloc[ii]*-1)\n",
    "                            counterii.append(ii)\n",
    "                            option6.append(ii)\n",
    "                            break\n",
    "                    break\n",
    "\n",
    "    inlat = []; inlon = []; date = []\n",
    "    for timer in counterii:\n",
    "        inlat.append(newdf['lat'][timer])\n",
    "        inlon.append(newdf['lon'][timer])\n",
    "        date.append(newdf['date'][timer])                 \n",
    "    if len(seasonyeardepth) > 0:    \n",
    "#         if len(seasonyeardepth) == 1:  \n",
    "#             std = 0\n",
    "#             seasonalstd.append(std)\n",
    "#         else:\n",
    "#             seasonalstd.append(statistics.stdev(seasonyeardepth))\n",
    "        yearwithdata.append(year)\n",
    "        seasonalmean.append(statistics.mean(seasonyeardepth))\n",
    "#         seasonalstd.append(statistics.stdev(seasonyeardepth))\n",
    "        full = pd.DataFrame({'mld': seasonyeardepth,'lat': lat, 'lon': lon, 'date': date}) \n",
    "        finallatestdepth.append(seasonyeardepth)\n",
    "    print(len(seasonyeardepth))\n",
    "    for x in range(len(date)):\n",
    "        use=DS.sel(time=slice('{}-02-01'.format(year),'{}-02-28'.format(year))) \n",
    "        locate_date = use.sel(time=use.time.dt.day==(date[x])-31)\n",
    "        mld_locate_date = locate_date.mlotst.values[0]\n",
    "    \n",
    "        lat = np.array(locate_date.mlotst['latitude'][:])\n",
    "        long = np.array(locate_date.mlotst['longitude'][:])\n",
    "    \n",
    "        lonneg = [float(i)*-1 for i in inlon]\n",
    "        distanceslat = []; distanceslon = []\n",
    "        for i in range(133):\n",
    "            distanceslat.append((inlat[x] - lat[i])**2)\n",
    "            index_min_lat = min(range(len(distanceslat)), key=distanceslat.__getitem__)\n",
    "        for ii in range(181):\n",
    "            distanceslon.append((lonneg[x] - long[ii])**2)\n",
    "            index_min_lon = min(range(len(distanceslon)), key=distanceslon.__getitem__)\n",
    "        lat_index_use, lon_index_use = index_min_lat, index_min_lon\n",
    "        pointstouse.append(mld_locate_date[lat_index_use, lon_index_use]) \n",
    "        yearstodate.append(year)\n",
    "        pointstousesmall.append(mld_locate_date[lat_index_use, lon_index_use])\n",
    "#         print('******', pointstousesmall)\n",
    "    newfull = pd.DataFrame({'mld': seasonyeardepth,'lat': inlat, 'lon': inlon, 'date': date, 'glorys': pointstousesmall}) \n",
    "    val1_minus_val10 = list(newfull[\"mld\"] - newfull[\"glorys\"])\n",
    "    \n",
    "#     print(val1_minus_val10)\n",
    "# #     print(newfull)\n",
    "#     diff.append(val1_minus_val10)\n",
    "#     print('!!!!!', diff)\n",
    "#     latfull.append(list(newfull['lat']))\n",
    "#     lonfull.append(list(newfull['lon']))\n",
    "#     glorysfull.append(list(newfull['glorys']))\n",
    "#     years.append(list(yearstodate))"
   ]
  },
  {
   "cell_type": "code",
   "execution_count": null,
   "metadata": {},
   "outputs": [],
   "source": []
  },
  {
   "cell_type": "code",
   "execution_count": null,
   "metadata": {},
   "outputs": [],
   "source": []
  },
  {
   "cell_type": "code",
   "execution_count": null,
   "metadata": {},
   "outputs": [],
   "source": []
  },
  {
   "cell_type": "code",
   "execution_count": null,
   "metadata": {},
   "outputs": [],
   "source": []
  },
  {
   "cell_type": "code",
   "execution_count": null,
   "metadata": {},
   "outputs": [],
   "source": []
  },
  {
   "cell_type": "code",
   "execution_count": 115,
   "metadata": {},
   "outputs": [],
   "source": [
    "neww = [['', '', '40.00', '', '', '69.50'], ['', '', '40.30', '', '', '68.00'], ['', '', '40.40', '', '', '67.50'], ['', '', '40.60', '', '', '67.00'], ['', '', '40.80', '', '', '66.50'], ['', '', '41.45', '', '', '66.00'], ['', '', '41.80', '', '', '65.70'], ['', '', '42.10', '', '', '66.00'], ['', '', '42.10', '', '', '67.00'], ['', '', '42.10', '', '', '67.50'], ['', '', '41.80', '', '', '68.00'], ['', '', '41.10', '', '', '69.00'], ['', '', '41.00', '', '', '69.50'], ['', '', '40.00', '', '', '69.50']]\n",
    "lon_w = []; lat_w = []\n",
    "for i in range(14): \n",
    "    w1 = neww[i][2]\n",
    "    lat_w.append(w1)\n",
    "    w3 = neww[i][5]\n",
    "    lon_w.append(w3)\n",
    "lonlist_w = [float(i) for i in lon_w]; latlist_w = [float(i) for i in lat_w]\n",
    "lonlist_wneg = [float(i)*-1 for i in lon_w]\n",
    "df_w = pd.DataFrame({'lon': lonlist_w, 'lat': latlist_w,})\n",
    "df_w_plottable = pd.DataFrame({'lon': lonlist_wneg, 'lat': latlist_w,})\n",
    "\n",
    "lonlist_w_plot = [float(i)*-1 for i in lon_w]; latlist_w = [float(i) for i in lat_w]\n",
    "df_w_plot = pd.DataFrame({'lon': lonlist_w_plot, 'lat': latlist_w,})\n",
    "x_w = df_w_plot['lon']; y_w = df_w_plot['lat']\n",
    "polygon_w = Polygon(df_w.values)"
   ]
  },
  {
   "cell_type": "code",
   "execution_count": 116,
   "metadata": {},
   "outputs": [],
   "source": [
    "newv = [['', '', '37.00', '', '', '76.00'], ['', '', '36.00', '', '', '75.50'], ['', '', '35.50', '', '', '75.00'], ['', '', '36.00', '', '', '74.75'], ['', '', '37.40', '', '', '74.50'], ['', '', '39.50', '', '', '72.00'], ['', '', '40.50', '', '', '74.00'], ['', '', '39.40', '', '', '74.25'], ['', '', '37.00', '', '', '76.00']]\n",
    "lon_v = []; lat_v = []\n",
    "for i in range(9): \n",
    "    v1 = newv[i][2]\n",
    "    lat_v.append(v1)\n",
    "    v3 = newv[i][5]\n",
    "    lon_v.append(v3)\n",
    "lonlist_v = [float(i) for i in lon_v]; latlist_v = [float(i) for i in lat_v]\n",
    "df_v = pd.DataFrame({'lon': lonlist_v, 'lat': latlist_v,})\n",
    "lonlist_v_plot = [float(i)*-1 for i in lon_v]; latlist_v = [float(i) for i in lat_v]\n",
    "df_v_plot = pd.DataFrame({'lon': lonlist_v_plot, 'lat': latlist_v,})\n",
    "x_v = df_v_plot['lon']; y_v = df_v_plot['lat']\n",
    "\n",
    "lonlist_vneg = [float(i)*-1 for i in lon_v]\n",
    "df_v_plottable = pd.DataFrame({'lon': lonlist_vneg, 'lat': latlist_v,})\n",
    "polygon_v = Polygon(df_v.values.tolist())"
   ]
  },
  {
   "cell_type": "code",
   "execution_count": 117,
   "metadata": {},
   "outputs": [],
   "source": [
    "newx = [['', '', '40.50', '', '', '74.00'], ['', '', '39.50', '', '', '72.00'], ['', '', '40.00', '', '', '71.40'], ['', '', '40.00', '', '', '69.50'], ['', '', '41.00', '', '', '69.50'], ['', '', '41.10', '', '', '70.00'], ['', '', '41.00', '', '', '72.00'], ['', '', '40.50', '', '', '74.00']]\n",
    "lon_x = []; lat_x = []\n",
    "for i in range(8): \n",
    "    x1 = newx[i][2]\n",
    "    lat_x.append(x1)\n",
    "    x3 = newx[i][5]\n",
    "    lon_x.append(x3)\n",
    "lonlist_x = [float(i) for i in lon_x]; latlist_x = [float(i) for i in lat_x]\n",
    "df_x = pd.DataFrame({'lon': lonlist_x, 'lat': latlist_x,})\n",
    "lonlist_x_plot = [float(i)*-1 for i in lon_x]; latlist_x = [float(i) for i in lat_x]\n",
    "df_x_plot = pd.DataFrame({'lon': lonlist_x_plot, 'lat': latlist_x,})\n",
    "x_x = df_x_plot['lon']; y_x = df_x_plot['lat']\n",
    "\n",
    "lonlist_xneg = [float(i)*-1 for i in lon_x]\n",
    "df_x_plottable = pd.DataFrame({'lon': lonlist_xneg, 'lat': latlist_x,})\n",
    "polygon_x = Polygon(df_x.values.tolist())"
   ]
  },
  {
   "cell_type": "code",
   "execution_count": 118,
   "metadata": {},
   "outputs": [],
   "source": [
    "newy = [['', '', '41.80', '', '', '68.00'], ['', '', '42.10', '', '', '67.50'], ['', '', '42.10', '', '', '67.00'], ['', '', '42.10', '', '', '66.00'], ['', '', '43.00', '', '', '66.00'], ['', '', '44.20', '', '', '66.50'], ['', '', '44.20', '', '', '67.00'], ['', '', '44.20', '', '', '68.00'], ['', '', '41.80', '', '', '68.00']]\n",
    "lon_y = []; lat_y = []\n",
    "for i in range(9): \n",
    "    y1 = newy[i][2]\n",
    "    lat_y.append(y1)\n",
    "    y3 = newy[i][5]\n",
    "    lon_y.append(y3)\n",
    "lonlist_y = [float(i) for i in lon_y]; latlist_y = [float(i) for i in lat_y]\n",
    "df_y = pd.DataFrame({'lon': lonlist_y, 'lat': latlist_y,})\n",
    "lonlist_y_plot = [float(i)*-1 for i in lon_y]; latlist_y = [float(i) for i in lat_y]\n",
    "df_y_plot = pd.DataFrame({'lon': lonlist_y_plot, 'lat': latlist_y,})\n",
    "x_y = df_y_plot['lon']; y_y = df_y_plot['lat']\n",
    "\n",
    "lonlist_yneg = [float(i)*-1 for i in lon_y]\n",
    "df_y_plottable = pd.DataFrame({'lon': lonlist_yneg, 'lat': latlist_y,})\n",
    "polygon_y = Polygon(df_y.values)"
   ]
  },
  {
   "cell_type": "code",
   "execution_count": 119,
   "metadata": {},
   "outputs": [],
   "source": [
    "newt = [['', '', '42.20', '', '', '70.50'], ['', '', '42.00', '', '', '70.00'], ['', '', '41.10', '', '', '69.00'], ['', '', '41.80', '', '', '68.00'], ['', '', '44.20', '', '', '68.00'], ['', '', '43.90', '', '', '69.00'], ['', '', '43.70', '', '', '70.00'], ['', '', '43.00', '', '', '70.50'], ['', '', '42.20', '', '', '70.50']]\n",
    "lon_t = []; lat_t = []\n",
    "for i in range(9): \n",
    "    t1 = newt[i][2]\n",
    "    lat_t.append(t1)\n",
    "    t3 = newt[i][5]\n",
    "    lon_t.append(t3)\n",
    "lonlist_t = [float(i) for i in lon_t]; latlist_t = [float(i) for i in lat_t]\n",
    "df_t = pd.DataFrame({'lon': lonlist_t, 'lat': latlist_t,})\n",
    "lonlist_t_plot = [float(i)*-1 for i in lon_t]; latlist_t = [float(i) for i in lat_t]\n",
    "df_t_plot = pd.DataFrame({'lon': lonlist_t_plot, 'lat': latlist_t,})\n",
    "x_t = df_t_plot['lon']; y_t = df_t_plot['lat']\n",
    "\n",
    "lonlist_tneg = [float(i)*-1 for i in lon_t]\n",
    "df_t_plottable = pd.DataFrame({'lon': lonlist_tneg, 'lat': latlist_t,})\n",
    "polygon_t = Polygon(df_t.values)"
   ]
  },
  {
   "cell_type": "code",
   "execution_count": 183,
   "metadata": {},
   "outputs": [],
   "source": [
    "glorys12v1 ='global-reanalysis-phy-001-030-daily_1596465428590.nc'"
   ]
  },
  {
   "cell_type": "code",
   "execution_count": 184,
   "metadata": {},
   "outputs": [],
   "source": [
    "DS=xr.open_dataset(glorys12v1)"
   ]
  },
  {
   "cell_type": "code",
   "execution_count": 276,
   "metadata": {
    "scrolled": true
   },
   "outputs": [
    {
     "name": "stdout",
     "output_type": "stream",
     "text": [
      "1993\n",
      "17\n",
      "[-25.891845703125, -26.502216339111328, -20.39851188659668, -24.976289749145508, -26.044437408447266, 14.767414093017578, 18.822227478027344, 41.38370704650879, -7.145179748535156, 4.09185791015625, -4.025178909301758, -11.992586135864258, -3.586660385131836, -5.096286773681641, -21.7718448638916, -27.417770385742188, -30.622215270996094]\n",
      "1994\n",
      "0\n",
      "[]\n",
      "1995\n",
      "0\n",
      "[]\n",
      "1996\n",
      "3\n",
      "[-3.0444374084472656, 4.108154296875, 7.702228546142578]\n",
      "1997\n",
      "0\n",
      "[]\n",
      "1998\n",
      "37\n",
      "[-14.586660385131836, -2.1288814544677734, -4.534809112548828, 8.991117477416992, -7.314067840576172, -10.314067840576172, -9.856290817260742, 0.4681529998779297, -14.414810180664062, -0.7688846588134766, -6.39851188659668, -11.551105499267578, -17.48295783996582, -25.281475067138672, -13.684440612792969, -21.161476135253906, -9.38221549987793, 3.685932159423828, -20.703697204589844, 7.685932159423828, 6.685932159423828, 7.53333854675293, 9.685932159423828, 9.685932159423828, -2.229623794555664, 12.770376205444336, 8.108154296875, 6.838523864746094, 12.838523864746094, 11.838523864746094, 8.108154296875, 11.53333854675293, 16.786672592163086, 16.413339614868164, 4.108154296875, -10.570362091064453, -26.959991455078125]\n",
      "1999\n",
      "32\n",
      "[-13.654808044433594, 6.6148223876953125, -11.839994430541992, 2.6533374786376953, 11.17630386352539, 2.680011749267578, -7.488880157470703, 11.734821319580078, 8.228155136108398, -16.80739974975586, -14.294811248779297, -1.9051799774169922, 4.5851898193359375, -20.891845703125, -23.943695068359375, -22.80739974975586, 6.925930023193359, -7.771844863891602, -5.194068908691406, -7.534809112548828, -4.174812316894531, -21.619253158569336, -4.891845703125, -6.739252090454102, -0.4859199523925781, -10.485919952392578, 7.413339614868164, -24.485919952392578, 8.53333854675293, -22.297771453857422, 14.108154296875, 2.754079818725586]\n",
      "2000\n",
      "39\n",
      "[-30.011844635009766, -17.804439544677734, -31.537769317626953, -25.7392520904541, -18.567401885986328, -23.90814208984375, 29.8903751373291, -21.216285705566406, -28.943695068359375, -22.687400817871094, -29.401473999023438, 4.942226409912109, 22.51704216003418, -4.284435272216797, -11.551105499267578, -20.39851188659668, -3.327404022216797, 12.552597045898438, 2.4681529998779297, -19.788143157958984, 2.026670455932617, -6.278512954711914, -19.635549545288086, -18.414810180664062, 21.568893432617188, 24.705188751220703, 6.195560455322266, 16.737783432006836, 20.685932159423828, 9.211856842041016, -14.109624862670898, 19.108154296875, -16.297771453857422, -7.891845703125, -12.199989318847656, -26.19702911376953, -3.87554931640625, 3.514080047607422, -30.622215270996094]\n",
      "2001\n",
      "27\n",
      "[-10.327404022216797, -3.885922431945801, -11.768884658813477, -11.07406997680664, 5.097781181335449, -6.512589454650879, -3.6488847732543945, -8.616292953491211, -3.1229591369628906, -5.885922431945801, -7.717033386230469, 1.6562995910644531, -14.752588272094727, 0.8251876831054688, -5.346662521362305, -11.853330612182617, -6.074069976806641, -12.158514022827148, -5.428144454956055, 20.351115226745605, -5.51555061340332, 2.4681529998779297, -5.817774772644043, -10.937774658203125, -16.788143157958984, 1.0755615234375, 16.805931091308594]\n",
      "2002\n",
      "25\n",
      "[-8.04739761352539, -6.94073486328125, -13.976289749145508, -5.281475067138672, -14.232585906982422, -16.232585906982422, 22.95852279663086, -8.576282501220703, 10.10223388671875, -6.079990386962891, 6.157047271728516, -4.671104431152344, -4.671104431152344, -16.278512954711914, 18.933345794677734, 16.511119842529297, 15.93630599975586, -22.287395477294922, -37.794063568115234, -25.281475067138672, -25.281475067138672, -29.8592529296875, -29.554065704345703, 15.914085388183594, 5.219272613525391]\n",
      "2003\n",
      "25\n",
      "[4.318521499633789, -3.834071159362793, -4.665182113647461, -0.5125894546508789, -4.376293182373047, -1.986663818359375, 4.471114158630371, 0.013336181640625, -4.528885841369629, 3.471114158630371, -4.528885841369629, 14.165928840637207, 14.471114158630371, 8.165928840637207, 15.860743522644043, 14.402965545654297, 18.724448204040527, 14.656299591064453, 4.282966613769531, 12.672595977783203, 0.8414859771728516, 23.47111415863037, 5.471114158630371, 14.487410545349121, 8.165928840637207]\n",
      "2004\n",
      "41\n",
      "[-9.839994430541992, -18.317028045654297, 28.04592990875244, 21.90963363647461, 8.182225227355957, -17.04147720336914, -11.278512954711914, -5.275551795959473, -0.986663818359375, -3.986663818359375, 3.013336181640625, -1.632589340209961, -0.834071159362793, 0.5555582046508789, 11.471114158630371, 6.708150863647461, 16.47111415863037, -0.6814785003662109, 6.114077568054199, 1.165928840637207, 3.318521499633789, 2.471114158630371, -13.837032318115234, -17.346662521362305, -2.8236961364746094, -20.551105499267578, -16.278512954711914, -11.700736999511719, 18.094820022583008, 18.24445152282715, -22.437026977539062, 15.705188751220703, 19.451854705810547, -8.39851188659668, -15.284435272216797, -29.401473999023438, -32.75851058959961, -19.09925079345703, 3.5496368408203125, 1.2963027954101562, 5.802970886230469]\n",
      "2005\n",
      "51\n",
      "[-13.537769317626953, 2.471114158630371, -10.327404022216797, 11.471114158630371, 9.623706817626953, 0.4711141586303711, 0.16592884063720703, -3.834071159362793, -4.528885841369629, -1.528885841369629, 7.471114158630371, -4.528885841369629, -4.528885841369629, -8.648884773254395, -4.834071159362793, 9.471114158630371, 3.182225227355957, -5.580737113952637, 2.555558204650879, 4.029632568359375, 4.471114158630371, 15.708150863647461, 14.165928840637207, 8.708150863647461, 7.825187683105469, 8.571855545043945, 8.961484909057617, 17.162967681884766, 9.198522567749023, -0.4636993408203125, 24.231115341186523, 22.195560455322266, 11.277046203613281, 1.108154296875, 19.565933227539062, 3.8711185455322266, -8.04147720336914, 8.802970886230469, -14.447402954101562, -26.654808044433594, -21.7718448638916, 3.715564727783203, -7.4207305908203125, 4.494823455810547, 0.15704727172851562, 29.822227478027344, -13.788143157958984, -2.616292953491211, 0.045929908752441406, 10.13037395477295, 2.555558204650879]\n",
      "2006\n",
      "27\n",
      "[-9.411848068237305, -10.38221549987793, -10.905179977416992, -2.025178909301758, -14.161476135253906, -18.161476135253906, -14.905179977416992, -11.905179977416992, -12.905179977416992, -10.700736999511719, -9.619253158569336, -9.401473999023438, -19.161476135253906, -21.891845703125, -1.7555484771728516, -8.820735931396484, -14.51555061340332, -19.09332847595215, 18.751117706298828, 26.31555938720703, 5.176303863525391, -4.722953796386719, -4.823696136474609, 5.887413024902344, -14.905179977416992, -8.343700408935547, 15.029632568359375]\n",
      "2007\n",
      "22\n",
      "[-6.817774772644043, -6.512589454650879, -3.7496261596679688, -20.856290817260742, -12.463699340820312, -16.431106567382812, -20.551105499267578, 4.718524932861328, 20.33185577392578, 4.991117477416992, -21.314067840576172, -23.90814208984375, -13.891845703125, -0.3851776123046875, -0.5703620910644531, -1.7718448638916016, -1.7392520904541016, -17.891845703125, -12.434066772460938, -3.008882522583008, 10.497783660888672, -12.265178680419922]\n",
      "2008\n",
      "39\n",
      "[14.653337478637695, -17.77480697631836, 8.333351135253906, 19.669635772705078, -8.496293067932129, -12.463699340820312, 34.33481788635254, 51.09778118133545, 8.890375137329102, 7.097781181335449, -7.885922431945801, 18.47111415863037, -10.327404022216797, -10.327404022216797, 35.62370681762695, -11.093328475952148, -6.207404136657715, -11.395551681518555, -9.411848068237305, -7.090366363525391, -12.684440612792969, 0.1466693878173828, 10.400003433227539, 39.013336181640625, 35.94518852233887, 5.906671524047852, 3.9066715240478516, 13.604448318481445, -4.158514022827148, -13.379255294799805, -5.671104431152344, -5.291849136352539, 2.318521499633789, 4.471114158630371, 36.47111415863037, 9.471114158630371, 2.471114158630371, -4.528885841369629, -4.528885841369629]\n",
      "2009\n",
      "54\n",
      "[-20.839994430541992, -14.839994430541992, -14.736291885375977, -12.921478271484375, -12.921478271484375, -0.3303642272949219, 2.8222274780273438, -25.06369400024414, -4.005922317504883, -9.537769317626953, 16.263708114624023, -4.528885841369629, -29.494800567626953, 0.062225341796875, -1.4859199523925781, -26.794063568115234, -17.651845932006836, -36.845916748046875, -23.219249725341797, -16.06369400024414, -2.7851810455322266, -14.48295783996582, -5.025178909301758, 7.282966613769531, -1.213327407836914, -2.548145294189453, -8.447402954101562, 29.263708114624023, -8.548145294189453, -12.959991455078125, -10.022218704223633, -14.537769317626953, -1.291849136352539, -4.528885841369629, 0.010374069213867188, 5.5525970458984375, 1.062225341796875, 3.9585227966308594, 2.6370410919189453, 0.21481895446777344, -9.668144226074219, -16.414810180664062, -6.213327407836914, 8.318521499633789, 0.04296875, 20.672595977783203, -11.447402954101562, -11.548145294189453, -4.376293182373047, -8.86962604522705, -9.785181045532227, -5.291849136352539, -4.834071159362793, -29.8592529296875]\n"
     ]
    },
    {
     "name": "stdout",
     "output_type": "stream",
     "text": [
      "2010\n",
      "42\n",
      "[-10.937774658203125, 12.860743522644043, 4.925930023193359, 17.623706817626953, 2.721487045288086, -7.733329772949219, -8.801477432250977, -10.619253158569336, 0.9259300231933594, -19.177772521972656, 20.623706817626953, 17.010374069213867, 3.448894500732422, -0.3111076354980469, 8.299263000488281, 6.263708114624023, 2.9585227966308594, -10.463699340820312, 11.263708114624023, -17.194068908691406, -16.888883590698242, -27.417770385742188, 10.822227478027344, -23.145179748535156, -24.518512725830078, -29.09628677368164, -25.75851058959961, 1.5496368408203125, 8.805931091308594, -28.333324432373047, -26.959991455078125, -32.45332336425781, -27.72295379638672, -0.7036972045898438, 13.160005569458008, -42.52443313598633, -23.09925079345703, -25.205913543701172, 23.38370704650879, -5.49925422668457, 4.260747909545898, 5.61778450012207]\n",
      "2011\n",
      "48\n",
      "[-21.314067840576172, 28.63408088684082, 1.2607479095458984, -13.837032318115234, -23.82369613647461, -21.619253158569336, -11.297771453857422, -22.38221549987793, 14.211856842041016, -5.174812316894531, 2.991117477416992, -2.191107749938965, -8.619253158569336, -3.528885841369629, -24.385177612304688, -21.619253158569336, -2.599996566772461, -12.8162841796875, -11.36591911315918, -18.719995498657227, -15.635549545288086, -13.635549545288086, -14.583698272705078, -18.719995498657227, -3.3792552947998047, -4.752588272094727, -15.51555061340332, -2.226663589477539, -16.38221549987793, 35.77629852294922, -12.768884658813477, -12.768884658813477, -6.207404136657715, -6.191107749938965, -0.5288858413696289, 14.471114158630371, -2.528885841369629, -4.528885841369629, -4.528885841369629, -4.528885841369629, 1.471114158630371, -2.5807371139526367, -1.970367431640625, -4.580737113952637, -21.619253158569336, -4.586660385131836, 7.143709182739258, 4.435559272766113]\n",
      "2012\n",
      "38\n",
      "[-24.434066772460938, -6.4636993408203125, -1.528885841369629, -27.112586975097656, 25.1140775680542, -9.755548477172852, -40.134803771972656, -12.616292953491211, -8.142217636108398, 19.571855545043945, -13.53184700012207, 11.448894500732422, -8.343700408935547, -10.937774658203125, -19.7718448638916, -29.979251861572266, 42.088897705078125, -23.554065704345703, -18.992586135864258, -10.599996566772461, -3.6488847732543945, -8.801477432250977, -4.528885841369629, -4.444441795349121, -4.528885841369629, -6.733329772949219, -7.479997634887695, -26.502216339111328, -29.248882293701172, -26.537769317626953, -8.976289749145508, -30.16443634033203, -19.177772521972656, -13.297771453857422, -20.229623794555664, -0.3599967956542969, -13.709617614746094, -22.077030181884766]\n",
      "2013\n",
      "28\n",
      "[-20.551105499267578, -14.294811248779297, -17.651845932006836, -25.7392520904541, -18.262216567993164, 2.5600128173828125, -20.551105499267578, 1.2444515228271484, 18.546676635742188, -25.281475067138672, -25.281475067138672, -24.976289749145508, -24.976289749145508, -25.7392520904541, -25.7392520904541, 6.718524932861328, -20.69036102294922, -14.297771453857422, -3.0118446350097656, 3.974821090698242, 23.157047271728516, 0.8711185455322266, 0.6014881134033203, 42.41630172729492, 15.614822387695312, 3.666675567626953, 1.9259300231933594, 15.640003204345703]\n",
      "2014\n",
      "47\n",
      "[-38.862213134765625, -40.96591567993164, -2.376293182373047, 27.419262886047363, -7.093328475952148, 6.367410659790039, 6.977781295776367, -5.242959976196289, -10.570362091064453, -40.949615478515625, -4.079990386962891, 13.331855773925781, 36.99407768249512, -28.303691864013672, 2.770376205444336, -16.431106567382812, 10.214818954467773, -7.885922431945801, -10.479997634887695, 19.146669387817383, -25.891845703125, -14.294811248779297, -3.8592529296875, 23.04592990875244, 14.740744590759277, 24.786672592163086, 7.914085388183594, -36.761470794677734, 18.0755615234375, 6.364450454711914, -26.554065704345703, -27.265178680419922, -20.551105499267578, -25.434066772460938, -12.943695068359375, -15.943695068359375, -13.95703125, -31.995548248291016, -1.3659191131591797, -16.736291885375977, 9.860743522644043, 9.640003204345703, -1.970367431640625, 4.318521499633789, -4.681478500366211, 30.214818954467773, 25.28296661376953]\n",
      "2015\n",
      "0\n",
      "[]\n",
      "2016\n",
      "0\n",
      "[]\n",
      "2017\n",
      "29\n",
      "[17.623706817626953, 15.503706932067871, 32.47111415863037, 24.623706817626953, 24.623706817626953, 4.977781295776367, 20.789634704589844, -8.548145294189453, -5.319988250732422, -5.3881378173828125, 12.394081115722656, 0.4355592727661133, 2.708150863647461, -5.428144454956055, -12.719995498657227, 23.552597045898438, 11.552597045898438, 7.805931091308594, -18.177772521972656, -1.1585140228271484, -4.359996795654297, -12.005922317504883, -8.599996566772461, 6.708150863647461, 7.029632568359375, 8.503706932067871, 13.045929908752441, 27.435559272766113, -7.885922431945801]\n",
      "2018\n",
      "40\n",
      "[3.402965545654297, -2.905179977416992, -0.3792552947998047, -5.229623794555664, -9.09036636352539, -20.551105499267578, -4.681478500366211, -16.39851188659668, 16.351115226745605, -6.038515090942383, 4.571855545043945, 5.672595977783203, 0.9614849090576172, 1.334817886352539, -1.5807371139526367, -5.038515090942383, -3.834071159362793, 9.860743522644043, 8.640003204345703, 11.451854705810547, -13.989625930786133, 12.87704086303711, 12.029632568359375, 17.013336181640625, -7.885922431945801, -5.597034454345703, 11.737783432006836, 16.263708114624023, 10.348154067993164, 14.637041091918945, 17.214818954467773, 20.162967681884766, 6.588151931762695, 5.432598114013672, 17.179264068603516, 30.991117477416992, 32.99111747741699, -3.891845703125, -20.245920181274414, 9.53333854675293]\n"
     ]
    }
   ],
   "source": [
    "diff = []; latfull = []; lonfull = []; years = []; glorysfull = []\n",
    "option1 = []; option2 = []; option3 = []; option4 = []; option5 = []; option6 =[]\n",
    "pointstouse = []; seasonalmean = []; seasonalstd = []; yearwithdata = []\n",
    "finallatestdepth = []; finalfinaldepth = []; finalfinalratio = []; filteredMLDlist = []\n",
    "meanfilteredMLDlist = []; stdfilteredMLDlist = []; years = []; bananasplitmean = []\n",
    "bananasplitstd = [];floormean = [];floorstd = []; latfinal = []; lonfinal = []; ratiofinal = []\n",
    "bottomdfinal = []; filteredfloorslist = [];zi_listofarrays = []\n",
    "\n",
    "for year in range(1993,2019):\n",
    "    filename = 'casts_{}.mat'.format(year)\n",
    "    file = scipy.io.loadmat(filename,squeeze_me=True)\n",
    "    npfile = file['casts_{}'.format(year)]\n",
    "    \n",
    "    lat_intermediate = []; lon_intermediate = []; yd_intermediate = []\n",
    "    p_intermediate = []; t_intermediate = []; sal_intermediate = []\n",
    "    finaldepth = []; finallat = [];finallon = []\n",
    "    seasonyeardepth = []; seasonyeartemp = [];seasonyearsal = []; seasonyeardens = []\n",
    "    counterii = []; floors = []; floor_intermediate = []; s_intermediate = []\n",
    "    seasonyearsal = []; lat = []; lon = []; lonneg = []; pointstousesmall = []\n",
    "    yearstodate = []\n",
    "    for i in range(len(npfile)):\n",
    "        yd = npfile[i]['yd']\n",
    "        gear = npfile[i]['gear']\n",
    "        floordepth = npfile[i]['depth']\n",
    "        if gear == 'Bottle':\n",
    "            pass\n",
    "        if yd > 304 and yd <= 334 and floordepth <= 200: # and floordepth <= 200\n",
    "            lat_intermediate.append(npfile[i]['lat'])\n",
    "            lon_intermediate.append(npfile[i]['lon'])\n",
    "            p_intermediate.append(npfile[i]['p'])\n",
    "            t_intermediate.append(npfile[i]['t'])\n",
    "            yd_intermediate.append(npfile[i]['yd'])\n",
    "            sal_intermediate.append(npfile[i]['s'])\n",
    "            floor_intermediate.append(npfile[i]['depth'])\n",
    "    month_df = pd.DataFrame({'day': yd_intermediate,'lon': lon_intermediate,'lat': lat_intermediate, 'p': p_intermediate, 't': t_intermediate,'depth': floor_intermediate, 's': sal_intermediate})\n",
    "    newdf = pd.DataFrame({'lon': lon_intermediate,'lat': lat_intermediate,'date': yd_intermediate})\n",
    "    print(year)\n",
    "\n",
    "    for ii in range(len(month_df)):\n",
    "        new = newdf.iloc[ii].values\n",
    "        point = Point(new)\n",
    "        if isinstance(month_df['p'].iloc[ii], int) or isinstance(month_df['p'].iloc[ii], float) or isinstance(month_df['t'].iloc[ii], int) or isinstance(month_df['t'].iloc[ii], float):\n",
    "            pass\n",
    "#         elif polygon_w.contains(point) == True or polygon_y.contains(point) == True or polygon_t.contains(point) == True:\n",
    "        elif polygon_x.contains(point) == True or polygon_v.contains(point) == True:\n",
    "            CT = gsw.CT_from_pt(month_df['s'].iloc[ii],month_df['t'].iloc[ii])\n",
    "            DENS = gsw.sigma0(month_df['s'].iloc[ii],CT)\n",
    "            pt_df = pd.DataFrame({'p': month_df['p'].iloc[ii],'t': month_df['t'].iloc[ii], 's': month_df['s'].iloc[ii], 'CT': CT, 'DENSMLD': DENS}) \n",
    "            df_ptsnew = pt_df.dropna()\n",
    "            df_final = pd.DataFrame(df_ptsnew.values)\n",
    "            l=[i for i in df_final[0] if i<=6] \n",
    "            if len(l) > 0:\n",
    "                surfaceval = []; numrange = []\n",
    "                for iii in range(len(l)):\n",
    "                    val = df_final[4][iii]\n",
    "                    numrange.append(iii)\n",
    "                    surfaceval.append(val)            \n",
    "            surfacevalmean = statistics.mean(surfaceval)\n",
    "            densfin = []; tempfin = []; pressurefin = []; salfin = []\n",
    "            for iii in range(numrange[-1],len(df_final)):\n",
    "                tempfin.append(df_final[1][iii])\n",
    "                pressurefin.append(df_final[0][iii])\n",
    "                salfin.append(df_final[2][iii])\n",
    "                densfin.append(df_final[4][iii])\n",
    "            d = {'temp': list(reversed(tempfin)), 'sal': list(reversed(salfin)), 'pressure': list(reversed(pressurefin)),'density': list(reversed(densfin))}\n",
    "            dunreversed = {'temp': list(tempfin), 'sal': list(salfin), 'pressure': list(pressurefin), 'density': list(densfin)}\n",
    "            dffinunreversed = pd.DataFrame(dunreversed)\n",
    "            dffin = pd.DataFrame(d)\n",
    "            \n",
    "            for ix in range(len(dffinunreversed)):\n",
    "                if dffinunreversed.at[ix,'density'] >= (surfacevalmean - 0.03) and dffinunreversed.at[ix,'density'] <= (surfacevalmean + 0.03):\n",
    "                    if dffinunreversed.at[len(dffinunreversed)-1,'density'] <= (surfacevalmean + 0.03) and dffinunreversed.at[len(dffinunreversed)-1,'density'] >= (surfacevalmean - 0.03):\n",
    "                        looknow = list(dffinunreversed['density'].values)\n",
    "                        looknow2 = [i for i in looknow if i >= (surfacevalmean + 0.03)]\n",
    "                        looknow3 = [i for i in looknow if i <= (surfacevalmean - 0.03)]\n",
    "                        if len(looknow2) == 0 and len(looknow3) == 0:\n",
    "                            if dffinunreversed.at[len(dffinunreversed)-1,'pressure'] >= (month_df['depth'].iloc[ii] - (month_df['depth'].iloc[ii]*0.15)):\n",
    "                                if dffinunreversed.at[ix,'pressure'] <= (month_df['depth'].iloc[ii] - (month_df['depth'].iloc[ii]*0.15)):\n",
    "                                    seasonyeardepth.append(dffinunreversed.at[ix,'pressure'])\n",
    "                                    seasonyeartemp.append(dffinunreversed.at[ix,'temp'])\n",
    "                                    seasonyearsal.append(dffinunreversed.at[ix,'sal'])\n",
    "                                    seasonyeardens.append(dffinunreversed.at[len(dffinunreversed)-1,'density'])\n",
    "                                    floors.append(month_df['depth'].iloc[ii])\n",
    "                                    lat.append(month_df['lat'].iloc[ii])\n",
    "                                    lon.append(month_df['lon'].iloc[ii])\n",
    "                                    lonneg.append(month_df['lon'].iloc[ii]*-1)\n",
    "                                    counterii.append(ii)\n",
    "                                    option6.append(ii)\n",
    "                                    break\n",
    "                                else:\n",
    "                                    seasonyeardepth.append(dffinunreversed.at[ix,'pressure'])\n",
    "                                    seasonyeartemp.append(dffinunreversed.at[ix,'temp'])\n",
    "                                    seasonyearsal.append(dffinunreversed.at[ix,'sal'])\n",
    "                                    seasonyeardens.append(dffinunreversed.at[len(dffinunreversed)-1,'density'])\n",
    "                                    floors.append(month_df['depth'].iloc[ii])\n",
    "                                    lat.append(month_df['lat'].iloc[ii])\n",
    "                                    lon.append(month_df['lon'].iloc[ii])\n",
    "                                    lonneg.append(month_df['lon'].iloc[ii]*-1)\n",
    "                                    counterii.append(ii)\n",
    "                                    option6.append(ii)\n",
    "                                    break\n",
    "                            else:\n",
    "                                if dffinunreversed.at[len(dffinunreversed)-1,'pressure'] >= (month_df['depth'].iloc[ii] - (month_df['depth'].iloc[ii]*0.15)):\n",
    "                                    seasonyeardepth.append(dffinunreversed.at[ix,'pressure'])\n",
    "                                    seasonyeartemp.append(dffinunreversed.at[ix,'temp'])\n",
    "                                    seasonyearsal.append(dffinunreversed.at[ix,'sal'])\n",
    "                                    seasonyeardens.append(dffinunreversed.at[len(dffinunreversed)-1,'density'])\n",
    "                                    floors.append(month_df['depth'].iloc[ii])\n",
    "                                    lat.append(month_df['lat'].iloc[ii])\n",
    "                                    lon.append(month_df['lon'].iloc[ii])\n",
    "                                    lonneg.append(month_df['lon'].iloc[ii]*-1)\n",
    "                                    counterii.append(ii)\n",
    "                                    option6.append(ii)\n",
    "                                    break\n",
    "                        else:\n",
    "                            if dffinunreversed.at[len(dffinunreversed)-1,'pressure'] >= (month_df['depth'].iloc[ii] - (month_df['depth'].iloc[ii]*0.15)):\n",
    "                                for ix in range(len(dffinunreversed['density'])):\n",
    "                                    if dffinunreversed.at[ix,'density'] >= (surfacevalmean - 0.03) and dffinunreversed.at[ix,'density'] <= (surfacevalmean + 0.03):\n",
    "                                        pass\n",
    "                                    else:\n",
    "                                        if dffinunreversed.at[ix,'pressure'] >= 5:\n",
    "                                            seasonyeardepth.append(dffinunreversed.at[ix,'pressure'])\n",
    "                                            seasonyeartemp.append(dffinunreversed.at[ix,'temp'])\n",
    "                                            seasonyearsal.append(dffinunreversed.at[ix,'sal'])\n",
    "                                            seasonyeardens.append(dffinunreversed.at[len(dffinunreversed)-1,'density'])\n",
    "                                            floors.append(month_df['depth'].iloc[ii])\n",
    "                                            lat.append(month_df['lat'].iloc[ii])\n",
    "                                            lon.append(month_df['lon'].iloc[ii])\n",
    "                                            lonneg.append(month_df['lon'].iloc[ii]*-1)\n",
    "                                            counterii.append(ii)\n",
    "                                            option6.append(ii)\n",
    "                                            break\n",
    "                                        else:\n",
    "                                            break\n",
    "                                break \n",
    "                    else:\n",
    "                        if dffinunreversed.at[ix,'density'] <= (surfacevalmean - 0.03) or dffinunreversed.at[ix,'density'] >= (surfacevalmean + 0.03):\n",
    "                            if dffinunreversed.at[ix,'pressure'] <= (month_df['depth'].iloc[ii] - (month_df['depth'].iloc[ii]*0.15)):\n",
    "                                pass\n",
    "                            else:\n",
    "                                seasonyeardepth.append(dffinunreversed.at[ix,'pressure'])\n",
    "                                seasonyeartemp.append(dffinunreversed.at[ix,'temp'])\n",
    "                                seasonyearsal.append(dffinunreversed.at[ix,'sal'])\n",
    "                                seasonyeardens.append(dffinunreversed.at[len(dffinunreversed)-1,'density'])\n",
    "                                floors.append(month_df['depth'].iloc[ii])\n",
    "                                lat.append(month_df['lat'].iloc[ii])\n",
    "                                lon.append(month_df['lon'].iloc[ii])\n",
    "                                lonneg.append(month_df['lon'].iloc[ii]*-1)\n",
    "                                counterii.append(ii)\n",
    "                                option6.append(ii)\n",
    "                                break           \n",
    "                        else: \n",
    "                            if dffinunreversed.at[ix,'density'] >= (surfacevalmean + 0.03) or dffinunreversed.at[ix,'density'] <= (surfacevalmean - 0.03):\n",
    "                                seasonyeardepth.append('pass4')\n",
    "                                break\n",
    "#                                 pass\n",
    "                elif dffinunreversed.at[ix,'density'] <= (surfacevalmean - 0.03) or dffinunreversed.at[ix,'density'] >= (surfacevalmean + 0.03):\n",
    "                    if dffinunreversed.at[ix,'pressure'] <= (month_df['depth'].iloc[ii] - (month_df['depth'].iloc[ii]*0.15)):\n",
    "                        pass\n",
    "                    else:\n",
    "                        for ix in range(len(dffinunreversed['density'])):\n",
    "                            if dffinunreversed.at[ix,'density'] >= (surfacevalmean - 0.03) and dffinunreversed.at[ix,'density'] <= (surfacevalmean + 0.03):\n",
    "                                pass\n",
    "                            else:\n",
    "                                if dffinunreversed.at[ix,'pressure'] >= 5.0:\n",
    "                                    seasonyeardepth.append(dffinunreversed.at[ix,'pressure'])\n",
    "                                    seasonyeartemp.append(dffinunreversed.at[ix,'temp'])\n",
    "                                    seasonyearsal.append(dffinunreversed.at[ix,'sal'])\n",
    "                                    seasonyeardens.append(dffinunreversed.at[len(dffinunreversed)-1,'density'])\n",
    "                                    floors.append(month_df['depth'].iloc[ii])\n",
    "                                    lat.append(month_df['lat'].iloc[ii])\n",
    "                                    lon.append(month_df['lon'].iloc[ii])\n",
    "                                    lonneg.append(month_df['lon'].iloc[ii]*-1)\n",
    "                                    counterii.append(ii)\n",
    "                                    option6.append(ii)\n",
    "                                    break\n",
    "                                else:\n",
    "                                    break\n",
    "                        break\n",
    "                else: \n",
    "                    seasonyeardepth.append('pass9')\n",
    "                    break\n",
    "                \n",
    "    inlat = []; inlon = []; date = []\n",
    "    for timer in counterii:\n",
    "        inlat.append(newdf['lat'][timer])\n",
    "        inlon.append(newdf['lon'][timer])\n",
    "        date.append(newdf['date'][timer])                 \n",
    "    if len(seasonyeardepth) > 0:    \n",
    "#         if len(seasonyeardepth) == 1:  \n",
    "#             std = 0\n",
    "#             seasonalstd.append(std)\n",
    "#         else:\n",
    "#             seasonalstd.append(statistics.stdev(seasonyeardepth))\n",
    "        yearwithdata.append(year)\n",
    "        seasonalmean.append(statistics.mean(seasonyeardepth))\n",
    "#         seasonalstd.append(statistics.stdev(seasonyeardepth))\n",
    "        full = pd.DataFrame({'mld': seasonyeardepth,'lat': lat, 'lon': lon, 'date': date}) \n",
    "        finallatestdepth.append(seasonyeardepth)\n",
    "    print(len(seasonyeardepth))\n",
    "    for x in range(len(date)):\n",
    "        use=DS.sel(time=slice('{}-11-01'.format(year),'{}-11-30'.format(year))) \n",
    "        locate_date = use.sel(time=use.time.dt.day==(date[x])-304)\n",
    "        mld_locate_date = locate_date.mlotst.values[0]\n",
    "    \n",
    "        lat = np.array(locate_date.mlotst['latitude'][:])\n",
    "        long = np.array(locate_date.mlotst['longitude'][:])\n",
    "    \n",
    "        lonneg = [float(i)*-1 for i in inlon]\n",
    "        distanceslat = []; distanceslon = []\n",
    "        for i in range(133):\n",
    "            distanceslat.append((inlat[x] - lat[i])**2)\n",
    "            index_min_lat = min(range(len(distanceslat)), key=distanceslat.__getitem__)\n",
    "        for ii in range(181):\n",
    "            distanceslon.append((lonneg[x] - long[ii])**2)\n",
    "            index_min_lon = min(range(len(distanceslon)), key=distanceslon.__getitem__)\n",
    "        lat_index_use, lon_index_use = index_min_lat, index_min_lon\n",
    "        pointstouse.append(mld_locate_date[lat_index_use, lon_index_use]) \n",
    "        yearstodate.append(year)\n",
    "        pointstousesmall.append(mld_locate_date[lat_index_use, lon_index_use])\n",
    "    newfull = pd.DataFrame({'mld': seasonyeardepth,'lat': inlat, 'lon': inlon, 'date': date, 'glorys': pointstousesmall}) \n",
    "    val1_minus_val10 = list(newfull[\"mld\"] - newfull[\"glorys\"])\n",
    "    \n",
    "    print(val1_minus_val10)\n",
    "    diff.append(val1_minus_val10)\n",
    "    latfull.append(list(newfull['lat']))\n",
    "    lonfull.append(list(newfull['lon']))\n",
    "    glorysfull.append(list(newfull['glorys']))\n",
    "    years.append(list(yearstodate))"
   ]
  },
  {
   "cell_type": "code",
   "execution_count": 127,
   "metadata": {},
   "outputs": [],
   "source": [
    "# Dec (x, v)\n",
    "# flat_lonfull_dec_vx = [item for sublist in lonfull for item in sublist]\n",
    "# flat_latfull_dec_vx = [item for sublist in latfull for item in sublist]\n",
    "# flat_diff_dec_vx = [item for sublist in diff for item in sublist]\n",
    "# flat_years_dec_vx = [item for sublist in years for item in sublist]\n",
    "# flat_glorys_dec_vx = [item for sublist in glorysfull for item in sublist]"
   ]
  },
  {
   "cell_type": "code",
   "execution_count": 130,
   "metadata": {},
   "outputs": [],
   "source": [
    "# Dec (w, y, t)\n",
    "# flat_lonfull_dec_wyt = [item for sublist in lonfull for item in sublist]\n",
    "# flat_latfull_dec_wyt = [item for sublist in latfull for item in sublist]\n",
    "# flat_diff_dec_wyt = [item for sublist in diff for item in sublist]\n",
    "# flat_years_dec_wyt = [item for sublist in years for item in sublist]\n",
    "# flat_glorys_dec_wyt = [item for sublist in glorysfull for item in sublist]"
   ]
  },
  {
   "cell_type": "code",
   "execution_count": 137,
   "metadata": {},
   "outputs": [],
   "source": [
    "# # January (w, y, t)\n",
    "# flat_lonfull_jan_wyt = [item for sublist in lonfull for item in sublist]\n",
    "# flat_latfull_jan_wyt = [item for sublist in latfull for item in sublist]\n",
    "# flat_diff_jan_wyt = [item for sublist in diff for item in sublist]\n",
    "# flat_years_jan_wyt = [item for sublist in years for item in sublist]\n",
    "# flat_glorys_jan_wyt = [item for sublist in glorysfull for item in sublist]"
   ]
  },
  {
   "cell_type": "code",
   "execution_count": 140,
   "metadata": {},
   "outputs": [],
   "source": [
    "# January (x, v)\n",
    "# flat_lonfull_jan_vx = [item for sublist in lonfull for item in sublist]\n",
    "# flat_latfull_jan_vx = [item for sublist in latfull for item in sublist]\n",
    "# flat_diff_jan_vx = [item for sublist in diff for item in sublist]\n",
    "# flat_years_jan_vx = [item for sublist in years for item in sublist]\n",
    "# flat_glorys_jan_vx = [item for sublist in glorysfull for item in sublist]"
   ]
  },
  {
   "cell_type": "code",
   "execution_count": 145,
   "metadata": {},
   "outputs": [],
   "source": [
    "# Feb (x, v)\n",
    "# flat_lonfull_feb_vx = [item for sublist in lonfull for item in sublist]\n",
    "# flat_latfull_feb_vx = [item for sublist in latfull for item in sublist]\n",
    "# flat_diff_feb_vx = [item for sublist in diff for item in sublist]\n",
    "# flat_years_feb_vx = [item for sublist in years for item in sublist]\n",
    "# flat_glorys_feb_vx = [item for sublist in glorysfull for item in sublist]"
   ]
  },
  {
   "cell_type": "code",
   "execution_count": 148,
   "metadata": {},
   "outputs": [],
   "source": [
    "# Feb (w, y, t)\n",
    "# flat_lonfull_feb_wyt = [item for sublist in lonfull for item in sublist]\n",
    "# flat_latfull_feb_wyt = [item for sublist in latfull for item in sublist]\n",
    "# flat_diff_feb_wyt = [item for sublist in diff for item in sublist]\n",
    "# flat_years_feb_wyt = [item for sublist in years for item in sublist]\n",
    "# flat_glorys_feb_wyt = [item for sublist in glorysfull for item in sublist]"
   ]
  },
  {
   "cell_type": "code",
   "execution_count": 186,
   "metadata": {},
   "outputs": [],
   "source": [
    "# March (w, y, t)\n",
    "# flat_lonfull_march_wyt = [item for sublist in lonfull for item in sublist]\n",
    "# flat_latfull_march_wyt = [item for sublist in latfull for item in sublist]\n",
    "# flat_diff_march_wyt = [item for sublist in diff for item in sublist]\n",
    "# flat_years_march_wyt = [item for sublist in years for item in sublist]\n",
    "# flat_glorys_march_wyt = [item for sublist in glorysfull for item in sublist]"
   ]
  },
  {
   "cell_type": "code",
   "execution_count": 189,
   "metadata": {},
   "outputs": [],
   "source": [
    "# March (x, v)\n",
    "# flat_lonfull_march_vx = [item for sublist in lonfull for item in sublist]\n",
    "# flat_latfull_march_vx = [item for sublist in latfull for item in sublist]\n",
    "# flat_diff_march_vx = [item for sublist in diff for item in sublist]\n",
    "# flat_years_march_vx = [item for sublist in years for item in sublist]\n",
    "# flat_glorys_march_vx = [item for sublist in glorysfull for item in sublist]"
   ]
  },
  {
   "cell_type": "code",
   "execution_count": 193,
   "metadata": {},
   "outputs": [],
   "source": [
    "# April (x, v)\n",
    "# flat_lonfull_april_vx = [item for sublist in lonfull for item in sublist]\n",
    "# flat_latfull_april_vx = [item for sublist in latfull for item in sublist]\n",
    "# flat_diff_april_vx = [item for sublist in diff for item in sublist]\n",
    "# flat_years_april_vx = [item for sublist in years for item in sublist]\n",
    "# flat_glorys_april_vx = [item for sublist in glorysfull for item in sublist]"
   ]
  },
  {
   "cell_type": "code",
   "execution_count": 196,
   "metadata": {},
   "outputs": [],
   "source": [
    "# April (w, y, t)\n",
    "# flat_lonfull_april_wyt = [item for sublist in lonfull for item in sublist]\n",
    "# flat_latfull_april_wyt = [item for sublist in latfull for item in sublist]\n",
    "# flat_diff_april_wyt = [item for sublist in diff for item in sublist]\n",
    "# flat_years_april_wyt = [item for sublist in years for item in sublist]\n",
    "# flat_glorys_april_wyt = [item for sublist in glorysfull for item in sublist]"
   ]
  },
  {
   "cell_type": "code",
   "execution_count": 200,
   "metadata": {},
   "outputs": [],
   "source": [
    "# May (w, y, t)\n",
    "# flat_lonfull_may_wyt = [item for sublist in lonfull for item in sublist]\n",
    "# flat_latfull_may_wyt = [item for sublist in latfull for item in sublist]\n",
    "# flat_diff_may_wyt = [item for sublist in diff for item in sublist]\n",
    "# flat_years_may_wyt = [item for sublist in years for item in sublist]\n",
    "# flat_glorys_may_wyt = [item for sublist in glorysfull for item in sublist]"
   ]
  },
  {
   "cell_type": "code",
   "execution_count": 203,
   "metadata": {},
   "outputs": [],
   "source": [
    "# May (v, x)\n",
    "# flat_lonfull_may_vx = [item for sublist in lonfull for item in sublist]\n",
    "# flat_latfull_may_vx = [item for sublist in latfull for item in sublist]\n",
    "# flat_diff_may_vx = [item for sublist in diff for item in sublist]\n",
    "# flat_years_may_vx = [item for sublist in years for item in sublist]\n",
    "# flat_glorys_may_vx = [item for sublist in glorysfull for item in sublist]"
   ]
  },
  {
   "cell_type": "code",
   "execution_count": 222,
   "metadata": {},
   "outputs": [],
   "source": [
    "# June (x, v)\n",
    "# flat_lonfull_june_vx = [item for sublist in lonfull for item in sublist]\n",
    "# flat_latfull_june_vx = [item for sublist in latfull for item in sublist]\n",
    "# flat_diff_june_vx = [item for sublist in diff for item in sublist]\n",
    "# flat_years_june_vx = [item for sublist in years for item in sublist]\n",
    "# flat_glorys_june_vx = [item for sublist in glorysfull for item in sublist]"
   ]
  },
  {
   "cell_type": "code",
   "execution_count": 225,
   "metadata": {},
   "outputs": [],
   "source": [
    "# June (w, y, t)\n",
    "# flat_lonfull_june_wyt = [item for sublist in lonfull for item in sublist]\n",
    "# flat_latfull_june_wyt = [item for sublist in latfull for item in sublist]\n",
    "# flat_diff_june_wyt = [item for sublist in diff for item in sublist]\n",
    "# flat_years_june_wyt = [item for sublist in years for item in sublist]\n",
    "# flat_glorys_june_wyt = [item for sublist in glorysfull for item in sublist]"
   ]
  },
  {
   "cell_type": "code",
   "execution_count": 230,
   "metadata": {},
   "outputs": [],
   "source": [
    "# July (w, y, t)\n",
    "# flat_lonfull_july_wyt = [item for sublist in lonfull for item in sublist]\n",
    "# flat_latfull_july_wyt = [item for sublist in latfull for item in sublist]\n",
    "# flat_diff_july_wyt = [item for sublist in diff for item in sublist]\n",
    "# flat_years_july_wyt = [item for sublist in years for item in sublist]\n",
    "# flat_glorys_july_wyt = [item for sublist in glorysfull for item in sublist]"
   ]
  },
  {
   "cell_type": "code",
   "execution_count": 233,
   "metadata": {},
   "outputs": [],
   "source": [
    "# # July (x, v)\n",
    "# flat_lonfull_july_vx = [item for sublist in lonfull for item in sublist]\n",
    "# flat_latfull_july_vx = [item for sublist in latfull for item in sublist]\n",
    "# flat_diff_july_vx = [item for sublist in diff for item in sublist]\n",
    "# flat_years_july_vx = [item for sublist in years for item in sublist]\n",
    "# flat_glorys_july_vx = [item for sublist in glorysfull for item in sublist]"
   ]
  },
  {
   "cell_type": "code",
   "execution_count": 238,
   "metadata": {},
   "outputs": [],
   "source": [
    "# August (x, v)\n",
    "# flat_lonfull_aug_vx = [item for sublist in lonfull for item in sublist]\n",
    "# flat_latfull_aug_vx = [item for sublist in latfull for item in sublist]\n",
    "# flat_diff_aug_vx = [item for sublist in diff for item in sublist]\n",
    "# flat_years_aug_vx = [item for sublist in years for item in sublist]\n",
    "# flat_glorys_aug_vx = [item for sublist in glorysfull for item in sublist]"
   ]
  },
  {
   "cell_type": "code",
   "execution_count": 241,
   "metadata": {},
   "outputs": [],
   "source": [
    "# August (w, y, t)\n",
    "# flat_lonfull_aug_wyt = [item for sublist in lonfull for item in sublist]\n",
    "# flat_latfull_aug_wyt = [item for sublist in latfull for item in sublist]\n",
    "# flat_diff_aug_wyt = [item for sublist in diff for item in sublist]\n",
    "# flat_years_aug_wyt = [item for sublist in years for item in sublist]\n",
    "# flat_glorys_aug_wyt = [item for sublist in glorysfull for item in sublist]"
   ]
  },
  {
   "cell_type": "code",
   "execution_count": 260,
   "metadata": {},
   "outputs": [],
   "source": [
    "# September (w, y, t)\n",
    "# flat_lonfull_sept_wyt = [item for sublist in lonfull for item in sublist]\n",
    "# flat_latfull_sept_wyt = [item for sublist in latfull for item in sublist]\n",
    "# flat_diff_sept_wyt = [item for sublist in diff for item in sublist]\n",
    "# flat_years_sept_wyt = [item for sublist in years for item in sublist]\n",
    "# flat_glorys_sept_wyt = [item for sublist in glorysfull for item in sublist]"
   ]
  },
  {
   "cell_type": "code",
   "execution_count": 262,
   "metadata": {},
   "outputs": [],
   "source": [
    "# September (x, v)\n",
    "# flat_lonfull_sept_vx = [item for sublist in lonfull for item in sublist]\n",
    "# flat_latfull_sept_vx = [item for sublist in latfull for item in sublist]\n",
    "# flat_diff_sept_vx = [item for sublist in diff for item in sublist]\n",
    "# flat_years_sept_vx = [item for sublist in years for item in sublist]\n",
    "# flat_glorys_sept_vx = [item for sublist in glorysfull for item in sublist]"
   ]
  },
  {
   "cell_type": "code",
   "execution_count": 267,
   "metadata": {},
   "outputs": [],
   "source": [
    "# October (x, v)\n",
    "# flat_lonfull_oct_vx = [item for sublist in lonfull for item in sublist]\n",
    "# flat_latfull_oct_vx = [item for sublist in latfull for item in sublist]\n",
    "# flat_diff_oct_vx = [item for sublist in diff for item in sublist]\n",
    "# flat_years_oct_vx = [item for sublist in years for item in sublist]\n",
    "# flat_glorys_oct_vx = [item for sublist in glorysfull for item in sublist]"
   ]
  },
  {
   "cell_type": "code",
   "execution_count": 269,
   "metadata": {},
   "outputs": [],
   "source": [
    "# October (w, y, t)\n",
    "# flat_lonfull_oct_wyt = [item for sublist in lonfull for item in sublist]\n",
    "# flat_latfull_oct_wyt = [item for sublist in latfull for item in sublist]\n",
    "# flat_diff_oct_wyt = [item for sublist in diff for item in sublist]\n",
    "# flat_years_oct_wyt = [item for sublist in years for item in sublist]\n",
    "# flat_glorys_oct_wyt = [item for sublist in glorysfull for item in sublist]"
   ]
  },
  {
   "cell_type": "code",
   "execution_count": 274,
   "metadata": {},
   "outputs": [],
   "source": [
    "# November (w, y, t)\n",
    "# flat_lonfull_nov_wyt = [item for sublist in lonfull for item in sublist]\n",
    "# flat_latfull_nov_wyt = [item for sublist in latfull for item in sublist]\n",
    "# flat_diff_nov_wyt = [item for sublist in diff for item in sublist]\n",
    "# flat_years_nov_wyt = [item for sublist in years for item in sublist]\n",
    "# flat_glorys_nov_wyt = [item for sublist in glorysfull for item in sublist]"
   ]
  },
  {
   "cell_type": "code",
   "execution_count": 277,
   "metadata": {},
   "outputs": [],
   "source": [
    "# November (x, v)\n",
    "flat_lonfull_nov_vx = [item for sublist in lonfull for item in sublist]\n",
    "flat_latfull_nov_vx = [item for sublist in latfull for item in sublist]\n",
    "flat_diff_nov_vx = [item for sublist in diff for item in sublist]\n",
    "flat_years_nov_vx = [item for sublist in years for item in sublist]\n",
    "flat_glorys_nov_vx = [item for sublist in glorysfull for item in sublist]"
   ]
  },
  {
   "cell_type": "code",
   "execution_count": 278,
   "metadata": {},
   "outputs": [
    {
     "name": "stdout",
     "output_type": "stream",
     "text": [
      "711\n"
     ]
    }
   ],
   "source": [
    "print(len(flat_lonfull_nov_vx))"
   ]
  },
  {
   "cell_type": "code",
   "execution_count": 279,
   "metadata": {},
   "outputs": [],
   "source": [
    "concatlon = flat_lonfull_nov_wyt + flat_lonfull_nov_vx\n",
    "concatlat = flat_latfull_nov_wyt + flat_latfull_nov_vx\n",
    "concatdiff = flat_diff_nov_wyt + flat_diff_nov_vx\n",
    "concatyears = flat_years_nov_wyt + flat_years_nov_vx\n",
    "concatglorys = flat_glorys_nov_wyt + flat_glorys_nov_vx\n",
    "nov_name = pd.DataFrame(list(zip(concatlon,concatlat,concatdiff,concatyears,concatglorys)),columns = ['lon','lat','diff','years','glorys'])\n",
    "nov_name.to_csv('nov.csv')"
   ]
  },
  {
   "cell_type": "code",
   "execution_count": 280,
   "metadata": {},
   "outputs": [
    {
     "name": "stdout",
     "output_type": "stream",
     "text": [
      "2585\n"
     ]
    }
   ],
   "source": [
    "print(len(nov_name))"
   ]
  },
  {
   "cell_type": "code",
   "execution_count": 281,
   "metadata": {},
   "outputs": [],
   "source": [
    "concat_lon_fall =  flat_lonfull_sept_vx + flat_lonfull_oct_vx + flat_lonfull_nov_vx + flat_lonfull_sept_wyt + flat_lonfull_oct_wyt + flat_lonfull_nov_wyt\n",
    "concat_lat_fall = flat_latfull_sept_vx + flat_latfull_oct_vx + flat_latfull_nov_vx + flat_latfull_sept_wyt + flat_latfull_oct_wyt + flat_latfull_nov_wyt\n",
    "concat_diff_fall = flat_diff_sept_vx + flat_diff_oct_vx + flat_diff_nov_vx + flat_diff_sept_wyt + flat_diff_oct_wyt + flat_diff_nov_wyt"
   ]
  },
  {
   "cell_type": "code",
   "execution_count": 245,
   "metadata": {},
   "outputs": [],
   "source": [
    "concat_lon_summer =  flat_lonfull_june_vx + flat_lonfull_july_vx + flat_lonfull_aug_vx + flat_lonfull_june_wyt + flat_lonfull_july_wyt + flat_lonfull_aug_wyt\n",
    "concat_lat_summer = flat_latfull_june_vx + flat_latfull_july_vx + flat_latfull_aug_vx + flat_latfull_june_wyt + flat_latfull_july_wyt + flat_latfull_aug_wyt\n",
    "concat_diff_summer = flat_diff_june_vx + flat_diff_july_vx + flat_diff_aug_vx + flat_diff_june_wyt + flat_diff_july_wyt + flat_diff_aug_wyt"
   ]
  },
  {
   "cell_type": "code",
   "execution_count": 207,
   "metadata": {},
   "outputs": [],
   "source": [
    "concat_lon_spring =  flat_lonfull_march_vx + flat_lonfull_april_vx + flat_lonfull_may_vx + flat_lonfull_march_wyt + flat_lonfull_april_wyt + flat_lonfull_may_wyt\n",
    "concat_lat_spring = flat_latfull_march_vx + flat_latfull_april_vx + flat_latfull_may_vx + flat_latfull_march_wyt + flat_latfull_april_wyt + flat_latfull_may_wyt\n",
    "concat_diff_spring = flat_diff_march_vx + flat_diff_april_vx + flat_diff_may_vx + flat_diff_march_wyt + flat_diff_april_wyt + flat_diff_may_wyt"
   ]
  },
  {
   "cell_type": "code",
   "execution_count": 152,
   "metadata": {},
   "outputs": [],
   "source": [
    "concat_lon = flat_lonfull_dec_wyt + flat_lonfull_dec_vx + flat_lonfull_feb_wyt + flat_lonfull_feb_vx + flat_lonfull_jan_wyt + flat_lonfull_jan_vx\n",
    "concat_lat = flat_latfull_dec_wyt + flat_latfull_dec_vx + flat_latfull_feb_wyt + flat_latfull_feb_vx + flat_latfull_jan_wyt + flat_latfull_jan_vx\n",
    "concat_diff = flat_diff_dec_wyt + flat_diff_dec_vx + flat_diff_feb_wyt + flat_diff_feb_vx + flat_diff_jan_wyt + flat_diff_jan_vx"
   ]
  },
  {
   "cell_type": "code",
   "execution_count": 282,
   "metadata": {},
   "outputs": [],
   "source": [
    "concat_lon_fall[:] = [x *-1 for x in concat_lon_fall]"
   ]
  },
  {
   "cell_type": "code",
   "execution_count": 246,
   "metadata": {},
   "outputs": [],
   "source": [
    "concat_lon_summer[:] = [x *-1 for x in concat_lon_summer]"
   ]
  },
  {
   "cell_type": "code",
   "execution_count": 208,
   "metadata": {},
   "outputs": [],
   "source": [
    "concat_lon_spring[:] = [x *-1 for x in concat_lon_spring]"
   ]
  },
  {
   "cell_type": "code",
   "execution_count": 153,
   "metadata": {},
   "outputs": [],
   "source": [
    "concat_lon[:] = [x *-1 for x in concat_lon]"
   ]
  },
  {
   "cell_type": "code",
   "execution_count": 283,
   "metadata": {},
   "outputs": [],
   "source": [
    "name_fall = pd.DataFrame(list(zip(concat_diff_fall,concat_lon_fall,concat_lat_fall)),columns = ['depth','lon','lat'])"
   ]
  },
  {
   "cell_type": "code",
   "execution_count": 247,
   "metadata": {},
   "outputs": [],
   "source": [
    "name_summer = pd.DataFrame(list(zip(concat_diff_summer,concat_lon_summer,concat_lat_summer)),columns = ['depth','lon','lat'])"
   ]
  },
  {
   "cell_type": "code",
   "execution_count": 209,
   "metadata": {},
   "outputs": [],
   "source": [
    "name_spring = pd.DataFrame(list(zip(concat_diff_spring,concat_lon_spring,concat_lat_spring)),columns = ['depth','lon','lat'])"
   ]
  },
  {
   "cell_type": "code",
   "execution_count": 154,
   "metadata": {},
   "outputs": [],
   "source": [
    "name = pd.DataFrame(list(zip(concat_diff,concat_lon,concat_lat)),columns = ['depth','lon','lat'])"
   ]
  },
  {
   "cell_type": "code",
   "execution_count": 17,
   "metadata": {},
   "outputs": [
    {
     "ename": "NameError",
     "evalue": "name 'df_w_plottable' is not defined",
     "output_type": "error",
     "traceback": [
      "\u001b[0;31m---------------------------------------------------------------------------\u001b[0m",
      "\u001b[0;31mNameError\u001b[0m                                 Traceback (most recent call last)",
      "\u001b[0;32m<ipython-input-17-f4ca230adbd0>\u001b[0m in \u001b[0;36m<module>\u001b[0;34m\u001b[0m\n\u001b[1;32m      5\u001b[0m \u001b[0mny\u001b[0m \u001b[0;34m=\u001b[0m \u001b[0mnp\u001b[0m\u001b[0;34m.\u001b[0m\u001b[0marange\u001b[0m\u001b[0;34m(\u001b[0m\u001b[0;36m35\u001b[0m\u001b[0;34m,\u001b[0m\u001b[0;36m46\u001b[0m\u001b[0;34m,\u001b[0m\u001b[0;36m0.5\u001b[0m\u001b[0;34m)\u001b[0m\u001b[0;34m\u001b[0m\u001b[0;34m\u001b[0m\u001b[0m\n\u001b[1;32m      6\u001b[0m \u001b[0;34m\u001b[0m\u001b[0m\n\u001b[0;32m----> 7\u001b[0;31m \u001b[0mpoly_verts_w\u001b[0m \u001b[0;34m=\u001b[0m \u001b[0mdf_w_plottable\u001b[0m\u001b[0;34m.\u001b[0m\u001b[0mvalues\u001b[0m\u001b[0;34m\u001b[0m\u001b[0;34m\u001b[0m\u001b[0m\n\u001b[0m\u001b[1;32m      8\u001b[0m \u001b[0mpoly_verts_v\u001b[0m \u001b[0;34m=\u001b[0m \u001b[0mdf_v_plottable\u001b[0m\u001b[0;34m.\u001b[0m\u001b[0mvalues\u001b[0m\u001b[0;34m\u001b[0m\u001b[0;34m\u001b[0m\u001b[0m\n\u001b[1;32m      9\u001b[0m \u001b[0mpoly_verts_x\u001b[0m \u001b[0;34m=\u001b[0m \u001b[0mdf_x_plottable\u001b[0m\u001b[0;34m.\u001b[0m\u001b[0mvalues\u001b[0m\u001b[0;34m\u001b[0m\u001b[0;34m\u001b[0m\u001b[0m\n",
      "\u001b[0;31mNameError\u001b[0m: name 'df_w_plottable' is not defined"
     ]
    }
   ],
   "source": [
    "import numpy as np\n",
    "from matplotlib.path import Path\n",
    "\n",
    "nx = np.arange(-76,-65,0.5)\n",
    "ny = np.arange(35,46,0.5)\n",
    "\n",
    "poly_verts_w = df_w_plottable.values \n",
    "poly_verts_v = df_v_plottable.values \n",
    "poly_verts_x = df_x_plottable.values \n",
    "poly_verts_y = df_y_plottable.values \n",
    "poly_verts_t = df_t_plottable.values \n",
    "\n",
    "full_pandas = df_w_plottable.append(df_v_plottable)\n",
    "full_pandas = full_pandas.append(df_x_plottable)\n",
    "full_pandas = full_pandas.append(df_y_plottable)\n",
    "full_pandas = full_pandas.append(df_t_plottable)\n",
    "poly_verts_full = full_pandas.values\n",
    "\n",
    "newlon = [-69.5,-68,-67.5, -67, -66.5, -66, -65.7, -66,-66, -66.5, -67,\n",
    "         -68, -69, -70,-70.5, -70.5,-69.5, -72, -74, -74.25, -76, -75.5, -75, -74.75, -74.5, -72, -71.4, -69.5]\n",
    "newlat = [40,40.3,40.4, 40.6, 40.8, 41.45, 41.8, 42.1, 43, 44.2, 44.2, 44.2, 43.9, 43.7,\n",
    "         43, 42.2, 41, 41, 40.5, 39.4, 37, 36, 35.5, 36, 37.4, 39.5, 40, 40]\n",
    "newpath = list(zip(newlon,newlat))\n",
    "newpd = pd.DataFrame(newpath, columns=['lon','lat'])\n",
    "path_new = Path(newpath)\n",
    "\n",
    "x, y = np.meshgrid(nx, ny)\n",
    "x, y = x.flatten(), y.flatten()\n",
    "\n",
    "points = np.vstack((x,y)).T\n",
    "\n",
    "path_w = Path(poly_verts_w)\n",
    "path_v = Path(poly_verts_v)\n",
    "path_x = Path(poly_verts_x)\n",
    "path_y = Path(poly_verts_y)\n",
    "path_t = Path(poly_verts_t)\n",
    "path_full = Path(poly_verts_full)\n",
    "\n",
    "grid = path_new.contains_points(points) \n",
    "grid = grid.reshape((22,22))"
   ]
  },
  {
   "cell_type": "code",
   "execution_count": 285,
   "metadata": {},
   "outputs": [],
   "source": [
    "from scipy.interpolate import griddata"
   ]
  },
  {
   "cell_type": "code",
   "execution_count": 286,
   "metadata": {},
   "outputs": [],
   "source": [
    "x = name_fall['lon']\n",
    "y = name_fall['lat']\n",
    "z = name_fall['depth']\n",
    "    \n",
    "xi = np.arange(-76,-65,0.5)\n",
    "yi = np.arange(35,46,0.5)\n",
    "\n",
    "xi,yi = np.meshgrid(xi,yi)\n",
    "    \n",
    "zi = griddata((x,y),z,(xi,yi),method='linear')\n",
    "    \n",
    "zi = zi.reshape((22,22)) ###"
   ]
  },
  {
   "cell_type": "code",
   "execution_count": 287,
   "metadata": {},
   "outputs": [
    {
     "data": {
      "text/plain": [
       "<matplotlib.image.AxesImage at 0xd1e9ada90>"
      ]
     },
     "execution_count": 287,
     "metadata": {},
     "output_type": "execute_result"
    },
    {
     "data": {
      "image/png": "[encoded data removed]",
      "text/plain": [
       "<Figure size 432x288 with 1 Axes>"
      ]
     },
     "metadata": {
      "needs_background": "light"
     },
     "output_type": "display_data"
    }
   ],
   "source": [
    "fig = plt.figure()\n",
    "ax = fig.add_subplot(111)\n",
    "ax.imshow(zi)"
   ]
  },
  {
   "cell_type": "code",
   "execution_count": 288,
   "metadata": {},
   "outputs": [
    {
     "name": "stderr",
     "output_type": "stream",
     "text": [
      "/anaconda3/lib/python3.7/site-packages/ipykernel_launcher.py:1: RuntimeWarning: Mean of empty slice\n",
      "  \"\"\"Entry point for launching an IPython kernel.\n"
     ]
    }
   ],
   "source": [
    "newmeangridnew = np.nanmean([zi],axis = 0)"
   ]
  },
  {
   "cell_type": "code",
   "execution_count": 289,
   "metadata": {},
   "outputs": [
    {
     "data": {
      "text/plain": [
       "<matplotlib.image.AxesImage at 0xd240200f0>"
      ]
     },
     "execution_count": 289,
     "metadata": {},
     "output_type": "execute_result"
    },
    {
     "data": {
      "image/png": "[encoded data removed]",
      "text/plain": [
       "<Figure size 432x288 with 1 Axes>"
      ]
     },
     "metadata": {
      "needs_background": "light"
     },
     "output_type": "display_data"
    }
   ],
   "source": [
    "fig = plt.figure()\n",
    "ax = fig.add_subplot(111)\n",
    "ax.imshow(newmeangridnew)"
   ]
  },
  {
   "cell_type": "code",
   "execution_count": 290,
   "metadata": {},
   "outputs": [],
   "source": [
    "griddednewlate = np.where(grid == True, newmeangridnew, grid)"
   ]
  },
  {
   "cell_type": "code",
   "execution_count": 291,
   "metadata": {},
   "outputs": [],
   "source": [
    "d = np.where(np.isnan(griddednewlate), 0, griddednewlate)"
   ]
  },
  {
   "cell_type": "code",
   "execution_count": 292,
   "metadata": {},
   "outputs": [
    {
     "data": {
      "text/plain": [
       "<matplotlib.image.AxesImage at 0xd1f21d6a0>"
      ]
     },
     "execution_count": 292,
     "metadata": {},
     "output_type": "execute_result"
    },
    {
     "data": {
      "image/png": "[encoded data removed]",
      "text/plain": [
       "<Figure size 432x288 with 1 Axes>"
      ]
     },
     "metadata": {
      "needs_background": "light"
     },
     "output_type": "display_data"
    }
   ],
   "source": [
    "fig = plt.figure()\n",
    "ax = fig.add_subplot(111)\n",
    "ax.imshow(d)"
   ]
  },
  {
   "cell_type": "code",
   "execution_count": 294,
   "metadata": {},
   "outputs": [
    {
     "data": {
      "image/png": "[encoded data removed]",
      "text/plain": [
       "<Figure size 864x576 with 1 Axes>"
      ]
     },
     "metadata": {
      "needs_background": "light"
     },
     "output_type": "display_data"
    }
   ],
   "source": [
    "from matplotlib.pyplot import * ; import cartopy.feature as cfeature\n",
    "\n",
    "plt.figure(figsize=(12, 8))\n",
    "ax = plt.axes(projection=ccrs.PlateCarree())\n",
    "ax.set_extent([-75.75, -65.75, 35, 44.75], ccrs.PlateCarree())\n",
    "\n",
    "gl = ax.gridlines(crs=ccrs.PlateCarree(), draw_labels=True,linewidth=1, color='black', alpha=0.5, linestyle='--', zorder = 20)\n",
    "gl.xlabels_top = False\n",
    "gl.ylabels_left = True\n",
    "gl.ylabels_right = False\n",
    "gl.xformatter = LONGITUDE_FORMATTER\n",
    "gl.yformatter = LATITUDE_FORMATTER\n",
    "gl.xlabel_style = {'size': 12, 'color': 'black'}\n",
    "gl.ylabel_style = {'size': 12, 'color': 'black'}\n",
    "\n",
    "plt.text(-68.85, 35.85, 'Fall', dict(size=30))\n",
    "\n",
    "cf = plt.contourf(xi,yi,d, np.arange(-110, 111,1), cmap = 'seismic')\n",
    "ax.contour(lonNC, latNC, depthNC, [-300,-200,-100], linewidths=1,colors='black', alpha = 0.7,zorder=5) #alpha = 0.7\n",
    "ax.contour(lonNC, latNC, depthNC, [-75,-50,-25], linewidths=1,colors='black',zorder=5)\n",
    "\n",
    "feature = cfeature.NaturalEarthFeature(name='coastline', category='physical',scale='50m',edgecolor='black', facecolor='dimgray')\n",
    "ax.add_feature(feature,zorder=10)\n",
    "# cbar = plt.colorbar(cf, ax=ax)\n",
    "# cbar.ax.get_yaxis().labelpad = 20\n",
    "# cbar.ax.set_ylabel('MLD (m)', rotation=90, fontsize = 15)\n",
    "# cbar.set_ticks([-110,-100,-90,-80,-70,-60,-50,-40,-30,-20,-10,0,10,20,30,40,50,60,70,80,90,100,110])\n",
    "# cbar.ax.tick_params(labelsize=12)\n",
    "\n",
    "plt.savefig('seasonal_WGoM')\n",
    "\n",
    "plt.show()"
   ]
  },
  {
   "cell_type": "code",
   "execution_count": 293,
   "metadata": {},
   "outputs": [
    {
     "name": "stdout",
     "output_type": "stream",
     "text": [
      "26.650567677261147\n",
      "-0.6371125770145905\n",
      "-30.313197498464387\n"
     ]
    }
   ],
   "source": [
    "print(np.nanmax(d))\n",
    "print(np.nanmean(d))\n",
    "print(np.nanmin(d))"
   ]
  },
  {
   "cell_type": "code",
   "execution_count": null,
   "metadata": {},
   "outputs": [],
   "source": [
    "# Fall\n",
    "26.650567677261147\n",
    "-0.6371125770145905\n",
    "-30.313197498464387\n",
    "# Summer\n",
    "3.6582920624318205\n",
    "-0.60924205632057\n",
    "-7.987603778095661\n",
    "# Winter\n",
    "max 86.20082585269257\n",
    "mean -1.2975239753438004\n",
    "min -72.2704656689445\n",
    "# Spring\n",
    "max 105.3171715844019\n",
    "mean 0.45452345513755577\n",
    "min -27.291586430087378"
   ]
  },
  {
   "cell_type": "code",
   "execution_count": null,
   "metadata": {},
   "outputs": [],
   "source": []
  }
 ],
 "metadata": {
  "kernelspec": {
   "display_name": "Python 3",
   "language": "python",
   "name": "python3"
  },
  "language_info": {
   "codemirror_mode": {
    "name": "ipython",
    "version": 3
   },
   "file_extension": ".py",
   "mimetype": "text/x-python",
   "name": "python",
   "nbconvert_exporter": "python",
   "pygments_lexer": "ipython3",
   "version": "3.7.1"
  }
 },
 "nbformat": 4,
 "nbformat_minor": 2
}
