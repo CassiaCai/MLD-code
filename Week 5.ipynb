{
 "cells": [
  {
   "cell_type": "markdown",
   "metadata": {},
   "source": [
    "### Import all necessary packages"
   ]
  },
  {
   "cell_type": "code",
   "execution_count": 1,
   "metadata": {},
   "outputs": [],
   "source": [
    "import matplotlib.pyplot as plt; import numpy as np; import netCDF4; from netCDF4 import Dataset\n",
    "import pandas as pd; import numpy.ma as ma; import time as timeit; import os; import math\n",
    "import itertools; import scipy.io; import mat73; import collections\n",
    "import cartopy; import cartopy.crs as ccrs\n",
    "from cartopy.mpl.gridliner import LONGITUDE_FORMATTER, LATITUDE_FORMATTER\n",
    "from matplotlib.ticker import FuncFormatter\n",
    "from matplotlib.ticker import AutoMinorLocator; from matplotlib.ticker import FixedLocator\n",
    "from shapely.geometry import Point\n",
    "from shapely.geometry.polygon import Polygon\n",
    "%matplotlib inline\n",
    "import statistics; import xarray as xr"
   ]
  },
  {
   "cell_type": "markdown",
   "metadata": {},
   "source": [
    "### Find mixed level depth using 0.2°C change as threshold (general region)"
   ]
  },
  {
   "cell_type": "code",
   "execution_count": 466,
   "metadata": {
    "scrolled": true
   },
   "outputs": [],
   "source": [
    "counter = []\n",
    "for year in range(2019,2020):\n",
    "    filename = 'casts_{}.mat'.format(year)\n",
    "    file = scipy.io.loadmat(filename,squeeze_me=True)\n",
    "    npfile = file['casts_{}'.format(year)]\n",
    "        \n",
    "    for i in range(len(npfile)):\n",
    "        yd = npfile[i]['yd']\n",
    "        p = npfile[i]['p']\n",
    "        s = npfile[i]['s']\n",
    "        t = npfile[i]['t']\n",
    "        lat = npfile[i]['lat']\n",
    "        lon = npfile[i]['lon']\n",
    "        floordepth = npfile[i]['depth']\n",
    "#         if yd <= 31: #273 to 304 Try very small range\n",
    "#         if yd > 243 and yd <= 334:\n",
    "        if yd > 334 and yd <= 365 or yd >= 0 and yd <= 59:\n",
    "#         if yd > 243 and yd <= 334: # Can try seasons / months\n",
    "            print('day:',yd, '---', 'lon:',lon, '---','lat:',lat)\n",
    "            print('floor depth:              ', floordepth)\n",
    "            df_pts = pd.DataFrame({'p':p,'t':t})\n",
    "            df_ptsnew = df_pts.dropna()\n",
    "            df_final = pd.DataFrame(df_ptsnew.values) # 0 is pressure, 1 is temperature\n",
    "#             l=[i for i in df_final[0] if i<=6] \n",
    "            l=[i for i in df_final[0] if i<=2]\n",
    "            if len(l) > 0:\n",
    "                surfaceval = []\n",
    "                numrange = []\n",
    "                for ii in range(len(l)):\n",
    "                    val = df_final[1][ii]\n",
    "                    numrange.append(ii)\n",
    "                    surfaceval.append(val)\n",
    "            surfacevalmean = statistics.mean(surfaceval)\n",
    "            print('surfacetemp avg:          ', surfacevalmean)\n",
    "            tempfin = []\n",
    "            pressurefin = []\n",
    "            for iii in range(numrange[-1],len(df_final)):\n",
    "                tempfin.append(df_final[1][iii])\n",
    "                pressurefin.append(df_final[0][iii])\n",
    "            d = {'temp': list(reversed(tempfin)), 'pressure': list(reversed(pressurefin))}\n",
    "            dffin = pd.DataFrame(d)\n",
    "            pnew = []\n",
    "            for i in range(len(dffin)):\n",
    "                b = dffin.at[i,'temp']\n",
    "                if b <= (surfacevalmean + 0.2) and b >= (surfacevalmean - 0.2):\n",
    "                    print('temperature at depth:     ',b)\n",
    "                    print('depth:                    ',dffin.at[i,'pressure'])\n",
    "                    if dffin.at[i,'pressure'] >= floordepth - 6:\n",
    "                        print('ALL MIXED')\n",
    "                        counter.append(i)\n",
    "#                         plt.style.use('seaborn-white')  \n",
    "#                         plt.plot(df_final[1],df_final[0]*-1,color='blue')\n",
    "#                         plt.xlim([23, 25])\n",
    "#                         plt.axhline(y=dffin.at[i,'pressure']*-1, color='r', linestyle='--')\n",
    "# #                         plt.axhline(floordepth*-1, color='green', linestyle='--')\n",
    "#                         plt.xlabel('Temperature (°C)')\n",
    "#                         plt.ylabel('Pressure (m)')\n",
    "#                         plt.grid(False)\n",
    "#                         plt.show()\n",
    "                        print('----------------------------------------------')\n",
    "                    elif dffin.at[i,'pressure'] == df_final[0].iloc[-1]:\n",
    "                        print('INCONCLUSIVE')\n",
    "#                         plt.style.use('seaborn-white')  \n",
    "#                         plt.xlim([4.5, 5.5])\n",
    "#                         plt.plot(df_final[1],df_final[0]*-1,color='blue')\n",
    "#                         plt.axhline(floordepth*-1, color='green', linestyle='--')\n",
    "#                         plt.xlabel('Temperature (°C)')\n",
    "#                         plt.ylabel('Pressure (m)')\n",
    "#                         plt.grid(False)\n",
    "#                         plt.show()\n",
    "                        print('----------------------------------------------')\n",
    "                    else:\n",
    "                        if dffin.at[i,'pressure'] == 0:\n",
    "                            print('pass')\n",
    "#                             plt.style.use('seaborn-white')  \n",
    "#                             plt.plot(df_final[1],df_final[0]*-1,color='blue')\n",
    "#                             plt.axhline(y=0, color='r', linestyle='--')\n",
    "#                             plt.xlabel('Temperature (°C)')\n",
    "#                             plt.ylabel('Pressure (m)')\n",
    "#                             plt.grid(False)\n",
    "#                             plt.show()\n",
    "                            print('----------------------------------------------')\n",
    "                            pass\n",
    "                        else:\n",
    "                            pnew.append(dffin.at[i,'pressure'])\n",
    "                            if len(pnew) > 0:\n",
    "                                yplottable = pnew[0]*-1\n",
    "#                             plt.style.use('seaborn-white')  \n",
    "#                             plt.plot(df_final[1],df_final[0]*-1,color='blue')\n",
    "#                             plt.axhline(y=yplottable, color='r', linestyle='--')\n",
    "#                             plt.xlabel('Temperature (°C)')\n",
    "#                             plt.ylabel('Pressure (m)')\n",
    "#                             plt.grid(False)\n",
    "#                             plt.show()\n",
    "                            counter.append(i)\n",
    "                            print('----------------------------------------------')                        \n",
    "                    break"
   ]
  },
  {
   "cell_type": "code",
   "execution_count": 467,
   "metadata": {},
   "outputs": [
    {
     "name": "stdout",
     "output_type": "stream",
     "text": [
      "0\n"
     ]
    }
   ],
   "source": [
    "print(len(counter))"
   ]
  },
  {
   "cell_type": "code",
   "execution_count": 468,
   "metadata": {},
   "outputs": [],
   "source": [
    "sumwinter = 29 + 64 + 101 + 97 + 97 + 130 + 153 + 174 + 168 + 204 + 141 + 171 + 179 + 316 + 412 + 244 + 181 + 300 + 228 + 250 + 331 + 96 + 196 + 200 + 112 + 125 + 149 + 203 + 184 + 172 + 178 + 188 + 245 + 171 + 94 + 97 + 360"
   ]
  },
  {
   "cell_type": "code",
   "execution_count": 469,
   "metadata": {},
   "outputs": [
    {
     "name": "stdout",
     "output_type": "stream",
     "text": [
      "6740\n"
     ]
    }
   ],
   "source": [
    "print(sumwinter)"
   ]
  },
  {
   "cell_type": "code",
   "execution_count": 376,
   "metadata": {},
   "outputs": [],
   "source": [
    "sumfall = 187 + 216 + 173 + 195 + 76 + 66 + 102 + 271 + 243 + 176 + 101 + 129 + 209 + 495 + 412 + 507 + 451 + 246 + 360 + 320 + 412 + 432 + 524 + 597 + 434 + 530 + 37 + 606 + 590 + 585 + 664 + 616 + 707 + 659 + 582 + 466 + 525 + 491 + 318 + 201 + 244 + 360"
   ]
  },
  {
   "cell_type": "code",
   "execution_count": 377,
   "metadata": {},
   "outputs": [
    {
     "name": "stdout",
     "output_type": "stream",
     "text": [
      "15515\n"
     ]
    }
   ],
   "source": [
    "print(sumfall)"
   ]
  },
  {
   "cell_type": "code",
   "execution_count": 379,
   "metadata": {},
   "outputs": [
    {
     "name": "stdout",
     "output_type": "stream",
     "text": [
      "0.12630926906183126\n"
     ]
    }
   ],
   "source": [
    "print(1-(15515/17758))"
   ]
  },
  {
   "cell_type": "code",
   "execution_count": null,
   "metadata": {},
   "outputs": [],
   "source": []
  },
  {
   "cell_type": "code",
   "execution_count": null,
   "metadata": {},
   "outputs": [],
   "source": []
  },
  {
   "cell_type": "code",
   "execution_count": 266,
   "metadata": {},
   "outputs": [],
   "source": [
    "sumspring = 193 + 230 + 377 + 198 + 220 + 44 + 151 + 321 + 116 + 268 + 25 + 0 + 171 + 253 + 533 + 533 + 617 + 720 + 669 + 778 + 670 + 739 + 214 + 473 + 382 + 305 + 454 + 615 + 611 + 476 + 401 + 500 + 494 + 391 + 561 + 354 + 516 + 388 + 361 + 412 + 102 + 447"
   ]
  },
  {
   "cell_type": "code",
   "execution_count": 267,
   "metadata": {},
   "outputs": [
    {
     "name": "stdout",
     "output_type": "stream",
     "text": [
      "16283\n"
     ]
    }
   ],
   "source": [
    "print(sumspring)"
   ]
  },
  {
   "cell_type": "code",
   "execution_count": 268,
   "metadata": {},
   "outputs": [
    {
     "name": "stdout",
     "output_type": "stream",
     "text": [
      "0.8426309252742703\n"
     ]
    }
   ],
   "source": [
    "print(16283/19324)"
   ]
  },
  {
   "cell_type": "code",
   "execution_count": 269,
   "metadata": {},
   "outputs": [
    {
     "name": "stdout",
     "output_type": "stream",
     "text": [
      "0.1573690747257297\n"
     ]
    }
   ],
   "source": [
    "print(1-0.8426309252742703)"
   ]
  },
  {
   "cell_type": "code",
   "execution_count": 270,
   "metadata": {},
   "outputs": [
    {
     "name": "stdout",
     "output_type": "stream",
     "text": [
      "15.73690747257297\n"
     ]
    }
   ],
   "source": [
    "print(0.1573690747257297*100)"
   ]
  },
  {
   "cell_type": "code",
   "execution_count": null,
   "metadata": {},
   "outputs": [],
   "source": []
  }
 ],
 "metadata": {
  "kernelspec": {
   "display_name": "Python 3",
   "language": "python",
   "name": "python3"
  },
  "language_info": {
   "codemirror_mode": {
    "name": "ipython",
    "version": 3
   },
   "file_extension": ".py",
   "mimetype": "text/x-python",
   "name": "python",
   "nbconvert_exporter": "python",
   "pygments_lexer": "ipython3",
   "version": "3.7.1"
  }
 },
 "nbformat": 4,
 "nbformat_minor": 2
}
